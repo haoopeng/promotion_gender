{
 "cells": [
  {
   "cell_type": "code",
   "execution_count": 1,
   "metadata": {},
   "outputs": [],
   "source": [
    "import os\n",
    "import math\n",
    "import json\n",
    "import numpy as np\n",
    "import pandas as pd\n",
    "import seaborn as sns\n",
    "import matplotlib.colors\n",
    "import matplotlib.cm as cm\n",
    "import matplotlib.pyplot as plt\n",
    "import matplotlib.ticker as ticker\n",
    "from datetime import datetime"
   ]
  },
  {
   "cell_type": "code",
   "execution_count": 2,
   "metadata": {},
   "outputs": [],
   "source": [
    "Data_Root = '/home/haopeng/Data/Promotion/'"
   ]
  },
  {
   "cell_type": "code",
   "execution_count": 3,
   "metadata": {},
   "outputs": [],
   "source": [
    "CIs = {'90': 1.645, '95': 1.96, '99': 2.576}"
   ]
  },
  {
   "cell_type": "code",
   "execution_count": 4,
   "metadata": {},
   "outputs": [],
   "source": [
    "labels = ['Male', 'Female']"
   ]
  },
  {
   "cell_type": "code",
   "execution_count": 5,
   "metadata": {},
   "outputs": [],
   "source": [
    "colors = sns.color_palette()[:len(labels)]"
   ]
  },
  {
   "cell_type": "code",
   "execution_count": 6,
   "metadata": {},
   "outputs": [],
   "source": [
    "reg_data = pd.read_csv(Data_Root+\"reg_data_drop_missing.csv\", header=0, dtype={'matched_tid': str, 'matched_tid_retweet': str, 'matched_tid_original': str})\n"
   ]
  },
  {
   "cell_type": "code",
   "execution_count": 7,
   "metadata": {},
   "outputs": [
    {
     "data": {
      "text/plain": [
       "3073001"
      ]
     },
     "execution_count": 7,
     "metadata": {},
     "output_type": "execute_result"
    }
   ],
   "source": [
    "len(reg_data)"
   ]
  },
  {
   "cell_type": "code",
   "execution_count": 8,
   "metadata": {
    "scrolled": true
   },
   "outputs": [
    {
     "data": {
      "text/html": [
       "<div>\n",
       "<style scoped>\n",
       "    .dataframe tbody tr th:only-of-type {\n",
       "        vertical-align: middle;\n",
       "    }\n",
       "\n",
       "    .dataframe tbody tr th {\n",
       "        vertical-align: top;\n",
       "    }\n",
       "\n",
       "    .dataframe thead th {\n",
       "        text-align: right;\n",
       "    }\n",
       "</style>\n",
       "<table border=\"1\" class=\"dataframe\">\n",
       "  <thead>\n",
       "    <tr style=\"text-align: right;\">\n",
       "      <th></th>\n",
       "      <th>doi</th>\n",
       "      <th>author_name</th>\n",
       "      <th>authorship_seq</th>\n",
       "      <th>authorship_pos</th>\n",
       "      <th>author_id</th>\n",
       "      <th>affiliation_ids</th>\n",
       "      <th>self_promotion_original</th>\n",
       "      <th>gender</th>\n",
       "      <th>num_authors</th>\n",
       "      <th>author_rank</th>\n",
       "      <th>...</th>\n",
       "      <th>author_self_promotion_rate</th>\n",
       "      <th>matched_tid_original</th>\n",
       "      <th>matched_tid_retweet</th>\n",
       "      <th>matched_tid</th>\n",
       "      <th>total_num_tweets</th>\n",
       "      <th>self_promo_position</th>\n",
       "      <th>self_promo_position_frac</th>\n",
       "      <th>matched_tid_follower_cn</th>\n",
       "      <th>self_promo_time</th>\n",
       "      <th>self_promotion_def</th>\n",
       "    </tr>\n",
       "  </thead>\n",
       "  <tbody>\n",
       "    <tr>\n",
       "      <th>0</th>\n",
       "      <td>10.1109/tmag.2017.2750019</td>\n",
       "      <td>Daniel S. Gazzana</td>\n",
       "      <td>1</td>\n",
       "      <td>first_position</td>\n",
       "      <td>2040190777</td>\n",
       "      <td>130442723</td>\n",
       "      <td>False</td>\n",
       "      <td>Male</td>\n",
       "      <td>6</td>\n",
       "      <td>16859</td>\n",
       "      <td>...</td>\n",
       "      <td>0.0</td>\n",
       "      <td>NaN</td>\n",
       "      <td>NaN</td>\n",
       "      <td>NaN</td>\n",
       "      <td>0</td>\n",
       "      <td>-1</td>\n",
       "      <td>-1.0</td>\n",
       "      <td>-1</td>\n",
       "      <td>-1.0</td>\n",
       "      <td>False</td>\n",
       "    </tr>\n",
       "    <tr>\n",
       "      <th>1</th>\n",
       "      <td>10.1109/tmag.2017.2750019</td>\n",
       "      <td>Arturo S. Bretas</td>\n",
       "      <td>4</td>\n",
       "      <td>middle_position</td>\n",
       "      <td>2115308334</td>\n",
       "      <td>130442723</td>\n",
       "      <td>False</td>\n",
       "      <td>Male</td>\n",
       "      <td>6</td>\n",
       "      <td>15192</td>\n",
       "      <td>...</td>\n",
       "      <td>0.0</td>\n",
       "      <td>NaN</td>\n",
       "      <td>NaN</td>\n",
       "      <td>NaN</td>\n",
       "      <td>0</td>\n",
       "      <td>-1</td>\n",
       "      <td>-1.0</td>\n",
       "      <td>-1</td>\n",
       "      <td>-1.0</td>\n",
       "      <td>False</td>\n",
       "    </tr>\n",
       "    <tr>\n",
       "      <th>2</th>\n",
       "      <td>10.1109/tmag.2017.2750019</td>\n",
       "      <td>Roberto C. Leborgne</td>\n",
       "      <td>3</td>\n",
       "      <td>middle_position</td>\n",
       "      <td>2145772920</td>\n",
       "      <td>130442723</td>\n",
       "      <td>False</td>\n",
       "      <td>Male</td>\n",
       "      <td>6</td>\n",
       "      <td>16228</td>\n",
       "      <td>...</td>\n",
       "      <td>0.5</td>\n",
       "      <td>NaN</td>\n",
       "      <td>NaN</td>\n",
       "      <td>NaN</td>\n",
       "      <td>0</td>\n",
       "      <td>-1</td>\n",
       "      <td>-1.0</td>\n",
       "      <td>-1</td>\n",
       "      <td>-1.0</td>\n",
       "      <td>False</td>\n",
       "    </tr>\n",
       "  </tbody>\n",
       "</table>\n",
       "<p>3 rows × 63 columns</p>\n",
       "</div>"
      ],
      "text/plain": [
       "                         doi          author_name  authorship_seq  \\\n",
       "0  10.1109/tmag.2017.2750019    Daniel S. Gazzana               1   \n",
       "1  10.1109/tmag.2017.2750019     Arturo S. Bretas               4   \n",
       "2  10.1109/tmag.2017.2750019  Roberto C. Leborgne               3   \n",
       "\n",
       "    authorship_pos   author_id affiliation_ids  self_promotion_original  \\\n",
       "0   first_position  2040190777       130442723                    False   \n",
       "1  middle_position  2115308334       130442723                    False   \n",
       "2  middle_position  2145772920       130442723                    False   \n",
       "\n",
       "  gender  num_authors  author_rank  ... author_self_promotion_rate  \\\n",
       "0   Male            6        16859  ...                        0.0   \n",
       "1   Male            6        15192  ...                        0.0   \n",
       "2   Male            6        16228  ...                        0.5   \n",
       "\n",
       "  matched_tid_original  matched_tid_retweet matched_tid  total_num_tweets  \\\n",
       "0                  NaN                  NaN         NaN                 0   \n",
       "1                  NaN                  NaN         NaN                 0   \n",
       "2                  NaN                  NaN         NaN                 0   \n",
       "\n",
       "  self_promo_position  self_promo_position_frac  matched_tid_follower_cn  \\\n",
       "0                  -1                      -1.0                       -1   \n",
       "1                  -1                      -1.0                       -1   \n",
       "2                  -1                      -1.0                       -1   \n",
       "\n",
       "   self_promo_time  self_promotion_def  \n",
       "0             -1.0               False  \n",
       "1             -1.0               False  \n",
       "2             -1.0               False  \n",
       "\n",
       "[3 rows x 63 columns]"
      ]
     },
     "execution_count": 8,
     "metadata": {},
     "output_type": "execute_result"
    }
   ],
   "source": [
    "reg_data.head(n=3)"
   ]
  },
  {
   "cell_type": "code",
   "execution_count": 9,
   "metadata": {},
   "outputs": [
    {
     "data": {
      "text/plain": [
       "34229"
      ]
     },
     "execution_count": 9,
     "metadata": {},
     "output_type": "execute_result"
    }
   ],
   "source": [
    "np.sum(reg_data.num_authors == 1)\n",
    "# np.sum(reg_data.authorship_pos == 'solo_author')"
   ]
  },
  {
   "cell_type": "code",
   "execution_count": 10,
   "metadata": {
    "scrolled": false
   },
   "outputs": [
    {
     "data": {
      "text/plain": [
       "Male       1519585\n",
       "Female      860513\n",
       "Unknown     516230\n",
       "Unisex      176673\n",
       "Name: gender, dtype: int64"
      ]
     },
     "execution_count": 10,
     "metadata": {},
     "output_type": "execute_result"
    }
   ],
   "source": [
    "reg_data.gender.value_counts()"
   ]
  },
  {
   "cell_type": "code",
   "execution_count": 11,
   "metadata": {
    "scrolled": false
   },
   "outputs": [
    {
     "data": {
      "text/plain": [
       "Male       0.494495\n",
       "Female     0.280024\n",
       "Unknown    0.167989\n",
       "Unisex     0.057492\n",
       "Name: gender, dtype: float64"
      ]
     },
     "execution_count": 11,
     "metadata": {},
     "output_type": "execute_result"
    }
   ],
   "source": [
    "reg_data.gender.value_counts()/len(reg_data)"
   ]
  },
  {
   "cell_type": "markdown",
   "metadata": {},
   "source": [
    "### Exclude unisex and unknown"
   ]
  },
  {
   "cell_type": "code",
   "execution_count": 12,
   "metadata": {},
   "outputs": [],
   "source": [
    "reg_data = reg_data.loc[reg_data['gender'].isin(['Female', 'Male'])]\n",
    "reg_data.index = range(len(reg_data))"
   ]
  },
  {
   "cell_type": "code",
   "execution_count": 13,
   "metadata": {},
   "outputs": [
    {
     "data": {
      "text/plain": [
       "2380098"
      ]
     },
     "execution_count": 13,
     "metadata": {},
     "output_type": "execute_result"
    }
   ],
   "source": [
    "len(reg_data)"
   ]
  },
  {
   "cell_type": "markdown",
   "metadata": {},
   "source": [
    "### Exclude unknown affiliation locations"
   ]
  },
  {
   "cell_type": "code",
   "execution_count": 14,
   "metadata": {
    "scrolled": false
   },
   "outputs": [
    {
     "data": {
      "text/plain": [
       "0"
      ]
     },
     "execution_count": 14,
     "metadata": {},
     "output_type": "execute_result"
    }
   ],
   "source": [
    "len(reg_data.loc[reg_data.affiliation_ids.isnull()])"
   ]
  },
  {
   "cell_type": "code",
   "execution_count": 15,
   "metadata": {
    "scrolled": true
   },
   "outputs": [
    {
     "data": {
      "text/plain": [
       "4679"
      ]
     },
     "execution_count": 15,
     "metadata": {},
     "output_type": "execute_result"
    }
   ],
   "source": [
    "len(reg_data.loc[reg_data.affiliation_cate=='unknown'])"
   ]
  },
  {
   "cell_type": "code",
   "execution_count": 16,
   "metadata": {},
   "outputs": [],
   "source": [
    "reg_data = reg_data.loc[reg_data.affiliation_cate != 'unknown']\n",
    "reg_data.index = range(len(reg_data))"
   ]
  },
  {
   "cell_type": "code",
   "execution_count": 17,
   "metadata": {},
   "outputs": [
    {
     "data": {
      "text/plain": [
       "2375419"
      ]
     },
     "execution_count": 17,
     "metadata": {},
     "output_type": "execute_result"
    }
   ],
   "source": [
    "len(reg_data)"
   ]
  },
  {
   "cell_type": "code",
   "execution_count": 18,
   "metadata": {},
   "outputs": [
    {
     "data": {
      "text/plain": [
       "539345"
      ]
     },
     "execution_count": 18,
     "metadata": {},
     "output_type": "execute_result"
    }
   ],
   "source": [
    "len(set(reg_data.doi))"
   ]
  },
  {
   "cell_type": "markdown",
   "metadata": {},
   "source": [
    "### Author-level: histogram of self-promotion rate per author"
   ]
  },
  {
   "cell_type": "code",
   "execution_count": 80,
   "metadata": {},
   "outputs": [
    {
     "data": {
      "text/plain": [
       "1335603"
      ]
     },
     "execution_count": 80,
     "metadata": {},
     "output_type": "execute_result"
    }
   ],
   "source": [
    "len(set(reg_data.author_id))"
   ]
  },
  {
   "cell_type": "code",
   "execution_count": 81,
   "metadata": {},
   "outputs": [
    {
     "name": "stdout",
     "output_type": "stream",
     "text": [
      "Female 0.41343423157929415\n",
      "Male 0.5955055506763611\n"
     ]
    }
   ],
   "source": [
    "# gender distribution of all authors\n",
    "for gender, sub_df in reg_data.groupby('gender'):\n",
    "    n = len(set(sub_df['author_id']))\n",
    "    print(gender, n/len(set(reg_data.author_id)))"
   ]
  },
  {
   "cell_type": "code",
   "execution_count": 21,
   "metadata": {},
   "outputs": [
    {
     "data": {
      "image/png": "[encoded data removed]",
      "text/plain": [
       "<Figure size 216x180 with 1 Axes>"
      ]
     },
     "metadata": {
      "needs_background": "light"
     },
     "output_type": "display_data"
    }
   ],
   "source": [
    "fig, ax = plt.subplots(figsize = (3, 2.5))\n",
    "\n",
    "for gender, color in zip(labels, colors):\n",
    "    sub_df = reg_data.loc[reg_data['gender'] == gender, ['author_id', 'author_self_promotion_rate']]\n",
    "    sub_df = sub_df.drop_duplicates()\n",
    "    n = len(sub_df)\n",
    "    ax.hist(sub_df['author_self_promotion_rate'].tolist(), bins = 4, alpha=1, linewidth=1.5, \\\n",
    "            color=color, label=gender, histtype='step', weights=np.ones(n)/n)\n",
    "# ax.set_ylabel('Number of authors')\n",
    "ax.set_ylabel('Fraction of authors')\n",
    "ax.set_xlabel(\"Author's rate of self-promotion\")\n",
    "ax.set_yscale('log')\n",
    "legend = ax.legend(loc=[0.55, 0.7], numpoints=2, labelspacing = 0.15, shadow=False, frameon = False)\n",
    "plt.show()\n",
    "fig.savefig('gender_rate_hist_all_authors.pdf', bbox_inches='tight', pad_inches=0.02)"
   ]
  },
  {
   "cell_type": "code",
   "execution_count": 22,
   "metadata": {},
   "outputs": [
    {
     "data": {
      "image/png": "[encoded data removed]",
      "text/plain": [
       "<Figure size 216x180 with 1 Axes>"
      ]
     },
     "metadata": {
      "needs_background": "light"
     },
     "output_type": "display_data"
    }
   ],
   "source": [
    "fig, ax = plt.subplots(figsize = (3, 2.5))\n",
    "\n",
    "for gender, color in zip(labels, colors):\n",
    "    mask = (reg_data['gender'] == gender) & (reg_data['author_num_papers_in_data'] >= 5)\n",
    "    sub_df = reg_data.loc[mask, ['author_id', 'author_self_promotion_rate']]\n",
    "    sub_df = sub_df.drop_duplicates()\n",
    "    n = len(sub_df)\n",
    "    ax.hist(sub_df['author_self_promotion_rate'].tolist(), bins = 4, alpha=1, linewidth=1.5, \\\n",
    "            color=color, label=gender, histtype='step', weights=np.ones(n)/n)\n",
    "# ax.set_ylabel('Number of authors')\n",
    "ax.set_ylabel('Fraction of authors')\n",
    "ax.set_xlabel(\"Author's rate of self-promotion\")\n",
    "ax.set_yscale('log')\n",
    "legend = ax.legend(loc=[0.55, 0.7], numpoints=2, labelspacing = 0.15, shadow=False, frameon = False)\n",
    "plt.show()\n",
    "fig.savefig('gender_rate_hist_authors_5.pdf', bbox_inches='tight', pad_inches=0.02)"
   ]
  },
  {
   "cell_type": "markdown",
   "metadata": {},
   "source": [
    "### (paper, author) level"
   ]
  },
  {
   "cell_type": "code",
   "execution_count": 78,
   "metadata": {
    "scrolled": false
   },
   "outputs": [
    {
     "data": {
      "text/plain": [
       "Male      0.638456\n",
       "Female    0.361544\n",
       "Name: gender, dtype: float64"
      ]
     },
     "execution_count": 78,
     "metadata": {},
     "output_type": "execute_result"
    }
   ],
   "source": [
    "reg_data.gender.value_counts()/len(reg_data)"
   ]
  },
  {
   "cell_type": "code",
   "execution_count": 23,
   "metadata": {},
   "outputs": [
    {
     "data": {
      "text/plain": [
       "0.0730793177961446"
      ]
     },
     "execution_count": 23,
     "metadata": {},
     "output_type": "execute_result"
    }
   ],
   "source": [
    "np.mean(reg_data.self_promotion)"
   ]
  },
  {
   "cell_type": "code",
   "execution_count": 24,
   "metadata": {
    "scrolled": true
   },
   "outputs": [
    {
     "name": "stdout",
     "output_type": "stream",
     "text": [
      "Female 0.06389006298183901\n",
      "Male 0.07828300145061322\n"
     ]
    }
   ],
   "source": [
    "for gender, group in reg_data.groupby('gender'):\n",
    "    print(gender, np.mean(group.self_promotion))"
   ]
  },
  {
   "cell_type": "code",
   "execution_count": 25,
   "metadata": {},
   "outputs": [
    {
     "name": "stdout",
     "output_type": "stream",
     "text": [
      "Female 0.04219631843263831\n",
      "Male 0.053296188843465646\n"
     ]
    }
   ],
   "source": [
    "for gender, group in reg_data.groupby('gender'):\n",
    "    print(gender, np.mean(group.self_promotion_original))"
   ]
  },
  {
   "cell_type": "code",
   "execution_count": 26,
   "metadata": {},
   "outputs": [
    {
     "name": "stdout",
     "output_type": "stream",
     "text": [
      "Female 0.034889773048803065\n",
      "Male 0.04243439272055915\n"
     ]
    }
   ],
   "source": [
    "for gender, group in reg_data.groupby('gender'):\n",
    "    print(gender, np.mean(group.self_promotion_retweet))"
   ]
  },
  {
   "cell_type": "code",
   "execution_count": 27,
   "metadata": {},
   "outputs": [
    {
     "data": {
      "image/png": "[encoded data removed]",
      "text/plain": [
       "<Figure size 158.4x180 with 1 Axes>"
      ]
     },
     "metadata": {
      "needs_background": "light"
     },
     "output_type": "display_data"
    }
   ],
   "source": [
    "fig, ax = plt.subplots(nrows=1, ncols=1, figsize=(2.2, 2.5))\n",
    "\n",
    "s = 3 # markersize\n",
    "lw = 1.5 # linewidth\n",
    "xpos = [0, 1]\n",
    "\n",
    "ys = [np.mean(reg_data.loc[reg_data.gender==gen]['self_promotion']) * 100 for gen in labels]\n",
    "stds = [np.std(reg_data.loc[reg_data.gender==gen]['self_promotion']) * 100 for gen in labels]\n",
    "lilen = [len(reg_data.loc[reg_data.gender==gen]) for gen in labels]\n",
    "\n",
    "barlist = ax.bar(xpos, ys, yerr = CIs['95']*(stds/np.sqrt(lilen)), width = 0.5, alpha = 1.0, capsize = 5)\n",
    "barlist[0].set_color(colors[0])\n",
    "barlist[1].set_color(colors[1])\n",
    "\n",
    "ax.set_ylabel('Percentage of self-promotion')\n",
    "ax.set_xticks(xpos)\n",
    "ax.set_xticklabels(labels)\n",
    "ax.yaxis.grid(False)\n",
    "# ax.ticklabel_format(axis='y', style='sci', scilimits=(2, 2))\n",
    "# ax.yaxis.major.formatter._useMathText = True\n",
    "    \n",
    "plt.show()\n",
    "fig.savefig('./perc_promo_gender.pdf', bbox_inches='tight', pad_inches=0.02)"
   ]
  },
  {
   "cell_type": "markdown",
   "metadata": {},
   "source": [
    "Author position"
   ]
  },
  {
   "cell_type": "code",
   "execution_count": 19,
   "metadata": {},
   "outputs": [],
   "source": [
    "name_pos = {'first_position': 'First Position', 'middle_position': 'Middle Position', 'last_position': 'Last Position'}"
   ]
  },
  {
   "cell_type": "code",
   "execution_count": 20,
   "metadata": {
    "scrolled": true
   },
   "outputs": [
    {
     "name": "stdout",
     "output_type": "stream",
     "text": [
      "first_position\n",
      "last_position\n",
      "middle_position\n"
     ]
    }
   ],
   "source": [
    "means = [[], []]\n",
    "confs = [[], []]\n",
    "aut_pos = []\n",
    "for pos, subgp in reg_data.groupby('authorship_pos'):\n",
    "    if pos != 'solo_author':\n",
    "        print(pos)\n",
    "        aut_pos.append(pos)\n",
    "        for i, gen in enumerate(labels):\n",
    "            gp = subgp.loc[subgp.gender==gen]\n",
    "            means[i].append(np.mean(gp['self_promotion']) * 100)\n",
    "            sigma = np.std(gp['self_promotion']) * 100\n",
    "            confs[i].append(CIs['95']*(sigma/np.sqrt(len(gp))))"
   ]
  },
  {
   "cell_type": "code",
   "execution_count": 21,
   "metadata": {},
   "outputs": [
    {
     "data": {
      "text/plain": [
       "[[12.974235793491495, 10.751648851489652, 5.766091692433255],\n",
       " [10.940853346959631, 9.596752957841117, 4.279071205091131]]"
      ]
     },
     "execution_count": 21,
     "metadata": {},
     "output_type": "execute_result"
    }
   ],
   "source": [
    "means"
   ]
  },
  {
   "cell_type": "code",
   "execution_count": 30,
   "metadata": {},
   "outputs": [
    {
     "data": {
      "image/png": "[encoded data removed]",
      "text/plain": [
       "<Figure size 259.2x180 with 1 Axes>"
      ]
     },
     "metadata": {
      "needs_background": "light"
     },
     "output_type": "display_data"
    }
   ],
   "source": [
    "step = 4\n",
    "ys_1 = 0.9 + np.arange(3) * step\n",
    "ys_2 = 2.1 + np.arange(3) * step\n",
    "y_pos = 1.5 + np.arange(3) * step\n",
    "\n",
    "fig, ax = plt.subplots(figsize = (3.6, 2.5))\n",
    "\n",
    "ax.barh(ys_1, width = means[0], height=1, xerr = confs[0], alpha = 1.0, capsize = 3, color=colors[0], label='Male')\n",
    "ax.barh(ys_2, width = means[1], height=1, xerr = confs[1], alpha = 1.0, capsize = 3, color=colors[1], label='Female')\n",
    "\n",
    "legend = ax.legend(loc=[0.45, 0.7], numpoints=1, labelspacing = 0.15, shadow=False, frameon = True)\n",
    "ax.set_yticks(y_pos)\n",
    "ax.set_yticklabels([name_pos[pos] for pos in aut_pos], rotation=0, ha='right')\n",
    "ax.set_xlabel('Percentage of self-promotion')\n",
    "ax.set_xlim([0, 18])\n",
    "plt.tight_layout()\n",
    "plt.show()\n",
    "fig.savefig('./perc_promo_gender_pos.pdf', bbox_inches='tight', pad_inches=0.02)\n"
   ]
  },
  {
   "cell_type": "markdown",
   "metadata": {},
   "source": [
    "Discipline"
   ]
  },
  {
   "cell_type": "code",
   "execution_count": 22,
   "metadata": {},
   "outputs": [],
   "source": [
    "name_map = {'Social Sciences': 'Social_Sciences',\n",
    "            'Life Sciences': 'Life_Sciences',\n",
    "            'Health Sciences': 'Health_Sciences',\n",
    "            'Physical Sciences': 'Physical_Sciences'}"
   ]
  },
  {
   "cell_type": "code",
   "execution_count": 23,
   "metadata": {},
   "outputs": [
    {
     "data": {
      "text/plain": [
       "17473"
      ]
     },
     "execution_count": 23,
     "metadata": {},
     "output_type": "execute_result"
    }
   ],
   "source": [
    "len(reg_data.loc[(reg_data['Social_Sciences'] == 1) & (reg_data['Life_Sciences'] == 1)])"
   ]
  },
  {
   "cell_type": "code",
   "execution_count": 24,
   "metadata": {
    "scrolled": true
   },
   "outputs": [
    {
     "name": "stdout",
     "output_type": "stream",
     "text": [
      "Social_Sciences 0.1347182140945255\n",
      "Life_Sciences 0.06901976773613025\n",
      "Health_Sciences 0.06328743624157933\n",
      "Physical_Sciences 0.05364903193981995\n"
     ]
    }
   ],
   "source": [
    "for disc in name_map.values():\n",
    "    sub_df = reg_data.loc[reg_data[disc] == 1]\n",
    "    print(disc, np.mean(sub_df.self_promotion))"
   ]
  },
  {
   "cell_type": "code",
   "execution_count": 25,
   "metadata": {},
   "outputs": [
    {
     "name": "stdout",
     "output_type": "stream",
     "text": [
      "Social Sciences\n",
      "Life Sciences\n",
      "Health Sciences\n",
      "Physical Sciences\n"
     ]
    }
   ],
   "source": [
    "means = [[], []]\n",
    "confs = [[], []]\n",
    "for disc in name_map:\n",
    "    print(disc)\n",
    "    subgp = reg_data.loc[reg_data[name_map[disc]] == 1]\n",
    "    for i, gen in enumerate(labels):\n",
    "        gp = subgp.loc[subgp.gender==gen]\n",
    "        means[i].append(np.mean(gp['self_promotion']) * 100)\n",
    "        sigma = np.std(gp['self_promotion']) * 100\n",
    "        confs[i].append(CIs['95']*(sigma/np.sqrt(len(gp))))"
   ]
  },
  {
   "cell_type": "code",
   "execution_count": 26,
   "metadata": {},
   "outputs": [
    {
     "data": {
      "text/plain": [
       "[[14.186851211072666, 7.922746860493074, 6.814878994939251, 5.474269320423167],\n",
       " [12.599704982517482, 5.317751912395769, 5.616804561040249, 5.063728667098726]]"
      ]
     },
     "execution_count": 26,
     "metadata": {},
     "output_type": "execute_result"
    }
   ],
   "source": [
    "means"
   ]
  },
  {
   "cell_type": "code",
   "execution_count": 35,
   "metadata": {},
   "outputs": [
    {
     "data": {
      "image/png": "[encoded data removed]",
      "text/plain": [
       "<Figure size 259.2x180 with 1 Axes>"
      ]
     },
     "metadata": {
      "needs_background": "light"
     },
     "output_type": "display_data"
    }
   ],
   "source": [
    "step = 2.5\n",
    "ys_1 = 1 + np.arange(4) * step\n",
    "ys_2 = 2 + np.arange(4) * step\n",
    "y_pos = 1.5 + np.arange(4) * step\n",
    "\n",
    "fig, ax = plt.subplots(figsize = (3.6, 2.5))\n",
    "\n",
    "#ax.errorbar(means[0], ys_1, xerr=confs[0], color=colors[0], alpha=1, fmt='o', markersize=3, linewidth=2, label='Male')\n",
    "#ax.errorbar(means[1], ys_2, xerr=confs[1], color=colors[1], alpha=1, fmt='o', markersize=3, linewidth=3, label='Female')\n",
    "ax.barh(ys_1, width = means[0], height=0.9, xerr = confs[0], alpha = 1.0, capsize = 3, color=colors[0], label='Male')\n",
    "ax.barh(ys_2, width = means[1], height=0.9, xerr = confs[1], alpha = 1.0, capsize = 3, color=colors[1], label='Female')\n",
    "\n",
    "legend = ax.legend(loc=[0.45, 0.7], numpoints=1, labelspacing = 0.15, shadow=False, frameon = True)\n",
    "ax.set_yticks(y_pos)\n",
    "ax.set_yticklabels([disc for disc in name_map], rotation=0, ha='right')\n",
    "ax.set_xlabel('Percentage of self-promotion')\n",
    "ax.set_xlim([0, 18])\n",
    "plt.tight_layout()\n",
    "plt.show()\n",
    "fig.savefig('./perc_promo_gender_disc.pdf', bbox_inches='tight', pad_inches=0.02)"
   ]
  },
  {
   "cell_type": "markdown",
   "metadata": {},
   "source": [
    "By journal impact"
   ]
  },
  {
   "cell_type": "code",
   "execution_count": 36,
   "metadata": {},
   "outputs": [],
   "source": [
    "gender_jif_rate = {'Male': {}, 'Female': {}}\n",
    "\n",
    "for gender in labels:\n",
    "    tem = reg_data.loc[reg_data.gender==gender, ['journal_impact', 'self_promotion']]\n",
    "    tem = tem.dropna()\n",
    "    tem['jif_bin'] = tem['journal_impact'].apply(lambda x: int(x//5))\n",
    "    for jif, sub_df in tem.groupby('jif_bin'):\n",
    "        mu = np.mean(sub_df['self_promotion'])\n",
    "        std = np.std(sub_df['self_promotion'])\n",
    "        n = len(sub_df)\n",
    "        gender_jif_rate[gender][jif] = (mu, std, n)"
   ]
  },
  {
   "cell_type": "code",
   "execution_count": 7,
   "metadata": {},
   "outputs": [],
   "source": [
    "# gender_jif_rate"
   ]
  },
  {
   "cell_type": "code",
   "execution_count": 37,
   "metadata": {
    "scrolled": false
   },
   "outputs": [
    {
     "data": {
      "image/png": "[encoded data removed]",
      "text/plain": [
       "<Figure size 252x201.6 with 1 Axes>"
      ]
     },
     "metadata": {
      "needs_background": "light"
     },
     "output_type": "display_data"
    }
   ],
   "source": [
    "nrows = 1\n",
    "ncols = 1\n",
    "fig, ax = plt.subplots(nrows=nrows, ncols=ncols, figsize=(3.5, 2.8))\n",
    "\n",
    "for i, gender, color in zip(range(len(labels)), labels, colors):\n",
    "    xs = list(range(9))\n",
    "    ys = []\n",
    "    confs = []\n",
    "    for j in xs:\n",
    "        mu, std, n = gender_jif_rate[gender][j]\n",
    "        ys.append(mu)\n",
    "        confs.append(CIs['95'] * std / np.sqrt(n))\n",
    "    ax.errorbar(xs, ys, yerr=confs, color=color, alpha=1, fmt='-o', markersize=2, linewidth=1.5, label=gender)\n",
    "    \n",
    "# ax.legend(bbox_to_anchor=(1, -0.03), loc='lower left', labelspacing = 1.05, frameon = True)\n",
    "legend = ax.legend(bbox_to_anchor=(0.05, 0.7), loc='lower left', numpoints=2, labelspacing = 0.15, shadow=False, frameon = True, markerscale = 1)\n",
    "# ax.margins(0,0)\n",
    "# ax.set_yticks([0.2, 0.4, 0.6, 0.8])\n",
    "ax.set_xticks([0, 1, 2, 3, 4, 5, 6, 7, 8])\n",
    "ax.set_xticklabels(['[0, 5)', '[5, 10)', '[10, 15)', '[15, 20)', '[20, 25)', '[25, 30)', '[30, 35)', '[35, 40)', \\\n",
    "                    '[40, 45)'])\n",
    "for tick in ax.get_xticklabels():\n",
    "    tick.set_ha('right')\n",
    "    tick.set_fontsize(8)\n",
    "    tick.set_rotation(30)\n",
    "ax.set_xlabel('Journal Impact Factor')\n",
    "ax.set_ylabel('Average self-promotion rate')\n",
    "\n",
    "# plt.tight_layout()\n",
    "plt.show()\n",
    "fig.savefig('./gender_jif_raw.pdf', bbox_inches='tight', pad_inches=0.01)"
   ]
  },
  {
   "cell_type": "markdown",
   "metadata": {},
   "source": [
    "By affiliation rank"
   ]
  },
  {
   "cell_type": "code",
   "execution_count": 38,
   "metadata": {},
   "outputs": [],
   "source": [
    "gender_affi_rate = {'Male': {}, 'Female': {}}\n",
    "\n",
    "for gender in labels:\n",
    "    tem = reg_data.loc[reg_data.gender==gender, ['affiliation_rank_cate', 'self_promotion']]\n",
    "    tem = tem.dropna()\n",
    "    # tem['affi_bin'] = tem['affiliation_rank'].apply(lambda x: int(x//2000))\n",
    "    for affi, sub_df in tem.groupby('affiliation_rank_cate'):\n",
    "        mu = np.mean(sub_df['self_promotion'])\n",
    "        std = np.std(sub_df['self_promotion'])\n",
    "        n = len(sub_df)\n",
    "        gender_affi_rate[gender][affi] = (mu, std, n)"
   ]
  },
  {
   "cell_type": "code",
   "execution_count": 36,
   "metadata": {},
   "outputs": [],
   "source": [
    "# gender_affi_rate"
   ]
  },
  {
   "cell_type": "code",
   "execution_count": 39,
   "metadata": {},
   "outputs": [
    {
     "data": {
      "image/png": "[encoded data removed]",
      "text/plain": [
       "<Figure size 252x201.6 with 1 Axes>"
      ]
     },
     "metadata": {
      "needs_background": "light"
     },
     "output_type": "display_data"
    }
   ],
   "source": [
    "nrows = 1\n",
    "ncols = 1\n",
    "fig, ax = plt.subplots(nrows=nrows, ncols=ncols, figsize=(3.5, 2.8))\n",
    "\n",
    "xs = [0, 1, 2, 3, 4, 5, 6, 7, 8, 9]\n",
    "\n",
    "for i, gender, color in zip(range(len(labels)), labels, colors):\n",
    "    ys = []\n",
    "    confs = []\n",
    "    for j in xs:\n",
    "        mu, std, n = gender_affi_rate[gender][j]\n",
    "        ys.append(mu)\n",
    "        confs.append(CIs['95'] * std / np.sqrt(n))\n",
    "    ax.errorbar(xs, ys, yerr=confs, color=color, alpha=1, fmt='-o', markersize=2, linewidth=1.5, label=gender)\n",
    "    \n",
    "# ax.legend(bbox_to_anchor=(1, -0.03), loc='lower left', labelspacing = 1.05, frameon = True)\n",
    "legend = ax.legend(bbox_to_anchor=(0.53, 0.7), loc='lower left', numpoints=2, labelspacing = 0.15, shadow=False, frameon = True, markerscale = 1)\n",
    "# ax.margins(0,0)\n",
    "# ax.set_yticks([0.2, 0.4, 0.6, 0.8])\n",
    "ax.set_xticks(xs)\n",
    "ax.set_xticklabels(list(range(1, 11)))\n",
    "# for tick in ax.get_xticklabels():\n",
    "#     tick.set_ha('right')\n",
    "#     tick.set_fontsize(8)\n",
    "#     tick.set_rotation(30)\n",
    "ax.set_xlabel('Affiliation rank category')\n",
    "ax.set_ylabel('Average self-promotion rate')\n",
    "\n",
    "# plt.tight_layout()\n",
    "plt.show()\n",
    "fig.savefig('./gender_affi_raw.pdf', bbox_inches='tight', pad_inches=0.01)\n"
   ]
  },
  {
   "cell_type": "markdown",
   "metadata": {},
   "source": [
    "By previous num. publications"
   ]
  },
  {
   "cell_type": "code",
   "execution_count": 40,
   "metadata": {},
   "outputs": [],
   "source": [
    "gender_pub_rate = {'Male': {}, 'Female': {}}\n",
    "\n",
    "for gender in labels:\n",
    "    tem = reg_data.loc[reg_data.gender==gender, ['author_pub_count_cate', 'self_promotion']]\n",
    "    tem = tem.dropna()\n",
    "    # tem['pub_bin'] = tem['author_pub_count'].apply(lambda x: int(x//10))\n",
    "    for pub, sub_df in tem.groupby('author_pub_count_cate'):\n",
    "        mu = np.mean(sub_df['self_promotion'])\n",
    "        std = np.std(sub_df['self_promotion'])\n",
    "        n = len(sub_df)\n",
    "        gender_pub_rate[gender][pub] = (mu, std, n)"
   ]
  },
  {
   "cell_type": "code",
   "execution_count": 39,
   "metadata": {},
   "outputs": [],
   "source": [
    "# gender_pub_rate"
   ]
  },
  {
   "cell_type": "code",
   "execution_count": 41,
   "metadata": {},
   "outputs": [
    {
     "data": {
      "image/png": "[encoded data removed]",
      "text/plain": [
       "<Figure size 252x201.6 with 1 Axes>"
      ]
     },
     "metadata": {
      "needs_background": "light"
     },
     "output_type": "display_data"
    }
   ],
   "source": [
    "nrows = 1\n",
    "ncols = 1\n",
    "fig, ax = plt.subplots(nrows=nrows, ncols=ncols, figsize=(3.5, 2.8))\n",
    "\n",
    "# xs = np.arange(0, 101, 10)\n",
    "xs = [0, 1, 2, 3, 4, 5, 6, 7, 8]\n",
    "\n",
    "for i, gender, color in zip(range(len(labels)), labels, colors):\n",
    "    ys = []\n",
    "    confs = []\n",
    "    for j in xs:\n",
    "        mu, std, n = gender_pub_rate[gender][j]\n",
    "        ys.append(mu)\n",
    "        confs.append(CIs['95'] * std / np.sqrt(n))\n",
    "    ax.errorbar(xs, ys, yerr=confs, color=color, alpha=1, fmt='-o', markersize=2, linewidth=1.5, label=gender)\n",
    "    \n",
    "# ax.legend(bbox_to_anchor=(1, -0.03), loc='lower left', labelspacing = 1.05, frameon = True)\n",
    "legend = ax.legend(bbox_to_anchor=(0.3, 0.1), loc='lower left', numpoints=2, labelspacing = 0.15, shadow=False, frameon = True, markerscale = 1)\n",
    "ax.set_xticks(xs)\n",
    "ax.set_xticklabels([3, 6, 13, 25, 44, 77, 136, 285, 4871])\n",
    "for tick in ax.get_xticklabels():\n",
    "    tick.set_ha('right')\n",
    "    tick.set_fontsize(8)\n",
    "    tick.set_rotation(15)\n",
    "ax.set_xlabel('Previous num. of publications category')\n",
    "ax.set_ylabel('Average self-promotion rate')\n",
    "\n",
    "# plt.tight_layout()\n",
    "plt.show()\n",
    "fig.savefig('./gender_pub_raw.pdf', bbox_inches='tight', pad_inches=0.01)\n"
   ]
  },
  {
   "cell_type": "markdown",
   "metadata": {},
   "source": [
    "By number of authors"
   ]
  },
  {
   "cell_type": "code",
   "execution_count": 42,
   "metadata": {},
   "outputs": [],
   "source": [
    "gender_aut_rate = {'Male': {}, 'Female': {}}\n",
    "\n",
    "for gender in labels:\n",
    "    tem = reg_data.loc[reg_data.gender==gender, ['num_authors', 'self_promotion']]\n",
    "    tem = tem.dropna()\n",
    "    for num, sub_df in tem.groupby('num_authors'):\n",
    "        mu = np.mean(sub_df['self_promotion'])\n",
    "        std = np.std(sub_df['self_promotion'])\n",
    "        n = len(sub_df)\n",
    "        gender_aut_rate[gender][num] = (mu, std, n)"
   ]
  },
  {
   "cell_type": "code",
   "execution_count": 43,
   "metadata": {},
   "outputs": [
    {
     "data": {
      "image/png": "[encoded data removed]",
      "text/plain": [
       "<Figure size 252x201.6 with 1 Axes>"
      ]
     },
     "metadata": {
      "needs_background": "light"
     },
     "output_type": "display_data"
    }
   ],
   "source": [
    "nrows = 1\n",
    "ncols = 1\n",
    "fig, ax = plt.subplots(nrows=nrows, ncols=ncols, figsize=(3.5, 2.8))\n",
    "\n",
    "for i, gender, color in zip(range(len(labels)), labels, colors):\n",
    "    xs = list(range(1, 50))\n",
    "    ys = []\n",
    "    confs = []\n",
    "    for j in xs:\n",
    "        mu, std, n = gender_aut_rate[gender][j]\n",
    "        ys.append(mu)\n",
    "        confs.append(CIs['95'] * std / np.sqrt(n))\n",
    "    ax.errorbar(xs, ys, yerr=confs, color=color, alpha=1, fmt='-o', markersize=2, linewidth=1.5, label=gender)\n",
    "    \n",
    "# ax.legend(bbox_to_anchor=(1, -0.03), loc='lower left', labelspacing = 1.05, frameon = True)\n",
    "legend = ax.legend(bbox_to_anchor=(0.05, 0.7), loc='lower left', numpoints=2, labelspacing = 0.15, shadow=False, frameon = True, markerscale = 1)\n",
    "# ax.set_xticks([0, 1, 2, 3, 4, 5, 6, 7, 8])\n",
    "ax.set_xlabel('Number of authors')\n",
    "ax.set_ylabel('Average self-promotion rate')\n",
    "\n",
    "# plt.tight_layout()\n",
    "plt.show()\n",
    "fig.savefig('./gender_num_aut_raw.pdf', bbox_inches='tight', pad_inches=0.01)"
   ]
  },
  {
   "cell_type": "markdown",
   "metadata": {},
   "source": [
    "### Paper-level"
   ]
  },
  {
   "cell_type": "code",
   "execution_count": 45,
   "metadata": {},
   "outputs": [],
   "source": [
    "# original and retweets\n",
    "tid_name = {}\n",
    "\n",
    "with open(Data_Root+'tweets_v2.json', 'r') as ifile:\n",
    "    for line in ifile:\n",
    "        line = json.loads(line)\n",
    "        tid = line['id_str']\n",
    "        tid_name[tid] = line['user']['name']\n",
    "        \n",
    "with open(Data_Root+'tweets_v2_non_full_text.json', 'r') as ifile:\n",
    "    for line in ifile:\n",
    "        line = json.loads(line)\n",
    "        tid = line['id_str']\n",
    "        tid_name[tid] = line['user']['name']"
   ]
  },
  {
   "cell_type": "code",
   "execution_count": 46,
   "metadata": {
    "scrolled": false
   },
   "outputs": [
    {
     "data": {
      "text/plain": [
       "77497304"
      ]
     },
     "execution_count": 46,
     "metadata": {},
     "output_type": "execute_result"
    }
   ],
   "source": [
    "len(tid_name)"
   ]
  },
  {
   "cell_type": "code",
   "execution_count": 47,
   "metadata": {},
   "outputs": [],
   "source": [
    "dois = set(reg_data.doi)\n",
    "\n",
    "doi_tids = {}\n",
    "with open(Data_Root+'papers_2018.json', 'r') as ifile:\n",
    "    for line in ifile:\n",
    "        res = json.loads(line)\n",
    "        if res['doi'] in dois:\n",
    "            doi_tids[res['doi']] = [tweet['tweet_id'] for tweet in res['data']['tweets'] if tweet['tweet_id'] in tid_name]\n",
    "del dois"
   ]
  },
  {
   "cell_type": "code",
   "execution_count": 48,
   "metadata": {},
   "outputs": [
    {
     "data": {
      "text/plain": [
       "539345"
      ]
     },
     "execution_count": 48,
     "metadata": {},
     "output_type": "execute_result"
    }
   ],
   "source": [
    "len(doi_tids)"
   ]
  },
  {
   "cell_type": "code",
   "execution_count": 49,
   "metadata": {},
   "outputs": [
    {
     "data": {
      "image/png": "[encoded data removed]",
      "text/plain": [
       "<Figure size 216x180 with 1 Axes>"
      ]
     },
     "metadata": {
      "needs_background": "light"
     },
     "output_type": "display_data"
    }
   ],
   "source": [
    "fig, ax = plt.subplots(figsize = (3, 2.5))\n",
    "\n",
    "ax.hist([len(doi_tids[doi]) for doi in doi_tids], bins = 30, color='k', alpha=1, linewidth=1.5, histtype='step')\n",
    "ax.set_ylabel('Number of papers')\n",
    "ax.set_xlabel('Number of tweet mentions')\n",
    "ax.set_yscale('log')\n",
    "ax.set_xscale('log')\n",
    "ax.set_xlim(right=1e4)\n",
    "# legend = ax.legend(loc=[0.55, 0.7], numpoints=2, labelspacing = 0.15, shadow=False, frameon = False)\n",
    "plt.show()\n",
    "fig.savefig('./paper_tweets_hist.pdf', bbox_inches='tight', pad_inches=0.02)"
   ]
  },
  {
   "cell_type": "markdown",
   "metadata": {},
   "source": [
    "Popularity"
   ]
  },
  {
   "cell_type": "code",
   "execution_count": 82,
   "metadata": {},
   "outputs": [],
   "source": [
    "doi_frac_self_promo = []\n",
    "for doi, sub_df in reg_data.groupby('doi'):\n",
    "    total = len(doi_tids[doi])\n",
    "    if total > 0:\n",
    "        promo_users = set([tid_name[str(tid)] for tid in sub_df.loc[sub_df.self_promotion == True]['matched_tid']])\n",
    "        num_self_promo = 0\n",
    "        for tid in doi_tids[doi]:\n",
    "            if tid_name[tid] in promo_users:\n",
    "                num_self_promo += 1\n",
    "        doi_frac_self_promo.append((doi, total, num_self_promo))"
   ]
  },
  {
   "cell_type": "code",
   "execution_count": 84,
   "metadata": {
    "scrolled": true
   },
   "outputs": [
    {
     "data": {
      "text/plain": [
       "443070"
      ]
     },
     "execution_count": 84,
     "metadata": {},
     "output_type": "execute_result"
    }
   ],
   "source": [
    "len(doi_frac_self_promo)"
   ]
  },
  {
   "cell_type": "code",
   "execution_count": 87,
   "metadata": {
    "scrolled": true
   },
   "outputs": [
    {
     "data": {
      "text/plain": [
       "0.05859992385390095"
      ]
     },
     "execution_count": 87,
     "metadata": {},
     "output_type": "execute_result"
    }
   ],
   "source": [
    "np.mean([num_self_promo/total for doi, total, num_self_promo in doi_frac_self_promo if total > 0])"
   ]
  },
  {
   "cell_type": "code",
   "execution_count": 88,
   "metadata": {
    "scrolled": true
   },
   "outputs": [
    {
     "name": "stdout",
     "output_type": "stream",
     "text": [
      "0 < x <= 10 0.05772640512807563 0.0\n",
      "10 < x <= 20 0.07032970279079655 0.0\n",
      "20 < x <= 30 0.066080408242367 0.038461538461538464\n",
      "30 < x <= 40 0.06059653906118459 0.030303030303030304\n",
      "40 < x <= 50 0.05574799518367108 0.023809523809523808\n",
      "50 < x <= 60 0.05473728407608104 0.034482758620689655\n",
      "60 < x <= 70 0.051349448980181234 0.030303030303030304\n",
      "70 < x <= 80 0.048113571664359187 0.02702702702702703\n",
      "80 < x <= 90 0.04652797232766643 0.024096385542168676\n",
      "90 < x <= 100 0.04647687199405394 0.02197802197802198\n",
      "100 < x <= 110 0.044037147547581 0.019801980198019802\n"
     ]
    }
   ],
   "source": [
    "for i in range(0, 101, 10):\n",
    "    tem = []\n",
    "    for doi, total, num_self_promo in doi_frac_self_promo:\n",
    "        if total > i and total <= (i+10):\n",
    "            tem.append(num_self_promo/total)\n",
    "    print(\"%d < x <= %d\"%(i, i+10), np.mean(tem), np.median(tem))"
   ]
  },
  {
   "cell_type": "code",
   "execution_count": 89,
   "metadata": {
    "scrolled": false
   },
   "outputs": [
    {
     "data": {
      "image/png": "[encoded data removed]",
      "text/plain": [
       "<Figure size 216x180 with 1 Axes>"
      ]
     },
     "metadata": {
      "needs_background": "light"
     },
     "output_type": "display_data"
    }
   ],
   "source": [
    "nrows = 1\n",
    "ncols = 1\n",
    "fig, ax = plt.subplots(nrows=nrows, ncols=ncols, figsize=(3, 2.5))\n",
    "\n",
    "\n",
    "xs, ys, confs = [], [], []\n",
    "\n",
    "step = 10\n",
    "for i in range(0, 91, step):\n",
    "    xs.append(i)\n",
    "    tem = []\n",
    "    for doi, total, num_self_promo in doi_frac_self_promo:\n",
    "        if total > i and total <= (i+step):\n",
    "            tem.append(num_self_promo/total)\n",
    "    ys.append(np.mean(tem))\n",
    "    confs.append(CIs['95'] * np.std(tem) / np.sqrt(len(tem)))\n",
    "                    \n",
    "ax.errorbar(xs, ys, yerr=confs, color='k', fmt='-o', markersize=2, linewidth=1.5)\n",
    "ax.set_yticks([0.01, 0.03, 0.05, 0.07, 0.09])\n",
    "ax.set_xticks(xs)\n",
    "ax.set_xticklabels(['(0, 10]', '(10, 20]', '(20, 30]', '(30, 40]', '(40, 50]', '(50, 60]', '(60, 70]', '(70, 80]', '(80, 90]', '(90, 100]'])\n",
    "for tick in ax.get_xticklabels():\n",
    "    tick.set_ha('right')\n",
    "    tick.set_fontsize(8)\n",
    "    tick.set_rotation(30)\n",
    "ax.set_xlabel('Number of tweet mentions')\n",
    "ax.set_ylabel('Avg. fraction of self-promotion')\n",
    "\n",
    "# plt.tight_layout()\n",
    "plt.show()\n",
    "fig.savefig('./avg_perc_promo_paper_tweets.pdf', bbox_inches='tight', pad_inches=0.01)\n"
   ]
  },
  {
   "cell_type": "markdown",
   "metadata": {},
   "source": [
    "Discipline"
   ]
  },
  {
   "cell_type": "code",
   "execution_count": 90,
   "metadata": {},
   "outputs": [],
   "source": [
    "name_map = {'Social Sciences': 'Social_Sciences',\n",
    "            'Life Sciences': 'Life_Sciences',\n",
    "            'Health Sciences': 'Health_Sciences',\n",
    "            'Physical Sciences': 'Physical_Sciences'}"
   ]
  },
  {
   "cell_type": "code",
   "execution_count": 91,
   "metadata": {},
   "outputs": [],
   "source": [
    "xs, ys, confs = [], [], []\n",
    "for disc in name_map:\n",
    "    tem = []\n",
    "    dois_ = set(reg_data.loc[reg_data[name_map[disc]] == 1]['doi'])\n",
    "    for doi, total, num_self_promo in doi_frac_self_promo:\n",
    "        if doi in dois_:\n",
    "            tem.append(num_self_promo/total)\n",
    "    xs.append(np.mean(tem))\n",
    "    ys.append(disc)\n",
    "    confs.append(CIs['95'] * np.std(tem) / np.sqrt(len(tem)))"
   ]
  },
  {
   "cell_type": "code",
   "execution_count": 92,
   "metadata": {},
   "outputs": [
    {
     "data": {
      "image/png": "[encoded data removed]",
      "text/plain": [
       "<Figure size 180x144 with 1 Axes>"
      ]
     },
     "metadata": {
      "needs_background": "light"
     },
     "output_type": "display_data"
    }
   ],
   "source": [
    "nrows = 1\n",
    "ncols = 1\n",
    "fig, ax = plt.subplots(nrows=nrows, ncols=ncols, figsize=(2.5, 2))\n",
    "ax.errorbar(xs, ys, xerr=confs, color='k', alpha=1, fmt='o', markersize=3, linewidth=3)\n",
    "ax.set_xlabel('Avg. frac. of self-promotion')\n",
    "plt.show()\n",
    "fig.savefig('./avg_perc_promo_paper_disc.pdf', bbox_inches='tight', pad_inches=0.01)"
   ]
  },
  {
   "cell_type": "code",
   "execution_count": null,
   "metadata": {},
   "outputs": [],
   "source": []
  }
 ],
 "metadata": {
  "kernelspec": {
   "display_name": "Python 3 (ipykernel)",
   "language": "python",
   "name": "python3"
  },
  "language_info": {
   "codemirror_mode": {
    "name": "ipython",
    "version": 3
   },
   "file_extension": ".py",
   "mimetype": "text/x-python",
   "name": "python",
   "nbconvert_exporter": "python",
   "pygments_lexer": "ipython3",
   "version": "3.7.10"
  }
 },
 "nbformat": 4,
 "nbformat_minor": 4
}
