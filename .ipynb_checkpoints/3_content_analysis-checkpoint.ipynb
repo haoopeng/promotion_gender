{
 "cells": [
  {
   "cell_type": "code",
   "execution_count": 87,
   "id": "9bd0bc0a",
   "metadata": {},
   "outputs": [],
   "source": [
    "import re\n",
    "import time\n",
    "import json\n",
    "import csv\n",
    "import random\n",
    "import requests\n",
    "import pprint\n",
    "import pickle\n",
    "import unidecode\n",
    "import numpy as np\n",
    "import pandas as pd\n",
    "from random import sample\n",
    "import reverse_geocode\n",
    "import seaborn as sns\n",
    "import scipy.stats as stat\n",
    "from sklearn import metrics\n",
    "from fuzzywuzzy import fuzz\n",
    "import matplotlib.pyplot as plt\n",
    "from collections import Counter\n",
    "from scipy.stats import chisquare\n",
    "from collections import Counter, defaultdict\n",
    "from sklearn.metrics import cohen_kappa_score\n",
    "from vaderSentiment.vaderSentiment import SentimentIntensityAnalyzer"
   ]
  },
  {
   "cell_type": "code",
   "execution_count": 5,
   "id": "41bdd9ce",
   "metadata": {},
   "outputs": [],
   "source": [
    "Data_Root = '/home/haopeng/Data/Promotion/'"
   ]
  },
  {
   "cell_type": "code",
   "execution_count": 6,
   "id": "d051246a",
   "metadata": {},
   "outputs": [],
   "source": [
    "def yield_one_line(filename, delimiter = '\\t', quote = csv.QUOTE_NONE):\n",
    "    '''a generator which produce one line of a given file'''\n",
    "    with open(filename, 'r') as file:\n",
    "        print('processing %s...' %(filename))\n",
    "        reader = csv.reader(file, delimiter=delimiter, quoting=quote)\n",
    "        for row in reader:\n",
    "            yield row"
   ]
  },
  {
   "cell_type": "code",
   "execution_count": 106,
   "id": "593f64ab",
   "metadata": {
    "scrolled": true
   },
   "outputs": [],
   "source": [
    "utype = {'author_id': str, 'matched_tid': 'str', 'matched_tid_original': 'str', 'matched_tid_retweet': 'str'}\n",
    "reg_data = pd.read_csv(Data_Root+\"reg_data_drop_missing.csv\", header=0, dtype=utype)"
   ]
  },
  {
   "cell_type": "code",
   "execution_count": 107,
   "id": "4ceac790",
   "metadata": {
    "scrolled": true
   },
   "outputs": [
    {
     "data": {
      "text/plain": [
       "3073001"
      ]
     },
     "execution_count": 107,
     "metadata": {},
     "output_type": "execute_result"
    }
   ],
   "source": [
    "len(reg_data)"
   ]
  },
  {
   "cell_type": "code",
   "execution_count": 108,
   "id": "6b75ca08",
   "metadata": {},
   "outputs": [],
   "source": [
    "# focus on Male and Female\n",
    "reg_data = reg_data.loc[reg_data['gender'].isin(['Female', 'Male'])]\n",
    "reg_data.index = range(len(reg_data))"
   ]
  },
  {
   "cell_type": "code",
   "execution_count": 109,
   "id": "b4620dc4",
   "metadata": {},
   "outputs": [
    {
     "data": {
      "text/plain": [
       "2380098"
      ]
     },
     "execution_count": 109,
     "metadata": {},
     "output_type": "execute_result"
    }
   ],
   "source": [
    "len(reg_data)"
   ]
  },
  {
   "cell_type": "code",
   "execution_count": 112,
   "id": "5be5b2b3",
   "metadata": {},
   "outputs": [],
   "source": [
    "reg_data = reg_data.loc[reg_data['affiliation_cate'] != 'unknown']\n",
    "reg_data.index = range(len(reg_data))"
   ]
  },
  {
   "cell_type": "code",
   "execution_count": 114,
   "id": "8520197d",
   "metadata": {
    "scrolled": false
   },
   "outputs": [
    {
     "data": {
      "text/plain": [
       "2375419"
      ]
     },
     "execution_count": 114,
     "metadata": {},
     "output_type": "execute_result"
    }
   ],
   "source": [
    "len(reg_data)"
   ]
  },
  {
   "cell_type": "code",
   "execution_count": 115,
   "id": "0d8b984f",
   "metadata": {},
   "outputs": [
    {
     "data": {
      "text/html": [
       "<div>\n",
       "<style scoped>\n",
       "    .dataframe tbody tr th:only-of-type {\n",
       "        vertical-align: middle;\n",
       "    }\n",
       "\n",
       "    .dataframe tbody tr th {\n",
       "        vertical-align: top;\n",
       "    }\n",
       "\n",
       "    .dataframe thead th {\n",
       "        text-align: right;\n",
       "    }\n",
       "</style>\n",
       "<table border=\"1\" class=\"dataframe\">\n",
       "  <thead>\n",
       "    <tr style=\"text-align: right;\">\n",
       "      <th></th>\n",
       "      <th>doi</th>\n",
       "      <th>author_name</th>\n",
       "      <th>authorship_seq</th>\n",
       "      <th>authorship_pos</th>\n",
       "      <th>author_id</th>\n",
       "      <th>affiliation_ids</th>\n",
       "      <th>self_promotion_original</th>\n",
       "      <th>gender</th>\n",
       "      <th>num_authors</th>\n",
       "      <th>author_rank</th>\n",
       "      <th>...</th>\n",
       "      <th>self_promotion_def</th>\n",
       "      <th>member_of_the_public</th>\n",
       "      <th>researcher</th>\n",
       "      <th>practitioner</th>\n",
       "      <th>science_communicator</th>\n",
       "      <th>author_citation</th>\n",
       "      <th>num_non_scientists</th>\n",
       "      <th>author_eth_ethnea</th>\n",
       "      <th>author_gender_ethnea</th>\n",
       "      <th>author_eth_ethnea_broad</th>\n",
       "    </tr>\n",
       "  </thead>\n",
       "  <tbody>\n",
       "    <tr>\n",
       "      <th>0</th>\n",
       "      <td>10.1109/tmag.2017.2750019</td>\n",
       "      <td>Daniel S. Gazzana</td>\n",
       "      <td>1</td>\n",
       "      <td>first_position</td>\n",
       "      <td>2040190777</td>\n",
       "      <td>130442723</td>\n",
       "      <td>False</td>\n",
       "      <td>Male</td>\n",
       "      <td>6</td>\n",
       "      <td>16859</td>\n",
       "      <td>...</td>\n",
       "      <td>False</td>\n",
       "      <td>0</td>\n",
       "      <td>0</td>\n",
       "      <td>0</td>\n",
       "      <td>0</td>\n",
       "      <td>NaN</td>\n",
       "      <td>0</td>\n",
       "      <td>FRENCH</td>\n",
       "      <td>M</td>\n",
       "      <td>WesternNorthernEuropean</td>\n",
       "    </tr>\n",
       "    <tr>\n",
       "      <th>1</th>\n",
       "      <td>10.1109/tmag.2017.2750019</td>\n",
       "      <td>Arturo S. Bretas</td>\n",
       "      <td>4</td>\n",
       "      <td>middle_position</td>\n",
       "      <td>2115308334</td>\n",
       "      <td>130442723</td>\n",
       "      <td>False</td>\n",
       "      <td>Male</td>\n",
       "      <td>6</td>\n",
       "      <td>15192</td>\n",
       "      <td>...</td>\n",
       "      <td>False</td>\n",
       "      <td>0</td>\n",
       "      <td>0</td>\n",
       "      <td>0</td>\n",
       "      <td>0</td>\n",
       "      <td>NaN</td>\n",
       "      <td>0</td>\n",
       "      <td>HISPANIC</td>\n",
       "      <td>M</td>\n",
       "      <td>SouthernEuropean</td>\n",
       "    </tr>\n",
       "    <tr>\n",
       "      <th>2</th>\n",
       "      <td>10.1109/tmag.2017.2750019</td>\n",
       "      <td>Roberto C. Leborgne</td>\n",
       "      <td>3</td>\n",
       "      <td>middle_position</td>\n",
       "      <td>2145772920</td>\n",
       "      <td>130442723</td>\n",
       "      <td>False</td>\n",
       "      <td>Male</td>\n",
       "      <td>6</td>\n",
       "      <td>16228</td>\n",
       "      <td>...</td>\n",
       "      <td>False</td>\n",
       "      <td>0</td>\n",
       "      <td>0</td>\n",
       "      <td>0</td>\n",
       "      <td>0</td>\n",
       "      <td>NaN</td>\n",
       "      <td>0</td>\n",
       "      <td>ITALIAN</td>\n",
       "      <td>M</td>\n",
       "      <td>SouthernEuropean</td>\n",
       "    </tr>\n",
       "  </tbody>\n",
       "</table>\n",
       "<p>3 rows × 72 columns</p>\n",
       "</div>"
      ],
      "text/plain": [
       "                         doi          author_name  authorship_seq  \\\n",
       "0  10.1109/tmag.2017.2750019    Daniel S. Gazzana               1   \n",
       "1  10.1109/tmag.2017.2750019     Arturo S. Bretas               4   \n",
       "2  10.1109/tmag.2017.2750019  Roberto C. Leborgne               3   \n",
       "\n",
       "    authorship_pos   author_id affiliation_ids  self_promotion_original  \\\n",
       "0   first_position  2040190777       130442723                    False   \n",
       "1  middle_position  2115308334       130442723                    False   \n",
       "2  middle_position  2145772920       130442723                    False   \n",
       "\n",
       "  gender  num_authors  author_rank  ... self_promotion_def  \\\n",
       "0   Male            6        16859  ...              False   \n",
       "1   Male            6        15192  ...              False   \n",
       "2   Male            6        16228  ...              False   \n",
       "\n",
       "  member_of_the_public  researcher practitioner  science_communicator  \\\n",
       "0                    0           0            0                     0   \n",
       "1                    0           0            0                     0   \n",
       "2                    0           0            0                     0   \n",
       "\n",
       "  author_citation  num_non_scientists  author_eth_ethnea  \\\n",
       "0             NaN                   0             FRENCH   \n",
       "1             NaN                   0           HISPANIC   \n",
       "2             NaN                   0            ITALIAN   \n",
       "\n",
       "   author_gender_ethnea  author_eth_ethnea_broad  \n",
       "0                     M  WesternNorthernEuropean  \n",
       "1                     M         SouthernEuropean  \n",
       "2                     M         SouthernEuropean  \n",
       "\n",
       "[3 rows x 72 columns]"
      ]
     },
     "execution_count": 115,
     "metadata": {},
     "output_type": "execute_result"
    }
   ],
   "source": [
    "reg_data.head(3)"
   ]
  },
  {
   "cell_type": "code",
   "execution_count": 116,
   "id": "14bb7e27",
   "metadata": {},
   "outputs": [
    {
     "data": {
      "text/plain": [
       "173594"
      ]
     },
     "execution_count": 116,
     "metadata": {},
     "output_type": "execute_result"
    }
   ],
   "source": [
    "len(reg_data.loc[~reg_data.matched_tid.isnull()])"
   ]
  },
  {
   "cell_type": "code",
   "execution_count": 117,
   "id": "3fd44a11",
   "metadata": {
    "scrolled": true
   },
   "outputs": [
    {
     "data": {
      "text/plain": [
       "173594"
      ]
     },
     "execution_count": 117,
     "metadata": {},
     "output_type": "execute_result"
    }
   ],
   "source": [
    "len(reg_data.loc[reg_data.self_promotion == True])"
   ]
  },
  {
   "cell_type": "code",
   "execution_count": 118,
   "id": "5bc85568",
   "metadata": {},
   "outputs": [],
   "source": [
    "reg_data = reg_data.loc[reg_data.self_promotion == True]\n",
    "reg_data.index = range(len(reg_data))"
   ]
  },
  {
   "cell_type": "code",
   "execution_count": 119,
   "id": "0a293abf",
   "metadata": {},
   "outputs": [
    {
     "data": {
      "text/plain": [
       "173594"
      ]
     },
     "execution_count": 119,
     "metadata": {},
     "output_type": "execute_result"
    }
   ],
   "source": [
    "len(reg_data)"
   ]
  },
  {
   "cell_type": "code",
   "execution_count": 120,
   "id": "b09c7e7c",
   "metadata": {},
   "outputs": [
    {
     "data": {
      "text/plain": [
       "0"
      ]
     },
     "execution_count": 120,
     "metadata": {},
     "output_type": "execute_result"
    }
   ],
   "source": [
    "len(reg_data.loc[reg_data.matched_tid.isnull()])"
   ]
  },
  {
   "cell_type": "code",
   "execution_count": 121,
   "id": "826e2b2f",
   "metadata": {
    "scrolled": false
   },
   "outputs": [
    {
     "data": {
      "text/plain": [
       "Male      118724\n",
       "Female     54870\n",
       "Name: gender, dtype: int64"
      ]
     },
     "execution_count": 121,
     "metadata": {},
     "output_type": "execute_result"
    }
   ],
   "source": [
    "reg_data['gender'].value_counts()"
   ]
  },
  {
   "cell_type": "code",
   "execution_count": 122,
   "id": "7b571c0f",
   "metadata": {},
   "outputs": [],
   "source": [
    "target_tids = set(reg_data['matched_tid'].tolist())"
   ]
  },
  {
   "cell_type": "code",
   "execution_count": 123,
   "id": "bd5195bd",
   "metadata": {},
   "outputs": [
    {
     "data": {
      "text/plain": [
       "168479"
      ]
     },
     "execution_count": 123,
     "metadata": {},
     "output_type": "execute_result"
    }
   ],
   "source": [
    "len(target_tids)"
   ]
  },
  {
   "cell_type": "code",
   "execution_count": 24,
   "id": "9305d023",
   "metadata": {},
   "outputs": [],
   "source": [
    "tid_text = {}\n",
    "\n",
    "with open(Data_Root+'tweets_v2.json', 'r') as ifile:\n",
    "    for line in ifile:\n",
    "        line = json.loads(line)\n",
    "        tid, tdate, text = line['id_str'], line['created_at'], line['full_text']\n",
    "        if tid in target_tids:\n",
    "            tid_text[tid] = text"
   ]
  },
  {
   "cell_type": "code",
   "execution_count": 125,
   "id": "aae59e32",
   "metadata": {
    "scrolled": true
   },
   "outputs": [
    {
     "data": {
      "text/plain": [
       "167070"
      ]
     },
     "execution_count": 125,
     "metadata": {},
     "output_type": "execute_result"
    }
   ],
   "source": [
    "len(tid_text)"
   ]
  },
  {
   "cell_type": "code",
   "execution_count": 126,
   "id": "9177d1bd",
   "metadata": {},
   "outputs": [],
   "source": [
    "reg_data = reg_data.loc[reg_data.matched_tid.isin(tid_text)]\n",
    "reg_data.index = range(len(reg_data))"
   ]
  },
  {
   "cell_type": "code",
   "execution_count": 127,
   "id": "8c8ca69d",
   "metadata": {
    "scrolled": false
   },
   "outputs": [
    {
     "data": {
      "text/plain": [
       "Male      117730\n",
       "Female     54415\n",
       "Name: gender, dtype: int64"
      ]
     },
     "execution_count": 127,
     "metadata": {},
     "output_type": "execute_result"
    }
   ],
   "source": [
    "reg_data['gender'].value_counts()"
   ]
  },
  {
   "cell_type": "code",
   "execution_count": 128,
   "id": "73b4e6d7",
   "metadata": {},
   "outputs": [],
   "source": [
    "analyzer = SentimentIntensityAnalyzer()"
   ]
  },
  {
   "cell_type": "code",
   "execution_count": 129,
   "id": "7e6ca20f",
   "metadata": {},
   "outputs": [],
   "source": [
    "event_sen_count = defaultdict(lambda: defaultdict(int))\n",
    "\n",
    "for tid in reg_data.loc[reg_data['gender'] == 'Male']['matched_tid']:\n",
    "    if tid in tid_text:\n",
    "        res = analyzer.polarity_scores(tid_text[tid])\n",
    "        comp = res['compound']\n",
    "        sen_label = \"Neu.\"\n",
    "        if comp < -0.05:\n",
    "            sen_label = \"Neg.\"\n",
    "        if comp > 0.05:\n",
    "            sen_label = \"Pos.\"\n",
    "        event_sen_count[sen_label]['Male'] += 1\n",
    "        \n",
    "for tid in reg_data.loc[reg_data['gender'] == 'Female']['matched_tid']:\n",
    "    if tid in tid_text:\n",
    "        res = analyzer.polarity_scores(tid_text[tid])\n",
    "        comp = res['compound']\n",
    "        sen_label = \"Neu.\"\n",
    "        if comp < -0.05:\n",
    "            sen_label = \"Neg.\"\n",
    "        if comp > 0.05:\n",
    "            sen_label = \"Pos.\"\n",
    "        event_sen_count[sen_label]['Female'] += 1"
   ]
  },
  {
   "cell_type": "code",
   "execution_count": 130,
   "id": "373c6498",
   "metadata": {},
   "outputs": [],
   "source": [
    "sen_df = pd.DataFrame.from_dict(event_sen_count)"
   ]
  },
  {
   "cell_type": "code",
   "execution_count": 131,
   "id": "2ff067c0",
   "metadata": {},
   "outputs": [
    {
     "data": {
      "text/html": [
       "<div>\n",
       "<style scoped>\n",
       "    .dataframe tbody tr th:only-of-type {\n",
       "        vertical-align: middle;\n",
       "    }\n",
       "\n",
       "    .dataframe tbody tr th {\n",
       "        vertical-align: top;\n",
       "    }\n",
       "\n",
       "    .dataframe thead th {\n",
       "        text-align: right;\n",
       "    }\n",
       "</style>\n",
       "<table border=\"1\" class=\"dataframe\">\n",
       "  <thead>\n",
       "    <tr style=\"text-align: right;\">\n",
       "      <th></th>\n",
       "      <th>Neu.</th>\n",
       "      <th>Neg.</th>\n",
       "      <th>Pos.</th>\n",
       "    </tr>\n",
       "  </thead>\n",
       "  <tbody>\n",
       "    <tr>\n",
       "      <th>Male</th>\n",
       "      <td>46660</td>\n",
       "      <td>17311</td>\n",
       "      <td>53759</td>\n",
       "    </tr>\n",
       "    <tr>\n",
       "      <th>Female</th>\n",
       "      <td>20019</td>\n",
       "      <td>7686</td>\n",
       "      <td>26710</td>\n",
       "    </tr>\n",
       "  </tbody>\n",
       "</table>\n",
       "</div>"
      ],
      "text/plain": [
       "         Neu.   Neg.   Pos.\n",
       "Male    46660  17311  53759\n",
       "Female  20019   7686  26710"
      ]
     },
     "execution_count": 131,
     "metadata": {},
     "output_type": "execute_result"
    }
   ],
   "source": [
    "sen_df"
   ]
  },
  {
   "cell_type": "code",
   "execution_count": 132,
   "id": "b60cf5d4",
   "metadata": {},
   "outputs": [
    {
     "data": {
      "text/html": [
       "<div>\n",
       "<style scoped>\n",
       "    .dataframe tbody tr th:only-of-type {\n",
       "        vertical-align: middle;\n",
       "    }\n",
       "\n",
       "    .dataframe tbody tr th {\n",
       "        vertical-align: top;\n",
       "    }\n",
       "\n",
       "    .dataframe thead th {\n",
       "        text-align: right;\n",
       "    }\n",
       "</style>\n",
       "<table border=\"1\" class=\"dataframe\">\n",
       "  <thead>\n",
       "    <tr style=\"text-align: right;\">\n",
       "      <th></th>\n",
       "      <th>Neu.</th>\n",
       "      <th>Neg.</th>\n",
       "      <th>Pos.</th>\n",
       "    </tr>\n",
       "  </thead>\n",
       "  <tbody>\n",
       "    <tr>\n",
       "      <th>Male</th>\n",
       "      <td>0.396331</td>\n",
       "      <td>0.147040</td>\n",
       "      <td>0.456630</td>\n",
       "    </tr>\n",
       "    <tr>\n",
       "      <th>Female</th>\n",
       "      <td>0.367895</td>\n",
       "      <td>0.141248</td>\n",
       "      <td>0.490857</td>\n",
       "    </tr>\n",
       "  </tbody>\n",
       "</table>\n",
       "</div>"
      ],
      "text/plain": [
       "            Neu.      Neg.      Pos.\n",
       "Male    0.396331  0.147040  0.456630\n",
       "Female  0.367895  0.141248  0.490857"
      ]
     },
     "execution_count": 132,
     "metadata": {},
     "output_type": "execute_result"
    }
   ],
   "source": [
    "sen_df.div(sen_df.sum(axis=1), axis=0)"
   ]
  },
  {
   "cell_type": "code",
   "execution_count": 133,
   "id": "63d2d3d6",
   "metadata": {},
   "outputs": [],
   "source": [
    "g, p, dof, expctd = stat.chi2_contingency(sen_df)"
   ]
  },
  {
   "cell_type": "code",
   "execution_count": 134,
   "id": "352c8182",
   "metadata": {},
   "outputs": [
    {
     "data": {
      "text/plain": [
       "1.0250884952014482e-39"
      ]
     },
     "execution_count": 134,
     "metadata": {},
     "output_type": "execute_result"
    }
   ],
   "source": [
    "p"
   ]
  },
  {
   "cell_type": "code",
   "execution_count": 157,
   "id": "f43503fe",
   "metadata": {},
   "outputs": [
    {
     "data": {
      "image/png": "[encoded data removed]",
      "text/plain": [
       "<Figure size 360x252 with 2 Axes>"
      ]
     },
     "metadata": {},
     "output_type": "display_data"
    }
   ],
   "source": [
    "fig, axes = plt.subplots(nrows=1, ncols=2, figsize=(5, 3.5))\n",
    "\n",
    "# ax1\n",
    "ax = axes[0]\n",
    "sns.set(font_scale=1)\n",
    "categories = sen_df.index.tolist()\n",
    "\n",
    "neg_count = sen_df['Neg.'].values\n",
    "neu_count = sen_df['Neu.'].values\n",
    "pos_count = sen_df['Pos.'].values\n",
    "\n",
    "p1 = ax.bar(categories, neg_count, 0.3, color='red')\n",
    "p2 = ax.bar(categories, neu_count, 0.3, color='blue', bottom = neg_count)\n",
    "p3 = ax.bar(categories, pos_count, 0.3, color='green', bottom = neg_count + neu_count)\n",
    "ax.legend((p3[0], p2[0], p1[0]), ('Pos.', 'Neu.', 'Neg.'))\n",
    "ax.set_ylabel(r'Num. of self-promotion tweets')\n",
    "ax.ticklabel_format(axis='y', style='sci', scilimits=(0,0))\n",
    "# ax.get_yaxis().set_major_formatter(mtick.FuncFormatter(lambda x, p: format(int(x/1000000), ',')))\n",
    "\n",
    "# ax2\n",
    "# Plots the bar chart\n",
    "# bar_width = 1\n",
    "bar_l = [i for i in range(len(sen_df))] \n",
    "totals = sen_df.sum(axis=1).tolist()\n",
    "pos_rel = sen_df['Pos.'] * 100 / totals\n",
    "neu_rel = sen_df['Neu.'] * 100 / totals\n",
    "neg_rel = sen_df['Neg.'] * 100 / totals\n",
    "\n",
    "ax = axes[1]\n",
    "p1 = ax.bar(categories, neg_rel, 0.3, color='red')\n",
    "p2 = ax.bar(categories, neu_rel, 0.3, color='blue', bottom = neg_rel)\n",
    "p3 = ax.bar(categories, pos_rel, 0.3, color='green', bottom = neg_rel + neu_rel)\n",
    "\n",
    "ax.set_ylabel(\"Percentage\")\n",
    "ax.set_xlabel(\"\")\n",
    "# ax.legend(loc='right', fontsize = 10, frameon = False, ncol=1)\n",
    "# plt.setp(plt.gca().get_xticklabels(), rotation=15, horizontalalignment='right')\n",
    "# ax.set_xlim([min(bar_l)-bar_width, max(bar_l)+bar_width])\n",
    "ax.set_ylim(0, 105)\n",
    "\n",
    "plt.subplots_adjust(wspace=0.6)\n",
    "plt.show()\n",
    "fig.savefig(\"sentiment.pdf\", bbox_inches='tight', pad_inches=0)"
   ]
  },
  {
   "cell_type": "code",
   "execution_count": 158,
   "id": "72520731",
   "metadata": {},
   "outputs": [
    {
     "name": "stdout",
     "output_type": "stream",
     "text": [
      "/home/haopeng/self_promotion\r\n"
     ]
    }
   ],
   "source": [
    "! pwd"
   ]
  },
  {
   "cell_type": "code",
   "execution_count": 190,
   "id": "710b4c5b",
   "metadata": {},
   "outputs": [],
   "source": [
    "#'favorable',\n",
    "#'favourable',\n",
    "pos_words = ['amazing',\n",
    " 'assuring',\n",
    " 'astonishing',\n",
    " 'bright',\n",
    " 'creative',\n",
    " 'encouraging',\n",
    " 'enormous',\n",
    " 'excellent',\n",
    " 'favorable',\n",
    " 'groundbreaking',\n",
    " 'hopeful',\n",
    " 'innovative',\n",
    " 'inspiring',\n",
    " 'inventive',\n",
    " 'novel',\n",
    " 'phenomenal',\n",
    " 'prominent',\n",
    " 'promising',\n",
    " 'reassuring',\n",
    " 'remarkable',\n",
    " 'robust',\n",
    " 'spectacular',\n",
    " 'supportive',\n",
    " 'unique',\n",
    " 'unprecedented']"
   ]
  },
  {
   "cell_type": "code",
   "execution_count": 191,
   "id": "a9baf2da",
   "metadata": {
    "scrolled": true
   },
   "outputs": [
    {
     "data": {
      "text/plain": [
       "25"
      ]
     },
     "execution_count": 191,
     "metadata": {},
     "output_type": "execute_result"
    }
   ],
   "source": [
    "len(pos_words)"
   ]
  },
  {
   "cell_type": "code",
   "execution_count": 192,
   "id": "343a4150",
   "metadata": {},
   "outputs": [],
   "source": [
    "def check_word_occur(tid, word):\n",
    "    sss_ = tid_text[tid].lower()\n",
    "    if word in sss_:\n",
    "        return 1\n",
    "    else:\n",
    "        return 0"
   ]
  },
  {
   "cell_type": "code",
   "execution_count": 193,
   "id": "5dd95f31",
   "metadata": {
    "scrolled": false
   },
   "outputs": [],
   "source": [
    "for word in pos_words:\n",
    "    reg_data[word] = reg_data['matched_tid'].apply(lambda tid: check_word_occur(tid, word))"
   ]
  },
  {
   "cell_type": "code",
   "execution_count": 194,
   "id": "eb163951",
   "metadata": {},
   "outputs": [
    {
     "name": "stdout",
     "output_type": "stream",
     "text": [
      "amazing \n",
      "\n",
      "gender     Female      Male\n",
      "amazing                    \n",
      "0        0.993274  0.994759\n",
      "1        0.006726  0.005241\n",
      "\n",
      "assuring \n",
      "\n",
      "gender      Female      Male\n",
      "assuring                    \n",
      "0         0.999908  0.999907\n",
      "1         0.000092  0.000093\n",
      "\n",
      "astonishing \n",
      "\n",
      "gender         Female      Male\n",
      "astonishing                    \n",
      "0            0.999926  0.999924\n",
      "1            0.000074  0.000076\n",
      "\n",
      "bright \n",
      "\n",
      "gender    Female      Male\n",
      "bright                    \n",
      "0       0.999044  0.999117\n",
      "1       0.000956  0.000883\n",
      "\n",
      "creative \n",
      "\n",
      "gender      Female      Male\n",
      "creative                    \n",
      "0         0.999118  0.999584\n",
      "1         0.000882  0.000416\n",
      "\n",
      "encouraging \n",
      "\n",
      "gender         Female      Male\n",
      "encouraging                    \n",
      "0            0.999743  0.999762\n",
      "1            0.000257  0.000238\n",
      "\n",
      "enormous \n",
      "\n",
      "gender      Female      Male\n",
      "enormous                    \n",
      "0         0.999779  0.999762\n",
      "1         0.000221  0.000238\n",
      "\n",
      "excellent \n",
      "\n",
      "gender       Female      Male\n",
      "excellent                    \n",
      "0          0.995369  0.994368\n",
      "1          0.004631  0.005632\n",
      "\n",
      "favorable \n",
      "\n",
      "gender       Female     Male\n",
      "favorable                   \n",
      "0          0.999798  0.99972\n",
      "1          0.000202  0.00028\n",
      "\n",
      "groundbreaking \n",
      "\n",
      "gender            Female      Male\n",
      "groundbreaking                    \n",
      "0               0.999816  0.999754\n",
      "1               0.000184  0.000246\n",
      "\n",
      "hopeful \n",
      "\n",
      "gender     Female      Male\n",
      "hopeful                    \n",
      "0        0.998658  0.998666\n",
      "1        0.001342  0.001334\n",
      "\n",
      "innovative \n",
      "\n",
      "gender        Female      Male\n",
      "innovative                    \n",
      "0           0.998622  0.998913\n",
      "1           0.001378  0.001087\n",
      "\n",
      "inspiring \n",
      "\n",
      "gender       Female      Male\n",
      "inspiring                    \n",
      "0          0.999541  0.999737\n",
      "1          0.000459  0.000263\n",
      "\n",
      "inventive \n",
      "\n",
      "gender       Female      Male\n",
      "inventive                    \n",
      "0          0.999982  0.999958\n",
      "1          0.000018  0.000042\n",
      "\n",
      "novel \n",
      "\n",
      "gender    Female      Male\n",
      "novel                     \n",
      "0       0.993053  0.990818\n",
      "1       0.006947  0.009182\n",
      "\n",
      "phenomenal \n",
      "\n",
      "gender        Female      Male\n",
      "phenomenal                    \n",
      "0           0.999835  0.999788\n",
      "1           0.000165  0.000212\n",
      "\n",
      "prominent \n",
      "\n",
      "gender       Female     Male\n",
      "prominent                   \n",
      "0          0.999835  0.99983\n",
      "1          0.000165  0.00017\n",
      "\n",
      "promising \n",
      "\n",
      "gender       Female      Male\n",
      "promising                    \n",
      "0          0.999044  0.998853\n",
      "1          0.000956  0.001147\n",
      "\n",
      "reassuring \n",
      "\n",
      "gender        Female      Male\n",
      "reassuring                    \n",
      "0           0.999926  0.999932\n",
      "1           0.000074  0.000068\n",
      "\n",
      "remarkable \n",
      "\n",
      "gender        Female      Male\n",
      "remarkable                    \n",
      "0           0.999614  0.999244\n",
      "1           0.000386  0.000756\n",
      "\n",
      "robust \n",
      "\n",
      "gender    Female      Male\n",
      "robust                    \n",
      "0       0.998162  0.998063\n",
      "1       0.001838  0.001937\n",
      "\n",
      "spectacular \n",
      "\n",
      "gender         Female      Male\n",
      "spectacular                    \n",
      "0            0.999853  0.999898\n",
      "1            0.000147  0.000102\n",
      "\n",
      "supportive \n",
      "\n",
      "gender       Female      Male\n",
      "supportive                   \n",
      "0           0.99921  0.999652\n",
      "1           0.00079  0.000348\n",
      "\n",
      "unique \n",
      "\n",
      "gender    Female      Male\n",
      "unique                    \n",
      "0       0.998511  0.998208\n",
      "1       0.001489  0.001792\n",
      "\n",
      "unprecedented \n",
      "\n",
      "gender          Female      Male\n",
      "unprecedented                   \n",
      "0              0.99989  0.999669\n",
      "1              0.00011  0.000331\n",
      "\n"
     ]
    }
   ],
   "source": [
    "for word in pos_words:\n",
    "    tem_df = pd.crosstab(reg_data[word], reg_data['gender'])\n",
    "    tem_df = tem_df.div(tem_df.sum(axis=0), axis=1)\n",
    "    print(word, '\\n')\n",
    "    print(tem_df)\n",
    "    print()"
   ]
  },
  {
   "cell_type": "code",
   "execution_count": 195,
   "id": "22118a47",
   "metadata": {},
   "outputs": [],
   "source": [
    "colors = sns.color_palette()[:2]"
   ]
  },
  {
   "cell_type": "code",
   "execution_count": 213,
   "id": "584ff585",
   "metadata": {
    "scrolled": false
   },
   "outputs": [],
   "source": [
    "plot_data = []\n",
    "\n",
    "for word in pos_words:\n",
    "    perc = reg_data[word].sum()/len(reg_data)\n",
    "    male_seq = reg_data.loc[reg_data['gender'] == 'Male'][word]\n",
    "    female_seq = reg_data.loc[reg_data['gender'] == 'Female'][word]\n",
    "    if np.mean(male_seq) >= np.mean(female_seq):\n",
    "        color = colors[0]\n",
    "        _, p_u = stat.mannwhitneyu(male_seq, female_seq, alternative='greater')\n",
    "    else:\n",
    "        color = colors[1]\n",
    "        _, p_u = stat.mannwhitneyu(male_seq, female_seq, alternative='less')\n",
    "    star = ''\n",
    "    if p_u < 0.001:\n",
    "        star = '***'\n",
    "    elif p_u < 0.01:\n",
    "        star = '**'\n",
    "    elif p_u < 0.05:\n",
    "        star = '*'\n",
    "    plot_data.append([word, perc, color, star])"
   ]
  },
  {
   "cell_type": "code",
   "execution_count": 263,
   "id": "263649d1",
   "metadata": {},
   "outputs": [],
   "source": [
    "plot_data= sorted(plot_data, key = lambda x: -1 * x[1])"
   ]
  },
  {
   "cell_type": "code",
   "execution_count": 265,
   "id": "03bf7a3c",
   "metadata": {},
   "outputs": [
    {
     "name": "stdout",
     "output_type": "stream",
     "text": [
      "0.00848 novel ***\n",
      "0.00571 amazing ***\n",
      "0.00532 excellent **\n",
      "0.00191 robust \n",
      "0.00170 unique \n",
      "0.00134 hopeful \n",
      "0.00118 innovative \n",
      "0.00109 promising \n",
      "0.00091 bright \n",
      "0.00064 remarkable **\n",
      "0.00056 creative ***\n",
      "0.00049 supportive ***\n",
      "0.00033 inspiring *\n",
      "0.00026 unprecedented **\n",
      "0.00026 favorable \n",
      "0.00024 encouraging \n",
      "0.00023 enormous \n",
      "0.00023 groundbreaking \n",
      "0.00020 phenomenal \n",
      "0.00017 prominent \n",
      "0.00012 spectacular \n",
      "0.00009 assuring \n",
      "0.00008 astonishing \n",
      "0.00007 reassuring \n",
      "0.00003 inventive \n"
     ]
    }
   ],
   "source": [
    "for word, perc, color, star in plot_data:\n",
    "    print('%.5f'%perc, word, star)"
   ]
  },
  {
   "cell_type": "code",
   "execution_count": 277,
   "id": "b7bcff69",
   "metadata": {},
   "outputs": [
    {
     "data": {
      "image/png": "[encoded data removed]",
      "text/plain": [
       "<Figure size 720x252 with 1 Axes>"
      ]
     },
     "metadata": {},
     "output_type": "display_data"
    }
   ],
   "source": [
    "fig, ax = plt.subplots(nrows=1, ncols=1, figsize=(10, 3.5))\n",
    "\n",
    "xs_1, percs_1, color_1 = [], [], []\n",
    "xs_2, percs_2, color_2 = [], [], []\n",
    "\n",
    "for i in range(len(plot_data)):\n",
    "    word, perc, color, star = plot_data[i]\n",
    "    if color == colors[0]:\n",
    "        xs_1.append(i)\n",
    "        percs_1.append(perc)\n",
    "        color_1.append(color)\n",
    "    else:\n",
    "        xs_2.append(i)\n",
    "        percs_2.append(perc)\n",
    "        color_2.append(color)\n",
    "ax.bar(xs_1, percs_1, 0.5, color=color_1, label='Greater use by males')\n",
    "ax.bar(xs_2, percs_2, 0.5, color=color_2, label='Greater use by females')\n",
    "legend = ax.legend(loc=[0.6, 0.73], numpoints=2, labelspacing = 0.2, shadow=False, frameon = True)\n",
    "\n",
    "words_ = [word for word, perc, color, star in plot_data]\n",
    "\n",
    "for i in range(len(plot_data)):\n",
    "    word, perc, color, star = plot_data[i]\n",
    "    ax.annotate(star, xy=(i, perc), xycoords='data', xytext=(3.5, 4), textcoords='offset points', \\\n",
    "                ha='center', va='bottom', rotation=90)\n",
    "ax.set_ylabel(\"Percent of self-promotion tweets\")\n",
    "ax.set_xticks(list(range(len(words_))))\n",
    "ax.set_xticklabels(words_)\n",
    "for label in ax.get_xticklabels():\n",
    "    label.set_ha(\"right\")\n",
    "    label.set_rotation(40)\n",
    "ax.set_ylim(0, 0.01)\n",
    "ax.grid(visible=False)\n",
    "# ax.set_facecolor('white')\n",
    "# ax.spines['right'].set_visible(True)\n",
    "# ax.spines['left'].set_visible(True)\n",
    "# ax.spines['top'].set_visible(True)\n",
    "# ax.spines['bottom'].set_visible(True)\n",
    "plt.show()\n",
    "fig.savefig(\"pos_word.pdf\", bbox_inches='tight', pad_inches=0)"
   ]
  },
  {
   "cell_type": "code",
   "execution_count": null,
   "id": "9c1344a9",
   "metadata": {},
   "outputs": [],
   "source": []
  }
 ],
 "metadata": {
  "kernelspec": {
   "display_name": "Python 3 (ipykernel)",
   "language": "python",
   "name": "python3"
  },
  "language_info": {
   "codemirror_mode": {
    "name": "ipython",
    "version": 3
   },
   "file_extension": ".py",
   "mimetype": "text/x-python",
   "name": "python",
   "nbconvert_exporter": "python",
   "pygments_lexer": "ipython3",
   "version": "3.8.3"
  }
 },
 "nbformat": 4,
 "nbformat_minor": 5
}
