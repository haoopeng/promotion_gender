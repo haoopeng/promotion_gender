{
 "cells": [
  {
   "cell_type": "markdown",
   "id": "3f46bac7",
   "metadata": {},
   "source": [
    "## Return on self-promotion"
   ]
  },
  {
   "cell_type": "code",
   "execution_count": 1,
   "id": "7d0dc406",
   "metadata": {},
   "outputs": [],
   "source": [
    "data_root <- \"~/Data/Promotion/\""
   ]
  },
  {
   "cell_type": "code",
   "execution_count": 2,
   "id": "20faa31c",
   "metadata": {},
   "outputs": [
    {
     "name": "stderr",
     "output_type": "stream",
     "text": [
      "Loading required package: Matrix\n",
      "\n",
      "Please cite as: \n",
      "\n",
      " Hlavac, Marek (2018). stargazer: Well-Formatted Regression and Summary Statistics Tables.\n",
      " R package version 5.2.2. https://CRAN.R-project.org/package=stargazer \n",
      "\n",
      "Classes and Methods for R developed in the\n",
      "Political Science Computational Laboratory\n",
      "Department of Political Science\n",
      "Stanford University\n",
      "Simon Jackman\n",
      "hurdle and zeroinfl functions by Achim Zeileis\n"
     ]
    }
   ],
   "source": [
    "library(\"lme4\")\n",
    "library(\"margins\")\n",
    "library(\"stargazer\")\n",
    "library(\"emmeans\")\n",
    "library(\"ggeffects\")\n",
    "library(\"broom\")\n",
    "library(\"broom.mixed\")\n",
    "library(\"MASS\")\n",
    "library(\"pscl\")"
   ]
  },
  {
   "cell_type": "code",
   "execution_count": 3,
   "id": "2145d0a3",
   "metadata": {},
   "outputs": [],
   "source": [
    "options(repr.matrix.max.rows=500, repr.matrix.max.cols=200)"
   ]
  },
  {
   "cell_type": "code",
   "execution_count": 4,
   "id": "b0c845a6",
   "metadata": {},
   "outputs": [],
   "source": [
    "mydata <- read.csv(paste(data_root, \"reg_data_drop_missing.csv\", sep = ''), header = TRUE)"
   ]
  },
  {
   "cell_type": "code",
   "execution_count": 5,
   "id": "9f6c2a04",
   "metadata": {
    "scrolled": false
   },
   "outputs": [
    {
     "data": {
      "text/html": [
       "3073001"
      ],
      "text/latex": [
       "3073001"
      ],
      "text/markdown": [
       "3073001"
      ],
      "text/plain": [
       "[1] 3073001"
      ]
     },
     "metadata": {},
     "output_type": "display_data"
    }
   ],
   "source": [
    "nrow(mydata)"
   ]
  },
  {
   "cell_type": "code",
   "execution_count": 6,
   "id": "85ff3ef1",
   "metadata": {
    "scrolled": true
   },
   "outputs": [
    {
     "data": {
      "text/html": [
       "72"
      ],
      "text/latex": [
       "72"
      ],
      "text/markdown": [
       "72"
      ],
      "text/plain": [
       "[1] 72"
      ]
     },
     "metadata": {},
     "output_type": "display_data"
    }
   ],
   "source": [
    "ncol(mydata)"
   ]
  },
  {
   "cell_type": "code",
   "execution_count": 7,
   "id": "30e42c81",
   "metadata": {},
   "outputs": [],
   "source": [
    "mydata = mydata[mydata$gender %in% c(\"Male\", \"Female\"), ]"
   ]
  },
  {
   "cell_type": "code",
   "execution_count": 8,
   "id": "9c03779f",
   "metadata": {
    "scrolled": false
   },
   "outputs": [
    {
     "data": {
      "text/html": [
       "2380098"
      ],
      "text/latex": [
       "2380098"
      ],
      "text/markdown": [
       "2380098"
      ],
      "text/plain": [
       "[1] 2380098"
      ]
     },
     "metadata": {},
     "output_type": "display_data"
    }
   ],
   "source": [
    "nrow(mydata)"
   ]
  },
  {
   "cell_type": "code",
   "execution_count": 9,
   "id": "5be5b2b3",
   "metadata": {},
   "outputs": [],
   "source": [
    "mydata = mydata[mydata$affiliation_cate != 'unknown', ]"
   ]
  },
  {
   "cell_type": "code",
   "execution_count": 10,
   "id": "8520197d",
   "metadata": {
    "scrolled": false
   },
   "outputs": [
    {
     "data": {
      "text/html": [
       "2375419"
      ],
      "text/latex": [
       "2375419"
      ],
      "text/markdown": [
       "2375419"
      ],
      "text/plain": [
       "[1] 2375419"
      ]
     },
     "metadata": {},
     "output_type": "display_data"
    }
   ],
   "source": [
    "nrow(mydata)"
   ]
  },
  {
   "cell_type": "code",
   "execution_count": 11,
   "id": "ea404342",
   "metadata": {},
   "outputs": [],
   "source": [
    "mydata <- within(mydata, gender <- relevel(gender, ref = 'Male'))\n",
    "mydata <- within(mydata, authorship_pos <- relevel(authorship_pos, ref = 'last_position'))\n",
    "# mydata <- within(mydata, is_corresponding <- relevel(is_corresponding, ref = 'yes'))\n",
    "mydata <- within(mydata, affiliation_cate <- relevel(affiliation_cate, ref = 'domestic'))"
   ]
  },
  {
   "cell_type": "code",
   "execution_count": 12,
   "id": "22406164",
   "metadata": {},
   "outputs": [],
   "source": [
    "keywords <- \" + Social_Sciences + Materials_Science + Engineering + Chemistry + \\\n",
    "        Biochemistry__Genetics_and_Molecular_Biology + Medicine + Nursing + Agricultural_and_Biological_Sciences + \\\n",
    "        Pharmacology__Toxicology_and_Pharmaceutics + Neuroscience + Business__Management_and_Accounting + \\\n",
    "        Economics__Econometrics_and_Finance + Chemical_Engineering + Physics_and_Astronomy + Computer_Science + \\\n",
    "        Decision_Sciences + Health_Professions + Psychology + Immunology_and_Microbiology + Dentistry + \\\n",
    "        Earth_and_Planetary_Sciences + Environmental_Science + Mathematics + Arts_and_Humanities + Energy + \\\n",
    "        Veterinary + General\""
   ]
  },
  {
   "cell_type": "code",
   "execution_count": 13,
   "id": "51d8b0dd",
   "metadata": {},
   "outputs": [],
   "source": [
    "mydata$author_citation_log <- log2(1 + mydata$author_citation)"
   ]
  },
  {
   "cell_type": "code",
   "execution_count": 14,
   "id": "02c847da",
   "metadata": {},
   "outputs": [],
   "source": [
    "mydata$total_num_tweets_log <- log2(1 + mydata$total_num_tweets)"
   ]
  },
  {
   "cell_type": "code",
   "execution_count": 15,
   "id": "b99b53e8",
   "metadata": {},
   "outputs": [],
   "source": [
    "mydata$matched_tid_follower_cn_log <- log2(1 + mydata$matched_tid_follower_cn)"
   ]
  },
  {
   "cell_type": "markdown",
   "id": "9055bfba",
   "metadata": {},
   "source": [
    "### All observations"
   ]
  },
  {
   "cell_type": "code",
   "execution_count": 16,
   "id": "50ca1a46",
   "metadata": {},
   "outputs": [
    {
     "data": {
      "text/html": [
       "16.84241033326"
      ],
      "text/latex": [
       "16.84241033326"
      ],
      "text/markdown": [
       "16.84241033326"
      ],
      "text/plain": [
       "[1] 16.84241"
      ]
     },
     "metadata": {},
     "output_type": "display_data"
    }
   ],
   "source": [
    "mean(mydata[mydata$gender == \"Female\", 'total_num_tweets'])"
   ]
  },
  {
   "cell_type": "code",
   "execution_count": 17,
   "id": "4178d781",
   "metadata": {},
   "outputs": [
    {
     "data": {
      "text/html": [
       "18.1579051826454"
      ],
      "text/latex": [
       "18.1579051826454"
      ],
      "text/markdown": [
       "18.1579051826454"
      ],
      "text/plain": [
       "[1] 18.15791"
      ]
     },
     "metadata": {},
     "output_type": "display_data"
    }
   ],
   "source": [
    "mean(mydata[mydata$gender == \"Male\", 'total_num_tweets'])"
   ]
  },
  {
   "cell_type": "markdown",
   "id": "ede1b6ec",
   "metadata": {},
   "source": [
    "OLS regression"
   ]
  },
  {
   "cell_type": "code",
   "execution_count": 18,
   "id": "0a28b4cc",
   "metadata": {},
   "outputs": [],
   "source": [
    "base_str <- \"total_num_tweets_log ~ 1 + gender\"\n",
    "m_binary <- lm(formula = base_str, data = mydata)"
   ]
  },
  {
   "cell_type": "code",
   "execution_count": 19,
   "id": "a652a2bf",
   "metadata": {
    "scrolled": true
   },
   "outputs": [
    {
     "data": {
      "text/html": [
       "<table>\n",
       "<thead><tr><th scope=col>term</th><th scope=col>estimate</th><th scope=col>std.error</th><th scope=col>statistic</th><th scope=col>p.value</th></tr></thead>\n",
       "<tbody>\n",
       "\t<tr><td>(Intercept) </td><td> 2.37416637 </td><td>0.001532009 </td><td>1549.708054 </td><td>0.000000e+00</td></tr>\n",
       "\t<tr><td>genderFemale</td><td>-0.01366503 </td><td>0.002547889 </td><td>  -5.363275 </td><td>8.173406e-08</td></tr>\n",
       "</tbody>\n",
       "</table>\n"
      ],
      "text/latex": [
       "\\begin{tabular}{r|lllll}\n",
       " term & estimate & std.error & statistic & p.value\\\\\n",
       "\\hline\n",
       "\t (Intercept)  &  2.37416637  & 0.001532009  & 1549.708054  & 0.000000e+00\\\\\n",
       "\t genderFemale & -0.01366503  & 0.002547889  &   -5.363275  & 8.173406e-08\\\\\n",
       "\\end{tabular}\n"
      ],
      "text/markdown": [
       "\n",
       "| term | estimate | std.error | statistic | p.value |\n",
       "|---|---|---|---|---|\n",
       "| (Intercept)  |  2.37416637  | 0.001532009  | 1549.708054  | 0.000000e+00 |\n",
       "| genderFemale | -0.01366503  | 0.002547889  |   -5.363275  | 8.173406e-08 |\n",
       "\n"
      ],
      "text/plain": [
       "  term         estimate    std.error   statistic   p.value     \n",
       "1 (Intercept)   2.37416637 0.001532009 1549.708054 0.000000e+00\n",
       "2 genderFemale -0.01366503 0.002547889   -5.363275 8.173406e-08"
      ]
     },
     "metadata": {},
     "output_type": "display_data"
    }
   ],
   "source": [
    "tidy(m_binary)"
   ]
  },
  {
   "cell_type": "code",
   "execution_count": 20,
   "id": "4198bfc6",
   "metadata": {},
   "outputs": [],
   "source": [
    "base_str <- \"total_num_tweets_log ~ 1 + gender + journal_impact\"\n",
    "m_binary <- lm(formula = base_str, data = mydata)"
   ]
  },
  {
   "cell_type": "code",
   "execution_count": 21,
   "id": "3d45343a",
   "metadata": {
    "scrolled": true
   },
   "outputs": [
    {
     "data": {
      "text/html": [
       "<table>\n",
       "<thead><tr><th scope=col>term</th><th scope=col>estimate</th><th scope=col>std.error</th><th scope=col>statistic</th><th scope=col>p.value</th></tr></thead>\n",
       "<tbody>\n",
       "\t<tr><td>(Intercept)   </td><td>1.78807912    </td><td>0.0017341452  </td><td>1031.10116    </td><td>0.000000e+00  </td></tr>\n",
       "\t<tr><td>genderFemale  </td><td>0.02696282    </td><td>0.0023771862  </td><td>  11.34233    </td><td>8.110523e-30  </td></tr>\n",
       "\t<tr><td>journal_impact</td><td>0.09719969    </td><td>0.0001629883  </td><td> 596.35974    </td><td>0.000000e+00  </td></tr>\n",
       "</tbody>\n",
       "</table>\n"
      ],
      "text/latex": [
       "\\begin{tabular}{r|lllll}\n",
       " term & estimate & std.error & statistic & p.value\\\\\n",
       "\\hline\n",
       "\t (Intercept)    & 1.78807912     & 0.0017341452   & 1031.10116     & 0.000000e+00  \\\\\n",
       "\t genderFemale   & 0.02696282     & 0.0023771862   &   11.34233     & 8.110523e-30  \\\\\n",
       "\t journal\\_impact & 0.09719969       & 0.0001629883     &  596.35974       & 0.000000e+00    \\\\\n",
       "\\end{tabular}\n"
      ],
      "text/markdown": [
       "\n",
       "| term | estimate | std.error | statistic | p.value |\n",
       "|---|---|---|---|---|\n",
       "| (Intercept)    | 1.78807912     | 0.0017341452   | 1031.10116     | 0.000000e+00   |\n",
       "| genderFemale   | 0.02696282     | 0.0023771862   |   11.34233     | 8.110523e-30   |\n",
       "| journal_impact | 0.09719969     | 0.0001629883   |  596.35974     | 0.000000e+00   |\n",
       "\n"
      ],
      "text/plain": [
       "  term           estimate   std.error    statistic  p.value     \n",
       "1 (Intercept)    1.78807912 0.0017341452 1031.10116 0.000000e+00\n",
       "2 genderFemale   0.02696282 0.0023771862   11.34233 8.110523e-30\n",
       "3 journal_impact 0.09719969 0.0001629883  596.35974 0.000000e+00"
      ]
     },
     "metadata": {},
     "output_type": "display_data"
    }
   ],
   "source": [
    "tidy(m_binary)"
   ]
  },
  {
   "cell_type": "markdown",
   "id": "ec33dc1d",
   "metadata": {},
   "source": [
    "Negative Binomial Regression"
   ]
  },
  {
   "cell_type": "code",
   "execution_count": 22,
   "id": "d62db17f",
   "metadata": {},
   "outputs": [],
   "source": [
    "base_str <- \"total_num_tweets ~ 1 + gender\"\n",
    "m_binary_bar <- glm.nb(formula = base_str, data = mydata)"
   ]
  },
  {
   "cell_type": "code",
   "execution_count": 23,
   "id": "7603f872",
   "metadata": {
    "scrolled": true
   },
   "outputs": [
    {
     "data": {
      "text/html": [
       "<table>\n",
       "<thead><tr><th scope=col>term</th><th scope=col>estimate</th><th scope=col>std.error</th><th scope=col>statistic</th><th scope=col>p.value</th></tr></thead>\n",
       "<tbody>\n",
       "\t<tr><td>(Intercept)  </td><td> 2.89910601  </td><td>0.001417326  </td><td>2045.47583   </td><td> 0.000000e+00</td></tr>\n",
       "\t<tr><td>genderFemale </td><td>-0.07520588  </td><td>0.002358222  </td><td> -31.89093   </td><td>3.567338e-223</td></tr>\n",
       "</tbody>\n",
       "</table>\n"
      ],
      "text/latex": [
       "\\begin{tabular}{r|lllll}\n",
       " term & estimate & std.error & statistic & p.value\\\\\n",
       "\\hline\n",
       "\t (Intercept)   &  2.89910601   & 0.001417326   & 2045.47583    &  0.000000e+00\\\\\n",
       "\t genderFemale  & -0.07520588   & 0.002358222   &  -31.89093    & 3.567338e-223\\\\\n",
       "\\end{tabular}\n"
      ],
      "text/markdown": [
       "\n",
       "| term | estimate | std.error | statistic | p.value |\n",
       "|---|---|---|---|---|\n",
       "| (Intercept)   |  2.89910601   | 0.001417326   | 2045.47583    |  0.000000e+00 |\n",
       "| genderFemale  | -0.07520588   | 0.002358222   |  -31.89093    | 3.567338e-223 |\n",
       "\n"
      ],
      "text/plain": [
       "  term         estimate    std.error   statistic  p.value      \n",
       "1 (Intercept)   2.89910601 0.001417326 2045.47583  0.000000e+00\n",
       "2 genderFemale -0.07520588 0.002358222  -31.89093 3.567338e-223"
      ]
     },
     "metadata": {},
     "output_type": "display_data"
    }
   ],
   "source": [
    "tidy(m_binary_bar)"
   ]
  },
  {
   "cell_type": "code",
   "execution_count": 61,
   "id": "778f8ccc",
   "metadata": {},
   "outputs": [],
   "source": [
    "base_str <- \"total_num_tweets ~ 1 + gender + journal_impact\"\n",
    "m_binary_bar <- glm.nb(formula = base_str, data = mydata)"
   ]
  },
  {
   "cell_type": "code",
   "execution_count": 62,
   "id": "9a6f6d78",
   "metadata": {
    "scrolled": true
   },
   "outputs": [
    {
     "data": {
      "text/html": [
       "<table>\n",
       "<thead><tr><th scope=col>term</th><th scope=col>estimate</th><th scope=col>std.error</th><th scope=col>statistic</th><th scope=col>p.value</th></tr></thead>\n",
       "<tbody>\n",
       "\t<tr><td>(Intercept)   </td><td>1.88464247    </td><td>0.001547564   </td><td>1217.811955   </td><td>0.000000e+00  </td></tr>\n",
       "\t<tr><td>genderFemale  </td><td>0.01107064    </td><td>0.002122904   </td><td>   5.214855   </td><td>1.839607e-07  </td></tr>\n",
       "\t<tr><td>journal_impact</td><td>0.10676763    </td><td>0.000143436   </td><td> 744.357297   </td><td>0.000000e+00  </td></tr>\n",
       "</tbody>\n",
       "</table>\n"
      ],
      "text/latex": [
       "\\begin{tabular}{r|lllll}\n",
       " term & estimate & std.error & statistic & p.value\\\\\n",
       "\\hline\n",
       "\t (Intercept)    & 1.88464247     & 0.001547564    & 1217.811955    & 0.000000e+00  \\\\\n",
       "\t genderFemale   & 0.01107064     & 0.002122904    &    5.214855    & 1.839607e-07  \\\\\n",
       "\t journal\\_impact & 0.10676763       & 0.000143436      &  744.357297      & 0.000000e+00    \\\\\n",
       "\\end{tabular}\n"
      ],
      "text/markdown": [
       "\n",
       "| term | estimate | std.error | statistic | p.value |\n",
       "|---|---|---|---|---|\n",
       "| (Intercept)    | 1.88464247     | 0.001547564    | 1217.811955    | 0.000000e+00   |\n",
       "| genderFemale   | 0.01107064     | 0.002122904    |    5.214855    | 1.839607e-07   |\n",
       "| journal_impact | 0.10676763     | 0.000143436    |  744.357297    | 0.000000e+00   |\n",
       "\n"
      ],
      "text/plain": [
       "  term           estimate   std.error   statistic   p.value     \n",
       "1 (Intercept)    1.88464247 0.001547564 1217.811955 0.000000e+00\n",
       "2 genderFemale   0.01107064 0.002122904    5.214855 1.839607e-07\n",
       "3 journal_impact 0.10676763 0.000143436  744.357297 0.000000e+00"
      ]
     },
     "metadata": {},
     "output_type": "display_data"
    }
   ],
   "source": [
    "tidy(m_binary_bar)"
   ]
  },
  {
   "cell_type": "code",
   "execution_count": 16,
   "id": "f1b080de",
   "metadata": {},
   "outputs": [],
   "source": [
    "base_str <- \"total_num_tweets ~ 1 + gender * self_promotion + authorship_pos + author_pub_count_cate + \\\n",
    "            affiliation_rank_cate + affiliation_cate + num_authors + journal_impact + author_citation_log\"\n",
    "equation <- as.formula(paste(base_str, keywords, sep = \" \"))\n",
    "m_binary <- glm.nb(equation, data = mydata)"
   ]
  },
  {
   "cell_type": "code",
   "execution_count": 17,
   "id": "999d8d64",
   "metadata": {
    "scrolled": false
   },
   "outputs": [
    {
     "data": {
      "text/html": [
       "2375419"
      ],
      "text/latex": [
       "2375419"
      ],
      "text/markdown": [
       "2375419"
      ],
      "text/plain": [
       "[1] 2375419"
      ]
     },
     "metadata": {},
     "output_type": "display_data"
    }
   ],
   "source": [
    "nobs(m_binary)"
   ]
  },
  {
   "cell_type": "code",
   "execution_count": 18,
   "id": "82dc4787",
   "metadata": {
    "scrolled": true
   },
   "outputs": [
    {
     "data": {
      "text/html": [
       "<table>\n",
       "<thead><tr><th scope=col>term</th><th scope=col>estimate</th><th scope=col>std.error</th><th scope=col>statistic</th><th scope=col>p.value</th></tr></thead>\n",
       "<tbody>\n",
       "\t<tr><td>(Intercept)                                 </td><td> 1.6751469410                               </td><td>4.147716e-03                                </td><td> 403.87217178                               </td><td> 0.000000e+00                               </td></tr>\n",
       "\t<tr><td>genderFemale                                </td><td> 0.0148448947                               </td><td>2.097625e-03                                </td><td>   7.07700164                               </td><td> 1.473068e-12                               </td></tr>\n",
       "\t<tr><td>self_promotionTrue                          </td><td> 1.5694501068                               </td><td>4.322618e-03                                </td><td> 363.07860576                               </td><td> 0.000000e+00                               </td></tr>\n",
       "\t<tr><td>authorship_posfirst_position                </td><td> 0.0087304068                               </td><td>3.532068e-03                                </td><td>   2.47175519                               </td><td> 1.344516e-02                               </td></tr>\n",
       "\t<tr><td>authorship_posmiddle_position               </td><td> 0.2702541719                               </td><td>2.745871e-03                                </td><td>  98.42201424                               </td><td> 0.000000e+00                               </td></tr>\n",
       "\t<tr><td>authorship_possolo_author                   </td><td>-0.1957947851                               </td><td>8.846846e-03                                </td><td> -22.13159181                               </td><td>1.569384e-108                               </td></tr>\n",
       "\t<tr><td>author_pub_count_cate                       </td><td>-0.0768260680                               </td><td>9.755406e-04                                </td><td> -78.75229864                               </td><td> 0.000000e+00                               </td></tr>\n",
       "\t<tr><td>affiliation_rank_cate                       </td><td>-0.0243307339                               </td><td>3.583196e-04                                </td><td> -67.90231828                               </td><td> 0.000000e+00                               </td></tr>\n",
       "\t<tr><td>affiliation_cateinternational               </td><td>-0.1016629059                               </td><td>2.118694e-03                                </td><td> -47.98375491                               </td><td> 0.000000e+00                               </td></tr>\n",
       "\t<tr><td>num_authors                                 </td><td> 0.0001042210                               </td><td>3.045684e-06                                </td><td>  34.21923118                               </td><td>1.251648e-256                               </td></tr>\n",
       "\t<tr><td>journal_impact                              </td><td> 0.0925934022                               </td><td>1.449097e-04                                </td><td> 638.97310177                               </td><td> 0.000000e+00                               </td></tr>\n",
       "\t<tr><td>author_citation_log                         </td><td> 0.0549484723                               </td><td>5.485558e-04                                </td><td> 100.16934131                               </td><td> 0.000000e+00                               </td></tr>\n",
       "\t<tr><td>Social_Sciences                             </td><td> 0.2311963334                               </td><td>6.046375e-03                                </td><td>  38.23717896                               </td><td> 0.000000e+00                               </td></tr>\n",
       "\t<tr><td>Materials_Science                           </td><td>-0.6588744663                               </td><td>6.123012e-03                                </td><td>-107.60626862                               </td><td> 0.000000e+00                               </td></tr>\n",
       "\t<tr><td>Engineering                                 </td><td>-0.6023404212                               </td><td>5.767731e-03                                </td><td>-104.43282190                               </td><td> 0.000000e+00                               </td></tr>\n",
       "\t<tr><td>Chemistry                                   </td><td>-0.7584793051                               </td><td>4.566372e-03                                </td><td>-166.10106953                               </td><td> 0.000000e+00                               </td></tr>\n",
       "\t<tr><td>Biochemistry__Genetics_and_Molecular_Biology</td><td>-0.1920414465                               </td><td>2.633423e-03                                </td><td> -72.92466112                               </td><td> 0.000000e+00                               </td></tr>\n",
       "\t<tr><td>Medicine                                    </td><td> 0.0053711777                               </td><td>2.212047e-03                                </td><td>   2.42814859                               </td><td> 1.517612e-02                               </td></tr>\n",
       "\t<tr><td>Nursing                                     </td><td> 0.2965559379                               </td><td>7.152783e-03                                </td><td>  41.46021750                               </td><td> 0.000000e+00                               </td></tr>\n",
       "\t<tr><td>Agricultural_and_Biological_Sciences        </td><td> 0.3552133297                               </td><td>3.690020e-03                                </td><td>  96.26325361                               </td><td> 0.000000e+00                               </td></tr>\n",
       "\t<tr><td>Pharmacology__Toxicology_and_Pharmaceutics  </td><td>-0.5150450992                               </td><td>5.445753e-03                                </td><td> -94.57738181                               </td><td> 0.000000e+00                               </td></tr>\n",
       "\t<tr><td>Neuroscience                                </td><td> 0.0006193151                               </td><td>4.614103e-03                                </td><td>   0.13422220                               </td><td> 8.932269e-01                               </td></tr>\n",
       "\t<tr><td>Business__Management_and_Accounting         </td><td>-0.3310804533                               </td><td>1.123902e-02                                </td><td> -29.45811800                               </td><td>9.909411e-191                               </td></tr>\n",
       "\t<tr><td>Economics__Econometrics_and_Finance         </td><td>-0.1053476860                               </td><td>1.237812e-02                                </td><td>  -8.51079543                               </td><td> 1.727442e-17                               </td></tr>\n",
       "\t<tr><td>Chemical_Engineering                        </td><td> 0.0450357370                               </td><td>7.300595e-03                                </td><td>   6.16877588                               </td><td> 6.882069e-10                               </td></tr>\n",
       "\t<tr><td>Physics_and_Astronomy                       </td><td>-0.4016312784                               </td><td>4.934813e-03                                </td><td> -81.38733972                               </td><td> 0.000000e+00                               </td></tr>\n",
       "\t<tr><td>Computer_Science                            </td><td>-0.3016425882                               </td><td>7.507173e-03                                </td><td> -40.18058278                               </td><td> 0.000000e+00                               </td></tr>\n",
       "\t<tr><td>Decision_Sciences                           </td><td>-0.7135041835                               </td><td>1.739343e-02                                </td><td> -41.02148653                               </td><td> 0.000000e+00                               </td></tr>\n",
       "\t<tr><td>Health_Professions                          </td><td> 0.6943094919                               </td><td>9.360225e-03                                </td><td>  74.17658159                               </td><td> 0.000000e+00                               </td></tr>\n",
       "\t<tr><td>Psychology                                  </td><td>-0.2037001778                               </td><td>8.091655e-03                                </td><td> -25.17410585                               </td><td>7.697775e-140                               </td></tr>\n",
       "\t<tr><td>Immunology_and_Microbiology                 </td><td>-0.0706914876                               </td><td>4.837541e-03                                </td><td> -14.61310376                               </td><td> 2.317165e-48                               </td></tr>\n",
       "\t<tr><td>Dentistry                                   </td><td>-1.2950621285                               </td><td>1.747869e-02                                </td><td> -74.09377579                               </td><td> 0.000000e+00                               </td></tr>\n",
       "\t<tr><td>Earth_and_Planetary_Sciences                </td><td>-0.2741489991                               </td><td>5.570299e-03                                </td><td> -49.21620592                               </td><td> 0.000000e+00                               </td></tr>\n",
       "\t<tr><td>Environmental_Science                       </td><td>-0.0546997207                               </td><td>4.555896e-03                                </td><td> -12.00635957                               </td><td> 3.290121e-33                               </td></tr>\n",
       "\t<tr><td>Mathematics                                 </td><td> 0.0527987352                               </td><td>8.234981e-03                                </td><td>   6.41151889                               </td><td> 1.440769e-10                               </td></tr>\n",
       "\t<tr><td>Arts_and_Humanities                         </td><td>-0.0005695208                               </td><td>1.590864e-02                                </td><td>  -0.03579947                               </td><td> 9.714423e-01                               </td></tr>\n",
       "\t<tr><td>Energy                                      </td><td>-1.1101751569                               </td><td>1.129364e-02                                </td><td> -98.30090732                               </td><td> 0.000000e+00                               </td></tr>\n",
       "\t<tr><td>Veterinary                                  </td><td>-0.5474503327                               </td><td>1.112679e-02                                </td><td> -49.20111116                               </td><td> 0.000000e+00                               </td></tr>\n",
       "\t<tr><td>General                                     </td><td> 0.4035853603                               </td><td>7.984314e-03                                </td><td>  50.54727919                               </td><td> 0.000000e+00                               </td></tr>\n",
       "\t<tr><td>genderFemale:self_promotionTrue             </td><td> 0.0377145894                               </td><td>7.544530e-03                                </td><td>   4.99893166                               </td><td> 5.764883e-07                               </td></tr>\n",
       "</tbody>\n",
       "</table>\n"
      ],
      "text/latex": [
       "\\begin{tabular}{r|lllll}\n",
       " term & estimate & std.error & statistic & p.value\\\\\n",
       "\\hline\n",
       "\t (Intercept)                                  &  1.6751469410                                & 4.147716e-03                                 &  403.87217178                                &  0.000000e+00                               \\\\\n",
       "\t genderFemale                                 &  0.0148448947                                & 2.097625e-03                                 &    7.07700164                                &  1.473068e-12                               \\\\\n",
       "\t self\\_promotionTrue                           &  1.5694501068                                  & 4.322618e-03                                   &  363.07860576                                  &  0.000000e+00                                 \\\\\n",
       "\t authorship\\_posfirst\\_position                 &  0.0087304068                                    & 3.532068e-03                                     &    2.47175519                                    &  1.344516e-02                                   \\\\\n",
       "\t authorship\\_posmiddle\\_position                &  0.2702541719                                    & 2.745871e-03                                     &   98.42201424                                    &  0.000000e+00                                   \\\\\n",
       "\t authorship\\_possolo\\_author                    & -0.1957947851                                    & 8.846846e-03                                     &  -22.13159181                                    & 1.569384e-108                                   \\\\\n",
       "\t author\\_pub\\_count\\_cate                        & -0.0768260680                                      & 9.755406e-04                                       &  -78.75229864                                      &  0.000000e+00                                     \\\\\n",
       "\t affiliation\\_rank\\_cate                        & -0.0243307339                                    & 3.583196e-04                                     &  -67.90231828                                    &  0.000000e+00                                   \\\\\n",
       "\t affiliation\\_cateinternational                & -0.1016629059                                  & 2.118694e-03                                   &  -47.98375491                                  &  0.000000e+00                                 \\\\\n",
       "\t num\\_authors                                  &  0.0001042210                                  & 3.045684e-06                                   &   34.21923118                                  & 1.251648e-256                                 \\\\\n",
       "\t journal\\_impact                               &  0.0925934022                                  & 1.449097e-04                                   &  638.97310177                                  &  0.000000e+00                                 \\\\\n",
       "\t author\\_citation\\_log                          &  0.0549484723                                    & 5.485558e-04                                     &  100.16934131                                    &  0.000000e+00                                   \\\\\n",
       "\t Social\\_Sciences                              &  0.2311963334                                  & 6.046375e-03                                   &   38.23717896                                  &  0.000000e+00                                 \\\\\n",
       "\t Materials\\_Science                            & -0.6588744663                                  & 6.123012e-03                                   & -107.60626862                                  &  0.000000e+00                                 \\\\\n",
       "\t Engineering                                  & -0.6023404212                                & 5.767731e-03                                 & -104.43282190                                &  0.000000e+00                               \\\\\n",
       "\t Chemistry                                    & -0.7584793051                                & 4.566372e-03                                 & -166.10106953                                &  0.000000e+00                               \\\\\n",
       "\t Biochemistry\\_\\_Genetics\\_and\\_Molecular\\_Biology & -0.1920414465                                          & 2.633423e-03                                           &  -72.92466112                                          &  0.000000e+00                                         \\\\\n",
       "\t Medicine                                     &  0.0053711777                                & 2.212047e-03                                 &    2.42814859                                &  1.517612e-02                               \\\\\n",
       "\t Nursing                                      &  0.2965559379                                & 7.152783e-03                                 &   41.46021750                                &  0.000000e+00                               \\\\\n",
       "\t Agricultural\\_and\\_Biological\\_Sciences         &  0.3552133297                                      & 3.690020e-03                                       &   96.26325361                                      &  0.000000e+00                                     \\\\\n",
       "\t Pharmacology\\_\\_Toxicology\\_and\\_Pharmaceutics   & -0.5150450992                                        & 5.445753e-03                                         &  -94.57738181                                        &  0.000000e+00                                       \\\\\n",
       "\t Neuroscience                                 &  0.0006193151                                & 4.614103e-03                                 &    0.13422220                                &  8.932269e-01                               \\\\\n",
       "\t Business\\_\\_Management\\_and\\_Accounting          & -0.3310804533                                        & 1.123902e-02                                         &  -29.45811800                                        & 9.909411e-191                                       \\\\\n",
       "\t Economics\\_\\_Econometrics\\_and\\_Finance          & -0.1053476860                                        & 1.237812e-02                                         &   -8.51079543                                        &  1.727442e-17                                       \\\\\n",
       "\t Chemical\\_Engineering                         &  0.0450357370                                  & 7.300595e-03                                   &    6.16877588                                  &  6.882069e-10                                 \\\\\n",
       "\t Physics\\_and\\_Astronomy                        & -0.4016312784                                    & 4.934813e-03                                     &  -81.38733972                                    &  0.000000e+00                                   \\\\\n",
       "\t Computer\\_Science                             & -0.3016425882                                  & 7.507173e-03                                   &  -40.18058278                                  &  0.000000e+00                                 \\\\\n",
       "\t Decision\\_Sciences                            & -0.7135041835                                  & 1.739343e-02                                   &  -41.02148653                                  &  0.000000e+00                                 \\\\\n",
       "\t Health\\_Professions                           &  0.6943094919                                  & 9.360225e-03                                   &   74.17658159                                  &  0.000000e+00                                 \\\\\n",
       "\t Psychology                                   & -0.2037001778                                & 8.091655e-03                                 &  -25.17410585                                & 7.697775e-140                               \\\\\n",
       "\t Immunology\\_and\\_Microbiology                  & -0.0706914876                                    & 4.837541e-03                                     &  -14.61310376                                    &  2.317165e-48                                   \\\\\n",
       "\t Dentistry                                    & -1.2950621285                                & 1.747869e-02                                 &  -74.09377579                                &  0.000000e+00                               \\\\\n",
       "\t Earth\\_and\\_Planetary\\_Sciences                 & -0.2741489991                                      & 5.570299e-03                                       &  -49.21620592                                      &  0.000000e+00                                     \\\\\n",
       "\t Environmental\\_Science                        & -0.0546997207                                  & 4.555896e-03                                   &  -12.00635957                                  &  3.290121e-33                                 \\\\\n",
       "\t Mathematics                                  &  0.0527987352                                & 8.234981e-03                                 &    6.41151889                                &  1.440769e-10                               \\\\\n",
       "\t Arts\\_and\\_Humanities                          & -0.0005695208                                    & 1.590864e-02                                     &   -0.03579947                                    &  9.714423e-01                                   \\\\\n",
       "\t Energy                                       & -1.1101751569                                & 1.129364e-02                                 &  -98.30090732                                &  0.000000e+00                               \\\\\n",
       "\t Veterinary                                   & -0.5474503327                                & 1.112679e-02                                 &  -49.20111116                                &  0.000000e+00                               \\\\\n",
       "\t General                                      &  0.4035853603                                & 7.984314e-03                                 &   50.54727919                                &  0.000000e+00                               \\\\\n",
       "\t genderFemale:self\\_promotionTrue              &  0.0377145894                                  & 7.544530e-03                                   &    4.99893166                                  &  5.764883e-07                                 \\\\\n",
       "\\end{tabular}\n"
      ],
      "text/markdown": [
       "\n",
       "| term | estimate | std.error | statistic | p.value |\n",
       "|---|---|---|---|---|\n",
       "| (Intercept)                                  |  1.6751469410                                | 4.147716e-03                                 |  403.87217178                                |  0.000000e+00                                |\n",
       "| genderFemale                                 |  0.0148448947                                | 2.097625e-03                                 |    7.07700164                                |  1.473068e-12                                |\n",
       "| self_promotionTrue                           |  1.5694501068                                | 4.322618e-03                                 |  363.07860576                                |  0.000000e+00                                |\n",
       "| authorship_posfirst_position                 |  0.0087304068                                | 3.532068e-03                                 |    2.47175519                                |  1.344516e-02                                |\n",
       "| authorship_posmiddle_position                |  0.2702541719                                | 2.745871e-03                                 |   98.42201424                                |  0.000000e+00                                |\n",
       "| authorship_possolo_author                    | -0.1957947851                                | 8.846846e-03                                 |  -22.13159181                                | 1.569384e-108                                |\n",
       "| author_pub_count_cate                        | -0.0768260680                                | 9.755406e-04                                 |  -78.75229864                                |  0.000000e+00                                |\n",
       "| affiliation_rank_cate                        | -0.0243307339                                | 3.583196e-04                                 |  -67.90231828                                |  0.000000e+00                                |\n",
       "| affiliation_cateinternational                | -0.1016629059                                | 2.118694e-03                                 |  -47.98375491                                |  0.000000e+00                                |\n",
       "| num_authors                                  |  0.0001042210                                | 3.045684e-06                                 |   34.21923118                                | 1.251648e-256                                |\n",
       "| journal_impact                               |  0.0925934022                                | 1.449097e-04                                 |  638.97310177                                |  0.000000e+00                                |\n",
       "| author_citation_log                          |  0.0549484723                                | 5.485558e-04                                 |  100.16934131                                |  0.000000e+00                                |\n",
       "| Social_Sciences                              |  0.2311963334                                | 6.046375e-03                                 |   38.23717896                                |  0.000000e+00                                |\n",
       "| Materials_Science                            | -0.6588744663                                | 6.123012e-03                                 | -107.60626862                                |  0.000000e+00                                |\n",
       "| Engineering                                  | -0.6023404212                                | 5.767731e-03                                 | -104.43282190                                |  0.000000e+00                                |\n",
       "| Chemistry                                    | -0.7584793051                                | 4.566372e-03                                 | -166.10106953                                |  0.000000e+00                                |\n",
       "| Biochemistry__Genetics_and_Molecular_Biology | -0.1920414465                                | 2.633423e-03                                 |  -72.92466112                                |  0.000000e+00                                |\n",
       "| Medicine                                     |  0.0053711777                                | 2.212047e-03                                 |    2.42814859                                |  1.517612e-02                                |\n",
       "| Nursing                                      |  0.2965559379                                | 7.152783e-03                                 |   41.46021750                                |  0.000000e+00                                |\n",
       "| Agricultural_and_Biological_Sciences         |  0.3552133297                                | 3.690020e-03                                 |   96.26325361                                |  0.000000e+00                                |\n",
       "| Pharmacology__Toxicology_and_Pharmaceutics   | -0.5150450992                                | 5.445753e-03                                 |  -94.57738181                                |  0.000000e+00                                |\n",
       "| Neuroscience                                 |  0.0006193151                                | 4.614103e-03                                 |    0.13422220                                |  8.932269e-01                                |\n",
       "| Business__Management_and_Accounting          | -0.3310804533                                | 1.123902e-02                                 |  -29.45811800                                | 9.909411e-191                                |\n",
       "| Economics__Econometrics_and_Finance          | -0.1053476860                                | 1.237812e-02                                 |   -8.51079543                                |  1.727442e-17                                |\n",
       "| Chemical_Engineering                         |  0.0450357370                                | 7.300595e-03                                 |    6.16877588                                |  6.882069e-10                                |\n",
       "| Physics_and_Astronomy                        | -0.4016312784                                | 4.934813e-03                                 |  -81.38733972                                |  0.000000e+00                                |\n",
       "| Computer_Science                             | -0.3016425882                                | 7.507173e-03                                 |  -40.18058278                                |  0.000000e+00                                |\n",
       "| Decision_Sciences                            | -0.7135041835                                | 1.739343e-02                                 |  -41.02148653                                |  0.000000e+00                                |\n",
       "| Health_Professions                           |  0.6943094919                                | 9.360225e-03                                 |   74.17658159                                |  0.000000e+00                                |\n",
       "| Psychology                                   | -0.2037001778                                | 8.091655e-03                                 |  -25.17410585                                | 7.697775e-140                                |\n",
       "| Immunology_and_Microbiology                  | -0.0706914876                                | 4.837541e-03                                 |  -14.61310376                                |  2.317165e-48                                |\n",
       "| Dentistry                                    | -1.2950621285                                | 1.747869e-02                                 |  -74.09377579                                |  0.000000e+00                                |\n",
       "| Earth_and_Planetary_Sciences                 | -0.2741489991                                | 5.570299e-03                                 |  -49.21620592                                |  0.000000e+00                                |\n",
       "| Environmental_Science                        | -0.0546997207                                | 4.555896e-03                                 |  -12.00635957                                |  3.290121e-33                                |\n",
       "| Mathematics                                  |  0.0527987352                                | 8.234981e-03                                 |    6.41151889                                |  1.440769e-10                                |\n",
       "| Arts_and_Humanities                          | -0.0005695208                                | 1.590864e-02                                 |   -0.03579947                                |  9.714423e-01                                |\n",
       "| Energy                                       | -1.1101751569                                | 1.129364e-02                                 |  -98.30090732                                |  0.000000e+00                                |\n",
       "| Veterinary                                   | -0.5474503327                                | 1.112679e-02                                 |  -49.20111116                                |  0.000000e+00                                |\n",
       "| General                                      |  0.4035853603                                | 7.984314e-03                                 |   50.54727919                                |  0.000000e+00                                |\n",
       "| genderFemale:self_promotionTrue              |  0.0377145894                                | 7.544530e-03                                 |    4.99893166                                |  5.764883e-07                                |\n",
       "\n"
      ],
      "text/plain": [
       "   term                                         estimate      std.error   \n",
       "1  (Intercept)                                   1.6751469410 4.147716e-03\n",
       "2  genderFemale                                  0.0148448947 2.097625e-03\n",
       "3  self_promotionTrue                            1.5694501068 4.322618e-03\n",
       "4  authorship_posfirst_position                  0.0087304068 3.532068e-03\n",
       "5  authorship_posmiddle_position                 0.2702541719 2.745871e-03\n",
       "6  authorship_possolo_author                    -0.1957947851 8.846846e-03\n",
       "7  author_pub_count_cate                        -0.0768260680 9.755406e-04\n",
       "8  affiliation_rank_cate                        -0.0243307339 3.583196e-04\n",
       "9  affiliation_cateinternational                -0.1016629059 2.118694e-03\n",
       "10 num_authors                                   0.0001042210 3.045684e-06\n",
       "11 journal_impact                                0.0925934022 1.449097e-04\n",
       "12 author_citation_log                           0.0549484723 5.485558e-04\n",
       "13 Social_Sciences                               0.2311963334 6.046375e-03\n",
       "14 Materials_Science                            -0.6588744663 6.123012e-03\n",
       "15 Engineering                                  -0.6023404212 5.767731e-03\n",
       "16 Chemistry                                    -0.7584793051 4.566372e-03\n",
       "17 Biochemistry__Genetics_and_Molecular_Biology -0.1920414465 2.633423e-03\n",
       "18 Medicine                                      0.0053711777 2.212047e-03\n",
       "19 Nursing                                       0.2965559379 7.152783e-03\n",
       "20 Agricultural_and_Biological_Sciences          0.3552133297 3.690020e-03\n",
       "21 Pharmacology__Toxicology_and_Pharmaceutics   -0.5150450992 5.445753e-03\n",
       "22 Neuroscience                                  0.0006193151 4.614103e-03\n",
       "23 Business__Management_and_Accounting          -0.3310804533 1.123902e-02\n",
       "24 Economics__Econometrics_and_Finance          -0.1053476860 1.237812e-02\n",
       "25 Chemical_Engineering                          0.0450357370 7.300595e-03\n",
       "26 Physics_and_Astronomy                        -0.4016312784 4.934813e-03\n",
       "27 Computer_Science                             -0.3016425882 7.507173e-03\n",
       "28 Decision_Sciences                            -0.7135041835 1.739343e-02\n",
       "29 Health_Professions                            0.6943094919 9.360225e-03\n",
       "30 Psychology                                   -0.2037001778 8.091655e-03\n",
       "31 Immunology_and_Microbiology                  -0.0706914876 4.837541e-03\n",
       "32 Dentistry                                    -1.2950621285 1.747869e-02\n",
       "33 Earth_and_Planetary_Sciences                 -0.2741489991 5.570299e-03\n",
       "34 Environmental_Science                        -0.0546997207 4.555896e-03\n",
       "35 Mathematics                                   0.0527987352 8.234981e-03\n",
       "36 Arts_and_Humanities                          -0.0005695208 1.590864e-02\n",
       "37 Energy                                       -1.1101751569 1.129364e-02\n",
       "38 Veterinary                                   -0.5474503327 1.112679e-02\n",
       "39 General                                       0.4035853603 7.984314e-03\n",
       "40 genderFemale:self_promotionTrue               0.0377145894 7.544530e-03\n",
       "   statistic     p.value      \n",
       "1   403.87217178  0.000000e+00\n",
       "2     7.07700164  1.473068e-12\n",
       "3   363.07860576  0.000000e+00\n",
       "4     2.47175519  1.344516e-02\n",
       "5    98.42201424  0.000000e+00\n",
       "6   -22.13159181 1.569384e-108\n",
       "7   -78.75229864  0.000000e+00\n",
       "8   -67.90231828  0.000000e+00\n",
       "9   -47.98375491  0.000000e+00\n",
       "10   34.21923118 1.251648e-256\n",
       "11  638.97310177  0.000000e+00\n",
       "12  100.16934131  0.000000e+00\n",
       "13   38.23717896  0.000000e+00\n",
       "14 -107.60626862  0.000000e+00\n",
       "15 -104.43282190  0.000000e+00\n",
       "16 -166.10106953  0.000000e+00\n",
       "17  -72.92466112  0.000000e+00\n",
       "18    2.42814859  1.517612e-02\n",
       "19   41.46021750  0.000000e+00\n",
       "20   96.26325361  0.000000e+00\n",
       "21  -94.57738181  0.000000e+00\n",
       "22    0.13422220  8.932269e-01\n",
       "23  -29.45811800 9.909411e-191\n",
       "24   -8.51079543  1.727442e-17\n",
       "25    6.16877588  6.882069e-10\n",
       "26  -81.38733972  0.000000e+00\n",
       "27  -40.18058278  0.000000e+00\n",
       "28  -41.02148653  0.000000e+00\n",
       "29   74.17658159  0.000000e+00\n",
       "30  -25.17410585 7.697775e-140\n",
       "31  -14.61310376  2.317165e-48\n",
       "32  -74.09377579  0.000000e+00\n",
       "33  -49.21620592  0.000000e+00\n",
       "34  -12.00635957  3.290121e-33\n",
       "35    6.41151889  1.440769e-10\n",
       "36   -0.03579947  9.714423e-01\n",
       "37  -98.30090732  0.000000e+00\n",
       "38  -49.20111116  0.000000e+00\n",
       "39   50.54727919  0.000000e+00\n",
       "40    4.99893166  5.764883e-07"
      ]
     },
     "metadata": {},
     "output_type": "display_data"
    }
   ],
   "source": [
    "tidy(m_binary)"
   ]
  },
  {
   "cell_type": "code",
   "execution_count": 19,
   "id": "ada0c6a4",
   "metadata": {},
   "outputs": [
    {
     "data": {
      "text/html": [
       "0.342144559957724"
      ],
      "text/latex": [
       "0.342144559957724"
      ],
      "text/markdown": [
       "0.342144559957724"
      ],
      "text/plain": [
       "[1] 0.3421446"
      ]
     },
     "metadata": {},
     "output_type": "display_data"
    }
   ],
   "source": [
    "# you're trying to measure the ratio of the deviance in your model to the null; how much better your model is (residual deviance) than just the intercept (null deviance). If that ratio is tiny, you're 'explaining' most of the deviance in the null; 1 minus that gets you your R-squared.\n",
    "with(summary(m_binary), 1 - deviance/null.deviance)\n"
   ]
  },
  {
   "cell_type": "code",
   "execution_count": 20,
   "id": "f60e47cd",
   "metadata": {
    "scrolled": true
   },
   "outputs": [
    {
     "name": "stdout",
     "output_type": "stream",
     "text": [
      "\n",
      "% Table created by stargazer v.5.2.2 by Marek Hlavac, Harvard University. E-mail: hlavac at fas.harvard.edu\n",
      "% Date and time: Tue, May 10, 2022 - 03:45:09 PM\n",
      "\\begin{table}[!htbp] \\centering \n",
      "  \\caption{} \n",
      "  \\label{} \n",
      "\\begin{tabular}{@{\\extracolsep{5pt}}lc} \n",
      "\\\\[-1.8ex]\\hline \n",
      "\\hline \\\\[-1.8ex] \n",
      " & \\multicolumn{1}{c}{\\textit{Dependent variable:}} \\\\ \n",
      "\\cline{2-2} \n",
      "\\\\[-1.8ex] & total\\_num\\_tweets \\\\ \n",
      "\\hline \\\\[-1.8ex] \n",
      " genderFemale & 0.015$^{***}$ \\\\ \n",
      "  & p = 0.000 \\\\ \n",
      "  self\\_promotionTrue & 1.569$^{***}$ \\\\ \n",
      "  & p = 0.000 \\\\ \n",
      "  authorship\\_posfirst\\_position & 0.009$^{*}$ \\\\ \n",
      "  & p = 0.014 \\\\ \n",
      "  authorship\\_posmiddle\\_position & 0.270$^{***}$ \\\\ \n",
      "  & p = 0.000 \\\\ \n",
      "  authorship\\_possolo\\_author & $-$0.196$^{***}$ \\\\ \n",
      "  & p = 0.000 \\\\ \n",
      "  author\\_pub\\_count\\_cate & $-$0.077$^{***}$ \\\\ \n",
      "  & p = 0.000 \\\\ \n",
      "  affiliation\\_rank\\_cate & $-$0.024$^{***}$ \\\\ \n",
      "  & p = 0.000 \\\\ \n",
      "  affiliation\\_cateinternational & $-$0.102$^{***}$ \\\\ \n",
      "  & p = 0.000 \\\\ \n",
      "  num\\_authors & 0.0001$^{***}$ \\\\ \n",
      "  & p = 0.000 \\\\ \n",
      "  journal\\_impact & 0.093$^{***}$ \\\\ \n",
      "  & p = 0.000 \\\\ \n",
      "  author\\_citation\\_log & 0.055$^{***}$ \\\\ \n",
      "  & p = 0.000 \\\\ \n",
      "  Social\\_Sciences & 0.231$^{***}$ \\\\ \n",
      "  & p = 0.000 \\\\ \n",
      "  Materials\\_Science & $-$0.659$^{***}$ \\\\ \n",
      "  & p = 0.000 \\\\ \n",
      "  Engineering & $-$0.602$^{***}$ \\\\ \n",
      "  & p = 0.000 \\\\ \n",
      "  Chemistry & $-$0.758$^{***}$ \\\\ \n",
      "  & p = 0.000 \\\\ \n",
      "  Biochemistry\\_\\_Genetics\\_and\\_Molecular\\_Biology & $-$0.192$^{***}$ \\\\ \n",
      "  & p = 0.000 \\\\ \n",
      "  Medicine & 0.005$^{*}$ \\\\ \n",
      "  & p = 0.016 \\\\ \n",
      "  Nursing & 0.297$^{***}$ \\\\ \n",
      "  & p = 0.000 \\\\ \n",
      "  Agricultural\\_and\\_Biological\\_Sciences & 0.355$^{***}$ \\\\ \n",
      "  & p = 0.000 \\\\ \n",
      "  Pharmacology\\_\\_Toxicology\\_and\\_Pharmaceutics & $-$0.515$^{***}$ \\\\ \n",
      "  & p = 0.000 \\\\ \n",
      "  Neuroscience & 0.001 \\\\ \n",
      "  & p = 0.894 \\\\ \n",
      "  Business\\_\\_Management\\_and\\_Accounting & $-$0.331$^{***}$ \\\\ \n",
      "  & p = 0.000 \\\\ \n",
      "  Economics\\_\\_Econometrics\\_and\\_Finance & $-$0.105$^{***}$ \\\\ \n",
      "  & p = 0.000 \\\\ \n",
      "  Chemical\\_Engineering & 0.045$^{***}$ \\\\ \n",
      "  & p = 0.000 \\\\ \n",
      "  Physics\\_and\\_Astronomy & $-$0.402$^{***}$ \\\\ \n",
      "  & p = 0.000 \\\\ \n",
      "  Computer\\_Science & $-$0.302$^{***}$ \\\\ \n",
      "  & p = 0.000 \\\\ \n",
      "  Decision\\_Sciences & $-$0.714$^{***}$ \\\\ \n",
      "  & p = 0.000 \\\\ \n",
      "  Health\\_Professions & 0.694$^{***}$ \\\\ \n",
      "  & p = 0.000 \\\\ \n",
      "  Psychology & $-$0.204$^{***}$ \\\\ \n",
      "  & p = 0.000 \\\\ \n",
      "  Immunology\\_and\\_Microbiology & $-$0.071$^{***}$ \\\\ \n",
      "  & p = 0.000 \\\\ \n",
      "  Dentistry & $-$1.295$^{***}$ \\\\ \n",
      "  & p = 0.000 \\\\ \n",
      "  Earth\\_and\\_Planetary\\_Sciences & $-$0.274$^{***}$ \\\\ \n",
      "  & p = 0.000 \\\\ \n",
      "  Environmental\\_Science & $-$0.055$^{***}$ \\\\ \n",
      "  & p = 0.000 \\\\ \n",
      "  Mathematics & 0.053$^{***}$ \\\\ \n",
      "  & p = 0.000 \\\\ \n",
      "  Arts\\_and\\_Humanities & $-$0.001 \\\\ \n",
      "  & p = 0.972 \\\\ \n",
      "  Energy & $-$1.110$^{***}$ \\\\ \n",
      "  & p = 0.000 \\\\ \n",
      "  Veterinary & $-$0.547$^{***}$ \\\\ \n",
      "  & p = 0.000 \\\\ \n",
      "  General & 0.404$^{***}$ \\\\ \n",
      "  & p = 0.000 \\\\ \n",
      "  genderFemale:self\\_promotionTrue & 0.038$^{***}$ \\\\ \n",
      "  & p = 0.00000 \\\\ \n",
      "  Constant & 1.675$^{***}$ \\\\ \n",
      "  & p = 0.000 \\\\ \n",
      " \\hline \\\\[-1.8ex] \n",
      "Observations & 2,375,419 \\\\ \n",
      "Log Likelihood & $-$7,657,121.000 \\\\ \n",
      "$\\theta$ & 0.512$^{***}$  (0.0005) \\\\ \n",
      "Akaike Inf. Crit. & 15,314,322.000 \\\\ \n",
      "\\hline \n",
      "\\hline \\\\[-1.8ex] \n",
      "\\textit{Note:}  & \\multicolumn{1}{r}{$^{*}$p$<$0.05; $^{**}$p$<$0.01; $^{***}$p$<$0.001} \\\\ \n",
      "\\end{tabular} \n",
      "\\end{table} \n"
     ]
    }
   ],
   "source": [
    "# use this search string in Sublime: \" \\\\\\\\ \\n  &\" with \" &\"\n",
    "stargazer(m_binary, type = \"latex\", single.row=TRUE, ci = FALSE, report = ('vc*p'), star.cutoffs = c(0.05, 0.01, 0.001))"
   ]
  },
  {
   "cell_type": "code",
   "execution_count": 21,
   "id": "46c121f8",
   "metadata": {
    "scrolled": true
   },
   "outputs": [],
   "source": [
    "# show confidence intervals for presenting the result as a fig in the paper\n",
    "# stargazer(m_binary, type = \"latex\", single.row=TRUE, ci = TRUE, report = ('vcs'), star.cutoffs = c(0.05, 0.01, 0.001))"
   ]
  },
  {
   "cell_type": "code",
   "execution_count": null,
   "id": "21f19942",
   "metadata": {},
   "outputs": [],
   "source": [
    "# # random effects take too long to estimate (there are 539K papers)\n",
    "\n",
    "# base_str <- \"total_num_tweets ~ 1 + gender * self_promotion + authorship_pos + \\\n",
    "#         author_pub_count_cate + affiliation_rank_cate + affiliation_cate + num_authors + journal_impact\"\n",
    "# equation <- as.formula(paste(base_str, \" + (1|doi) + \", keywords, sep = \" \"))\n",
    "# m_binary_bar <- glmer.nb(equation, data = mydata)"
   ]
  },
  {
   "cell_type": "markdown",
   "id": "0abb68db",
   "metadata": {},
   "source": [
    "Adjusted predictions"
   ]
  },
  {
   "cell_type": "code",
   "execution_count": 22,
   "id": "7c759292",
   "metadata": {},
   "outputs": [],
   "source": [
    "# weighted average for factor variable, median for non-factor variables\n",
    "MEs = ggemmeans(m_binary, terms=c('self_promotion', 'gender'), typical='median')"
   ]
  },
  {
   "cell_type": "code",
   "execution_count": 23,
   "id": "5c10ca69",
   "metadata": {
    "scrolled": true
   },
   "outputs": [
    {
     "data": {
      "text/html": [
       "<table>\n",
       "<thead><tr><th scope=col>x</th><th scope=col>predicted</th><th scope=col>std.error</th><th scope=col>conf.low</th><th scope=col>conf.high</th><th scope=col>group</th></tr></thead>\n",
       "<tbody>\n",
       "\t<tr><td>False      </td><td> 7.728609  </td><td>0.002847794</td><td> 7.685591  </td><td> 7.771867  </td><td>Male       </td></tr>\n",
       "\t<tr><td>False      </td><td> 7.844195  </td><td>0.003080608</td><td> 7.796975  </td><td> 7.891700  </td><td>Female     </td></tr>\n",
       "\t<tr><td>True       </td><td>37.128280  </td><td>0.004754039</td><td>36.783935  </td><td>37.475849  </td><td>Male       </td></tr>\n",
       "\t<tr><td>True       </td><td>39.131917  </td><td>0.006483966</td><td>38.637762  </td><td>39.632392  </td><td>Female     </td></tr>\n",
       "</tbody>\n",
       "</table>\n"
      ],
      "text/latex": [
       "\\begin{tabular}{r|llllll}\n",
       " x & predicted & std.error & conf.low & conf.high & group\\\\\n",
       "\\hline\n",
       "\t False       &  7.728609   & 0.002847794 &  7.685591   &  7.771867   & Male       \\\\\n",
       "\t False       &  7.844195   & 0.003080608 &  7.796975   &  7.891700   & Female     \\\\\n",
       "\t True        & 37.128280   & 0.004754039 & 36.783935   & 37.475849   & Male       \\\\\n",
       "\t True        & 39.131917   & 0.006483966 & 38.637762   & 39.632392   & Female     \\\\\n",
       "\\end{tabular}\n"
      ],
      "text/markdown": [
       "\n",
       "| x | predicted | std.error | conf.low | conf.high | group |\n",
       "|---|---|---|---|---|---|\n",
       "| False       |  7.728609   | 0.002847794 |  7.685591   |  7.771867   | Male        |\n",
       "| False       |  7.844195   | 0.003080608 |  7.796975   |  7.891700   | Female      |\n",
       "| True        | 37.128280   | 0.004754039 | 36.783935   | 37.475849   | Male        |\n",
       "| True        | 39.131917   | 0.006483966 | 38.637762   | 39.632392   | Female      |\n",
       "\n"
      ],
      "text/plain": [
       "  x     predicted std.error   conf.low  conf.high group \n",
       "1 False  7.728609 0.002847794  7.685591  7.771867 Male  \n",
       "2 False  7.844195 0.003080608  7.796975  7.891700 Female\n",
       "3 True  37.128280 0.004754039 36.783935 37.475849 Male  \n",
       "4 True  39.131917 0.006483966 38.637762 39.632392 Female"
      ]
     },
     "metadata": {},
     "output_type": "display_data"
    }
   ],
   "source": [
    "MEs"
   ]
  },
  {
   "cell_type": "code",
   "execution_count": 24,
   "id": "8aaa5f49",
   "metadata": {},
   "outputs": [],
   "source": [
    "write.csv(MEs, paste(data_root, \"reg_results_F_M/gender_return_on_self_promotion.csv\", sep = ''), row.names=FALSE)"
   ]
  },
  {
   "cell_type": "markdown",
   "id": "769b376e",
   "metadata": {},
   "source": [
    "### Self-promoted subset"
   ]
  },
  {
   "cell_type": "markdown",
   "id": "e952524d",
   "metadata": {},
   "source": [
    "Negative Binomial Regression"
   ]
  },
  {
   "cell_type": "code",
   "execution_count": 25,
   "id": "4113fa14",
   "metadata": {},
   "outputs": [],
   "source": [
    "base_str <- \"total_num_tweets ~ 1 + gender + authorship_pos + matched_tid_follower_cn_log + \\\n",
    "        author_pub_count_cate + affiliation_rank_cate + affiliation_cate + num_authors + journal_impact + author_citation_log\"\n",
    "equation <- as.formula(paste(base_str, keywords, sep = \" \"))\n",
    "m_yes <- glm.nb(equation, data = mydata[mydata$self_promotion == \"True\", ])"
   ]
  },
  {
   "cell_type": "code",
   "execution_count": 26,
   "id": "db23038e",
   "metadata": {},
   "outputs": [
    {
     "data": {
      "text/html": [
       "173594"
      ],
      "text/latex": [
       "173594"
      ],
      "text/markdown": [
       "173594"
      ],
      "text/plain": [
       "[1] 173594"
      ]
     },
     "metadata": {},
     "output_type": "display_data"
    }
   ],
   "source": [
    "nrow(mydata[mydata$self_promotion == \"True\", ])"
   ]
  },
  {
   "cell_type": "code",
   "execution_count": 27,
   "id": "fce37467",
   "metadata": {
    "scrolled": true
   },
   "outputs": [
    {
     "data": {
      "text/html": [
       "<table>\n",
       "<thead><tr><th scope=col>term</th><th scope=col>estimate</th><th scope=col>std.error</th><th scope=col>statistic</th><th scope=col>p.value</th></tr></thead>\n",
       "<tbody>\n",
       "\t<tr><td>(Intercept)                                 </td><td> 2.481728991                                </td><td>1.715861e-02                                </td><td>144.6346042                                 </td><td> 0.000000e+00                               </td></tr>\n",
       "\t<tr><td>genderFemale                                </td><td> 0.065490680                                </td><td>6.436649e-03                                </td><td> 10.1746544                                 </td><td> 2.573119e-24                               </td></tr>\n",
       "\t<tr><td>authorship_posfirst_position                </td><td> 0.067410588                                </td><td>9.041009e-03                                </td><td>  7.4560912                                 </td><td> 8.912709e-14                               </td></tr>\n",
       "\t<tr><td>authorship_posmiddle_position               </td><td> 0.415193962                                </td><td>7.676190e-03                                </td><td> 54.0885493                                 </td><td> 0.000000e+00                               </td></tr>\n",
       "\t<tr><td>authorship_possolo_author                   </td><td>-0.231577909                                </td><td>1.731439e-02                                </td><td>-13.3748774                                 </td><td> 8.479337e-41                               </td></tr>\n",
       "\t<tr><td>matched_tid_follower_cn_log                 </td><td> 0.108054921                                </td><td>1.414454e-03                                </td><td> 76.3933910                                 </td><td> 0.000000e+00                               </td></tr>\n",
       "\t<tr><td>author_pub_count_cate                       </td><td>-0.066423486                                </td><td>3.113162e-03                                </td><td>-21.3363412                                 </td><td>5.222517e-101                               </td></tr>\n",
       "\t<tr><td>affiliation_rank_cate                       </td><td>-0.009001096                                </td><td>1.077954e-03                                </td><td> -8.3501648                                 </td><td> 6.816781e-17                               </td></tr>\n",
       "\t<tr><td>affiliation_cateinternational               </td><td>-0.117310555                                </td><td>6.370177e-03                                </td><td>-18.4155866                                 </td><td> 9.851620e-76                               </td></tr>\n",
       "\t<tr><td>num_authors                                 </td><td> 0.001060100                                </td><td>2.860591e-05                                </td><td> 37.0587846                                 </td><td>1.296603e-300                               </td></tr>\n",
       "\t<tr><td>journal_impact                              </td><td> 0.053172978                                </td><td>3.150615e-04                                </td><td>168.7701492                                 </td><td> 0.000000e+00                               </td></tr>\n",
       "\t<tr><td>author_citation_log                         </td><td> 0.040337562                                </td><td>1.723884e-03                                </td><td> 23.3992320                                 </td><td>4.351212e-121                               </td></tr>\n",
       "\t<tr><td>Social_Sciences                             </td><td>-0.218054691                                </td><td>1.268358e-02                                </td><td>-17.1918906                                 </td><td> 3.054088e-66                               </td></tr>\n",
       "\t<tr><td>Materials_Science                           </td><td>-0.593488927                                </td><td>2.397534e-02                                </td><td>-24.7541396                                 </td><td>2.797886e-135                               </td></tr>\n",
       "\t<tr><td>Engineering                                 </td><td>-0.270017904                                </td><td>2.064790e-02                                </td><td>-13.0772594                                 </td><td> 4.441674e-39                               </td></tr>\n",
       "\t<tr><td>Chemistry                                   </td><td>-1.039651339                                </td><td>1.709811e-02                                </td><td>-60.8050272                                 </td><td> 0.000000e+00                               </td></tr>\n",
       "\t<tr><td>Biochemistry__Genetics_and_Molecular_Biology</td><td>-0.039833987                                </td><td>8.740474e-03                                </td><td> -4.5574173                                 </td><td> 5.178647e-06                               </td></tr>\n",
       "\t<tr><td>Medicine                                    </td><td>-0.039619582                                </td><td>7.023262e-03                                </td><td> -5.6411936                                 </td><td> 1.688753e-08                               </td></tr>\n",
       "\t<tr><td>Nursing                                     </td><td> 0.059149388                                </td><td>2.103112e-02                                </td><td>  2.8124691                                 </td><td> 4.916275e-03                               </td></tr>\n",
       "\t<tr><td>Agricultural_and_Biological_Sciences        </td><td> 0.111761732                                </td><td>1.020928e-02                                </td><td> 10.9470680                                 </td><td> 6.863332e-28                               </td></tr>\n",
       "\t<tr><td>Pharmacology__Toxicology_and_Pharmaceutics  </td><td>-0.500149570                                </td><td>2.290127e-02                                </td><td>-21.8393784                                 </td><td>9.808052e-106                               </td></tr>\n",
       "\t<tr><td>Neuroscience                                </td><td>-0.063961531                                </td><td>1.441462e-02                                </td><td> -4.4372683                                 </td><td> 9.110771e-06                               </td></tr>\n",
       "\t<tr><td>Business__Management_and_Accounting         </td><td>-0.433599752                                </td><td>2.614266e-02                                </td><td>-16.5859066                                 </td><td> 8.812569e-62                               </td></tr>\n",
       "\t<tr><td>Economics__Econometrics_and_Finance         </td><td>-0.011313085                                </td><td>2.749310e-02                                </td><td> -0.4114882                                 </td><td> 6.807146e-01                               </td></tr>\n",
       "\t<tr><td>Chemical_Engineering                        </td><td> 0.073209610                                </td><td>2.469164e-02                                </td><td>  2.9649555                                 </td><td> 3.027267e-03                               </td></tr>\n",
       "\t<tr><td>Physics_and_Astronomy                       </td><td>-0.643394826                                </td><td>2.212306e-02                                </td><td>-29.0825428                                 </td><td>5.968948e-186                               </td></tr>\n",
       "\t<tr><td>Computer_Science                            </td><td>-0.392779700                                </td><td>2.231535e-02                                </td><td>-17.6013248                                 </td><td> 2.406290e-69                               </td></tr>\n",
       "\t<tr><td>Decision_Sciences                           </td><td>-0.302984186                                </td><td>4.449931e-02                                </td><td> -6.8087386                                 </td><td> 9.845821e-12                               </td></tr>\n",
       "\t<tr><td>Health_Professions                          </td><td> 0.581866106                                </td><td>2.106805e-02                                </td><td> 27.6184176                                 </td><td>6.687361e-168                               </td></tr>\n",
       "\t<tr><td>Psychology                                  </td><td>-0.022902815                                </td><td>1.956617e-02                                </td><td> -1.1705311                                 </td><td> 2.417873e-01                               </td></tr>\n",
       "\t<tr><td>Immunology_and_Microbiology                 </td><td>-0.085857504                                </td><td>1.670515e-02                                </td><td> -5.1395832                                 </td><td> 2.753486e-07                               </td></tr>\n",
       "\t<tr><td>Dentistry                                   </td><td>-1.276821386                                </td><td>9.424788e-02                                </td><td>-13.5474807                                 </td><td> 8.199630e-42                               </td></tr>\n",
       "\t<tr><td>Earth_and_Planetary_Sciences                </td><td>-0.446635641                                </td><td>1.695660e-02                                </td><td>-26.3399356                                 </td><td>6.693259e-153                               </td></tr>\n",
       "\t<tr><td>Environmental_Science                       </td><td>-0.197553566                                </td><td>1.230281e-02                                </td><td>-16.0575916                                 </td><td> 5.058131e-58                               </td></tr>\n",
       "\t<tr><td>Mathematics                                 </td><td> 0.145114755                                </td><td>3.077347e-02                                </td><td>  4.7155803                                 </td><td> 2.410228e-06                               </td></tr>\n",
       "\t<tr><td>Arts_and_Humanities                         </td><td>-0.046804730                                </td><td>3.336478e-02                                </td><td> -1.4028186                                 </td><td> 1.606709e-01                               </td></tr>\n",
       "\t<tr><td>Energy                                      </td><td>-0.715646490                                </td><td>3.591157e-02                                </td><td>-19.9280176                                 </td><td> 2.325944e-88                               </td></tr>\n",
       "\t<tr><td>Veterinary                                  </td><td>-0.918671590                                </td><td>5.282394e-02                                </td><td>-17.3911971                                 </td><td> 9.620377e-68                               </td></tr>\n",
       "\t<tr><td>General                                     </td><td> 0.531550853                                </td><td>1.651165e-02                                </td><td> 32.1924681                                 </td><td>2.249774e-227                               </td></tr>\n",
       "</tbody>\n",
       "</table>\n"
      ],
      "text/latex": [
       "\\begin{tabular}{r|lllll}\n",
       " term & estimate & std.error & statistic & p.value\\\\\n",
       "\\hline\n",
       "\t (Intercept)                                  &  2.481728991                                 & 1.715861e-02                                 & 144.6346042                                  &  0.000000e+00                               \\\\\n",
       "\t genderFemale                                 &  0.065490680                                 & 6.436649e-03                                 &  10.1746544                                  &  2.573119e-24                               \\\\\n",
       "\t authorship\\_posfirst\\_position                 &  0.067410588                                     & 9.041009e-03                                     &   7.4560912                                      &  8.912709e-14                                   \\\\\n",
       "\t authorship\\_posmiddle\\_position                &  0.415193962                                     & 7.676190e-03                                     &  54.0885493                                      &  0.000000e+00                                   \\\\\n",
       "\t authorship\\_possolo\\_author                    & -0.231577909                                     & 1.731439e-02                                     & -13.3748774                                      &  8.479337e-41                                   \\\\\n",
       "\t matched\\_tid\\_follower\\_cn\\_log                  &  0.108054921                                         & 1.414454e-03                                         &  76.3933910                                          &  0.000000e+00                                       \\\\\n",
       "\t author\\_pub\\_count\\_cate                        & -0.066423486                                       & 3.113162e-03                                       & -21.3363412                                        & 5.222517e-101                                     \\\\\n",
       "\t affiliation\\_rank\\_cate                        & -0.009001096                                     & 1.077954e-03                                     &  -8.3501648                                      &  6.816781e-17                                   \\\\\n",
       "\t affiliation\\_cateinternational                & -0.117310555                                   & 6.370177e-03                                   & -18.4155866                                    &  9.851620e-76                                 \\\\\n",
       "\t num\\_authors                                  &  0.001060100                                   & 2.860591e-05                                   &  37.0587846                                    & 1.296603e-300                                 \\\\\n",
       "\t journal\\_impact                               &  0.053172978                                   & 3.150615e-04                                   & 168.7701492                                    &  0.000000e+00                                 \\\\\n",
       "\t author\\_citation\\_log                          &  0.040337562                                     & 1.723884e-03                                     &  23.3992320                                      & 4.351212e-121                                   \\\\\n",
       "\t Social\\_Sciences                              & -0.218054691                                   & 1.268358e-02                                   & -17.1918906                                    &  3.054088e-66                                 \\\\\n",
       "\t Materials\\_Science                            & -0.593488927                                   & 2.397534e-02                                   & -24.7541396                                    & 2.797886e-135                                 \\\\\n",
       "\t Engineering                                  & -0.270017904                                 & 2.064790e-02                                 & -13.0772594                                  &  4.441674e-39                               \\\\\n",
       "\t Chemistry                                    & -1.039651339                                 & 1.709811e-02                                 & -60.8050272                                  &  0.000000e+00                               \\\\\n",
       "\t Biochemistry\\_\\_Genetics\\_and\\_Molecular\\_Biology & -0.039833987                                           & 8.740474e-03                                           &  -4.5574173                                            &  5.178647e-06                                         \\\\\n",
       "\t Medicine                                     & -0.039619582                                 & 7.023262e-03                                 &  -5.6411936                                  &  1.688753e-08                               \\\\\n",
       "\t Nursing                                      &  0.059149388                                 & 2.103112e-02                                 &   2.8124691                                  &  4.916275e-03                               \\\\\n",
       "\t Agricultural\\_and\\_Biological\\_Sciences         &  0.111761732                                       & 1.020928e-02                                       &  10.9470680                                        &  6.863332e-28                                     \\\\\n",
       "\t Pharmacology\\_\\_Toxicology\\_and\\_Pharmaceutics   & -0.500149570                                         & 2.290127e-02                                         & -21.8393784                                          & 9.808052e-106                                       \\\\\n",
       "\t Neuroscience                                 & -0.063961531                                 & 1.441462e-02                                 &  -4.4372683                                  &  9.110771e-06                               \\\\\n",
       "\t Business\\_\\_Management\\_and\\_Accounting          & -0.433599752                                         & 2.614266e-02                                         & -16.5859066                                          &  8.812569e-62                                       \\\\\n",
       "\t Economics\\_\\_Econometrics\\_and\\_Finance          & -0.011313085                                         & 2.749310e-02                                         &  -0.4114882                                          &  6.807146e-01                                       \\\\\n",
       "\t Chemical\\_Engineering                         &  0.073209610                                   & 2.469164e-02                                   &   2.9649555                                    &  3.027267e-03                                 \\\\\n",
       "\t Physics\\_and\\_Astronomy                        & -0.643394826                                     & 2.212306e-02                                     & -29.0825428                                      & 5.968948e-186                                   \\\\\n",
       "\t Computer\\_Science                             & -0.392779700                                   & 2.231535e-02                                   & -17.6013248                                    &  2.406290e-69                                 \\\\\n",
       "\t Decision\\_Sciences                            & -0.302984186                                   & 4.449931e-02                                   &  -6.8087386                                    &  9.845821e-12                                 \\\\\n",
       "\t Health\\_Professions                           &  0.581866106                                   & 2.106805e-02                                   &  27.6184176                                    & 6.687361e-168                                 \\\\\n",
       "\t Psychology                                   & -0.022902815                                 & 1.956617e-02                                 &  -1.1705311                                  &  2.417873e-01                               \\\\\n",
       "\t Immunology\\_and\\_Microbiology                  & -0.085857504                                     & 1.670515e-02                                     &  -5.1395832                                      &  2.753486e-07                                   \\\\\n",
       "\t Dentistry                                    & -1.276821386                                 & 9.424788e-02                                 & -13.5474807                                  &  8.199630e-42                               \\\\\n",
       "\t Earth\\_and\\_Planetary\\_Sciences                 & -0.446635641                                       & 1.695660e-02                                       & -26.3399356                                        & 6.693259e-153                                     \\\\\n",
       "\t Environmental\\_Science                        & -0.197553566                                   & 1.230281e-02                                   & -16.0575916                                    &  5.058131e-58                                 \\\\\n",
       "\t Mathematics                                  &  0.145114755                                 & 3.077347e-02                                 &   4.7155803                                  &  2.410228e-06                               \\\\\n",
       "\t Arts\\_and\\_Humanities                          & -0.046804730                                     & 3.336478e-02                                     &  -1.4028186                                      &  1.606709e-01                                   \\\\\n",
       "\t Energy                                       & -0.715646490                                 & 3.591157e-02                                 & -19.9280176                                  &  2.325944e-88                               \\\\\n",
       "\t Veterinary                                   & -0.918671590                                 & 5.282394e-02                                 & -17.3911971                                  &  9.620377e-68                               \\\\\n",
       "\t General                                      &  0.531550853                                 & 1.651165e-02                                 &  32.1924681                                  & 2.249774e-227                               \\\\\n",
       "\\end{tabular}\n"
      ],
      "text/markdown": [
       "\n",
       "| term | estimate | std.error | statistic | p.value |\n",
       "|---|---|---|---|---|\n",
       "| (Intercept)                                  |  2.481728991                                 | 1.715861e-02                                 | 144.6346042                                  |  0.000000e+00                                |\n",
       "| genderFemale                                 |  0.065490680                                 | 6.436649e-03                                 |  10.1746544                                  |  2.573119e-24                                |\n",
       "| authorship_posfirst_position                 |  0.067410588                                 | 9.041009e-03                                 |   7.4560912                                  |  8.912709e-14                                |\n",
       "| authorship_posmiddle_position                |  0.415193962                                 | 7.676190e-03                                 |  54.0885493                                  |  0.000000e+00                                |\n",
       "| authorship_possolo_author                    | -0.231577909                                 | 1.731439e-02                                 | -13.3748774                                  |  8.479337e-41                                |\n",
       "| matched_tid_follower_cn_log                  |  0.108054921                                 | 1.414454e-03                                 |  76.3933910                                  |  0.000000e+00                                |\n",
       "| author_pub_count_cate                        | -0.066423486                                 | 3.113162e-03                                 | -21.3363412                                  | 5.222517e-101                                |\n",
       "| affiliation_rank_cate                        | -0.009001096                                 | 1.077954e-03                                 |  -8.3501648                                  |  6.816781e-17                                |\n",
       "| affiliation_cateinternational                | -0.117310555                                 | 6.370177e-03                                 | -18.4155866                                  |  9.851620e-76                                |\n",
       "| num_authors                                  |  0.001060100                                 | 2.860591e-05                                 |  37.0587846                                  | 1.296603e-300                                |\n",
       "| journal_impact                               |  0.053172978                                 | 3.150615e-04                                 | 168.7701492                                  |  0.000000e+00                                |\n",
       "| author_citation_log                          |  0.040337562                                 | 1.723884e-03                                 |  23.3992320                                  | 4.351212e-121                                |\n",
       "| Social_Sciences                              | -0.218054691                                 | 1.268358e-02                                 | -17.1918906                                  |  3.054088e-66                                |\n",
       "| Materials_Science                            | -0.593488927                                 | 2.397534e-02                                 | -24.7541396                                  | 2.797886e-135                                |\n",
       "| Engineering                                  | -0.270017904                                 | 2.064790e-02                                 | -13.0772594                                  |  4.441674e-39                                |\n",
       "| Chemistry                                    | -1.039651339                                 | 1.709811e-02                                 | -60.8050272                                  |  0.000000e+00                                |\n",
       "| Biochemistry__Genetics_and_Molecular_Biology | -0.039833987                                 | 8.740474e-03                                 |  -4.5574173                                  |  5.178647e-06                                |\n",
       "| Medicine                                     | -0.039619582                                 | 7.023262e-03                                 |  -5.6411936                                  |  1.688753e-08                                |\n",
       "| Nursing                                      |  0.059149388                                 | 2.103112e-02                                 |   2.8124691                                  |  4.916275e-03                                |\n",
       "| Agricultural_and_Biological_Sciences         |  0.111761732                                 | 1.020928e-02                                 |  10.9470680                                  |  6.863332e-28                                |\n",
       "| Pharmacology__Toxicology_and_Pharmaceutics   | -0.500149570                                 | 2.290127e-02                                 | -21.8393784                                  | 9.808052e-106                                |\n",
       "| Neuroscience                                 | -0.063961531                                 | 1.441462e-02                                 |  -4.4372683                                  |  9.110771e-06                                |\n",
       "| Business__Management_and_Accounting          | -0.433599752                                 | 2.614266e-02                                 | -16.5859066                                  |  8.812569e-62                                |\n",
       "| Economics__Econometrics_and_Finance          | -0.011313085                                 | 2.749310e-02                                 |  -0.4114882                                  |  6.807146e-01                                |\n",
       "| Chemical_Engineering                         |  0.073209610                                 | 2.469164e-02                                 |   2.9649555                                  |  3.027267e-03                                |\n",
       "| Physics_and_Astronomy                        | -0.643394826                                 | 2.212306e-02                                 | -29.0825428                                  | 5.968948e-186                                |\n",
       "| Computer_Science                             | -0.392779700                                 | 2.231535e-02                                 | -17.6013248                                  |  2.406290e-69                                |\n",
       "| Decision_Sciences                            | -0.302984186                                 | 4.449931e-02                                 |  -6.8087386                                  |  9.845821e-12                                |\n",
       "| Health_Professions                           |  0.581866106                                 | 2.106805e-02                                 |  27.6184176                                  | 6.687361e-168                                |\n",
       "| Psychology                                   | -0.022902815                                 | 1.956617e-02                                 |  -1.1705311                                  |  2.417873e-01                                |\n",
       "| Immunology_and_Microbiology                  | -0.085857504                                 | 1.670515e-02                                 |  -5.1395832                                  |  2.753486e-07                                |\n",
       "| Dentistry                                    | -1.276821386                                 | 9.424788e-02                                 | -13.5474807                                  |  8.199630e-42                                |\n",
       "| Earth_and_Planetary_Sciences                 | -0.446635641                                 | 1.695660e-02                                 | -26.3399356                                  | 6.693259e-153                                |\n",
       "| Environmental_Science                        | -0.197553566                                 | 1.230281e-02                                 | -16.0575916                                  |  5.058131e-58                                |\n",
       "| Mathematics                                  |  0.145114755                                 | 3.077347e-02                                 |   4.7155803                                  |  2.410228e-06                                |\n",
       "| Arts_and_Humanities                          | -0.046804730                                 | 3.336478e-02                                 |  -1.4028186                                  |  1.606709e-01                                |\n",
       "| Energy                                       | -0.715646490                                 | 3.591157e-02                                 | -19.9280176                                  |  2.325944e-88                                |\n",
       "| Veterinary                                   | -0.918671590                                 | 5.282394e-02                                 | -17.3911971                                  |  9.620377e-68                                |\n",
       "| General                                      |  0.531550853                                 | 1.651165e-02                                 |  32.1924681                                  | 2.249774e-227                                |\n",
       "\n"
      ],
      "text/plain": [
       "   term                                         estimate     std.error   \n",
       "1  (Intercept)                                   2.481728991 1.715861e-02\n",
       "2  genderFemale                                  0.065490680 6.436649e-03\n",
       "3  authorship_posfirst_position                  0.067410588 9.041009e-03\n",
       "4  authorship_posmiddle_position                 0.415193962 7.676190e-03\n",
       "5  authorship_possolo_author                    -0.231577909 1.731439e-02\n",
       "6  matched_tid_follower_cn_log                   0.108054921 1.414454e-03\n",
       "7  author_pub_count_cate                        -0.066423486 3.113162e-03\n",
       "8  affiliation_rank_cate                        -0.009001096 1.077954e-03\n",
       "9  affiliation_cateinternational                -0.117310555 6.370177e-03\n",
       "10 num_authors                                   0.001060100 2.860591e-05\n",
       "11 journal_impact                                0.053172978 3.150615e-04\n",
       "12 author_citation_log                           0.040337562 1.723884e-03\n",
       "13 Social_Sciences                              -0.218054691 1.268358e-02\n",
       "14 Materials_Science                            -0.593488927 2.397534e-02\n",
       "15 Engineering                                  -0.270017904 2.064790e-02\n",
       "16 Chemistry                                    -1.039651339 1.709811e-02\n",
       "17 Biochemistry__Genetics_and_Molecular_Biology -0.039833987 8.740474e-03\n",
       "18 Medicine                                     -0.039619582 7.023262e-03\n",
       "19 Nursing                                       0.059149388 2.103112e-02\n",
       "20 Agricultural_and_Biological_Sciences          0.111761732 1.020928e-02\n",
       "21 Pharmacology__Toxicology_and_Pharmaceutics   -0.500149570 2.290127e-02\n",
       "22 Neuroscience                                 -0.063961531 1.441462e-02\n",
       "23 Business__Management_and_Accounting          -0.433599752 2.614266e-02\n",
       "24 Economics__Econometrics_and_Finance          -0.011313085 2.749310e-02\n",
       "25 Chemical_Engineering                          0.073209610 2.469164e-02\n",
       "26 Physics_and_Astronomy                        -0.643394826 2.212306e-02\n",
       "27 Computer_Science                             -0.392779700 2.231535e-02\n",
       "28 Decision_Sciences                            -0.302984186 4.449931e-02\n",
       "29 Health_Professions                            0.581866106 2.106805e-02\n",
       "30 Psychology                                   -0.022902815 1.956617e-02\n",
       "31 Immunology_and_Microbiology                  -0.085857504 1.670515e-02\n",
       "32 Dentistry                                    -1.276821386 9.424788e-02\n",
       "33 Earth_and_Planetary_Sciences                 -0.446635641 1.695660e-02\n",
       "34 Environmental_Science                        -0.197553566 1.230281e-02\n",
       "35 Mathematics                                   0.145114755 3.077347e-02\n",
       "36 Arts_and_Humanities                          -0.046804730 3.336478e-02\n",
       "37 Energy                                       -0.715646490 3.591157e-02\n",
       "38 Veterinary                                   -0.918671590 5.282394e-02\n",
       "39 General                                       0.531550853 1.651165e-02\n",
       "   statistic   p.value      \n",
       "1  144.6346042  0.000000e+00\n",
       "2   10.1746544  2.573119e-24\n",
       "3    7.4560912  8.912709e-14\n",
       "4   54.0885493  0.000000e+00\n",
       "5  -13.3748774  8.479337e-41\n",
       "6   76.3933910  0.000000e+00\n",
       "7  -21.3363412 5.222517e-101\n",
       "8   -8.3501648  6.816781e-17\n",
       "9  -18.4155866  9.851620e-76\n",
       "10  37.0587846 1.296603e-300\n",
       "11 168.7701492  0.000000e+00\n",
       "12  23.3992320 4.351212e-121\n",
       "13 -17.1918906  3.054088e-66\n",
       "14 -24.7541396 2.797886e-135\n",
       "15 -13.0772594  4.441674e-39\n",
       "16 -60.8050272  0.000000e+00\n",
       "17  -4.5574173  5.178647e-06\n",
       "18  -5.6411936  1.688753e-08\n",
       "19   2.8124691  4.916275e-03\n",
       "20  10.9470680  6.863332e-28\n",
       "21 -21.8393784 9.808052e-106\n",
       "22  -4.4372683  9.110771e-06\n",
       "23 -16.5859066  8.812569e-62\n",
       "24  -0.4114882  6.807146e-01\n",
       "25   2.9649555  3.027267e-03\n",
       "26 -29.0825428 5.968948e-186\n",
       "27 -17.6013248  2.406290e-69\n",
       "28  -6.8087386  9.845821e-12\n",
       "29  27.6184176 6.687361e-168\n",
       "30  -1.1705311  2.417873e-01\n",
       "31  -5.1395832  2.753486e-07\n",
       "32 -13.5474807  8.199630e-42\n",
       "33 -26.3399356 6.693259e-153\n",
       "34 -16.0575916  5.058131e-58\n",
       "35   4.7155803  2.410228e-06\n",
       "36  -1.4028186  1.606709e-01\n",
       "37 -19.9280176  2.325944e-88\n",
       "38 -17.3911971  9.620377e-68\n",
       "39  32.1924681 2.249774e-227"
      ]
     },
     "metadata": {},
     "output_type": "display_data"
    }
   ],
   "source": [
    "tidy(m_yes)"
   ]
  },
  {
   "cell_type": "code",
   "execution_count": 28,
   "id": "74b7cb06",
   "metadata": {
    "scrolled": true
   },
   "outputs": [
    {
     "name": "stdout",
     "output_type": "stream",
     "text": [
      "\n",
      "% Table created by stargazer v.5.2.2 by Marek Hlavac, Harvard University. E-mail: hlavac at fas.harvard.edu\n",
      "% Date and time: Tue, May 10, 2022 - 03:50:11 PM\n",
      "\\begin{table}[!htbp] \\centering \n",
      "  \\caption{} \n",
      "  \\label{} \n",
      "\\begin{tabular}{@{\\extracolsep{5pt}}lc} \n",
      "\\\\[-1.8ex]\\hline \n",
      "\\hline \\\\[-1.8ex] \n",
      " & \\multicolumn{1}{c}{\\textit{Dependent variable:}} \\\\ \n",
      "\\cline{2-2} \n",
      "\\\\[-1.8ex] & total\\_num\\_tweets \\\\ \n",
      "\\hline \\\\[-1.8ex] \n",
      " genderFemale & 0.065$^{***}$ \\\\ \n",
      "  & p = 0.000 \\\\ \n",
      "  authorship\\_posfirst\\_position & 0.067$^{***}$ \\\\ \n",
      "  & p = 0.000 \\\\ \n",
      "  authorship\\_posmiddle\\_position & 0.415$^{***}$ \\\\ \n",
      "  & p = 0.000 \\\\ \n",
      "  authorship\\_possolo\\_author & $-$0.232$^{***}$ \\\\ \n",
      "  & p = 0.000 \\\\ \n",
      "  matched\\_tid\\_follower\\_cn\\_log & 0.108$^{***}$ \\\\ \n",
      "  & p = 0.000 \\\\ \n",
      "  author\\_pub\\_count\\_cate & $-$0.066$^{***}$ \\\\ \n",
      "  & p = 0.000 \\\\ \n",
      "  affiliation\\_rank\\_cate & $-$0.009$^{***}$ \\\\ \n",
      "  & p = 0.000 \\\\ \n",
      "  affiliation\\_cateinternational & $-$0.117$^{***}$ \\\\ \n",
      "  & p = 0.000 \\\\ \n",
      "  num\\_authors & 0.001$^{***}$ \\\\ \n",
      "  & p = 0.000 \\\\ \n",
      "  journal\\_impact & 0.053$^{***}$ \\\\ \n",
      "  & p = 0.000 \\\\ \n",
      "  author\\_citation\\_log & 0.040$^{***}$ \\\\ \n",
      "  & p = 0.000 \\\\ \n",
      "  Social\\_Sciences & $-$0.218$^{***}$ \\\\ \n",
      "  & p = 0.000 \\\\ \n",
      "  Materials\\_Science & $-$0.593$^{***}$ \\\\ \n",
      "  & p = 0.000 \\\\ \n",
      "  Engineering & $-$0.270$^{***}$ \\\\ \n",
      "  & p = 0.000 \\\\ \n",
      "  Chemistry & $-$1.040$^{***}$ \\\\ \n",
      "  & p = 0.000 \\\\ \n",
      "  Biochemistry\\_\\_Genetics\\_and\\_Molecular\\_Biology & $-$0.040$^{***}$ \\\\ \n",
      "  & p = 0.00001 \\\\ \n",
      "  Medicine & $-$0.040$^{***}$ \\\\ \n",
      "  & p = 0.00000 \\\\ \n",
      "  Nursing & 0.059$^{**}$ \\\\ \n",
      "  & p = 0.005 \\\\ \n",
      "  Agricultural\\_and\\_Biological\\_Sciences & 0.112$^{***}$ \\\\ \n",
      "  & p = 0.000 \\\\ \n",
      "  Pharmacology\\_\\_Toxicology\\_and\\_Pharmaceutics & $-$0.500$^{***}$ \\\\ \n",
      "  & p = 0.000 \\\\ \n",
      "  Neuroscience & $-$0.064$^{***}$ \\\\ \n",
      "  & p = 0.00001 \\\\ \n",
      "  Business\\_\\_Management\\_and\\_Accounting & $-$0.434$^{***}$ \\\\ \n",
      "  & p = 0.000 \\\\ \n",
      "  Economics\\_\\_Econometrics\\_and\\_Finance & $-$0.011 \\\\ \n",
      "  & p = 0.681 \\\\ \n",
      "  Chemical\\_Engineering & 0.073$^{**}$ \\\\ \n",
      "  & p = 0.004 \\\\ \n",
      "  Physics\\_and\\_Astronomy & $-$0.643$^{***}$ \\\\ \n",
      "  & p = 0.000 \\\\ \n",
      "  Computer\\_Science & $-$0.393$^{***}$ \\\\ \n",
      "  & p = 0.000 \\\\ \n",
      "  Decision\\_Sciences & $-$0.303$^{***}$ \\\\ \n",
      "  & p = 0.000 \\\\ \n",
      "  Health\\_Professions & 0.582$^{***}$ \\\\ \n",
      "  & p = 0.000 \\\\ \n",
      "  Psychology & $-$0.023 \\\\ \n",
      "  & p = 0.242 \\\\ \n",
      "  Immunology\\_and\\_Microbiology & $-$0.086$^{***}$ \\\\ \n",
      "  & p = 0.00000 \\\\ \n",
      "  Dentistry & $-$1.277$^{***}$ \\\\ \n",
      "  & p = 0.000 \\\\ \n",
      "  Earth\\_and\\_Planetary\\_Sciences & $-$0.447$^{***}$ \\\\ \n",
      "  & p = 0.000 \\\\ \n",
      "  Environmental\\_Science & $-$0.198$^{***}$ \\\\ \n",
      "  & p = 0.000 \\\\ \n",
      "  Mathematics & 0.145$^{***}$ \\\\ \n",
      "  & p = 0.00001 \\\\ \n",
      "  Arts\\_and\\_Humanities & $-$0.047 \\\\ \n",
      "  & p = 0.161 \\\\ \n",
      "  Energy & $-$0.716$^{***}$ \\\\ \n",
      "  & p = 0.000 \\\\ \n",
      "  Veterinary & $-$0.919$^{***}$ \\\\ \n",
      "  & p = 0.000 \\\\ \n",
      "  General & 0.532$^{***}$ \\\\ \n",
      "  & p = 0.000 \\\\ \n",
      "  Constant & 2.482$^{***}$ \\\\ \n",
      "  & p = 0.000 \\\\ \n",
      " \\hline \\\\[-1.8ex] \n",
      "Observations & 173,594 \\\\ \n",
      "Log Likelihood & $-$851,443.300 \\\\ \n",
      "$\\theta$ & 0.701$^{***}$  (0.002) \\\\ \n",
      "Akaike Inf. Crit. & 1,702,965.000 \\\\ \n",
      "\\hline \n",
      "\\hline \\\\[-1.8ex] \n",
      "\\textit{Note:}  & \\multicolumn{1}{r}{$^{*}$p$<$0.05; $^{**}$p$<$0.01; $^{***}$p$<$0.001} \\\\ \n",
      "\\end{tabular} \n",
      "\\end{table} \n"
     ]
    }
   ],
   "source": [
    "# use this search string in Sublime: \" \\\\\\\\ \\n  &\" with \" &\"\n",
    "stargazer(m_yes, type = \"latex\", single.row=TRUE, ci = FALSE, report = ('vc*p'), star.cutoffs = c(0.05, 0.01, 0.001))"
   ]
  },
  {
   "cell_type": "markdown",
   "id": "ac2c4f98",
   "metadata": {},
   "source": [
    "## Robustness check 1 (not due to coauthors' self-promotion)"
   ]
  },
  {
   "cell_type": "markdown",
   "id": "5b6b618b",
   "metadata": {},
   "source": [
    "### Solo-author papers (all obs)"
   ]
  },
  {
   "cell_type": "code",
   "execution_count": 29,
   "id": "87abc68a",
   "metadata": {},
   "outputs": [],
   "source": [
    "subdata = mydata[mydata$authorship_pos == \"solo_author\", ]"
   ]
  },
  {
   "cell_type": "code",
   "execution_count": 30,
   "id": "a3785008",
   "metadata": {
    "scrolled": true
   },
   "outputs": [
    {
     "data": {
      "text/html": [
       "30417"
      ],
      "text/latex": [
       "30417"
      ],
      "text/markdown": [
       "30417"
      ],
      "text/plain": [
       "[1] 30417"
      ]
     },
     "metadata": {},
     "output_type": "display_data"
    }
   ],
   "source": [
    "nrow(subdata)"
   ]
  },
  {
   "cell_type": "markdown",
   "id": "5cb98872",
   "metadata": {},
   "source": [
    "Negative Binomial Regression"
   ]
  },
  {
   "cell_type": "code",
   "execution_count": 31,
   "id": "f5c37a5a",
   "metadata": {},
   "outputs": [],
   "source": [
    "base_str <- \"total_num_tweets ~ 1 + gender * self_promotion + \\\n",
    "        author_pub_count_cate + affiliation_rank_cate + affiliation_cate + journal_impact + author_citation_log\"\n",
    "equation <- as.formula(paste(base_str, keywords, sep = \" \"))\n",
    "m_binary <- glm.nb(equation, data = subdata)"
   ]
  },
  {
   "cell_type": "code",
   "execution_count": 32,
   "id": "286b2dea",
   "metadata": {
    "scrolled": true
   },
   "outputs": [
    {
     "data": {
      "text/html": [
       "30417"
      ],
      "text/latex": [
       "30417"
      ],
      "text/markdown": [
       "30417"
      ],
      "text/plain": [
       "[1] 30417"
      ]
     },
     "metadata": {},
     "output_type": "display_data"
    }
   ],
   "source": [
    "nobs(m_binary)"
   ]
  },
  {
   "cell_type": "code",
   "execution_count": 33,
   "id": "d55fd8b3",
   "metadata": {
    "scrolled": true
   },
   "outputs": [
    {
     "data": {
      "text/html": [
       "<table>\n",
       "<thead><tr><th scope=col>term</th><th scope=col>estimate</th><th scope=col>std.error</th><th scope=col>statistic</th><th scope=col>p.value</th></tr></thead>\n",
       "<tbody>\n",
       "\t<tr><td>(Intercept)                                 </td><td> 1.54939910                                 </td><td>0.027965805                                 </td><td> 55.4033429                                 </td><td>0.000000e+00                                </td></tr>\n",
       "\t<tr><td>genderFemale                                </td><td> 0.08645353                                 </td><td>0.019931895                                 </td><td>  4.3374467                                 </td><td>1.441474e-05                                </td></tr>\n",
       "\t<tr><td>self_promotionTrue                          </td><td> 1.60119501                                 </td><td>0.024184618                                 </td><td> 66.2071655                                 </td><td>0.000000e+00                                </td></tr>\n",
       "\t<tr><td>author_pub_count_cate                       </td><td>-0.05469446                                 </td><td>0.008685260                                 </td><td> -6.2973887                                 </td><td>3.027015e-10                                </td></tr>\n",
       "\t<tr><td>affiliation_rank_cate                       </td><td>-0.01491372                                 </td><td>0.002787646                                 </td><td> -5.3499337                                 </td><td>8.798647e-08                                </td></tr>\n",
       "\t<tr><td>affiliation_cateinternational               </td><td>-0.17118824                                 </td><td>0.016916071                                 </td><td>-10.1198582                                 </td><td>4.510686e-24                                </td></tr>\n",
       "\t<tr><td>journal_impact                              </td><td> 0.04664741                                 </td><td>0.001033368                                 </td><td> 45.1411539                                 </td><td>0.000000e+00                                </td></tr>\n",
       "\t<tr><td>author_citation_log                         </td><td> 0.06454285                                 </td><td>0.004854749                                 </td><td> 13.2947860                                 </td><td>2.481822e-40                                </td></tr>\n",
       "\t<tr><td>Social_Sciences                             </td><td> 0.09998604                                 </td><td>0.022271913                                 </td><td>  4.4893333                                 </td><td>7.144643e-06                                </td></tr>\n",
       "\t<tr><td>Materials_Science                           </td><td>-0.64638074                                 </td><td>0.087989449                                 </td><td> -7.3461165                                 </td><td>2.040486e-13                                </td></tr>\n",
       "\t<tr><td>Engineering                                 </td><td>-0.44369681                                 </td><td>0.060278164                                 </td><td> -7.3608215                                 </td><td>1.827818e-13                                </td></tr>\n",
       "\t<tr><td>Chemistry                                   </td><td>-0.49663727                                 </td><td>0.057598300                                 </td><td> -8.6224294                                 </td><td>6.554841e-18                                </td></tr>\n",
       "\t<tr><td>Biochemistry__Genetics_and_Molecular_Biology</td><td> 0.02943181                                 </td><td>0.031773503                                 </td><td>  0.9263006                                 </td><td>3.542898e-01                                </td></tr>\n",
       "\t<tr><td>Medicine                                    </td><td>-0.06365794                                 </td><td>0.022398060                                 </td><td> -2.8421185                                 </td><td>4.481483e-03                                </td></tr>\n",
       "\t<tr><td>Nursing                                     </td><td> 0.03488648                                 </td><td>0.059021367                                 </td><td>  0.5910822                                 </td><td>5.544654e-01                                </td></tr>\n",
       "\t<tr><td>Agricultural_and_Biological_Sciences        </td><td> 0.19830283                                 </td><td>0.037109417                                 </td><td>  5.3437335                                 </td><td>9.105139e-08                                </td></tr>\n",
       "\t<tr><td>Pharmacology__Toxicology_and_Pharmaceutics  </td><td>-0.71763036                                 </td><td>0.075142489                                 </td><td> -9.5502606                                 </td><td>1.293704e-21                                </td></tr>\n",
       "\t<tr><td>Neuroscience                                </td><td> 0.42857368                                 </td><td>0.052253004                                 </td><td>  8.2018955                                 </td><td>2.366259e-16                                </td></tr>\n",
       "\t<tr><td>Business__Management_and_Accounting         </td><td>-0.39455988                                 </td><td>0.045926878                                 </td><td> -8.5910450                                 </td><td>8.618186e-18                                </td></tr>\n",
       "\t<tr><td>Economics__Econometrics_and_Finance         </td><td>-0.02832217                                 </td><td>0.041797322                                 </td><td> -0.6776073                                 </td><td>4.980207e-01                                </td></tr>\n",
       "\t<tr><td>Chemical_Engineering                        </td><td> 0.06443637                                 </td><td>0.108139959                                 </td><td>  0.5958608                                 </td><td>5.512682e-01                                </td></tr>\n",
       "\t<tr><td>Physics_and_Astronomy                       </td><td>-0.21606634                                 </td><td>0.039952241                                 </td><td> -5.4081156                                 </td><td>6.369130e-08                                </td></tr>\n",
       "\t<tr><td>Computer_Science                            </td><td>-0.27335502                                 </td><td>0.051358854                                 </td><td> -5.3224516                                 </td><td>1.023780e-07                                </td></tr>\n",
       "\t<tr><td>Decision_Sciences                           </td><td>-0.22413457                                 </td><td>0.092995494                                 </td><td> -2.4101659                                 </td><td>1.594527e-02                                </td></tr>\n",
       "\t<tr><td>Health_Professions                          </td><td> 0.51854864                                 </td><td>0.094494923                                 </td><td>  5.4875820                                 </td><td>4.074729e-08                                </td></tr>\n",
       "\t<tr><td>Psychology                                  </td><td>-0.19092281                                 </td><td>0.040841004                                 </td><td> -4.6747826                                 </td><td>2.942652e-06                                </td></tr>\n",
       "\t<tr><td>Immunology_and_Microbiology                 </td><td> 0.03792597                                 </td><td>0.057192370                                 </td><td>  0.6631299                                 </td><td>5.072474e-01                                </td></tr>\n",
       "\t<tr><td>Dentistry                                   </td><td>-0.66283019                                 </td><td>0.254726696                                 </td><td> -2.6021230                                 </td><td>9.264862e-03                                </td></tr>\n",
       "\t<tr><td>Earth_and_Planetary_Sciences                </td><td>-0.39662444                                 </td><td>0.050144797                                 </td><td> -7.9095832                                 </td><td>2.582521e-15                                </td></tr>\n",
       "\t<tr><td>Environmental_Science                       </td><td> 0.03463588                                 </td><td>0.044510633                                 </td><td>  0.7781484                                 </td><td>4.364815e-01                                </td></tr>\n",
       "\t<tr><td>Mathematics                                 </td><td>-0.14224209                                 </td><td>0.043564468                                 </td><td> -3.2650942                                 </td><td>1.094277e-03                                </td></tr>\n",
       "\t<tr><td>Arts_and_Humanities                         </td><td>-0.25969316                                 </td><td>0.033561968                                 </td><td> -7.7377213                                 </td><td>1.012144e-14                                </td></tr>\n",
       "\t<tr><td>Energy                                      </td><td>-1.07670689                                 </td><td>0.115158705                                 </td><td> -9.3497656                                 </td><td>8.784222e-21                                </td></tr>\n",
       "\t<tr><td>Veterinary                                  </td><td>-0.43615437                                 </td><td>0.160028427                                 </td><td> -2.7254806                                 </td><td>6.420795e-03                                </td></tr>\n",
       "\t<tr><td>General                                     </td><td> 0.32406330                                 </td><td>0.067026556                                 </td><td>  4.8348494                                 </td><td>1.332465e-06                                </td></tr>\n",
       "\t<tr><td>genderFemale:self_promotionTrue             </td><td>-0.05415857                                 </td><td>0.040165554                                 </td><td> -1.3483834                                 </td><td>1.775351e-01                                </td></tr>\n",
       "</tbody>\n",
       "</table>\n"
      ],
      "text/latex": [
       "\\begin{tabular}{r|lllll}\n",
       " term & estimate & std.error & statistic & p.value\\\\\n",
       "\\hline\n",
       "\t (Intercept)                                  &  1.54939910                                  & 0.027965805                                  &  55.4033429                                  & 0.000000e+00                                \\\\\n",
       "\t genderFemale                                 &  0.08645353                                  & 0.019931895                                  &   4.3374467                                  & 1.441474e-05                                \\\\\n",
       "\t self\\_promotionTrue                           &  1.60119501                                    & 0.024184618                                    &  66.2071655                                    & 0.000000e+00                                  \\\\\n",
       "\t author\\_pub\\_count\\_cate                        & -0.05469446                                        & 0.008685260                                        &  -6.2973887                                        & 3.027015e-10                                      \\\\\n",
       "\t affiliation\\_rank\\_cate                        & -0.01491372                                      & 0.002787646                                      &  -5.3499337                                      & 8.798647e-08                                    \\\\\n",
       "\t affiliation\\_cateinternational                & -0.17118824                                    & 0.016916071                                    & -10.1198582                                    & 4.510686e-24                                  \\\\\n",
       "\t journal\\_impact                               &  0.04664741                                    & 0.001033368                                    &  45.1411539                                    & 0.000000e+00                                  \\\\\n",
       "\t author\\_citation\\_log                          &  0.06454285                                      & 0.004854749                                      &  13.2947860                                      & 2.481822e-40                                    \\\\\n",
       "\t Social\\_Sciences                              &  0.09998604                                    & 0.022271913                                    &   4.4893333                                    & 7.144643e-06                                  \\\\\n",
       "\t Materials\\_Science                            & -0.64638074                                    & 0.087989449                                    &  -7.3461165                                    & 2.040486e-13                                  \\\\\n",
       "\t Engineering                                  & -0.44369681                                  & 0.060278164                                  &  -7.3608215                                  & 1.827818e-13                                \\\\\n",
       "\t Chemistry                                    & -0.49663727                                  & 0.057598300                                  &  -8.6224294                                  & 6.554841e-18                                \\\\\n",
       "\t Biochemistry\\_\\_Genetics\\_and\\_Molecular\\_Biology &  0.02943181                                            & 0.031773503                                            &   0.9263006                                            & 3.542898e-01                                          \\\\\n",
       "\t Medicine                                     & -0.06365794                                  & 0.022398060                                  &  -2.8421185                                  & 4.481483e-03                                \\\\\n",
       "\t Nursing                                      &  0.03488648                                  & 0.059021367                                  &   0.5910822                                  & 5.544654e-01                                \\\\\n",
       "\t Agricultural\\_and\\_Biological\\_Sciences         &  0.19830283                                        & 0.037109417                                        &   5.3437335                                        & 9.105139e-08                                      \\\\\n",
       "\t Pharmacology\\_\\_Toxicology\\_and\\_Pharmaceutics   & -0.71763036                                          & 0.075142489                                          &  -9.5502606                                          & 1.293704e-21                                        \\\\\n",
       "\t Neuroscience                                 &  0.42857368                                  & 0.052253004                                  &   8.2018955                                  & 2.366259e-16                                \\\\\n",
       "\t Business\\_\\_Management\\_and\\_Accounting          & -0.39455988                                          & 0.045926878                                          &  -8.5910450                                          & 8.618186e-18                                        \\\\\n",
       "\t Economics\\_\\_Econometrics\\_and\\_Finance          & -0.02832217                                          & 0.041797322                                          &  -0.6776073                                          & 4.980207e-01                                        \\\\\n",
       "\t Chemical\\_Engineering                         &  0.06443637                                    & 0.108139959                                    &   0.5958608                                    & 5.512682e-01                                  \\\\\n",
       "\t Physics\\_and\\_Astronomy                        & -0.21606634                                      & 0.039952241                                      &  -5.4081156                                      & 6.369130e-08                                    \\\\\n",
       "\t Computer\\_Science                             & -0.27335502                                    & 0.051358854                                    &  -5.3224516                                    & 1.023780e-07                                  \\\\\n",
       "\t Decision\\_Sciences                            & -0.22413457                                    & 0.092995494                                    &  -2.4101659                                    & 1.594527e-02                                  \\\\\n",
       "\t Health\\_Professions                           &  0.51854864                                    & 0.094494923                                    &   5.4875820                                    & 4.074729e-08                                  \\\\\n",
       "\t Psychology                                   & -0.19092281                                  & 0.040841004                                  &  -4.6747826                                  & 2.942652e-06                                \\\\\n",
       "\t Immunology\\_and\\_Microbiology                  &  0.03792597                                      & 0.057192370                                      &   0.6631299                                      & 5.072474e-01                                    \\\\\n",
       "\t Dentistry                                    & -0.66283019                                  & 0.254726696                                  &  -2.6021230                                  & 9.264862e-03                                \\\\\n",
       "\t Earth\\_and\\_Planetary\\_Sciences                 & -0.39662444                                        & 0.050144797                                        &  -7.9095832                                        & 2.582521e-15                                      \\\\\n",
       "\t Environmental\\_Science                        &  0.03463588                                    & 0.044510633                                    &   0.7781484                                    & 4.364815e-01                                  \\\\\n",
       "\t Mathematics                                  & -0.14224209                                  & 0.043564468                                  &  -3.2650942                                  & 1.094277e-03                                \\\\\n",
       "\t Arts\\_and\\_Humanities                          & -0.25969316                                      & 0.033561968                                      &  -7.7377213                                      & 1.012144e-14                                    \\\\\n",
       "\t Energy                                       & -1.07670689                                  & 0.115158705                                  &  -9.3497656                                  & 8.784222e-21                                \\\\\n",
       "\t Veterinary                                   & -0.43615437                                  & 0.160028427                                  &  -2.7254806                                  & 6.420795e-03                                \\\\\n",
       "\t General                                      &  0.32406330                                  & 0.067026556                                  &   4.8348494                                  & 1.332465e-06                                \\\\\n",
       "\t genderFemale:self\\_promotionTrue              & -0.05415857                                    & 0.040165554                                    &  -1.3483834                                    & 1.775351e-01                                  \\\\\n",
       "\\end{tabular}\n"
      ],
      "text/markdown": [
       "\n",
       "| term | estimate | std.error | statistic | p.value |\n",
       "|---|---|---|---|---|\n",
       "| (Intercept)                                  |  1.54939910                                  | 0.027965805                                  |  55.4033429                                  | 0.000000e+00                                 |\n",
       "| genderFemale                                 |  0.08645353                                  | 0.019931895                                  |   4.3374467                                  | 1.441474e-05                                 |\n",
       "| self_promotionTrue                           |  1.60119501                                  | 0.024184618                                  |  66.2071655                                  | 0.000000e+00                                 |\n",
       "| author_pub_count_cate                        | -0.05469446                                  | 0.008685260                                  |  -6.2973887                                  | 3.027015e-10                                 |\n",
       "| affiliation_rank_cate                        | -0.01491372                                  | 0.002787646                                  |  -5.3499337                                  | 8.798647e-08                                 |\n",
       "| affiliation_cateinternational                | -0.17118824                                  | 0.016916071                                  | -10.1198582                                  | 4.510686e-24                                 |\n",
       "| journal_impact                               |  0.04664741                                  | 0.001033368                                  |  45.1411539                                  | 0.000000e+00                                 |\n",
       "| author_citation_log                          |  0.06454285                                  | 0.004854749                                  |  13.2947860                                  | 2.481822e-40                                 |\n",
       "| Social_Sciences                              |  0.09998604                                  | 0.022271913                                  |   4.4893333                                  | 7.144643e-06                                 |\n",
       "| Materials_Science                            | -0.64638074                                  | 0.087989449                                  |  -7.3461165                                  | 2.040486e-13                                 |\n",
       "| Engineering                                  | -0.44369681                                  | 0.060278164                                  |  -7.3608215                                  | 1.827818e-13                                 |\n",
       "| Chemistry                                    | -0.49663727                                  | 0.057598300                                  |  -8.6224294                                  | 6.554841e-18                                 |\n",
       "| Biochemistry__Genetics_and_Molecular_Biology |  0.02943181                                  | 0.031773503                                  |   0.9263006                                  | 3.542898e-01                                 |\n",
       "| Medicine                                     | -0.06365794                                  | 0.022398060                                  |  -2.8421185                                  | 4.481483e-03                                 |\n",
       "| Nursing                                      |  0.03488648                                  | 0.059021367                                  |   0.5910822                                  | 5.544654e-01                                 |\n",
       "| Agricultural_and_Biological_Sciences         |  0.19830283                                  | 0.037109417                                  |   5.3437335                                  | 9.105139e-08                                 |\n",
       "| Pharmacology__Toxicology_and_Pharmaceutics   | -0.71763036                                  | 0.075142489                                  |  -9.5502606                                  | 1.293704e-21                                 |\n",
       "| Neuroscience                                 |  0.42857368                                  | 0.052253004                                  |   8.2018955                                  | 2.366259e-16                                 |\n",
       "| Business__Management_and_Accounting          | -0.39455988                                  | 0.045926878                                  |  -8.5910450                                  | 8.618186e-18                                 |\n",
       "| Economics__Econometrics_and_Finance          | -0.02832217                                  | 0.041797322                                  |  -0.6776073                                  | 4.980207e-01                                 |\n",
       "| Chemical_Engineering                         |  0.06443637                                  | 0.108139959                                  |   0.5958608                                  | 5.512682e-01                                 |\n",
       "| Physics_and_Astronomy                        | -0.21606634                                  | 0.039952241                                  |  -5.4081156                                  | 6.369130e-08                                 |\n",
       "| Computer_Science                             | -0.27335502                                  | 0.051358854                                  |  -5.3224516                                  | 1.023780e-07                                 |\n",
       "| Decision_Sciences                            | -0.22413457                                  | 0.092995494                                  |  -2.4101659                                  | 1.594527e-02                                 |\n",
       "| Health_Professions                           |  0.51854864                                  | 0.094494923                                  |   5.4875820                                  | 4.074729e-08                                 |\n",
       "| Psychology                                   | -0.19092281                                  | 0.040841004                                  |  -4.6747826                                  | 2.942652e-06                                 |\n",
       "| Immunology_and_Microbiology                  |  0.03792597                                  | 0.057192370                                  |   0.6631299                                  | 5.072474e-01                                 |\n",
       "| Dentistry                                    | -0.66283019                                  | 0.254726696                                  |  -2.6021230                                  | 9.264862e-03                                 |\n",
       "| Earth_and_Planetary_Sciences                 | -0.39662444                                  | 0.050144797                                  |  -7.9095832                                  | 2.582521e-15                                 |\n",
       "| Environmental_Science                        |  0.03463588                                  | 0.044510633                                  |   0.7781484                                  | 4.364815e-01                                 |\n",
       "| Mathematics                                  | -0.14224209                                  | 0.043564468                                  |  -3.2650942                                  | 1.094277e-03                                 |\n",
       "| Arts_and_Humanities                          | -0.25969316                                  | 0.033561968                                  |  -7.7377213                                  | 1.012144e-14                                 |\n",
       "| Energy                                       | -1.07670689                                  | 0.115158705                                  |  -9.3497656                                  | 8.784222e-21                                 |\n",
       "| Veterinary                                   | -0.43615437                                  | 0.160028427                                  |  -2.7254806                                  | 6.420795e-03                                 |\n",
       "| General                                      |  0.32406330                                  | 0.067026556                                  |   4.8348494                                  | 1.332465e-06                                 |\n",
       "| genderFemale:self_promotionTrue              | -0.05415857                                  | 0.040165554                                  |  -1.3483834                                  | 1.775351e-01                                 |\n",
       "\n"
      ],
      "text/plain": [
       "   term                                         estimate    std.error  \n",
       "1  (Intercept)                                   1.54939910 0.027965805\n",
       "2  genderFemale                                  0.08645353 0.019931895\n",
       "3  self_promotionTrue                            1.60119501 0.024184618\n",
       "4  author_pub_count_cate                        -0.05469446 0.008685260\n",
       "5  affiliation_rank_cate                        -0.01491372 0.002787646\n",
       "6  affiliation_cateinternational                -0.17118824 0.016916071\n",
       "7  journal_impact                                0.04664741 0.001033368\n",
       "8  author_citation_log                           0.06454285 0.004854749\n",
       "9  Social_Sciences                               0.09998604 0.022271913\n",
       "10 Materials_Science                            -0.64638074 0.087989449\n",
       "11 Engineering                                  -0.44369681 0.060278164\n",
       "12 Chemistry                                    -0.49663727 0.057598300\n",
       "13 Biochemistry__Genetics_and_Molecular_Biology  0.02943181 0.031773503\n",
       "14 Medicine                                     -0.06365794 0.022398060\n",
       "15 Nursing                                       0.03488648 0.059021367\n",
       "16 Agricultural_and_Biological_Sciences          0.19830283 0.037109417\n",
       "17 Pharmacology__Toxicology_and_Pharmaceutics   -0.71763036 0.075142489\n",
       "18 Neuroscience                                  0.42857368 0.052253004\n",
       "19 Business__Management_and_Accounting          -0.39455988 0.045926878\n",
       "20 Economics__Econometrics_and_Finance          -0.02832217 0.041797322\n",
       "21 Chemical_Engineering                          0.06443637 0.108139959\n",
       "22 Physics_and_Astronomy                        -0.21606634 0.039952241\n",
       "23 Computer_Science                             -0.27335502 0.051358854\n",
       "24 Decision_Sciences                            -0.22413457 0.092995494\n",
       "25 Health_Professions                            0.51854864 0.094494923\n",
       "26 Psychology                                   -0.19092281 0.040841004\n",
       "27 Immunology_and_Microbiology                   0.03792597 0.057192370\n",
       "28 Dentistry                                    -0.66283019 0.254726696\n",
       "29 Earth_and_Planetary_Sciences                 -0.39662444 0.050144797\n",
       "30 Environmental_Science                         0.03463588 0.044510633\n",
       "31 Mathematics                                  -0.14224209 0.043564468\n",
       "32 Arts_and_Humanities                          -0.25969316 0.033561968\n",
       "33 Energy                                       -1.07670689 0.115158705\n",
       "34 Veterinary                                   -0.43615437 0.160028427\n",
       "35 General                                       0.32406330 0.067026556\n",
       "36 genderFemale:self_promotionTrue              -0.05415857 0.040165554\n",
       "   statistic   p.value     \n",
       "1   55.4033429 0.000000e+00\n",
       "2    4.3374467 1.441474e-05\n",
       "3   66.2071655 0.000000e+00\n",
       "4   -6.2973887 3.027015e-10\n",
       "5   -5.3499337 8.798647e-08\n",
       "6  -10.1198582 4.510686e-24\n",
       "7   45.1411539 0.000000e+00\n",
       "8   13.2947860 2.481822e-40\n",
       "9    4.4893333 7.144643e-06\n",
       "10  -7.3461165 2.040486e-13\n",
       "11  -7.3608215 1.827818e-13\n",
       "12  -8.6224294 6.554841e-18\n",
       "13   0.9263006 3.542898e-01\n",
       "14  -2.8421185 4.481483e-03\n",
       "15   0.5910822 5.544654e-01\n",
       "16   5.3437335 9.105139e-08\n",
       "17  -9.5502606 1.293704e-21\n",
       "18   8.2018955 2.366259e-16\n",
       "19  -8.5910450 8.618186e-18\n",
       "20  -0.6776073 4.980207e-01\n",
       "21   0.5958608 5.512682e-01\n",
       "22  -5.4081156 6.369130e-08\n",
       "23  -5.3224516 1.023780e-07\n",
       "24  -2.4101659 1.594527e-02\n",
       "25   5.4875820 4.074729e-08\n",
       "26  -4.6747826 2.942652e-06\n",
       "27   0.6631299 5.072474e-01\n",
       "28  -2.6021230 9.264862e-03\n",
       "29  -7.9095832 2.582521e-15\n",
       "30   0.7781484 4.364815e-01\n",
       "31  -3.2650942 1.094277e-03\n",
       "32  -7.7377213 1.012144e-14\n",
       "33  -9.3497656 8.784222e-21\n",
       "34  -2.7254806 6.420795e-03\n",
       "35   4.8348494 1.332465e-06\n",
       "36  -1.3483834 1.775351e-01"
      ]
     },
     "metadata": {},
     "output_type": "display_data"
    }
   ],
   "source": [
    "tidy(m_binary)"
   ]
  },
  {
   "cell_type": "code",
   "execution_count": 34,
   "id": "a7a6d001",
   "metadata": {
    "scrolled": true
   },
   "outputs": [
    {
     "name": "stdout",
     "output_type": "stream",
     "text": [
      "\n",
      "% Table created by stargazer v.5.2.2 by Marek Hlavac, Harvard University. E-mail: hlavac at fas.harvard.edu\n",
      "% Date and time: Tue, May 10, 2022 - 03:50:14 PM\n",
      "\\begin{table}[!htbp] \\centering \n",
      "  \\caption{} \n",
      "  \\label{} \n",
      "\\begin{tabular}{@{\\extracolsep{5pt}}lc} \n",
      "\\\\[-1.8ex]\\hline \n",
      "\\hline \\\\[-1.8ex] \n",
      " & \\multicolumn{1}{c}{\\textit{Dependent variable:}} \\\\ \n",
      "\\cline{2-2} \n",
      "\\\\[-1.8ex] & total\\_num\\_tweets \\\\ \n",
      "\\hline \\\\[-1.8ex] \n",
      " genderFemale & 0.086$^{***}$ \\\\ \n",
      "  & p = 0.00002 \\\\ \n",
      "  self\\_promotionTrue & 1.601$^{***}$ \\\\ \n",
      "  & p = 0.000 \\\\ \n",
      "  author\\_pub\\_count\\_cate & $-$0.055$^{***}$ \\\\ \n",
      "  & p = 0.000 \\\\ \n",
      "  affiliation\\_rank\\_cate & $-$0.015$^{***}$ \\\\ \n",
      "  & p = 0.00000 \\\\ \n",
      "  affiliation\\_cateinternational & $-$0.171$^{***}$ \\\\ \n",
      "  & p = 0.000 \\\\ \n",
      "  journal\\_impact & 0.047$^{***}$ \\\\ \n",
      "  & p = 0.000 \\\\ \n",
      "  author\\_citation\\_log & 0.065$^{***}$ \\\\ \n",
      "  & p = 0.000 \\\\ \n",
      "  Social\\_Sciences & 0.100$^{***}$ \\\\ \n",
      "  & p = 0.00001 \\\\ \n",
      "  Materials\\_Science & $-$0.646$^{***}$ \\\\ \n",
      "  & p = 0.000 \\\\ \n",
      "  Engineering & $-$0.444$^{***}$ \\\\ \n",
      "  & p = 0.000 \\\\ \n",
      "  Chemistry & $-$0.497$^{***}$ \\\\ \n",
      "  & p = 0.000 \\\\ \n",
      "  Biochemistry\\_\\_Genetics\\_and\\_Molecular\\_Biology & 0.029 \\\\ \n",
      "  & p = 0.355 \\\\ \n",
      "  Medicine & $-$0.064$^{**}$ \\\\ \n",
      "  & p = 0.005 \\\\ \n",
      "  Nursing & 0.035 \\\\ \n",
      "  & p = 0.555 \\\\ \n",
      "  Agricultural\\_and\\_Biological\\_Sciences & 0.198$^{***}$ \\\\ \n",
      "  & p = 0.00000 \\\\ \n",
      "  Pharmacology\\_\\_Toxicology\\_and\\_Pharmaceutics & $-$0.718$^{***}$ \\\\ \n",
      "  & p = 0.000 \\\\ \n",
      "  Neuroscience & 0.429$^{***}$ \\\\ \n",
      "  & p = 0.000 \\\\ \n",
      "  Business\\_\\_Management\\_and\\_Accounting & $-$0.395$^{***}$ \\\\ \n",
      "  & p = 0.000 \\\\ \n",
      "  Economics\\_\\_Econometrics\\_and\\_Finance & $-$0.028 \\\\ \n",
      "  & p = 0.499 \\\\ \n",
      "  Chemical\\_Engineering & 0.064 \\\\ \n",
      "  & p = 0.552 \\\\ \n",
      "  Physics\\_and\\_Astronomy & $-$0.216$^{***}$ \\\\ \n",
      "  & p = 0.00000 \\\\ \n",
      "  Computer\\_Science & $-$0.273$^{***}$ \\\\ \n",
      "  & p = 0.00000 \\\\ \n",
      "  Decision\\_Sciences & $-$0.224$^{*}$ \\\\ \n",
      "  & p = 0.016 \\\\ \n",
      "  Health\\_Professions & 0.519$^{***}$ \\\\ \n",
      "  & p = 0.00000 \\\\ \n",
      "  Psychology & $-$0.191$^{***}$ \\\\ \n",
      "  & p = 0.00001 \\\\ \n",
      "  Immunology\\_and\\_Microbiology & 0.038 \\\\ \n",
      "  & p = 0.508 \\\\ \n",
      "  Dentistry & $-$0.663$^{**}$ \\\\ \n",
      "  & p = 0.010 \\\\ \n",
      "  Earth\\_and\\_Planetary\\_Sciences & $-$0.397$^{***}$ \\\\ \n",
      "  & p = 0.000 \\\\ \n",
      "  Environmental\\_Science & 0.035 \\\\ \n",
      "  & p = 0.437 \\\\ \n",
      "  Mathematics & $-$0.142$^{**}$ \\\\ \n",
      "  & p = 0.002 \\\\ \n",
      "  Arts\\_and\\_Humanities & $-$0.260$^{***}$ \\\\ \n",
      "  & p = 0.000 \\\\ \n",
      "  Energy & $-$1.077$^{***}$ \\\\ \n",
      "  & p = 0.000 \\\\ \n",
      "  Veterinary & $-$0.436$^{**}$ \\\\ \n",
      "  & p = 0.007 \\\\ \n",
      "  General & 0.324$^{***}$ \\\\ \n",
      "  & p = 0.00001 \\\\ \n",
      "  genderFemale:self\\_promotionTrue & $-$0.054 \\\\ \n",
      "  & p = 0.178 \\\\ \n",
      "  Constant & 1.549$^{***}$ \\\\ \n",
      "  & p = 0.000 \\\\ \n",
      " \\hline \\\\[-1.8ex] \n",
      "Observations & 30,417 \\\\ \n",
      "Log Likelihood & $-$94,673.870 \\\\ \n",
      "$\\theta$ & 0.574$^{***}$  (0.005) \\\\ \n",
      "Akaike Inf. Crit. & 189,419.700 \\\\ \n",
      "\\hline \n",
      "\\hline \\\\[-1.8ex] \n",
      "\\textit{Note:}  & \\multicolumn{1}{r}{$^{*}$p$<$0.05; $^{**}$p$<$0.01; $^{***}$p$<$0.001} \\\\ \n",
      "\\end{tabular} \n",
      "\\end{table} \n"
     ]
    }
   ],
   "source": [
    "# use this search string in Sublime: \" \\\\\\\\ \\n  &\" with \" &\"\n",
    "stargazer(m_binary, type = \"latex\", single.row=TRUE, ci = FALSE, report = ('vc*p'), star.cutoffs = c(0.05, 0.01, 0.001))"
   ]
  },
  {
   "cell_type": "markdown",
   "id": "bf9f2449",
   "metadata": {},
   "source": [
    "### Solo-author papers (self-promoted subset)"
   ]
  },
  {
   "cell_type": "markdown",
   "id": "312edb4d",
   "metadata": {},
   "source": [
    "Negative Binomial Regression"
   ]
  },
  {
   "cell_type": "code",
   "execution_count": 35,
   "id": "7af2c7d2",
   "metadata": {},
   "outputs": [],
   "source": [
    "base_str <- \"total_num_tweets ~ 1 + gender + matched_tid_follower_cn_log + \\\n",
    "        author_pub_count_cate + affiliation_rank_cate + affiliation_cate + journal_impact + author_citation_log\"\n",
    "equation <- as.formula(paste(base_str, keywords, sep = \" \"))\n",
    "m_yes <- glm.nb(equation, data = subdata[subdata$self_promotion == \"True\", ])"
   ]
  },
  {
   "cell_type": "code",
   "execution_count": 36,
   "id": "6dbe058f",
   "metadata": {
    "scrolled": true
   },
   "outputs": [
    {
     "data": {
      "text/html": [
       "<table>\n",
       "<thead><tr><th scope=col>term</th><th scope=col>estimate</th><th scope=col>std.error</th><th scope=col>statistic</th><th scope=col>p.value</th></tr></thead>\n",
       "<tbody>\n",
       "\t<tr><td>(Intercept)                                 </td><td> 1.503837118                                </td><td>0.084655707                                 </td><td>17.76415526                                 </td><td> 1.339414e-70                               </td></tr>\n",
       "\t<tr><td>genderFemale                                </td><td> 0.135924011                                </td><td>0.032061779                                 </td><td> 4.23944071                                 </td><td> 2.240774e-05                               </td></tr>\n",
       "\t<tr><td>matched_tid_follower_cn_log                 </td><td> 0.186100731                                </td><td>0.007315190                                 </td><td>25.44031470                                 </td><td>9.035819e-143                               </td></tr>\n",
       "\t<tr><td>author_pub_count_cate                       </td><td> 0.037073369                                </td><td>0.016520045                                 </td><td> 2.24414453                                 </td><td> 2.482310e-02                               </td></tr>\n",
       "\t<tr><td>affiliation_rank_cate                       </td><td>-0.026840393                                </td><td>0.005290654                                 </td><td>-5.07317074                                 </td><td> 3.912412e-07                               </td></tr>\n",
       "\t<tr><td>affiliation_cateinternational               </td><td>-0.290087666                                </td><td>0.032897415                                 </td><td>-8.81794700                                 </td><td> 1.165774e-18                               </td></tr>\n",
       "\t<tr><td>journal_impact                              </td><td> 0.037192622                                </td><td>0.001739265                                 </td><td>21.38409819                                 </td><td>1.878836e-101                               </td></tr>\n",
       "\t<tr><td>author_citation_log                         </td><td> 0.003663737                                </td><td>0.008973017                                 </td><td> 0.40830603                                 </td><td> 6.830490e-01                               </td></tr>\n",
       "\t<tr><td>Social_Sciences                             </td><td>-0.109730959                                </td><td>0.038868933                                 </td><td>-2.82310190                                 </td><td> 4.756145e-03                               </td></tr>\n",
       "\t<tr><td>Materials_Science                           </td><td>-0.777899999                                </td><td>0.218862840                                 </td><td>-3.55428084                                 </td><td> 3.790142e-04                               </td></tr>\n",
       "\t<tr><td>Engineering                                 </td><td>-0.072727005                                </td><td>0.118328418                                 </td><td>-0.61461994                                 </td><td> 5.388057e-01                               </td></tr>\n",
       "\t<tr><td>Chemistry                                   </td><td>-0.392742551                                </td><td>0.169767071                                 </td><td>-2.31342008                                 </td><td> 2.069955e-02                               </td></tr>\n",
       "\t<tr><td>Biochemistry__Genetics_and_Molecular_Biology</td><td>-0.025040437                                </td><td>0.071417751                                 </td><td>-0.35061923                                 </td><td> 7.258740e-01                               </td></tr>\n",
       "\t<tr><td>Medicine                                    </td><td> 0.039173450                                </td><td>0.047861241                                 </td><td> 0.81847962                                 </td><td> 4.130834e-01                               </td></tr>\n",
       "\t<tr><td>Nursing                                     </td><td>-0.320743642                                </td><td>0.121321154                                 </td><td>-2.64375693                                 </td><td> 8.199151e-03                               </td></tr>\n",
       "\t<tr><td>Agricultural_and_Biological_Sciences        </td><td> 0.060431705                                </td><td>0.073198204                                 </td><td> 0.82558999                                 </td><td> 4.090367e-01                               </td></tr>\n",
       "\t<tr><td>Pharmacology__Toxicology_and_Pharmaceutics  </td><td>-1.005294851                                </td><td>0.196823361                                 </td><td>-5.10759924                                 </td><td> 3.262777e-07                               </td></tr>\n",
       "\t<tr><td>Neuroscience                                </td><td> 0.135708611                                </td><td>0.102952542                                 </td><td> 1.31816669                                 </td><td> 1.874479e-01                               </td></tr>\n",
       "\t<tr><td>Business__Management_and_Accounting         </td><td>-0.555922872                                </td><td>0.079914133                                 </td><td>-6.95650253                                 </td><td> 3.488240e-12                               </td></tr>\n",
       "\t<tr><td>Economics__Econometrics_and_Finance         </td><td> 0.210911452                                </td><td>0.075996529                                 </td><td> 2.77527742                                 </td><td> 5.515464e-03                               </td></tr>\n",
       "\t<tr><td>Chemical_Engineering                        </td><td>-0.013466449                                </td><td>0.217171268                                 </td><td>-0.06200843                                 </td><td> 9.505561e-01                               </td></tr>\n",
       "\t<tr><td>Physics_and_Astronomy                       </td><td>-0.732442218                                </td><td>0.138617457                                 </td><td>-5.28391036                                 </td><td> 1.264551e-07                               </td></tr>\n",
       "\t<tr><td>Computer_Science                            </td><td>-0.380084426                                </td><td>0.107334648                                 </td><td>-3.54111588                                 </td><td> 3.984385e-04                               </td></tr>\n",
       "\t<tr><td>Decision_Sciences                           </td><td>-0.145830103                                </td><td>0.185266867                                 </td><td>-0.78713537                                 </td><td> 4.312026e-01                               </td></tr>\n",
       "\t<tr><td>Health_Professions                          </td><td> 0.436883002                                </td><td>0.176767479                                 </td><td> 2.47151232                                 </td><td> 1.345429e-02                               </td></tr>\n",
       "\t<tr><td>Psychology                                  </td><td>-0.321253713                                </td><td>0.081899447                                 </td><td>-3.92253826                                 </td><td> 8.762097e-05                               </td></tr>\n",
       "\t<tr><td>Immunology_and_Microbiology                 </td><td> 0.328600086                                </td><td>0.134595304                                 </td><td> 2.44139340                                 </td><td> 1.463071e-02                               </td></tr>\n",
       "\t<tr><td>Dentistry                                   </td><td>-1.251546424                                </td><td>0.709204438                                 </td><td>-1.76471883                                 </td><td> 7.761103e-02                               </td></tr>\n",
       "\t<tr><td>Earth_and_Planetary_Sciences                </td><td>-0.142764115                                </td><td>0.104520372                                 </td><td>-1.36589750                                 </td><td> 1.719711e-01                               </td></tr>\n",
       "\t<tr><td>Environmental_Science                       </td><td>-0.109098314                                </td><td>0.075627229                                 </td><td>-1.44257982                                 </td><td> 1.491389e-01                               </td></tr>\n",
       "\t<tr><td>Mathematics                                 </td><td> 0.582099402                                </td><td>0.162667736                                 </td><td> 3.57845641                                 </td><td> 3.456295e-04                               </td></tr>\n",
       "\t<tr><td>Arts_and_Humanities                         </td><td>-0.389355773                                </td><td>0.057623268                                 </td><td>-6.75691934                                 </td><td> 1.409566e-11                               </td></tr>\n",
       "\t<tr><td>Energy                                      </td><td>-0.727518541                                </td><td>0.224838071                                 </td><td>-3.23574445                                 </td><td> 1.213259e-03                               </td></tr>\n",
       "\t<tr><td>Veterinary                                  </td><td>-0.600068055                                </td><td>0.539978514                                 </td><td>-1.11128136                                 </td><td> 2.664473e-01                               </td></tr>\n",
       "\t<tr><td>General                                     </td><td> 0.336696818                                </td><td>0.112199751                                 </td><td> 3.00086956                                 </td><td> 2.692099e-03                               </td></tr>\n",
       "</tbody>\n",
       "</table>\n"
      ],
      "text/latex": [
       "\\begin{tabular}{r|lllll}\n",
       " term & estimate & std.error & statistic & p.value\\\\\n",
       "\\hline\n",
       "\t (Intercept)                                  &  1.503837118                                 & 0.084655707                                  & 17.76415526                                  &  1.339414e-70                               \\\\\n",
       "\t genderFemale                                 &  0.135924011                                 & 0.032061779                                  &  4.23944071                                  &  2.240774e-05                               \\\\\n",
       "\t matched\\_tid\\_follower\\_cn\\_log                  &  0.186100731                                         & 0.007315190                                          & 25.44031470                                          & 9.035819e-143                                       \\\\\n",
       "\t author\\_pub\\_count\\_cate                        &  0.037073369                                       & 0.016520045                                        &  2.24414453                                        &  2.482310e-02                                     \\\\\n",
       "\t affiliation\\_rank\\_cate                        & -0.026840393                                     & 0.005290654                                      & -5.07317074                                      &  3.912412e-07                                   \\\\\n",
       "\t affiliation\\_cateinternational                & -0.290087666                                   & 0.032897415                                    & -8.81794700                                    &  1.165774e-18                                 \\\\\n",
       "\t journal\\_impact                               &  0.037192622                                   & 0.001739265                                    & 21.38409819                                    & 1.878836e-101                                 \\\\\n",
       "\t author\\_citation\\_log                          &  0.003663737                                     & 0.008973017                                      &  0.40830603                                      &  6.830490e-01                                   \\\\\n",
       "\t Social\\_Sciences                              & -0.109730959                                   & 0.038868933                                    & -2.82310190                                    &  4.756145e-03                                 \\\\\n",
       "\t Materials\\_Science                            & -0.777899999                                   & 0.218862840                                    & -3.55428084                                    &  3.790142e-04                                 \\\\\n",
       "\t Engineering                                  & -0.072727005                                 & 0.118328418                                  & -0.61461994                                  &  5.388057e-01                               \\\\\n",
       "\t Chemistry                                    & -0.392742551                                 & 0.169767071                                  & -2.31342008                                  &  2.069955e-02                               \\\\\n",
       "\t Biochemistry\\_\\_Genetics\\_and\\_Molecular\\_Biology & -0.025040437                                           & 0.071417751                                            & -0.35061923                                            &  7.258740e-01                                         \\\\\n",
       "\t Medicine                                     &  0.039173450                                 & 0.047861241                                  &  0.81847962                                  &  4.130834e-01                               \\\\\n",
       "\t Nursing                                      & -0.320743642                                 & 0.121321154                                  & -2.64375693                                  &  8.199151e-03                               \\\\\n",
       "\t Agricultural\\_and\\_Biological\\_Sciences         &  0.060431705                                       & 0.073198204                                        &  0.82558999                                        &  4.090367e-01                                     \\\\\n",
       "\t Pharmacology\\_\\_Toxicology\\_and\\_Pharmaceutics   & -1.005294851                                         & 0.196823361                                          & -5.10759924                                          &  3.262777e-07                                       \\\\\n",
       "\t Neuroscience                                 &  0.135708611                                 & 0.102952542                                  &  1.31816669                                  &  1.874479e-01                               \\\\\n",
       "\t Business\\_\\_Management\\_and\\_Accounting          & -0.555922872                                         & 0.079914133                                          & -6.95650253                                          &  3.488240e-12                                       \\\\\n",
       "\t Economics\\_\\_Econometrics\\_and\\_Finance          &  0.210911452                                         & 0.075996529                                          &  2.77527742                                          &  5.515464e-03                                       \\\\\n",
       "\t Chemical\\_Engineering                         & -0.013466449                                   & 0.217171268                                    & -0.06200843                                    &  9.505561e-01                                 \\\\\n",
       "\t Physics\\_and\\_Astronomy                        & -0.732442218                                     & 0.138617457                                      & -5.28391036                                      &  1.264551e-07                                   \\\\\n",
       "\t Computer\\_Science                             & -0.380084426                                   & 0.107334648                                    & -3.54111588                                    &  3.984385e-04                                 \\\\\n",
       "\t Decision\\_Sciences                            & -0.145830103                                   & 0.185266867                                    & -0.78713537                                    &  4.312026e-01                                 \\\\\n",
       "\t Health\\_Professions                           &  0.436883002                                   & 0.176767479                                    &  2.47151232                                    &  1.345429e-02                                 \\\\\n",
       "\t Psychology                                   & -0.321253713                                 & 0.081899447                                  & -3.92253826                                  &  8.762097e-05                               \\\\\n",
       "\t Immunology\\_and\\_Microbiology                  &  0.328600086                                     & 0.134595304                                      &  2.44139340                                      &  1.463071e-02                                   \\\\\n",
       "\t Dentistry                                    & -1.251546424                                 & 0.709204438                                  & -1.76471883                                  &  7.761103e-02                               \\\\\n",
       "\t Earth\\_and\\_Planetary\\_Sciences                 & -0.142764115                                       & 0.104520372                                        & -1.36589750                                        &  1.719711e-01                                     \\\\\n",
       "\t Environmental\\_Science                        & -0.109098314                                   & 0.075627229                                    & -1.44257982                                    &  1.491389e-01                                 \\\\\n",
       "\t Mathematics                                  &  0.582099402                                 & 0.162667736                                  &  3.57845641                                  &  3.456295e-04                               \\\\\n",
       "\t Arts\\_and\\_Humanities                          & -0.389355773                                     & 0.057623268                                      & -6.75691934                                      &  1.409566e-11                                   \\\\\n",
       "\t Energy                                       & -0.727518541                                 & 0.224838071                                  & -3.23574445                                  &  1.213259e-03                               \\\\\n",
       "\t Veterinary                                   & -0.600068055                                 & 0.539978514                                  & -1.11128136                                  &  2.664473e-01                               \\\\\n",
       "\t General                                      &  0.336696818                                 & 0.112199751                                  &  3.00086956                                  &  2.692099e-03                               \\\\\n",
       "\\end{tabular}\n"
      ],
      "text/markdown": [
       "\n",
       "| term | estimate | std.error | statistic | p.value |\n",
       "|---|---|---|---|---|\n",
       "| (Intercept)                                  |  1.503837118                                 | 0.084655707                                  | 17.76415526                                  |  1.339414e-70                                |\n",
       "| genderFemale                                 |  0.135924011                                 | 0.032061779                                  |  4.23944071                                  |  2.240774e-05                                |\n",
       "| matched_tid_follower_cn_log                  |  0.186100731                                 | 0.007315190                                  | 25.44031470                                  | 9.035819e-143                                |\n",
       "| author_pub_count_cate                        |  0.037073369                                 | 0.016520045                                  |  2.24414453                                  |  2.482310e-02                                |\n",
       "| affiliation_rank_cate                        | -0.026840393                                 | 0.005290654                                  | -5.07317074                                  |  3.912412e-07                                |\n",
       "| affiliation_cateinternational                | -0.290087666                                 | 0.032897415                                  | -8.81794700                                  |  1.165774e-18                                |\n",
       "| journal_impact                               |  0.037192622                                 | 0.001739265                                  | 21.38409819                                  | 1.878836e-101                                |\n",
       "| author_citation_log                          |  0.003663737                                 | 0.008973017                                  |  0.40830603                                  |  6.830490e-01                                |\n",
       "| Social_Sciences                              | -0.109730959                                 | 0.038868933                                  | -2.82310190                                  |  4.756145e-03                                |\n",
       "| Materials_Science                            | -0.777899999                                 | 0.218862840                                  | -3.55428084                                  |  3.790142e-04                                |\n",
       "| Engineering                                  | -0.072727005                                 | 0.118328418                                  | -0.61461994                                  |  5.388057e-01                                |\n",
       "| Chemistry                                    | -0.392742551                                 | 0.169767071                                  | -2.31342008                                  |  2.069955e-02                                |\n",
       "| Biochemistry__Genetics_and_Molecular_Biology | -0.025040437                                 | 0.071417751                                  | -0.35061923                                  |  7.258740e-01                                |\n",
       "| Medicine                                     |  0.039173450                                 | 0.047861241                                  |  0.81847962                                  |  4.130834e-01                                |\n",
       "| Nursing                                      | -0.320743642                                 | 0.121321154                                  | -2.64375693                                  |  8.199151e-03                                |\n",
       "| Agricultural_and_Biological_Sciences         |  0.060431705                                 | 0.073198204                                  |  0.82558999                                  |  4.090367e-01                                |\n",
       "| Pharmacology__Toxicology_and_Pharmaceutics   | -1.005294851                                 | 0.196823361                                  | -5.10759924                                  |  3.262777e-07                                |\n",
       "| Neuroscience                                 |  0.135708611                                 | 0.102952542                                  |  1.31816669                                  |  1.874479e-01                                |\n",
       "| Business__Management_and_Accounting          | -0.555922872                                 | 0.079914133                                  | -6.95650253                                  |  3.488240e-12                                |\n",
       "| Economics__Econometrics_and_Finance          |  0.210911452                                 | 0.075996529                                  |  2.77527742                                  |  5.515464e-03                                |\n",
       "| Chemical_Engineering                         | -0.013466449                                 | 0.217171268                                  | -0.06200843                                  |  9.505561e-01                                |\n",
       "| Physics_and_Astronomy                        | -0.732442218                                 | 0.138617457                                  | -5.28391036                                  |  1.264551e-07                                |\n",
       "| Computer_Science                             | -0.380084426                                 | 0.107334648                                  | -3.54111588                                  |  3.984385e-04                                |\n",
       "| Decision_Sciences                            | -0.145830103                                 | 0.185266867                                  | -0.78713537                                  |  4.312026e-01                                |\n",
       "| Health_Professions                           |  0.436883002                                 | 0.176767479                                  |  2.47151232                                  |  1.345429e-02                                |\n",
       "| Psychology                                   | -0.321253713                                 | 0.081899447                                  | -3.92253826                                  |  8.762097e-05                                |\n",
       "| Immunology_and_Microbiology                  |  0.328600086                                 | 0.134595304                                  |  2.44139340                                  |  1.463071e-02                                |\n",
       "| Dentistry                                    | -1.251546424                                 | 0.709204438                                  | -1.76471883                                  |  7.761103e-02                                |\n",
       "| Earth_and_Planetary_Sciences                 | -0.142764115                                 | 0.104520372                                  | -1.36589750                                  |  1.719711e-01                                |\n",
       "| Environmental_Science                        | -0.109098314                                 | 0.075627229                                  | -1.44257982                                  |  1.491389e-01                                |\n",
       "| Mathematics                                  |  0.582099402                                 | 0.162667736                                  |  3.57845641                                  |  3.456295e-04                                |\n",
       "| Arts_and_Humanities                          | -0.389355773                                 | 0.057623268                                  | -6.75691934                                  |  1.409566e-11                                |\n",
       "| Energy                                       | -0.727518541                                 | 0.224838071                                  | -3.23574445                                  |  1.213259e-03                                |\n",
       "| Veterinary                                   | -0.600068055                                 | 0.539978514                                  | -1.11128136                                  |  2.664473e-01                                |\n",
       "| General                                      |  0.336696818                                 | 0.112199751                                  |  3.00086956                                  |  2.692099e-03                                |\n",
       "\n"
      ],
      "text/plain": [
       "   term                                         estimate     std.error  \n",
       "1  (Intercept)                                   1.503837118 0.084655707\n",
       "2  genderFemale                                  0.135924011 0.032061779\n",
       "3  matched_tid_follower_cn_log                   0.186100731 0.007315190\n",
       "4  author_pub_count_cate                         0.037073369 0.016520045\n",
       "5  affiliation_rank_cate                        -0.026840393 0.005290654\n",
       "6  affiliation_cateinternational                -0.290087666 0.032897415\n",
       "7  journal_impact                                0.037192622 0.001739265\n",
       "8  author_citation_log                           0.003663737 0.008973017\n",
       "9  Social_Sciences                              -0.109730959 0.038868933\n",
       "10 Materials_Science                            -0.777899999 0.218862840\n",
       "11 Engineering                                  -0.072727005 0.118328418\n",
       "12 Chemistry                                    -0.392742551 0.169767071\n",
       "13 Biochemistry__Genetics_and_Molecular_Biology -0.025040437 0.071417751\n",
       "14 Medicine                                      0.039173450 0.047861241\n",
       "15 Nursing                                      -0.320743642 0.121321154\n",
       "16 Agricultural_and_Biological_Sciences          0.060431705 0.073198204\n",
       "17 Pharmacology__Toxicology_and_Pharmaceutics   -1.005294851 0.196823361\n",
       "18 Neuroscience                                  0.135708611 0.102952542\n",
       "19 Business__Management_and_Accounting          -0.555922872 0.079914133\n",
       "20 Economics__Econometrics_and_Finance           0.210911452 0.075996529\n",
       "21 Chemical_Engineering                         -0.013466449 0.217171268\n",
       "22 Physics_and_Astronomy                        -0.732442218 0.138617457\n",
       "23 Computer_Science                             -0.380084426 0.107334648\n",
       "24 Decision_Sciences                            -0.145830103 0.185266867\n",
       "25 Health_Professions                            0.436883002 0.176767479\n",
       "26 Psychology                                   -0.321253713 0.081899447\n",
       "27 Immunology_and_Microbiology                   0.328600086 0.134595304\n",
       "28 Dentistry                                    -1.251546424 0.709204438\n",
       "29 Earth_and_Planetary_Sciences                 -0.142764115 0.104520372\n",
       "30 Environmental_Science                        -0.109098314 0.075627229\n",
       "31 Mathematics                                   0.582099402 0.162667736\n",
       "32 Arts_and_Humanities                          -0.389355773 0.057623268\n",
       "33 Energy                                       -0.727518541 0.224838071\n",
       "34 Veterinary                                   -0.600068055 0.539978514\n",
       "35 General                                       0.336696818 0.112199751\n",
       "   statistic   p.value      \n",
       "1  17.76415526  1.339414e-70\n",
       "2   4.23944071  2.240774e-05\n",
       "3  25.44031470 9.035819e-143\n",
       "4   2.24414453  2.482310e-02\n",
       "5  -5.07317074  3.912412e-07\n",
       "6  -8.81794700  1.165774e-18\n",
       "7  21.38409819 1.878836e-101\n",
       "8   0.40830603  6.830490e-01\n",
       "9  -2.82310190  4.756145e-03\n",
       "10 -3.55428084  3.790142e-04\n",
       "11 -0.61461994  5.388057e-01\n",
       "12 -2.31342008  2.069955e-02\n",
       "13 -0.35061923  7.258740e-01\n",
       "14  0.81847962  4.130834e-01\n",
       "15 -2.64375693  8.199151e-03\n",
       "16  0.82558999  4.090367e-01\n",
       "17 -5.10759924  3.262777e-07\n",
       "18  1.31816669  1.874479e-01\n",
       "19 -6.95650253  3.488240e-12\n",
       "20  2.77527742  5.515464e-03\n",
       "21 -0.06200843  9.505561e-01\n",
       "22 -5.28391036  1.264551e-07\n",
       "23 -3.54111588  3.984385e-04\n",
       "24 -0.78713537  4.312026e-01\n",
       "25  2.47151232  1.345429e-02\n",
       "26 -3.92253826  8.762097e-05\n",
       "27  2.44139340  1.463071e-02\n",
       "28 -1.76471883  7.761103e-02\n",
       "29 -1.36589750  1.719711e-01\n",
       "30 -1.44257982  1.491389e-01\n",
       "31  3.57845641  3.456295e-04\n",
       "32 -6.75691934  1.409566e-11\n",
       "33 -3.23574445  1.213259e-03\n",
       "34 -1.11128136  2.664473e-01\n",
       "35  3.00086956  2.692099e-03"
      ]
     },
     "metadata": {},
     "output_type": "display_data"
    }
   ],
   "source": [
    "tidy(m_yes)"
   ]
  },
  {
   "cell_type": "markdown",
   "id": "a9f34021",
   "metadata": {},
   "source": [
    "### First authors (all obs)"
   ]
  },
  {
   "cell_type": "code",
   "execution_count": 37,
   "id": "91c20d16",
   "metadata": {},
   "outputs": [],
   "source": [
    "subdata = mydata[mydata$authorship_pos == \"first_position\", ]"
   ]
  },
  {
   "cell_type": "code",
   "execution_count": 38,
   "id": "43b9d515",
   "metadata": {
    "scrolled": true
   },
   "outputs": [
    {
     "data": {
      "text/html": [
       "369297"
      ],
      "text/latex": [
       "369297"
      ],
      "text/markdown": [
       "369297"
      ],
      "text/plain": [
       "[1] 369297"
      ]
     },
     "metadata": {},
     "output_type": "display_data"
    }
   ],
   "source": [
    "nrow(subdata)"
   ]
  },
  {
   "cell_type": "markdown",
   "id": "d1ea38e2",
   "metadata": {},
   "source": [
    "Negative Binomial Regression"
   ]
  },
  {
   "cell_type": "code",
   "execution_count": 39,
   "id": "40ad4467",
   "metadata": {
    "scrolled": true
   },
   "outputs": [
    {
     "name": "stderr",
     "output_type": "stream",
     "text": [
      "Warning message:\n",
      "“glm.fit: algorithm did not converge”Warning message in glm.nb(equation, data = subdata):\n",
      "“alternation limit reached”"
     ]
    }
   ],
   "source": [
    "base_str <- \"total_num_tweets ~ 1 + gender * self_promotion + \\\n",
    "        author_pub_count_cate + affiliation_rank_cate + affiliation_cate + num_authors + journal_impact + author_citation_log\"\n",
    "equation <- as.formula(paste(base_str, keywords, sep = \" \"))\n",
    "m_binary <- glm.nb(equation, data = subdata)"
   ]
  },
  {
   "cell_type": "code",
   "execution_count": 40,
   "id": "10d3e10b",
   "metadata": {},
   "outputs": [
    {
     "data": {
      "text/html": [
       "369297"
      ],
      "text/latex": [
       "369297"
      ],
      "text/markdown": [
       "369297"
      ],
      "text/plain": [
       "[1] 369297"
      ]
     },
     "metadata": {},
     "output_type": "display_data"
    }
   ],
   "source": [
    "nobs(m_binary)"
   ]
  },
  {
   "cell_type": "code",
   "execution_count": 41,
   "id": "b484a6ab",
   "metadata": {
    "scrolled": true
   },
   "outputs": [
    {
     "data": {
      "text/html": [
       "<table>\n",
       "<thead><tr><th scope=col>term</th><th scope=col>estimate</th><th scope=col>std.error</th><th scope=col>statistic</th><th scope=col>p.value</th></tr></thead>\n",
       "<tbody>\n",
       "\t<tr><td>(Intercept)                                 </td><td> 1.656174387                                </td><td>7.702563e-03                                </td><td>215.0160044                                 </td><td> 0.000000e+00                               </td></tr>\n",
       "\t<tr><td>genderFemale                                </td><td> 0.015009012                                </td><td>5.238779e-03                                </td><td>  2.8649828                                 </td><td> 4.170318e-03                               </td></tr>\n",
       "\t<tr><td>self_promotionTrue                          </td><td> 1.530059206                                </td><td>9.072256e-03                                </td><td>168.6525666                                 </td><td> 0.000000e+00                               </td></tr>\n",
       "\t<tr><td>author_pub_count_cate                       </td><td>-0.042688072                                </td><td>2.506704e-03                                </td><td>-17.0295596                                 </td><td> 4.957590e-65                               </td></tr>\n",
       "\t<tr><td>affiliation_rank_cate                       </td><td>-0.032851148                                </td><td>8.897864e-04                                </td><td>-36.9202621                                 </td><td>2.186270e-298                               </td></tr>\n",
       "\t<tr><td>affiliation_cateinternational               </td><td>-0.148184764                                </td><td>5.353435e-03                                </td><td>-27.6803134                                 </td><td>1.205154e-168                               </td></tr>\n",
       "\t<tr><td>num_authors                                 </td><td> 0.002820522                                </td><td>7.969039e-05                                </td><td> 35.3935057                                 </td><td>2.149155e-274                               </td></tr>\n",
       "\t<tr><td>journal_impact                              </td><td> 0.083997503                                </td><td>4.093922e-04                                </td><td>205.1760941                                 </td><td> 0.000000e+00                               </td></tr>\n",
       "\t<tr><td>author_citation_log                         </td><td> 0.050234872                                </td><td>1.363355e-03                                </td><td> 36.8465136                                 </td><td>3.325771e-297                               </td></tr>\n",
       "\t<tr><td>Social_Sciences                             </td><td> 0.223488313                                </td><td>1.190916e-02                                </td><td> 18.7660789                                 </td><td> 1.430631e-78                               </td></tr>\n",
       "\t<tr><td>Materials_Science                           </td><td>-0.485227461                                </td><td>1.461420e-02                                </td><td>-33.2024648                                 </td><td>9.918854e-242                               </td></tr>\n",
       "\t<tr><td>Engineering                                 </td><td>-0.689141564                                </td><td>1.292279e-02                                </td><td>-53.3276336                                 </td><td> 0.000000e+00                               </td></tr>\n",
       "\t<tr><td>Chemistry                                   </td><td>-0.583572298                                </td><td>1.072550e-02                                </td><td>-54.4097795                                 </td><td> 0.000000e+00                               </td></tr>\n",
       "\t<tr><td>Biochemistry__Genetics_and_Molecular_Biology</td><td>-0.090789210                                </td><td>6.839087e-03                                </td><td>-13.2750483                                 </td><td> 3.230629e-40                               </td></tr>\n",
       "\t<tr><td>Medicine                                    </td><td> 0.093838135                                </td><td>5.605248e-03                                </td><td> 16.7411202                                 </td><td> 6.573928e-63                               </td></tr>\n",
       "\t<tr><td>Nursing                                     </td><td> 0.266400265                                </td><td>1.693691e-02                                </td><td> 15.7289798                                 </td><td> 9.574122e-56                               </td></tr>\n",
       "\t<tr><td>Agricultural_and_Biological_Sciences        </td><td> 0.320343701                                </td><td>8.623937e-03                                </td><td> 37.1458777                                 </td><td>5.110074e-302                               </td></tr>\n",
       "\t<tr><td>Pharmacology__Toxicology_and_Pharmaceutics  </td><td>-0.442424899                                </td><td>1.377418e-02                                </td><td>-32.1198728                                 </td><td>2.327704e-226                               </td></tr>\n",
       "\t<tr><td>Neuroscience                                </td><td> 0.007886409                                </td><td>1.142856e-02                                </td><td>  0.6900613                                 </td><td> 4.901556e-01                               </td></tr>\n",
       "\t<tr><td>Business__Management_and_Accounting         </td><td>-0.355610432                                </td><td>2.097118e-02                                </td><td>-16.9571026                                 </td><td> 1.705496e-64                               </td></tr>\n",
       "\t<tr><td>Economics__Econometrics_and_Finance         </td><td>-0.027511393                                </td><td>2.254165e-02                                </td><td> -1.2204695                                 </td><td> 2.222869e-01                               </td></tr>\n",
       "\t<tr><td>Chemical_Engineering                        </td><td>-0.043880220                                </td><td>1.749736e-02                                </td><td> -2.5078201                                 </td><td> 1.214785e-02                               </td></tr>\n",
       "\t<tr><td>Physics_and_Astronomy                       </td><td>-0.460947491                                </td><td>1.186427e-02                                </td><td>-38.8517329                                 </td><td> 0.000000e+00                               </td></tr>\n",
       "\t<tr><td>Computer_Science                            </td><td>-0.177944364                                </td><td>1.548847e-02                                </td><td>-11.4888277                                 </td><td> 1.501355e-30                               </td></tr>\n",
       "\t<tr><td>Decision_Sciences                           </td><td>-0.557796635                                </td><td>3.304090e-02                                </td><td>-16.8820038                                 </td><td> 6.103743e-64                               </td></tr>\n",
       "\t<tr><td>Health_Professions                          </td><td> 0.571202547                                </td><td>2.115878e-02                                </td><td> 26.9960113                                 </td><td>1.646176e-160                               </td></tr>\n",
       "\t<tr><td>Psychology                                  </td><td>-0.145484225                                </td><td>1.618840e-02                                </td><td> -8.9869438                                 </td><td> 2.542006e-19                               </td></tr>\n",
       "\t<tr><td>Immunology_and_Microbiology                 </td><td>-0.066963068                                </td><td>1.247452e-02                                </td><td> -5.3679869                                 </td><td> 7.962033e-08                               </td></tr>\n",
       "\t<tr><td>Dentistry                                   </td><td>-1.167232444                                </td><td>4.163434e-02                                </td><td>-28.0353329                                 </td><td>6.030015e-173                               </td></tr>\n",
       "\t<tr><td>Earth_and_Planetary_Sciences                </td><td>-0.334894336                                </td><td>1.321672e-02                                </td><td>-25.3386873                                 </td><td>1.197560e-141                               </td></tr>\n",
       "\t<tr><td>Environmental_Science                       </td><td>-0.044021390                                </td><td>1.049147e-02                                </td><td> -4.1959222                                 </td><td> 2.717636e-05                               </td></tr>\n",
       "\t<tr><td>Mathematics                                 </td><td>-0.248331283                                </td><td>1.818884e-02                                </td><td>-13.6529493                                 </td><td> 1.938704e-42                               </td></tr>\n",
       "\t<tr><td>Arts_and_Humanities                         </td><td> 0.081516904                                </td><td>3.183364e-02                                </td><td>  2.5607158                                 </td><td> 1.044568e-02                               </td></tr>\n",
       "\t<tr><td>Energy                                      </td><td>-0.908994569                                </td><td>2.449632e-02                                </td><td>-37.1073955                                 </td><td>2.134819e-301                               </td></tr>\n",
       "\t<tr><td>Veterinary                                  </td><td>-0.451238733                                </td><td>2.691242e-02                                </td><td>-16.7669343                                 </td><td> 4.259244e-63                               </td></tr>\n",
       "\t<tr><td>General                                     </td><td> 0.646141319                                </td><td>2.325429e-02                                </td><td> 27.7858970                                 </td><td>6.422573e-170                               </td></tr>\n",
       "\t<tr><td>genderFemale:self_promotionTrue             </td><td> 0.008353232                                </td><td>1.442218e-02                                </td><td>  0.5791937                                 </td><td> 5.624585e-01                               </td></tr>\n",
       "</tbody>\n",
       "</table>\n"
      ],
      "text/latex": [
       "\\begin{tabular}{r|lllll}\n",
       " term & estimate & std.error & statistic & p.value\\\\\n",
       "\\hline\n",
       "\t (Intercept)                                  &  1.656174387                                 & 7.702563e-03                                 & 215.0160044                                  &  0.000000e+00                               \\\\\n",
       "\t genderFemale                                 &  0.015009012                                 & 5.238779e-03                                 &   2.8649828                                  &  4.170318e-03                               \\\\\n",
       "\t self\\_promotionTrue                           &  1.530059206                                   & 9.072256e-03                                   & 168.6525666                                    &  0.000000e+00                                 \\\\\n",
       "\t author\\_pub\\_count\\_cate                        & -0.042688072                                       & 2.506704e-03                                       & -17.0295596                                        &  4.957590e-65                                     \\\\\n",
       "\t affiliation\\_rank\\_cate                        & -0.032851148                                     & 8.897864e-04                                     & -36.9202621                                      & 2.186270e-298                                   \\\\\n",
       "\t affiliation\\_cateinternational                & -0.148184764                                   & 5.353435e-03                                   & -27.6803134                                    & 1.205154e-168                                 \\\\\n",
       "\t num\\_authors                                  &  0.002820522                                   & 7.969039e-05                                   &  35.3935057                                    & 2.149155e-274                                 \\\\\n",
       "\t journal\\_impact                               &  0.083997503                                   & 4.093922e-04                                   & 205.1760941                                    &  0.000000e+00                                 \\\\\n",
       "\t author\\_citation\\_log                          &  0.050234872                                     & 1.363355e-03                                     &  36.8465136                                      & 3.325771e-297                                   \\\\\n",
       "\t Social\\_Sciences                              &  0.223488313                                   & 1.190916e-02                                   &  18.7660789                                    &  1.430631e-78                                 \\\\\n",
       "\t Materials\\_Science                            & -0.485227461                                   & 1.461420e-02                                   & -33.2024648                                    & 9.918854e-242                                 \\\\\n",
       "\t Engineering                                  & -0.689141564                                 & 1.292279e-02                                 & -53.3276336                                  &  0.000000e+00                               \\\\\n",
       "\t Chemistry                                    & -0.583572298                                 & 1.072550e-02                                 & -54.4097795                                  &  0.000000e+00                               \\\\\n",
       "\t Biochemistry\\_\\_Genetics\\_and\\_Molecular\\_Biology & -0.090789210                                           & 6.839087e-03                                           & -13.2750483                                            &  3.230629e-40                                         \\\\\n",
       "\t Medicine                                     &  0.093838135                                 & 5.605248e-03                                 &  16.7411202                                  &  6.573928e-63                               \\\\\n",
       "\t Nursing                                      &  0.266400265                                 & 1.693691e-02                                 &  15.7289798                                  &  9.574122e-56                               \\\\\n",
       "\t Agricultural\\_and\\_Biological\\_Sciences         &  0.320343701                                       & 8.623937e-03                                       &  37.1458777                                        & 5.110074e-302                                     \\\\\n",
       "\t Pharmacology\\_\\_Toxicology\\_and\\_Pharmaceutics   & -0.442424899                                         & 1.377418e-02                                         & -32.1198728                                          & 2.327704e-226                                       \\\\\n",
       "\t Neuroscience                                 &  0.007886409                                 & 1.142856e-02                                 &   0.6900613                                  &  4.901556e-01                               \\\\\n",
       "\t Business\\_\\_Management\\_and\\_Accounting          & -0.355610432                                         & 2.097118e-02                                         & -16.9571026                                          &  1.705496e-64                                       \\\\\n",
       "\t Economics\\_\\_Econometrics\\_and\\_Finance          & -0.027511393                                         & 2.254165e-02                                         &  -1.2204695                                          &  2.222869e-01                                       \\\\\n",
       "\t Chemical\\_Engineering                         & -0.043880220                                   & 1.749736e-02                                   &  -2.5078201                                    &  1.214785e-02                                 \\\\\n",
       "\t Physics\\_and\\_Astronomy                        & -0.460947491                                     & 1.186427e-02                                     & -38.8517329                                      &  0.000000e+00                                   \\\\\n",
       "\t Computer\\_Science                             & -0.177944364                                   & 1.548847e-02                                   & -11.4888277                                    &  1.501355e-30                                 \\\\\n",
       "\t Decision\\_Sciences                            & -0.557796635                                   & 3.304090e-02                                   & -16.8820038                                    &  6.103743e-64                                 \\\\\n",
       "\t Health\\_Professions                           &  0.571202547                                   & 2.115878e-02                                   &  26.9960113                                    & 1.646176e-160                                 \\\\\n",
       "\t Psychology                                   & -0.145484225                                 & 1.618840e-02                                 &  -8.9869438                                  &  2.542006e-19                               \\\\\n",
       "\t Immunology\\_and\\_Microbiology                  & -0.066963068                                     & 1.247452e-02                                     &  -5.3679869                                      &  7.962033e-08                                   \\\\\n",
       "\t Dentistry                                    & -1.167232444                                 & 4.163434e-02                                 & -28.0353329                                  & 6.030015e-173                               \\\\\n",
       "\t Earth\\_and\\_Planetary\\_Sciences                 & -0.334894336                                       & 1.321672e-02                                       & -25.3386873                                        & 1.197560e-141                                     \\\\\n",
       "\t Environmental\\_Science                        & -0.044021390                                   & 1.049147e-02                                   &  -4.1959222                                    &  2.717636e-05                                 \\\\\n",
       "\t Mathematics                                  & -0.248331283                                 & 1.818884e-02                                 & -13.6529493                                  &  1.938704e-42                               \\\\\n",
       "\t Arts\\_and\\_Humanities                          &  0.081516904                                     & 3.183364e-02                                     &   2.5607158                                      &  1.044568e-02                                   \\\\\n",
       "\t Energy                                       & -0.908994569                                 & 2.449632e-02                                 & -37.1073955                                  & 2.134819e-301                               \\\\\n",
       "\t Veterinary                                   & -0.451238733                                 & 2.691242e-02                                 & -16.7669343                                  &  4.259244e-63                               \\\\\n",
       "\t General                                      &  0.646141319                                 & 2.325429e-02                                 &  27.7858970                                  & 6.422573e-170                               \\\\\n",
       "\t genderFemale:self\\_promotionTrue              &  0.008353232                                   & 1.442218e-02                                   &   0.5791937                                    &  5.624585e-01                                 \\\\\n",
       "\\end{tabular}\n"
      ],
      "text/markdown": [
       "\n",
       "| term | estimate | std.error | statistic | p.value |\n",
       "|---|---|---|---|---|\n",
       "| (Intercept)                                  |  1.656174387                                 | 7.702563e-03                                 | 215.0160044                                  |  0.000000e+00                                |\n",
       "| genderFemale                                 |  0.015009012                                 | 5.238779e-03                                 |   2.8649828                                  |  4.170318e-03                                |\n",
       "| self_promotionTrue                           |  1.530059206                                 | 9.072256e-03                                 | 168.6525666                                  |  0.000000e+00                                |\n",
       "| author_pub_count_cate                        | -0.042688072                                 | 2.506704e-03                                 | -17.0295596                                  |  4.957590e-65                                |\n",
       "| affiliation_rank_cate                        | -0.032851148                                 | 8.897864e-04                                 | -36.9202621                                  | 2.186270e-298                                |\n",
       "| affiliation_cateinternational                | -0.148184764                                 | 5.353435e-03                                 | -27.6803134                                  | 1.205154e-168                                |\n",
       "| num_authors                                  |  0.002820522                                 | 7.969039e-05                                 |  35.3935057                                  | 2.149155e-274                                |\n",
       "| journal_impact                               |  0.083997503                                 | 4.093922e-04                                 | 205.1760941                                  |  0.000000e+00                                |\n",
       "| author_citation_log                          |  0.050234872                                 | 1.363355e-03                                 |  36.8465136                                  | 3.325771e-297                                |\n",
       "| Social_Sciences                              |  0.223488313                                 | 1.190916e-02                                 |  18.7660789                                  |  1.430631e-78                                |\n",
       "| Materials_Science                            | -0.485227461                                 | 1.461420e-02                                 | -33.2024648                                  | 9.918854e-242                                |\n",
       "| Engineering                                  | -0.689141564                                 | 1.292279e-02                                 | -53.3276336                                  |  0.000000e+00                                |\n",
       "| Chemistry                                    | -0.583572298                                 | 1.072550e-02                                 | -54.4097795                                  |  0.000000e+00                                |\n",
       "| Biochemistry__Genetics_and_Molecular_Biology | -0.090789210                                 | 6.839087e-03                                 | -13.2750483                                  |  3.230629e-40                                |\n",
       "| Medicine                                     |  0.093838135                                 | 5.605248e-03                                 |  16.7411202                                  |  6.573928e-63                                |\n",
       "| Nursing                                      |  0.266400265                                 | 1.693691e-02                                 |  15.7289798                                  |  9.574122e-56                                |\n",
       "| Agricultural_and_Biological_Sciences         |  0.320343701                                 | 8.623937e-03                                 |  37.1458777                                  | 5.110074e-302                                |\n",
       "| Pharmacology__Toxicology_and_Pharmaceutics   | -0.442424899                                 | 1.377418e-02                                 | -32.1198728                                  | 2.327704e-226                                |\n",
       "| Neuroscience                                 |  0.007886409                                 | 1.142856e-02                                 |   0.6900613                                  |  4.901556e-01                                |\n",
       "| Business__Management_and_Accounting          | -0.355610432                                 | 2.097118e-02                                 | -16.9571026                                  |  1.705496e-64                                |\n",
       "| Economics__Econometrics_and_Finance          | -0.027511393                                 | 2.254165e-02                                 |  -1.2204695                                  |  2.222869e-01                                |\n",
       "| Chemical_Engineering                         | -0.043880220                                 | 1.749736e-02                                 |  -2.5078201                                  |  1.214785e-02                                |\n",
       "| Physics_and_Astronomy                        | -0.460947491                                 | 1.186427e-02                                 | -38.8517329                                  |  0.000000e+00                                |\n",
       "| Computer_Science                             | -0.177944364                                 | 1.548847e-02                                 | -11.4888277                                  |  1.501355e-30                                |\n",
       "| Decision_Sciences                            | -0.557796635                                 | 3.304090e-02                                 | -16.8820038                                  |  6.103743e-64                                |\n",
       "| Health_Professions                           |  0.571202547                                 | 2.115878e-02                                 |  26.9960113                                  | 1.646176e-160                                |\n",
       "| Psychology                                   | -0.145484225                                 | 1.618840e-02                                 |  -8.9869438                                  |  2.542006e-19                                |\n",
       "| Immunology_and_Microbiology                  | -0.066963068                                 | 1.247452e-02                                 |  -5.3679869                                  |  7.962033e-08                                |\n",
       "| Dentistry                                    | -1.167232444                                 | 4.163434e-02                                 | -28.0353329                                  | 6.030015e-173                                |\n",
       "| Earth_and_Planetary_Sciences                 | -0.334894336                                 | 1.321672e-02                                 | -25.3386873                                  | 1.197560e-141                                |\n",
       "| Environmental_Science                        | -0.044021390                                 | 1.049147e-02                                 |  -4.1959222                                  |  2.717636e-05                                |\n",
       "| Mathematics                                  | -0.248331283                                 | 1.818884e-02                                 | -13.6529493                                  |  1.938704e-42                                |\n",
       "| Arts_and_Humanities                          |  0.081516904                                 | 3.183364e-02                                 |   2.5607158                                  |  1.044568e-02                                |\n",
       "| Energy                                       | -0.908994569                                 | 2.449632e-02                                 | -37.1073955                                  | 2.134819e-301                                |\n",
       "| Veterinary                                   | -0.451238733                                 | 2.691242e-02                                 | -16.7669343                                  |  4.259244e-63                                |\n",
       "| General                                      |  0.646141319                                 | 2.325429e-02                                 |  27.7858970                                  | 6.422573e-170                                |\n",
       "| genderFemale:self_promotionTrue              |  0.008353232                                 | 1.442218e-02                                 |   0.5791937                                  |  5.624585e-01                                |\n",
       "\n"
      ],
      "text/plain": [
       "   term                                         estimate     std.error   \n",
       "1  (Intercept)                                   1.656174387 7.702563e-03\n",
       "2  genderFemale                                  0.015009012 5.238779e-03\n",
       "3  self_promotionTrue                            1.530059206 9.072256e-03\n",
       "4  author_pub_count_cate                        -0.042688072 2.506704e-03\n",
       "5  affiliation_rank_cate                        -0.032851148 8.897864e-04\n",
       "6  affiliation_cateinternational                -0.148184764 5.353435e-03\n",
       "7  num_authors                                   0.002820522 7.969039e-05\n",
       "8  journal_impact                                0.083997503 4.093922e-04\n",
       "9  author_citation_log                           0.050234872 1.363355e-03\n",
       "10 Social_Sciences                               0.223488313 1.190916e-02\n",
       "11 Materials_Science                            -0.485227461 1.461420e-02\n",
       "12 Engineering                                  -0.689141564 1.292279e-02\n",
       "13 Chemistry                                    -0.583572298 1.072550e-02\n",
       "14 Biochemistry__Genetics_and_Molecular_Biology -0.090789210 6.839087e-03\n",
       "15 Medicine                                      0.093838135 5.605248e-03\n",
       "16 Nursing                                       0.266400265 1.693691e-02\n",
       "17 Agricultural_and_Biological_Sciences          0.320343701 8.623937e-03\n",
       "18 Pharmacology__Toxicology_and_Pharmaceutics   -0.442424899 1.377418e-02\n",
       "19 Neuroscience                                  0.007886409 1.142856e-02\n",
       "20 Business__Management_and_Accounting          -0.355610432 2.097118e-02\n",
       "21 Economics__Econometrics_and_Finance          -0.027511393 2.254165e-02\n",
       "22 Chemical_Engineering                         -0.043880220 1.749736e-02\n",
       "23 Physics_and_Astronomy                        -0.460947491 1.186427e-02\n",
       "24 Computer_Science                             -0.177944364 1.548847e-02\n",
       "25 Decision_Sciences                            -0.557796635 3.304090e-02\n",
       "26 Health_Professions                            0.571202547 2.115878e-02\n",
       "27 Psychology                                   -0.145484225 1.618840e-02\n",
       "28 Immunology_and_Microbiology                  -0.066963068 1.247452e-02\n",
       "29 Dentistry                                    -1.167232444 4.163434e-02\n",
       "30 Earth_and_Planetary_Sciences                 -0.334894336 1.321672e-02\n",
       "31 Environmental_Science                        -0.044021390 1.049147e-02\n",
       "32 Mathematics                                  -0.248331283 1.818884e-02\n",
       "33 Arts_and_Humanities                           0.081516904 3.183364e-02\n",
       "34 Energy                                       -0.908994569 2.449632e-02\n",
       "35 Veterinary                                   -0.451238733 2.691242e-02\n",
       "36 General                                       0.646141319 2.325429e-02\n",
       "37 genderFemale:self_promotionTrue               0.008353232 1.442218e-02\n",
       "   statistic   p.value      \n",
       "1  215.0160044  0.000000e+00\n",
       "2    2.8649828  4.170318e-03\n",
       "3  168.6525666  0.000000e+00\n",
       "4  -17.0295596  4.957590e-65\n",
       "5  -36.9202621 2.186270e-298\n",
       "6  -27.6803134 1.205154e-168\n",
       "7   35.3935057 2.149155e-274\n",
       "8  205.1760941  0.000000e+00\n",
       "9   36.8465136 3.325771e-297\n",
       "10  18.7660789  1.430631e-78\n",
       "11 -33.2024648 9.918854e-242\n",
       "12 -53.3276336  0.000000e+00\n",
       "13 -54.4097795  0.000000e+00\n",
       "14 -13.2750483  3.230629e-40\n",
       "15  16.7411202  6.573928e-63\n",
       "16  15.7289798  9.574122e-56\n",
       "17  37.1458777 5.110074e-302\n",
       "18 -32.1198728 2.327704e-226\n",
       "19   0.6900613  4.901556e-01\n",
       "20 -16.9571026  1.705496e-64\n",
       "21  -1.2204695  2.222869e-01\n",
       "22  -2.5078201  1.214785e-02\n",
       "23 -38.8517329  0.000000e+00\n",
       "24 -11.4888277  1.501355e-30\n",
       "25 -16.8820038  6.103743e-64\n",
       "26  26.9960113 1.646176e-160\n",
       "27  -8.9869438  2.542006e-19\n",
       "28  -5.3679869  7.962033e-08\n",
       "29 -28.0353329 6.030015e-173\n",
       "30 -25.3386873 1.197560e-141\n",
       "31  -4.1959222  2.717636e-05\n",
       "32 -13.6529493  1.938704e-42\n",
       "33   2.5607158  1.044568e-02\n",
       "34 -37.1073955 2.134819e-301\n",
       "35 -16.7669343  4.259244e-63\n",
       "36  27.7858970 6.422573e-170\n",
       "37   0.5791937  5.624585e-01"
      ]
     },
     "metadata": {},
     "output_type": "display_data"
    }
   ],
   "source": [
    "tidy(m_binary)"
   ]
  },
  {
   "cell_type": "markdown",
   "id": "35fbe030",
   "metadata": {},
   "source": [
    "### First authors (self-promoted subset)"
   ]
  },
  {
   "cell_type": "markdown",
   "id": "ed843551",
   "metadata": {},
   "source": [
    "Negative Binomial Regression"
   ]
  },
  {
   "cell_type": "code",
   "execution_count": 42,
   "id": "3f3890b8",
   "metadata": {},
   "outputs": [],
   "source": [
    "base_str <- \"total_num_tweets ~ 1 + gender + matched_tid_follower_cn_log + \\\n",
    "        author_pub_count_cate + affiliation_rank_cate + affiliation_cate + num_authors + journal_impact + author_citation_log\"\n",
    "equation <- as.formula(paste(base_str, keywords, sep = \" \"))\n",
    "m_yes <- glm.nb(equation, data = subdata[subdata$self_promotion == \"True\", ])"
   ]
  },
  {
   "cell_type": "code",
   "execution_count": 43,
   "id": "f43ca8f3",
   "metadata": {
    "scrolled": true
   },
   "outputs": [
    {
     "data": {
      "text/html": [
       "<table>\n",
       "<thead><tr><th scope=col>term</th><th scope=col>estimate</th><th scope=col>std.error</th><th scope=col>statistic</th><th scope=col>p.value</th></tr></thead>\n",
       "<tbody>\n",
       "\t<tr><td>(Intercept)                                 </td><td> 2.041705277                                </td><td>0.0274915805                                </td><td> 74.2665659                                 </td><td> 0.000000e+00                               </td></tr>\n",
       "\t<tr><td>genderFemale                                </td><td> 0.037860000                                </td><td>0.0116537670                                </td><td>  3.2487349                                 </td><td> 1.159194e-03                               </td></tr>\n",
       "\t<tr><td>matched_tid_follower_cn_log                 </td><td> 0.142092717                                </td><td>0.0026646201                                </td><td> 53.3256945                                 </td><td> 0.000000e+00                               </td></tr>\n",
       "\t<tr><td>author_pub_count_cate                       </td><td>-0.055115969                                </td><td>0.0058452502                                </td><td> -9.4291890                                 </td><td> 4.132721e-21                               </td></tr>\n",
       "\t<tr><td>affiliation_rank_cate                       </td><td>-0.017714008                                </td><td>0.0020559698                                </td><td> -8.6158890                                 </td><td> 6.940094e-18                               </td></tr>\n",
       "\t<tr><td>affiliation_cateinternational               </td><td>-0.071234250                                </td><td>0.0121631289                                </td><td> -5.8565728                                 </td><td> 4.725165e-09                               </td></tr>\n",
       "\t<tr><td>num_authors                                 </td><td> 0.013133448                                </td><td>0.0004589738                                </td><td> 28.6148083                                 </td><td>4.396273e-180                               </td></tr>\n",
       "\t<tr><td>journal_impact                              </td><td> 0.054153098                                </td><td>0.0007186901                                </td><td> 75.3497217                                 </td><td> 0.000000e+00                               </td></tr>\n",
       "\t<tr><td>author_citation_log                         </td><td> 0.048143692                                </td><td>0.0031282358                                </td><td> 15.3900457                                 </td><td> 1.908973e-53                               </td></tr>\n",
       "\t<tr><td>Social_Sciences                             </td><td>-0.192472017                                </td><td>0.0212992042                                </td><td> -9.0365825                                 </td><td> 1.616463e-19                               </td></tr>\n",
       "\t<tr><td>Materials_Science                           </td><td>-0.408143939                                </td><td>0.0481899828                                </td><td> -8.4694768                                 </td><td> 2.464978e-17                               </td></tr>\n",
       "\t<tr><td>Engineering                                 </td><td>-0.351375926                                </td><td>0.0373734352                                </td><td> -9.4017562                                 </td><td> 5.365983e-21                               </td></tr>\n",
       "\t<tr><td>Chemistry                                   </td><td>-0.793649846                                </td><td>0.0344945884                                </td><td>-23.0079524                                 </td><td>3.880672e-117                               </td></tr>\n",
       "\t<tr><td>Biochemistry__Genetics_and_Molecular_Biology</td><td> 0.014429290                                </td><td>0.0176481085                                </td><td>  0.8176111                                 </td><td> 4.135793e-01                               </td></tr>\n",
       "\t<tr><td>Medicine                                    </td><td> 0.039249731                                </td><td>0.0134429016                                </td><td>  2.9197365                                 </td><td> 3.503274e-03                               </td></tr>\n",
       "\t<tr><td>Nursing                                     </td><td> 0.041506085                                </td><td>0.0379017547                                </td><td>  1.0950967                                 </td><td> 2.734743e-01                               </td></tr>\n",
       "\t<tr><td>Agricultural_and_Biological_Sciences        </td><td> 0.106523884                                </td><td>0.0186449703                                </td><td>  5.7132772                                 </td><td> 1.108209e-08                               </td></tr>\n",
       "\t<tr><td>Pharmacology__Toxicology_and_Pharmaceutics  </td><td>-0.543003595                                </td><td>0.0442070522                                </td><td>-12.2831894                                 </td><td> 1.115138e-34                               </td></tr>\n",
       "\t<tr><td>Neuroscience                                </td><td>-0.056568616                                </td><td>0.0267587559                                </td><td> -2.1140227                                 </td><td> 3.451333e-02                               </td></tr>\n",
       "\t<tr><td>Business__Management_and_Accounting         </td><td>-0.270072157                                </td><td>0.0424424538                                </td><td> -6.3632550                                 </td><td> 1.975223e-10                               </td></tr>\n",
       "\t<tr><td>Economics__Econometrics_and_Finance         </td><td>-0.075336582                                </td><td>0.0451971381                                </td><td> -1.6668441                                 </td><td> 9.554541e-02                               </td></tr>\n",
       "\t<tr><td>Chemical_Engineering                        </td><td>-0.059329616                                </td><td>0.0507527310                                </td><td> -1.1689936                                 </td><td> 2.424062e-01                               </td></tr>\n",
       "\t<tr><td>Physics_and_Astronomy                       </td><td>-0.568609486                                </td><td>0.0416974105                                </td><td>-13.6365659                                 </td><td> 2.427243e-42                               </td></tr>\n",
       "\t<tr><td>Computer_Science                            </td><td>-0.321161845                                </td><td>0.0376655418                                </td><td> -8.5266753                                 </td><td> 1.506139e-17                               </td></tr>\n",
       "\t<tr><td>Decision_Sciences                           </td><td>-0.285259446                                </td><td>0.0730720291                                </td><td> -3.9038118                                 </td><td> 9.468944e-05                               </td></tr>\n",
       "\t<tr><td>Health_Professions                          </td><td> 0.475662054                                </td><td>0.0376128766                                </td><td> 12.6462557                                 </td><td> 1.173349e-36                               </td></tr>\n",
       "\t<tr><td>Psychology                                  </td><td> 0.066273762                                </td><td>0.0320478758                                </td><td>  2.0679611                                 </td><td> 3.864368e-02                               </td></tr>\n",
       "\t<tr><td>Immunology_and_Microbiology                 </td><td>-0.078848015                                </td><td>0.0325924097                                </td><td> -2.4192140                                 </td><td> 1.555408e-02                               </td></tr>\n",
       "\t<tr><td>Dentistry                                   </td><td>-0.945868803                                </td><td>0.1686015358                                </td><td> -5.6100841                                 </td><td> 2.022283e-08                               </td></tr>\n",
       "\t<tr><td>Earth_and_Planetary_Sciences                </td><td>-0.417543555                                </td><td>0.0300175860                                </td><td>-13.9099645                                 </td><td> 5.510681e-44                               </td></tr>\n",
       "\t<tr><td>Environmental_Science                       </td><td>-0.128916323                                </td><td>0.0221430101                                </td><td> -5.8219873                                 </td><td> 5.815197e-09                               </td></tr>\n",
       "\t<tr><td>Mathematics                                 </td><td> 0.167301970                                </td><td>0.0531648358                                </td><td>  3.1468539                                 </td><td> 1.650374e-03                               </td></tr>\n",
       "\t<tr><td>Arts_and_Humanities                         </td><td> 0.008813547                                </td><td>0.0624720664                                </td><td>  0.1410798                                 </td><td> 8.878069e-01                               </td></tr>\n",
       "\t<tr><td>Energy                                      </td><td>-0.626202218                                </td><td>0.0608112771                                </td><td>-10.2974686                                 </td><td> 7.233984e-25                               </td></tr>\n",
       "\t<tr><td>Veterinary                                  </td><td>-0.791956931                                </td><td>0.0941273194                                </td><td> -8.4136777                                 </td><td> 3.973515e-17                               </td></tr>\n",
       "\t<tr><td>General                                     </td><td> 0.691794649                                </td><td>0.0396185790                                </td><td> 17.4613696                                 </td><td> 2.820847e-68                               </td></tr>\n",
       "</tbody>\n",
       "</table>\n"
      ],
      "text/latex": [
       "\\begin{tabular}{r|lllll}\n",
       " term & estimate & std.error & statistic & p.value\\\\\n",
       "\\hline\n",
       "\t (Intercept)                                  &  2.041705277                                 & 0.0274915805                                 &  74.2665659                                  &  0.000000e+00                               \\\\\n",
       "\t genderFemale                                 &  0.037860000                                 & 0.0116537670                                 &   3.2487349                                  &  1.159194e-03                               \\\\\n",
       "\t matched\\_tid\\_follower\\_cn\\_log                  &  0.142092717                                         & 0.0026646201                                         &  53.3256945                                          &  0.000000e+00                                       \\\\\n",
       "\t author\\_pub\\_count\\_cate                        & -0.055115969                                       & 0.0058452502                                       &  -9.4291890                                        &  4.132721e-21                                     \\\\\n",
       "\t affiliation\\_rank\\_cate                        & -0.017714008                                     & 0.0020559698                                     &  -8.6158890                                      &  6.940094e-18                                   \\\\\n",
       "\t affiliation\\_cateinternational                & -0.071234250                                   & 0.0121631289                                   &  -5.8565728                                    &  4.725165e-09                                 \\\\\n",
       "\t num\\_authors                                  &  0.013133448                                   & 0.0004589738                                   &  28.6148083                                    & 4.396273e-180                                 \\\\\n",
       "\t journal\\_impact                               &  0.054153098                                   & 0.0007186901                                   &  75.3497217                                    &  0.000000e+00                                 \\\\\n",
       "\t author\\_citation\\_log                          &  0.048143692                                     & 0.0031282358                                     &  15.3900457                                      &  1.908973e-53                                   \\\\\n",
       "\t Social\\_Sciences                              & -0.192472017                                   & 0.0212992042                                   &  -9.0365825                                    &  1.616463e-19                                 \\\\\n",
       "\t Materials\\_Science                            & -0.408143939                                   & 0.0481899828                                   &  -8.4694768                                    &  2.464978e-17                                 \\\\\n",
       "\t Engineering                                  & -0.351375926                                 & 0.0373734352                                 &  -9.4017562                                  &  5.365983e-21                               \\\\\n",
       "\t Chemistry                                    & -0.793649846                                 & 0.0344945884                                 & -23.0079524                                  & 3.880672e-117                               \\\\\n",
       "\t Biochemistry\\_\\_Genetics\\_and\\_Molecular\\_Biology &  0.014429290                                           & 0.0176481085                                           &   0.8176111                                            &  4.135793e-01                                         \\\\\n",
       "\t Medicine                                     &  0.039249731                                 & 0.0134429016                                 &   2.9197365                                  &  3.503274e-03                               \\\\\n",
       "\t Nursing                                      &  0.041506085                                 & 0.0379017547                                 &   1.0950967                                  &  2.734743e-01                               \\\\\n",
       "\t Agricultural\\_and\\_Biological\\_Sciences         &  0.106523884                                       & 0.0186449703                                       &   5.7132772                                        &  1.108209e-08                                     \\\\\n",
       "\t Pharmacology\\_\\_Toxicology\\_and\\_Pharmaceutics   & -0.543003595                                         & 0.0442070522                                         & -12.2831894                                          &  1.115138e-34                                       \\\\\n",
       "\t Neuroscience                                 & -0.056568616                                 & 0.0267587559                                 &  -2.1140227                                  &  3.451333e-02                               \\\\\n",
       "\t Business\\_\\_Management\\_and\\_Accounting          & -0.270072157                                         & 0.0424424538                                         &  -6.3632550                                          &  1.975223e-10                                       \\\\\n",
       "\t Economics\\_\\_Econometrics\\_and\\_Finance          & -0.075336582                                         & 0.0451971381                                         &  -1.6668441                                          &  9.554541e-02                                       \\\\\n",
       "\t Chemical\\_Engineering                         & -0.059329616                                   & 0.0507527310                                   &  -1.1689936                                    &  2.424062e-01                                 \\\\\n",
       "\t Physics\\_and\\_Astronomy                        & -0.568609486                                     & 0.0416974105                                     & -13.6365659                                      &  2.427243e-42                                   \\\\\n",
       "\t Computer\\_Science                             & -0.321161845                                   & 0.0376655418                                   &  -8.5266753                                    &  1.506139e-17                                 \\\\\n",
       "\t Decision\\_Sciences                            & -0.285259446                                   & 0.0730720291                                   &  -3.9038118                                    &  9.468944e-05                                 \\\\\n",
       "\t Health\\_Professions                           &  0.475662054                                   & 0.0376128766                                   &  12.6462557                                    &  1.173349e-36                                 \\\\\n",
       "\t Psychology                                   &  0.066273762                                 & 0.0320478758                                 &   2.0679611                                  &  3.864368e-02                               \\\\\n",
       "\t Immunology\\_and\\_Microbiology                  & -0.078848015                                     & 0.0325924097                                     &  -2.4192140                                      &  1.555408e-02                                   \\\\\n",
       "\t Dentistry                                    & -0.945868803                                 & 0.1686015358                                 &  -5.6100841                                  &  2.022283e-08                               \\\\\n",
       "\t Earth\\_and\\_Planetary\\_Sciences                 & -0.417543555                                       & 0.0300175860                                       & -13.9099645                                        &  5.510681e-44                                     \\\\\n",
       "\t Environmental\\_Science                        & -0.128916323                                   & 0.0221430101                                   &  -5.8219873                                    &  5.815197e-09                                 \\\\\n",
       "\t Mathematics                                  &  0.167301970                                 & 0.0531648358                                 &   3.1468539                                  &  1.650374e-03                               \\\\\n",
       "\t Arts\\_and\\_Humanities                          &  0.008813547                                     & 0.0624720664                                     &   0.1410798                                      &  8.878069e-01                                   \\\\\n",
       "\t Energy                                       & -0.626202218                                 & 0.0608112771                                 & -10.2974686                                  &  7.233984e-25                               \\\\\n",
       "\t Veterinary                                   & -0.791956931                                 & 0.0941273194                                 &  -8.4136777                                  &  3.973515e-17                               \\\\\n",
       "\t General                                      &  0.691794649                                 & 0.0396185790                                 &  17.4613696                                  &  2.820847e-68                               \\\\\n",
       "\\end{tabular}\n"
      ],
      "text/markdown": [
       "\n",
       "| term | estimate | std.error | statistic | p.value |\n",
       "|---|---|---|---|---|\n",
       "| (Intercept)                                  |  2.041705277                                 | 0.0274915805                                 |  74.2665659                                  |  0.000000e+00                                |\n",
       "| genderFemale                                 |  0.037860000                                 | 0.0116537670                                 |   3.2487349                                  |  1.159194e-03                                |\n",
       "| matched_tid_follower_cn_log                  |  0.142092717                                 | 0.0026646201                                 |  53.3256945                                  |  0.000000e+00                                |\n",
       "| author_pub_count_cate                        | -0.055115969                                 | 0.0058452502                                 |  -9.4291890                                  |  4.132721e-21                                |\n",
       "| affiliation_rank_cate                        | -0.017714008                                 | 0.0020559698                                 |  -8.6158890                                  |  6.940094e-18                                |\n",
       "| affiliation_cateinternational                | -0.071234250                                 | 0.0121631289                                 |  -5.8565728                                  |  4.725165e-09                                |\n",
       "| num_authors                                  |  0.013133448                                 | 0.0004589738                                 |  28.6148083                                  | 4.396273e-180                                |\n",
       "| journal_impact                               |  0.054153098                                 | 0.0007186901                                 |  75.3497217                                  |  0.000000e+00                                |\n",
       "| author_citation_log                          |  0.048143692                                 | 0.0031282358                                 |  15.3900457                                  |  1.908973e-53                                |\n",
       "| Social_Sciences                              | -0.192472017                                 | 0.0212992042                                 |  -9.0365825                                  |  1.616463e-19                                |\n",
       "| Materials_Science                            | -0.408143939                                 | 0.0481899828                                 |  -8.4694768                                  |  2.464978e-17                                |\n",
       "| Engineering                                  | -0.351375926                                 | 0.0373734352                                 |  -9.4017562                                  |  5.365983e-21                                |\n",
       "| Chemistry                                    | -0.793649846                                 | 0.0344945884                                 | -23.0079524                                  | 3.880672e-117                                |\n",
       "| Biochemistry__Genetics_and_Molecular_Biology |  0.014429290                                 | 0.0176481085                                 |   0.8176111                                  |  4.135793e-01                                |\n",
       "| Medicine                                     |  0.039249731                                 | 0.0134429016                                 |   2.9197365                                  |  3.503274e-03                                |\n",
       "| Nursing                                      |  0.041506085                                 | 0.0379017547                                 |   1.0950967                                  |  2.734743e-01                                |\n",
       "| Agricultural_and_Biological_Sciences         |  0.106523884                                 | 0.0186449703                                 |   5.7132772                                  |  1.108209e-08                                |\n",
       "| Pharmacology__Toxicology_and_Pharmaceutics   | -0.543003595                                 | 0.0442070522                                 | -12.2831894                                  |  1.115138e-34                                |\n",
       "| Neuroscience                                 | -0.056568616                                 | 0.0267587559                                 |  -2.1140227                                  |  3.451333e-02                                |\n",
       "| Business__Management_and_Accounting          | -0.270072157                                 | 0.0424424538                                 |  -6.3632550                                  |  1.975223e-10                                |\n",
       "| Economics__Econometrics_and_Finance          | -0.075336582                                 | 0.0451971381                                 |  -1.6668441                                  |  9.554541e-02                                |\n",
       "| Chemical_Engineering                         | -0.059329616                                 | 0.0507527310                                 |  -1.1689936                                  |  2.424062e-01                                |\n",
       "| Physics_and_Astronomy                        | -0.568609486                                 | 0.0416974105                                 | -13.6365659                                  |  2.427243e-42                                |\n",
       "| Computer_Science                             | -0.321161845                                 | 0.0376655418                                 |  -8.5266753                                  |  1.506139e-17                                |\n",
       "| Decision_Sciences                            | -0.285259446                                 | 0.0730720291                                 |  -3.9038118                                  |  9.468944e-05                                |\n",
       "| Health_Professions                           |  0.475662054                                 | 0.0376128766                                 |  12.6462557                                  |  1.173349e-36                                |\n",
       "| Psychology                                   |  0.066273762                                 | 0.0320478758                                 |   2.0679611                                  |  3.864368e-02                                |\n",
       "| Immunology_and_Microbiology                  | -0.078848015                                 | 0.0325924097                                 |  -2.4192140                                  |  1.555408e-02                                |\n",
       "| Dentistry                                    | -0.945868803                                 | 0.1686015358                                 |  -5.6100841                                  |  2.022283e-08                                |\n",
       "| Earth_and_Planetary_Sciences                 | -0.417543555                                 | 0.0300175860                                 | -13.9099645                                  |  5.510681e-44                                |\n",
       "| Environmental_Science                        | -0.128916323                                 | 0.0221430101                                 |  -5.8219873                                  |  5.815197e-09                                |\n",
       "| Mathematics                                  |  0.167301970                                 | 0.0531648358                                 |   3.1468539                                  |  1.650374e-03                                |\n",
       "| Arts_and_Humanities                          |  0.008813547                                 | 0.0624720664                                 |   0.1410798                                  |  8.878069e-01                                |\n",
       "| Energy                                       | -0.626202218                                 | 0.0608112771                                 | -10.2974686                                  |  7.233984e-25                                |\n",
       "| Veterinary                                   | -0.791956931                                 | 0.0941273194                                 |  -8.4136777                                  |  3.973515e-17                                |\n",
       "| General                                      |  0.691794649                                 | 0.0396185790                                 |  17.4613696                                  |  2.820847e-68                                |\n",
       "\n"
      ],
      "text/plain": [
       "   term                                         estimate     std.error   \n",
       "1  (Intercept)                                   2.041705277 0.0274915805\n",
       "2  genderFemale                                  0.037860000 0.0116537670\n",
       "3  matched_tid_follower_cn_log                   0.142092717 0.0026646201\n",
       "4  author_pub_count_cate                        -0.055115969 0.0058452502\n",
       "5  affiliation_rank_cate                        -0.017714008 0.0020559698\n",
       "6  affiliation_cateinternational                -0.071234250 0.0121631289\n",
       "7  num_authors                                   0.013133448 0.0004589738\n",
       "8  journal_impact                                0.054153098 0.0007186901\n",
       "9  author_citation_log                           0.048143692 0.0031282358\n",
       "10 Social_Sciences                              -0.192472017 0.0212992042\n",
       "11 Materials_Science                            -0.408143939 0.0481899828\n",
       "12 Engineering                                  -0.351375926 0.0373734352\n",
       "13 Chemistry                                    -0.793649846 0.0344945884\n",
       "14 Biochemistry__Genetics_and_Molecular_Biology  0.014429290 0.0176481085\n",
       "15 Medicine                                      0.039249731 0.0134429016\n",
       "16 Nursing                                       0.041506085 0.0379017547\n",
       "17 Agricultural_and_Biological_Sciences          0.106523884 0.0186449703\n",
       "18 Pharmacology__Toxicology_and_Pharmaceutics   -0.543003595 0.0442070522\n",
       "19 Neuroscience                                 -0.056568616 0.0267587559\n",
       "20 Business__Management_and_Accounting          -0.270072157 0.0424424538\n",
       "21 Economics__Econometrics_and_Finance          -0.075336582 0.0451971381\n",
       "22 Chemical_Engineering                         -0.059329616 0.0507527310\n",
       "23 Physics_and_Astronomy                        -0.568609486 0.0416974105\n",
       "24 Computer_Science                             -0.321161845 0.0376655418\n",
       "25 Decision_Sciences                            -0.285259446 0.0730720291\n",
       "26 Health_Professions                            0.475662054 0.0376128766\n",
       "27 Psychology                                    0.066273762 0.0320478758\n",
       "28 Immunology_and_Microbiology                  -0.078848015 0.0325924097\n",
       "29 Dentistry                                    -0.945868803 0.1686015358\n",
       "30 Earth_and_Planetary_Sciences                 -0.417543555 0.0300175860\n",
       "31 Environmental_Science                        -0.128916323 0.0221430101\n",
       "32 Mathematics                                   0.167301970 0.0531648358\n",
       "33 Arts_and_Humanities                           0.008813547 0.0624720664\n",
       "34 Energy                                       -0.626202218 0.0608112771\n",
       "35 Veterinary                                   -0.791956931 0.0941273194\n",
       "36 General                                       0.691794649 0.0396185790\n",
       "   statistic   p.value      \n",
       "1   74.2665659  0.000000e+00\n",
       "2    3.2487349  1.159194e-03\n",
       "3   53.3256945  0.000000e+00\n",
       "4   -9.4291890  4.132721e-21\n",
       "5   -8.6158890  6.940094e-18\n",
       "6   -5.8565728  4.725165e-09\n",
       "7   28.6148083 4.396273e-180\n",
       "8   75.3497217  0.000000e+00\n",
       "9   15.3900457  1.908973e-53\n",
       "10  -9.0365825  1.616463e-19\n",
       "11  -8.4694768  2.464978e-17\n",
       "12  -9.4017562  5.365983e-21\n",
       "13 -23.0079524 3.880672e-117\n",
       "14   0.8176111  4.135793e-01\n",
       "15   2.9197365  3.503274e-03\n",
       "16   1.0950967  2.734743e-01\n",
       "17   5.7132772  1.108209e-08\n",
       "18 -12.2831894  1.115138e-34\n",
       "19  -2.1140227  3.451333e-02\n",
       "20  -6.3632550  1.975223e-10\n",
       "21  -1.6668441  9.554541e-02\n",
       "22  -1.1689936  2.424062e-01\n",
       "23 -13.6365659  2.427243e-42\n",
       "24  -8.5266753  1.506139e-17\n",
       "25  -3.9038118  9.468944e-05\n",
       "26  12.6462557  1.173349e-36\n",
       "27   2.0679611  3.864368e-02\n",
       "28  -2.4192140  1.555408e-02\n",
       "29  -5.6100841  2.022283e-08\n",
       "30 -13.9099645  5.510681e-44\n",
       "31  -5.8219873  5.815197e-09\n",
       "32   3.1468539  1.650374e-03\n",
       "33   0.1410798  8.878069e-01\n",
       "34 -10.2974686  7.233984e-25\n",
       "35  -8.4136777  3.973515e-17\n",
       "36  17.4613696  2.820847e-68"
      ]
     },
     "metadata": {},
     "output_type": "display_data"
    }
   ],
   "source": [
    "tidy(m_yes)"
   ]
  },
  {
   "cell_type": "markdown",
   "id": "a7b4ff33",
   "metadata": {},
   "source": [
    "## Robustness check 2 (different definition of self-promotion)"
   ]
  },
  {
   "cell_type": "markdown",
   "id": "e486e6cd",
   "metadata": {},
   "source": [
    "### All observations"
   ]
  },
  {
   "cell_type": "markdown",
   "id": "13a4207d",
   "metadata": {},
   "source": [
    "Negative Binomial Regression"
   ]
  },
  {
   "cell_type": "code",
   "execution_count": 44,
   "id": "2e1ecbb8",
   "metadata": {},
   "outputs": [],
   "source": [
    "base_str <- \"total_num_tweets ~ 1 + gender * self_promotion_def + authorship_pos + \\\n",
    "        author_pub_count_cate + affiliation_rank_cate + affiliation_cate + num_authors + journal_impact + author_citation_log\"\n",
    "equation <- as.formula(paste(base_str, keywords, sep = \" \"))\n",
    "m_binary <- glm.nb(equation, data = mydata)"
   ]
  },
  {
   "cell_type": "code",
   "execution_count": 45,
   "id": "745b11c0",
   "metadata": {
    "scrolled": true
   },
   "outputs": [
    {
     "data": {
      "text/html": [
       "2375419"
      ],
      "text/latex": [
       "2375419"
      ],
      "text/markdown": [
       "2375419"
      ],
      "text/plain": [
       "[1] 2375419"
      ]
     },
     "metadata": {},
     "output_type": "display_data"
    }
   ],
   "source": [
    "nobs(m_binary)"
   ]
  },
  {
   "cell_type": "code",
   "execution_count": 46,
   "id": "33cb4328",
   "metadata": {
    "scrolled": true
   },
   "outputs": [
    {
     "data": {
      "text/html": [
       "<table>\n",
       "<thead><tr><th scope=col>term</th><th scope=col>estimate</th><th scope=col>std.error</th><th scope=col>statistic</th><th scope=col>p.value</th></tr></thead>\n",
       "<tbody>\n",
       "\t<tr><td>(Intercept)                                 </td><td> 1.821917e+00                               </td><td>4.222783e-03                                </td><td> 431.4493835                                </td><td> 0.000000e+00                               </td></tr>\n",
       "\t<tr><td>genderFemale                                </td><td> 1.183581e-03                               </td><td>2.114670e-03                                </td><td>   0.5597002                                </td><td> 5.756839e-01                               </td></tr>\n",
       "\t<tr><td>self_promotion_defTrue                      </td><td> 1.431342e+00                               </td><td>5.263336e-03                                </td><td> 271.9457934                                </td><td> 0.000000e+00                               </td></tr>\n",
       "\t<tr><td>authorship_posfirst_position                </td><td> 2.071637e-02                               </td><td>3.598478e-03                                </td><td>   5.7569801                                </td><td> 8.563199e-09                               </td></tr>\n",
       "\t<tr><td>authorship_posmiddle_position               </td><td> 2.162283e-01                               </td><td>2.797186e-03                                </td><td>  77.3021040                                </td><td> 0.000000e+00                               </td></tr>\n",
       "\t<tr><td>authorship_possolo_author                   </td><td>-9.759314e-02                               </td><td>8.991933e-03                                </td><td> -10.8534107                                </td><td> 1.921198e-27                               </td></tr>\n",
       "\t<tr><td>author_pub_count_cate                       </td><td>-7.102727e-02                               </td><td>9.956269e-04                                </td><td> -71.3392365                                </td><td> 0.000000e+00                               </td></tr>\n",
       "\t<tr><td>affiliation_rank_cate                       </td><td>-2.615917e-02                               </td><td>3.655818e-04                                </td><td> -71.5549090                                </td><td> 0.000000e+00                               </td></tr>\n",
       "\t<tr><td>affiliation_cateinternational               </td><td>-1.201480e-01                               </td><td>2.162364e-03                                </td><td> -55.5632680                                </td><td> 0.000000e+00                               </td></tr>\n",
       "\t<tr><td>num_authors                                 </td><td> 8.305554e-05                               </td><td>3.108989e-06                                </td><td>  26.7146492                                </td><td>3.181073e-157                               </td></tr>\n",
       "\t<tr><td>journal_impact                              </td><td> 9.462661e-02                               </td><td>1.479484e-04                                </td><td> 639.5919834                                </td><td> 0.000000e+00                               </td></tr>\n",
       "\t<tr><td>author_citation_log                         </td><td> 5.299546e-02                               </td><td>5.599057e-04                                </td><td>  94.6506778                                </td><td> 0.000000e+00                               </td></tr>\n",
       "\t<tr><td>Social_Sciences                             </td><td> 2.845667e-01                               </td><td>6.162521e-03                                </td><td>  46.1769835                                </td><td> 0.000000e+00                               </td></tr>\n",
       "\t<tr><td>Materials_Science                           </td><td>-6.551596e-01                               </td><td>6.226922e-03                                </td><td>-105.2140407                                </td><td> 0.000000e+00                               </td></tr>\n",
       "\t<tr><td>Engineering                                 </td><td>-6.371211e-01                               </td><td>5.866501e-03                                </td><td>-108.6032538                                </td><td> 0.000000e+00                               </td></tr>\n",
       "\t<tr><td>Chemistry                                   </td><td>-8.024094e-01                               </td><td>4.650291e-03                                </td><td>-172.5503371                                </td><td> 0.000000e+00                               </td></tr>\n",
       "\t<tr><td>Biochemistry__Genetics_and_Molecular_Biology</td><td>-2.004501e-01                               </td><td>2.687259e-03                                </td><td> -74.5927708                                </td><td> 0.000000e+00                               </td></tr>\n",
       "\t<tr><td>Medicine                                    </td><td>-1.043125e-02                               </td><td>2.257061e-03                                </td><td>  -4.6216068                                </td><td> 3.807793e-06                               </td></tr>\n",
       "\t<tr><td>Nursing                                     </td><td> 2.899006e-01                               </td><td>7.306034e-03                                </td><td>  39.6796102                                </td><td> 0.000000e+00                               </td></tr>\n",
       "\t<tr><td>Agricultural_and_Biological_Sciences        </td><td> 4.172994e-01                               </td><td>3.763215e-03                                </td><td> 110.8890750                                </td><td> 0.000000e+00                               </td></tr>\n",
       "\t<tr><td>Pharmacology__Toxicology_and_Pharmaceutics  </td><td>-5.424913e-01                               </td><td>5.550554e-03                                </td><td> -97.7364139                                </td><td> 0.000000e+00                               </td></tr>\n",
       "\t<tr><td>Neuroscience                                </td><td>-7.655652e-03                               </td><td>4.710139e-03                                </td><td>  -1.6253559                                </td><td> 1.040868e-01                               </td></tr>\n",
       "\t<tr><td>Business__Management_and_Accounting         </td><td>-3.453660e-01                               </td><td>1.143903e-02                                </td><td> -30.1918934                                </td><td>3.026319e-200                               </td></tr>\n",
       "\t<tr><td>Economics__Econometrics_and_Finance         </td><td>-1.159269e-01                               </td><td>1.260781e-02                                </td><td>  -9.1948491                                </td><td> 3.755213e-20                               </td></tr>\n",
       "\t<tr><td>Chemical_Engineering                        </td><td> 5.458176e-02                               </td><td>7.434483e-03                                </td><td>   7.3417033                                </td><td> 2.108926e-13                               </td></tr>\n",
       "\t<tr><td>Physics_and_Astronomy                       </td><td>-4.608342e-01                               </td><td>5.029422e-03                                </td><td> -91.6276529                                </td><td> 0.000000e+00                               </td></tr>\n",
       "\t<tr><td>Computer_Science                            </td><td>-2.973904e-01                               </td><td>7.639592e-03                                </td><td> -38.9275292                                </td><td> 0.000000e+00                               </td></tr>\n",
       "\t<tr><td>Decision_Sciences                           </td><td>-7.769260e-01                               </td><td>1.768051e-02                                </td><td> -43.9425215                                </td><td> 0.000000e+00                               </td></tr>\n",
       "\t<tr><td>Health_Professions                          </td><td> 7.472619e-01                               </td><td>9.561772e-03                                </td><td>  78.1509801                                </td><td> 0.000000e+00                               </td></tr>\n",
       "\t<tr><td>Psychology                                  </td><td>-2.693488e-01                               </td><td>8.251989e-03                                </td><td> -32.6404658                                </td><td>1.094220e-233                               </td></tr>\n",
       "\t<tr><td>Immunology_and_Microbiology                 </td><td>-7.306539e-02                               </td><td>4.936631e-03                                </td><td> -14.8006599                                </td><td> 1.450526e-49                               </td></tr>\n",
       "\t<tr><td>Dentistry                                   </td><td>-1.347566e+00                               </td><td>1.774506e-02                                </td><td> -75.9403550                                </td><td> 0.000000e+00                               </td></tr>\n",
       "\t<tr><td>Earth_and_Planetary_Sciences                </td><td>-2.991554e-01                               </td><td>5.681893e-03                                </td><td> -52.6506522                                </td><td> 0.000000e+00                               </td></tr>\n",
       "\t<tr><td>Environmental_Science                       </td><td>-8.774719e-02                               </td><td>4.649649e-03                                </td><td> -18.8717866                                </td><td> 1.946067e-79                               </td></tr>\n",
       "\t<tr><td>Mathematics                                 </td><td> 7.862678e-02                               </td><td>8.382816e-03                                </td><td>   9.3795189                                </td><td> 6.627444e-21                               </td></tr>\n",
       "\t<tr><td>Arts_and_Humanities                         </td><td> 2.035238e-02                               </td><td>1.620448e-02                                </td><td>   1.2559724                                </td><td> 2.091260e-01                               </td></tr>\n",
       "\t<tr><td>Energy                                      </td><td>-1.111900e+00                               </td><td>1.144473e-02                                </td><td> -97.1539122                                </td><td> 0.000000e+00                               </td></tr>\n",
       "\t<tr><td>Veterinary                                  </td><td>-6.095383e-01                               </td><td>1.134265e-02                                </td><td> -53.7386267                                </td><td> 0.000000e+00                               </td></tr>\n",
       "\t<tr><td>General                                     </td><td> 4.653901e-01                               </td><td>8.164253e-03                                </td><td>  57.0033854                                </td><td> 0.000000e+00                               </td></tr>\n",
       "\t<tr><td>genderFemale:self_promotion_defTrue         </td><td> 4.852113e-02                               </td><td>9.283908e-03                                </td><td>   5.2263692                                </td><td> 1.728710e-07                               </td></tr>\n",
       "</tbody>\n",
       "</table>\n"
      ],
      "text/latex": [
       "\\begin{tabular}{r|lllll}\n",
       " term & estimate & std.error & statistic & p.value\\\\\n",
       "\\hline\n",
       "\t (Intercept)                                  &  1.821917e+00                                & 4.222783e-03                                 &  431.4493835                                 &  0.000000e+00                               \\\\\n",
       "\t genderFemale                                 &  1.183581e-03                                & 2.114670e-03                                 &    0.5597002                                 &  5.756839e-01                               \\\\\n",
       "\t self\\_promotion\\_defTrue                       &  1.431342e+00                                    & 5.263336e-03                                     &  271.9457934                                     &  0.000000e+00                                   \\\\\n",
       "\t authorship\\_posfirst\\_position                 &  2.071637e-02                                    & 3.598478e-03                                     &    5.7569801                                     &  8.563199e-09                                   \\\\\n",
       "\t authorship\\_posmiddle\\_position                &  2.162283e-01                                    & 2.797186e-03                                     &   77.3021040                                     &  0.000000e+00                                   \\\\\n",
       "\t authorship\\_possolo\\_author                    & -9.759314e-02                                    & 8.991933e-03                                     &  -10.8534107                                     &  1.921198e-27                                   \\\\\n",
       "\t author\\_pub\\_count\\_cate                        & -7.102727e-02                                      & 9.956269e-04                                       &  -71.3392365                                       &  0.000000e+00                                     \\\\\n",
       "\t affiliation\\_rank\\_cate                        & -2.615917e-02                                    & 3.655818e-04                                     &  -71.5549090                                     &  0.000000e+00                                   \\\\\n",
       "\t affiliation\\_cateinternational                & -1.201480e-01                                  & 2.162364e-03                                   &  -55.5632680                                   &  0.000000e+00                                 \\\\\n",
       "\t num\\_authors                                  &  8.305554e-05                                  & 3.108989e-06                                   &   26.7146492                                   & 3.181073e-157                                 \\\\\n",
       "\t journal\\_impact                               &  9.462661e-02                                  & 1.479484e-04                                   &  639.5919834                                   &  0.000000e+00                                 \\\\\n",
       "\t author\\_citation\\_log                          &  5.299546e-02                                    & 5.599057e-04                                     &   94.6506778                                     &  0.000000e+00                                   \\\\\n",
       "\t Social\\_Sciences                              &  2.845667e-01                                  & 6.162521e-03                                   &   46.1769835                                   &  0.000000e+00                                 \\\\\n",
       "\t Materials\\_Science                            & -6.551596e-01                                  & 6.226922e-03                                   & -105.2140407                                   &  0.000000e+00                                 \\\\\n",
       "\t Engineering                                  & -6.371211e-01                                & 5.866501e-03                                 & -108.6032538                                 &  0.000000e+00                               \\\\\n",
       "\t Chemistry                                    & -8.024094e-01                                & 4.650291e-03                                 & -172.5503371                                 &  0.000000e+00                               \\\\\n",
       "\t Biochemistry\\_\\_Genetics\\_and\\_Molecular\\_Biology & -2.004501e-01                                          & 2.687259e-03                                           &  -74.5927708                                           &  0.000000e+00                                         \\\\\n",
       "\t Medicine                                     & -1.043125e-02                                & 2.257061e-03                                 &   -4.6216068                                 &  3.807793e-06                               \\\\\n",
       "\t Nursing                                      &  2.899006e-01                                & 7.306034e-03                                 &   39.6796102                                 &  0.000000e+00                               \\\\\n",
       "\t Agricultural\\_and\\_Biological\\_Sciences         &  4.172994e-01                                      & 3.763215e-03                                       &  110.8890750                                       &  0.000000e+00                                     \\\\\n",
       "\t Pharmacology\\_\\_Toxicology\\_and\\_Pharmaceutics   & -5.424913e-01                                        & 5.550554e-03                                         &  -97.7364139                                         &  0.000000e+00                                       \\\\\n",
       "\t Neuroscience                                 & -7.655652e-03                                & 4.710139e-03                                 &   -1.6253559                                 &  1.040868e-01                               \\\\\n",
       "\t Business\\_\\_Management\\_and\\_Accounting          & -3.453660e-01                                        & 1.143903e-02                                         &  -30.1918934                                         & 3.026319e-200                                       \\\\\n",
       "\t Economics\\_\\_Econometrics\\_and\\_Finance          & -1.159269e-01                                        & 1.260781e-02                                         &   -9.1948491                                         &  3.755213e-20                                       \\\\\n",
       "\t Chemical\\_Engineering                         &  5.458176e-02                                  & 7.434483e-03                                   &    7.3417033                                   &  2.108926e-13                                 \\\\\n",
       "\t Physics\\_and\\_Astronomy                        & -4.608342e-01                                    & 5.029422e-03                                     &  -91.6276529                                     &  0.000000e+00                                   \\\\\n",
       "\t Computer\\_Science                             & -2.973904e-01                                  & 7.639592e-03                                   &  -38.9275292                                   &  0.000000e+00                                 \\\\\n",
       "\t Decision\\_Sciences                            & -7.769260e-01                                  & 1.768051e-02                                   &  -43.9425215                                   &  0.000000e+00                                 \\\\\n",
       "\t Health\\_Professions                           &  7.472619e-01                                  & 9.561772e-03                                   &   78.1509801                                   &  0.000000e+00                                 \\\\\n",
       "\t Psychology                                   & -2.693488e-01                                & 8.251989e-03                                 &  -32.6404658                                 & 1.094220e-233                               \\\\\n",
       "\t Immunology\\_and\\_Microbiology                  & -7.306539e-02                                    & 4.936631e-03                                     &  -14.8006599                                     &  1.450526e-49                                   \\\\\n",
       "\t Dentistry                                    & -1.347566e+00                                & 1.774506e-02                                 &  -75.9403550                                 &  0.000000e+00                               \\\\\n",
       "\t Earth\\_and\\_Planetary\\_Sciences                 & -2.991554e-01                                      & 5.681893e-03                                       &  -52.6506522                                       &  0.000000e+00                                     \\\\\n",
       "\t Environmental\\_Science                        & -8.774719e-02                                  & 4.649649e-03                                   &  -18.8717866                                   &  1.946067e-79                                 \\\\\n",
       "\t Mathematics                                  &  7.862678e-02                                & 8.382816e-03                                 &    9.3795189                                 &  6.627444e-21                               \\\\\n",
       "\t Arts\\_and\\_Humanities                          &  2.035238e-02                                    & 1.620448e-02                                     &    1.2559724                                     &  2.091260e-01                                   \\\\\n",
       "\t Energy                                       & -1.111900e+00                                & 1.144473e-02                                 &  -97.1539122                                 &  0.000000e+00                               \\\\\n",
       "\t Veterinary                                   & -6.095383e-01                                & 1.134265e-02                                 &  -53.7386267                                 &  0.000000e+00                               \\\\\n",
       "\t General                                      &  4.653901e-01                                & 8.164253e-03                                 &   57.0033854                                 &  0.000000e+00                               \\\\\n",
       "\t genderFemale:self\\_promotion\\_defTrue          &  4.852113e-02                                    & 9.283908e-03                                     &    5.2263692                                     &  1.728710e-07                                   \\\\\n",
       "\\end{tabular}\n"
      ],
      "text/markdown": [
       "\n",
       "| term | estimate | std.error | statistic | p.value |\n",
       "|---|---|---|---|---|\n",
       "| (Intercept)                                  |  1.821917e+00                                | 4.222783e-03                                 |  431.4493835                                 |  0.000000e+00                                |\n",
       "| genderFemale                                 |  1.183581e-03                                | 2.114670e-03                                 |    0.5597002                                 |  5.756839e-01                                |\n",
       "| self_promotion_defTrue                       |  1.431342e+00                                | 5.263336e-03                                 |  271.9457934                                 |  0.000000e+00                                |\n",
       "| authorship_posfirst_position                 |  2.071637e-02                                | 3.598478e-03                                 |    5.7569801                                 |  8.563199e-09                                |\n",
       "| authorship_posmiddle_position                |  2.162283e-01                                | 2.797186e-03                                 |   77.3021040                                 |  0.000000e+00                                |\n",
       "| authorship_possolo_author                    | -9.759314e-02                                | 8.991933e-03                                 |  -10.8534107                                 |  1.921198e-27                                |\n",
       "| author_pub_count_cate                        | -7.102727e-02                                | 9.956269e-04                                 |  -71.3392365                                 |  0.000000e+00                                |\n",
       "| affiliation_rank_cate                        | -2.615917e-02                                | 3.655818e-04                                 |  -71.5549090                                 |  0.000000e+00                                |\n",
       "| affiliation_cateinternational                | -1.201480e-01                                | 2.162364e-03                                 |  -55.5632680                                 |  0.000000e+00                                |\n",
       "| num_authors                                  |  8.305554e-05                                | 3.108989e-06                                 |   26.7146492                                 | 3.181073e-157                                |\n",
       "| journal_impact                               |  9.462661e-02                                | 1.479484e-04                                 |  639.5919834                                 |  0.000000e+00                                |\n",
       "| author_citation_log                          |  5.299546e-02                                | 5.599057e-04                                 |   94.6506778                                 |  0.000000e+00                                |\n",
       "| Social_Sciences                              |  2.845667e-01                                | 6.162521e-03                                 |   46.1769835                                 |  0.000000e+00                                |\n",
       "| Materials_Science                            | -6.551596e-01                                | 6.226922e-03                                 | -105.2140407                                 |  0.000000e+00                                |\n",
       "| Engineering                                  | -6.371211e-01                                | 5.866501e-03                                 | -108.6032538                                 |  0.000000e+00                                |\n",
       "| Chemistry                                    | -8.024094e-01                                | 4.650291e-03                                 | -172.5503371                                 |  0.000000e+00                                |\n",
       "| Biochemistry__Genetics_and_Molecular_Biology | -2.004501e-01                                | 2.687259e-03                                 |  -74.5927708                                 |  0.000000e+00                                |\n",
       "| Medicine                                     | -1.043125e-02                                | 2.257061e-03                                 |   -4.6216068                                 |  3.807793e-06                                |\n",
       "| Nursing                                      |  2.899006e-01                                | 7.306034e-03                                 |   39.6796102                                 |  0.000000e+00                                |\n",
       "| Agricultural_and_Biological_Sciences         |  4.172994e-01                                | 3.763215e-03                                 |  110.8890750                                 |  0.000000e+00                                |\n",
       "| Pharmacology__Toxicology_and_Pharmaceutics   | -5.424913e-01                                | 5.550554e-03                                 |  -97.7364139                                 |  0.000000e+00                                |\n",
       "| Neuroscience                                 | -7.655652e-03                                | 4.710139e-03                                 |   -1.6253559                                 |  1.040868e-01                                |\n",
       "| Business__Management_and_Accounting          | -3.453660e-01                                | 1.143903e-02                                 |  -30.1918934                                 | 3.026319e-200                                |\n",
       "| Economics__Econometrics_and_Finance          | -1.159269e-01                                | 1.260781e-02                                 |   -9.1948491                                 |  3.755213e-20                                |\n",
       "| Chemical_Engineering                         |  5.458176e-02                                | 7.434483e-03                                 |    7.3417033                                 |  2.108926e-13                                |\n",
       "| Physics_and_Astronomy                        | -4.608342e-01                                | 5.029422e-03                                 |  -91.6276529                                 |  0.000000e+00                                |\n",
       "| Computer_Science                             | -2.973904e-01                                | 7.639592e-03                                 |  -38.9275292                                 |  0.000000e+00                                |\n",
       "| Decision_Sciences                            | -7.769260e-01                                | 1.768051e-02                                 |  -43.9425215                                 |  0.000000e+00                                |\n",
       "| Health_Professions                           |  7.472619e-01                                | 9.561772e-03                                 |   78.1509801                                 |  0.000000e+00                                |\n",
       "| Psychology                                   | -2.693488e-01                                | 8.251989e-03                                 |  -32.6404658                                 | 1.094220e-233                                |\n",
       "| Immunology_and_Microbiology                  | -7.306539e-02                                | 4.936631e-03                                 |  -14.8006599                                 |  1.450526e-49                                |\n",
       "| Dentistry                                    | -1.347566e+00                                | 1.774506e-02                                 |  -75.9403550                                 |  0.000000e+00                                |\n",
       "| Earth_and_Planetary_Sciences                 | -2.991554e-01                                | 5.681893e-03                                 |  -52.6506522                                 |  0.000000e+00                                |\n",
       "| Environmental_Science                        | -8.774719e-02                                | 4.649649e-03                                 |  -18.8717866                                 |  1.946067e-79                                |\n",
       "| Mathematics                                  |  7.862678e-02                                | 8.382816e-03                                 |    9.3795189                                 |  6.627444e-21                                |\n",
       "| Arts_and_Humanities                          |  2.035238e-02                                | 1.620448e-02                                 |    1.2559724                                 |  2.091260e-01                                |\n",
       "| Energy                                       | -1.111900e+00                                | 1.144473e-02                                 |  -97.1539122                                 |  0.000000e+00                                |\n",
       "| Veterinary                                   | -6.095383e-01                                | 1.134265e-02                                 |  -53.7386267                                 |  0.000000e+00                                |\n",
       "| General                                      |  4.653901e-01                                | 8.164253e-03                                 |   57.0033854                                 |  0.000000e+00                                |\n",
       "| genderFemale:self_promotion_defTrue          |  4.852113e-02                                | 9.283908e-03                                 |    5.2263692                                 |  1.728710e-07                                |\n",
       "\n"
      ],
      "text/plain": [
       "   term                                         estimate      std.error   \n",
       "1  (Intercept)                                   1.821917e+00 4.222783e-03\n",
       "2  genderFemale                                  1.183581e-03 2.114670e-03\n",
       "3  self_promotion_defTrue                        1.431342e+00 5.263336e-03\n",
       "4  authorship_posfirst_position                  2.071637e-02 3.598478e-03\n",
       "5  authorship_posmiddle_position                 2.162283e-01 2.797186e-03\n",
       "6  authorship_possolo_author                    -9.759314e-02 8.991933e-03\n",
       "7  author_pub_count_cate                        -7.102727e-02 9.956269e-04\n",
       "8  affiliation_rank_cate                        -2.615917e-02 3.655818e-04\n",
       "9  affiliation_cateinternational                -1.201480e-01 2.162364e-03\n",
       "10 num_authors                                   8.305554e-05 3.108989e-06\n",
       "11 journal_impact                                9.462661e-02 1.479484e-04\n",
       "12 author_citation_log                           5.299546e-02 5.599057e-04\n",
       "13 Social_Sciences                               2.845667e-01 6.162521e-03\n",
       "14 Materials_Science                            -6.551596e-01 6.226922e-03\n",
       "15 Engineering                                  -6.371211e-01 5.866501e-03\n",
       "16 Chemistry                                    -8.024094e-01 4.650291e-03\n",
       "17 Biochemistry__Genetics_and_Molecular_Biology -2.004501e-01 2.687259e-03\n",
       "18 Medicine                                     -1.043125e-02 2.257061e-03\n",
       "19 Nursing                                       2.899006e-01 7.306034e-03\n",
       "20 Agricultural_and_Biological_Sciences          4.172994e-01 3.763215e-03\n",
       "21 Pharmacology__Toxicology_and_Pharmaceutics   -5.424913e-01 5.550554e-03\n",
       "22 Neuroscience                                 -7.655652e-03 4.710139e-03\n",
       "23 Business__Management_and_Accounting          -3.453660e-01 1.143903e-02\n",
       "24 Economics__Econometrics_and_Finance          -1.159269e-01 1.260781e-02\n",
       "25 Chemical_Engineering                          5.458176e-02 7.434483e-03\n",
       "26 Physics_and_Astronomy                        -4.608342e-01 5.029422e-03\n",
       "27 Computer_Science                             -2.973904e-01 7.639592e-03\n",
       "28 Decision_Sciences                            -7.769260e-01 1.768051e-02\n",
       "29 Health_Professions                            7.472619e-01 9.561772e-03\n",
       "30 Psychology                                   -2.693488e-01 8.251989e-03\n",
       "31 Immunology_and_Microbiology                  -7.306539e-02 4.936631e-03\n",
       "32 Dentistry                                    -1.347566e+00 1.774506e-02\n",
       "33 Earth_and_Planetary_Sciences                 -2.991554e-01 5.681893e-03\n",
       "34 Environmental_Science                        -8.774719e-02 4.649649e-03\n",
       "35 Mathematics                                   7.862678e-02 8.382816e-03\n",
       "36 Arts_and_Humanities                           2.035238e-02 1.620448e-02\n",
       "37 Energy                                       -1.111900e+00 1.144473e-02\n",
       "38 Veterinary                                   -6.095383e-01 1.134265e-02\n",
       "39 General                                       4.653901e-01 8.164253e-03\n",
       "40 genderFemale:self_promotion_defTrue           4.852113e-02 9.283908e-03\n",
       "   statistic    p.value      \n",
       "1   431.4493835  0.000000e+00\n",
       "2     0.5597002  5.756839e-01\n",
       "3   271.9457934  0.000000e+00\n",
       "4     5.7569801  8.563199e-09\n",
       "5    77.3021040  0.000000e+00\n",
       "6   -10.8534107  1.921198e-27\n",
       "7   -71.3392365  0.000000e+00\n",
       "8   -71.5549090  0.000000e+00\n",
       "9   -55.5632680  0.000000e+00\n",
       "10   26.7146492 3.181073e-157\n",
       "11  639.5919834  0.000000e+00\n",
       "12   94.6506778  0.000000e+00\n",
       "13   46.1769835  0.000000e+00\n",
       "14 -105.2140407  0.000000e+00\n",
       "15 -108.6032538  0.000000e+00\n",
       "16 -172.5503371  0.000000e+00\n",
       "17  -74.5927708  0.000000e+00\n",
       "18   -4.6216068  3.807793e-06\n",
       "19   39.6796102  0.000000e+00\n",
       "20  110.8890750  0.000000e+00\n",
       "21  -97.7364139  0.000000e+00\n",
       "22   -1.6253559  1.040868e-01\n",
       "23  -30.1918934 3.026319e-200\n",
       "24   -9.1948491  3.755213e-20\n",
       "25    7.3417033  2.108926e-13\n",
       "26  -91.6276529  0.000000e+00\n",
       "27  -38.9275292  0.000000e+00\n",
       "28  -43.9425215  0.000000e+00\n",
       "29   78.1509801  0.000000e+00\n",
       "30  -32.6404658 1.094220e-233\n",
       "31  -14.8006599  1.450526e-49\n",
       "32  -75.9403550  0.000000e+00\n",
       "33  -52.6506522  0.000000e+00\n",
       "34  -18.8717866  1.946067e-79\n",
       "35    9.3795189  6.627444e-21\n",
       "36    1.2559724  2.091260e-01\n",
       "37  -97.1539122  0.000000e+00\n",
       "38  -53.7386267  0.000000e+00\n",
       "39   57.0033854  0.000000e+00\n",
       "40    5.2263692  1.728710e-07"
      ]
     },
     "metadata": {},
     "output_type": "display_data"
    }
   ],
   "source": [
    "tidy(m_binary)"
   ]
  },
  {
   "cell_type": "markdown",
   "id": "c0979f11",
   "metadata": {},
   "source": [
    "### Self-promoted subset"
   ]
  },
  {
   "cell_type": "markdown",
   "id": "dfeeba6c",
   "metadata": {},
   "source": [
    "Negative Binomial Regression"
   ]
  },
  {
   "cell_type": "code",
   "execution_count": 47,
   "id": "52fe403a",
   "metadata": {},
   "outputs": [],
   "source": [
    "base_str <- \"total_num_tweets ~ 1 + gender + authorship_pos + matched_tid_follower_cn_log + \\\n",
    "        author_pub_count_cate + affiliation_rank_cate + affiliation_cate + num_authors + journal_impact + author_citation_log\"\n",
    "equation <- as.formula(paste(base_str, keywords, sep = \" \"))\n",
    "m_yes <- glm.nb(equation, data = mydata[mydata$self_promotion_def == \"True\", ])"
   ]
  },
  {
   "cell_type": "code",
   "execution_count": 48,
   "id": "92132fc6",
   "metadata": {},
   "outputs": [
    {
     "data": {
      "text/html": [
       "117535"
      ],
      "text/latex": [
       "117535"
      ],
      "text/markdown": [
       "117535"
      ],
      "text/plain": [
       "[1] 117535"
      ]
     },
     "metadata": {},
     "output_type": "display_data"
    }
   ],
   "source": [
    "nrow(mydata[mydata$self_promotion_def == \"True\", ])"
   ]
  },
  {
   "cell_type": "code",
   "execution_count": 49,
   "id": "4e2d7f3f",
   "metadata": {
    "scrolled": true
   },
   "outputs": [
    {
     "data": {
      "text/html": [
       "<table>\n",
       "<thead><tr><th scope=col>term</th><th scope=col>estimate</th><th scope=col>std.error</th><th scope=col>statistic</th><th scope=col>p.value</th></tr></thead>\n",
       "<tbody>\n",
       "\t<tr><td>(Intercept)                                 </td><td> 2.342400693                                </td><td>2.085152e-02                                </td><td>112.3371794                                 </td><td> 0.000000e+00                               </td></tr>\n",
       "\t<tr><td>genderFemale                                </td><td> 0.077366244                                </td><td>7.656466e-03                                </td><td> 10.1046933                                 </td><td> 5.266011e-24                               </td></tr>\n",
       "\t<tr><td>authorship_posfirst_position                </td><td> 0.153622129                                </td><td>1.068192e-02                                </td><td> 14.3815047                                 </td><td> 6.760849e-47                               </td></tr>\n",
       "\t<tr><td>authorship_posmiddle_position               </td><td> 0.444241011                                </td><td>9.061605e-03                                </td><td> 49.0245414                                 </td><td> 0.000000e+00                               </td></tr>\n",
       "\t<tr><td>authorship_possolo_author                   </td><td>-0.135880279                                </td><td>2.111675e-02                                </td><td> -6.4347148                                 </td><td> 1.237054e-10                               </td></tr>\n",
       "\t<tr><td>matched_tid_follower_cn_log                 </td><td> 0.114384242                                </td><td>1.727720e-03                                </td><td> 66.2053207                                 </td><td> 0.000000e+00                               </td></tr>\n",
       "\t<tr><td>author_pub_count_cate                       </td><td>-0.056063202                                </td><td>3.725276e-03                                </td><td>-15.0494086                                 </td><td> 3.483343e-51                               </td></tr>\n",
       "\t<tr><td>affiliation_rank_cate                       </td><td>-0.011263936                                </td><td>1.280601e-03                                </td><td> -8.7958179                                 </td><td> 1.420097e-18                               </td></tr>\n",
       "\t<tr><td>affiliation_cateinternational               </td><td>-0.059457760                                </td><td>7.598502e-03                                </td><td> -7.8249316                                 </td><td> 5.079332e-15                               </td></tr>\n",
       "\t<tr><td>num_authors                                 </td><td> 0.001172718                                </td><td>3.288313e-05                                </td><td> 35.6632239                                 </td><td>1.469895e-278                               </td></tr>\n",
       "\t<tr><td>journal_impact                              </td><td> 0.056164444                                </td><td>3.879644e-04                                </td><td>144.7669971                                 </td><td> 0.000000e+00                               </td></tr>\n",
       "\t<tr><td>author_citation_log                         </td><td> 0.034788466                                </td><td>2.064970e-03                                </td><td> 16.8469581                                 </td><td> 1.104517e-63                               </td></tr>\n",
       "\t<tr><td>Social_Sciences                             </td><td>-0.247634322                                </td><td>1.480544e-02                                </td><td>-16.7258993                                 </td><td> 8.488514e-63                               </td></tr>\n",
       "\t<tr><td>Materials_Science                           </td><td>-0.597053791                                </td><td>2.725598e-02                                </td><td>-21.9054198                                 </td><td>2.306460e-106                               </td></tr>\n",
       "\t<tr><td>Engineering                                 </td><td>-0.241999582                                </td><td>2.328299e-02                                </td><td>-10.3938357                                 </td><td> 2.644973e-25                               </td></tr>\n",
       "\t<tr><td>Chemistry                                   </td><td>-1.076260697                                </td><td>1.894413e-02                                </td><td>-56.8123612                                 </td><td> 0.000000e+00                               </td></tr>\n",
       "\t<tr><td>Biochemistry__Genetics_and_Molecular_Biology</td><td>-0.027211557                                </td><td>1.041359e-02                                </td><td> -2.6130801                                 </td><td> 8.973028e-03                               </td></tr>\n",
       "\t<tr><td>Medicine                                    </td><td>-0.098807567                                </td><td>8.453970e-03                                </td><td>-11.6877117                                 </td><td> 1.473020e-31                               </td></tr>\n",
       "\t<tr><td>Nursing                                     </td><td>-0.005610595                                </td><td>2.372499e-02                                </td><td> -0.2364846                                 </td><td> 8.130567e-01                               </td></tr>\n",
       "\t<tr><td>Agricultural_and_Biological_Sciences        </td><td> 0.050689623                                </td><td>1.216344e-02                                </td><td>  4.1673755                                 </td><td> 3.081267e-05                               </td></tr>\n",
       "\t<tr><td>Pharmacology__Toxicology_and_Pharmaceutics  </td><td>-0.468724931                                </td><td>2.694144e-02                                </td><td>-17.3979142                                 </td><td> 8.556226e-68                               </td></tr>\n",
       "\t<tr><td>Neuroscience                                </td><td>-0.205346006                                </td><td>1.683979e-02                                </td><td>-12.1940940                                 </td><td> 3.342004e-34                               </td></tr>\n",
       "\t<tr><td>Business__Management_and_Accounting         </td><td>-0.452389089                                </td><td>3.072245e-02                                </td><td>-14.7250341                                 </td><td> 4.452450e-49                               </td></tr>\n",
       "\t<tr><td>Economics__Econometrics_and_Finance         </td><td>-0.048217948                                </td><td>3.253145e-02                                </td><td> -1.4821947                                 </td><td> 1.382885e-01                               </td></tr>\n",
       "\t<tr><td>Chemical_Engineering                        </td><td> 0.108131126                                </td><td>2.744482e-02                                </td><td>  3.9399473                                 </td><td> 8.149951e-05                               </td></tr>\n",
       "\t<tr><td>Physics_and_Astronomy                       </td><td>-0.644505020                                </td><td>2.550209e-02                                </td><td>-25.2726380                                 </td><td>6.387289e-141                               </td></tr>\n",
       "\t<tr><td>Computer_Science                            </td><td>-0.348957292                                </td><td>2.582254e-02                                </td><td>-13.5136715                                 </td><td> 1.298791e-41                               </td></tr>\n",
       "\t<tr><td>Decision_Sciences                           </td><td>-0.224247982                                </td><td>4.950595e-02                                </td><td> -4.5297180                                 </td><td> 5.906246e-06                               </td></tr>\n",
       "\t<tr><td>Health_Professions                          </td><td> 0.617973720                                </td><td>2.375617e-02                                </td><td> 26.0131842                                 </td><td>3.512876e-149                               </td></tr>\n",
       "\t<tr><td>Psychology                                  </td><td>-0.001860526                                </td><td>2.242901e-02                                </td><td> -0.0829518                                 </td><td> 9.338899e-01                               </td></tr>\n",
       "\t<tr><td>Immunology_and_Microbiology                 </td><td>-0.189142744                                </td><td>2.043706e-02                                </td><td> -9.2548900                                 </td><td> 2.144512e-20                               </td></tr>\n",
       "\t<tr><td>Dentistry                                   </td><td>-1.412675510                                </td><td>1.090022e-01                                </td><td>-12.9600614                                 </td><td> 2.060824e-38                               </td></tr>\n",
       "\t<tr><td>Earth_and_Planetary_Sciences                </td><td>-0.510731367                                </td><td>1.905285e-02                                </td><td>-26.8060321                                 </td><td>2.748239e-158                               </td></tr>\n",
       "\t<tr><td>Environmental_Science                       </td><td>-0.165594267                                </td><td>1.372788e-02                                </td><td>-12.0626245                                 </td><td> 1.663946e-33                               </td></tr>\n",
       "\t<tr><td>Mathematics                                 </td><td>-0.116748954                                </td><td>3.670987e-02                                </td><td> -3.1803147                                 </td><td> 1.471152e-03                               </td></tr>\n",
       "\t<tr><td>Arts_and_Humanities                         </td><td>-0.040625950                                </td><td>4.083994e-02                                </td><td> -0.9947604                                 </td><td> 3.198528e-01                               </td></tr>\n",
       "\t<tr><td>Energy                                      </td><td>-0.807578136                                </td><td>3.974094e-02                                </td><td>-20.3210651                                 </td><td> 8.373967e-92                               </td></tr>\n",
       "\t<tr><td>Veterinary                                  </td><td>-1.024361352                                </td><td>6.048243e-02                                </td><td>-16.9365112                                 </td><td> 2.420613e-64                               </td></tr>\n",
       "\t<tr><td>General                                     </td><td> 0.500649291                                </td><td>1.964668e-02                                </td><td> 25.4826356                                 </td><td>3.070951e-143                               </td></tr>\n",
       "</tbody>\n",
       "</table>\n"
      ],
      "text/latex": [
       "\\begin{tabular}{r|lllll}\n",
       " term & estimate & std.error & statistic & p.value\\\\\n",
       "\\hline\n",
       "\t (Intercept)                                  &  2.342400693                                 & 2.085152e-02                                 & 112.3371794                                  &  0.000000e+00                               \\\\\n",
       "\t genderFemale                                 &  0.077366244                                 & 7.656466e-03                                 &  10.1046933                                  &  5.266011e-24                               \\\\\n",
       "\t authorship\\_posfirst\\_position                 &  0.153622129                                     & 1.068192e-02                                     &  14.3815047                                      &  6.760849e-47                                   \\\\\n",
       "\t authorship\\_posmiddle\\_position                &  0.444241011                                     & 9.061605e-03                                     &  49.0245414                                      &  0.000000e+00                                   \\\\\n",
       "\t authorship\\_possolo\\_author                    & -0.135880279                                     & 2.111675e-02                                     &  -6.4347148                                      &  1.237054e-10                                   \\\\\n",
       "\t matched\\_tid\\_follower\\_cn\\_log                  &  0.114384242                                         & 1.727720e-03                                         &  66.2053207                                          &  0.000000e+00                                       \\\\\n",
       "\t author\\_pub\\_count\\_cate                        & -0.056063202                                       & 3.725276e-03                                       & -15.0494086                                        &  3.483343e-51                                     \\\\\n",
       "\t affiliation\\_rank\\_cate                        & -0.011263936                                     & 1.280601e-03                                     &  -8.7958179                                      &  1.420097e-18                                   \\\\\n",
       "\t affiliation\\_cateinternational                & -0.059457760                                   & 7.598502e-03                                   &  -7.8249316                                    &  5.079332e-15                                 \\\\\n",
       "\t num\\_authors                                  &  0.001172718                                   & 3.288313e-05                                   &  35.6632239                                    & 1.469895e-278                                 \\\\\n",
       "\t journal\\_impact                               &  0.056164444                                   & 3.879644e-04                                   & 144.7669971                                    &  0.000000e+00                                 \\\\\n",
       "\t author\\_citation\\_log                          &  0.034788466                                     & 2.064970e-03                                     &  16.8469581                                      &  1.104517e-63                                   \\\\\n",
       "\t Social\\_Sciences                              & -0.247634322                                   & 1.480544e-02                                   & -16.7258993                                    &  8.488514e-63                                 \\\\\n",
       "\t Materials\\_Science                            & -0.597053791                                   & 2.725598e-02                                   & -21.9054198                                    & 2.306460e-106                                 \\\\\n",
       "\t Engineering                                  & -0.241999582                                 & 2.328299e-02                                 & -10.3938357                                  &  2.644973e-25                               \\\\\n",
       "\t Chemistry                                    & -1.076260697                                 & 1.894413e-02                                 & -56.8123612                                  &  0.000000e+00                               \\\\\n",
       "\t Biochemistry\\_\\_Genetics\\_and\\_Molecular\\_Biology & -0.027211557                                           & 1.041359e-02                                           &  -2.6130801                                            &  8.973028e-03                                         \\\\\n",
       "\t Medicine                                     & -0.098807567                                 & 8.453970e-03                                 & -11.6877117                                  &  1.473020e-31                               \\\\\n",
       "\t Nursing                                      & -0.005610595                                 & 2.372499e-02                                 &  -0.2364846                                  &  8.130567e-01                               \\\\\n",
       "\t Agricultural\\_and\\_Biological\\_Sciences         &  0.050689623                                       & 1.216344e-02                                       &   4.1673755                                        &  3.081267e-05                                     \\\\\n",
       "\t Pharmacology\\_\\_Toxicology\\_and\\_Pharmaceutics   & -0.468724931                                         & 2.694144e-02                                         & -17.3979142                                          &  8.556226e-68                                       \\\\\n",
       "\t Neuroscience                                 & -0.205346006                                 & 1.683979e-02                                 & -12.1940940                                  &  3.342004e-34                               \\\\\n",
       "\t Business\\_\\_Management\\_and\\_Accounting          & -0.452389089                                         & 3.072245e-02                                         & -14.7250341                                          &  4.452450e-49                                       \\\\\n",
       "\t Economics\\_\\_Econometrics\\_and\\_Finance          & -0.048217948                                         & 3.253145e-02                                         &  -1.4821947                                          &  1.382885e-01                                       \\\\\n",
       "\t Chemical\\_Engineering                         &  0.108131126                                   & 2.744482e-02                                   &   3.9399473                                    &  8.149951e-05                                 \\\\\n",
       "\t Physics\\_and\\_Astronomy                        & -0.644505020                                     & 2.550209e-02                                     & -25.2726380                                      & 6.387289e-141                                   \\\\\n",
       "\t Computer\\_Science                             & -0.348957292                                   & 2.582254e-02                                   & -13.5136715                                    &  1.298791e-41                                 \\\\\n",
       "\t Decision\\_Sciences                            & -0.224247982                                   & 4.950595e-02                                   &  -4.5297180                                    &  5.906246e-06                                 \\\\\n",
       "\t Health\\_Professions                           &  0.617973720                                   & 2.375617e-02                                   &  26.0131842                                    & 3.512876e-149                                 \\\\\n",
       "\t Psychology                                   & -0.001860526                                 & 2.242901e-02                                 &  -0.0829518                                  &  9.338899e-01                               \\\\\n",
       "\t Immunology\\_and\\_Microbiology                  & -0.189142744                                     & 2.043706e-02                                     &  -9.2548900                                      &  2.144512e-20                                   \\\\\n",
       "\t Dentistry                                    & -1.412675510                                 & 1.090022e-01                                 & -12.9600614                                  &  2.060824e-38                               \\\\\n",
       "\t Earth\\_and\\_Planetary\\_Sciences                 & -0.510731367                                       & 1.905285e-02                                       & -26.8060321                                        & 2.748239e-158                                     \\\\\n",
       "\t Environmental\\_Science                        & -0.165594267                                   & 1.372788e-02                                   & -12.0626245                                    &  1.663946e-33                                 \\\\\n",
       "\t Mathematics                                  & -0.116748954                                 & 3.670987e-02                                 &  -3.1803147                                  &  1.471152e-03                               \\\\\n",
       "\t Arts\\_and\\_Humanities                          & -0.040625950                                     & 4.083994e-02                                     &  -0.9947604                                      &  3.198528e-01                                   \\\\\n",
       "\t Energy                                       & -0.807578136                                 & 3.974094e-02                                 & -20.3210651                                  &  8.373967e-92                               \\\\\n",
       "\t Veterinary                                   & -1.024361352                                 & 6.048243e-02                                 & -16.9365112                                  &  2.420613e-64                               \\\\\n",
       "\t General                                      &  0.500649291                                 & 1.964668e-02                                 &  25.4826356                                  & 3.070951e-143                               \\\\\n",
       "\\end{tabular}\n"
      ],
      "text/markdown": [
       "\n",
       "| term | estimate | std.error | statistic | p.value |\n",
       "|---|---|---|---|---|\n",
       "| (Intercept)                                  |  2.342400693                                 | 2.085152e-02                                 | 112.3371794                                  |  0.000000e+00                                |\n",
       "| genderFemale                                 |  0.077366244                                 | 7.656466e-03                                 |  10.1046933                                  |  5.266011e-24                                |\n",
       "| authorship_posfirst_position                 |  0.153622129                                 | 1.068192e-02                                 |  14.3815047                                  |  6.760849e-47                                |\n",
       "| authorship_posmiddle_position                |  0.444241011                                 | 9.061605e-03                                 |  49.0245414                                  |  0.000000e+00                                |\n",
       "| authorship_possolo_author                    | -0.135880279                                 | 2.111675e-02                                 |  -6.4347148                                  |  1.237054e-10                                |\n",
       "| matched_tid_follower_cn_log                  |  0.114384242                                 | 1.727720e-03                                 |  66.2053207                                  |  0.000000e+00                                |\n",
       "| author_pub_count_cate                        | -0.056063202                                 | 3.725276e-03                                 | -15.0494086                                  |  3.483343e-51                                |\n",
       "| affiliation_rank_cate                        | -0.011263936                                 | 1.280601e-03                                 |  -8.7958179                                  |  1.420097e-18                                |\n",
       "| affiliation_cateinternational                | -0.059457760                                 | 7.598502e-03                                 |  -7.8249316                                  |  5.079332e-15                                |\n",
       "| num_authors                                  |  0.001172718                                 | 3.288313e-05                                 |  35.6632239                                  | 1.469895e-278                                |\n",
       "| journal_impact                               |  0.056164444                                 | 3.879644e-04                                 | 144.7669971                                  |  0.000000e+00                                |\n",
       "| author_citation_log                          |  0.034788466                                 | 2.064970e-03                                 |  16.8469581                                  |  1.104517e-63                                |\n",
       "| Social_Sciences                              | -0.247634322                                 | 1.480544e-02                                 | -16.7258993                                  |  8.488514e-63                                |\n",
       "| Materials_Science                            | -0.597053791                                 | 2.725598e-02                                 | -21.9054198                                  | 2.306460e-106                                |\n",
       "| Engineering                                  | -0.241999582                                 | 2.328299e-02                                 | -10.3938357                                  |  2.644973e-25                                |\n",
       "| Chemistry                                    | -1.076260697                                 | 1.894413e-02                                 | -56.8123612                                  |  0.000000e+00                                |\n",
       "| Biochemistry__Genetics_and_Molecular_Biology | -0.027211557                                 | 1.041359e-02                                 |  -2.6130801                                  |  8.973028e-03                                |\n",
       "| Medicine                                     | -0.098807567                                 | 8.453970e-03                                 | -11.6877117                                  |  1.473020e-31                                |\n",
       "| Nursing                                      | -0.005610595                                 | 2.372499e-02                                 |  -0.2364846                                  |  8.130567e-01                                |\n",
       "| Agricultural_and_Biological_Sciences         |  0.050689623                                 | 1.216344e-02                                 |   4.1673755                                  |  3.081267e-05                                |\n",
       "| Pharmacology__Toxicology_and_Pharmaceutics   | -0.468724931                                 | 2.694144e-02                                 | -17.3979142                                  |  8.556226e-68                                |\n",
       "| Neuroscience                                 | -0.205346006                                 | 1.683979e-02                                 | -12.1940940                                  |  3.342004e-34                                |\n",
       "| Business__Management_and_Accounting          | -0.452389089                                 | 3.072245e-02                                 | -14.7250341                                  |  4.452450e-49                                |\n",
       "| Economics__Econometrics_and_Finance          | -0.048217948                                 | 3.253145e-02                                 |  -1.4821947                                  |  1.382885e-01                                |\n",
       "| Chemical_Engineering                         |  0.108131126                                 | 2.744482e-02                                 |   3.9399473                                  |  8.149951e-05                                |\n",
       "| Physics_and_Astronomy                        | -0.644505020                                 | 2.550209e-02                                 | -25.2726380                                  | 6.387289e-141                                |\n",
       "| Computer_Science                             | -0.348957292                                 | 2.582254e-02                                 | -13.5136715                                  |  1.298791e-41                                |\n",
       "| Decision_Sciences                            | -0.224247982                                 | 4.950595e-02                                 |  -4.5297180                                  |  5.906246e-06                                |\n",
       "| Health_Professions                           |  0.617973720                                 | 2.375617e-02                                 |  26.0131842                                  | 3.512876e-149                                |\n",
       "| Psychology                                   | -0.001860526                                 | 2.242901e-02                                 |  -0.0829518                                  |  9.338899e-01                                |\n",
       "| Immunology_and_Microbiology                  | -0.189142744                                 | 2.043706e-02                                 |  -9.2548900                                  |  2.144512e-20                                |\n",
       "| Dentistry                                    | -1.412675510                                 | 1.090022e-01                                 | -12.9600614                                  |  2.060824e-38                                |\n",
       "| Earth_and_Planetary_Sciences                 | -0.510731367                                 | 1.905285e-02                                 | -26.8060321                                  | 2.748239e-158                                |\n",
       "| Environmental_Science                        | -0.165594267                                 | 1.372788e-02                                 | -12.0626245                                  |  1.663946e-33                                |\n",
       "| Mathematics                                  | -0.116748954                                 | 3.670987e-02                                 |  -3.1803147                                  |  1.471152e-03                                |\n",
       "| Arts_and_Humanities                          | -0.040625950                                 | 4.083994e-02                                 |  -0.9947604                                  |  3.198528e-01                                |\n",
       "| Energy                                       | -0.807578136                                 | 3.974094e-02                                 | -20.3210651                                  |  8.373967e-92                                |\n",
       "| Veterinary                                   | -1.024361352                                 | 6.048243e-02                                 | -16.9365112                                  |  2.420613e-64                                |\n",
       "| General                                      |  0.500649291                                 | 1.964668e-02                                 |  25.4826356                                  | 3.070951e-143                                |\n",
       "\n"
      ],
      "text/plain": [
       "   term                                         estimate     std.error   \n",
       "1  (Intercept)                                   2.342400693 2.085152e-02\n",
       "2  genderFemale                                  0.077366244 7.656466e-03\n",
       "3  authorship_posfirst_position                  0.153622129 1.068192e-02\n",
       "4  authorship_posmiddle_position                 0.444241011 9.061605e-03\n",
       "5  authorship_possolo_author                    -0.135880279 2.111675e-02\n",
       "6  matched_tid_follower_cn_log                   0.114384242 1.727720e-03\n",
       "7  author_pub_count_cate                        -0.056063202 3.725276e-03\n",
       "8  affiliation_rank_cate                        -0.011263936 1.280601e-03\n",
       "9  affiliation_cateinternational                -0.059457760 7.598502e-03\n",
       "10 num_authors                                   0.001172718 3.288313e-05\n",
       "11 journal_impact                                0.056164444 3.879644e-04\n",
       "12 author_citation_log                           0.034788466 2.064970e-03\n",
       "13 Social_Sciences                              -0.247634322 1.480544e-02\n",
       "14 Materials_Science                            -0.597053791 2.725598e-02\n",
       "15 Engineering                                  -0.241999582 2.328299e-02\n",
       "16 Chemistry                                    -1.076260697 1.894413e-02\n",
       "17 Biochemistry__Genetics_and_Molecular_Biology -0.027211557 1.041359e-02\n",
       "18 Medicine                                     -0.098807567 8.453970e-03\n",
       "19 Nursing                                      -0.005610595 2.372499e-02\n",
       "20 Agricultural_and_Biological_Sciences          0.050689623 1.216344e-02\n",
       "21 Pharmacology__Toxicology_and_Pharmaceutics   -0.468724931 2.694144e-02\n",
       "22 Neuroscience                                 -0.205346006 1.683979e-02\n",
       "23 Business__Management_and_Accounting          -0.452389089 3.072245e-02\n",
       "24 Economics__Econometrics_and_Finance          -0.048217948 3.253145e-02\n",
       "25 Chemical_Engineering                          0.108131126 2.744482e-02\n",
       "26 Physics_and_Astronomy                        -0.644505020 2.550209e-02\n",
       "27 Computer_Science                             -0.348957292 2.582254e-02\n",
       "28 Decision_Sciences                            -0.224247982 4.950595e-02\n",
       "29 Health_Professions                            0.617973720 2.375617e-02\n",
       "30 Psychology                                   -0.001860526 2.242901e-02\n",
       "31 Immunology_and_Microbiology                  -0.189142744 2.043706e-02\n",
       "32 Dentistry                                    -1.412675510 1.090022e-01\n",
       "33 Earth_and_Planetary_Sciences                 -0.510731367 1.905285e-02\n",
       "34 Environmental_Science                        -0.165594267 1.372788e-02\n",
       "35 Mathematics                                  -0.116748954 3.670987e-02\n",
       "36 Arts_and_Humanities                          -0.040625950 4.083994e-02\n",
       "37 Energy                                       -0.807578136 3.974094e-02\n",
       "38 Veterinary                                   -1.024361352 6.048243e-02\n",
       "39 General                                       0.500649291 1.964668e-02\n",
       "   statistic   p.value      \n",
       "1  112.3371794  0.000000e+00\n",
       "2   10.1046933  5.266011e-24\n",
       "3   14.3815047  6.760849e-47\n",
       "4   49.0245414  0.000000e+00\n",
       "5   -6.4347148  1.237054e-10\n",
       "6   66.2053207  0.000000e+00\n",
       "7  -15.0494086  3.483343e-51\n",
       "8   -8.7958179  1.420097e-18\n",
       "9   -7.8249316  5.079332e-15\n",
       "10  35.6632239 1.469895e-278\n",
       "11 144.7669971  0.000000e+00\n",
       "12  16.8469581  1.104517e-63\n",
       "13 -16.7258993  8.488514e-63\n",
       "14 -21.9054198 2.306460e-106\n",
       "15 -10.3938357  2.644973e-25\n",
       "16 -56.8123612  0.000000e+00\n",
       "17  -2.6130801  8.973028e-03\n",
       "18 -11.6877117  1.473020e-31\n",
       "19  -0.2364846  8.130567e-01\n",
       "20   4.1673755  3.081267e-05\n",
       "21 -17.3979142  8.556226e-68\n",
       "22 -12.1940940  3.342004e-34\n",
       "23 -14.7250341  4.452450e-49\n",
       "24  -1.4821947  1.382885e-01\n",
       "25   3.9399473  8.149951e-05\n",
       "26 -25.2726380 6.387289e-141\n",
       "27 -13.5136715  1.298791e-41\n",
       "28  -4.5297180  5.906246e-06\n",
       "29  26.0131842 3.512876e-149\n",
       "30  -0.0829518  9.338899e-01\n",
       "31  -9.2548900  2.144512e-20\n",
       "32 -12.9600614  2.060824e-38\n",
       "33 -26.8060321 2.748239e-158\n",
       "34 -12.0626245  1.663946e-33\n",
       "35  -3.1803147  1.471152e-03\n",
       "36  -0.9947604  3.198528e-01\n",
       "37 -20.3210651  8.373967e-92\n",
       "38 -16.9365112  2.420613e-64\n",
       "39  25.4826356 3.070951e-143"
      ]
     },
     "metadata": {},
     "output_type": "display_data"
    }
   ],
   "source": [
    "tidy(m_yes)"
   ]
  },
  {
   "cell_type": "code",
   "execution_count": 50,
   "id": "861c4618",
   "metadata": {
    "scrolled": true
   },
   "outputs": [
    {
     "name": "stdout",
     "output_type": "stream",
     "text": [
      "\n",
      "% Table created by stargazer v.5.2.2 by Marek Hlavac, Harvard University. E-mail: hlavac at fas.harvard.edu\n",
      "% Date and time: Tue, May 10, 2022 - 03:58:48 PM\n",
      "\\begin{table}[!htbp] \\centering \n",
      "  \\caption{} \n",
      "  \\label{} \n",
      "\\begin{tabular}{@{\\extracolsep{5pt}}lc} \n",
      "\\\\[-1.8ex]\\hline \n",
      "\\hline \\\\[-1.8ex] \n",
      " & \\multicolumn{1}{c}{\\textit{Dependent variable:}} \\\\ \n",
      "\\cline{2-2} \n",
      "\\\\[-1.8ex] & total\\_num\\_tweets \\\\ \n",
      "\\hline \\\\[-1.8ex] \n",
      " genderFemale & 0.077$^{***}$ \\\\ \n",
      "  & p = 0.000 \\\\ \n",
      "  authorship\\_posfirst\\_position & 0.154$^{***}$ \\\\ \n",
      "  & p = 0.000 \\\\ \n",
      "  authorship\\_posmiddle\\_position & 0.444$^{***}$ \\\\ \n",
      "  & p = 0.000 \\\\ \n",
      "  authorship\\_possolo\\_author & $-$0.136$^{***}$ \\\\ \n",
      "  & p = 0.000 \\\\ \n",
      "  matched\\_tid\\_follower\\_cn\\_log & 0.114$^{***}$ \\\\ \n",
      "  & p = 0.000 \\\\ \n",
      "  author\\_pub\\_count\\_cate & $-$0.056$^{***}$ \\\\ \n",
      "  & p = 0.000 \\\\ \n",
      "  affiliation\\_rank\\_cate & $-$0.011$^{***}$ \\\\ \n",
      "  & p = 0.000 \\\\ \n",
      "  affiliation\\_cateinternational & $-$0.059$^{***}$ \\\\ \n",
      "  & p = 0.000 \\\\ \n",
      "  num\\_authors & 0.001$^{***}$ \\\\ \n",
      "  & p = 0.000 \\\\ \n",
      "  journal\\_impact & 0.056$^{***}$ \\\\ \n",
      "  & p = 0.000 \\\\ \n",
      "  author\\_citation\\_log & 0.035$^{***}$ \\\\ \n",
      "  & p = 0.000 \\\\ \n",
      "  Social\\_Sciences & $-$0.248$^{***}$ \\\\ \n",
      "  & p = 0.000 \\\\ \n",
      "  Materials\\_Science & $-$0.597$^{***}$ \\\\ \n",
      "  & p = 0.000 \\\\ \n",
      "  Engineering & $-$0.242$^{***}$ \\\\ \n",
      "  & p = 0.000 \\\\ \n",
      "  Chemistry & $-$1.076$^{***}$ \\\\ \n",
      "  & p = 0.000 \\\\ \n",
      "  Biochemistry\\_\\_Genetics\\_and\\_Molecular\\_Biology & $-$0.027$^{**}$ \\\\ \n",
      "  & p = 0.009 \\\\ \n",
      "  Medicine & $-$0.099$^{***}$ \\\\ \n",
      "  & p = 0.000 \\\\ \n",
      "  Nursing & $-$0.006 \\\\ \n",
      "  & p = 0.814 \\\\ \n",
      "  Agricultural\\_and\\_Biological\\_Sciences & 0.051$^{***}$ \\\\ \n",
      "  & p = 0.00004 \\\\ \n",
      "  Pharmacology\\_\\_Toxicology\\_and\\_Pharmaceutics & $-$0.469$^{***}$ \\\\ \n",
      "  & p = 0.000 \\\\ \n",
      "  Neuroscience & $-$0.205$^{***}$ \\\\ \n",
      "  & p = 0.000 \\\\ \n",
      "  Business\\_\\_Management\\_and\\_Accounting & $-$0.452$^{***}$ \\\\ \n",
      "  & p = 0.000 \\\\ \n",
      "  Economics\\_\\_Econometrics\\_and\\_Finance & $-$0.048 \\\\ \n",
      "  & p = 0.139 \\\\ \n",
      "  Chemical\\_Engineering & 0.108$^{***}$ \\\\ \n",
      "  & p = 0.0001 \\\\ \n",
      "  Physics\\_and\\_Astronomy & $-$0.645$^{***}$ \\\\ \n",
      "  & p = 0.000 \\\\ \n",
      "  Computer\\_Science & $-$0.349$^{***}$ \\\\ \n",
      "  & p = 0.000 \\\\ \n",
      "  Decision\\_Sciences & $-$0.224$^{***}$ \\\\ \n",
      "  & p = 0.00001 \\\\ \n",
      "  Health\\_Professions & 0.618$^{***}$ \\\\ \n",
      "  & p = 0.000 \\\\ \n",
      "  Psychology & $-$0.002 \\\\ \n",
      "  & p = 0.934 \\\\ \n",
      "  Immunology\\_and\\_Microbiology & $-$0.189$^{***}$ \\\\ \n",
      "  & p = 0.000 \\\\ \n",
      "  Dentistry & $-$1.413$^{***}$ \\\\ \n",
      "  & p = 0.000 \\\\ \n",
      "  Earth\\_and\\_Planetary\\_Sciences & $-$0.511$^{***}$ \\\\ \n",
      "  & p = 0.000 \\\\ \n",
      "  Environmental\\_Science & $-$0.166$^{***}$ \\\\ \n",
      "  & p = 0.000 \\\\ \n",
      "  Mathematics & $-$0.117$^{**}$ \\\\ \n",
      "  & p = 0.002 \\\\ \n",
      "  Arts\\_and\\_Humanities & $-$0.041 \\\\ \n",
      "  & p = 0.320 \\\\ \n",
      "  Energy & $-$0.808$^{***}$ \\\\ \n",
      "  & p = 0.000 \\\\ \n",
      "  Veterinary & $-$1.024$^{***}$ \\\\ \n",
      "  & p = 0.000 \\\\ \n",
      "  General & 0.501$^{***}$ \\\\ \n",
      "  & p = 0.000 \\\\ \n",
      "  Constant & 2.342$^{***}$ \\\\ \n",
      "  & p = 0.000 \\\\ \n",
      " \\hline \\\\[-1.8ex] \n",
      "Observations & 117,535 \\\\ \n",
      "Log Likelihood & $-$572,170.000 \\\\ \n",
      "$\\theta$ & 0.738$^{***}$  (0.003) \\\\ \n",
      "Akaike Inf. Crit. & 1,144,418.000 \\\\ \n",
      "\\hline \n",
      "\\hline \\\\[-1.8ex] \n",
      "\\textit{Note:}  & \\multicolumn{1}{r}{$^{*}$p$<$0.05; $^{**}$p$<$0.01; $^{***}$p$<$0.001} \\\\ \n",
      "\\end{tabular} \n",
      "\\end{table} \n"
     ]
    }
   ],
   "source": [
    "# use this search string in Sublime: \" \\\\\\\\ \\n  &\" with \" &\"\n",
    "stargazer(m_yes, type = \"latex\", single.row=TRUE, ci = FALSE, report = ('vc*p'), star.cutoffs = c(0.05, 0.01, 0.001))"
   ]
  },
  {
   "cell_type": "code",
   "execution_count": null,
   "id": "14a09415",
   "metadata": {},
   "outputs": [],
   "source": []
  }
 ],
 "metadata": {
  "kernelspec": {
   "display_name": "R",
   "language": "R",
   "name": "ir"
  },
  "language_info": {
   "codemirror_mode": "r",
   "file_extension": ".r",
   "mimetype": "text/x-r-source",
   "name": "R",
   "pygments_lexer": "r",
   "version": "3.6.1"
  }
 },
 "nbformat": 4,
 "nbformat_minor": 5
}
