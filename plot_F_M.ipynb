{
 "cells": [
  {
   "cell_type": "code",
   "execution_count": 1,
   "metadata": {},
   "outputs": [],
   "source": [
    "import os\n",
    "import numpy as np\n",
    "import pandas as pd\n",
    "import seaborn as sns\n",
    "import matplotlib.colors\n",
    "import matplotlib.cm as cm\n",
    "import matplotlib.pyplot as plt\n",
    "import matplotlib.ticker as ticker"
   ]
  },
  {
   "cell_type": "code",
   "execution_count": 2,
   "metadata": {},
   "outputs": [],
   "source": [
    "Data_Root = '~/Data/Promotion/reg_results_F_M/'"
   ]
  },
  {
   "cell_type": "code",
   "execution_count": 3,
   "metadata": {},
   "outputs": [],
   "source": [
    "labels = ['Male', 'Female']"
   ]
  },
  {
   "cell_type": "code",
   "execution_count": 4,
   "metadata": {},
   "outputs": [],
   "source": [
    "colors = sns.color_palette()[:len(labels)]"
   ]
  },
  {
   "cell_type": "markdown",
   "metadata": {},
   "source": [
    "## Adjusted prediction of return on self-promotion"
   ]
  },
  {
   "cell_type": "code",
   "execution_count": 5,
   "metadata": {},
   "outputs": [],
   "source": [
    "df_return = pd.read_csv(Data_Root + 'gender_return_on_self_promotion.csv', header=0)"
   ]
  },
  {
   "cell_type": "code",
   "execution_count": 6,
   "metadata": {},
   "outputs": [
    {
     "data": {
      "text/html": [
       "<div>\n",
       "<style scoped>\n",
       "    .dataframe tbody tr th:only-of-type {\n",
       "        vertical-align: middle;\n",
       "    }\n",
       "\n",
       "    .dataframe tbody tr th {\n",
       "        vertical-align: top;\n",
       "    }\n",
       "\n",
       "    .dataframe thead th {\n",
       "        text-align: right;\n",
       "    }\n",
       "</style>\n",
       "<table border=\"1\" class=\"dataframe\">\n",
       "  <thead>\n",
       "    <tr style=\"text-align: right;\">\n",
       "      <th></th>\n",
       "      <th>x</th>\n",
       "      <th>predicted</th>\n",
       "      <th>std.error</th>\n",
       "      <th>conf.low</th>\n",
       "      <th>conf.high</th>\n",
       "      <th>group</th>\n",
       "    </tr>\n",
       "  </thead>\n",
       "  <tbody>\n",
       "    <tr>\n",
       "      <th>0</th>\n",
       "      <td>False</td>\n",
       "      <td>7.728609</td>\n",
       "      <td>0.002848</td>\n",
       "      <td>7.685591</td>\n",
       "      <td>7.771867</td>\n",
       "      <td>Male</td>\n",
       "    </tr>\n",
       "    <tr>\n",
       "      <th>1</th>\n",
       "      <td>False</td>\n",
       "      <td>7.844195</td>\n",
       "      <td>0.003081</td>\n",
       "      <td>7.796975</td>\n",
       "      <td>7.891700</td>\n",
       "      <td>Female</td>\n",
       "    </tr>\n",
       "    <tr>\n",
       "      <th>2</th>\n",
       "      <td>True</td>\n",
       "      <td>37.128280</td>\n",
       "      <td>0.004754</td>\n",
       "      <td>36.783935</td>\n",
       "      <td>37.475849</td>\n",
       "      <td>Male</td>\n",
       "    </tr>\n",
       "    <tr>\n",
       "      <th>3</th>\n",
       "      <td>True</td>\n",
       "      <td>39.131917</td>\n",
       "      <td>0.006484</td>\n",
       "      <td>38.637762</td>\n",
       "      <td>39.632392</td>\n",
       "      <td>Female</td>\n",
       "    </tr>\n",
       "  </tbody>\n",
       "</table>\n",
       "</div>"
      ],
      "text/plain": [
       "       x  predicted  std.error   conf.low  conf.high   group\n",
       "0  False   7.728609   0.002848   7.685591   7.771867    Male\n",
       "1  False   7.844195   0.003081   7.796975   7.891700  Female\n",
       "2   True  37.128280   0.004754  36.783935  37.475849    Male\n",
       "3   True  39.131917   0.006484  38.637762  39.632392  Female"
      ]
     },
     "execution_count": 6,
     "metadata": {},
     "output_type": "execute_result"
    }
   ],
   "source": [
    "df_return"
   ]
  },
  {
   "cell_type": "code",
   "execution_count": 7,
   "metadata": {},
   "outputs": [],
   "source": [
    "means = [[df_return.at[0, 'predicted'], df_return.at[2, 'predicted']],\n",
    "         [df_return.at[1, 'predicted'], df_return.at[3, 'predicted']]]"
   ]
  },
  {
   "cell_type": "code",
   "execution_count": 8,
   "metadata": {},
   "outputs": [],
   "source": [
    "male_ci = [[df_return.at[0, 'predicted'] - df_return.at[0, 'conf.low'], df_return.at[2, 'predicted'] - df_return.at[2, 'conf.low']],\n",
    "           [df_return.at[0, 'conf.high'] - df_return.at[0, 'predicted'], df_return.at[2, 'conf.high'] - df_return.at[2, 'predicted']]]\n",
    "\n",
    "female_ci = [[df_return.at[1, 'predicted'] - df_return.at[1, 'conf.low'], df_return.at[3, 'predicted'] - df_return.at[3, 'conf.low']],\n",
    "             [df_return.at[1, 'conf.high'] - df_return.at[1, 'predicted'], df_return.at[3, 'conf.high'] - df_return.at[3, 'predicted']]]\n"
   ]
  },
  {
   "cell_type": "code",
   "execution_count": 9,
   "metadata": {},
   "outputs": [
    {
     "data": {
      "image/png": "[encoded data removed]",
      "text/plain": [
       "<Figure size 216x201.6 with 1 Axes>"
      ]
     },
     "metadata": {
      "needs_background": "light"
     },
     "output_type": "display_data"
    }
   ],
   "source": [
    "step = 1\n",
    "xs_1 = 1.2 + np.arange(2) * step\n",
    "xs_2 = 1.4 + np.arange(2) * step\n",
    "pos = 1.3 + np.arange(2) * step\n",
    "\n",
    "fig, ax = plt.subplots(figsize = (3, 2.8))\n",
    "\n",
    "ax.errorbar(xs_1, means[0], yerr=male_ci, color=colors[0], fmt='o', markersize=5, label='Male')\n",
    "ax.errorbar(xs_2, means[1], yerr=female_ci, color=colors[1], fmt='o', markersize=5, label='Female')\n",
    "# ax.axvline(0.8, color='k', linestyle='--')\n",
    "legend = ax.legend(loc=[0.1, 0.65], numpoints=1, labelspacing = 0.15, shadow=False, frameon = True)\n",
    "ax.set_xticks(pos)\n",
    "ax.set_xticklabels(['No self-promotion', 'Self-promotion'], rotation=0, ha='center')\n",
    "ax.set_ylabel('Predicted total num. of tweets')\n",
    "ax.set_ylim([0, 50])\n",
    "ax.set_xlim([pos[0]-0.3, pos[-1]+0.3])\n",
    "plt.show()\n",
    "# fig.savefig('pred_gender_return.pdf', bbox_inches='tight', pad_inches=0.01)"
   ]
  },
  {
   "cell_type": "markdown",
   "metadata": {},
   "source": [
    "### (Outdated) Plot regression coefficients (for return)"
   ]
  },
  {
   "cell_type": "code",
   "execution_count": null,
   "metadata": {},
   "outputs": [],
   "source": [
    "# genderFemale & 0.017 (0.013, 0.021) \\\\ \n",
    "# self\\_promotionTrue & 1.566 (1.558, 1.575) \\\\ \n",
    "# genderFemale:self\\_promotionTrue & 0.034 (0.019, 0.049) \\\\ \n",
    "# authorship\\_posfirst\\_position & $-$0.005 ($-$0.012, 0.002) \\\\ \n",
    "# authorship\\_posmiddle\\_position & 0.267 (0.262, 0.273) \\\\ \n",
    "# authorship\\_possolo\\_author & $-$0.205 ($-$0.223, $-$0.188) \\\\ \n",
    "# author\\_pub\\_count\\_cate & 0.014 (0.013, 0.014) \\\\ \n",
    "# affiliation\\_rank\\_cate & $-$0.025 ($-$0.026, $-$0.025) \\\\ \n",
    "# affiliation\\_cateinternational & $-$0.115 ($-$0.119, $-$0.111) \\\\ \n",
    "# affiliation\\_cateunknown & 0.659 (0.618, 0.700) \\\\ \n",
    "# num\\_authors & 0.0001 (0.0001, 0.0001) \\\\ \n",
    "# journal\\_impact & 0.095 (0.094, 0.095) \\\\ \n",
    "# Constant & 1.729 (1.721, 1.737) \\\\ "
   ]
  },
  {
   "cell_type": "code",
   "execution_count": 55,
   "metadata": {},
   "outputs": [],
   "source": [
    "ylabels = [\n",
    "    'Female',\n",
    "    'Self promotion = True',\n",
    "    'Female x (Self promotion = True)',\n",
    "    'First position',\n",
    "    'Middle position',\n",
    "    'Solo author',\n",
    "    'Author pub. count category',\n",
    "    'Affiliation rank category',\n",
    "    'Affiliation location = International',\n",
    "    'Affiliation location = Unknown',\n",
    "    'Number of authors',\n",
    "    'Journal impact'\n",
    "]\n",
    "\n",
    "# xs = [0.017, 1.566, 0.034, -0.005, 0.267, -0.205, 0.014, -0.025, -0.115, 0.659, 0.0001, 0.095]"
   ]
  },
  {
   "cell_type": "code",
   "execution_count": 66,
   "metadata": {},
   "outputs": [],
   "source": [
    "# CI_li = np.array([\n",
    "#     (0.013, 0.021),\n",
    "#     (1.558, 1.575),\n",
    "#     (0.019, 0.049),\n",
    "#     (-0.012, 0.002),\n",
    "#     (0.262, 0.273),\n",
    "#     (-0.223, -0.188),\n",
    "#     (0.013, 0.014),\n",
    "#     (-0.026, -0.025),\n",
    "#     (-0.119, -0.111),\n",
    "#     (0.618, 0.700),\n",
    "#     (0.0001, 0.0001),\n",
    "#     (0.094, 0.095)\n",
    "# ])"
   ]
  },
  {
   "cell_type": "code",
   "execution_count": 70,
   "metadata": {},
   "outputs": [],
   "source": [
    "confs = CI_li[:, 1] - np.mean(CI_li, axis=1)"
   ]
  },
  {
   "cell_type": "code",
   "execution_count": 79,
   "metadata": {},
   "outputs": [
    {
     "data": {
      "image/png": "[encoded data removed]",
      "text/plain": [
       "<Figure size 252x288 with 1 Axes>"
      ]
     },
     "metadata": {
      "needs_background": "light"
     },
     "output_type": "display_data"
    }
   ],
   "source": [
    "nrows = 1\n",
    "ncols = 1\n",
    "fig, ax = plt.subplots(nrows=nrows, ncols=ncols, figsize=(3.5, 4))\n",
    "\n",
    "# ax.set_xticks(np.arange(-0.2, 0.11, 0.1), minor=True)\n",
    "ax.xaxis.grid(linestyle='--', linewidth=0.2, color='gray', which='both')\n",
    "# ax.axvline(0, color='k', linestyle='--', linewidth = 1)\n",
    "ax.errorbar(xs[::-1], ylabels[::-1], xerr=confs[::-1], color='k', fmt='o', markersize=3, linewidth=2)\n",
    "ax.set_axisbelow(True)\n",
    "ax.set_xlabel('Regression coefficient')\n",
    "plt.show()\n",
    "fig.savefig('./return_nbr_coeffs.pdf', bbox_inches='tight', pad_inches=0.01)"
   ]
  },
  {
   "cell_type": "markdown",
   "metadata": {},
   "source": [
    "## Adjusted prediction of self-promotion rate"
   ]
  },
  {
   "cell_type": "markdown",
   "metadata": {},
   "source": [
    "### Original vs. Retweets vs. All"
   ]
  },
  {
   "cell_type": "code",
   "execution_count": 10,
   "metadata": {},
   "outputs": [],
   "source": [
    "df_re = pd.read_csv(Data_Root + 'pred_retweet.csv', header=0)\n",
    "df_org = pd.read_csv(Data_Root + 'pred_original.csv', header=0)\n",
    "df_all = pd.read_csv(Data_Root + 'pred_all_tweet.csv', header=0)"
   ]
  },
  {
   "cell_type": "code",
   "execution_count": 11,
   "metadata": {},
   "outputs": [
    {
     "data": {
      "text/html": [
       "<div>\n",
       "<style scoped>\n",
       "    .dataframe tbody tr th:only-of-type {\n",
       "        vertical-align: middle;\n",
       "    }\n",
       "\n",
       "    .dataframe tbody tr th {\n",
       "        vertical-align: top;\n",
       "    }\n",
       "\n",
       "    .dataframe thead th {\n",
       "        text-align: right;\n",
       "    }\n",
       "</style>\n",
       "<table border=\"1\" class=\"dataframe\">\n",
       "  <thead>\n",
       "    <tr style=\"text-align: right;\">\n",
       "      <th></th>\n",
       "      <th>x</th>\n",
       "      <th>predicted</th>\n",
       "      <th>std.error</th>\n",
       "      <th>conf.low</th>\n",
       "      <th>conf.high</th>\n",
       "      <th>group</th>\n",
       "    </tr>\n",
       "  </thead>\n",
       "  <tbody>\n",
       "    <tr>\n",
       "      <th>0</th>\n",
       "      <td>Male</td>\n",
       "      <td>0.040710</td>\n",
       "      <td>0.011995</td>\n",
       "      <td>0.039802</td>\n",
       "      <td>0.041638</td>\n",
       "      <td>1</td>\n",
       "    </tr>\n",
       "    <tr>\n",
       "      <th>1</th>\n",
       "      <td>Female</td>\n",
       "      <td>0.031986</td>\n",
       "      <td>0.013024</td>\n",
       "      <td>0.031205</td>\n",
       "      <td>0.032786</td>\n",
       "      <td>1</td>\n",
       "    </tr>\n",
       "  </tbody>\n",
       "</table>\n",
       "</div>"
      ],
      "text/plain": [
       "        x  predicted  std.error  conf.low  conf.high  group\n",
       "0    Male   0.040710   0.011995  0.039802   0.041638      1\n",
       "1  Female   0.031986   0.013024  0.031205   0.032786      1"
      ]
     },
     "execution_count": 11,
     "metadata": {},
     "output_type": "execute_result"
    }
   ],
   "source": [
    "df_re"
   ]
  },
  {
   "cell_type": "code",
   "execution_count": 12,
   "metadata": {},
   "outputs": [
    {
     "data": {
      "text/html": [
       "<div>\n",
       "<style scoped>\n",
       "    .dataframe tbody tr th:only-of-type {\n",
       "        vertical-align: middle;\n",
       "    }\n",
       "\n",
       "    .dataframe tbody tr th {\n",
       "        vertical-align: top;\n",
       "    }\n",
       "\n",
       "    .dataframe thead th {\n",
       "        text-align: right;\n",
       "    }\n",
       "</style>\n",
       "<table border=\"1\" class=\"dataframe\">\n",
       "  <thead>\n",
       "    <tr style=\"text-align: right;\">\n",
       "      <th></th>\n",
       "      <th>x</th>\n",
       "      <th>predicted</th>\n",
       "      <th>std.error</th>\n",
       "      <th>conf.low</th>\n",
       "      <th>conf.high</th>\n",
       "      <th>group</th>\n",
       "    </tr>\n",
       "  </thead>\n",
       "  <tbody>\n",
       "    <tr>\n",
       "      <th>0</th>\n",
       "      <td>Male</td>\n",
       "      <td>0.093187</td>\n",
       "      <td>0.008417</td>\n",
       "      <td>0.091802</td>\n",
       "      <td>0.094590</td>\n",
       "      <td>1</td>\n",
       "    </tr>\n",
       "    <tr>\n",
       "      <th>1</th>\n",
       "      <td>Female</td>\n",
       "      <td>0.072266</td>\n",
       "      <td>0.009461</td>\n",
       "      <td>0.071033</td>\n",
       "      <td>0.073519</td>\n",
       "      <td>1</td>\n",
       "    </tr>\n",
       "  </tbody>\n",
       "</table>\n",
       "</div>"
      ],
      "text/plain": [
       "        x  predicted  std.error  conf.low  conf.high  group\n",
       "0    Male   0.093187   0.008417  0.091802   0.094590      1\n",
       "1  Female   0.072266   0.009461  0.071033   0.073519      1"
      ]
     },
     "execution_count": 12,
     "metadata": {},
     "output_type": "execute_result"
    }
   ],
   "source": [
    "df_org"
   ]
  },
  {
   "cell_type": "code",
   "execution_count": 13,
   "metadata": {},
   "outputs": [
    {
     "data": {
      "text/html": [
       "<div>\n",
       "<style scoped>\n",
       "    .dataframe tbody tr th:only-of-type {\n",
       "        vertical-align: middle;\n",
       "    }\n",
       "\n",
       "    .dataframe tbody tr th {\n",
       "        vertical-align: top;\n",
       "    }\n",
       "\n",
       "    .dataframe thead th {\n",
       "        text-align: right;\n",
       "    }\n",
       "</style>\n",
       "<table border=\"1\" class=\"dataframe\">\n",
       "  <thead>\n",
       "    <tr style=\"text-align: right;\">\n",
       "      <th></th>\n",
       "      <th>x</th>\n",
       "      <th>predicted</th>\n",
       "      <th>std.error</th>\n",
       "      <th>conf.low</th>\n",
       "      <th>conf.high</th>\n",
       "      <th>group</th>\n",
       "    </tr>\n",
       "  </thead>\n",
       "  <tbody>\n",
       "    <tr>\n",
       "      <th>0</th>\n",
       "      <td>Male</td>\n",
       "      <td>0.104001</td>\n",
       "      <td>0.008661</td>\n",
       "      <td>0.102430</td>\n",
       "      <td>0.105594</td>\n",
       "      <td>1</td>\n",
       "    </tr>\n",
       "    <tr>\n",
       "      <th>1</th>\n",
       "      <td>Female</td>\n",
       "      <td>0.080961</td>\n",
       "      <td>0.009461</td>\n",
       "      <td>0.079592</td>\n",
       "      <td>0.082352</td>\n",
       "      <td>1</td>\n",
       "    </tr>\n",
       "  </tbody>\n",
       "</table>\n",
       "</div>"
      ],
      "text/plain": [
       "        x  predicted  std.error  conf.low  conf.high  group\n",
       "0    Male   0.104001   0.008661  0.102430   0.105594      1\n",
       "1  Female   0.080961   0.009461  0.079592   0.082352      1"
      ]
     },
     "execution_count": 13,
     "metadata": {},
     "output_type": "execute_result"
    }
   ],
   "source": [
    "df_all"
   ]
  },
  {
   "cell_type": "code",
   "execution_count": 14,
   "metadata": {},
   "outputs": [],
   "source": [
    "means = np.array(\n",
    "        [[df_all.at[0, 'predicted'], df_org.at[0, 'predicted'], df_re.at[0, 'predicted']],\n",
    "         [df_all.at[1, 'predicted'], df_org.at[1, 'predicted'], df_re.at[1, 'predicted']]])"
   ]
  },
  {
   "cell_type": "code",
   "execution_count": 15,
   "metadata": {},
   "outputs": [],
   "source": [
    "male_ci = np.array(\n",
    "        [[df_all.at[0, 'predicted'] - df_all.at[0, 'conf.low'], df_org.at[0, 'predicted'] - df_org.at[0, 'conf.low'], df_re.at[0, 'predicted'] - df_re.at[0, 'conf.low']],\n",
    "        [df_all.at[0, 'conf.high'] - df_all.at[0, 'predicted'], df_org.at[0, 'conf.high'] - df_org.at[0, 'predicted'], df_re.at[0, 'conf.high'] - df_re.at[0, 'predicted']]])\n",
    "\n",
    "female_ci = np.array(\n",
    "    [[df_all.at[1, 'predicted'] - df_all.at[1, 'conf.low'], df_org.at[1, 'predicted'] - df_org.at[1, 'conf.low'], df_re.at[1, 'predicted'] - df_re.at[1, 'conf.low']],\n",
    "    [df_all.at[1, 'conf.high'] - df_all.at[1, 'predicted'], df_org.at[1, 'conf.high'] - df_org.at[1, 'predicted'], df_re.at[1, 'conf.high'] - df_re.at[1, 'predicted']]])\n"
   ]
  },
  {
   "cell_type": "code",
   "execution_count": 21,
   "metadata": {},
   "outputs": [
    {
     "data": {
      "image/png": "[encoded data removed]",
      "text/plain": [
       "<Figure size 252x201.6 with 1 Axes>"
      ]
     },
     "metadata": {
      "needs_background": "light"
     },
     "output_type": "display_data"
    }
   ],
   "source": [
    "# step = 1\n",
    "# xs_1 = 0.2 + np.arange(3) * step\n",
    "# xs_2 = 0.4 + np.arange(3) * step\n",
    "# pos = 0.3 + np.arange(3) * step\n",
    "\n",
    "# fig, ax = plt.subplots(figsize = (3.5, 2.8))\n",
    "\n",
    "# ax.errorbar(xs_1, means[0], yerr=male_ci, color=colors[0], fmt='o', markersize=5, label='Male')\n",
    "# ax.errorbar(xs_2, means[1], yerr=female_ci, color=colors[1], fmt='o', markersize=5, label='Female')\n",
    "# ax.axvline(0.8, color='k', linestyle='--')\n",
    "# legend = ax.legend(loc=[0.6, 0.75], numpoints=1, labelspacing = 0.15, shadow=False, frameon = True)\n",
    "# ax.set_xticks(pos)\n",
    "# ax.set_xticklabels(['All tweets', 'Original tweets', 'Retweets'], rotation=0, ha='center')\n",
    "# ax.set_ylabel('Predicted self-promotion prob.')\n",
    "# ax.set_ylim([0, 0.12])\n",
    "# plt.show()\n",
    "# fig.savefig('pred_gender_si.pdf', bbox_inches='tight', pad_inches=0.01)"
   ]
  },
  {
   "cell_type": "code",
   "execution_count": 22,
   "metadata": {},
   "outputs": [
    {
     "data": {
      "image/png": "[encoded data removed]",
      "text/plain": [
       "<Figure size 158.4x180 with 1 Axes>"
      ]
     },
     "metadata": {
      "needs_background": "light"
     },
     "output_type": "display_data"
    }
   ],
   "source": [
    "fig, ax = plt.subplots(figsize = (2.2, 2.5))\n",
    "\n",
    "xpos = [0, 1]\n",
    "barlist = ax.bar(xpos, means[:, 0], yerr = np.array([male_ci[:, 0], female_ci[:, 0]]).T, width = 0.5, alpha = 1.0, capsize = 8)\n",
    "barlist[0].set_color(colors[0])\n",
    "barlist[1].set_color(colors[1])\n",
    "\n",
    "ax.set_xticks(xpos)\n",
    "ax.set_xticklabels(labels)\n",
    "ax.yaxis.grid(False)\n",
    "ax.set_ylabel('Predicted self-promotion prob.')\n",
    "ax.set_ylim([0.07, 0.12])\n",
    "\n",
    "plt.show()\n",
    "fig.savefig('pred_gender.pdf', bbox_inches='tight', pad_inches=0.01)\n"
   ]
  },
  {
   "cell_type": "code",
   "execution_count": 23,
   "metadata": {
    "scrolled": true
   },
   "outputs": [
    {
     "data": {
      "image/png": "[encoded data removed]",
      "text/plain": [
       "<Figure size 252x201.6 with 1 Axes>"
      ]
     },
     "metadata": {
      "needs_background": "light"
     },
     "output_type": "display_data"
    }
   ],
   "source": [
    "step = 1\n",
    "xs_1 = 0.2 + np.arange(2) * step\n",
    "xs_2 = 0.4 + np.arange(2) * step\n",
    "pos = 0.3 + np.arange(2) * step\n",
    "\n",
    "fig, ax = plt.subplots(figsize = (3.5, 2.8))\n",
    "\n",
    "ax.errorbar(xs_1, means[0][1:], yerr=male_ci[:, 1:], color=colors[0], fmt='o', markersize=5, label='Male')\n",
    "ax.errorbar(xs_2, means[1][1:], yerr=female_ci[:, 1:], color=colors[1], fmt='o', markersize=5, label='Female')\n",
    "legend = ax.legend(loc=[0.5, 0.75], numpoints=1, labelspacing = 0.15, shadow=False, frameon = True)\n",
    "ax.set_xticks(pos)\n",
    "ax.set_xticklabels(['Original tweets', 'Retweets'], rotation=0, ha='center')\n",
    "ax.set_ylabel('Predicted self-promotion prob.')\n",
    "ax.set_ylim([0.02, 0.12])\n",
    "ax.set_xlim([0, 1.6])\n",
    "plt.show()\n",
    "fig.savefig('pred_gender_si.pdf', bbox_inches='tight', pad_inches=0.01)"
   ]
  },
  {
   "cell_type": "markdown",
   "metadata": {},
   "source": [
    "### Journal impact"
   ]
  },
  {
   "cell_type": "code",
   "execution_count": 55,
   "metadata": {},
   "outputs": [],
   "source": [
    "df = pd.read_csv(Data_Root + 'gender_jif.csv', header=0)"
   ]
  },
  {
   "cell_type": "code",
   "execution_count": 56,
   "metadata": {
    "scrolled": true
   },
   "outputs": [
    {
     "data": {
      "text/html": [
       "<div>\n",
       "<style scoped>\n",
       "    .dataframe tbody tr th:only-of-type {\n",
       "        vertical-align: middle;\n",
       "    }\n",
       "\n",
       "    .dataframe tbody tr th {\n",
       "        vertical-align: top;\n",
       "    }\n",
       "\n",
       "    .dataframe thead th {\n",
       "        text-align: right;\n",
       "    }\n",
       "</style>\n",
       "<table border=\"1\" class=\"dataframe\">\n",
       "  <thead>\n",
       "    <tr style=\"text-align: right;\">\n",
       "      <th></th>\n",
       "      <th>x</th>\n",
       "      <th>predicted</th>\n",
       "      <th>std.error</th>\n",
       "      <th>conf.low</th>\n",
       "      <th>conf.high</th>\n",
       "      <th>group</th>\n",
       "    </tr>\n",
       "  </thead>\n",
       "  <tbody>\n",
       "    <tr>\n",
       "      <th>0</th>\n",
       "      <td>0</td>\n",
       "      <td>0.089615</td>\n",
       "      <td>0.009312</td>\n",
       "      <td>0.088137</td>\n",
       "      <td>0.091115</td>\n",
       "      <td>Male</td>\n",
       "    </tr>\n",
       "    <tr>\n",
       "      <th>1</th>\n",
       "      <td>0</td>\n",
       "      <td>0.074494</td>\n",
       "      <td>0.010471</td>\n",
       "      <td>0.073091</td>\n",
       "      <td>0.075921</td>\n",
       "      <td>Female</td>\n",
       "    </tr>\n",
       "    <tr>\n",
       "      <th>2</th>\n",
       "      <td>5</td>\n",
       "      <td>0.106797</td>\n",
       "      <td>0.008625</td>\n",
       "      <td>0.105195</td>\n",
       "      <td>0.108421</td>\n",
       "      <td>Male</td>\n",
       "    </tr>\n",
       "    <tr>\n",
       "      <th>3</th>\n",
       "      <td>5</td>\n",
       "      <td>0.084935</td>\n",
       "      <td>0.009456</td>\n",
       "      <td>0.083506</td>\n",
       "      <td>0.086387</td>\n",
       "      <td>Female</td>\n",
       "    </tr>\n",
       "    <tr>\n",
       "      <th>4</th>\n",
       "      <td>10</td>\n",
       "      <td>0.126815</td>\n",
       "      <td>0.008888</td>\n",
       "      <td>0.124898</td>\n",
       "      <td>0.128756</td>\n",
       "      <td>Male</td>\n",
       "    </tr>\n",
       "    <tr>\n",
       "      <th>5</th>\n",
       "      <td>10</td>\n",
       "      <td>0.096687</td>\n",
       "      <td>0.009784</td>\n",
       "      <td>0.095025</td>\n",
       "      <td>0.098375</td>\n",
       "      <td>Female</td>\n",
       "    </tr>\n",
       "    <tr>\n",
       "      <th>6</th>\n",
       "      <td>15</td>\n",
       "      <td>0.149954</td>\n",
       "      <td>0.010027</td>\n",
       "      <td>0.147466</td>\n",
       "      <td>0.152477</td>\n",
       "      <td>Male</td>\n",
       "    </tr>\n",
       "    <tr>\n",
       "      <th>7</th>\n",
       "      <td>15</td>\n",
       "      <td>0.109870</td>\n",
       "      <td>0.011339</td>\n",
       "      <td>0.107715</td>\n",
       "      <td>0.112063</td>\n",
       "      <td>Female</td>\n",
       "    </tr>\n",
       "    <tr>\n",
       "      <th>8</th>\n",
       "      <td>20</td>\n",
       "      <td>0.176463</td>\n",
       "      <td>0.011792</td>\n",
       "      <td>0.173129</td>\n",
       "      <td>0.179847</td>\n",
       "      <td>Male</td>\n",
       "    </tr>\n",
       "    <tr>\n",
       "      <th>9</th>\n",
       "      <td>20</td>\n",
       "      <td>0.124603</td>\n",
       "      <td>0.013710</td>\n",
       "      <td>0.121701</td>\n",
       "      <td>0.127563</td>\n",
       "      <td>Female</td>\n",
       "    </tr>\n",
       "    <tr>\n",
       "      <th>10</th>\n",
       "      <td>25</td>\n",
       "      <td>0.206519</td>\n",
       "      <td>0.013945</td>\n",
       "      <td>0.202076</td>\n",
       "      <td>0.211034</td>\n",
       "      <td>Male</td>\n",
       "    </tr>\n",
       "    <tr>\n",
       "      <th>11</th>\n",
       "      <td>25</td>\n",
       "      <td>0.140998</td>\n",
       "      <td>0.016550</td>\n",
       "      <td>0.137115</td>\n",
       "      <td>0.144972</td>\n",
       "      <td>Female</td>\n",
       "    </tr>\n",
       "    <tr>\n",
       "      <th>12</th>\n",
       "      <td>30</td>\n",
       "      <td>0.240201</td>\n",
       "      <td>0.016335</td>\n",
       "      <td>0.234407</td>\n",
       "      <td>0.246093</td>\n",
       "      <td>Male</td>\n",
       "    </tr>\n",
       "    <tr>\n",
       "      <th>13</th>\n",
       "      <td>30</td>\n",
       "      <td>0.159158</td>\n",
       "      <td>0.019656</td>\n",
       "      <td>0.154070</td>\n",
       "      <td>0.164381</td>\n",
       "      <td>Female</td>\n",
       "    </tr>\n",
       "    <tr>\n",
       "      <th>14</th>\n",
       "      <td>35</td>\n",
       "      <td>0.277456</td>\n",
       "      <td>0.018872</td>\n",
       "      <td>0.270102</td>\n",
       "      <td>0.284932</td>\n",
       "      <td>Male</td>\n",
       "    </tr>\n",
       "    <tr>\n",
       "      <th>15</th>\n",
       "      <td>35</td>\n",
       "      <td>0.179169</td>\n",
       "      <td>0.022920</td>\n",
       "      <td>0.172657</td>\n",
       "      <td>0.185871</td>\n",
       "      <td>Female</td>\n",
       "    </tr>\n",
       "    <tr>\n",
       "      <th>16</th>\n",
       "      <td>40</td>\n",
       "      <td>0.318070</td>\n",
       "      <td>0.021504</td>\n",
       "      <td>0.309000</td>\n",
       "      <td>0.327281</td>\n",
       "      <td>Male</td>\n",
       "    </tr>\n",
       "    <tr>\n",
       "      <th>17</th>\n",
       "      <td>40</td>\n",
       "      <td>0.201094</td>\n",
       "      <td>0.026284</td>\n",
       "      <td>0.192945</td>\n",
       "      <td>0.209498</td>\n",
       "      <td>Female</td>\n",
       "    </tr>\n",
       "  </tbody>\n",
       "</table>\n",
       "</div>"
      ],
      "text/plain": [
       "     x  predicted  std.error  conf.low  conf.high   group\n",
       "0    0   0.089615   0.009312  0.088137   0.091115    Male\n",
       "1    0   0.074494   0.010471  0.073091   0.075921  Female\n",
       "2    5   0.106797   0.008625  0.105195   0.108421    Male\n",
       "3    5   0.084935   0.009456  0.083506   0.086387  Female\n",
       "4   10   0.126815   0.008888  0.124898   0.128756    Male\n",
       "5   10   0.096687   0.009784  0.095025   0.098375  Female\n",
       "6   15   0.149954   0.010027  0.147466   0.152477    Male\n",
       "7   15   0.109870   0.011339  0.107715   0.112063  Female\n",
       "8   20   0.176463   0.011792  0.173129   0.179847    Male\n",
       "9   20   0.124603   0.013710  0.121701   0.127563  Female\n",
       "10  25   0.206519   0.013945  0.202076   0.211034    Male\n",
       "11  25   0.140998   0.016550  0.137115   0.144972  Female\n",
       "12  30   0.240201   0.016335  0.234407   0.246093    Male\n",
       "13  30   0.159158   0.019656  0.154070   0.164381  Female\n",
       "14  35   0.277456   0.018872  0.270102   0.284932    Male\n",
       "15  35   0.179169   0.022920  0.172657   0.185871  Female\n",
       "16  40   0.318070   0.021504  0.309000   0.327281    Male\n",
       "17  40   0.201094   0.026284  0.192945   0.209498  Female"
      ]
     },
     "execution_count": 56,
     "metadata": {},
     "output_type": "execute_result"
    }
   ],
   "source": [
    "df"
   ]
  },
  {
   "cell_type": "code",
   "execution_count": 59,
   "metadata": {},
   "outputs": [
    {
     "data": {
      "image/png": "[encoded data removed]",
      "text/plain": [
       "<Figure size 230.4x201.6 with 1 Axes>"
      ]
     },
     "metadata": {
      "needs_background": "light"
     },
     "output_type": "display_data"
    }
   ],
   "source": [
    "nrows = 1\n",
    "ncols = 1\n",
    "fig, ax = plt.subplots(nrows=nrows, ncols=ncols, figsize=(3.2, 2.8))\n",
    "\n",
    "for i, gender, color in zip(range(len(labels)), labels, colors):\n",
    "    xs = np.array(df.loc[df.group==gender, 'x'].tolist())\n",
    "    # xs = xs + 0.3 * (i-3)\n",
    "    ys = np.array(df.loc[df.group==gender, 'predicted'].tolist())\n",
    "    lows = ys - np.array(df.loc[df.group==gender, 'conf.low'].tolist())\n",
    "    upps = np.array(df.loc[df.group==gender, 'conf.high'].tolist()) - ys\n",
    "    errors = np.array([lows, upps])\n",
    "    ax.errorbar(xs, ys, yerr=errors, color=color, alpha=1, fmt='-o', markersize=2, linewidth=1.5, label=gender)\n",
    "    \n",
    "# ax.legend(bbox_to_anchor=(1, -0.03), loc='lower left', labelspacing = 1.05, frameon = True)\n",
    "legend = ax.legend(bbox_to_anchor=(0.05, 0.7), loc='lower left', numpoints=2, labelspacing = 0.15, shadow=False, frameon = True, markerscale = 1)\n",
    "# ax.margins(0,0)\n",
    "# ax.set_yticks([0.2, 0.4, 0.6, 0.8])\n",
    "ax.set_xlabel('Journal Impact Factor')\n",
    "ax.set_ylabel('Predicted self-promotion prob.')\n",
    "\n",
    "# plt.tight_layout()\n",
    "plt.show()\n",
    "fig.savefig('./gender_jif.pdf', bbox_inches='tight', pad_inches=0.01)"
   ]
  },
  {
   "cell_type": "markdown",
   "metadata": {},
   "source": [
    "### Affiliation rank"
   ]
  },
  {
   "cell_type": "code",
   "execution_count": 27,
   "metadata": {},
   "outputs": [],
   "source": [
    "df = pd.read_csv(Data_Root + 'gender_affi.csv', header=0)"
   ]
  },
  {
   "cell_type": "code",
   "execution_count": 28,
   "metadata": {
    "scrolled": true
   },
   "outputs": [
    {
     "data": {
      "text/html": [
       "<div>\n",
       "<style scoped>\n",
       "    .dataframe tbody tr th:only-of-type {\n",
       "        vertical-align: middle;\n",
       "    }\n",
       "\n",
       "    .dataframe tbody tr th {\n",
       "        vertical-align: top;\n",
       "    }\n",
       "\n",
       "    .dataframe thead th {\n",
       "        text-align: right;\n",
       "    }\n",
       "</style>\n",
       "<table border=\"1\" class=\"dataframe\">\n",
       "  <thead>\n",
       "    <tr style=\"text-align: right;\">\n",
       "      <th></th>\n",
       "      <th>x</th>\n",
       "      <th>predicted</th>\n",
       "      <th>std.error</th>\n",
       "      <th>conf.low</th>\n",
       "      <th>conf.high</th>\n",
       "      <th>group</th>\n",
       "    </tr>\n",
       "  </thead>\n",
       "  <tbody>\n",
       "    <tr>\n",
       "      <th>0</th>\n",
       "      <td>0</td>\n",
       "      <td>0.124801</td>\n",
       "      <td>0.010333</td>\n",
       "      <td>0.122606</td>\n",
       "      <td>0.127030</td>\n",
       "      <td>Male</td>\n",
       "    </tr>\n",
       "    <tr>\n",
       "      <th>1</th>\n",
       "      <td>0</td>\n",
       "      <td>0.100210</td>\n",
       "      <td>0.011986</td>\n",
       "      <td>0.098111</td>\n",
       "      <td>0.102348</td>\n",
       "      <td>Female</td>\n",
       "    </tr>\n",
       "    <tr>\n",
       "      <th>2</th>\n",
       "      <td>1</td>\n",
       "      <td>0.119281</td>\n",
       "      <td>0.009638</td>\n",
       "      <td>0.117311</td>\n",
       "      <td>0.121280</td>\n",
       "      <td>Male</td>\n",
       "    </tr>\n",
       "    <tr>\n",
       "      <th>3</th>\n",
       "      <td>1</td>\n",
       "      <td>0.095034</td>\n",
       "      <td>0.010913</td>\n",
       "      <td>0.093210</td>\n",
       "      <td>0.096889</td>\n",
       "      <td>Female</td>\n",
       "    </tr>\n",
       "    <tr>\n",
       "      <th>4</th>\n",
       "      <td>2</td>\n",
       "      <td>0.113974</td>\n",
       "      <td>0.009109</td>\n",
       "      <td>0.112183</td>\n",
       "      <td>0.115789</td>\n",
       "      <td>Male</td>\n",
       "    </tr>\n",
       "    <tr>\n",
       "      <th>5</th>\n",
       "      <td>2</td>\n",
       "      <td>0.090098</td>\n",
       "      <td>0.010094</td>\n",
       "      <td>0.088490</td>\n",
       "      <td>0.091734</td>\n",
       "      <td>Female</td>\n",
       "    </tr>\n",
       "    <tr>\n",
       "      <th>6</th>\n",
       "      <td>3</td>\n",
       "      <td>0.108873</td>\n",
       "      <td>0.008776</td>\n",
       "      <td>0.107216</td>\n",
       "      <td>0.110554</td>\n",
       "      <td>Male</td>\n",
       "    </tr>\n",
       "    <tr>\n",
       "      <th>7</th>\n",
       "      <td>3</td>\n",
       "      <td>0.085395</td>\n",
       "      <td>0.009594</td>\n",
       "      <td>0.083938</td>\n",
       "      <td>0.086875</td>\n",
       "      <td>Female</td>\n",
       "    </tr>\n",
       "    <tr>\n",
       "      <th>8</th>\n",
       "      <td>4</td>\n",
       "      <td>0.103974</td>\n",
       "      <td>0.008661</td>\n",
       "      <td>0.102404</td>\n",
       "      <td>0.105567</td>\n",
       "      <td>Male</td>\n",
       "    </tr>\n",
       "    <tr>\n",
       "      <th>9</th>\n",
       "      <td>4</td>\n",
       "      <td>0.080916</td>\n",
       "      <td>0.009464</td>\n",
       "      <td>0.079547</td>\n",
       "      <td>0.082306</td>\n",
       "      <td>Female</td>\n",
       "    </tr>\n",
       "    <tr>\n",
       "      <th>10</th>\n",
       "      <td>5</td>\n",
       "      <td>0.099271</td>\n",
       "      <td>0.008773</td>\n",
       "      <td>0.097744</td>\n",
       "      <td>0.100820</td>\n",
       "      <td>Male</td>\n",
       "    </tr>\n",
       "    <tr>\n",
       "      <th>11</th>\n",
       "      <td>5</td>\n",
       "      <td>0.076651</td>\n",
       "      <td>0.009718</td>\n",
       "      <td>0.075314</td>\n",
       "      <td>0.078010</td>\n",
       "      <td>Female</td>\n",
       "    </tr>\n",
       "    <tr>\n",
       "      <th>12</th>\n",
       "      <td>6</td>\n",
       "      <td>0.094759</td>\n",
       "      <td>0.009104</td>\n",
       "      <td>0.093239</td>\n",
       "      <td>0.096300</td>\n",
       "      <td>Male</td>\n",
       "    </tr>\n",
       "    <tr>\n",
       "      <th>13</th>\n",
       "      <td>6</td>\n",
       "      <td>0.072594</td>\n",
       "      <td>0.010328</td>\n",
       "      <td>0.071243</td>\n",
       "      <td>0.073969</td>\n",
       "      <td>Female</td>\n",
       "    </tr>\n",
       "    <tr>\n",
       "      <th>14</th>\n",
       "      <td>7</td>\n",
       "      <td>0.090430</td>\n",
       "      <td>0.009630</td>\n",
       "      <td>0.088890</td>\n",
       "      <td>0.091995</td>\n",
       "      <td>Male</td>\n",
       "    </tr>\n",
       "    <tr>\n",
       "      <th>15</th>\n",
       "      <td>7</td>\n",
       "      <td>0.068736</td>\n",
       "      <td>0.011237</td>\n",
       "      <td>0.067339</td>\n",
       "      <td>0.070159</td>\n",
       "      <td>Female</td>\n",
       "    </tr>\n",
       "    <tr>\n",
       "      <th>16</th>\n",
       "      <td>8</td>\n",
       "      <td>0.086281</td>\n",
       "      <td>0.010323</td>\n",
       "      <td>0.084699</td>\n",
       "      <td>0.087889</td>\n",
       "      <td>Male</td>\n",
       "    </tr>\n",
       "    <tr>\n",
       "      <th>17</th>\n",
       "      <td>8</td>\n",
       "      <td>0.065068</td>\n",
       "      <td>0.012378</td>\n",
       "      <td>0.063607</td>\n",
       "      <td>0.066559</td>\n",
       "      <td>Female</td>\n",
       "    </tr>\n",
       "    <tr>\n",
       "      <th>18</th>\n",
       "      <td>9</td>\n",
       "      <td>0.082305</td>\n",
       "      <td>0.011151</td>\n",
       "      <td>0.080669</td>\n",
       "      <td>0.083970</td>\n",
       "      <td>Male</td>\n",
       "    </tr>\n",
       "    <tr>\n",
       "      <th>19</th>\n",
       "      <td>9</td>\n",
       "      <td>0.061583</td>\n",
       "      <td>0.013694</td>\n",
       "      <td>0.060050</td>\n",
       "      <td>0.063152</td>\n",
       "      <td>Female</td>\n",
       "    </tr>\n",
       "  </tbody>\n",
       "</table>\n",
       "</div>"
      ],
      "text/plain": [
       "    x  predicted  std.error  conf.low  conf.high   group\n",
       "0   0   0.124801   0.010333  0.122606   0.127030    Male\n",
       "1   0   0.100210   0.011986  0.098111   0.102348  Female\n",
       "2   1   0.119281   0.009638  0.117311   0.121280    Male\n",
       "3   1   0.095034   0.010913  0.093210   0.096889  Female\n",
       "4   2   0.113974   0.009109  0.112183   0.115789    Male\n",
       "5   2   0.090098   0.010094  0.088490   0.091734  Female\n",
       "6   3   0.108873   0.008776  0.107216   0.110554    Male\n",
       "7   3   0.085395   0.009594  0.083938   0.086875  Female\n",
       "8   4   0.103974   0.008661  0.102404   0.105567    Male\n",
       "9   4   0.080916   0.009464  0.079547   0.082306  Female\n",
       "10  5   0.099271   0.008773  0.097744   0.100820    Male\n",
       "11  5   0.076651   0.009718  0.075314   0.078010  Female\n",
       "12  6   0.094759   0.009104  0.093239   0.096300    Male\n",
       "13  6   0.072594   0.010328  0.071243   0.073969  Female\n",
       "14  7   0.090430   0.009630  0.088890   0.091995    Male\n",
       "15  7   0.068736   0.011237  0.067339   0.070159  Female\n",
       "16  8   0.086281   0.010323  0.084699   0.087889    Male\n",
       "17  8   0.065068   0.012378  0.063607   0.066559  Female\n",
       "18  9   0.082305   0.011151  0.080669   0.083970    Male\n",
       "19  9   0.061583   0.013694  0.060050   0.063152  Female"
      ]
     },
     "execution_count": 28,
     "metadata": {},
     "output_type": "execute_result"
    }
   ],
   "source": [
    "df"
   ]
  },
  {
   "cell_type": "code",
   "execution_count": 29,
   "metadata": {},
   "outputs": [
    {
     "data": {
      "image/png": "[encoded data removed]",
      "text/plain": [
       "<Figure size 252x201.6 with 1 Axes>"
      ]
     },
     "metadata": {
      "needs_background": "light"
     },
     "output_type": "display_data"
    }
   ],
   "source": [
    "nrows = 1\n",
    "ncols = 1\n",
    "fig, ax = plt.subplots(nrows=nrows, ncols=ncols, figsize=(3.5, 2.8))\n",
    "\n",
    "for i, gender, color in zip(range(len(labels)), labels, colors):\n",
    "    xs = np.array(df.loc[df.group==gender, 'x'].tolist())\n",
    "    # xs = xs + 0.3 * (i-3)\n",
    "    ys = np.array(df.loc[df.group==gender, 'predicted'].tolist())\n",
    "    lows = ys - np.array(df.loc[df.group==gender, 'conf.low'].tolist())\n",
    "    upps = np.array(df.loc[df.group==gender, 'conf.high'].tolist()) - ys\n",
    "    errors = np.array([lows, upps])\n",
    "    ax.errorbar(xs, ys, yerr=errors, color=color, alpha=1, fmt='-o', markersize=2, linewidth=1.5, label=gender)\n",
    "    \n",
    "# ax.legend(bbox_to_anchor=(1, -0.03), loc='lower left', labelspacing = 1.05, frameon = True)\n",
    "legend = ax.legend(bbox_to_anchor=(0.45, 0.7), loc='lower left', numpoints=2, labelspacing = 0.15, shadow=False, frameon = True, markerscale = 1)\n",
    "# ax.margins(0,0)\n",
    "# ax.set_yticks([0.2, 0.4, 0.6, 0.8])\n",
    "ax.set_xticks(xs)\n",
    "ax.set_xticklabels(list(range(1, 11)))\n",
    "ax.set_xlabel('Affiliation rank category')\n",
    "ax.set_ylabel('Predicted self-promotion prob.')\n",
    "\n",
    "# plt.tight_layout()\n",
    "plt.show()\n",
    "fig.savefig('./gender_affi.pdf', bbox_inches='tight', pad_inches=0.01)"
   ]
  },
  {
   "cell_type": "markdown",
   "metadata": {},
   "source": [
    "### Previous num. publications"
   ]
  },
  {
   "cell_type": "code",
   "execution_count": 52,
   "metadata": {},
   "outputs": [],
   "source": [
    "df = pd.read_csv(Data_Root + 'gender_pub.csv', header=0)"
   ]
  },
  {
   "cell_type": "code",
   "execution_count": 53,
   "metadata": {
    "scrolled": true
   },
   "outputs": [
    {
     "data": {
      "text/html": [
       "<div>\n",
       "<style scoped>\n",
       "    .dataframe tbody tr th:only-of-type {\n",
       "        vertical-align: middle;\n",
       "    }\n",
       "\n",
       "    .dataframe tbody tr th {\n",
       "        vertical-align: top;\n",
       "    }\n",
       "\n",
       "    .dataframe thead th {\n",
       "        text-align: right;\n",
       "    }\n",
       "</style>\n",
       "<table border=\"1\" class=\"dataframe\">\n",
       "  <thead>\n",
       "    <tr style=\"text-align: right;\">\n",
       "      <th></th>\n",
       "      <th>x</th>\n",
       "      <th>predicted</th>\n",
       "      <th>std.error</th>\n",
       "      <th>conf.low</th>\n",
       "      <th>conf.high</th>\n",
       "      <th>group</th>\n",
       "    </tr>\n",
       "  </thead>\n",
       "  <tbody>\n",
       "    <tr>\n",
       "      <th>0</th>\n",
       "      <td>0</td>\n",
       "      <td>0.046019</td>\n",
       "      <td>0.018174</td>\n",
       "      <td>0.044480</td>\n",
       "      <td>0.047608</td>\n",
       "      <td>Male</td>\n",
       "    </tr>\n",
       "    <tr>\n",
       "      <th>1</th>\n",
       "      <td>0</td>\n",
       "      <td>0.034275</td>\n",
       "      <td>0.019042</td>\n",
       "      <td>0.033061</td>\n",
       "      <td>0.035532</td>\n",
       "      <td>Female</td>\n",
       "    </tr>\n",
       "    <tr>\n",
       "      <th>2</th>\n",
       "      <td>1</td>\n",
       "      <td>0.061178</td>\n",
       "      <td>0.013969</td>\n",
       "      <td>0.059624</td>\n",
       "      <td>0.062769</td>\n",
       "      <td>Male</td>\n",
       "    </tr>\n",
       "    <tr>\n",
       "      <th>3</th>\n",
       "      <td>1</td>\n",
       "      <td>0.046667</td>\n",
       "      <td>0.014395</td>\n",
       "      <td>0.045428</td>\n",
       "      <td>0.047939</td>\n",
       "      <td>Female</td>\n",
       "    </tr>\n",
       "    <tr>\n",
       "      <th>4</th>\n",
       "      <td>2</td>\n",
       "      <td>0.076902</td>\n",
       "      <td>0.011143</td>\n",
       "      <td>0.075366</td>\n",
       "      <td>0.078467</td>\n",
       "      <td>Male</td>\n",
       "    </tr>\n",
       "    <tr>\n",
       "      <th>5</th>\n",
       "      <td>2</td>\n",
       "      <td>0.059732</td>\n",
       "      <td>0.011886</td>\n",
       "      <td>0.058437</td>\n",
       "      <td>0.061054</td>\n",
       "      <td>Female</td>\n",
       "    </tr>\n",
       "    <tr>\n",
       "      <th>6</th>\n",
       "      <td>3</td>\n",
       "      <td>0.091565</td>\n",
       "      <td>0.009554</td>\n",
       "      <td>0.090019</td>\n",
       "      <td>0.093134</td>\n",
       "      <td>Male</td>\n",
       "    </tr>\n",
       "    <tr>\n",
       "      <th>7</th>\n",
       "      <td>3</td>\n",
       "      <td>0.071986</td>\n",
       "      <td>0.010807</td>\n",
       "      <td>0.070584</td>\n",
       "      <td>0.073414</td>\n",
       "      <td>Female</td>\n",
       "    </tr>\n",
       "    <tr>\n",
       "      <th>8</th>\n",
       "      <td>4</td>\n",
       "      <td>0.103467</td>\n",
       "      <td>0.008917</td>\n",
       "      <td>0.101857</td>\n",
       "      <td>0.105100</td>\n",
       "      <td>Male</td>\n",
       "    </tr>\n",
       "    <tr>\n",
       "      <th>9</th>\n",
       "      <td>4</td>\n",
       "      <td>0.081827</td>\n",
       "      <td>0.010377</td>\n",
       "      <td>0.080312</td>\n",
       "      <td>0.083368</td>\n",
       "      <td>Female</td>\n",
       "    </tr>\n",
       "    <tr>\n",
       "      <th>10</th>\n",
       "      <td>5</td>\n",
       "      <td>0.111155</td>\n",
       "      <td>0.009005</td>\n",
       "      <td>0.109423</td>\n",
       "      <td>0.112910</td>\n",
       "      <td>Male</td>\n",
       "    </tr>\n",
       "    <tr>\n",
       "      <th>11</th>\n",
       "      <td>5</td>\n",
       "      <td>0.087873</td>\n",
       "      <td>0.010473</td>\n",
       "      <td>0.086241</td>\n",
       "      <td>0.089532</td>\n",
       "      <td>Female</td>\n",
       "    </tr>\n",
       "    <tr>\n",
       "      <th>12</th>\n",
       "      <td>6</td>\n",
       "      <td>0.113665</td>\n",
       "      <td>0.009868</td>\n",
       "      <td>0.111731</td>\n",
       "      <td>0.115628</td>\n",
       "      <td>Male</td>\n",
       "    </tr>\n",
       "    <tr>\n",
       "      <th>13</th>\n",
       "      <td>6</td>\n",
       "      <td>0.089242</td>\n",
       "      <td>0.011851</td>\n",
       "      <td>0.087372</td>\n",
       "      <td>0.091148</td>\n",
       "      <td>Female</td>\n",
       "    </tr>\n",
       "    <tr>\n",
       "      <th>14</th>\n",
       "      <td>7</td>\n",
       "      <td>0.110681</td>\n",
       "      <td>0.011788</td>\n",
       "      <td>0.108427</td>\n",
       "      <td>0.112976</td>\n",
       "      <td>Male</td>\n",
       "    </tr>\n",
       "    <tr>\n",
       "      <th>15</th>\n",
       "      <td>7</td>\n",
       "      <td>0.085734</td>\n",
       "      <td>0.015474</td>\n",
       "      <td>0.083386</td>\n",
       "      <td>0.088141</td>\n",
       "      <td>Female</td>\n",
       "    </tr>\n",
       "    <tr>\n",
       "      <th>16</th>\n",
       "      <td>8</td>\n",
       "      <td>0.102580</td>\n",
       "      <td>0.015017</td>\n",
       "      <td>0.099902</td>\n",
       "      <td>0.105321</td>\n",
       "      <td>Male</td>\n",
       "    </tr>\n",
       "    <tr>\n",
       "      <th>17</th>\n",
       "      <td>8</td>\n",
       "      <td>0.077863</td>\n",
       "      <td>0.021635</td>\n",
       "      <td>0.074872</td>\n",
       "      <td>0.080963</td>\n",
       "      <td>Female</td>\n",
       "    </tr>\n",
       "  </tbody>\n",
       "</table>\n",
       "</div>"
      ],
      "text/plain": [
       "    x  predicted  std.error  conf.low  conf.high   group\n",
       "0   0   0.046019   0.018174  0.044480   0.047608    Male\n",
       "1   0   0.034275   0.019042  0.033061   0.035532  Female\n",
       "2   1   0.061178   0.013969  0.059624   0.062769    Male\n",
       "3   1   0.046667   0.014395  0.045428   0.047939  Female\n",
       "4   2   0.076902   0.011143  0.075366   0.078467    Male\n",
       "5   2   0.059732   0.011886  0.058437   0.061054  Female\n",
       "6   3   0.091565   0.009554  0.090019   0.093134    Male\n",
       "7   3   0.071986   0.010807  0.070584   0.073414  Female\n",
       "8   4   0.103467   0.008917  0.101857   0.105100    Male\n",
       "9   4   0.081827   0.010377  0.080312   0.083368  Female\n",
       "10  5   0.111155   0.009005  0.109423   0.112910    Male\n",
       "11  5   0.087873   0.010473  0.086241   0.089532  Female\n",
       "12  6   0.113665   0.009868  0.111731   0.115628    Male\n",
       "13  6   0.089242   0.011851  0.087372   0.091148  Female\n",
       "14  7   0.110681   0.011788  0.108427   0.112976    Male\n",
       "15  7   0.085734   0.015474  0.083386   0.088141  Female\n",
       "16  8   0.102580   0.015017  0.099902   0.105321    Male\n",
       "17  8   0.077863   0.021635  0.074872   0.080963  Female"
      ]
     },
     "execution_count": 53,
     "metadata": {},
     "output_type": "execute_result"
    }
   ],
   "source": [
    "df"
   ]
  },
  {
   "cell_type": "code",
   "execution_count": 54,
   "metadata": {},
   "outputs": [
    {
     "data": {
      "image/png": "[encoded data removed]",
      "text/plain": [
       "<Figure size 244.8x201.6 with 1 Axes>"
      ]
     },
     "metadata": {
      "needs_background": "light"
     },
     "output_type": "display_data"
    }
   ],
   "source": [
    "nrows = 1\n",
    "ncols = 1\n",
    "fig, ax = plt.subplots(nrows=nrows, ncols=ncols, figsize=(3.5, 2.8))\n",
    "\n",
    "for i, gender, color in zip(range(len(labels)), labels, colors):\n",
    "    xs = np.array(df.loc[df.group==gender, 'x'].tolist())\n",
    "    # xs = xs + 0.3 * (i-3)\n",
    "    ys = np.array(df.loc[df.group==gender, 'predicted'].tolist())\n",
    "    lows = ys - np.array(df.loc[df.group==gender, 'conf.low'].tolist())\n",
    "    upps = np.array(df.loc[df.group==gender, 'conf.high'].tolist()) - ys\n",
    "    errors = np.array([lows, upps])\n",
    "    ax.errorbar(xs, ys, yerr=errors, color=color, alpha=1, fmt='-o', markersize=2, linewidth=1.5, label=gender)\n",
    "    \n",
    "# ax.legend(bbox_to_anchor=(1, -0.03), loc='lower left', labelspacing = 1.05, frameon = True)\n",
    "legend = ax.legend(bbox_to_anchor=(0.3, 0.1), loc='lower left', numpoints=2, labelspacing = 0.15, shadow=False, frameon = True, markerscale = 1)\n",
    "# ax.margins(0,0)\n",
    "# ax.set_yticks([0.2, 0.4, 0.6, 0.8])\n",
    "ax.set_xticks(xs)\n",
    "ax.set_xticklabels([3, 6, 13, 25, 44, 77, 136, 285, 4871])\n",
    "for tick in ax.get_xticklabels():\n",
    "    tick.set_ha('right')\n",
    "    tick.set_fontsize(8)\n",
    "    tick.set_rotation(15)\n",
    "ax.set_xlabel('Previous num. of publications')\n",
    "ax.set_ylabel('Predicted self-promotion prob.')\n",
    "\n",
    "# plt.tight_layout()\n",
    "plt.show()\n",
    "fig.savefig('./gender_pub.pdf', bbox_inches='tight', pad_inches=0.01)\n"
   ]
  },
  {
   "cell_type": "markdown",
   "metadata": {},
   "source": [
    "### Discipline"
   ]
  },
  {
   "cell_type": "code",
   "execution_count": 34,
   "metadata": {},
   "outputs": [
    {
     "data": {
      "image/png": "[encoded data removed]",
      "text/plain": [
       "<Figure size 216x180 with 1 Axes>"
      ]
     },
     "metadata": {
      "needs_background": "light"
     },
     "output_type": "display_data"
    }
   ],
   "source": [
    "# name_map = {'social': 'Social Sciences',\n",
    "#             'life': 'Life Sciences',\n",
    "#             'health': 'Health Sciences',\n",
    "#             'phy': 'Physical Sciences'}\n",
    "\n",
    "# step = 3\n",
    "# ys_1 = 1 + np.arange(4) * step\n",
    "# ys_2 = 2 + np.arange(4) * step\n",
    "# y_pos = 1.5 + np.arange(4) * step\n",
    "\n",
    "# nrows = 1\n",
    "# ncols = 1\n",
    "# fig, ax = plt.subplots(nrows=nrows, ncols=ncols, figsize=(3, 2.5))\n",
    "\n",
    "# for i, gender, color, ys in zip(range(len(labels)), labels, colors, [ys_1, ys_2]):\n",
    "#     xs = []\n",
    "#     xs_low = []\n",
    "#     xs_hi = []\n",
    "#     for j, fname in enumerate(name_map.keys()):\n",
    "#         df = pd.read_csv(Data_Root + 'pred_%s.csv'%fname, header=0)\n",
    "#         a, b, c = df.loc[df.x==gender][['predicted', 'conf.low', 'conf.high']].values[0]\n",
    "#         xs.append(a)\n",
    "#         xs_low.append(b)\n",
    "#         xs_hi.append(c)\n",
    "#     errors = np.array([np.array(xs) - np.array(xs_low), np.array(xs_hi) - np.array(xs)])\n",
    "#     ax.errorbar(xs, ys, xerr=errors, color=color, alpha=1, fmt='o', markersize=3, linewidth=2, label=gender)\n",
    "    \n",
    "# legend = ax.legend(bbox_to_anchor=(0.45, 0.65), loc='lower left', numpoints=1, labelspacing = 0.15, shadow=False, frameon = True, markerscale = 1)\n",
    "# ax.set_xlabel('Predicted self-promotion prob.')\n",
    "\n",
    "# ax.set_xlim([0.03, 0.28])\n",
    "# # ax.set_xticks([0, 0.05, 0.1, 0.15, 0.2, 0.25, 0.3])\n",
    "# ax.set_yticks(y_pos)\n",
    "# ax.set_yticklabels([name_map[disc] for disc in name_map], rotation=0, ha='right')\n",
    "# # plt.tight_layout()\n",
    "# plt.show()\n",
    "# # fig.savefig('./pred_discipline.pdf', bbox_inches='tight', pad_inches=0.01)"
   ]
  },
  {
   "cell_type": "code",
   "execution_count": 50,
   "metadata": {},
   "outputs": [
    {
     "data": {
      "image/png": "[encoded data removed]",
      "text/plain": [
       "<Figure size 237.6x216 with 1 Axes>"
      ]
     },
     "metadata": {
      "needs_background": "light"
     },
     "output_type": "display_data"
    }
   ],
   "source": [
    "name_map = {'social': 'Social Sci.',\n",
    "            'life': 'Life Sci.',\n",
    "            'health': 'Health Sci.',\n",
    "            'phy': 'Physical Sci.'}\n",
    "\n",
    "step = 3\n",
    "ys_1 = 1 + np.arange(4) * step\n",
    "ys_2 = 2 + np.arange(4) * step\n",
    "y_pos = 1.5 + np.arange(4) * step\n",
    "\n",
    "nrows = 1\n",
    "ncols = 1\n",
    "fig, ax = plt.subplots(nrows=nrows, ncols=ncols, figsize=(3.3, 3))\n",
    "\n",
    "for i, gender, color, ys in zip(range(len(labels)), labels, colors, [ys_1, ys_2]):\n",
    "    xs = []\n",
    "    xs_low = []\n",
    "    xs_hi = []\n",
    "    for j, fname in enumerate(name_map.keys()):\n",
    "        df = pd.read_csv(Data_Root + 'pred_%s.csv'%fname, header=0)\n",
    "        a, b, c = df.loc[df.x==gender][['predicted', 'conf.low', 'conf.high']].values[0]\n",
    "        xs.append(a)\n",
    "        xs_low.append(b)\n",
    "        xs_hi.append(c)\n",
    "    errors = np.array([np.array(xs) - np.array(xs_low), np.array(xs_hi) - np.array(xs)])\n",
    "    ax.errorbar(ys, xs, yerr=errors, color=color, alpha=1, fmt='o', markersize=3, linewidth=2, label=gender)\n",
    "    \n",
    "legend = ax.legend(bbox_to_anchor=(0.45, 0.65), loc='lower left', numpoints=1, labelspacing = 0.15, shadow=False, frameon = True, markerscale = 1)\n",
    "ax.set_ylabel('Predicted self-promotion prob.')\n",
    "\n",
    "ax.set_ylim([0.03, 0.28])\n",
    "# ax.set_xticks([0, 0.05, 0.1, 0.15, 0.2, 0.25, 0.3])\n",
    "ax.set_xticks(y_pos)\n",
    "ax.set_xticklabels([name_map[disc] for disc in name_map], rotation=15, ha='right')\n",
    "# plt.tight_layout()\n",
    "plt.show()\n",
    "fig.savefig('./pred_discipline.pdf', bbox_inches='tight', pad_inches=0.01)"
   ]
  },
  {
   "cell_type": "code",
   "execution_count": null,
   "metadata": {},
   "outputs": [],
   "source": []
  },
  {
   "cell_type": "code",
   "execution_count": null,
   "metadata": {},
   "outputs": [],
   "source": []
  }
 ],
 "metadata": {
  "kernelspec": {
   "display_name": "Python 3 (ipykernel)",
   "language": "python",
   "name": "python3"
  },
  "language_info": {
   "codemirror_mode": {
    "name": "ipython",
    "version": 3
   },
   "file_extension": ".py",
   "mimetype": "text/x-python",
   "name": "python",
   "nbconvert_exporter": "python",
   "pygments_lexer": "ipython3",
   "version": "3.7.10"
  }
 },
 "nbformat": 4,
 "nbformat_minor": 4
}
