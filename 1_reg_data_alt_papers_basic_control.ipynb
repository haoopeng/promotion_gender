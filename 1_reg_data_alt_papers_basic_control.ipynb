{
 "cells": [
  {
   "cell_type": "code",
   "execution_count": 15,
   "metadata": {},
   "outputs": [],
   "source": [
    "import re\n",
    "import time\n",
    "import json\n",
    "import csv\n",
    "import random\n",
    "import requests\n",
    "import pprint\n",
    "import pickle\n",
    "import unidecode\n",
    "import numpy as np\n",
    "import pandas as pd\n",
    "from random import sample\n",
    "import reverse_geocode\n",
    "import seaborn as sns\n",
    "from sklearn import metrics\n",
    "from fuzzywuzzy import fuzz\n",
    "import matplotlib.pyplot as plt\n",
    "from collections import Counter\n",
    "from scipy.stats import chisquare\n",
    "from collections import Counter, defaultdict\n",
    "from sklearn.metrics import cohen_kappa_score"
   ]
  },
  {
   "cell_type": "code",
   "execution_count": 3,
   "metadata": {},
   "outputs": [],
   "source": [
    "Data_Root = '/home/haopeng/Data/Promotion/'\n",
    "data_root = '/home/haopeng/Data/Retraction/'"
   ]
  },
  {
   "cell_type": "code",
   "execution_count": 4,
   "metadata": {},
   "outputs": [],
   "source": [
    "def yield_one_line(filename, delimiter = '\\t', quote = csv.QUOTE_NONE):\n",
    "    '''a generator which produce one line of a given file'''\n",
    "    with open(filename, 'r') as file:\n",
    "        print('processing %s...' %(filename))\n",
    "        reader = csv.reader(file, delimiter=delimiter, quoting=quote)\n",
    "        for row in reader:\n",
    "            yield row"
   ]
  },
  {
   "cell_type": "code",
   "execution_count": null,
   "metadata": {},
   "outputs": [],
   "source": [
    "# type_cn = defaultdict(int,\n",
    "#             {'article': 18266091,\n",
    "#              'chapter': 6255269,\n",
    "#              'book': 1490369,\n",
    "#              'clinical_trial_study_record': 49758,\n",
    "#              'news': 130360,\n",
    "#              'dataset': 30883,\n",
    "#              'Journal Article': 15,\n",
    "#              'JOURNAL ARTICLE': 8,\n",
    "#              'Editorial': 1})"
   ]
  },
  {
   "cell_type": "code",
   "execution_count": 6,
   "metadata": {},
   "outputs": [],
   "source": [
    "plat_cate = {\n",
    " 'blogs': 'blog',\n",
    " 'news': 'news_media',\n",
    " 'patent': 'knowledge_repo',\n",
    " 'f1000': 'knowledge_repo',\n",
    " 'peer_reviews': 'knowledge_repo',\n",
    " 'wikipedia': 'knowledge_repo',\n",
    " 'q&a': 'knowledge_repo',\n",
    " 'facebook': 'social_media',\n",
    " 'googleplus': 'social_media',\n",
    " 'linkedin': 'social_media',\n",
    " 'pinterest': 'social_media',\n",
    " 'reddit': 'social_media',\n",
    " 'twitter': 'social_media',\n",
    " 'video': 'social_media'\n",
    "}"
   ]
  },
  {
   "cell_type": "code",
   "execution_count": 7,
   "metadata": {
    "scrolled": true
   },
   "outputs": [
    {
     "name": "stdout",
     "output_type": "stream",
     "text": [
      "processed 1000000 lines...\n",
      "processed 2000000 lines...\n",
      "processed 3000000 lines...\n",
      "processed 4000000 lines...\n",
      "processed 5000000 lines...\n",
      "processed 6000000 lines...\n",
      "processed 7000000 lines...\n",
      "processed 8000000 lines...\n",
      "processed 9000000 lines...\n",
      "processed 10000000 lines...\n",
      "processed 11000000 lines...\n",
      "processed 12000000 lines...\n",
      "processed 13000000 lines...\n",
      "processed 14000000 lines...\n",
      "processed 15000000 lines...\n",
      "processed 16000000 lines...\n",
      "processed 17000000 lines...\n",
      "processed 18000000 lines...\n",
      "processed 19000000 lines...\n",
      "processed 20000000 lines...\n",
      "processed 21000000 lines...\n",
      "processed 22000000 lines...\n",
      "processed 23000000 lines...\n",
      "processed 24000000 lines...\n",
      "processed 25000000 lines...\n"
     ]
    }
   ],
   "source": [
    "tweets_cn = 0\n",
    "social_media_cn = 0\n",
    "posts_cn = 0\n",
    "cn_lines = 0\n",
    "\n",
    "with open(data_root + 'merged.txt', 'r') as ofile:\n",
    "    for row in ofile:\n",
    "        cn_lines += 1\n",
    "        if cn_lines % 1000000 == 0:\n",
    "            print('processed %d lines...'%cn_lines)\n",
    "        if '}{\"altmetric_id\"' in row:\n",
    "            row = row.replace('}{\"altmetric_id\"', '}\\n{\"altmetric_id\"')\n",
    "        # this way works for both good and bad lines.\n",
    "        records = row.split('\\n')\n",
    "        for record in records:\n",
    "            if record != '':\n",
    "                paper = json.loads(record)\n",
    "                citation = paper['citation']\n",
    "                doi = ''\n",
    "                if 'doi' in citation:\n",
    "                    doi = citation['doi']\n",
    "                # focus on research articles published in 2018\n",
    "                if doi != '':\n",
    "                    for plat in paper['posts']:\n",
    "                        if plat == 'twitter':\n",
    "                            tweets_cn += len(paper['posts'][plat])\n",
    "                        if plat in plat_cate and plat_cate[plat] == 'social_media':\n",
    "                            social_media_cn += len(paper['posts'][plat])\n",
    "                        posts_cn += len(paper['posts'][plat])"
   ]
  },
  {
   "cell_type": "code",
   "execution_count": 8,
   "metadata": {},
   "outputs": [
    {
     "data": {
      "text/plain": [
       "0.9283170609434604"
      ]
     },
     "execution_count": 8,
     "metadata": {},
     "output_type": "execute_result"
    }
   ],
   "source": [
    "tweets_cn / social_media_cn"
   ]
  },
  {
   "cell_type": "code",
   "execution_count": 9,
   "metadata": {},
   "outputs": [
    {
     "data": {
      "text/plain": [
       "0.7389792916366573"
      ]
     },
     "execution_count": 9,
     "metadata": {},
     "output_type": "execute_result"
    }
   ],
   "source": [
    "tweets_cn / posts_cn"
   ]
  },
  {
   "cell_type": "code",
   "execution_count": 10,
   "metadata": {},
   "outputs": [
    {
     "data": {
      "text/plain": [
       "0.7960419157713458"
      ]
     },
     "execution_count": 10,
     "metadata": {},
     "output_type": "execute_result"
    }
   ],
   "source": [
    "social_media_cn / posts_cn"
   ]
  },
  {
   "cell_type": "code",
   "execution_count": 37,
   "metadata": {
    "scrolled": true
   },
   "outputs": [
    {
     "name": "stdout",
     "output_type": "stream",
     "text": [
      "processed 1000000 lines...\n",
      "processed 2000000 lines...\n",
      "processed 3000000 lines...\n",
      "processed 4000000 lines...\n",
      "processed 5000000 lines...\n",
      "processed 6000000 lines...\n",
      "processed 7000000 lines...\n",
      "processed 8000000 lines...\n",
      "processed 9000000 lines...\n",
      "processed 10000000 lines...\n",
      "processed 11000000 lines...\n",
      "processed 12000000 lines...\n",
      "processed 13000000 lines...\n",
      "processed 14000000 lines...\n",
      "processed 15000000 lines...\n",
      "processed 16000000 lines...\n",
      "processed 17000000 lines...\n",
      "processed 18000000 lines...\n",
      "processed 19000000 lines...\n",
      "processed 20000000 lines...\n",
      "processed 21000000 lines...\n",
      "processed 22000000 lines...\n",
      "processed 23000000 lines...\n",
      "processed 24000000 lines...\n",
      "processed 25000000 lines...\n"
     ]
    }
   ],
   "source": [
    "paper_li = {}\n",
    "cn_lines = 0\n",
    "\n",
    "with open(data_root + 'merged.txt', 'r') as ofile:\n",
    "    for row in ofile:\n",
    "        cn_lines += 1\n",
    "        if cn_lines % 1000000 == 0:\n",
    "            print('processed %d lines...'%cn_lines)\n",
    "        if '}{\"altmetric_id\"' in row:\n",
    "            row = row.replace('}{\"altmetric_id\"', '}\\n{\"altmetric_id\"')\n",
    "        # this way works for both good and bad lines.\n",
    "        records = row.split('\\n')\n",
    "        for record in records:\n",
    "            if record != '':\n",
    "                paper = json.loads(record)\n",
    "                citation = paper['citation']\n",
    "                pubdate = ''\n",
    "                if 'pubdate' in citation:\n",
    "                    pubdate = citation['pubdate']\n",
    "                elif 'epubdate' in citation:\n",
    "                    pubdate = citation['epubdate']\n",
    "                dtype = ''\n",
    "                if 'type' in citation:\n",
    "                    dtype = citation['type']\n",
    "                doi = ''\n",
    "                if 'doi' in citation:\n",
    "                    doi = citation['doi']\n",
    "                # focus on research articles published in 2018\n",
    "                if pubdate != '' and pubdate[:4] == '2018' and dtype == 'article' and doi != '':\n",
    "                    # authors = []\n",
    "                    # if 'authors' in citation:\n",
    "                    #    authors = citation['authors']\n",
    "                    jnl = ''\n",
    "                    if 'journal' in citation:\n",
    "                        jnl = citation['journal']\n",
    "                    scopus_subjects = []\n",
    "                    if 'scopus_subjects' in citation:\n",
    "                        scopus_subjects = citation['scopus_subjects']\n",
    "                    tweets = []\n",
    "                    if 'twitter' in paper['posts']:\n",
    "                        tweets = paper['posts']['twitter']\n",
    "                    # could add pub year later here.\n",
    "                    pp = {'journal': jnl, 'scopus_subjects': scopus_subjects, 'tweets': tweets}\n",
    "                    paper_li[doi] = pp"
   ]
  },
  {
   "cell_type": "code",
   "execution_count": 43,
   "metadata": {},
   "outputs": [
    {
     "data": {
      "text/plain": [
       "1218710"
      ]
     },
     "execution_count": 43,
     "metadata": {},
     "output_type": "execute_result"
    }
   ],
   "source": [
    "len(paper_li)"
   ]
  },
  {
   "cell_type": "code",
   "execution_count": 41,
   "metadata": {},
   "outputs": [],
   "source": [
    "with open(Data_Root+'papers_2018.json', 'w') as ofile:\n",
    "    for doi in paper_li:\n",
    "        res = {'doi': doi, 'data': paper_li[doi]}\n",
    "        ofile.write(json.dumps(res)+'\\n')"
   ]
  },
  {
   "cell_type": "code",
   "execution_count": 6,
   "metadata": {},
   "outputs": [],
   "source": [
    "paper_li = {}\n",
    "with open(Data_Root+'papers_2018.json', 'r') as ifile:\n",
    "    for line in ifile:\n",
    "        res = json.loads(line)\n",
    "        paper_li[res['doi']] = res['data']"
   ]
  },
  {
   "cell_type": "code",
   "execution_count": 11,
   "metadata": {
    "scrolled": true
   },
   "outputs": [],
   "source": [
    "i = 0\n",
    "for doi in paper_li:\n",
    "    paper = paper_li[doi]\n",
    "    if len(paper['scopus_subjects']) == 0:\n",
    "        i += 1"
   ]
  },
  {
   "cell_type": "code",
   "execution_count": 13,
   "metadata": {
    "scrolled": true
   },
   "outputs": [
    {
     "data": {
      "text/plain": [
       "0.3490059160916051"
      ]
     },
     "execution_count": 13,
     "metadata": {},
     "output_type": "execute_result"
    }
   ],
   "source": [
    "# no discipline info.\n",
    "i / len(paper_li)"
   ]
  },
  {
   "cell_type": "code",
   "execution_count": 15,
   "metadata": {
    "scrolled": true
   },
   "outputs": [],
   "source": [
    "discs_broad = set(['Social Sciences', 'Life Sciences', 'Health Sciences', 'Physical Sciences', 'General'])\n",
    "\n",
    "# every paper has one of the five broad disciplines.\n",
    "# every paper has subfiels and their associated broad disciplines, so there is no need to map sub to broad separately.\n",
    "i = 0\n",
    "for doi in paper_li:\n",
    "    paper = paper_li[doi]\n",
    "    if len(paper['scopus_subjects']) > 0:\n",
    "        for sub in paper['scopus_subjects']:\n",
    "            if sub in discs_broad:\n",
    "                break\n",
    "        else:\n",
    "            if i < 10:\n",
    "                print(paper['scopus_subjects'])\n",
    "            i += 1"
   ]
  },
  {
   "cell_type": "code",
   "execution_count": 100,
   "metadata": {},
   "outputs": [],
   "source": [
    "# ['General']\n",
    "# ['Physical Sciences', 'General', 'Mathematics', 'Engineering']\n",
    "sub_cn = defaultdict(int)\n",
    "for doi in paper_li:\n",
    "    paper = paper_li[doi]\n",
    "    for sub in paper['scopus_subjects']:\n",
    "        sub_cn[sub] += 1"
   ]
  },
  {
   "cell_type": "code",
   "execution_count": 101,
   "metadata": {
    "scrolled": true
   },
   "outputs": [
    {
     "data": {
      "text/plain": [
       "[('Health Sciences', 358843),\n",
       " ('Medicine', 338170),\n",
       " ('Physical Sciences', 259634),\n",
       " ('Life Sciences', 254596),\n",
       " ('Biochemistry, Genetics and Molecular Biology', 145828),\n",
       " ('Social Sciences', 121705),\n",
       " ('Agricultural and Biological Sciences', 78501),\n",
       " ('Chemistry', 73449),\n",
       " ('Physics and Astronomy', 70245),\n",
       " ('Environmental Science', 51201),\n",
       " ('Engineering', 50395),\n",
       " ('Materials Science', 42561),\n",
       " ('Earth and Planetary Sciences', 37551),\n",
       " ('Neuroscience', 34005),\n",
       " ('Psychology', 32549),\n",
       " ('Immunology and Microbiology', 31777),\n",
       " ('Pharmacology, Toxicology and Pharmaceutics', 29762),\n",
       " ('Chemical Engineering', 28420),\n",
       " ('Computer Science', 28171),\n",
       " ('Mathematics', 23106),\n",
       " ('Nursing', 21877),\n",
       " ('Arts and Humanities', 16630),\n",
       " ('Business, Management and Accounting', 16179),\n",
       " ('Health Professions', 14187),\n",
       " ('Economics, Econometrics and Finance', 13121),\n",
       " ('Energy', 11190),\n",
       " ('General', 9059),\n",
       " ('Veterinary', 8179),\n",
       " ('Decision Sciences', 5792),\n",
       " ('Dentistry', 3966)]"
      ]
     },
     "execution_count": 101,
     "metadata": {},
     "output_type": "execute_result"
    }
   ],
   "source": [
    "# num. of papers with a specific keyword\n",
    "sorted(sub_cn.items(), key=lambda x: x[1]*-1)"
   ]
  },
  {
   "cell_type": "code",
   "execution_count": 602,
   "metadata": {},
   "outputs": [
    {
     "data": {
      "text/plain": [
       "30"
      ]
     },
     "execution_count": 602,
     "metadata": {},
     "output_type": "execute_result"
    }
   ],
   "source": [
    "len(sub_cn)"
   ]
  },
  {
   "cell_type": "code",
   "execution_count": 6,
   "metadata": {},
   "outputs": [],
   "source": [
    "# Social Sciecnes is created in the subfields because there is also a `social sciences` subfield category.\n",
    "discs = {'Life Sciences': 0, 'Health Sciences': 1, 'Physical Sciences': 2}\n",
    "\n",
    "# 26 subfields + 1 General\n",
    "fields = {'Social Sciences': 'Social Sciences',\n",
    " 'Materials Science': 'Physical Sciences',\n",
    " 'Engineering': 'Physical Sciences',\n",
    " 'Chemistry': 'Physical Sciences',\n",
    " 'Biochemistry, Genetics and Molecular Biology': 'Life Sciences',\n",
    " 'Medicine': 'Health Sciences',\n",
    " 'Nursing': 'Health Sciences',\n",
    " 'Agricultural and Biological Sciences': 'Life Sciences',\n",
    " 'Pharmacology, Toxicology and Pharmaceutics': 'Life Sciences',\n",
    " 'Neuroscience': 'Life Sciences',\n",
    " 'Business, Management and Accounting': 'Social Sciences',\n",
    " 'Economics, Econometrics and Finance': 'Social Sciences',\n",
    " 'Chemical Engineering': 'Physical Sciences',\n",
    " 'Physics and Astronomy': 'Physical Sciences',\n",
    " 'Computer Science': 'Physical Sciences',\n",
    " 'Decision Sciences': 'Social Sciences',\n",
    " 'Health Professions': 'Health Sciences',\n",
    " 'Psychology': 'Social Sciences',\n",
    " 'Immunology and Microbiology': 'Life Sciences',\n",
    " 'Dentistry': 'Health Sciences',\n",
    " 'Earth and Planetary Sciences': 'Physical Sciences',\n",
    " 'Environmental Science': 'Physical Sciences',\n",
    " 'Mathematics': 'Physical Sciences',\n",
    " 'Arts and Humanities': 'Social Sciences',\n",
    " 'Energy': 'Physical Sciences',\n",
    " 'Veterinary': 'Health Sciences',\n",
    " 'General': 'General'}\n",
    "\n",
    "field_ix = {fie: ix for ix, fie in enumerate(list(fields.keys()))}"
   ]
  },
  {
   "cell_type": "code",
   "execution_count": 93,
   "metadata": {
    "scrolled": true
   },
   "outputs": [
    {
     "data": {
      "text/plain": [
       "27"
      ]
     },
     "execution_count": 93,
     "metadata": {},
     "output_type": "execute_result"
    }
   ],
   "source": [
    "len(fields)"
   ]
  },
  {
   "cell_type": "code",
   "execution_count": 56,
   "metadata": {},
   "outputs": [],
   "source": [
    "with open(Data_Root+'alt_dois.pickle', 'wb') as ofile:\n",
    "    pickle.dump(list(paper_li.keys()), ofile)"
   ]
  },
  {
   "cell_type": "code",
   "execution_count": null,
   "metadata": {},
   "outputs": [],
   "source": [
    "# 85411606 tids in total, which contains 14412 tids that are not numeric string.\n",
    "# e.g., '1.5558470649316E+17', '1.5464891076012E+17', '1.6227338710274E+17'"
   ]
  },
  {
   "cell_type": "code",
   "execution_count": 26,
   "metadata": {
    "scrolled": true
   },
   "outputs": [
    {
     "name": "stdout",
     "output_type": "stream",
     "text": [
      "{'contributors': None,\n",
      " 'coordinates': None,\n",
      " 'created_at': 'Fri Feb 17 09:01:16 +0000 2017',\n",
      " 'display_text_range': [0, 116],\n",
      " 'entities': {'hashtags': [],\n",
      "              'symbols': [],\n",
      "              'urls': [{'display_url': 'bit.ly/2kqg0ym',\n",
      "                        'expanded_url': 'http://bit.ly/2kqg0ym',\n",
      "                        'indices': [77, 100],\n",
      "                        'url': 'https://t.co/PcpdHjw86p'}],\n",
      "              'user_mentions': [{'id': 96741105,\n",
      "                                 'id_str': '96741105',\n",
      "                                 'indices': [0, 15],\n",
      "                                 'name': 'Newcastle University',\n",
      "                                 'screen_name': 'UniofNewcastle'},\n",
      "                                {'id': 96741105,\n",
      "                                 'id_str': '96741105',\n",
      "                                 'indices': [101, 116],\n",
      "                                 'name': 'Newcastle University',\n",
      "                                 'screen_name': 'UniofNewcastle'}]},\n",
      " 'favorite_count': 0,\n",
      " 'favorited': False,\n",
      " 'full_text': '@UniofNewcastle r Bonnett Multiple racializations in a multiply '\n",
      "              'modern world https://t.co/PcpdHjw86p @UniofNewcastle',\n",
      " 'geo': None,\n",
      " 'id': 832515243918114816,\n",
      " 'id_str': '832515243918114816',\n",
      " 'in_reply_to_screen_name': 'UniofNewcastle',\n",
      " 'in_reply_to_status_id': None,\n",
      " 'in_reply_to_status_id_str': None,\n",
      " 'in_reply_to_user_id': 96741105,\n",
      " 'in_reply_to_user_id_str': '96741105',\n",
      " 'is_quote_status': False,\n",
      " 'lang': 'en',\n",
      " 'place': None,\n",
      " 'possibly_sensitive': False,\n",
      " 'retweet_count': 0,\n",
      " 'retweeted': False,\n",
      " 'source': '<a href=\"https://buffer.com\" rel=\"nofollow\">Buffer</a>',\n",
      " 'truncated': False,\n",
      " 'user': {'contributors_enabled': False,\n",
      "          'created_at': 'Wed Jan 08 11:03:35 +0000 2014',\n",
      "          'default_profile': False,\n",
      "          'default_profile_image': False,\n",
      "          'description': '2020 2-yr Impact Factor 2.755   ERS is the leading '\n",
      "                         'journal for the analysis of race and ethnicity '\n",
      "                         'throughout the world.\\n'\n",
      "                         'Instagram: ers.journal',\n",
      "          'entities': {'description': {'urls': []},\n",
      "                       'url': {'urls': [{'display_url': 'tandfonline.com/ERS',\n",
      "                                         'expanded_url': 'https://www.tandfonline.com/ERS',\n",
      "                                         'indices': [0, 23],\n",
      "                                         'url': 'https://t.co/bre8WUVtKW'}]}},\n",
      "          'favourites_count': 481,\n",
      "          'follow_request_sent': False,\n",
      "          'followers_count': 6430,\n",
      "          'following': False,\n",
      "          'friends_count': 2087,\n",
      "          'geo_enabled': False,\n",
      "          'has_extended_profile': False,\n",
      "          'id': 2281981230,\n",
      "          'id_str': '2281981230',\n",
      "          'is_translation_enabled': False,\n",
      "          'is_translator': False,\n",
      "          'lang': None,\n",
      "          'listed_count': 91,\n",
      "          'location': 'University of Surrey, UK',\n",
      "          'name': 'Ethnic and Racial Studies',\n",
      "          'notifications': False,\n",
      "          'profile_background_color': '000000',\n",
      "          'profile_background_image_url': 'http://abs.twimg.com/images/themes/theme1/bg.png',\n",
      "          'profile_background_image_url_https': 'https://abs.twimg.com/images/themes/theme1/bg.png',\n",
      "          'profile_background_tile': False,\n",
      "          'profile_banner_url': 'https://pbs.twimg.com/profile_banners/2281981230/1627554234',\n",
      "          'profile_image_url': 'http://pbs.twimg.com/profile_images/570507286116700160/Z-XpYfaO_normal.jpeg',\n",
      "          'profile_image_url_https': 'https://pbs.twimg.com/profile_images/570507286116700160/Z-XpYfaO_normal.jpeg',\n",
      "          'profile_link_color': '1B95E0',\n",
      "          'profile_sidebar_border_color': '000000',\n",
      "          'profile_sidebar_fill_color': '000000',\n",
      "          'profile_text_color': '000000',\n",
      "          'profile_use_background_image': False,\n",
      "          'protected': False,\n",
      "          'screen_name': 'ERSjournal',\n",
      "          'statuses_count': 6691,\n",
      "          'time_zone': None,\n",
      "          'translator_type': 'none',\n",
      "          'url': 'https://t.co/bre8WUVtKW',\n",
      "          'utc_offset': None,\n",
      "          'verified': False,\n",
      "          'withheld_in_countries': []}}\n"
     ]
    }
   ],
   "source": [
    "# An example tweet structure"
   ]
  },
  {
   "cell_type": "code",
   "execution_count": null,
   "metadata": {
    "scrolled": true
   },
   "outputs": [],
   "source": [
    "tid_name_sname_org = {}\n",
    "tid_name_sname_retweet = {}\n",
    "\n",
    "# with open(data_root+'second_match/tweets_clean.json', 'r') as ifile:\n",
    "with open(Data_Root+'tweets_v2.json', 'r') as ifile:\n",
    "    for line in ifile:\n",
    "        line = json.loads(line)\n",
    "        tid = line['id_str'] # line['created_at']\n",
    "        if 'retweeted_status' in line:\n",
    "            tid_name_sname_retweet[tid] = (line['user']['name'], line['user']['screen_name'])\n",
    "        else:\n",
    "            # pprint.pprint(line)\n",
    "            tid_name_sname_org[tid] = (line['user']['name'], line['user']['screen_name'])\n",
    "            # tid_date_all[tid] = datetime.strptime(tdate, '%a %b %d %H:%M:%S +0000 %Y')#.strftime(\"%Y-%m-%d\")\n",
    "        \n",
    "with open(Data_Root+'tweets_v2_non_full_text.json', 'r') as ifile:\n",
    "    for line in ifile:\n",
    "        line = json.loads(line)\n",
    "        tid = line['id_str']\n",
    "        if 'retweeted_status' in line:\n",
    "            tid_name_sname_retweet[tid] = (line['user']['name'], line['user']['screen_name'])\n",
    "        else:\n",
    "            tid_name_sname_org[tid] = (line['user']['name'], line['user']['screen_name'])"
   ]
  },
  {
   "cell_type": "code",
   "execution_count": 19,
   "metadata": {
    "scrolled": true
   },
   "outputs": [
    {
     "name": "stdout",
     "output_type": "stream",
     "text": [
      "34362660\n"
     ]
    }
   ],
   "source": [
    "len(tid_name_sname_org)"
   ]
  },
  {
   "cell_type": "code",
   "execution_count": 66,
   "metadata": {},
   "outputs": [
    {
     "data": {
      "text/plain": [
       "43134644"
      ]
     },
     "execution_count": 66,
     "metadata": {},
     "output_type": "execute_result"
    }
   ],
   "source": [
    "len(tid_name_sname_retweet)"
   ]
  },
  {
   "cell_type": "code",
   "execution_count": 67,
   "metadata": {},
   "outputs": [],
   "source": [
    "with open(Data_Root+'tid_name_sname.json', 'w') as ofile:\n",
    "    for tid in tid_name_sname_org:\n",
    "        res = {'tid': tid, 'type': 'org', 'data': tid_name_sname_org[tid]}\n",
    "        ofile.write(json.dumps(res)+'\\n')\n",
    "    for tid in tid_name_sname_retweet:\n",
    "        res = {'tid': tid, 'type': 're', 'data': tid_name_sname_retweet[tid]}\n",
    "        ofile.write(json.dumps(res)+'\\n')"
   ]
  },
  {
   "cell_type": "code",
   "execution_count": 20,
   "metadata": {},
   "outputs": [],
   "source": [
    "tid_name_sname_org = {}\n",
    "tid_name_sname_retweet = {}\n",
    "\n",
    "with open(Data_Root+'tid_name_sname.json', 'r') as ifile:\n",
    "    for line in ifile:\n",
    "        res = json.loads(line)\n",
    "        if res['type'] == 'org':\n",
    "            tid_name_sname_org[res['tid']] = res['data']\n",
    "        else:\n",
    "            tid_name_sname_retweet[res['tid']] = res['data']"
   ]
  },
  {
   "cell_type": "code",
   "execution_count": null,
   "metadata": {},
   "outputs": [],
   "source": [
    "doi_author_list = defaultdict(list)\n",
    "\n",
    "with open(Data_Root+'dois_authors_mag.json', 'r') as ofile:\n",
    "    for row in ofile:\n",
    "        row = json.loads(row)\n",
    "        doi, authors = row['doi'], row['authors']\n",
    "        uniq_authors = defaultdict(lambda: ['', [], ''])\n",
    "        for aid, affi_id, seq, name in authors:\n",
    "            seq = int(seq)\n",
    "            uniq_authors[seq][0] = aid\n",
    "            uniq_authors[seq][1].append(affi_id)\n",
    "            # normalized author name.\n",
    "            uniq_authors[seq][2] = unidecode.unidecode(name).strip()\n",
    "        # could be [1, 2, 4, 6]; [2, 3]\n",
    "        uniq_seqs = sorted(uniq_authors)\n",
    "        # must be: 1, 2, ..., max\n",
    "        if uniq_seqs == list(range(1, len(uniq_seqs)+1)):\n",
    "            last_seq = len(uniq_seqs)\n",
    "            if last_seq == 1:\n",
    "                aid, affi_ids, name = uniq_authors[last_seq]\n",
    "                affis = '|'.join(affi_ids)\n",
    "                doi_author_list[doi].append([aid, affis, last_seq, name, 'solo_author'])\n",
    "            else:\n",
    "                for seq in uniq_authors:\n",
    "                    aid, affi_ids, name = uniq_authors[seq]\n",
    "                    affis = '|'.join(affi_ids)\n",
    "                    if seq == 1:\n",
    "                        doi_author_list[doi].append([aid, affis, seq, name, 'first_position'])\n",
    "                    elif seq == last_seq:\n",
    "                        doi_author_list[doi].append([aid, affis, seq, name, 'last_position'])\n",
    "                    else:\n",
    "                        doi_author_list[doi].append([aid, affis, seq, name, 'middle_position'])"
   ]
  },
  {
   "cell_type": "code",
   "execution_count": null,
   "metadata": {
    "scrolled": false
   },
   "outputs": [],
   "source": [
    "len(doi_author_list)"
   ]
  },
  {
   "cell_type": "code",
   "execution_count": 77,
   "metadata": {
    "scrolled": true
   },
   "outputs": [
    {
     "data": {
      "text/plain": [
       "[['2899491243', '', 1, 'Annie J. Tsay', 'solo_author']]"
      ]
     },
     "execution_count": 77,
     "metadata": {},
     "output_type": "execute_result"
    }
   ],
   "source": [
    "doi_author_list['10.1001/amajethics.2018.1003']"
   ]
  },
  {
   "cell_type": "code",
   "execution_count": 199,
   "metadata": {},
   "outputs": [],
   "source": [
    "author_names = set()\n",
    "for doi in doi_author_list:\n",
    "    for aut in doi_author_list[doi]:\n",
    "        author_name = aut[3]\n",
    "        author_names.add(author_name)"
   ]
  },
  {
   "cell_type": "code",
   "execution_count": 200,
   "metadata": {
    "scrolled": false
   },
   "outputs": [
    {
     "data": {
      "text/plain": [
       "3081657"
      ]
     },
     "execution_count": 200,
     "metadata": {},
     "output_type": "execute_result"
    }
   ],
   "source": [
    "len(author_names)"
   ]
  },
  {
   "cell_type": "code",
   "execution_count": 203,
   "metadata": {},
   "outputs": [],
   "source": [
    "with open(Data_Root+'author_names.txt', 'w') as ofile:\n",
    "    for author_name in author_names:\n",
    "        ofile.write(author_name+'\\n')"
   ]
  },
  {
   "cell_type": "code",
   "execution_count": null,
   "metadata": {},
   "outputs": [],
   "source": [
    "# predict gender based on name using Ford et al.\n",
    "# see `predict_gender.ipynb` (run code using Python 2.7)\n",
    "name_gender = {}\n",
    "with open(Data_Root+'name_gender.txt', 'r') as ifile:\n",
    "    for line in ifile:\n",
    "        # get rid of '\\n' at the end of each line\n",
    "        line = line.strip()\n",
    "        name, gender = line.split('||')\n",
    "        name_gender[name] = gender"
   ]
  },
  {
   "cell_type": "code",
   "execution_count": null,
   "metadata": {
    "scrolled": true
   },
   "outputs": [],
   "source": [
    "len(name_gender)"
   ]
  },
  {
   "cell_type": "code",
   "execution_count": 31,
   "metadata": {},
   "outputs": [],
   "source": [
    "aid_metric = {}\n",
    "with open(Data_Root+'aids_metric_mag.json', 'r') as ofile:\n",
    "    for row in ofile:\n",
    "        row = json.loads(row)\n",
    "        aid, metric = row['aid'], row['metric']\n",
    "        aid_metric[aid] = [int(num) for num in metric]"
   ]
  },
  {
   "cell_type": "code",
   "execution_count": 32,
   "metadata": {},
   "outputs": [
    {
     "data": {
      "text/plain": [
       "3335676"
      ]
     },
     "execution_count": 32,
     "metadata": {},
     "output_type": "execute_result"
    }
   ],
   "source": [
    "len(aid_metric)"
   ]
  },
  {
   "cell_type": "code",
   "execution_count": 16,
   "metadata": {},
   "outputs": [],
   "source": [
    "aid_year_paper_count = {}\n",
    "with open(Data_Root+'aid_year_paper_count.json', 'r') as ofile:\n",
    "    for row in ofile:\n",
    "        row = json.loads(row)\n",
    "        aid, paper_cn = row['aid'], row['paper_cn']\n",
    "        aid_year_paper_count[aid] = paper_cn"
   ]
  },
  {
   "cell_type": "code",
   "execution_count": 17,
   "metadata": {},
   "outputs": [
    {
     "data": {
      "text/plain": [
       "3334118"
      ]
     },
     "execution_count": 17,
     "metadata": {},
     "output_type": "execute_result"
    }
   ],
   "source": [
    "len(aid_year_paper_count)"
   ]
  },
  {
   "cell_type": "code",
   "execution_count": 19,
   "metadata": {},
   "outputs": [
    {
     "data": {
      "text/plain": [
       "{'2015': 7,\n",
       " '2010': 2,\n",
       " '2013': 1,\n",
       " '2011': 1,\n",
       " '2014': 4,\n",
       " '2008': 1,\n",
       " '2005': 2,\n",
       " '2003': 1,\n",
       " '2012': 3,\n",
       " '2016': 8,\n",
       " '2017': 7,\n",
       " '2018': 16}"
      ]
     },
     "execution_count": 19,
     "metadata": {},
     "output_type": "execute_result"
    }
   ],
   "source": [
    "aid_year_paper_count['2704166667']"
   ]
  },
  {
   "cell_type": "code",
   "execution_count": 34,
   "metadata": {},
   "outputs": [],
   "source": [
    "aid_cites_upto_2017 = {}\n",
    "\n",
    "with open(Data_Root+'aid_cites_upto_2017.json', 'r') as ofile:\n",
    "    for row in ofile:\n",
    "        row = json.loads(row)\n",
    "        aid, cites = row['aid'], row['cites']\n",
    "        aid_cites_upto_2017[aid] = cites"
   ]
  },
  {
   "cell_type": "code",
   "execution_count": 35,
   "metadata": {},
   "outputs": [
    {
     "data": {
      "text/plain": [
       "3335676"
      ]
     },
     "execution_count": 35,
     "metadata": {},
     "output_type": "execute_result"
    }
   ],
   "source": [
    "len(aid_cites_upto_2017)"
   ]
  },
  {
   "cell_type": "code",
   "execution_count": 31,
   "metadata": {},
   "outputs": [],
   "source": [
    "def get_author_name(name):\n",
    "    words = name.split()\n",
    "    if len(words) <= 1:\n",
    "        payload = 'invalid'\n",
    "    else:\n",
    "        payload = {'Fname': words[0], 'Lname': words[-1]}\n",
    "    return payload\n",
    "\n",
    "def check_match_author(tname_tuple, name_tupe):\n",
    "    hname, sname = tname_tuple\n",
    "    hname = unidecode.unidecode(hname).lower()\n",
    "    sname = unidecode.unidecode(sname).lower()\n",
    "    htokens, stokens = [hname], [sname]\n",
    "    if ' ' in hname:\n",
    "        htokens = hname.split(' ')\n",
    "    elif '_' in hname:\n",
    "        htokens = hname.split('_')\n",
    "    if ' ' in sname:\n",
    "        stokens = sname.split(' ')\n",
    "    elif '_' in sname:\n",
    "        stokens = sname.split('_')\n",
    "    tokens = htokens + stokens\n",
    "    fname, lname = name_tupe['Fname'], name_tupe['Lname']\n",
    "    fname = fname.lower()\n",
    "    lname = lname.lower()\n",
    "    if len(tokens) > 2:\n",
    "        # don't use first name if it is initial. e.g., True 3 M. B. Mendonca (Plecoforum.nl)\n",
    "        if (len(fname) == 1) or (len(fname) == 2 and fname[-1] == '.'):\n",
    "            if lname in tokens:\n",
    "                return True\n",
    "        else:\n",
    "            if (fname in tokens) or (lname in tokens):\n",
    "                return True\n",
    "        return False\n",
    "    # both user name and screen name are single-token string: use containment matching only for names with >= 4 chars.\n",
    "    else:\n",
    "        if len(fname) >= 4:\n",
    "            if (fname in hname) or (fname in sname):\n",
    "                return True\n",
    "        if len(lname) >= 4:\n",
    "            if (lname in hname) or (lname in sname):\n",
    "                return True\n",
    "        return False"
   ]
  },
  {
   "cell_type": "markdown",
   "metadata": {},
   "source": [
    "### Evaluate the simple matching heuristic"
   ]
  },
  {
   "cell_type": "code",
   "execution_count": 154,
   "metadata": {},
   "outputs": [],
   "source": [
    "# valid_dois = []\n",
    "\n",
    "# for doi in paper_li:\n",
    "#     paper = paper_li[doi]\n",
    "#     mtids = [tweet['tweet_id'] for tweet in paper['tweets'] if tweet['tweet_id'] in tid_name_sname]\n",
    "#     # at least one tweet\n",
    "#     if len(mtids) >= 1:\n",
    "#         valid_dois.append(doi)"
   ]
  },
  {
   "cell_type": "code",
   "execution_count": 282,
   "metadata": {
    "scrolled": false
   },
   "outputs": [
    {
     "data": {
      "text/plain": [
       "946289"
      ]
     },
     "execution_count": 282,
     "metadata": {},
     "output_type": "execute_result"
    }
   ],
   "source": [
    "len(valid_dois)"
   ]
  },
  {
   "cell_type": "code",
   "execution_count": 573,
   "metadata": {},
   "outputs": [],
   "source": [
    "dois = sample(valid_dois, 100)"
   ]
  },
  {
   "cell_type": "code",
   "execution_count": 580,
   "metadata": {
    "scrolled": true
   },
   "outputs": [
    {
     "name": "stdout",
     "output_type": "stream",
     "text": [
      "\n",
      "Found authors for this paper, checking each author. DOI: 10.4269/ajtmh.16-0978\n",
      "945971792690208768 ('Bill Tropical Health', 'bbbrieger')\n",
      "  False\t2 Harihar Sahoo\n",
      "  False\t4 Kailash Chandra Das\n",
      "  False\t1 Dipti Govil\n",
      "  False\t3 Sarang P. Pedgaonkar\n",
      "  False\t5 Hemkhothang Lhungdim\n",
      "\n",
      "Found authors for this paper, checking each author. DOI: 10.1016/j.celrep.2018.09.003\n",
      "1047939680543494144 ('micropapers', 'micro_papers')\n",
      "1048660430309220352 ('Immunology of Infectious Disease News', 'infdisease_news')\n",
      "1049045701664149504 ('Atanas G. Atanasov', '_atanas_')\n",
      "1049400372035506176 ('Neural Cell News', 'NeuralCell')\n",
      "1052257909705531392 ('Cell Reports', 'CellReports')\n",
      "1133006149144514560 ('Oliver Härschnitz', 'harschnitz')\n",
      "  False\t16 Martin Stangel\n",
      "  False\t15 Frank Bradke\n",
      "  False\t17 Ulrich Kalinke\n",
      "  False\t11 Chittappen K. Prajeeth\n",
      "  False\t3 Elena Grabski\n",
      "  False\t1 Chintan Chhatbar\n",
      "  False\t4 Katharina Borst\n",
      "  False\t2 Claudia N. Detje\n",
      "  False\t12 Viktoria Gudi\n",
      "  False\t13 Michael A. Klein\n",
      "  False\t5 Julia Spanier\n",
      "  False\t14 Marco Prinz\n",
      "  False\t8 Marta Joana Costa Jordao\n",
      "  False\t7 David A. Elliott\n",
      "  False\t9 Nora Mueller\n",
      "  False\t10 James Sutton\n",
      "  False\t6 Luca Ghita\n",
      "\n",
      "Found authors for this paper, checking each author. DOI: 10.1029/2018gl079060\n",
      "1049365071502233601 ('AGU (American Geophysical Union)', 'theAGU')\n",
      "  False\t1 Takeshi Nishimura\n",
      "\n",
      "Found authors for this paper, checking each author. DOI: 10.3174/ajnr.a5833\n",
      "1051349332723552256 ('Rajkamal Khangura MD', 'RealRajkamal')\n",
      "  False\t12 D. Saloner\n",
      "  False\t1 M.R. Amans\n",
      "  False\t7 J. Leach\n",
      "  False\t11 W. Smith\n",
      "  False\t2 H. Haraldsson\n",
      "  False\t9 F. Faraji\n",
      "  False\t8 N.D. Jani\n",
      "  False\t5 K. Meisel\n",
      "  False\t10 M. Ballweber\n",
      "  False\t3 E. Kao\n",
      "  False\t4 S. Kefayati\n",
      "  True\t6 R. Khangura (Rajkamal Khangura MD)\n",
      "\n",
      "Found authors for this paper, checking each author. DOI: 10.5209/reciem.61459\n",
      "1051762273763635200 ('Ediciones de la Torre', 'Ed_delaTorre')\n",
      "  False\t1 Maria Elena Riano Galan\n",
      "\n",
      "No author info for this paper, skip.\n",
      "\n",
      "Found authors for this paper, checking each author. DOI: 10.3847/1538-3881/aaa292\n",
      "905953121876283392 ('Joey Rodriguez', 'Astro_JRod')\n",
      "905954594680922114 ('John #comscicon21 Lewis', 'astrojthe3')\n",
      "905966360626434048 ('Starship Engineers', 'StarshipBuilder')\n",
      "905969819610112001 ('Meg Schwamb', 'megschwamb')\n",
      "906151302538952704 ('Harold Geller', 'AstroBioProf')\n",
      "906158105905565696 ('Joaquín García', 'GarciafXimo')\n",
      "906160198548688896 ('Joaquín García', 'GarciafXimo')\n",
      "906439630677008384 ('Dr Michael Reidinger', 'scimichael')\n",
      "917439096808542209 ('Kepler/K2 GO Office', 'KeplerGO')\n",
      "917476549116522502 ('Joaquín García', 'GarciafXimo')\n",
      "934738066727686144 ('Joaquín García', 'GarciafXimo')\n",
      "942570116117536768 ('Multiverse', '140GeV')\n",
      "954229112192864256 ('AfricaAstronomy', 'AfricaAstronomy')\n",
      "967105935607963648 ('Prof. Abel Méndez', 'ProfAbelMendez')\n",
      "967143445134536704 ('Joaquín García', 'GarciafXimo')\n",
      "969658864131018752 ('Daniel Fischer', 'cosmos4u')\n",
      "  False\t6 David R. Ciardi\n",
      "  False\t3 Jason D. Eastman\n",
      "  False\t8 Samuel N. Quinn\n",
      "  False\t2 Andrew Vanderburg\n",
      "  False\t7 David W. Latham\n",
      "  False\t4 Andrew W. Mann\n",
      "  False\t5 Ian J. M. Crossfield\n",
      "  True\t1 Joseph E. Rodriguez (Joey Rodriguez)\n",
      "\n",
      "Found authors for this paper, checking each author. DOI: 10.3390/molecules23020500\n",
      "967746326032154624 ('MDPI', 'MDPIOpenAccess')\n",
      "  False\t3 Aminu Kura\n",
      "  False\t4 Sharida Fakurazi\n",
      "  False\t5 Mas Masarudin\n",
      "  False\t2 Mohd Hussein\n",
      "  False\t6 Fathinul Ahmad Saad\n",
      "  False\t1 Muhammad Usman\n",
      "\n",
      "Found authors for this paper, checking each author. DOI: 10.1016/j.cma.2017.08.027\n",
      "927471069920923653 ('Jacobo Ayensa', 'JacoboAJ')\n",
      "927598083604656128 ('Carlos Baquero', 'CBM4_')\n",
      "  False\t3 Jose A. Sanz-Herrera\n",
      "  False\t4 Manuel Doblare\n",
      "  False\t2 Mohamed H. Doweidar\n",
      "  True\t1 Jacobo Ayensa-Jimenez (Jacobo Ayensa)\n",
      "\n",
      "No author info for this paper, skip.\n",
      "\n",
      "Found authors for this paper, checking each author. DOI: 10.1136/bmjsem-2018-000415\n",
      "1049315287563218944 ('Diploma MSc SEM', 'DiplomaSEM')\n",
      "1049792813603274752 ('Craig Payne', 'CraigBPayne')\n",
      "1051048765359104001 ('Rituraj Patwardhan', 'RiturajP')\n",
      "1051231700104155136 ('Jan-Andreas Fosnæs', 'OsteopatJan')\n",
      "1051348591829282816 ('Simon Bartold (Bartold Clinical)', 'bartoldbiomecha')\n",
      "1051364205453041664 ('Akiva Lieberman', 'kiva_liebo')\n",
      "1053225290422476800 ('Physio Meets Science', 'PhysioMeScience')\n",
      "1071402186482032640 ('Maarten Moen', 'MaartenMh')\n",
      "1071579782419243010 ('Scott Epsley', 'ScottEpsley')\n",
      "1133622723714998272 ('Achilles Tendons', 'Seth0Neill')\n",
      "1133648642915438592 ('Daniel Walkley', 'TendonImaging')\n",
      "1133724062721617920 ('Greg Fritz, PT, DPT, RMSK', 'gregfritzpt')\n",
      "1133732324598779906 ('James Noake', 'DrJN_SportsMed')\n",
      "1133820411697868801 ('Sana Sameer', 'SanaSameer13')\n",
      "1133857566973485058 ('Anu singh', 'asingh4718')\n",
      "  False\t1 Finn Johannsen\n",
      "  False\t2 Signe Jensen\n",
      "  False\t3 Eva Wetke\n",
      "\n",
      "Found authors for this paper, checking each author. DOI: 10.1016/j.jmgm.2018.06.005\n",
      "1010518735512375296 ('David Koes', 'david_koes')\n",
      "1011559086100377602 ('BioNetPapers', 'bionet_papers')\n",
      "1013260469002387456 ('kzfm', 'fmkz___')\n",
      "1013500954409201664 ('品禰意魚', 'nwolovefeel')\n",
      "  True\t5 David Ryan Koes (David Koes)\n",
      "  False\t4 Matthew Ragoza\n",
      "  False\t1 Joshua Hochuli\n",
      "  False\t3 Tamar Skaist\n",
      "  False\t2 Alec Helbling\n",
      "\n",
      "Found authors for this paper, checking each author. DOI: 10.1093/ejcts/ezx297\n",
      "915162490299994112 ('doug west', 'duggiewest')\n",
      "  False\t9 Vito Domenico Bruno\n",
      "  False\t4 Eveline Internullo\n",
      "  True\t10 Douglas George West (doug west)\n",
      "  False\t2 Gianluca Casali\n",
      "  False\t6 Natasha Joshi\n",
      "  False\t8 Frances Warden\n",
      "  False\t7 Samson Egbulonu\n",
      "  False\t3 Timothy James Peacock Batchelor\n",
      "  False\t1 Udo Abah\n",
      "  False\t5 Rakesh Krishnadas\n",
      "\n",
      "Found authors for this paper, checking each author. DOI: 10.3389/fped.2018.00380\n",
      "1066874178496856064 ('Dr Clint Miller', '_clintmiller')\n",
      "1067266766378815488 ('Dr Clint Miller', '_clintmiller')\n",
      "1067961344215801856 ('Dr Clint Miller', '_clintmiller')\n",
      "1072494474381660161 ('Kim Lu', 'KimLuMD')\n",
      "1072536508576468992 ('Frontiers in Pediatrics', 'FrontPediatrics')\n",
      "1079031882568871936 ('Marita Hennessy', 'MaritaHennessy')\n",
      "1126600387794853888 ('Kim Lu', 'KimLuMD')\n",
      "1133538448273358848 ('Dr Clint Miller', '_clintmiller')\n",
      "  False\t4 Shlomit Radom-Aizik\n",
      "  False\t3 Fadia Haddad\n",
      "  True\t1 Kim D Lu (Kim Lu)\n",
      "  False\t2 Dan M Cooper\n",
      "\n",
      "Found authors for this paper, checking each author. DOI: 10.1103/physrevlett.120.191103\n",
      "964525846433185792 ('Hogwarts Science', 'HogwartsScience')\n",
      "964888219790667776 ('Hogwarts Science', 'HogwartsScience')\n",
      "965235545075892231 ('Hogwarts Science', 'HogwartsScience')\n",
      "965972707371376640 ('katie breivik', 'spacetimekatie')\n",
      "984155181137801216 ('Hogwarts Science', 'HogwartsScience')\n",
      "995115728058638337 ('Daniel Fischer', 'cosmos4u')\n",
      "995559368795021312 ('Yuxing Sun', 'SigP226')\n",
      "  False\t6 Frederic A Rasio\n",
      "  False\t4 Carl L. Rodriguez\n",
      "  True\t3 Katelyn Breivik (katie breivik)\n",
      "  False\t5 Shane Louis Larson\n",
      "  False\t1 Kyle Kremer\n",
      "  False\t2 Sourav Chatterjee\n",
      "\n",
      "Found authors for this paper, checking each author. DOI: 10.1007/s00238-017-1371-2\n",
      "941329659836461056 ('Eur J Plast Surg', 'EurJPlastSurg')\n",
      "  False\t5 Rolf Gemperli\n",
      "  False\t3 Alberto Okada\n",
      "  False\t2 Thiago Ueda\n",
      "  False\t1 Eduardo Montag\n",
      "  False\t4 Bruno Onishi\n",
      "\n",
      "Found authors for this paper, checking each author. DOI: 10.1097/rlu.0000000000002249\n",
      "1178633859795046400 ('ClinNucMed', 'ClinNuclearMed')\n",
      "  False\t1 Laura Evangelista\n",
      "  False\t2 Alessandra Zorz\n",
      "\n",
      "No author info for this paper, skip.\n",
      "\n",
      "Found authors for this paper, checking each author. DOI: 10.1007/s10508-017-0982-9\n",
      "849697590207803392 ('Rose Robbins', 'aRoseRobbins')\n",
      "852263497216008192 ('Dr. Cynthia Graham', 'cygraham_graham')\n",
      "853027669193011201 ('Justin Lehmiller', 'JustinLehmiller')\n",
      "855074069531815936 ('Zhana Vrangalova PhD', 'DrZhana')\n",
      "858750404133355525 ('Justin Lehmiller', 'JustinLehmiller')\n",
      "858785552967106560 ('Health Literacy', 'Hlth_Literacy')\n",
      "858785552941953026 ('HIV Insight', 'HIV_Insight')\n",
      "858785553239748608 ('Why_We_Do_That', 'Why_We_Do_That')\n",
      "868034025142837248 ('Health Literacy', 'Hlth_Literacy')\n",
      "868034026120105985 ('Why_We_Do_That', 'Why_We_Do_That')\n",
      "868034026287792129 ('HIV Insight', 'HIV_Insight')\n",
      "1003663960019783680 ('Marianne Brandon', 'drbrandon')\n",
      "1005849632159780865 ('Marianne Brandon', 'drbrandon')\n",
      "  False\t2 Elke D. Reissing\n",
      "  True\t1 Anne-Rose Robbins (Rose Robbins)\n",
      "\n",
      "Found authors for this paper, checking each author. DOI: 10.1007/s10517-018-4079-9\n",
      "986245895669690368 ('ovaryPCDpapers', 'ovPCD_papers')\n",
      "  False\t2 S. I. Kolesnikov\n",
      "  False\t1 S. V. Michurina\n",
      "  False\t5 I. Yu. Ishchenko\n",
      "  False\t4 S. A. Arkhipov\n",
      "  False\t3 A. L. Bochkareva\n",
      "\n",
      "Found authors for this paper, checking each author. DOI: 10.1039/c8tb00193f\n",
      "988836010120433664 ('African Synchrotron', 'AfSynchrotron')\n",
      "  False\t3 Peng Miao\n",
      "  False\t8 Yuguo Tang\n",
      "  False\t9 Wen-Fei Dong\n",
      "  False\t5 Zhimin Chang\n",
      "  False\t6 Mingfeng Ge\n",
      "  False\t2 Minghui Zan\n",
      "  False\t1 Xingwang Qie\n",
      "  False\t7 Ping Gui\n",
      "  False\t4 Li Li\n",
      "\n",
      "Found authors for this paper, checking each author. DOI: 10.1016/j.yjmcc.2018.07.127\n",
      "1021714844502777857 ('epigenetics_papers', 'epigen_papers')\n",
      "  False\t2 Rimpy Dhingra\n",
      "  False\t3 Lorrie A. Kirshenbaum\n",
      "  False\t1 Inna Rabinovich-Nikitin\n",
      "\n",
      "Found authors for this paper, checking each author. DOI: 10.1021/acs.nanolett.8b02981\n",
      "1004216574738292737 ('Condensed Matter', 'CondensedPapers')\n",
      "  False\t13 Erik P.A.M. Bakkers\n",
      "  False\t9 Floris A. Zwanenburg\n",
      "  False\t12 Marcel A. Verheijen\n",
      "  False\t2 Jie Shen\n",
      "  False\t3 Rafal J. Skolasinski\n",
      "  False\t8 Joost Ridderbos\n",
      "  False\t7 Michael Wimmer\n",
      "  False\t1 Folkert K. de Vries\n",
      "  False\t11 Sebastian Koelling\n",
      "  False\t5 Daniel Varjas\n",
      "  False\t14 Leo P. Kouwenhoven\n",
      "  False\t6 Lin Wang\n",
      "  False\t10 Ang Li\n",
      "  False\t4 Michal P. Nowak\n",
      "\n",
      "Found authors for this paper, checking each author. DOI: 10.1080/02691728.2018.1466933\n",
      "990753840302407680 ('PhilSci-Archive', 'PhilSciArchive')\n",
      "1002206761586253824 ('Slobodan Perovic', 'SlobodanIsFree')\n",
      "  True\t1 Slobodan Perovic (Slobodan Perovic)\n",
      "\n",
      "Found authors for this paper, checking each author. DOI: 10.1039/c8tb01063c\n",
      "999617419764207616 ('African Synchrotron', 'AfSynchrotron')\n",
      "1013298866391638016 ('daniel korenblum', 'katchwreck')\n",
      "1058189921209397248 ('daniel korenblum', 'katchwreck')\n",
      "1103689295204884481 ('J. Mater. Chem. family', 'JMaterChem')\n",
      "  False\t1 Minjeong Ha\n",
      "  False\t2 Seongdong Lim\n",
      "  False\t3 Hyunhyub Ko\n",
      "\n",
      "Found authors for this paper, checking each author. DOI: 10.1016/j.pec.2017.11.009\n",
      "933828774910558209 ('PEC Journal', 'PECthejournal')\n",
      "938902577495674881 ('PEC Journal', 'PECthejournal')\n",
      "  False\t6 Margreet Scharloo\n",
      "  False\t7 Mathilde R. Crone\n",
      "  False\t3 Niels H. Chavannes\n",
      "  False\t2 Marjolein E.A. Verbiest\n",
      "  False\t1 Eline Meijer\n",
      "  False\t5 Willem J.J. Assendelft\n",
      "  False\t4 Ad A. Kaptein\n",
      "\n",
      "Found authors for this paper, checking each author. DOI: 10.1016/j.pocean.2018.09.002\n",
      "1038379954738790400 ('POPapers', 'geomatlab')\n",
      "1038397558673031168 ('Marine Sciences Feed', 'oceanologia')\n",
      "1038407950124154880 ('@FishJournals', 'FishJournals')\n",
      "  False\t3 Tobias Bostrom\n",
      "  False\t2 Matilde Skogen Chauton\n",
      "  False\t1 Anni Maria Lehmuskero\n",
      "\n",
      "Found authors for this paper, checking each author. DOI: 10.1111/fme.12275\n",
      "984935160851435520 ('Colin Bean', 'ProfColinBean')\n",
      "  False\t1 P. Jurajda\n",
      "  False\t2 K. Roche\n",
      "  False\t5 J. Zukal\n",
      "  False\t4 M. Mrkvova\n",
      "  False\t3 K. Halacka\n",
      "\n",
      "Found authors for this paper, checking each author. DOI: 10.1007/s11192-018-2942-0\n",
      "1057257762898563074 ('Vincent Traag', 'vtraag')\n",
      "  False\t1 Georg P. Mueller\n",
      "\n",
      "Found authors for this paper, checking each author. DOI: 10.1111/rda.13198\n",
      "993942090017947648 ('goatpapers', 'goat_papers')\n",
      "  False\t2 Nl Selokar\n",
      "  False\t8 Rs Manik\n",
      "  False\t6 P Palta\n",
      "  False\t7 Sk Singla\n",
      "  False\t3 M Saini\n",
      "  False\t4 Mk Singh\n",
      "  False\t1 H Agrawal\n",
      "\tSkip author due to invalid name for this paper.\n",
      "\n",
      "Found authors for this paper, checking each author. DOI: 10.1002/ajmg.b.32573\n",
      "931187112023531520 ('NeuroGenetics papers', 'NeuroGen_papers')\n",
      "1026788329226817537 ('mypapers', 'lp_mypapers')\n",
      "  False\t10 Yongyong Shi\n",
      "  False\t8 Dajiang Lu\n",
      "  False\t4 Weiming Sun\n",
      "  False\t7 Weidong Li\n",
      "  False\t2 Jianhua Chen\n",
      "  False\t5 Boyu Chen\n",
      "  False\t1 Lin Wang\n",
      "  False\t6 Sining Li\n",
      "  False\t9 Yonggang Wang\n",
      "  False\t3 Zhiqiang Li\n",
      "\n",
      "Found authors for this paper, checking each author. DOI: 10.1101/380964\n",
      "1024414541231411200 ('bioRxiv', 'biorxivpreprint')\n",
      "1024414970577084418 ('Eric Chevet', 'Eric_Chevet')\n",
      "1024416053634379776 ('LiteratureFeed', 'LiteratureFeed')\n",
      "1024417194128490496 ('bxv_canc', 'bxv_canc')\n",
      "1024418438477799424 ('Ribosome Papers', 'ribosome_papers')\n",
      "  False\t2 Kay Minn\n",
      "  False\t3 Jeremy Chien\n",
      "  False\t1 Prabhakar Bastola\n",
      "\n",
      "Found authors for this paper, checking each author. DOI: 10.3390/ijms19061585\n",
      "1020313385404125184 ('Thomas Brody', 'interactivefly')\n",
      "1020582209324019712 ('Alessia Soldano', 'Aleintheworld')\n",
      "  False\t2 Anthony M. Brumby\n",
      "  False\t3 Helena E. Richardson\n",
      "  False\t1 Carole L.C. Poon\n",
      "\n",
      "Found authors for this paper, checking each author. DOI: 10.1021/acs.organomet.8b00523\n",
      "1044567963280400385 ('Inorganic News', 'InorganicNews')\n",
      "1113433511590014976 ('Organometallics', 'Orgmet_ACS')\n",
      "1113433527918518273 ('Inorganic Chemistry', 'InorgChem')\n",
      "  False\t4 Joseph W. Ziller\n",
      "  False\t6 William J. Evans\n",
      "  False\t5 Jeffrey R. Long\n",
      "  False\t2 Lucy E. Darago\n",
      "  False\t1 Chad T. Palumbo\n",
      "  False\t3 Megan T. Dumas\n",
      "\n",
      "Found authors for this paper, checking each author. DOI: 10.1016/j.jpurol.2018.02.008\n",
      "973345963812143104 ('ESPU', 'ESPUorg')\n",
      "  False\t1 Magdalena Okarska-Napierala\n",
      "  False\t2 Anna Wasilewska\n",
      "  False\t3 Ernest Kuchar\n",
      "\n",
      "Found authors for this paper, checking each author. DOI: 10.1039/c7sm02547e\n",
      "958756943274889216 ('BlackPhysicists', 'BlackPhysicists')\n",
      "  False\t3 Tomas S. Plivelic\n",
      "  False\t4 Maria C. Goncalves\n",
      "  False\t1 Laura C. E. da Silva\n",
      "  False\t2 Luiz G. L. Germiniani\n",
      "\n",
      "Found authors for this paper, checking each author. DOI: 10.1016/j.fgb.2017.11.004\n",
      "932964831455363072 ('yeast_papers', 'yeast_papers')\n",
      "  False\t2 Stephen M. Marek\n",
      "  False\t1 Kihyuck Choi\n",
      "\n",
      "Found authors for this paper, checking each author. DOI: 10.1353/cri.2016.0101\n",
      "1004735140721881088 ('University of Washington Press', 'UWAPress')\n",
      "  False\t1 Bingyu Zheng\n",
      "\n",
      "Found authors for this paper, checking each author. DOI: 10.1104/pp.17.00713\n",
      "925663745061347333 ('Kleine-Vehn Lab', 'KleineVehnLab')\n",
      "925670947293626368 ('Robert group', 'SRobertGroup')\n",
      "  False\t5 Corrado Viotti\n",
      "  False\t7 Markus Grebe\n",
      "  False\t1 Moritaka Nakamura\n",
      "  False\t6 Yoshihisa Ikeda\n",
      "  False\t2 Andrea R. Claes\n",
      "  False\t4 Rebecca Hermkes\n",
      "  False\t3 Tobias Grebe\n",
      "\n",
      "Found authors for this paper, checking each author. DOI: 10.3389/fneur.2018.00914\n",
      "1056668691813695490 ('Frontiers Neurology', 'FrontNeurol')\n",
      "  False\t4 Blandine Acket\n",
      "  False\t1 Nicolas Raposo\n",
      "  False\t5 Francois Chollet\n",
      "  False\t3 Vanessa Rousseau\n",
      "  False\t2 Jean Francois Albucher\n",
      "  False\t6 Jean Marc Olivot\n",
      "\n",
      "Found authors for this paper, checking each author. DOI: 10.3390/jcm7110426\n",
      "1060797405811994624 ('JCM MDPI', 'JCM_MDPI')\n",
      "  False\t11 Frederic Lezot\n",
      "  False\t8 Francoise Redini\n",
      "  False\t4 Jerome Amiaud\n",
      "  False\t6 Hideo Yagita\n",
      "  False\t10 Beatriz Castaneda\n",
      "  False\t1 Benjamin Navet\n",
      "  False\t5 Yongwon Choi\n",
      "  False\t9 Dominique Heymann\n",
      "  False\t3 Andrea Gama\n",
      "  False\t7 Christopher G. Mueller\n",
      "  False\t2 Jorge William Vargas-Franco\n",
      "\n",
      "Found authors for this paper, checking each author. DOI: 10.1600/036364418x696914\n",
      "993859695063560193 ('American Society of Plant Taxonomists', 'AmSocPlantTaxon')\n",
      "  False\t2 Claudia Monti\n",
      "  False\t3 Nestor D. Bayon\n",
      "  False\t1 Susana E. Freire\n",
      "  False\t4 Maria A. Migoya\n",
      "\n",
      "Found authors for this paper, checking each author. DOI: 10.1038/s41598-018-24910-1\n",
      "989208286518886400 ('Quorum Sensing', 'QSPapers')\n",
      "989208915991658496 ('LeMID', 'LeicesterMID')\n",
      "  False\t6 Oscar P. Kuipers\n",
      "  False\t9 Hasan Yesilkaya\n",
      "  False\t4 Irfan Manzoor\n",
      "  False\t7 N. Luisa Hiller\n",
      "  False\t5 Sulman Shafeeq\n",
      "  False\t8 Peter W. Andrew\n",
      "  False\t1 Xiangyun Zhi\n",
      "  False\t2 Iman Tajer Abdullah\n",
      "  False\t3 Ozcan Gazioglu\n",
      "\n",
      "Found authors for this paper, checking each author. DOI: 10.1038/s41467-018-07571-6\n",
      "988232757003272192 ('Condensed Matter', 'CondensedPapers')\n",
      "1068484607891390464 ('Juan Bisquert', 'physolcell')\n",
      "1068824480246624257 ('BlackPhysicists', 'BlackPhysicists')\n",
      "  False\t3 Sven Huettner\n",
      "  True\t4 Juan Bisquert (Juan Bisquert)\n",
      "  False\t1 Cheng Li\n",
      "  False\t2 Antonio Guerrero\n",
      "\n",
      "Found authors for this paper, checking each author. DOI: 10.1152/physiolgenomics.00044.2018\n",
      "1048525538288009216 ('myEvolutionPapers', 'myEvolPapers')\n",
      "1048603925538983936 ('Transcriptomes', 'transcriptomes')\n",
      "1068581504328974336 ('Morris Animal Foundation', 'Morris_Animal')\n",
      "1077242276475211781 ('Physiological Genomics', 'PhysiologicalG')\n",
      "  False\t2 Sudeep Perumbakkam\n",
      "  False\t4 Carrie J. Finno\n",
      "  False\t3 Erica C. McKenzie\n",
      "  False\t1 Stephanie J. Valberg\n",
      "\n",
      "Found authors for this paper, checking each author. DOI: 10.1002/chem.201705885\n",
      "953550045038686208 ('Chemistry', 'ChemEurJ')\n",
      "  False\t4 Jingsan Xu\n",
      "  False\t6 Lidong Li\n",
      "  False\t1 Qian Cao\n",
      "  False\t3 Yu Yang\n",
      "  False\t5 Chenhui Han\n",
      "  False\t2 Qianling Cui\n",
      "\n",
      "Found authors for this paper, checking each author. DOI: 10.1038/s41598-018-33844-7\n",
      "1055924081315508224 ('BlackPhysicists', 'BlackPhysicists')\n",
      "  False\t3 G. Li\n",
      "  False\t15 S. Y. Wang\n",
      "  False\t17 W. M. Zhou\n",
      "  False\t10 J. Yang\n",
      "  False\t19 Y. Q. Gu\n",
      "  False\t8 Y. Yang\n",
      "  False\t16 Z. Q. Zhao\n",
      "  False\t2 B. Zhu\n",
      "  False\t1 Y. C. Wu\n",
      "  False\t4 X. H. Zhang\n",
      "  False\t18 L. F. Cao\n",
      "  False\t11 Y. H. Yan\n",
      "  False\t13 W. Fan\n",
      "  False\t12 F. Tan\n",
      "  False\t5 M. H. Yu\n",
      "  False\t9 B. Bi\n",
      "  False\t14 F. Lu\n",
      "  False\t6 K. G. Dong\n",
      "  False\t7 T. K. Zhang\n",
      "\n",
      "Found authors for this paper, checking each author. DOI: 10.1257/app.20160556\n",
      "1042775133805404160 ('AEA Journals', 'AEAjournals')\n",
      "1042775925115547649 ('Jonathan Heath', 'JonathanHeath54')\n",
      "1042796624009940994 ('Dr Arvind Virmani', 'dravirmani')\n",
      "1042891422335217664 ('stefano gori', 'stefgori73')\n",
      "1048699439894880256 ('Ninja Economics', 'NinjaEconomics')\n",
      "1048857169679069184 ('Patrice Ayme', 'Tyranosopher')\n",
      "1103284034313113606 ('Edu P.', '_EduardoPolo')\n",
      "  False\t1 Abel Brodeur\n",
      "\n",
      "Found authors for this paper, checking each author. DOI: 10.1080/19336918.2017.1291481\n",
      "958299647159697408 ('Dityatev Lab', 'DityatevL')\n",
      "962007589520207874 ('Jon Humphries', 'JDHL18')\n",
      "  False\t4 Vincent Lelievre\n",
      "  False\t2 Nikolaos Dokalis\n",
      "  False\t1 Lea Roumazeilles\n",
      "  False\t3 Eva Kaulich\n",
      "\n",
      "Found authors for this paper, checking each author. DOI: 10.1016/j.bbamcr.2018.04.005\n",
      "986453449691877376 ('Leonardo Mirandola', 'Leo_neTM')\n",
      "985886577917382656 ('Henning', 'GlycoMedX')\n",
      "  False\t14 Steven M. Kornblau\n",
      "  False\t15 Michael Andreeff\n",
      "  False\t1 Peter P. Ruvolo\n",
      "  False\t6 Elizabeth J. Shpall\n",
      "  False\t10 Teresa McQueen\n",
      "  False\t12 Sean M. Post\n",
      "  True\t7 Leonardo Mirandola (Leonardo Mirandola)\n",
      "  False\t3 Jared K. Burks\n",
      "  False\t4 Yi Hua Qiu\n",
      "  False\t8 Numsen Hail\n",
      "  False\t11 Naval Daver\n",
      "  False\t9 Zhihong Zeng\n",
      "  False\t2 Vivian R. Ruvolo\n",
      "  False\t13 Maurizio Chiriva-Internati\n",
      "  False\t5 Rui Yu Wang\n",
      "\n",
      "Found authors for this paper, checking each author. DOI: 10.1016/j.apenergy.2018.05.132\n",
      "1026151009175973888 ('Development UEA', 'developmentuea')\n",
      "1027478906180456448 ('Global Water Forum', 'GWFWater')\n",
      "  False\t3 Jim W. Hall\n",
      "  False\t4 Dabo Guan\n",
      "  False\t2 Xu Zhao\n",
      "  False\t1 Xiawei Liao\n",
      "\n",
      "Found authors for this paper, checking each author. DOI: 10.2147/copd.s156130\n",
      "996359882805784576 ('American Thoracic #ATS2021', 'atscommunity')\n",
      "1001523933814906880 ('American Thoracic #maskUp', 'atscommunity')\n",
      "  False\t8 Hojoong Kim\n",
      "  False\t6 Su Yeon Lee\n",
      "  False\t11 Hye Yun Park\n",
      "  False\t3 Juhee Cho\n",
      "  False\t10 Eun Kyoung Kim\n",
      "  False\t7 Hyun Lee\n",
      "  False\t4 Haseong Chang\n",
      "  False\t1 Sun Hye Shin\n",
      "  False\t2 Danbee Kang\n",
      "  False\t5 Min Sun Kim\n",
      "  False\t9 Duk-Kyung Kim\n",
      "\n",
      "No author info for this paper, skip.\n",
      "\n",
      "Found authors for this paper, checking each author. DOI: 10.1152/ajpgi.00318.2017\n",
      "1035474918131916800 ('VijiDraviam', 'mitosis_papers')\n",
      "1037317068650151936 ('AJP-GI', 'ajpgi')\n",
      "  False\t9 Stefan Holland-Cunz\n",
      "  False\t4 Ueli Moehrlen\n",
      "  False\t10 Francois Verrey\n",
      "  False\t8 Martin Meuli\n",
      "  False\t2 Simone M R Camargo\n",
      "  False\t3 Schirin Hunziker\n",
      "  False\t5 Stephanie J Gros\n",
      "  False\t1 Chantal Florence Meier\n",
      "  False\t11 Raphael Nicolas Vuille-Dit-Bille\n",
      "  False\t7 Svenja Leu\n",
      "  False\t6 Peter Karl Bode\n",
      "\n",
      "Found authors for this paper, checking each author. DOI: 10.1016/j.cell.2018.09.015\n",
      "1050399481127030787 ('ShorterLab', 'ShorterLab')\n",
      "1050449483300052997 ('Metha Biofund', 'MBiofund')\n",
      "1050455718749499393 ('Dr. Dennis Kwiatkowski 🇪🇺', 'KwiatBerlin')\n",
      "1050495638029443074 ('Ed Twomey', 'cryoET')\n",
      "1050553983868293120 ('Kichi', 'kichi_hrs')\n",
      "1050687523364716545 ('Cell', 'CellCellPress')\n",
      "1050687656957566976 ('JaRed', 'Jarecot')\n",
      "1052140363861786624 ('Ribosome Papers', 'ribosome_papers')\n",
      "1053690654734405632 ('Wohlever_Lab', 'WohleverL')\n",
      "1057311624770580481 ('Vader_Lab', 'Vader_lab')\n",
      "  False\t8 Tarun M. Kapoor\n",
      "  False\t2 Hiroshi Suzuki\n",
      "  False\t3 Yuki Kobayashi\n",
      "  False\t6 Shigehiro A. Kawashima\n",
      "  False\t5 Frank DiMaio\n",
      "  False\t1 Zhen Chen\n",
      "  False\t7 Thomas Walz\n",
      "  False\t4 Ashley C. Wang\n",
      "\n",
      "Found authors for this paper, checking each author. DOI: 10.1016/j.scijus.2018.03.003\n",
      "985128055135002625 ('Criminology Papers', 'CrimPapers')\n",
      "971347387020169216 ('Abertay Uni Science', 'AbertaySci')\n",
      "971351193841799168 ('Abertay Library', 'AbertayLibrary')\n",
      "971354707603095553 ('Peter “1 Jag”', 'foetalgod')\n",
      "971717433131225088 ('Abertay Uni Science', 'AbertaySci')\n",
      "972250768735694848 ('Forensic Research', 'ForensicResrch')\n",
      "973087146679582721 ('Dr Ben Desbrow', 'bendesbrow')\n",
      "1008300760592015361 ('Peter “1 Jag”', 'foetalgod')\n",
      "1008300873250934784 ('Peter “1 Jag”', 'foetalgod')\n",
      "1008301006415900674 ('Peter “1 Jag”', 'foetalgod')\n",
      "1063492594020294656 ('Abertay Uni Science', 'AbertaySci')\n",
      "1105779011429502977 ('Abertay Uni Science', 'AbertaySci')\n",
      "  True\t1 Peter D. Maskell (Peter “1 Jag”)\n",
      "  False\t7 Dawn L. Maskell\n",
      "  False\t5 Martin Carr\n",
      "  False\t6 Benjamin J. Jones\n",
      "  False\t4 Struan Reid\n",
      "  False\t2 Calum Holmes\n",
      "  False\t3 Margaux Huismann\n",
      "\n",
      "Found authors for this paper, checking each author. DOI: 10.1177/0308275x18775202\n",
      "998880815911194625 ('Dr Irene Skovgaard-Smith', 'Skovgaard_Smith')\n",
      "  False\t1 Tijo Salverda\n",
      "  True\t2 Irene Skovgaard-Smith (Dr Irene Skovgaard-Smith)\n",
      "\n",
      "Found authors for this paper, checking each author. DOI: 10.1007/s11655-018-2560-y\n",
      "1009375506645463040 ('Philip Niño Tan-Gatue, MD, CMA, CTCMP', 'acupuncturephil')\n",
      "1009378095722266626 ('Monterey Holistic', 'MBHolistic')\n",
      "  False\t5 Ying-si Hu\n",
      "  False\t3 Xia-chan Chen\n",
      "  False\t9 Guo-qing Zheng\n",
      "  False\t2 Xiao-guang Zhang\n",
      "  False\t1 Xue-wei Pan\n",
      "  False\t8 Jie Jin\n",
      "  False\t6 Li-ya Han\n",
      "  False\t7 Jian-le Zheng\n",
      "  False\t4 Qi Lu\n",
      "\n",
      "Found authors for this paper, checking each author. DOI: 10.1136/bcr-2018-224976\n",
      "985754164855795712 ('Joserra', 'jramonfernandez')\n",
      "986129692506968064 ('X.M. Meijome #Sentidiño!!', 'EnferEvidente')\n",
      "986153232580993031 ('Grupo MIR de SEUP', 'MIRSEUP')\n",
      "986178695361695749 ('Pedgastro', 'Isa_CasasG')\n",
      "986206404011855873 ('AEP', 'aepediatria')\n",
      "1010101385461985281 ('SEECIR', 'SEECIR')\n",
      "1010101411366006784 ('SEECIR', 'SEECIR')\n",
      "  False\t2 Liz Mckechnie\n",
      "  False\t1 Osama Hosheh\n",
      "\n",
      "Found authors for this paper, checking each author. DOI: 10.1136/jnnp-2017-317548\n",
      "961924021955670016 ('ineurociencias', 'ineurocienciasa')\n",
      "961924023197171712 ('Jesús Porta-Etessam', 'DrJesusPorta')\n",
      "961924090733920256 ('Jesús Porta-Etessam', 'DrJesusPorta')\n",
      "961936810778734594 ('Matthew C. Kiernan', 'JNNP_BMJ')\n",
      "961972181101170689 ('CROMIS-2', 'CROMIS_2')\n",
      "963736286006861825 ('NeuroBrain', 'i_zekel')\n",
      "963772317833756675 ('NeuroBrain', 'i_zekel')\n",
      "1030835496858148864 ('Matthew C. Kiernan', 'JNNP_BMJ')\n",
      "  False\t5 Robert J van Oostenbrugge\n",
      "  False\t6 Frans R J Verhey\n",
      "  False\t1 Elles Douven\n",
      "  False\t2 Pauline Aalten\n",
      "  False\t3 Julie Staals\n",
      "  False\t7 Sebastian Kohler\n",
      "  False\t4 Syenna H J Schievink\n",
      "\n",
      "Found authors for this paper, checking each author. DOI: 10.1104/pp.17.01320\n",
      "960563540615729153 ('Plant Physiology', 'PlantPhys')\n",
      "963507961782976512 ('ColSci', 'colsci_papers')\n",
      "1116313956853805057 ('ColSci', 'colsci_papers')\n",
      "  False\t11 Zhenhai Han\n",
      "  False\t4 Jocelyn K.C. Rose\n",
      "  False\t8 Xinzhong Zhang\n",
      "  False\t6 Fei Shen\n",
      "  False\t10 Ting Wu\n",
      "  False\t3 Yuanda Lv\n",
      "  False\t1 Zhenyun Han\n",
      "  False\t7 Yi Wang\n",
      "  False\t2 Yanan Hu\n",
      "  False\t5 Yaqiang Sun\n",
      "  False\t9 Xuefeng Xu\n",
      "\n",
      "Found authors for this paper, checking each author. DOI: 10.1016/j.emc.2018.04.002\n",
      "1022068526708871169 ('painmanwise', 'painmanwise')\n",
      "  False\t1 Michael Porter\n",
      "\n",
      "Found authors for this paper, checking each author. DOI: 10.1007/s00535-017-1408-0\n",
      "927494532324737025 ('Wnt publications', 'WntPublications')\n",
      "  False\t3 Wei-Zhi Wang\n",
      "  False\t16 Ze-Kuan Xu\n",
      "  False\t4 Zheng Chen\n",
      "  False\t15 Dian-Cai Zhang\n",
      "  False\t9 Jiang-Hao Xu\n",
      "  False\t7 Song Wei\n",
      "  False\t8 Bo-Wen Li\n",
      "  False\t1 Guang-Li Sun\n",
      "  False\t2 Zheng Li\n",
      "  False\t14 Hao Xu\n",
      "  False\t6 Qing Li\n",
      "  False\t10 Liang Chen\n",
      "  False\t13 Xuan Zhang\n",
      "  False\t11 Zhong-Yuan He\n",
      "  False\t5 Lei Zhang\n",
      "  False\t12 Kai Ying\n",
      "\n",
      "Found authors for this paper, checking each author. DOI: 10.1186/s13395-018-0176-8\n",
      "1042434907191091200 ('Matthew S. Alexander', 'Matt_Muscle_Guy')\n",
      "1047438959452835840 ('David J Glass MD', 'davidjglassMD')\n",
      "1047453289938268160 ('ChristopherPerry PhD', 'ChrisPerryMito')\n",
      "1047496663366098945 ('SFMyologie', 'SMyologie')\n",
      "1047525118434373632 ('Myologie', 'Myologie_MMG')\n",
      "  False\t7 Simona Boncompagni\n",
      "  False\t11 Sylvie Gory-Faure\n",
      "  False\t2 Benoit Giannesini\n",
      "  False\t6 Laura Pietrangelo\n",
      "  False\t10 John Rendu\n",
      "  False\t4 Julie Brocard\n",
      "  False\t9 Jacques Brocard\n",
      "  False\t12 Annie Andrieux\n",
      "  False\t8 Christophe Bosc\n",
      "  False\t14 Julien Faure\n",
      "  False\t1 Muriel Sebastien\n",
      "  False\t13 Anne Fourest-Lieuvin\n",
      "  False\t5 Mathilde Chivet\n",
      "  False\t15 Isabelle Marty\n",
      "  False\t3 Perrine Aubin\n",
      "\n",
      "Found authors for this paper, checking each author. DOI: 10.3389/fnana.2018.00045\n",
      "1011747194846625793 ('Frontiers in Neuroscience', 'FrontNeurosci')\n",
      "  False\t5 Wolfgang Hartig\n",
      "  False\t1 Anja K. E. Horn\n",
      "  False\t4 Ahmed Messoudi\n",
      "  False\t2 Annie Horng\n",
      "  False\t3 Norbert Buresch\n",
      "\n",
      "Found authors for this paper, checking each author. DOI: 10.1177/2058739218792322\n",
      "1043779532396879872 ('SAGE Clinical Med', 'SAGEClinMed')\n",
      "1050408336125022208 ('SAGE Clinical Med', 'SAGEClinMed')\n",
      "1058026487398522880 ('SAGE Clinical Med', 'SAGEClinMed')\n",
      "  False\t2 Jianhong Tao\n",
      "  False\t1 Yan Xiong\n",
      "  False\t3 Li Cai\n",
      "  False\t4 Yijia Tang\n",
      "  False\t5 Qiyong Li\n",
      "\n",
      "Found authors for this paper, checking each author. DOI: 10.1111/evj.12762\n",
      "917362295935815680 ('EquiManagement', 'EquiManagement')\n",
      "949250404503650305 ('Wiley Vet Medicine', 'wileyvetmed')\n",
      "949266734258651137 ('StandardbredVET', 'StandardbredVET')\n",
      "958386837843841024 ('Pegasus Laser', 'PegasusLaser')\n",
      "973824700328628226 ('ISER XII', 'IserXii')\n",
      "1015168491454894080 ('E-horse', 'Ehorse5')\n",
      "1023317372894162944 ('Lotta Sörtoft', 'LottaSortoft')\n",
      "  False\t1 W. R. Allen\n",
      "  False\t2 S. Wilsher\n",
      "\n",
      "Found authors for this paper, checking each author. DOI: 10.3390/s18051346\n",
      "989747988112158721 ('Sensors MDPI', 'Sensors_MDPI')\n",
      "  False\t3 Xavier Vilanova\n",
      "  False\t1 Oriol Gonzalez\n",
      "  False\t4 Eduard Llobet\n",
      "  False\t2 Tesfalem G. Welearegay\n",
      "\n",
      "Found authors for this paper, checking each author. DOI: 10.1080/17530350.2017.1407815\n",
      "948250915802435584 ('Journal of CulturalEconomy', 'JCultEcon')\n",
      "948308967985381376 ('John Hogan Morris', 'JohnhoganMorris')\n",
      "948310512894439425 ('John Hogan Morris', 'JohnhoganMorris')\n",
      "  False\t1 Michelle C. Forelle\n",
      "\n",
      "Found authors for this paper, checking each author. DOI: 10.1007/s12350-016-0516-1\n",
      "751005415651971073 ('Molecular Imaging', 'molecularimging')\n",
      "751087169796616194 ('Tom', 'usmolecular')\n",
      "751679820484927490 ('Cardiac', 'cardiacimaging')\n",
      "  False\t4 Roelf Valkema\n",
      "  False\t3 Ron T. van Domburg\n",
      "  False\t2 Hendrik J. Boiten\n",
      "  False\t5 Arend F. L. Schinkel\n",
      "  False\t1 Stefan Roest\n",
      "\n",
      "Found authors for this paper, checking each author. DOI: 10.1007/jhep05(2018)130\n",
      "963231825119326209 ('arXiv gr-qc', 'arXiv_grqc')\n",
      "963236624732745728 ('hep-th High Energy Physics arXiv submissions', 'arXiv_hep_th')\n",
      "998361345224519680 ('arXiv gr-qc', 'arXiv_grqc')\n",
      "  False\t1 M. Asorey\n",
      "  False\t4 G. Marmo\n",
      "  False\t2 A. P. Balachandran\n",
      "  False\t3 F. Lizzi\n",
      "\n",
      "No author info for this paper, skip.\n",
      "\n",
      "Found authors for this paper, checking each author. DOI: 10.1093/pcp/pcy012\n",
      "959025049641431040 ('CRISPRpapers', 'CRISPR_Articles')\n",
      "959094087612751872 ('Transcriptomes', 'transcriptomes')\n",
      "959789941738807296 ('Plant Cell Physiology', 'PCP_EIC')\n",
      "959916474222735361 ('Javier Brumos', 'jbrumos7')\n",
      "968752035171590144 ('Ari Pekka Mähönen', 'AP_Mahonen')\n",
      "  False\t3 Hiroo Fukuda\n",
      "  False\t2 Yuki Kondo\n",
      "  False\t1 Masato Saito\n",
      "\n",
      "Found authors for this paper, checking each author. DOI: 10.1098/rsif.2018.0127\n",
      "1015149648129003520 ('マーキュリー２世', 'uranus_2')\n",
      "1016004206858207232 ('Royal Society Publishing', 'RSocPublishing')\n",
      "  False\t1 Siul A. Ruiz\n",
      "  False\t2 Dani Or\n",
      "\n",
      "Found authors for this paper, checking each author. DOI: 10.1097/sla.0000000000002195\n",
      "838425881324433411 ('Alejo Roman-Gonzalez', 'alejoromanmd')\n",
      "838427070325747713 ('Alejo Roman-Gonzalez', 'alejoromanmd')\n",
      "838713137968869377 ('cirujano de cuello', 'alvarosanabria')\n",
      "838733140281671682 ('Alejo Roman-Gonzalez', 'alejoromanmd')\n",
      "  False\t5 Steven G Waguespack\n",
      "  False\t3 Montserrat Ayala-Ramirez\n",
      "  False\t6 Mouhammed A Habra\n",
      "  False\t9 Christopher G Wood\n",
      "  False\t7 Jose Antonio Karam\n",
      "  False\t10 Camilo Jimenez\n",
      "  False\t8 Nancy Dugal Perrier\n",
      "  True\t1 Alejandro Roman-Gonzalez (Alejo Roman-Gonzalez)\n",
      "  False\t2 Shouhao Zhou\n",
      "  False\t4 Chan Shen\n",
      "\n",
      "Found authors for this paper, checking each author. DOI: 10.1016/j.solmat.2018.09.004\n",
      "1039481827721920512 ('AfricanPhysics', 'AfricanPhysics')\n",
      "  False\t3 Ken Durose\n",
      "  False\t1 Oliver S. Hutter\n",
      "  False\t4 Jonathan D. Major\n",
      "  False\t2 Laurie J. Phillips\n",
      "\n",
      "Found authors for this paper, checking each author. DOI: 10.1063/1.5023434\n",
      "983648208080592896 ('Mari Napari', 'NapariMari')\n",
      "983906325125058561 ('Paul Greenlees', 'paulgreenlees73')\n",
      "1047909316366389249 ('AIP Publishing', 'AIP_Publishing')\n",
      "  False\t2 Taneli Kalvas\n",
      "  False\t4 Olli Tarvainen\n",
      "  False\t1 Risto Kronholm\n",
      "  False\t3 Hannu Koivisto\n",
      "\n",
      "Found authors for this paper, checking each author. DOI: 10.1016/j.jpeds.2018.06.030\n",
      "1018510265573208065 ('Juan Pablo García Iñiguez⚕', 'dr_jpablo')\n",
      "1018526331104120833 ('Continuum AEP', 'ContinuumAEP')\n",
      "1018526364050378754 ('Cuidados Intensivos Pediátricos, HNJ', 'UCIP_HNJ')\n",
      "1059466292443443200 ('SOPEBA', 'PediatriaBalear')\n",
      "1063416853371002880 ('JournalofPediatrics', 'JPediatr')\n",
      "  False\t4 Hiroshi Hataya\n",
      "  False\t1 Kazuhiro Uda\n",
      "  False\t3 Yuho Horikoshi\n",
      "  False\t2 Takahiro Matsushima\n",
      "\n",
      "Found authors for this paper, checking each author. DOI: 10.1254/fpj.151.100\n",
      "973505494806507520 ('Autophagy Papers', 'AutophagyPapers')\n",
      "  False\t1 Yasuhiro Maejima\n",
      "\n",
      "No author info for this paper, skip.\n",
      "\n",
      "Found authors for this paper, checking each author. DOI: 10.1080/23754931.2018.1425632\n",
      "978379328928010241 ('Applied Geography Conference', 'appliedgeog')\n",
      "  False\t2 Christi G. Townsend\n",
      "  False\t1 Eric. J. Olson\n",
      "\n",
      "Found authors for this paper, checking each author. DOI: 10.3390/buildings8060081\n",
      "1007176917424881664 ('Buildings', 'Buildings_MDPI')\n",
      "  False\t2 Mahmood Yaghoubi\n",
      "  False\t1 Jalil Shaeri\n",
      "  False\t3 Amin Habibi\n",
      "\n",
      "Found authors for this paper, checking each author. DOI: 10.1007/s41030-018-0063-9\n",
      "1038094795460239360 ('Pulmonary Therapy', 'Pulmonary_Ther')\n",
      "1038113370585612291 ('Adam Lewis', 'apl104')\n",
      "1038186494773669890 ('John Thomas', 'DomeLord')\n",
      "1038244920744505354 ('Dr. Rachel Goldenberg', 'healthyvoiceYYC')\n",
      "1038702585895632896 ('Phoene Cave', 'OmPhoenix')\n",
      "1048121864042758144 ('Matt Pavitt', 'DrMattPav')\n",
      "1055360231528644608 ('John Thomas', 'DomeLord')\n",
      "1061856373594439685 ('Lung Health IN', 'LungHealthIN')\n",
      "1124949199521554432 ('Adam Lewis', 'apl104')\n",
      "  True\t2 John Thomas (John Thomas)\n",
      "  True\t1 Adam Lewis (Adam Lewis)\n",
      "\n",
      "Found authors for this paper, checking each author. DOI: 10.1186/s12864-018-4528-x\n",
      "991394695782813696 ('Ioannis Tsagakis', 'tsagakis_bio')\n",
      "964069281293008896 ('Irina Mohorianu', 'imohorianu')\n",
      "964501395775938560 ('Irina Mohorianu', 'imohorianu')\n",
      "970988633862950913 ('Oligotherapeutics', 'OTSociety')\n",
      "  False\t2 Jiang Shu\n",
      "  False\t3 Juan Cui\n",
      "  False\t1 Tian Gao\n",
      "\n",
      "Found authors for this paper, checking each author. DOI: 10.1002/etc.4083\n",
      "993887752449015808 ('ET&C', 'etc_editor')\n",
      "951447239884492800 ('ecotoxicology', 'ecotoxicology')\n",
      "951448880226353152 ('Laura Robinson', 'toxicological')\n",
      "  False\t4 Sharon E. Hook\n",
      "  False\t1 Lauren E. Sweet\n",
      "  False\t5 Jeffrey M. Morris\n",
      "  False\t6 Aaron P. Roberts\n",
      "  False\t2 Andrew T. Revill\n",
      "  False\t3 Joanna Strzelecki\n",
      "\n",
      "Found authors for this paper, checking each author. DOI: 10.5582/bst.2018.01044\n",
      "1012642849920176128 ('SexGenomics', 'sexgenomics')\n",
      "1013036825735319553 ('Trisomy18Foundation', 'Trisomy18')\n",
      "  False\t9 Dajin Li\n",
      "  False\t10 Ling Wang\n",
      "  False\t2 Jing Lin\n",
      "  False\t1 Yan Du\n",
      "  False\t5 Jun Zhu\n",
      "  False\t8 Youhui Lu\n",
      "  False\t7 Xinyao Pan\n",
      "  False\t4 Ying Dong\n",
      "  False\t3 Likun Lan\n",
      "  False\t6 Wen Jiang\n",
      "\n",
      "Found authors for this paper, checking each author. DOI: 10.1016/j.marpolbul.2017.12.040\n",
      "1030397474450468864 ('Root Papers', 'RootPapers')\n",
      "  False\t4 Kefu Yu\n",
      "  False\t3 Yinghui Wang\n",
      "  False\t2 Shaopeng Wang\n",
      "  False\t1 Ruilong Li\n",
      "\n",
      "Found authors for this paper, checking each author. DOI: 10.1111/2041-210x.13065\n",
      "1019449546894659584 ('Todd Arnold', 'Todd_W_Arnold')\n",
      "1039499195521089536 ('BOU 👩🏻\\u200d🏫👨🏿\\u200d🏫🧕🏽👳🏽\\u200d♂️ 🌈', 'IBIS_journal')\n",
      "1061196840446631937 ('Methods in Ecology and Evolution', 'MethodsEcolEvol')\n",
      "1061408168880861184 ('Erik Blomberg', 'ejblomberg')\n",
      "  False\t4 James S. Sedinger\n",
      "  False\t2 Alan G. Leach\n",
      "  False\t1 Thomas V. Riecke\n",
      "  False\t3 Dan Gibson\n",
      "\n",
      "Found authors for this paper, checking each author. DOI: 10.2217/nnm-2018-0029\n",
      "1020080846588514304 ('School of Cancer & Pharmaceutical Sciences', 'KCLcancer_pharm')\n",
      "  False\t3 Driton Vllasaliu\n",
      "  False\t2 Magda Swedrowska\n",
      "  False\t1 Lina Hashem\n",
      "\n",
      "Found authors for this paper, checking each author. DOI: 10.3389/fmicb.2018.01768\n",
      "1042058662729023489 ('MASTS Biogeochemistry Forum', 'MBFmasts')\n",
      "  False\t6 Feriel Skouri-Panet\n",
      "  False\t10 Karim Benzerara\n",
      "  False\t8 Celine Ferard\n",
      "  False\t9 Jennyfer Miot\n",
      "  False\t7 Melanie Poinsot\n",
      "  False\t5 Jean-Michel Guigner\n",
      "  False\t1 Marine Blondeau\n",
      "  False\t3 Claire Boulogne\n",
      "  False\t4 Cynthia Gillet\n",
      "  False\t2 Martin Sachse\n",
      "\n",
      "Found authors for this paper, checking each author. DOI: 10.1007/s40271-017-0277-1\n",
      "908994498604257280 ('Nutr Reviews', 'NutrReview')\n",
      "909017089712824320 ('Nutr Reviews', 'NutrReview')\n",
      "909514444102787072 ('Patient Journal', 'PatientJournal')\n",
      "909697965048127488 ('DHW Lab', 'dhwlab')\n",
      "909701613748600832 ('David Grayson', 'sasanof')\n",
      "909721975269974016 ('Dr Felicity Bright', 'flissbright')\n",
      "909944043940876288 ('Chris Carswell', 'PECjournal')\n",
      "910653591848931328 ('Dink Jardine, MD, FACS', 'dinkjardine')\n",
      "1044424776163319808 ('Person Centred Res', 'PCR_AUT')\n",
      "  False\t4 Stephen D. Reay\n",
      "  False\t3 Jill Wrapson\n",
      "  False\t1 Ivana Nakarada-Kordic\n",
      "  False\t2 Niamh Patterson\n",
      "\n",
      "Found authors for this paper, checking each author. DOI: 10.1080/13675567.2018.1431211\n",
      "960511197824147456 ('Henrik Sternberg', 'DoktorSternberg')\n",
      "  True\t1 Henrik Sternberg (Henrik Sternberg)\n",
      "  False\t2 Bjorn Lantz\n",
      "\n",
      "Found authors for this paper, checking each author. DOI: 10.1021/acs.jpclett.8b00930\n",
      "996536443592900608 ('BlackPhysicists', 'BlackPhysicists')\n",
      "  False\t2 Yanmei Piao\n",
      "  False\t1 Lyndsey R Powell\n",
      "  False\t4 YuHuang Wang\n",
      "  False\t3 Allen L Ng\n",
      "\n",
      "Found authors for this paper, checking each author. DOI: 10.1097/01.jaa.0000546475.33947.44\n",
      "1057759071921684481 ('JAAPA', 'JAAPAonline')\n",
      "1068190171596800001 ('LA Med Care Clinic', 'CareClinicLA')\n",
      "1122833465953726464 ('KristopherMaday PA-C', 'PA_Maday')\n",
      "1180206388640960513 ('JAAPA', 'JAAPAonline')\n",
      "  False\t2 Denise Rizzolo\n",
      "  False\t1 Mazal Maged\n",
      "\n",
      "Found authors for this paper, checking each author. DOI: 10.1242/jeb.170316\n",
      "960593340793225216 ('Brittney Borowiec, PhD', 'this_is_brit')\n",
      "960612288188137473 ('Jodie Rummer', 'physiologyfish')\n",
      "960612890725171201 ('Jodie Rummer', 'physiologyfish')\n",
      "960617063025754113 ('Francesco Santini', 'fsantini2015')\n",
      "961660479109324803 ('@FishJournals', 'FishJournals')\n",
      "964135232013328385 ('Journalof ExpBiol', 'J_Exp_Biol')\n",
      "  True\t1 Brittney Borowiec (Brittney Borowiec, PhD)\n",
      "\n",
      "Found authors for this paper, checking each author. DOI: 10.1007/s11165-018-9783-y\n",
      "1082955361877983232 ('Springer Education', 'SpringerEdu')\n",
      "  False\t1 Christiane Konnemann\n",
      "  False\t4 Marcus Hammann\n",
      "  False\t5 Werner Riess\n",
      "  False\t3 Roman Asshoff\n",
      "  False\t2 Christian Hoger\n",
      "\n",
      "Found authors for this paper, checking each author. DOI: 10.1177/1073110518766029\n",
      "979031917881430016 ('Ted Hutchinson', 'ehutch01')\n",
      "979036535550103553 ('Jonathan Todres', 'jtodres')\n",
      "979393484758159360 ('Patti Zettler', 'pzettler')\n",
      "979693554623811585 ('GSU Health Law', 'GSU_HealthLaw')\n",
      "1083862388259151873 ('SAGE Criminology', 'SAGEcriminology')\n",
      "1144604685111894018 ('MAC2-\"Crimes Against Humanity\"', 'mac2_traff')\n",
      "  False\t2 Katherine Yun\n",
      "  True\t3 Jonathan Todres (Jonathan Todres)\n",
      "  False\t1 V. Jordan Greenbaum\n",
      "\n",
      "Found authors for this paper, checking each author. DOI: 10.1139/apnm-2017-0763\n",
      "992803871079714816 ('Canadian Science Publishing', 'cdnsciencepub')\n",
      "951077899511259136 ('Liza Stathokostas, PhD', 'ActiveAgingJnx')\n",
      "952163987147272194 ('Kelcey Bland', 'kelceybland')\n",
      "953331171990974464 ('Dr. Kaila Holtz OLY', 'KailaHoltz')\n",
      "969331587195129856 ('Kara Solmundson MD MSc 🇨🇦', 'MD_HEAL')\n",
      "979830379967377408 ('APNM Journal', 'APNMjournal')\n",
      "  False\t5 Christopher A. Shields\n",
      "  True\t3 Kara Solmundson (Kara Solmundson MD MSc 🇨🇦)\n",
      "  False\t4 Paul I. Oh\n",
      "  False\t1 Jonathon R Fowles\n",
      "  False\t2 Myles W. O'Brien\n",
      "\n",
      "Found authors for this paper, checking each author. DOI: 10.1111/crj.12523\n",
      "753215333339688960 ('Brandon Lujan, MD', 'OCTMD')\n",
      "753307551534489600 ('Hypoxia Adaptation', 'hypoxiapapers')\n",
      "  False\t6 Fatma Evyapan\n",
      "  False\t2 Gokhan Pekel\n",
      "  False\t1 Erhan Ugurlu\n",
      "  False\t3 Goksel Altinisik\n",
      "  False\t4 Kerem Bozkurt\n",
      "  False\t5 Ilknur Can\n",
      "\n",
      "Found authors for this paper, checking each author. DOI: 10.3847/1538-4357/aad285\n",
      "1038386449299767298 ('AfricaAstronomy', 'AfricaAstronomy')\n",
      "1041072413725863936 ('Hugh Ross', 'RTB_HRoss')\n",
      "1041072466704125954 ('Hugh Ross', 'RTB_HRoss')\n",
      "1090529188040314880 ('Maria Bergemann', 'MariaBergemann')\n",
      "  False\t2 R. Schonrich\n",
      "  False\t4 Bingqiu Chen\n",
      "  False\t7 Maosheng Xiang\n",
      "  False\t5 Huawei Zhang\n",
      "  False\t6 Haibo Yuan\n",
      "  False\t1 Yang Huang\n",
      "  False\t9 Zhijia Tian\n",
      "  False\t8 Chun Wang\n",
      "  False\t3 Xiaowei Liu\n"
     ]
    }
   ],
   "source": [
    "cn = 0\n",
    "p_cn = 0\n",
    "tp_cn = 0\n",
    "# manual_true = []\n",
    "for doi in dois:\n",
    "    if doi in doi_author_list:\n",
    "        print('\\nFound authors for this paper, checking each author. DOI: %s'%doi)\n",
    "        paper = paper_li[doi]\n",
    "        mtids = [tweet['tweet_id'] for tweet in paper['tweets'] if tweet['tweet_id'] in tid_name_sname_org]\n",
    "        for tid in mtids:\n",
    "            print(tid, tid_name_sname_org[tid])\n",
    "        for author in doi_author_list[doi]:\n",
    "            aid, affis, seq, author_name, pos = author\n",
    "            name_tupe = get_author_name(author_name)\n",
    "            if type(name_tupe) == dict:\n",
    "                cn += 1\n",
    "                self_promo = False\n",
    "                mat = ''\n",
    "                matches = []\n",
    "                for tid in mtids:\n",
    "                    tname_tupe = tid_name_sname_org[tid]\n",
    "                    if check_match_author(tname_tupe, name_tupe):\n",
    "                        matches.append(tid_name_sname_org[tid][0])\n",
    "                if len(matches) >= 1:\n",
    "                    self_promo = True\n",
    "                    if len(matches) == 1:\n",
    "                        mat = matches[0]\n",
    "                    else:\n",
    "                        name_scores = {}\n",
    "                        for tw_name in matches:\n",
    "                            name_scores[tw_name] = fuzz.ratio(tw_name, author_name)\n",
    "                        mat = sorted(name_scores.items(), key=lambda x: x[1], reverse=True)[0][0]\n",
    "                if self_promo:\n",
    "                    p_cn += 1\n",
    "                    res = '  ' + str(self_promo) + '\\t' + str(seq) + ' ' + author_name + ' (%s)'%mat\n",
    "                    if (doi, author_name) in manual_true:\n",
    "                        tp_cn += 1\n",
    "                    # manual_true.append((doi, author_name))\n",
    "                else:\n",
    "                    res = '  ' + str(self_promo) + '\\t' + str(seq) + ' ' + author_name\n",
    "                print(res)\n",
    "                            \n",
    "            else:\n",
    "                print('\\tSkip author due to invalid name for this paper.')\n",
    "    else:\n",
    "        print('\\nNo author info for this paper, skip.')"
   ]
  },
  {
   "cell_type": "code",
   "execution_count": 578,
   "metadata": {},
   "outputs": [],
   "source": [
    "# first iteration\n",
    "manual_true = [\n",
    " ('10.1039/c7bm01156c', 'Gordon G Wallace'),\n",
    " ('10.3828/bj.2018.5', 'Frank Lawton'),\n",
    " ('10.1016/j.conctc.2018.04.002', 'Nayanjeet Chaudhury'),\n",
    " ('10.1186/s12862-018-1204-3', 'Anna Bruniche-Olsen'),\n",
    " ('10.1021/acs.joc.8b01766', 'Phillip P. Sharp'),\n",
    " ('10.1073/pnas.1801692115', 'Claire A. Runge'),\n",
    " ('10.1073/pnas.1801692115', 'Halley E. Froehlich'),\n",
    " ('10.1016/j.ijdrr.2018.03.017', 'Prasoon Singh'),\n",
    " ('10.1016/j.jconrel.2018.08.018', 'Zheng Chai'),  # ('Zheng', 'chaizheng20015')\n",
    " ('10.1016/j.jconrel.2018.08.018', 'Xintao Zhang'), # ('Xintao', 'xintaoz2000')\n",
    " ('10.1017/rep.2017.38', 'Christopher C. Towler'),\n",
    " ('10.1101/304600', 'Sean M Murray'),\n",
    " ('10.1007/s11136-018-1898-0', 'Douglas P. Gross'),\n",
    " ('10.1162/neco_a_01138', 'Ian H. Stevenson'),\n",
    " ('10.1177/1465116518793707', 'Jose Luis Castro-Montero'),\n",
    " ('10.1177/1465116518793707', 'Edwin Alblas'),\n",
    " ('10.3389/fpsyg.2018.01320', 'Michelle K. Ryan'),\n",
    " ('10.3389/fpsyg.2018.01320', 'Thekla Morgenroth'),\n",
    " ('10.1002/anie.201806221', 'Rafael Luque'),\n",
    " ('10.1021/acsnano.8b06914', 'Martin Pumera'),\n",
    " ('10.1103/physreva.97.022312', 'Tadashi Kadowaki')\n",
    "]\n",
    "\n",
    "# second iteration\n",
    "manual_true = [\n",
    " ('10.1038/s41560-018-0156-6', 'Rob Bellamy'),\n",
    " ('10.1016/j.peptides.2017.12.002', 'Catherine Arden'),\n",
    " ('10.1080/09636412.2017.1416813', 'Tricia Bacon'),\n",
    " ('10.1016/j.paid.2016.12.013', 'Jennifer L. Bryan'),\n",
    " ('10.1097/jxx.0000000000000023', 'Heather M. Brom'),\n",
    " ('10.1016/j.tube.2018.08.004', 'Sean Ekins'),\n",
    " ('10.1088/2057-1976/aabab2', 'Moeava Tehei'),\n",
    " ('10.1073/pnas.1801759115', 'Karl E. Kadler'),\n",
    " ('10.1073/pnas.1801759115', 'Ching-Yan Chloe Yeung'),\n",
    " ('10.1038/s41598-018-32252-1', 'Martin Hromada'),\n",
    " ('10.1038/s41598-018-32252-1', 'Peter Mikula'),\n",
    " ('10.1111/tpj.13801', 'Ralf Reski'),\n",
    " ('10.1111/tpj.13801', 'Stefan A. Rensing'),\n",
    " ('10.1111/tpj.13801', 'Stuart F. McDaniel'),\n",
    " ('10.1007/s11528-018-0310-9', 'Heather Toomey Zimmerman'),\n",
    " ('10.17605/osf.io/k495x', 'Aidan J Horner'),\n",
    " ('10.1177/1079063216639591', 'Steven M. Gillespie'),\n",
    " ('10.1007/s10531-018-1582-2', 'Barry W. Brook'),\n",
    " ('10.1371/journal.pcbi.1005958', 'Xavier Didelot'),\n",
    " ('10.1080/01402382.2017.1332328', 'Joost van Spanje')\n",
    "]\n",
    "\n",
    "manual_true = [\n",
    " ('10.1016/j.sexol.2018.05.004', 'R Rossi'),\n",
    " ('10.1152/ajprenal.00566.2017', 'David O. Bates'),\n",
    " ('10.4049/jimmunol.1701755', 'John R. Lukens'),\n",
    " ('10.1111/mmi.13872', 'Matthew Joseph Powers'),\n",
    " ('10.1093/infdis/jiy347', 'Alison K Criss'),\n",
    " ('10.1038/s41437-017-0019-0', 'Emily E. Puckett'),\n",
    " ('10.1002/jlb.6ma1117-451r', 'Carolyn A. de Graaf'),\n",
    " ('10.1007/s10278-017-0013-3', 'Curtis P. Langlotz'),\n",
    " ('10.1007/s10278-017-0013-3', 'Falgun H. Chokshi'),\n",
    " ('10.1080/0267257x.2018.1484791', 'Stephen Dunne'),\n",
    " ('10.1038/s41366-018-0196-9', 'Michelle A. Morris'),\n",
    " ('10.7717/peerj.5194', 'David C. Evans'),\n",
    " ('10.7717/peerj.5194', 'Michael J. Ryan'),\n",
    " ('10.7717/peerj.5924', 'Ivar Folstad'),\n",
    " ('10.3389/fcimb.2018.00197', 'Emma Carmelo'),\n",
    " ('10.1016/j.pmr.2018.01.004', 'Phoebe Runciman'),\n",
    " ('10.3389/fnins.2018.00941', 'Thomas Nowotny'),\n",
    " ('10.3389/fnins.2018.00941', 'James C Knight'),\n",
    " ('10.1039/c8ta04267e', 'Giuliano Giambastiani')\n",
    "]\n",
    "\n",
    "manual_true = [\n",
    " ('10.3174/ajnr.a5833', 'R. Khangura'),\n",
    " ('10.3847/1538-3881/aaa292', 'Joseph E. Rodriguez'),\n",
    " ('10.1016/j.cma.2017.08.027', 'Jacobo Ayensa-Jimenez'),\n",
    " ('10.1016/j.jmgm.2018.06.005', 'David Ryan Koes'),\n",
    " ('10.1093/ejcts/ezx297', 'Douglas George West'),\n",
    " ('10.3389/fped.2018.00380', 'Kim D Lu'),\n",
    " ('10.1103/physrevlett.120.191103', 'Katelyn Breivik'),\n",
    " ('10.1007/s10508-017-0982-9', 'Anne-Rose Robbins'),\n",
    " ('10.1080/02691728.2018.1466933', 'Slobodan Perovic'),\n",
    " ('10.1038/s41467-018-07571-6', 'Juan Bisquert'),\n",
    " ('10.1016/j.bbamcr.2018.04.005', 'Leonardo Mirandola'),\n",
    " ('10.1177/0308275x18775202', 'Irene Skovgaard-Smith'),\n",
    " ('10.1097/sla.0000000000002195', 'Alejandro Roman-Gonzalez'),\n",
    " ('10.1007/s41030-018-0063-9', 'John Thomas'),\n",
    " ('10.1007/s41030-018-0063-9', 'Adam Lewis'),\n",
    " ('10.1080/13675567.2018.1431211', 'Henrik Sternberg'),\n",
    " ('10.1242/jeb.170316', 'Brittney Borowiec'),\n",
    " ('10.1177/1073110518766029', 'Jonathan Todres'),\n",
    " ('10.1139/apnm-2017-0763', 'Kara Solmundson')\n",
    "]"
   ]
  },
  {
   "cell_type": "code",
   "execution_count": 581,
   "metadata": {
    "scrolled": true
   },
   "outputs": [
    {
     "data": {
      "text/plain": [
       "19"
      ]
     },
     "execution_count": 581,
     "metadata": {},
     "output_type": "execute_result"
    }
   ],
   "source": [
    "len(manual_true)"
   ]
  },
  {
   "cell_type": "code",
   "execution_count": 582,
   "metadata": {},
   "outputs": [
    {
     "data": {
      "text/plain": [
       "517"
      ]
     },
     "execution_count": 582,
     "metadata": {},
     "output_type": "execute_result"
    }
   ],
   "source": [
    "cn"
   ]
  },
  {
   "cell_type": "code",
   "execution_count": 583,
   "metadata": {},
   "outputs": [
    {
     "data": {
      "text/plain": [
       "20"
      ]
     },
     "execution_count": 583,
     "metadata": {},
     "output_type": "execute_result"
    }
   ],
   "source": [
    "p_cn"
   ]
  },
  {
   "cell_type": "code",
   "execution_count": 584,
   "metadata": {},
   "outputs": [
    {
     "data": {
      "text/plain": [
       "19"
      ]
     },
     "execution_count": 584,
     "metadata": {},
     "output_type": "execute_result"
    }
   ],
   "source": [
    "tp_cn"
   ]
  },
  {
   "cell_type": "markdown",
   "metadata": {},
   "source": [
    "First iteration"
   ]
  },
  {
   "cell_type": "code",
   "execution_count": null,
   "metadata": {},
   "outputs": [],
   "source": [
    "# only containment matching\n",
    "# False predictions:\n",
    "\n",
    "True 1 Xuecai Ge (HPB_surgery)\n",
    "True 16 Daniel D. Kaplan (Daniel J Drucker)\n",
    "True 4 P A Barber (Jesús Porta-Etessam)\n",
    "True 6 Man Su Kim (metagen human papers)\n",
    "True 2 Christopher S. Parker (Christopher Federico)\n",
    "True 1 Songfeng Li (Massimiliano Versace)\n",
    "\n",
    "False 1 Tadashi Kadowaki (tadakado)"
   ]
  },
  {
   "cell_type": "code",
   "execution_count": null,
   "metadata": {},
   "outputs": [],
   "source": [
    "# only token matching.\n",
    "# False predictions:\n",
    "\n",
    "True 16 Daniel D. Kaplan (Daniel J Drucker)\n",
    "True 2 Christopher S. Parker (Christopher Federico)\n",
    "\n",
    "False 1 Tadashi Kadowaki (tadakado)\n",
    "False 1 Zheng Chai (chaizheng20015)\n",
    "False 2 Xintao Zhang (xintaoz2000)"
   ]
  },
  {
   "cell_type": "code",
   "execution_count": null,
   "metadata": {},
   "outputs": [],
   "source": [
    "# containment matching for single-token handle and screen names, otherwise token matching.\n",
    "# False predictions:\n",
    "\n",
    "True 16 Daniel D. Kaplan (Daniel J Drucker)\n",
    "True 2 Christopher S. Parker (Christopher Federico)\n",
    "\n",
    "False 1 Tadashi Kadowaki (tadakado)"
   ]
  },
  {
   "cell_type": "markdown",
   "metadata": {},
   "source": [
    "Second iteration (containment matching for single-token handle and screen names, otherwise token matching.)"
   ]
  },
  {
   "cell_type": "code",
   "execution_count": null,
   "metadata": {},
   "outputs": [],
   "source": [
    "# False predictions:\n",
    "\n",
    "True 1 Yifei Ma (BioMassSpec)\n",
    "True 1 Heather M. Brom (Heather Tubbs Cooley, PhD, RN, FAAN) # but it matches ('Heather Brom', 'heather_brom')"
   ]
  },
  {
   "cell_type": "markdown",
   "metadata": {},
   "source": [
    "Third iteration (matching multiple users)"
   ]
  },
  {
   "cell_type": "code",
   "execution_count": null,
   "metadata": {},
   "outputs": [],
   "source": [
    "# False predictions:\n",
    "\n",
    "True 13 Yan Shi (fireflyann)\n",
    "True 3 Xin-Li An (AntibioticResistance)\n",
    "True 10 Hua-Bin Li (PharmSolidForms)\n",
    "True 8 Sha Li (PharmSolidForms)\n",
    "True 2 Michael J. Nooromid (Michael Zenilman)"
   ]
  },
  {
   "cell_type": "markdown",
   "metadata": {},
   "source": [
    "Fourth iteration (containment matching limited to 4-char)"
   ]
  },
  {
   "cell_type": "code",
   "execution_count": null,
   "metadata": {},
   "outputs": [],
   "source": [
    "# False predictions:\n",
    "\n",
    "True 1 Peter D. Maskell (Peter “1 Jag”)"
   ]
  },
  {
   "cell_type": "markdown",
   "metadata": {},
   "source": [
    "### Build regression data"
   ]
  },
  {
   "cell_type": "code",
   "execution_count": 38,
   "metadata": {},
   "outputs": [],
   "source": [
    "table = str.maketrans(\",'&:-\", \"     \")\n",
    "\n",
    "def norm_string(aff_name):\n",
    "    aff_name = aff_name.lower().translate(table)\n",
    "    aff_name = ' '.join(aff_name.split())\n",
    "    return aff_name\n",
    "\n",
    "def get_journal_rank(journal):\n",
    "    if journal == 'unknown':\n",
    "        return np.NaN\n",
    "    else:\n",
    "        nname = norm_string(journal)\n",
    "        if nname in journal_impact:\n",
    "            return journal_impact[nname]\n",
    "        else:\n",
    "            return np.NaN\n",
    "        \n",
    "def get_journal_cate(journal):\n",
    "    if journal in top_journals or journal == 'unknown':\n",
    "        return journal\n",
    "    else:\n",
    "        return 'lose journal'\n",
    "\n",
    "def get_affi_name(affis):\n",
    "    affi_li = affis.split('|')\n",
    "    univs = []\n",
    "    for affi_id in affi_li:\n",
    "        if affi_id in affi_name:\n",
    "            univs.append(affi_name[affi_id])\n",
    "    if len(univs) == 0:\n",
    "        return 'unknown'\n",
    "    else:\n",
    "        return '|'.join(univs)\n",
    "    \n",
    "def get_affi_cate(affis):\n",
    "    affi_li = affis.split('|')\n",
    "    cate_li = set()\n",
    "    for affi_id in affi_li:\n",
    "        # many affi ids in MAG do not have latitude and longitude info for us to infer their country\n",
    "        if affi_id in affi_country:\n",
    "            country = affi_country[affi_id]\n",
    "            if country == 'United States':\n",
    "                cate_li.add('domestic')\n",
    "            else:\n",
    "                cate_li.add('international')\n",
    "        else:\n",
    "            cate_li.add('unknown')\n",
    "    if 'domestic' in cate_li:\n",
    "        return 'domestic'\n",
    "    elif 'international' in cate_li:\n",
    "        return 'international'\n",
    "    else:\n",
    "        return 'unknown'\n",
    "        \n",
    "def get_affi_rank(affis):\n",
    "    affi_li = affis.split('|')\n",
    "    rank_li = []\n",
    "    for affi_id in affi_li:\n",
    "        if affi_id in affi_rank:\n",
    "            rank_li.append(affi_rank[affi_id])\n",
    "    if len(rank_li) == 0:\n",
    "        return np.NaN\n",
    "    else:\n",
    "        return min(rank_li)\n",
    "\n",
    "def get_author_rank(aid):\n",
    "    if aid in aid_metric:\n",
    "        return aid_metric[aid][0]\n",
    "    else:\n",
    "        return np.NaN    \n",
    "\n",
    "def get_aut_pub_cn(row):\n",
    "    pub_year, aid = row['pub_year'], row['author_id']\n",
    "    if aid in aid_year_paper_count:\n",
    "        total = 0\n",
    "        pub_year = int(pub_year)\n",
    "        for year, cn in aid_year_paper_count[aid].items():\n",
    "            if int(year) <= pub_year:\n",
    "                total += cn\n",
    "        return total\n",
    "    else:\n",
    "        return np.NaN\n",
    "\n",
    "def get_aut_cite_cn(aid):\n",
    "    if aid in aid_cites_upto_2017:\n",
    "        return aid_cites_upto_2017[aid]\n",
    "    else:\n",
    "        return np.NaN\n",
    "    \n",
    "def get_field_vector(doi):\n",
    "    vec = [0] * len(fields)\n",
    "    for field in paper_li[doi]['scopus_subjects']:\n",
    "        if field in field_ix:\n",
    "            vec[field_ix[field]] = 1\n",
    "    return vec\n",
    "\n",
    "def get_disc_vector(doi):\n",
    "    vec = [0] * len(discs)\n",
    "    for field in paper_li[doi]['scopus_subjects']:\n",
    "        if field in discs:\n",
    "            vec[discs[field]] = 1\n",
    "    return vec\n",
    "\n",
    "def clean_field_name(name):\n",
    "    ans = ''\n",
    "    for ch in name:\n",
    "        if ch in ['(', ',', ')', '-', ' ', \"'\"]:\n",
    "            ans += '_'\n",
    "        else:\n",
    "            ans += ch\n",
    "    return ans\n",
    "\n",
    "# make `tid_name_sname` a param.\n",
    "def get_self_promo(row, tid_name_sname):\n",
    "    doi, author_name = row['doi'], row['author_name']\n",
    "    paper = paper_li[doi]\n",
    "    mtids = [tweet['tweet_id'] for tweet in paper['tweets'] if tweet['tweet_id'] in tid_name_sname]\n",
    "    # must already be a dict.\n",
    "    name_tupe = get_author_name(author_name)\n",
    "    self_promo = False\n",
    "    mat_tid = ''\n",
    "    matches = []\n",
    "    for tid in mtids:\n",
    "        tname_tupe = tid_name_sname[tid]\n",
    "        if check_match_author(tname_tupe, name_tupe):\n",
    "            matches.append((tid, tid_name_sname[tid][0]))\n",
    "    if len(matches) >= 1:\n",
    "        self_promo = True\n",
    "        if len(matches) == 1:\n",
    "            mat_tid = matches[0][0]\n",
    "        else:\n",
    "            tid_scores = {}\n",
    "            for tid, tw_name in matches:\n",
    "                tid_scores[tid] = fuzz.ratio(tw_name, author_name)\n",
    "            mat_tid = sorted(tid_scores.keys(), key=lambda tid: tid_scores[tid], reverse=True)[0]\n",
    "    return (self_promo, mat_tid)\n",
    "\n",
    "def get_self_promo_comb_tid(row):\n",
    "    p_0, p_1, p_2 = row['self_promotion'], row['self_promotion_original'], row['self_promotion_retweet']\n",
    "    if p_0:\n",
    "        if p_1:\n",
    "            return row['matched_tid_original']\n",
    "        # p_2 must be true\n",
    "        else:\n",
    "            return row['matched_tid_retweet']\n",
    "    else:\n",
    "        return ''"
   ]
  },
  {
   "cell_type": "code",
   "execution_count": 19,
   "metadata": {
    "scrolled": true
   },
   "outputs": [
    {
     "name": "stdout",
     "output_type": "stream",
     "text": [
      "processed 100000 papers...\n",
      "processed 200000 papers...\n",
      "processed 300000 papers...\n",
      "processed 400000 papers...\n",
      "processed 500000 papers...\n",
      "processed 600000 papers...\n",
      "processed 700000 papers...\n",
      "processed 800000 papers...\n",
      "processed 900000 papers...\n",
      "processed 1000000 papers...\n",
      "processed 1100000 papers...\n",
      "processed 1200000 papers...\n"
     ]
    }
   ],
   "source": [
    "reg_data = []\n",
    "\n",
    "cn = 0\n",
    "for doi in paper_li:\n",
    "    cn += 1\n",
    "    if cn%100000 == 0:\n",
    "        print('processed %d papers...'%cn)\n",
    "    if doi in doi_author_list:\n",
    "        # get pub year from paper_li later\n",
    "        for author in doi_author_list[doi]:\n",
    "            aid, affis, seq, author_name, pos = author\n",
    "            name_tupe = get_author_name(author_name)\n",
    "            if type(name_tupe) == dict:\n",
    "#                 self_promo, mat = get_self_promo(doi, author_name)\n",
    "                reg_data.append([doi, author_name, seq, pos, aid, affis])"
   ]
  },
  {
   "cell_type": "code",
   "execution_count": 20,
   "metadata": {},
   "outputs": [],
   "source": [
    "reg_data = pd.DataFrame(reg_data, columns = ['doi', 'author_name', 'authorship_seq', 'authorship_pos', \\\n",
    "                                             'author_id', 'affiliation_ids'])"
   ]
  },
  {
   "cell_type": "code",
   "execution_count": 32,
   "metadata": {},
   "outputs": [],
   "source": [
    "reg_data['DV'] = reg_data.apply(lambda row: get_self_promo(row, tid_name_sname_org), axis = 1)\n",
    "reg_data[['self_promotion_original', 'matched_tid_original']] = pd.DataFrame(reg_data.DV.values.tolist(), index = reg_data.index)\n",
    "reg_data = reg_data.drop(columns=['DV'])\n"
   ]
  },
  {
   "cell_type": "code",
   "execution_count": 33,
   "metadata": {
    "scrolled": true
   },
   "outputs": [
    {
     "data": {
      "text/plain": [
       "243313"
      ]
     },
     "execution_count": 33,
     "metadata": {},
     "output_type": "execute_result"
    }
   ],
   "source": [
    "np.sum(reg_data['self_promotion_original'] == True)"
   ]
  },
  {
   "cell_type": "code",
   "execution_count": 34,
   "metadata": {},
   "outputs": [],
   "source": [
    "# use a different `tid_name_sname` for retweets.\n",
    "reg_data['DV'] = reg_data.apply(lambda row: get_self_promo(row, tid_name_sname_retweet), axis = 1)\n",
    "reg_data[['self_promotion_retweet', 'matched_tid_retweet']] = pd.DataFrame(reg_data.DV.values.tolist(), index = reg_data.index)\n",
    "reg_data = reg_data.drop(columns=['DV'])\n"
   ]
  },
  {
   "cell_type": "code",
   "execution_count": 35,
   "metadata": {},
   "outputs": [
    {
     "data": {
      "text/plain": [
       "193495"
      ]
     },
     "execution_count": 35,
     "metadata": {},
     "output_type": "execute_result"
    }
   ],
   "source": [
    "np.sum(reg_data['self_promotion_retweet'] == True)"
   ]
  },
  {
   "cell_type": "code",
   "execution_count": 36,
   "metadata": {},
   "outputs": [],
   "source": [
    "reg_data['self_promotion'] = (reg_data['self_promotion_retweet'] == True) | (reg_data['self_promotion_original'] == True)\n",
    "reg_data['matched_tid'] = reg_data.apply(lambda row: get_self_promo_comb_tid(row), axis = 1)\n"
   ]
  },
  {
   "cell_type": "code",
   "execution_count": 37,
   "metadata": {
    "scrolled": false
   },
   "outputs": [
    {
     "data": {
      "text/plain": [
       "363314"
      ]
     },
     "execution_count": 37,
     "metadata": {},
     "output_type": "execute_result"
    }
   ],
   "source": [
    "np.sum(reg_data['self_promotion'] == True)"
   ]
  },
  {
   "cell_type": "code",
   "execution_count": 21,
   "metadata": {
    "scrolled": true
   },
   "outputs": [
    {
     "name": "stdout",
     "output_type": "stream",
     "text": [
      "processing /home/haopeng/Data/Promotion/wos_jcr.csv...\n"
     ]
    }
   ],
   "source": [
    "# Altmetric data: JAMA: Journal of the American Medical Association\n",
    "# WOS data: JAMA-JOURNAL OF THE AMERICAN MEDICAL ASSOCIATION\n",
    "# 2018 version.\n",
    "journal_impact = {}\n",
    "for line in yield_one_line(Data_Root+'wos_jcr.csv', delimiter=',', quote=csv.QUOTE_ALL):\n",
    "    rank, title, cites, jif, eigen = line\n",
    "    try:\n",
    "        impact = float(jif)\n",
    "        ntitle = norm_string(title)\n",
    "        journal_impact[ntitle] = impact\n",
    "    except:\n",
    "        continue"
   ]
  },
  {
   "cell_type": "code",
   "execution_count": 22,
   "metadata": {
    "scrolled": false
   },
   "outputs": [
    {
     "data": {
      "text/plain": [
       "11873"
      ]
     },
     "execution_count": 22,
     "metadata": {},
     "output_type": "execute_result"
    }
   ],
   "source": [
    "len(journal_impact)"
   ]
  },
  {
   "cell_type": "code",
   "execution_count": 24,
   "metadata": {
    "scrolled": false
   },
   "outputs": [
    {
     "name": "stdout",
     "output_type": "stream",
     "text": [
      "processing /home/haopeng/Data/Promotion/Affiliations.txt...\n"
     ]
    }
   ],
   "source": [
    "affi_rank = {}\n",
    "affi_country = {}\n",
    "affi_name = {}\n",
    "for line in yield_one_line(Data_Root+'Affiliations.txt'):\n",
    "    affi_id, rank, dname, lat, lon = line[0], line[1], line[3], line[9], line[10]\n",
    "    affi_rank[affi_id] = int(rank)\n",
    "    affi_name[affi_id] = dname\n",
    "    if lat != \"\" and lon != \"\":\n",
    "        lat, lon = float(lat), float(lon)\n",
    "        res = reverse_geocode.search([(lat, lon)])\n",
    "        country = res[0]['country']\n",
    "        affi_country[affi_id] = country"
   ]
  },
  {
   "cell_type": "code",
   "execution_count": 28,
   "metadata": {},
   "outputs": [
    {
     "data": {
      "text/plain": [
       "{'20455151': 'Air Liquide',\n",
       " '24386293': 'Hellenic National Meteorological Service',\n",
       " '32956416': 'Catholic University of the West',\n",
       " '35926432': 'Mackay Medical College',\n",
       " '37448385': \"Chinese People's Public Security University\",\n",
       " '37712293': 'Madeira Interactive Technologies Institute',\n",
       " '42117203': \"Queen's College, London\",\n",
       " '50614327': 'Amec Foster Wheeler',\n",
       " '62987803': 'Ukrainian State University of Finance and International Trade',\n",
       " '71576600': 'Ural State Mining University',\n",
       " '76806421': 'SELEX Sistemi Integrati',\n",
       " '78757542': 'University of Newcastle',\n",
       " '80046288': 'Walden University',\n",
       " '81020251': 'Great Lakes Institute of Management',\n",
       " '83776822': 'Shandong Institute of Business and Technology',\n",
       " '84117484': 'Collège Boréal',\n",
       " '90303723': 'Scientific Council for Government Policy',\n",
       " '94975175': 'Des Moines University',\n",
       " '95198407': 'HelpAge International',\n",
       " '98720382': 'American School of Classical Studies at Athens',\n",
       " '98899809': 'National Bank of Belgium',\n",
       " '118024222': \"Christ's Hospital\",\n",
       " '121948355': 'Thanthai Periyar Government Institute of Technology',\n",
       " '122655420': 'Penang Medical College',\n",
       " '126884977': 'Kansai Medical University',\n",
       " '132349299': 'Idexx Laboratories',\n",
       " '137612387': 'Korean Register of Shipping',\n",
       " '151854742': 'Faculdade de Medicina de Marília',\n",
       " '154099455': 'Shandong University',\n",
       " '158506100': 'Pennsylvania Board of Probation and Parole',\n",
       " '162489102': 'University of Batna',\n",
       " '165644332': 'Jalpaiguri Government Engineering College',\n",
       " '167598709': 'Osaka Ohtani University',\n",
       " '178498160': 'American University in Bulgaria',\n",
       " '189460059': 'El Bosque University',\n",
       " '192633058': 'University of Saint Joseph',\n",
       " '194999787': 'Cancer Council Queensland',\n",
       " '196652580': 'Swami Ramanand Teerth Marathwada University',\n",
       " '203899302': 'Universiti Teknologi Petronas',\n",
       " '204250943': 'Gehl Architects',\n",
       " '205665586': 'Rajendra Agricultural University',\n",
       " '210716285': 'University of Applied Sciences Leiden',\n",
       " '282505178': \"Institut d'études politiques de Lille\",\n",
       " '865679216': 'Colorado Heights University',\n",
       " '874112308': 'Southern Technical College',\n",
       " '880992783': 'CombiMatrix',\n",
       " '898088062': 'Ghana Technology University College',\n",
       " '926333354': 'Tetra Tech',\n",
       " '1283052075': 'American Legacy Foundation',\n",
       " '1286341389': 'Chengdu Neusoft University',\n",
       " '1288894424': 'Health Canada',\n",
       " '1290221998': 'Detroit Institute of Arts',\n",
       " '1292894508': 'Roswell Park Cancer Institute',\n",
       " '1299743455': 'Department of Labour (New Zealand)',\n",
       " '1303743778': 'Dharamshila Cancer Hospital and Research Centre',\n",
       " '1312008915': 'Kuakini Medical Center',\n",
       " '1316064682': 'LinkedIn',\n",
       " '1317197149': 'AIDS Project Los Angeles',\n",
       " '1320898462': 'Brill Publishers',\n",
       " '1322780083': 'Minnesota Department of Natural Resources',\n",
       " '1324570277': 'Museum of the City of New York',\n",
       " '1330569906': 'Austrian Federal Economic Chamber',\n",
       " '1336114048': 'American Wind Energy Association',\n",
       " '1338359566': 'THD Electronics',\n",
       " '2799483119': 'Society for Public Health Education',\n",
       " '2799823163': 'Art Institute of Fort Lauderdale',\n",
       " '2799826124': 'Oak Hills Christian College',\n",
       " '2799845340': 'Special Astrophysical Observatory',\n",
       " '2799887408': 'Adventist University of Africa',\n",
       " '2799949656': 'Nairobi Hospital',\n",
       " '2800001333': 'Bundang Jesaeng Hospital',\n",
       " '2800096636': 'Riverview Psychiatric Center',\n",
       " '2800218097': 'Pikeville Medical Center',\n",
       " '2800415932': 'Pueblo Community College',\n",
       " '2800620903': 'Alberta Advanced Education',\n",
       " '2800786371': 'Barlow Respiratory Hospital',\n",
       " '2800804617': 'Laniado Hospital',\n",
       " '2800902709': 'Randolph Community College',\n",
       " '2800941160': 'Providence Newberg Medical Center',\n",
       " '2801045957': 'SSAB (Sweden)',\n",
       " '2801140561': 'Hanil University',\n",
       " '2801198184': 'Fraunhofer Institute for High-Speed Dynamics, Ernst-Mach-Institut',\n",
       " '2801395053': 'Kanto Junior College',\n",
       " '2801486053': 'Catherine Booth Hospital',\n",
       " '2801523276': 'Belgian Federal Science Policy Office',\n",
       " '2801578167': 'Genetics Society of America',\n",
       " '2801729525': 'Rex Hospital',\n",
       " '2802057489': 'Moors for the Future Partnership',\n",
       " '2802078327': 'Joint Typhoon Warning Center',\n",
       " '2802414496': 'Groupe SEB',\n",
       " '2802706549': 'Consortium of Universities for Global Health',\n",
       " '2802932681': 'Accademia di Belle Arti di Napoli',\n",
       " '2802957943': 'Georgia Department of Labor',\n",
       " '2802968421': 'Ashland Community Hospital',\n",
       " '2802998804': 'Los Angeles Community College District',\n",
       " '2803016318': \"Gilda's Club\",\n",
       " '2803026726': 'University of Utah Hospital',\n",
       " '2803056085': 'Veer Surendra Sai Medical College and Hospital',\n",
       " '2803059467': 'Memphis Zoo',\n",
       " '2830045': 'Indian Institute of Advanced Study',\n",
       " '4693666': 'CGG',\n",
       " '7377986': 'Takushoku University',\n",
       " '7725651': 'Vector Informatik',\n",
       " '8679417': 'Open University of Hong Kong',\n",
       " '9623796': 'Cancer Council New South Wales',\n",
       " '10108243': 'South Shields',\n",
       " '11617743': 'ANAS',\n",
       " '18014758': 'Simon Fraser University',\n",
       " '24864189': 'Magnesium Elektron',\n",
       " '27650515': 'Kobe Gakuin University',\n",
       " '33256026': 'German Research Centre for Artificial Intelligence',\n",
       " '33851549': 'Coimbatore Medical College',\n",
       " '38257878': 'Energy Biosciences Institute',\n",
       " '40695006': 'Open Geospatial Consortium',\n",
       " '47987569': 'CIRANO',\n",
       " '55931168': 'Çukurova University',\n",
       " '56691919': 'Christian Theological Seminary',\n",
       " '58064216': 'Bellevue University',\n",
       " '60205797': 'Abilene Christian University',\n",
       " '70277191': 'Institute of Technology, Carlow',\n",
       " '70865968': 'Rhine-Waal University of Applied Sciences',\n",
       " '75380228': 'McKinsey & Company',\n",
       " '82215649': 'Federal Railroad Administration',\n",
       " '100633361': 'University of Massachusetts Dartmouth',\n",
       " '107558787': 'Shin Ansan University',\n",
       " '107740395': 'Sri Venkateswara Institute of Medical Sciences',\n",
       " '115301423': 'Hiroshima National College of Maritime Technology',\n",
       " '119906906': 'National War College',\n",
       " '119913878': 'Mount Ida College',\n",
       " '132468318': 'Watkins-Johnson Company',\n",
       " '134761920': 'EADS Astrium Space Transportation',\n",
       " '135369572': 'Pakistan Meteorological Department',\n",
       " '137265193': 'University of Chester',\n",
       " '138272832': 'Devi Ahilya Vishwavidyalaya',\n",
       " '142393192': 'College of Staten Island',\n",
       " '142947616': 'Institute of Cancer Research',\n",
       " '159360068': 'University of Piura',\n",
       " '159885104': 'École pratique des hautes études',\n",
       " '165488957': 'Lingnan University',\n",
       " '169729158': 'Syktyvkar State University',\n",
       " '173457850': 'Narajole Raj College',\n",
       " '174110171': 'SKR Engineering College',\n",
       " '174689663': 'Universidad de Flores',\n",
       " '177208993': 'Gold Fields Ltd.',\n",
       " '184908088': 'Korea Military Academy',\n",
       " '187792471': 'Ionian University',\n",
       " '194019607': 'University of Ioannina',\n",
       " '201487725': 'University of Atacama',\n",
       " '204831749': 'Southwestern University of Finance and Economics',\n",
       " '209822943': 'Ministry of Agriculture, Food Security and Cooperatives',\n",
       " '214516754': 'Pioneer Natural Resources',\n",
       " '253757931': 'Sunrise Communications AG',\n",
       " '263512288': 'Scientific University of the South',\n",
       " '296476524': 'Royal Australian and New Zealand College of Radiologists',\n",
       " '865455464': 'Better Government Association',\n",
       " '871786723': 'MBIA',\n",
       " '876193797': 'VIT University',\n",
       " '900890020': 'University of Palermo',\n",
       " '916559398': 'Kindai University',\n",
       " '921011042': 'Amateur Athletic Union',\n",
       " '922088553': 'Mendel Biotechnology, Inc.',\n",
       " '932542399': 'Brain and Creativity Institute',\n",
       " '1280755829': 'Peace Corps',\n",
       " '1288214837': 'United States Naval Research Laboratory',\n",
       " '1297473319': 'National Portrait Gallery, London',\n",
       " '1299022934': 'United States Department of Health and Human Services',\n",
       " '1299170990': 'Samarkand State University',\n",
       " '1299422453': 'National Institute of Statistics and Geography',\n",
       " '1308309334': 'Translational Research Institute',\n",
       " '1319399744': 'Secretariat of the Pacific Community',\n",
       " '1330347796': 'United States Department of Defense',\n",
       " '1332948034': 'CBS Laboratories',\n",
       " '2799360765': 'Thomas Jefferson University Hospital',\n",
       " '2799858192': 'London School of Business and Management',\n",
       " '2800116692': 'Mississippi Museum of Natural Science',\n",
       " '2800139495': 'Science for Life Laboratory',\n",
       " '2800231838': 'New England Foundation for the Arts',\n",
       " '2800257984': 'Assiniboine Community College',\n",
       " '2800378187': 'Inha University in Tashkent',\n",
       " '2800415795': 'Almas Hospital',\n",
       " '2800425962': 'CPB Netherlands Bureau for Economic Policy Analysis',\n",
       " '2800447973': 'University of French Guiana',\n",
       " '2800638548': 'Kern Medical Center',\n",
       " '2800648773': 'Migraine Trust',\n",
       " '2800650105': 'Donbass State Pedagogical University',\n",
       " '2800663845': 'Bigelow Laboratory For Ocean Sciences',\n",
       " '2800805412': 'Catholic University College of Bruges–Ostend',\n",
       " '2801056948': 'Society for the Advancement of Scandinavian Study',\n",
       " '2801123574': 'Art Academy of Cincinnati',\n",
       " '2801155882': 'Bluegrass Community and Technical College',\n",
       " '2801204984': 'Youngnam Theological University and Seminary',\n",
       " '2801246515': 'PIH Health Hospital',\n",
       " '2801551205': 'The Ohio State University at Marion',\n",
       " '2801965753': 'United States Global Change Research Program',\n",
       " '2802135278': 'Desert Botanical Garden',\n",
       " '2802206110': 'Jewish Museum',\n",
       " '2802249273': 'Mallow General Hospital',\n",
       " '2802265490': 'Imagine Optic (France)',\n",
       " '2802853663': 'Odyssey House',\n",
       " '2802987467': 'Harlem Hospital Center',\n",
       " '746868': 'Alice Lloyd College',\n",
       " '6090238': 'Iwate Prefectural University',\n",
       " '10595761': 'American College of Radiology',\n",
       " '10902133': 'James I University',\n",
       " '11019714': 'University of A Coruña',\n",
       " '13399601': 'Andover Newton Theological School',\n",
       " '17170469': 'Solvay',\n",
       " '24715933': 'University of La Réunion',\n",
       " '26402615': 'Raghu Engineering College',\n",
       " '27963644': 'HHL Leipzig Graduate School of Management',\n",
       " '28304128': 'Alcoa',\n",
       " '29739308': 'Guangxi Normal University',\n",
       " '31637741': 'Inner Mongolia University of Science and Technology',\n",
       " '33003672': 'Indian Institute of Management Indore',\n",
       " '33162209': 'Islamic Azad University of Lahijan',\n",
       " '34771391': 'University of Cyprus',\n",
       " '41458283': 'Federal University of Tocantins',\n",
       " '47807185': 'Saigon University',\n",
       " '55862774': 'West Bengal State University',\n",
       " '68376335': 'Rajiv Gandhi College of Veterinary and Animal Sciences',\n",
       " '70745867': 'KLA-Tencor',\n",
       " '76214153': 'Lanzhou University',\n",
       " '79238269': 'University of Seville',\n",
       " '88580380': 'La Poste',\n",
       " '88713005': 'Fachhochschule Flensburg',\n",
       " '89470330': 'Merial',\n",
       " '90329211': 'Ulyanovsk State Technical University',\n",
       " '98251732': 'McMaster University',\n",
       " '99490713': 'Stetson University',\n",
       " '112429257': 'Kokugakuin Tochigi Junior College',\n",
       " '115570527': 'Dublin Institute of Technology',\n",
       " '120378409': 'Chelyabinsk State Pedagogical University',\n",
       " '122754167': 'MediGene',\n",
       " '126520041': 'University of Science and Technology of China',\n",
       " '126688049': 'The Dartmouth Institute for Health Policy and Clinical Practice',\n",
       " '137459256': 'Hyogo College of Medicine',\n",
       " '137674396': 'RK University',\n",
       " '145294602': 'Wessex Water',\n",
       " '145581781': 'Chongqing Technology and Business University',\n",
       " '145824119': 'Ipca Laboratories Ltd.',\n",
       " '146592066': 'Westinghouse Astronuclear Laboratory',\n",
       " '152195623': 'Misurata University',\n",
       " '152333473': 'Ecolab',\n",
       " '152812213': 'Pennsylvania Transportation Institute',\n",
       " '153515283': 'European Central Bank',\n",
       " '160986391': 'Los Angeles Valley College',\n",
       " '162999068': 'Touro College of Osteopathic Medicine',\n",
       " '164946172': 'Hengshui University',\n",
       " '166722992': 'University of Massachusetts Medical School',\n",
       " '168995470': 'Tellus Institute',\n",
       " '169541294': 'Flinders University',\n",
       " '170833651': 'Dr. B.C. Roy Engineering College, Durgapur',\n",
       " '174154184': 'Lee University',\n",
       " '178117548': 'GlobalSantaFe Corporation',\n",
       " '189532585': 'Japan Institute for Labour Policy and Training',\n",
       " '194059303': 'Weyerhaeuser',\n",
       " '196905989': 'Ramtron International',\n",
       " '197639755': 'St. Thomas Aquinas College',\n",
       " '203854029': 'Central Luzon State University',\n",
       " '205885097': 'Symbol Technologies',\n",
       " '206926436': 'National League for Nursing',\n",
       " '212038754': 'Siliconware Precision Industries Company, Ltd.',\n",
       " '217913027': 'Flamel Technologies',\n",
       " '224382143': 'The Explorers Club',\n",
       " '249221365': 'Kwangju Health College',\n",
       " '875293437': 'RIU Hotels',\n",
       " '877506347': 'Abertay University',\n",
       " '900338111': 'Alagappa Government Arts College',\n",
       " '1280640908': 'The Nature Conservancy',\n",
       " '1286141780': 'Library and Archives Canada',\n",
       " '1295121038': 'Leeds General Infirmary',\n",
       " '1295960279': 'JASCO Applied Sciences',\n",
       " '1296611117': 'Indian Grassland and Fodder Research Institute',\n",
       " '1301400270': 'Michigan Molecular Institute',\n",
       " '1305322584': 'Queensland Environmental Protection Agency',\n",
       " '1308928477': 'Equal Opportunities Commission',\n",
       " '1312504184': 'Genomatix',\n",
       " '1314135232': \"Nationwide Children's Hospital\",\n",
       " '1316424625': 'Minaret of Freedom Institute',\n",
       " '1317897188': \"Children's Institute Inc.\",\n",
       " '1321659569': 'European Space Operations Centre',\n",
       " '1322859765': 'Guidewire Software',\n",
       " '1327930874': 'Apollo Hospitals',\n",
       " '1336939341': 'Kaiser Family Foundation',\n",
       " '1342842691': 'Sons of the American Revolution',\n",
       " '2799665334': 'Royal College of Ophthalmologists',\n",
       " '2799709066': 'Bangladesh Academy of Sciences',\n",
       " '2799887075': 'Calderdale Royal Hospital',\n",
       " '2800068374': 'Rocky Mountain College of Art and Design',\n",
       " '2800085125': 'Mornington Peninsula Shire',\n",
       " '2800096870': 'Staatliche Akademie der Bildenden Künste Stuttgart',\n",
       " '2800271471': 'Society for Endocrinology',\n",
       " '2800447175': 'Arizona Historical Society',\n",
       " '2800649613': 'University of Missouri Health System',\n",
       " '2800713431': 'Saint Vincent Hospital',\n",
       " '2800878267': 'American Heart Institute',\n",
       " '2801038763': 'Henry Cogswell College',\n",
       " '2801087145': 'Coventry City Council',\n",
       " '2801092184': 'Central Water and Power Research Station',\n",
       " '2801168572': 'Washington State Department of Early Learning',\n",
       " '2801225050': 'Bronglais General Hospital',\n",
       " '2801260349': 'Gateway Community and Technical College',\n",
       " '2801322200': 'Beebe Healthcare',\n",
       " '2801418629': 'New York State Office of Parks, Recreation and Historic Preservation',\n",
       " '2801737446': 'Supreme Council of Antiquities',\n",
       " '2801750073': 'Centenary College of New Jersey',\n",
       " '2801803865': 'Tanana Chiefs Conference',\n",
       " '2801979358': 'Wesley Biblical Seminary',\n",
       " '2801983610': 'Digital Public Library of America',\n",
       " '2802043524': 'University of Somalia',\n",
       " '2802052008': 'Bethany University',\n",
       " '2802126911': 'Von Roll (Switzerland)',\n",
       " '2802217488': 'North Carolina Department of Agriculture and Consumer Services',\n",
       " '2802250515': 'Anti Corruption and Civil Rights Commission',\n",
       " '2802367119': 'Tenri Hospital',\n",
       " '2802466663': 'State Museum of Natural History Karlsruhe',\n",
       " '2802662215': 'Tinker Air Force Base',\n",
       " '2802710900': 'Czech Olympic Committee',\n",
       " '2802723752': 'Derriford Hospital',\n",
       " '2802862141': 'North Okkalapa General Hospital',\n",
       " '2802865615': 'Pennsylvania Coalition Against Rape',\n",
       " '2802999702': 'Regional Municipality of Niagara',\n",
       " '2803035111': 'Fundamental Research on Matter Institute for Atomic and Molecular Physics',\n",
       " '2803051454': 'Jack Miller Center',\n",
       " '2945732944': 'Lyft',\n",
       " '443798': 'National Defense Academy of Japan',\n",
       " '8764889': 'University of Gondar',\n",
       " '11193315': 'Instituto Superior de Contabilidade e Administracao do Porto',\n",
       " '16103854': 'Remote Sensing Center',\n",
       " '33523713': 'Civil Aeronautics Administration',\n",
       " '35637935': 'Tallahassee Community College',\n",
       " '36152291': 'Henan University of Technology',\n",
       " '37415318': 'Bates College',\n",
       " '38007976': 'De Lin Institute of Technology',\n",
       " '38574745': 'AMP Capital',\n",
       " '39553462': 'National University of San Juan',\n",
       " '43518871': 'National Kaohsiung Marine University',\n",
       " '46520130': 'Chaohu University',\n",
       " '48350267': 'Central Japan Railway Company',\n",
       " '51205905': 'KEDGE Business School',\n",
       " '51993856': 'CRI',\n",
       " '60158472': 'Concordia University',\n",
       " '60341648': 'The Evergreen State College',\n",
       " '60922557': 'Upper Iowa University',\n",
       " '67868205': 'Hanoi University of Science',\n",
       " '68243183': 'Institute of Molecular Biology and Genetics of NASU',\n",
       " '73650269': 'Nomura Research Institute',\n",
       " '74813324': 'Mekelle University',\n",
       " '75522678': 'Tokyo University of Science, Yamaguchi',\n",
       " '79619799': 'University of Birmingham',\n",
       " '90060838': 'Africa Rice Center',\n",
       " '98905743': 'Kastamonu University',\n",
       " '99418890': 'Northwestern Polytechnic University',\n",
       " '100417612': 'CJ CheilJedang',\n",
       " '100801824': 'Madras Institute of Technology',\n",
       " '109780856': 'Argosy University',\n",
       " '118073183': 'Meharry Medical College',\n",
       " '119234918': 'University of Northern Iowa',\n",
       " '124726342': 'Hong Duc University',\n",
       " '125968788': 'Norwegian Geotechnical Institute',\n",
       " '136605902': 'Royal College of Music',\n",
       " '142899784': 'University of Sfax',\n",
       " '144302436': 'Rijkswaterstaat',\n",
       " '148212101': 'New Era University',\n",
       " '149899117': 'Max Planck Society',\n",
       " '156762387': 'Addis Continental Institute of Public Health',\n",
       " '156802259': 'Eastern Virginia Medical School',\n",
       " '166382143': 'Moscow State University of Printing Arts',\n",
       " '180498684': 'Metropolitan University Prague',\n",
       " '183003952': 'Ilia State University',\n",
       " '187521650': 'County College of Morris',\n",
       " '197358716': 'Wirral Metropolitan College',\n",
       " '199440890': 'American University of Sharjah',\n",
       " '200492978': 'Coimbatore Institute of Technology',\n",
       " '206192294': 'Center for European Integration Studies',\n",
       " '221092938': 'Krishna University',\n",
       " '236957219': 'Notre Dame Seishin University',\n",
       " '243062068': 'MAHLE Powertrain',\n",
       " '261911118': 'Bahrain Petroleum Company',\n",
       " '292141241': 'Munich School of Philosophy',\n",
       " '861081372': 'Selkirk College',\n",
       " '884084634': 'John Snow, Inc',\n",
       " '887689190': 'Axioma',\n",
       " '896284681': 'FCm Travel Solutions',\n",
       " '1281389954': 'Foundation for Innovative New Diagnostics',\n",
       " '1283532917': 'American Refugee Committee',\n",
       " '1285269432': 'El Economista',\n",
       " '1302598760': 'National FFA Organization',\n",
       " '1304256225': 'University of Wisconsin System',\n",
       " '1312846040': 'Directorate General of Traffic',\n",
       " '1313967475': 'American Academy of Arts and Sciences',\n",
       " '1314284307': 'Wiley-VCH',\n",
       " '1315677300': 'Puerto Rico Department of Natural and Environmental Resources',\n",
       " '1318101084': 'Integris Baptist Medical Center',\n",
       " '1319467667': 'Southern Education and Library Board',\n",
       " '1321067030': 'Zoological Society of London',\n",
       " '1321573313': 'Chesapeake Regional Medical Center',\n",
       " '1329578906': 'WWF-India',\n",
       " '1335486098': 'Electric Power Research Institute',\n",
       " '2799756090': 'Columbus Zoo and Aquarium',\n",
       " '2799891779': 'Archaeological Conservancy',\n",
       " '2800102685': 'Santosh University',\n",
       " '2800215711': 'Robina Hospital',\n",
       " '2800363604': 'Walter Reed National Military Medical Center',\n",
       " '2800464100': 'Birmingham Community Healthcare NHS Trust',\n",
       " '2800486126': 'Central Norway Regional Health Authority',\n",
       " '2800557468': 'Utah State University Eastern',\n",
       " '2800616835': 'Engineers Without Borders Canada',\n",
       " '2800620092': 'Sarojini Devi Eye Hospital',\n",
       " '2800842210': 'Carter BloodCare',\n",
       " '2800941145': 'Umrao Hospital',\n",
       " '2801005815': 'Egyptian e-Learning University',\n",
       " '2801163536': 'West Herts College',\n",
       " '2801285164': 'Grantham Hospital',\n",
       " '2801376285': 'Scott Community College',\n",
       " '2801911633': 'King Fahd Medical City',\n",
       " '2802005960': 'Society for Modeling and Simulation International',\n",
       " '2802056670': 'Seasteading Institute',\n",
       " '2802308956': 'Raffles College of Design and Commerce',\n",
       " '2802356059': 'Tsuen Wan Adventist Hospital',\n",
       " '2802542201': 'Odessa College',\n",
       " '2802681329': 'Wekerle Business School',\n",
       " '2802814319': 'Northern Hospital',\n",
       " '2802983449': 'Centre for Life',\n",
       " '2803094843': 'Central Board of Secondary Education',\n",
       " '2911870961': 'Takaoka University of Law',\n",
       " '596593': 'Society for the Psychological Study of Social Issues',\n",
       " '9508535': 'Arkansas Tech University',\n",
       " '12240146': 'Australian Institute of Sport',\n",
       " '12367965': 'ARIAD Pharmaceuticals, Inc.',\n",
       " '25112270': 'Federal University of Pernambuco',\n",
       " '27941296': 'Sahmyook University',\n",
       " '34625448': 'M. H. Saboo Siddik College of Engineering',\n",
       " '36786129': 'Fluke Corporation',\n",
       " '38182162': 'Northwest Vista College',\n",
       " '41641357': 'Ege University',\n",
       " '47141704': 'Daewoong Pharmaceutical Co., Ltd',\n",
       " '49439280': 'Kyrgyz National University',\n",
       " '51195161': 'EMLYON Business School',\n",
       " '56016603': 'M. Kumarasamy College of Engineering',\n",
       " '58422712': 'International Livestock Research Institute',\n",
       " '65571275': 'Concord University',\n",
       " '66809481': 'Southern Cross University',\n",
       " '71564117': 'Murray Edwards College',\n",
       " '72023434': \"Doshisha Women's College of Liberal Arts\",\n",
       " '75900474': 'Hubei University',\n",
       " '77697173': 'Federal Reserve Bank of Chicago',\n",
       " '78613837': 'Institute of Technical Education',\n",
       " '79940851': 'University of Brescia',\n",
       " '88268686': 'National Aviation Academy',\n",
       " '89020219': 'Tokyo Kasei-Gakuin University',\n",
       " '90656587': 'National Bank of Poland',\n",
       " '95056601': 'Actelion',\n",
       " '97187500': 'Cubist Pharmaceuticals',\n",
       " '99383213': 'Indian Institute of Plantation Management',\n",
       " '102335020': 'Karlsruhe Institute of Technology',\n",
       " '111381250': 'Hebei Medical University',\n",
       " '114650741': 'Chechen State University',\n",
       " '114668607': 'University of Applied Sciences Hof',\n",
       " '120825670': 'Yunnan Normal University',\n",
       " '122274255': 'Space Telescope European Coordinating Facility',\n",
       " '123665430': 'Shri B. M. Patil Medical College',\n",
       " '125133608': 'Royal Bank of Canada',\n",
       " '126533617': 'Alliant International University',\n",
       " '128241164': 'J. Mack Robinson College of Business',\n",
       " '131863948': 'Mie Prefectural College of Nursing',\n",
       " '134784518': 'Institute of Business Administration, Karachi',\n",
       " '135277319': 'Public Power Corporation of Greece',\n",
       " '136761661': 'Institut Pasteur Korea',\n",
       " '139176818': 'Institut Gaspard Monge',\n",
       " '140743402': 'The Shmoo Group',\n",
       " '147488377': 'Mandsaur Institute of Technology',\n",
       " '147729237': 'Central Bank of Argentina',\n",
       " '149137203': 'Guiyang Medical University',\n",
       " '149768937': 'Université de Namur',\n",
       " '153330799': 'Smith Richardson Foundation',\n",
       " '154483336': 'Lakeridge Health Corporation',\n",
       " '160262251': 'Thompson Rivers University',\n",
       " '162838928': 'National Chung Hsing University',\n",
       " '163698344': 'Entegris',\n",
       " '165862685': \"St George's, University of London\",\n",
       " '177933477': 'Second Military Medical University',\n",
       " '179301192': 'Mount Saint Vincent University',\n",
       " '186217134': 'Future University in Egypt',\n",
       " '205237279': 'Nankai University',\n",
       " '311431067': 'Yeni Yüzyıl University',\n",
       " '315242079': 'UCL Faculty of Laws',\n",
       " '887998513': 'Bharati Vidyapeeth University',\n",
       " '900356737': 'Fuchs Petrolub',\n",
       " '910881529': 'Intas Biopharmaceuticals',\n",
       " '919734397': 'Ministry of Posts and Telecommunications',\n",
       " '921685582': 'Naval School',\n",
       " '1288162130': 'University of Colorado Hospital',\n",
       " '1292697047': 'SPARTA, Inc.',\n",
       " '1299864998': 'North Tees and Hartlepool NHS Foundation Trust',\n",
       " '1303010205': 'Arizona Department of Transportation',\n",
       " '1307241458': 'National Iranian South Oil Company',\n",
       " '1315147158': 'Chemonics',\n",
       " '1335992430': 'Pan American World Airways',\n",
       " '1339999536': 'Skidmore, Owings & Merrill',\n",
       " '1342273802': 'Ubisoft Montreal',\n",
       " '2799368139': 'Richmond Hospital',\n",
       " '2799405598': 'Coastal States Organization',\n",
       " '2799414453': 'Higher Education Authority',\n",
       " '2799440789': 'Atlantic Cape Community College',\n",
       " '2799513029': 'Security Information Service',\n",
       " '2799885155': 'James Cancer Hospital',\n",
       " '2799885938': 'Center for Advancing Innovation',\n",
       " '2800003084': 'West Virginia University at Parkersburg',\n",
       " '2800088848': 'Egypt Nanotechnology Center',\n",
       " '2800178121': 'Senvion SE',\n",
       " '2800195167': 'Croatian Academic and Research Network',\n",
       " '2800238109': 'Withybush General Hospital',\n",
       " '2800314047': 'Redwood Memorial Hospital',\n",
       " '2800396611': 'Evergreen Valley College',\n",
       " '2800545519': 'Zithulele Hospital',\n",
       " '2800596572': 'Dhulikhel Hospital',\n",
       " '2800644361': 'Herzog Hospital',\n",
       " '2800651190': 'Makivik Corporation',\n",
       " '2800668805': 'Surrey Memorial Hospital',\n",
       " '2800736688': 'Burroughs Wellcome Fund',\n",
       " '2800776015': 'Wellcome Trust Centre for Cell-Matrix Research',\n",
       " '2800794643': 'Prairie Bible Institute',\n",
       " '2801052491': 'Staten Island University Hospital',\n",
       " '2801106107': 'New York Community Trust',\n",
       " '2801153922': 'Hohenstein Institute',\n",
       " '2801220108': 'Government General Hospital',\n",
       " '2801255070': 'L V Prasad Eye Institute',\n",
       " '2801380292': 'Deutsches Archäologisches Institut',\n",
       " '2801406527': 'Hedmark County Council',\n",
       " '2801582336': 'Agios Pavlos General Hospital',\n",
       " '2801728769': 'American Psychopathological Association',\n",
       " '2801827564': 'Herlev Hospital',\n",
       " '2801871972': 'Chengdu Research Base of Giant Panda Breeding',\n",
       " '2802014341': 'Coalinga State Hospital',\n",
       " '2802464748': 'Sports Medicine Australia',\n",
       " '2802500869': 'Biomedical Primate Research Centre',\n",
       " '2802554885': 'Stanley Foundation',\n",
       " '2802640592': 'British School of Osteopathy',\n",
       " '2802656227': 'Universidad César Vallejo',\n",
       " '2802895650': 'Institution of Engineers',\n",
       " '2803082546': 'Saint George Hospital',\n",
       " '2821890423': 'American Entomological Society',\n",
       " '2890559060': 'Shri Dharmasthala Manjunatheswara College of Ayurveda and Hospital',\n",
       " '2890826285': 'Akademie Mode & Design',\n",
       " '324100': 'Bowie State University',\n",
       " '830141': 'National Housing Federation',\n",
       " '905417': 'State Electricity Commission of Victoria',\n",
       " '1723204': 'Expro',\n",
       " '2302801': 'Samsung Economic Research Institute',\n",
       " '11006740': 'Southern California Coastal Water Research Project',\n",
       " '16915124': 'Duisenberg School of Finance',\n",
       " '34275845': 'Shri Guru Gobind Singhji Institute of Engineering and Technology',\n",
       " '38234673': 'Instituto Tecnológico Superior de Irapuato',\n",
       " '40579832': 'Iceland GeoSurvey',\n",
       " '43236060': 'Intercell',\n",
       " '46124902': 'Eveready Battery Company',\n",
       " '51314090': 'Josip Juraj Strossmayer University of Osijek',\n",
       " '57851846': 'Nuclear Energy Institute',\n",
       " '60488453': 'Middlesex University',\n",
       " '61388454': 'Blue Mountain College',\n",
       " '64177102': 'Trinity Evangelical Divinity School',\n",
       " '70827415': 'China Earthquake Networks Center',\n",
       " '81689372': 'International Flavors & Fragrances, Inc.',\n",
       " '83321563': 'Samford University',\n",
       " '83908531': 'Aeronautical Systems Center',\n",
       " '84279003': 'Indian Institute of Petroleum',\n",
       " '90274647': 'University of South Carolina Beaufort',\n",
       " '91712215': 'Saarland University',\n",
       " '97553796': 'University of Craiova',\n",
       " '109004778': 'Telcordia Technologies',\n",
       " '112471378': 'Central University of Tamil Nadu',\n",
       " '116680314': 'Chitose Institute of Science and Technology',\n",
       " '131528713': 'Ministry of Public Works and Transport',\n",
       " '141595442': 'University of Bucharest',\n",
       " '146696386': 'AAI Corporation',\n",
       " '153291389': 'Sydney Conservatorium of Music',\n",
       " '154387261': 'Vita-Salute San Raffaele University',\n",
       " '158376284': 'Concordia University Irvine',\n",
       " '158749337': 'Princess Sumaya University for Technology',\n",
       " '160344538': 'Indian Institute of Chemical Biology',\n",
       " '160459526': 'Illinois Valley Community College',\n",
       " '162336795': 'Derozio Memorial College',\n",
       " '165106657': 'Chien Hsin University of Science and Technology',\n",
       " '165339363': 'University of Oviedo',\n",
       " '170254772': 'Decision Sciences Institute',\n",
       " '184574504': 'Samrat Ashok Technological Institute',\n",
       " '184793217': 'ViiV Healthcare',\n",
       " '205923962': 'Kalmyk State University',\n",
       " '283651000': \"The King's University\",\n",
       " '295934401': 'Parmenides Foundation',\n",
       " '340872654': 'GlaxoSmithKline Pharmaceuticals Ltd',\n",
       " '343975184': 'Dawood University of Engineering and Technology',\n",
       " '866986790': 'International Modeling and Talent Association',\n",
       " '867563395': 'Chamber of commerce',\n",
       " '871925143': 'Metabolix',\n",
       " '897884940': 'Cybermed',\n",
       " '903992581': 'Solazyme',\n",
       " '906454871': 'Korea International School Jeju',\n",
       " '921181040': 'SAMU Social',\n",
       " '923951264': 'Association of Medical Illustrators',\n",
       " '928204655': 'Centre for European Reform',\n",
       " '930072361': 'Universiti Tun Hussein Onn Malaysia',\n",
       " '1280045555': 'International Student Exchange Programs',\n",
       " '1280467473': 'Deborah Heart and Lung Center',\n",
       " '1282161747': 'Central Science Laboratory',\n",
       " '1282700336': 'Debre Berhan University',\n",
       " '1283382300': 'BMW',\n",
       " '1286962768': 'National Water and Sewerage Corporation',\n",
       " '1287947991': 'New York State Bar Association',\n",
       " '1293070606': 'Agios Pharmaceuticals',\n",
       " '1293811555': 'Philippines Department of Health',\n",
       " '1300995848': 'American Association of University Professors',\n",
       " '1308199150': 'Grontmij',\n",
       " '1309307044': 'Central Glass and Ceramic Research Institute',\n",
       " '1309400984': 'Boston Biomedical Research Institute',\n",
       " '1317216055': 'Vermont Department of Corrections',\n",
       " '1317774081': 'International Institute for Applied Systems Analysis',\n",
       " '1325183904': 'University of Freiburg Faculty of Biology',\n",
       " '2214623540': 'Louisville Astronomical Society',\n",
       " '2799303410': 'Bozok Universitesi',\n",
       " '2799321762': 'Wuxi AppTec (China)',\n",
       " '2799325720': 'Sydney Missionary and Bible College',\n",
       " '2799492276': 'PeaceHealth St. John Medical Center',\n",
       " '2799569211': 'Haywood Community College',\n",
       " '2799585049': 'Settlers Hospital',\n",
       " '2799641166': 'Asia Foundation',\n",
       " '2799649065': 'The Aga Khan University Hospital',\n",
       " '2799657458': 'Ealing Hospital',\n",
       " '2799714274': 'Shanghai Astronomical Observatory',\n",
       " '2799990003': 'Vibhavadi Hospital',\n",
       " '2800109798': 'African Studies Association',\n",
       " '2800326109': 'Detroit Medical Center',\n",
       " '2800450866': 'Czech National Bank',\n",
       " '2800535057': 'IP Australia',\n",
       " '2800588879': 'British International Studies Association',\n",
       " '2800679380': 'Fistula Foundation',\n",
       " '2800728469': 'Fiona Stanley Hospital',\n",
       " '2800797889': 'Northridge Hospital Medical Center',\n",
       " '2800863163': 'Polish Institute of Arts and Sciences of America',\n",
       " '2801444876': 'Royal Berkshire NHS Foundation Trust',\n",
       " '2801657420': 'Cargill (Canada)',\n",
       " '2801673036': 'Paris Chamber of Commerce',\n",
       " '2801725644': 'Mystic Seaport',\n",
       " '2801944813': 'Safe Kids Worldwide',\n",
       " '2802180431': 'Russell Group',\n",
       " '2802508454': 'Ho Chi Minh City Medicine and Pharmacy University',\n",
       " '2802759389': 'Providence VA Medical Center',\n",
       " '2802985673': 'Cooper Hospital',\n",
       " '2803004491': 'Structural Genomics Consortium',\n",
       " '2804989476': 'Mater Dei High School',\n",
       " '2838142686': 'Grantsmanship Center',\n",
       " '2948663404': 'Boston Scientific Corporation',\n",
       " '617233': 'University of San Carlos',\n",
       " '4853710': 'Siberian Federal University',\n",
       " '6066122': 'University of Montevallo',\n",
       " '7969619': 'Oak Ridge Institute for Science and Education',\n",
       " '12685407': 'Toros University',\n",
       " '19990318': 'Federal Reserve Bank of San Francisco',\n",
       " '25561731': 'DigiCash',\n",
       " '26449359': 'Avondale College',\n",
       " '40352118': 'Forest Products Commission',\n",
       " '40688639': 'Dr. Ambedkar Institute of Technology',\n",
       " '43501950': 'Tacoma Community College',\n",
       " '48530168': 'Wheelock College',\n",
       " '55546527': 'Indian Institute of Public Administration',\n",
       " '59422894': 'University of South Florida Sarasota–Manatee',\n",
       " '60200437': 'Potsdam Institute for Climate Impact Research',\n",
       " '60493950': 'Salem College',\n",
       " '60921084': 'Avaya',\n",
       " '63129356': 'Qingdao Technical College',\n",
       " '69567187': 'Emerging Pathogens Institute',\n",
       " '75619284': 'Universidade Positivo',\n",
       " '76458431': 'Mizuho Information & Research Institute',\n",
       " '78567740': 'Office of Thrift Supervision',\n",
       " '83987012': 'Shizuoka University of Art and Culture',\n",
       " '92403157': 'University of Science and Technology Beijing',\n",
       " '104914703': 'Université du Québec à Chicoutimi',\n",
       " '111962074': 'Terna Engineering College',\n",
       " '114395901': 'University of Nebraska–Lincoln',\n",
       " '118856550': 'Muskingum University',\n",
       " '120248549': 'Southwestern Bell',\n",
       " '121847817': 'The Graduate Center, CUNY',\n",
       " '126131087': 'University of Sindh',\n",
       " '126218986': \"Children's Hospital of Wisconsin\",\n",
       " '127336678': \"École Mohammadia d'ingénieurs\",\n",
       " '127947667': 'Taipei College of Maritime Technology',\n",
       " '132976966': 'Danube University Krems',\n",
       " '136040515': 'University of Deusto',\n",
       " '136818539': 'Australian School of Advanced Medicine',\n",
       " '141950808': 'Pediatric Oncology Group',\n",
       " '143794436': 'Khyber Medical College',\n",
       " '149028718': 'Gediz University',\n",
       " '150442922': 'Shikoku University',\n",
       " '152589749': 'Clayton Utz',\n",
       " '155755663': 'Kalaignar Karunanidhi Institute of Technology',\n",
       " '158011677': 'Sonoma State University',\n",
       " '164214545': 'CD-adapco',\n",
       " '165933512': 'Tokyo Fire Department',\n",
       " '167322064': 'Università degli Studi eCampus',\n",
       " '174432951': 'Anhanguera Educacional',\n",
       " '176790772': 'Murdoch University',\n",
       " '182555378': 'Randolph–Macon College',\n",
       " '195557943': 'Lighthouse International',\n",
       " '197439959': 'Universidad del Este',\n",
       " '197465736': 'North Eastern Hill University',\n",
       " '199396236': 'NKT Flexibles',\n",
       " '200296433': 'Peking Union Medical College',\n",
       " '201726411': 'United Arab Emirates University',\n",
       " '205537800': 'Tisch School of the Arts',\n",
       " '207417044': 'Universidade de Santa Cruz do Sul',\n",
       " '214429113': 'Walters State Community College',\n",
       " '247969908': 'Sudene',\n",
       " '260153005': 'KSPG Automotive AG',\n",
       " '279497194': 'GSBA Zurich',\n",
       " '300940544': 'AMA International University',\n",
       " '304664074': 'Landmark University',\n",
       " '331527833': 'Pachhunga University College',\n",
       " '343440423': 'Ontario Police College',\n",
       " '510398518': 'Fellow of the American College of Surgeons',\n",
       " '872754507': 'Singapore Press Holdings',\n",
       " '893082629': 'Pacific States University',\n",
       " '908268469': 'VPI Industries',\n",
       " '912834043': 'Korea Occupational Safety and Health Agency',\n",
       " '918539633': 'Vorys, Sater, Seymour and Pease',\n",
       " '928024532': 'Armstrong Cork Company',\n",
       " '1282927834': 'Cedars-Sinai Medical Center',\n",
       " '1284868019': 'Bureau des Longitudes',\n",
       " '1290095210': 'Bureau of Labor Statistics',\n",
       " '1292069884': 'Greater Baltimore Medical Center',\n",
       " '1302656868': 'North Carolina Department of Transportation',\n",
       " '1306956679': 'United Kingdom Ministry of Defence',\n",
       " '1317607313': 'Exosite',\n",
       " '1329801235': 'Chung-Hua Institution for Economic Research',\n",
       " '1335473803': 'Church of the Ascension, Roman Catholic',\n",
       " '1335487337': 'Institut der deutschen Wirtschaft',\n",
       " '2738703131': 'French Alternative Energies and Atomic Energy Commission',\n",
       " '2799496647': 'SNS Reaal',\n",
       " '2799540604': 'Academic Hospital Paramaribo',\n",
       " '2799566240': 'Calvert Memorial Hospital',\n",
       " '2799591315': 'Hutchinson Community College',\n",
       " '2799837961': 'Henry Ford Museum',\n",
       " '2800169628': 'Good Samaritan Medical Center',\n",
       " '2800181931': 'Danish Nature Agency',\n",
       " '2800794739': 'Universidade Europeia',\n",
       " '2800853570': 'China Banking Regulatory Commission',\n",
       " '2801044184': 'Royal Belfast Hospital for Sick Children',\n",
       " '2801356230': 'Thales (Australia)',\n",
       " '2801471284': \"Janeway Children's Health and Rehabilitation Centre\",\n",
       " '2801496733': 'Armament Research and Development Establishment',\n",
       " '2801787918': 'IILM Institute for Higher Education',\n",
       " '2801810082': 'Global Communities',\n",
       " '2802085568': 'CHDI Foundation',\n",
       " '2802090361': 'Canadian Public Health Association',\n",
       " '2802159110': 'Paper and Fibre Research Institute',\n",
       " '2802533813': 'Slovenian Environment Agency',\n",
       " '2802603554': 'Academy of Chinese Culture and Health Sciences',\n",
       " '2802611058': 'Housing and Development Board',\n",
       " '2802656522': 'Colorado Department of Higher Education',\n",
       " '2802690428': 'Shanghai Mental Health Center',\n",
       " '2802916955': 'Max F. Perutz Laboratories',\n",
       " '2802963460': 'Obihiro Otani Junior College',\n",
       " '2803004835': 'Doctors Medical Center',\n",
       " '6750280': 'Jogesh Chandra Chaudhuri College',\n",
       " '18774595': 'Baltic State Technical University',\n",
       " '20307877': 'Antonine University',\n",
       " '26204322': 'Teletype Corporation',\n",
       " '53118340': 'Rhode Island College',\n",
       " '57783457': 'San Jacinto College',\n",
       " '58418798': 'The Nature Institute',\n",
       " '70550537': 'DemandTec',\n",
       " '74680897': 'Procter & Gamble',\n",
       " '75390827': 'Beijing University of Chemical Technology',\n",
       " '79236395': 'Trinity Lutheran Seminary',\n",
       " '90761930': 'Russell Sage College',\n",
       " '98222981': 'Murray-Darling Basin Authority',\n",
       " '106597867': 'Loras College',\n",
       " '111433397': 'ECRI Institute',\n",
       " '112412981': 'National University of Kyiv-Mohyla Academy',\n",
       " '113741061': 'Southeast Asian Fisheries Development Center',\n",
       " '116480835': 'Our Lady of the Lake University',\n",
       " '118746106': 'College of Wooster',\n",
       " '119512198': 'Melbourne Polytechnic',\n",
       " '123457487': 'The Hershey Company',\n",
       " '134589667': 'Alcatel Vacuum Technology',\n",
       " '134705546': 'Teerthanker Mahaveer University',\n",
       " '137583689': 'Leonardo',\n",
       " '148366613': 'National Chiao Tung University',\n",
       " '151269545': 'Object Technology International',\n",
       " '153167508': 'Smithsonian Astrophysical Observatory',\n",
       " '153904384': 'University of Languages and International Studies',\n",
       " '155765044': 'University of Hildesheim',\n",
       " '157871872': 'Quantum Corporation',\n",
       " '167672050': 'Eureka College',\n",
       " '170558118': 'Sri Venkateswara University',\n",
       " '173161963': 'University of Prešov',\n",
       " '179430213': 'BasicNeeds',\n",
       " '181647926': 'University of Strathclyde',\n",
       " '182259288': 'Norwegian Food Research Institute',\n",
       " '185616230': 'Kenya Institute for Public Policy Research and Analysis',\n",
       " '196235531': 'Burr-Brown Corporation',\n",
       " '200362191': 'Universidad Autónoma Metropolitana',\n",
       " '204588832': 'Islamic Azad University of Karaj',\n",
       " '221716585': 'University of Texas at Tyler',\n",
       " '251397004': 'Midnapore Medical College and Hospital',\n",
       " '891261516': 'Kent State University at Stark',\n",
       " '921860695': 'Trevena Inc',\n",
       " '928460267': 'Independence University',\n",
       " '1282180347': 'Documentary Educational Resources',\n",
       " '1288626455': 'id Software',\n",
       " '1295562517': 'Naturalis',\n",
       " '1309631229': 'Sodern',\n",
       " '1323778983': 'Hospital of Saint Raphael',\n",
       " '1326371236': 'Nemours Foundation',\n",
       " '1328695353': 'Water Environment Federation',\n",
       " '2799323252': 'Tohoku Seikatsu Bunka University',\n",
       " '2799334686': 'Australian and New Zealand College of Anaesthetists',\n",
       " '2799359763': 'Office of the Attorney General',\n",
       " '2799367785': 'British Science Association',\n",
       " '2799411422': 'Center for Discrete Mathematics and Theoretical Computer Science',\n",
       " '2799610660': 'North Carolina Institute of Medicine',\n",
       " '2799881413': 'Zen noh Institute of Animal Health',\n",
       " '2800255267': 'Bicton College',\n",
       " '2800454469': 'Blanchard Valley Health System',\n",
       " '2800789647': 'University Hospitals Bristol NHS Foundation Trust',\n",
       " '2800807537': 'Korea Research Institute for Vocational Education and Training',\n",
       " '2800988010': 'Norman Regional Hospital',\n",
       " '2801045415': 'Publications Office of the European Union',\n",
       " '2801248553': 'California Digital Library',\n",
       " '2801306696': 'Österreichischer Rundfunk',\n",
       " '2801349370': 'Brien Holden Vision Institute',\n",
       " '2801410363': 'Stony Brook University Hospital',\n",
       " '2801421087': 'Sonoma Valley Hospital',\n",
       " '2801443931': 'Oxford Graduate School',\n",
       " '2801457899': 'Richland Community College',\n",
       " '2801649229': 'Invest Northern Ireland',\n",
       " '2801717827': 'Centre for Internet and Society',\n",
       " '2801972722': 'African Virtual University',\n",
       " '2802128111': 'Directorate-General for Maritime Affairs and Fisheries',\n",
       " '2802207099': 'European Incoherent Scatter Scientific Association',\n",
       " '2802221876': 'Caritas Junior College',\n",
       " '2802362269': 'Health Sciences Centre',\n",
       " '2802605525': 'Hawaii Tokai International College',\n",
       " '2802656731': 'Moulton College',\n",
       " '2802661869': 'UnityPoint Health',\n",
       " '2802836749': 'Niigata Chuoh Junior College',\n",
       " '2803079837': 'American University of the Middle East',\n",
       " '19722': 'Ateneo de Manila University',\n",
       " '8765205': 'University of Kharkiv',\n",
       " '11809675': 'Peru State College',\n",
       " '12311892': 'Eugene Applebaum College of Pharmacy and Health Sciences',\n",
       " '14303183': 'Virginia Wesleyan College',\n",
       " '31746571': 'University of New South Wales',\n",
       " '34450639': 'Shri Vaishnav Institute of Technology and Science',\n",
       " '35345632': 'IRCAM',\n",
       " '37696226': 'University of Maribor',\n",
       " '37802460': 'Northwest University (China)',\n",
       " '54392056': 'Ontario Veterinary College',\n",
       " '55881946': 'Eisai',\n",
       " '57118246': 'GM Powertrain Torino',\n",
       " '58473710': 'British Railways Board',\n",
       " '61600748': 'Westminster International University in Tashkent',\n",
       " '64157871': 'B.J. Medical College, Ahmedabad',\n",
       " '69349400': 'Louis Berger Group',\n",
       " '71346753': 'Inatel',\n",
       " '72563045': 'Mody University of Science & Technology',\n",
       " '75599341': 'Anton Melik Geographical Institute',\n",
       " '86500011': 'Monroe Community College',\n",
       " '94948490': 'B. S. Abdur Rahman University',\n",
       " '96829481': 'Nordland Research Institute',\n",
       " '100162341': 'Luminex Corporation',\n",
       " '102197404': 'University of Paris-Sud',\n",
       " '108545406': 'CTLGroup',\n",
       " '110378019': 'Southern Illinois University Carbondale',\n",
       " '120832542': 'Eszterházy Károly College',\n",
       " '120870296': 'Cheongju National University of Education',\n",
       " '122706678': 'Halla University',\n",
       " '126595327': 'Department of Trade and Industry',\n",
       " '134168995': 'Instituto Nacional de Medicina Legal',\n",
       " '142509341': 'College of the Atlantic',\n",
       " '142933935': 'Beckman Research Institute',\n",
       " '142974352': 'National Sun Yat-sen University',\n",
       " '151068556': 'Hy-Line International',\n",
       " '154389170': 'Yeungnam College of Science and Technology',\n",
       " '157725225': 'University of Illinois at Urbana–Champaign',\n",
       " '166162021': 'Ventria Bioscience',\n",
       " '170658231': 'University of Osnabrück',\n",
       " '173570485': 'Hong Kong Council of Social Service',\n",
       " '176476210': 'Child Welfare League of America',\n",
       " '181066505': 'Center for Social and Economic Research',\n",
       " '184405874': 'Bloomberg News',\n",
       " '187476118': 'Saint Louis University Madrid Campus',\n",
       " '189643551': 'Hanoi Medical University',\n",
       " '199037182': 'Washtenaw Community College',\n",
       " '199856841': 'University of Santiago de Cuba',\n",
       " '201451821': 'Sydney Teachers College',\n",
       " '201694754': 'Malabar Christian College',\n",
       " '202367325': 'OFFIS',\n",
       " '203463009': 'Caisse de dépôt et placement du Québec',\n",
       " '204403938': 'Hebrew Union College - Jewish Institute of Religion',\n",
       " '235527308': 'International Mine Water Association',\n",
       " '238101068': 'NM Institute of Engineering and Technology',\n",
       " '282831249': 'Cégep André-Laurendeau',\n",
       " '285086683': 'Coastal Carolina Community College',\n",
       " '312843336': 'Hampshire Hospitals NHS Foundation Trust',\n",
       " '912032310': 'iBiquity',\n",
       " '912133006': 'Haworth',\n",
       " '924313214': 'Insurance Services Office',\n",
       " '1282688002': 'Health On the Net Foundation',\n",
       " '1283022650': 'Foundation for Advancement of International Medical Education and Research',\n",
       " '1286596005': 'Royal Astronomical Society',\n",
       " '1293062124': 'Automotive Service Excellence',\n",
       " '1294586568': 'Hospital Authority',\n",
       " '1309545706': 'HEAnet',\n",
       " '1313983121': 'KTU Faculty of Medicine',\n",
       " '1316052090': 'Mater Health Services',\n",
       " '1316675753': 'Bahia State University',\n",
       " '1325072066': 'WiLAN',\n",
       " '1327623366': 'California Department of Food and Agriculture',\n",
       " '1328025062': 'Bhagwan Mahavir Institute Of Engineering & Technology',\n",
       " '1332120918': 'Canadian Wildlife Service',\n",
       " '1339842254': 'United States Holocaust Memorial Museum',\n",
       " '2799276396': 'Vienna Institute of Demography',\n",
       " '2799642974': 'North Shropshire College',\n",
       " '2799676823': 'Art Institute of New York',\n",
       " '2800175762': 'Australian Centre for the Moving Image',\n",
       " '2800578367': 'Arts Council of Northern Ireland',\n",
       " '2800582968': 'Li Ka Shing Foundation',\n",
       " '2800653382': 'Congress of Neurological Surgeons',\n",
       " '2800708917': 'Carl Sandburg College',\n",
       " '2800713390': 'South Tyneside College',\n",
       " '2800759093': 'American Association of Blood Banks',\n",
       " '2800956744': 'Belize Zoo',\n",
       " '2801283317': 'Willa Cather Foundation',\n",
       " '2801319255': 'Sport Lisboa e Benfica',\n",
       " '2801390034': 'Mind and Life Institute',\n",
       " '2801636713': 'Aquarium of the Pacific',\n",
       " '2801688508': 'Nepean Hospital',\n",
       " '2801794234': 'Office of the Auditor General of Norway',\n",
       " '2802028098': 'Swiss National Park',\n",
       " '2802204017': 'University of Southern Brittany',\n",
       " '2802244809': 'Orthopaedic Hospital Valdoltra',\n",
       " '2802474107': 'New Charter University',\n",
       " '2802510795': 'Linguistic Society of America',\n",
       " '2802599650': 'Stanly Community College',\n",
       " '2802874812': 'Caritas Medical Centre',\n",
       " '2803094215': 'California Academy of Sciences',\n",
       " '26166359': 'El Colegio de Veracruz',\n",
       " '36353753': 'Central University College',\n",
       " '41721100': 'North China Coal Medical University',\n",
       " '44703657': \"University of Science and Technology, Sana'a\",\n",
       " '47265099': 'Ho Chi Minh City University of Technology',\n",
       " '51504820': 'San Jose State University',\n",
       " '55464072': 'Metropolitan University',\n",
       " '58704786': 'Kansai Gaidai University',\n",
       " '59365661': 'Sree Narayana Gurukulam College of Engineering',\n",
       " '60489173': 'Magneti Marelli',\n",
       " '62396329': 'University of Rouen',\n",
       " '66531908': 'Mathematica Policy Research',\n",
       " '71815811': 'Ball Corporation',\n",
       " '72054575': 'Cochrane Collaboration',\n",
       " '75645747': 'Donetsk National Technical University',\n",
       " '82880672': 'Beihang University',\n",
       " '94274782': 'Karnatak Science College',\n",
       " '94550122': 'Waldorf College',\n",
       " '107720978': 'Ain Shams University',\n",
       " '109689652': 'FPT University',\n",
       " '112532030': 'Niagara College',\n",
       " '117197279': 'Japan Atomic Energy Agency',\n",
       " '119444241': 'Ajou Motor College',\n",
       " '119509828': 'Central Bank of Nigeria',\n",
       " '124128386': 'Upjohn',\n",
       " '125137046': 'National University of Rwanda',\n",
       " '131860188': 'Ask.com',\n",
       " '133845707': 'EnBW',\n",
       " '149290949': 'Arthur D. Little',\n",
       " '152040866': 'Marine Institute of Memorial University of Newfoundland',\n",
       " '155478390': 'Tromsø University College',\n",
       " '155538133': 'College of Saint Elizabeth',\n",
       " '158818660': 'University of Puerto Rico, Medical Sciences Campus',\n",
       " '160856166': 'JSW Steel Ltd',\n",
       " '163151501': 'Hangzhou Normal University',\n",
       " '166501209': 'Creed',\n",
       " '179009006': 'Indiana University South Bend',\n",
       " '180375564': \"École nationale d'ingénieurs de Brest\",\n",
       " '180585399': 'Dalian Institute of Chemical Physics',\n",
       " '181547552': 'Baylor College of Medicine',\n",
       " '190567190': 'American Chemical Society',\n",
       " '198251651': 'National Service of Learning',\n",
       " '200522546': 'Applied Biosystems',\n",
       " '251321805': 'Agropolis International',\n",
       " '259800356': 'Baroda Medical College',\n",
       " '264664839': 'Canik Başarı University',\n",
       " '297557266': 'Vasil Levski National Military University',\n",
       " '318874724': 'Worthington Corporation',\n",
       " '865555288': 'Shin-Etsu Chemical',\n",
       " '886634684': 'Nuova Accademia di Belle Arti',\n",
       " '893718555': 'Joint Base San Antonio',\n",
       " '915402907': 'KMA',\n",
       " '1280398983': 'Holy Spirit Hospital',\n",
       " ...}"
      ]
     },
     "execution_count": 28,
     "metadata": {},
     "output_type": "execute_result"
    }
   ],
   "source": [
    "affi_name"
   ]
  },
  {
   "cell_type": "markdown",
   "metadata": {},
   "source": [
    "Controls"
   ]
  },
  {
   "cell_type": "code",
   "execution_count": null,
   "metadata": {},
   "outputs": [],
   "source": [
    "reg_data['gender'] = reg_data['author_name'].apply(lambda author_name: name_gender[author_name])"
   ]
  },
  {
   "cell_type": "code",
   "execution_count": 25,
   "metadata": {},
   "outputs": [],
   "source": [
    "reg_data['num_authors'] = reg_data['doi'].apply(lambda doi: len(doi_author_list[doi]))"
   ]
  },
  {
   "cell_type": "code",
   "execution_count": 37,
   "metadata": {},
   "outputs": [],
   "source": [
    "reg_data['pub_year'] = 2018\n",
    "reg_data['author_pub_count'] = reg_data.apply(lambda row: get_aut_pub_cn(row), axis = 1)"
   ]
  },
  {
   "cell_type": "code",
   "execution_count": 43,
   "metadata": {},
   "outputs": [],
   "source": [
    "reg_data['author_citation'] = reg_data['author_id'].apply(get_aut_cite_cn)"
   ]
  },
  {
   "cell_type": "code",
   "execution_count": 33,
   "metadata": {},
   "outputs": [],
   "source": [
    "# reg_data['author_feats'] = reg_data['author_id'].map(aid_metric)\n",
    "# reg_data[['author_rank', 'num_paper', 'num_cite']] = pd.DataFrame(reg_data['author_feats'].values.tolist(), index = reg_data.index)\n",
    "\n",
    "reg_data['author_rank'] = reg_data['author_id'].apply(get_author_rank)\n",
    "reg_data['affiliation_name'] = reg_data['affiliation_ids'].apply(get_affi_name)\n",
    "reg_data['affiliation_cate'] = reg_data['affiliation_ids'].apply(get_affi_cate)\n",
    "reg_data['affiliation_rank'] = reg_data['affiliation_ids'].apply(get_affi_rank)\n",
    "reg_data['journal_title'] = reg_data['doi'].apply(lambda doi: paper_li[doi]['journal'] if paper_li[doi]['journal'] != '' else 'unknown')\n",
    "reg_data['journal_impact'] = reg_data['journal_title'].apply(get_journal_rank)\n",
    "top_journals = set([jname for jname, num in Counter(reg_data['journal_title']).most_common()[:100] if jname != 'unknown'])\n",
    "reg_data['top_journal'] = reg_data['journal_title'].apply(get_journal_cate)"
   ]
  },
  {
   "cell_type": "code",
   "execution_count": 7,
   "metadata": {},
   "outputs": [],
   "source": [
    "aid_rate_pub_cn = {}\n",
    "for aid, sub in reg_data.groupby('author_id'):\n",
    "    pub_cn = len(sub)\n",
    "    aid_rate_pub_cn[aid] = (pub_cn, np.mean(sub['self_promotion']))"
   ]
  },
  {
   "cell_type": "code",
   "execution_count": 8,
   "metadata": {},
   "outputs": [],
   "source": [
    "reg_data['pub_cn_rate'] = reg_data['author_id'].map(aid_rate_pub_cn)\n",
    "reg_data[['author_num_papers_in_data', 'author_self_promotion_rate']] = pd.DataFrame(reg_data.pub_cn_rate.values.tolist(), index = reg_data.index)\n",
    "reg_data = reg_data.drop(columns=['pub_cn_rate'])"
   ]
  },
  {
   "cell_type": "code",
   "execution_count": 9,
   "metadata": {},
   "outputs": [],
   "source": [
    "del aid_rate_pub_cn"
   ]
  },
  {
   "cell_type": "markdown",
   "metadata": {},
   "source": [
    "Discipline"
   ]
  },
  {
   "cell_type": "code",
   "execution_count": 85,
   "metadata": {},
   "outputs": [],
   "source": [
    "reg_data['field_vector'] = reg_data['doi'].apply(get_field_vector)\n",
    "reg_data[list(fields.keys())] = pd.DataFrame(reg_data.field_vector.values.tolist(), index = reg_data.index)\n",
    "reg_data = reg_data.drop(columns=['field_vector'])"
   ]
  },
  {
   "cell_type": "code",
   "execution_count": 86,
   "metadata": {},
   "outputs": [],
   "source": [
    "field_name_clean_map = {name: clean_field_name(name) for name in fields}"
   ]
  },
  {
   "cell_type": "code",
   "execution_count": 87,
   "metadata": {
    "scrolled": true
   },
   "outputs": [
    {
     "data": {
      "text/plain": [
       "'Social_Sciences + Materials_Science + Engineering + Chemistry + Biochemistry__Genetics_and_Molecular_Biology + Medicine + Nursing + Agricultural_and_Biological_Sciences + Pharmacology__Toxicology_and_Pharmaceutics + Neuroscience + Business__Management_and_Accounting + Economics__Econometrics_and_Finance + Chemical_Engineering + Physics_and_Astronomy + Computer_Science + Decision_Sciences + Health_Professions + Psychology + Immunology_and_Microbiology + Dentistry + Earth_and_Planetary_Sciences + Environmental_Science + Mathematics + Arts_and_Humanities + Energy + Veterinary + General'"
      ]
     },
     "execution_count": 87,
     "metadata": {},
     "output_type": "execute_result"
    }
   ],
   "source": [
    "' + '.join(field_name_clean_map.values())"
   ]
  },
  {
   "cell_type": "code",
   "execution_count": 88,
   "metadata": {},
   "outputs": [],
   "source": [
    "reg_data = reg_data.rename(columns=field_name_clean_map)"
   ]
  },
  {
   "cell_type": "code",
   "execution_count": 95,
   "metadata": {},
   "outputs": [],
   "source": [
    "reg_data['disc_vector'] = reg_data['doi'].apply(get_disc_vector)\n",
    "reg_data[list(discs.keys())] = pd.DataFrame(reg_data.disc_vector.values.tolist(), index = reg_data.index)\n",
    "reg_data = reg_data.drop(columns=['disc_vector'])"
   ]
  },
  {
   "cell_type": "code",
   "execution_count": 102,
   "metadata": {},
   "outputs": [],
   "source": [
    "disc_name_clean_map = {name: clean_field_name(name) for name in discs}"
   ]
  },
  {
   "cell_type": "code",
   "execution_count": 110,
   "metadata": {},
   "outputs": [],
   "source": [
    "reg_data = reg_data.rename(columns=disc_name_clean_map)"
   ]
  },
  {
   "cell_type": "markdown",
   "metadata": {},
   "source": [
    "Group affiliations"
   ]
  },
  {
   "cell_type": "code",
   "execution_count": 99,
   "metadata": {},
   "outputs": [
    {
     "data": {
      "text/plain": [
       "count    4.319436e+06\n",
       "mean     7.588860e+03\n",
       "std      1.751305e+03\n",
       "min      4.446000e+03\n",
       "25%      6.310000e+03\n",
       "50%      7.273000e+03\n",
       "75%      8.556000e+03\n",
       "max      1.923800e+04\n",
       "Name: affiliation_rank, dtype: float64"
      ]
     },
     "execution_count": 99,
     "metadata": {},
     "output_type": "execute_result"
    }
   ],
   "source": [
    "reg_data.affiliation_rank.describe()"
   ]
  },
  {
   "cell_type": "code",
   "execution_count": 23,
   "metadata": {},
   "outputs": [
    {
     "data": {
      "text/plain": [
       "2043973"
      ]
     },
     "execution_count": 23,
     "metadata": {},
     "output_type": "execute_result"
    }
   ],
   "source": [
    "np.sum(reg_data.affiliation_rank.isna())"
   ]
  },
  {
   "cell_type": "code",
   "execution_count": 9,
   "metadata": {},
   "outputs": [],
   "source": [
    "reg_data['affiliation_rank_cate'] = pd.qcut(reg_data['affiliation_rank'], q=10, labels=False, duplicates='drop')"
   ]
  },
  {
   "cell_type": "code",
   "execution_count": 18,
   "metadata": {},
   "outputs": [
    {
     "data": {
      "text/plain": [
       "0.0    446331\n",
       "4.0    437319\n",
       "7.0    433169\n",
       "2.0    432559\n",
       "9.0    431545\n",
       "6.0    431144\n",
       "8.0    430807\n",
       "3.0    426949\n",
       "5.0    426217\n",
       "1.0    423396\n",
       "Name: affiliation_rank_cate, dtype: int64"
      ]
     },
     "execution_count": 18,
     "metadata": {},
     "output_type": "execute_result"
    }
   ],
   "source": [
    "reg_data.affiliation_rank_cate.value_counts()"
   ]
  },
  {
   "cell_type": "code",
   "execution_count": 25,
   "metadata": {},
   "outputs": [
    {
     "data": {
      "text/plain": [
       "4319436"
      ]
     },
     "execution_count": 25,
     "metadata": {},
     "output_type": "execute_result"
    }
   ],
   "source": [
    "# NaN values are ignored (no cate assigned)\n",
    "np.sum(reg_data.affiliation_rank_cate.value_counts())"
   ]
  },
  {
   "cell_type": "markdown",
   "metadata": {},
   "source": [
    "Group num. of pubs"
   ]
  },
  {
   "cell_type": "code",
   "execution_count": 12,
   "metadata": {},
   "outputs": [
    {
     "data": {
      "text/plain": [
       "count    6.361871e+06\n",
       "mean     1.126746e+02\n",
       "std      2.553252e+02\n",
       "min      1.000000e+00\n",
       "25%      4.000000e+00\n",
       "50%      2.500000e+01\n",
       "75%      1.010000e+02\n",
       "max      4.871000e+03\n",
       "Name: author_pub_count, dtype: float64"
      ]
     },
     "execution_count": 12,
     "metadata": {},
     "output_type": "execute_result"
    }
   ],
   "source": [
    "reg_data.author_pub_count.describe()"
   ]
  },
  {
   "cell_type": "markdown",
   "metadata": {},
   "source": [
    "They added an option duplicates='raise'|'drop' to control whether to raise on duplicated edges or to drop them, which would result in less bins than specified, and some larger (with more elements) than others."
   ]
  },
  {
   "cell_type": "code",
   "execution_count": 6,
   "metadata": {},
   "outputs": [],
   "source": [
    "out, bins = pd.qcut(reg_data['author_pub_count'], q=10, labels=False, duplicates='drop', retbins=True)"
   ]
  },
  {
   "cell_type": "code",
   "execution_count": 11,
   "metadata": {},
   "outputs": [
    {
     "data": {
      "text/plain": [
       "array([   1.,    3.,    6.,   13.,   25.,   44.,   77.,  136.,  285.,\n",
       "       4871.])"
      ]
     },
     "execution_count": 11,
     "metadata": {},
     "output_type": "execute_result"
    }
   ],
   "source": [
    "np.set_printoptions(suppress=True)\n",
    "bins"
   ]
  },
  {
   "cell_type": "code",
   "execution_count": 13,
   "metadata": {},
   "outputs": [],
   "source": [
    "reg_data['author_pub_count_cate'] = pd.qcut(reg_data['author_pub_count'], q=10, labels=False, duplicates='drop')"
   ]
  },
  {
   "cell_type": "code",
   "execution_count": 17,
   "metadata": {
    "scrolled": true
   },
   "outputs": [
    {
     "data": {
      "text/plain": [
       "0.0    1433854\n",
       "2.0     645255\n",
       "5.0     645202\n",
       "7.0     637837\n",
       "8.0     634473\n",
       "3.0     628366\n",
       "6.0     625925\n",
       "4.0     616789\n",
       "1.0     494170\n",
       "Name: author_pub_count_cate, dtype: int64"
      ]
     },
     "execution_count": 17,
     "metadata": {},
     "output_type": "execute_result"
    }
   ],
   "source": [
    "# the first and the second bins are merged.\n",
    "reg_data.author_pub_count_cate.value_counts()"
   ]
  },
  {
   "cell_type": "code",
   "execution_count": 44,
   "metadata": {},
   "outputs": [
    {
     "data": {
      "text/plain": [
       "(6363409, 58)"
      ]
     },
     "execution_count": 44,
     "metadata": {},
     "output_type": "execute_result"
    }
   ],
   "source": [
    "reg_data.shape"
   ]
  },
  {
   "cell_type": "code",
   "execution_count": 45,
   "metadata": {},
   "outputs": [],
   "source": [
    "reg_data.to_csv(Data_Root+\"reg_data.csv\", index=False, header=True, encoding='utf-8')"
   ]
  },
  {
   "cell_type": "code",
   "execution_count": 42,
   "metadata": {
    "scrolled": true
   },
   "outputs": [],
   "source": [
    "utype = {'author_id': str, 'matched_tid': 'str', 'matched_tid_original': 'str', 'matched_tid_retweet': 'str'}\n",
    "reg_data = pd.read_csv(Data_Root+\"reg_data.csv\", header=0, dtype=utype)"
   ]
  },
  {
   "cell_type": "markdown",
   "metadata": {},
   "source": [
    "### Gende prediction evaluation"
   ]
  },
  {
   "cell_type": "code",
   "execution_count": 85,
   "metadata": {},
   "outputs": [],
   "source": [
    "def get_gender_genderize(name, thsh = 0.9):\n",
    "    if name in name_genderize:\n",
    "        gender = name_genderize[name]['gender']\n",
    "        if gender == 'Unknown':\n",
    "            return 'Unknown'\n",
    "        else:\n",
    "            if name_genderize[name]['probability'] >= thsh:\n",
    "                if gender == 'male':\n",
    "                    return 'Male'\n",
    "                if gender == 'female':\n",
    "                    return 'Female'\n",
    "            else:\n",
    "                return 'Unknown'\n",
    "    else:\n",
    "        return 'Unknown'\n",
    "    \n",
    "def get_gender_ford(name):\n",
    "    name_tupe = get_author_name(name)\n",
    "    fname = name_tupe['Fname']\n",
    "    if len(fname) == 1 or (len(fname) == 2 and fname[-1] == '.'):\n",
    "        return 'Unknown'\n",
    "    gender = name_gender[name]\n",
    "    if gender == 'Unisex':\n",
    "        return 'Unknown'\n",
    "    else:\n",
    "        return gender"
   ]
  },
  {
   "cell_type": "code",
   "execution_count": 86,
   "metadata": {},
   "outputs": [],
   "source": [
    "api_url = \"https://api.genderize.io/?\""
   ]
  },
  {
   "cell_type": "code",
   "execution_count": 323,
   "metadata": {},
   "outputs": [
    {
     "data": {
      "text/plain": [
       "{'name': 'Agnes', 'gender': 'female', 'probability': 0.98, 'count': 15854}"
      ]
     },
     "execution_count": 323,
     "metadata": {},
     "output_type": "execute_result"
    }
   ],
   "source": [
    "payload = {'name': 'Agnes'}\n",
    "response = requests.get(api_url, params=payload)\n",
    "eval(response.text)"
   ]
  },
  {
   "cell_type": "code",
   "execution_count": 81,
   "metadata": {},
   "outputs": [],
   "source": [
    "compare_df = reg_data.sample(n=100)[['doi', 'author_name', 'affiliation_name']]"
   ]
  },
  {
   "cell_type": "code",
   "execution_count": 82,
   "metadata": {},
   "outputs": [],
   "source": [
    "sample_names = set(compare_df.author_name)"
   ]
  },
  {
   "cell_type": "code",
   "execution_count": 83,
   "metadata": {
    "scrolled": true
   },
   "outputs": [
    {
     "data": {
      "text/plain": [
       "100"
      ]
     },
     "execution_count": 83,
     "metadata": {},
     "output_type": "execute_result"
    }
   ],
   "source": [
    "len(sample_names)"
   ]
  },
  {
   "cell_type": "code",
   "execution_count": 87,
   "metadata": {},
   "outputs": [],
   "source": [
    "name_genderize = {}\n",
    "for name in sample_names:\n",
    "    name_tupe = get_author_name(name)\n",
    "    # must be a dict\n",
    "    fname = name_tupe['Fname']\n",
    "    payload = {'name': fname}\n",
    "    response = requests.get(api_url, params=payload)\n",
    "    if response.status_code == 200:\n",
    "        res_j = response.json()\n",
    "        if not res_j['gender']:\n",
    "            res_j['gender'] = 'Unknown'\n",
    "        name_genderize[name] = res_j"
   ]
  },
  {
   "cell_type": "code",
   "execution_count": 372,
   "metadata": {},
   "outputs": [],
   "source": [
    "# compare_df = pd.DataFrame(name_genderize.keys(), columns=['author_name'])"
   ]
  },
  {
   "cell_type": "code",
   "execution_count": 88,
   "metadata": {},
   "outputs": [],
   "source": [
    "compare_df['genderize'] = compare_df.author_name.apply(lambda name: get_gender_genderize(name, thsh = 0.9))"
   ]
  },
  {
   "cell_type": "code",
   "execution_count": 89,
   "metadata": {},
   "outputs": [],
   "source": [
    "compare_df['gender_ford'] = compare_df.author_name.apply(lambda name: get_gender_ford(name))"
   ]
  },
  {
   "cell_type": "code",
   "execution_count": 90,
   "metadata": {
    "scrolled": true
   },
   "outputs": [
    {
     "data": {
      "text/plain": [
       "Male       52\n",
       "Unknown    29\n",
       "Female     19\n",
       "Name: genderize, dtype: int64"
      ]
     },
     "execution_count": 90,
     "metadata": {},
     "output_type": "execute_result"
    }
   ],
   "source": [
    "compare_df.genderize.value_counts()"
   ]
  },
  {
   "cell_type": "code",
   "execution_count": 91,
   "metadata": {
    "scrolled": true
   },
   "outputs": [
    {
     "data": {
      "text/plain": [
       "Male       49\n",
       "Unknown    28\n",
       "Female     23\n",
       "Name: gender_ford, dtype: int64"
      ]
     },
     "execution_count": 91,
     "metadata": {},
     "output_type": "execute_result"
    }
   ],
   "source": [
    "compare_df.gender_ford.value_counts()"
   ]
  },
  {
   "cell_type": "code",
   "execution_count": 92,
   "metadata": {
    "scrolled": true
   },
   "outputs": [
    {
     "data": {
      "text/plain": [
       "0.8226664517169111"
      ]
     },
     "execution_count": 92,
     "metadata": {},
     "output_type": "execute_result"
    }
   ],
   "source": [
    "cohen_kappa_score(compare_df.genderize, compare_df.gender_ford)"
   ]
  },
  {
   "cell_type": "code",
   "execution_count": 93,
   "metadata": {},
   "outputs": [],
   "source": [
    "compare_df['agreement'] = compare_df.apply(lambda row: 'mismatch' if row['genderize'] != row['gender_ford'] else 'match', axis = 1)"
   ]
  },
  {
   "cell_type": "code",
   "execution_count": 94,
   "metadata": {},
   "outputs": [],
   "source": [
    "compare_df = compare_df.sort_values(by='agreement')"
   ]
  },
  {
   "cell_type": "code",
   "execution_count": 95,
   "metadata": {},
   "outputs": [],
   "source": [
    "compare_df.to_csv(Data_Root+'gender_label.csv', header=True, index=False)"
   ]
  },
  {
   "cell_type": "code",
   "execution_count": 18,
   "metadata": {},
   "outputs": [],
   "source": [
    "# add manual verification of gender for each name based on google search.\n",
    "compare_df = pd.read_csv(Data_Root+'gender_label.csv', header=0)"
   ]
  },
  {
   "cell_type": "code",
   "execution_count": 19,
   "metadata": {},
   "outputs": [],
   "source": [
    "compare_df = compare_df.loc[compare_df.label!='Unknown']"
   ]
  },
  {
   "cell_type": "code",
   "execution_count": 20,
   "metadata": {},
   "outputs": [
    {
     "data": {
      "text/plain": [
       "76"
      ]
     },
     "execution_count": 20,
     "metadata": {},
     "output_type": "execute_result"
    }
   ],
   "source": [
    "len(compare_df)"
   ]
  },
  {
   "cell_type": "code",
   "execution_count": 23,
   "metadata": {
    "scrolled": true
   },
   "outputs": [
    {
     "name": "stdout",
     "output_type": "stream",
     "text": [
      "              precision    recall  f1-score   support\n",
      "\n",
      "      Female       1.00      0.84      0.91        19\n",
      "        Male       1.00      0.89      0.94        57\n",
      "     Unknown       0.00      0.00      0.00         0\n",
      "\n",
      "    accuracy                           0.88        76\n",
      "   macro avg       0.67      0.58      0.62        76\n",
      "weighted avg       1.00      0.88      0.94        76\n",
      "\n"
     ]
    }
   ],
   "source": [
    "print(metrics.classification_report(compare_df.label, compare_df.genderize))"
   ]
  },
  {
   "cell_type": "code",
   "execution_count": 22,
   "metadata": {},
   "outputs": [
    {
     "name": "stdout",
     "output_type": "stream",
     "text": [
      "              precision    recall  f1-score   support\n",
      "\n",
      "      Female       1.00      0.79      0.88        19\n",
      "        Male       1.00      0.84      0.91        57\n",
      "     Unknown       0.00      0.00      0.00         0\n",
      "\n",
      "    accuracy                           0.83        76\n",
      "   macro avg       0.67      0.54      0.60        76\n",
      "weighted avg       1.00      0.83      0.91        76\n",
      "\n"
     ]
    }
   ],
   "source": [
    "print(metrics.classification_report(compare_df.label, compare_df.gender_ford))"
   ]
  },
  {
   "cell_type": "code",
   "execution_count": null,
   "metadata": {},
   "outputs": [],
   "source": []
  }
 ],
 "metadata": {
  "kernelspec": {
   "display_name": "Python 3 (ipykernel)",
   "language": "python",
   "name": "python3"
  },
  "language_info": {
   "codemirror_mode": {
    "name": "ipython",
    "version": 3
   },
   "file_extension": ".py",
   "mimetype": "text/x-python",
   "name": "python",
   "nbconvert_exporter": "python",
   "pygments_lexer": "ipython3",
   "version": "3.7.10"
  }
 },
 "nbformat": 4,
 "nbformat_minor": 4
}
