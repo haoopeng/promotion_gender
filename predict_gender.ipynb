{
 "cells": [
  {
   "cell_type": "markdown",
   "metadata": {},
   "source": [
    "Used the library from here: https://github.com/alt-code/Research/tree/master/SimpleGenderComputer\n",
    "\n",
    "Please use it with Python 2.7"
   ]
  },
  {
   "cell_type": "code",
   "execution_count": 2,
   "metadata": {},
   "outputs": [],
   "source": [
    "import pickle\n",
    "import pandas as pd\n",
    "from simpleGenderComputer import SimpleGenderComputer"
   ]
  },
  {
   "cell_type": "code",
   "execution_count": 3,
   "metadata": {},
   "outputs": [],
   "source": [
    "gc = SimpleGenderComputer('./namelists')"
   ]
  },
  {
   "cell_type": "code",
   "execution_count": 4,
   "metadata": {},
   "outputs": [
    {
     "data": {
      "text/plain": [
       "'Unknown'"
      ]
     },
     "execution_count": 4,
     "metadata": {},
     "output_type": "execute_result"
    }
   ],
   "source": [
    "gc.simpleLookup('Ágnes')"
   ]
  },
  {
   "cell_type": "code",
   "execution_count": 5,
   "metadata": {},
   "outputs": [
    {
     "data": {
      "text/plain": [
       "'Female'"
      ]
     },
     "execution_count": 5,
     "metadata": {},
     "output_type": "execute_result"
    }
   ],
   "source": [
    "gc.simpleLookup('Agnes')"
   ]
  },
  {
   "cell_type": "code",
   "execution_count": 6,
   "metadata": {},
   "outputs": [],
   "source": [
    "def get_author_name(name):\n",
    "    words = name.split()\n",
    "    # must has first and last name to query the API\n",
    "    if len(words) <= 1:\n",
    "        payload = 'invalid'\n",
    "    else:\n",
    "        payload = {'Fname': words[0], 'Lname': words[-1]}\n",
    "    return payload"
   ]
  },
  {
   "cell_type": "markdown",
   "metadata": {},
   "source": [
    "### Authors in self-promotion data"
   ]
  },
  {
   "cell_type": "code",
   "execution_count": 5,
   "metadata": {},
   "outputs": [
    {
     "name": "stdout",
     "output_type": "stream",
     "text": [
      " 3081657 ./author_names.txt\r\n"
     ]
    }
   ],
   "source": [
    "! wc -l ./author_names.txt"
   ]
  },
  {
   "cell_type": "code",
   "execution_count": 6,
   "metadata": {},
   "outputs": [],
   "source": [
    "name_gender = {}\n",
    "with open('./author_names.txt', 'r') as ifile:\n",
    "    for name in ifile:\n",
    "        # name is already normalized\n",
    "        # get rid of '\\n' at the end of each line\n",
    "        name = name.strip()\n",
    "        name_tupe = get_author_name(name)\n",
    "        if type(name_tupe) == dict:\n",
    "            fname = name_tupe['Fname']\n",
    "            fname = fname.decode('utf-8', 'ignore')\n",
    "            gender = gc.simpleLookup(fname)\n",
    "            name_gender[name] = gender"
   ]
  },
  {
   "cell_type": "code",
   "execution_count": 7,
   "metadata": {},
   "outputs": [
    {
     "data": {
      "text/plain": [
       "3066942"
      ]
     },
     "execution_count": 7,
     "metadata": {},
     "output_type": "execute_result"
    }
   ],
   "source": [
    "len(name_gender)"
   ]
  },
  {
   "cell_type": "code",
   "execution_count": 8,
   "metadata": {},
   "outputs": [],
   "source": [
    "with open(\"./name_gender.txt\", 'w') as ofile:\n",
    "    for name, gender in name_gender.items():\n",
    "        ofile.write(name + '||' + gender + '\\n')"
   ]
  },
  {
   "cell_type": "markdown",
   "metadata": {},
   "source": [
    "### Authors in IOP data"
   ]
  },
  {
   "cell_type": "code",
   "execution_count": 7,
   "metadata": {},
   "outputs": [],
   "source": [
    "iop_clean_name_self_gender = pd.read_csv('./iop_clean_name_self_gender.csv')"
   ]
  },
  {
   "cell_type": "code",
   "execution_count": 9,
   "metadata": {},
   "outputs": [],
   "source": [
    "def pred_gender_ford(name):\n",
    "    if type(name) == str:\n",
    "        name = name.strip()\n",
    "        name_tupe = get_author_name(name)\n",
    "        if type(name_tupe) == dict:\n",
    "            fname = name_tupe['Fname']\n",
    "            fname = fname.decode('utf-8', 'ignore')\n",
    "            if len(fname) > 1:\n",
    "                gender = gc.simpleLookup(fname)\n",
    "                return gender\n",
    "            else:\n",
    "                return 'invalid'\n",
    "        else:\n",
    "            return 'invalid'\n",
    "    else:\n",
    "        return 'invalid'"
   ]
  },
  {
   "cell_type": "code",
   "execution_count": 10,
   "metadata": {},
   "outputs": [],
   "source": [
    "iop_clean_name_self_gender['gender_ford'] = iop_clean_name_self_gender['clean_name'].apply(pred_gender_ford)"
   ]
  },
  {
   "cell_type": "code",
   "execution_count": 11,
   "metadata": {},
   "outputs": [
    {
     "data": {
      "text/html": [
       "<div>\n",
       "<style scoped>\n",
       "    .dataframe tbody tr th:only-of-type {\n",
       "        vertical-align: middle;\n",
       "    }\n",
       "\n",
       "    .dataframe tbody tr th {\n",
       "        vertical-align: top;\n",
       "    }\n",
       "\n",
       "    .dataframe thead th {\n",
       "        text-align: right;\n",
       "    }\n",
       "</style>\n",
       "<table border=\"1\" class=\"dataframe\">\n",
       "  <thead>\n",
       "    <tr style=\"text-align: right;\">\n",
       "      <th></th>\n",
       "      <th>clean_name</th>\n",
       "      <th>Task Country (at time of activity)</th>\n",
       "      <th>Contact Confirmed Gender</th>\n",
       "      <th>gender_ford</th>\n",
       "    </tr>\n",
       "  </thead>\n",
       "  <tbody>\n",
       "    <tr>\n",
       "      <th>0</th>\n",
       "      <td>Satish Kumar</td>\n",
       "      <td>India</td>\n",
       "      <td>Male</td>\n",
       "      <td>Male</td>\n",
       "    </tr>\n",
       "    <tr>\n",
       "      <th>1</th>\n",
       "      <td>Priya Sachin Jadhav</td>\n",
       "      <td>India</td>\n",
       "      <td>Female</td>\n",
       "      <td>Female</td>\n",
       "    </tr>\n",
       "    <tr>\n",
       "      <th>2</th>\n",
       "      <td>Arunkumar  Bongale</td>\n",
       "      <td>India</td>\n",
       "      <td>Male</td>\n",
       "      <td>Male</td>\n",
       "    </tr>\n",
       "    <tr>\n",
       "      <th>3</th>\n",
       "      <td>Arunkumar  Bongale</td>\n",
       "      <td>India</td>\n",
       "      <td>Male</td>\n",
       "      <td>Male</td>\n",
       "    </tr>\n",
       "    <tr>\n",
       "      <th>4</th>\n",
       "      <td>Arunkumar  Bongale</td>\n",
       "      <td>India</td>\n",
       "      <td>Male</td>\n",
       "      <td>Male</td>\n",
       "    </tr>\n",
       "  </tbody>\n",
       "</table>\n",
       "</div>"
      ],
      "text/plain": [
       "            clean_name Task Country (at time of activity)  \\\n",
       "0         Satish Kumar                              India   \n",
       "1  Priya Sachin Jadhav                              India   \n",
       "2   Arunkumar  Bongale                              India   \n",
       "3   Arunkumar  Bongale                              India   \n",
       "4   Arunkumar  Bongale                              India   \n",
       "\n",
       "  Contact Confirmed Gender gender_ford  \n",
       "0                     Male        Male  \n",
       "1                   Female      Female  \n",
       "2                     Male        Male  \n",
       "3                     Male        Male  \n",
       "4                     Male        Male  "
      ]
     },
     "execution_count": 11,
     "metadata": {},
     "output_type": "execute_result"
    }
   ],
   "source": [
    "iop_clean_name_self_gender.head()"
   ]
  },
  {
   "cell_type": "code",
   "execution_count": 12,
   "metadata": {},
   "outputs": [],
   "source": [
    "iop_clean_name_self_gender.to_csv(\"./iop_clean_name_self_gender_ford.csv\", index=False, header=True, encoding='utf-8')"
   ]
  },
  {
   "cell_type": "code",
   "execution_count": null,
   "metadata": {},
   "outputs": [],
   "source": []
  }
 ],
 "metadata": {
  "kernelspec": {
   "display_name": "Python 3 (ipykernel)",
   "language": "python",
   "name": "python3"
  },
  "language_info": {
   "codemirror_mode": {
    "name": "ipython",
    "version": 3
   },
   "file_extension": ".py",
   "mimetype": "text/x-python",
   "name": "python",
   "nbconvert_exporter": "python",
   "pygments_lexer": "ipython3",
   "version": "3.8.3"
  }
 },
 "nbformat": 4,
 "nbformat_minor": 2
}
