{
 "cells": [
  {
   "cell_type": "code",
   "execution_count": 125,
   "metadata": {},
   "outputs": [],
   "source": [
    "import os\n",
    "import math\n",
    "import json\n",
    "import csv\n",
    "import random\n",
    "import numpy as np\n",
    "import pandas as pd\n",
    "import seaborn as sns\n",
    "import matplotlib.colors\n",
    "import matplotlib.cm as cm\n",
    "import matplotlib.pyplot as plt\n",
    "import matplotlib.ticker as ticker\n",
    "from datetime import datetime"
   ]
  },
  {
   "cell_type": "code",
   "execution_count": 42,
   "metadata": {},
   "outputs": [],
   "source": [
    "Data_Root = '/home/haopeng/Data/Promotion/'"
   ]
  },
  {
   "cell_type": "code",
   "execution_count": 4,
   "metadata": {},
   "outputs": [],
   "source": [
    "# pd.options.display.precision = 20"
   ]
  },
  {
   "cell_type": "code",
   "execution_count": 43,
   "metadata": {},
   "outputs": [],
   "source": [
    "CIs = {'90': 1.645, '95': 1.96, '99': 2.576}"
   ]
  },
  {
   "cell_type": "code",
   "execution_count": 44,
   "metadata": {},
   "outputs": [],
   "source": [
    "labels = ['Male', 'Female']"
   ]
  },
  {
   "cell_type": "code",
   "execution_count": 45,
   "metadata": {},
   "outputs": [],
   "source": [
    "colors = sns.color_palette()[:len(labels)]"
   ]
  },
  {
   "cell_type": "code",
   "execution_count": 88,
   "metadata": {},
   "outputs": [],
   "source": [
    "# load reg data with basic controls\n",
    "utype = {'author_id': str, 'matched_tid': 'str', 'matched_tid_original': 'str', 'matched_tid_retweet': 'str'}\n",
    "reg_data = pd.read_csv(Data_Root+\"reg_data.csv\", header=0, dtype=utype)"
   ]
  },
  {
   "cell_type": "code",
   "execution_count": 47,
   "metadata": {
    "scrolled": false
   },
   "outputs": [
    {
     "data": {
      "text/plain": [
       "(6363409, 58)"
      ]
     },
     "execution_count": 47,
     "metadata": {},
     "output_type": "execute_result"
    }
   ],
   "source": [
    "# before dropping missing values\n",
    "reg_data.shape"
   ]
  },
  {
   "cell_type": "code",
   "execution_count": 48,
   "metadata": {
    "scrolled": true
   },
   "outputs": [
    {
     "data": {
      "text/plain": [
       "doi                                                   0\n",
       "author_name                                           0\n",
       "authorship_seq                                        0\n",
       "authorship_pos                                        0\n",
       "author_id                                             0\n",
       "affiliation_ids                                 2043973\n",
       "self_promotion_original                               0\n",
       "gender                                                0\n",
       "num_authors                                           0\n",
       "author_rank                                           0\n",
       "affiliation_name                                      0\n",
       "affiliation_cate                                      0\n",
       "affiliation_rank                                2043973\n",
       "journal_title                                         0\n",
       "journal_impact                                  2025383\n",
       "top_journal                                           0\n",
       "self_promotion                                        0\n",
       "pub_year                                              0\n",
       "author_pub_count                                   1538\n",
       "self_promotion_retweet                                0\n",
       "affiliation_rank_cate                           2043973\n",
       "author_pub_count_cate                              1538\n",
       "Social_Sciences                                       0\n",
       "Materials_Science                                     0\n",
       "Engineering                                           0\n",
       "Chemistry                                             0\n",
       "Biochemistry__Genetics_and_Molecular_Biology          0\n",
       "Medicine                                              0\n",
       "Nursing                                               0\n",
       "Agricultural_and_Biological_Sciences                  0\n",
       "Pharmacology__Toxicology_and_Pharmaceutics            0\n",
       "Neuroscience                                          0\n",
       "Business__Management_and_Accounting                   0\n",
       "Economics__Econometrics_and_Finance                   0\n",
       "Chemical_Engineering                                  0\n",
       "Physics_and_Astronomy                                 0\n",
       "Computer_Science                                      0\n",
       "Decision_Sciences                                     0\n",
       "Health_Professions                                    0\n",
       "Psychology                                            0\n",
       "Immunology_and_Microbiology                           0\n",
       "Dentistry                                             0\n",
       "Earth_and_Planetary_Sciences                          0\n",
       "Environmental_Science                                 0\n",
       "Mathematics                                           0\n",
       "Arts_and_Humanities                                   0\n",
       "Energy                                                0\n",
       "Veterinary                                            0\n",
       "General                                               0\n",
       "Life_Sciences                                         0\n",
       "Health_Sciences                                       0\n",
       "Physical_Sciences                                     0\n",
       "author_num_papers_in_data                             0\n",
       "author_self_promotion_rate                            0\n",
       "matched_tid_original                            6120096\n",
       "matched_tid_retweet                             6169914\n",
       "matched_tid                                     6000095\n",
       "author_citation                                       0\n",
       "dtype: int64"
      ]
     },
     "execution_count": 48,
     "metadata": {},
     "output_type": "execute_result"
    }
   ],
   "source": [
    "reg_data.isna().sum()"
   ]
  },
  {
   "cell_type": "code",
   "execution_count": 91,
   "metadata": {},
   "outputs": [],
   "source": [
    "# num of obs in regression\n",
    "inx = reg_data[reg_data.columns[~reg_data.columns.isin(['matched_tid', 'matched_tid_original', 'matched_tid_retweet'])]].dropna().index\n"
   ]
  },
  {
   "cell_type": "code",
   "execution_count": 92,
   "metadata": {
    "scrolled": true
   },
   "outputs": [
    {
     "data": {
      "text/plain": [
       "3073001"
      ]
     },
     "execution_count": 92,
     "metadata": {},
     "output_type": "execute_result"
    }
   ],
   "source": [
    "len(inx)"
   ]
  },
  {
   "cell_type": "code",
   "execution_count": 93,
   "metadata": {},
   "outputs": [],
   "source": [
    "reg_data = reg_data.loc[inx]\n",
    "reg_data.index = range(len(reg_data))"
   ]
  },
  {
   "cell_type": "code",
   "execution_count": 94,
   "metadata": {},
   "outputs": [],
   "source": [
    "del inx"
   ]
  },
  {
   "cell_type": "markdown",
   "metadata": {},
   "source": [
    "### Add total mentions and self-promotion position"
   ]
  },
  {
   "cell_type": "code",
   "execution_count": 10,
   "metadata": {},
   "outputs": [],
   "source": [
    "dois = set(reg_data.doi)"
   ]
  },
  {
   "cell_type": "code",
   "execution_count": 11,
   "metadata": {
    "scrolled": true
   },
   "outputs": [
    {
     "data": {
      "text/plain": [
       "564748"
      ]
     },
     "execution_count": 11,
     "metadata": {},
     "output_type": "execute_result"
    }
   ],
   "source": [
    "len(dois)"
   ]
  },
  {
   "cell_type": "code",
   "execution_count": 12,
   "metadata": {},
   "outputs": [],
   "source": [
    "doi_tids = {}\n",
    "with open(Data_Root+'papers_2018.json', 'r') as ifile:\n",
    "    for line in ifile:\n",
    "        res = json.loads(line)\n",
    "        doi = res['doi']\n",
    "        if doi in dois:\n",
    "            doi_tids[doi] = [tweet['tweet_id'] for tweet in res['data']['tweets']]"
   ]
  },
  {
   "cell_type": "code",
   "execution_count": 13,
   "metadata": {},
   "outputs": [
    {
     "data": {
      "text/plain": [
       "564748"
      ]
     },
     "execution_count": 13,
     "metadata": {},
     "output_type": "execute_result"
    }
   ],
   "source": [
    "len(doi_tids)"
   ]
  },
  {
   "cell_type": "code",
   "execution_count": 18,
   "metadata": {},
   "outputs": [],
   "source": [
    "tids = set()\n",
    "for doi in doi_tids:\n",
    "    for tid in doi_tids[doi]:\n",
    "        tids.add(tid)"
   ]
  },
  {
   "cell_type": "code",
   "execution_count": 19,
   "metadata": {
    "scrolled": false
   },
   "outputs": [
    {
     "data": {
      "text/plain": [
       "7272113"
      ]
     },
     "execution_count": 19,
     "metadata": {},
     "output_type": "execute_result"
    }
   ],
   "source": [
    "len(tids)"
   ]
  },
  {
   "cell_type": "code",
   "execution_count": 19,
   "metadata": {},
   "outputs": [],
   "source": [
    "tid_date_all = {}\n",
    "tid_follow_cn_all = {}\n",
    "\n",
    "with open(Data_Root+'tweets_v2.json', 'r') as ifile:\n",
    "    for line in ifile:\n",
    "        line = json.loads(line)\n",
    "        tid, tdate = line['id_str'], line['created_at']\n",
    "        if tid in tids:\n",
    "            tid_date_all[tid] = datetime.strptime(tdate, '%a %b %d %H:%M:%S +0000 %Y')#.strftime(\"%Y-%m-%d\")\n",
    "            tid_follow_cn_all[tid] = line['user']['followers_count']\n",
    "\n",
    "# this file is collected earlier\n",
    "with open(Data_Root+'tweets_v2_non_full_text.json', 'r') as ifile:\n",
    "    for line in ifile:\n",
    "        line = json.loads(line)\n",
    "        tid, tdate = line['id_str'], line['created_at']\n",
    "        if tid in tids:\n",
    "            # tid_name_all[tid] = line['user']['name']\n",
    "            tid_date_all[tid] = datetime.strptime(tdate, '%a %b %d %H:%M:%S +0000 %Y')#.strftime(\"%Y-%m-%d\")\n",
    "            tid_follow_cn_all[tid] = line['user']['followers_count']"
   ]
  },
  {
   "cell_type": "code",
   "execution_count": 20,
   "metadata": {
    "scrolled": true
   },
   "outputs": [
    {
     "data": {
      "text/plain": [
       "6742298"
      ]
     },
     "execution_count": 20,
     "metadata": {},
     "output_type": "execute_result"
    }
   ],
   "source": [
    "len(tid_date_all)"
   ]
  },
  {
   "cell_type": "code",
   "execution_count": 21,
   "metadata": {
    "scrolled": false
   },
   "outputs": [
    {
     "data": {
      "text/plain": [
       "6742298"
      ]
     },
     "execution_count": 21,
     "metadata": {},
     "output_type": "execute_result"
    }
   ],
   "source": [
    "len(tid_follow_cn_all)"
   ]
  },
  {
   "cell_type": "code",
   "execution_count": 39,
   "metadata": {
    "scrolled": true
   },
   "outputs": [
    {
     "data": {
      "text/plain": [
       "datetime.datetime(2018, 5, 26, 18, 54, 6)"
      ]
     },
     "execution_count": 39,
     "metadata": {},
     "output_type": "execute_result"
    }
   ],
   "source": [
    "tid_date_all['1000450019865120768']"
   ]
  },
  {
   "cell_type": "code",
   "execution_count": 42,
   "metadata": {
    "scrolled": true
   },
   "outputs": [
    {
     "data": {
      "text/plain": [
       "datetime.datetime(2018, 5, 28, 0, 2, 45)"
      ]
     },
     "execution_count": 42,
     "metadata": {},
     "output_type": "execute_result"
    }
   ],
   "source": [
    "tid_date_all['1000890079244619776']"
   ]
  },
  {
   "cell_type": "code",
   "execution_count": 33,
   "metadata": {
    "scrolled": true
   },
   "outputs": [
    {
     "data": {
      "text/plain": [
       "datetime.datetime(2018, 6, 1, 0, 4, 17)"
      ]
     },
     "execution_count": 33,
     "metadata": {},
     "output_type": "execute_result"
    }
   ],
   "source": [
    "tid_date_all['1002340016134246400']"
   ]
  },
  {
   "cell_type": "code",
   "execution_count": 43,
   "metadata": {
    "scrolled": true
   },
   "outputs": [
    {
     "data": {
      "text/plain": [
       "['1000450019865120768', '1000890079244619776', '1002340016134246400']"
      ]
     },
     "execution_count": 43,
     "metadata": {},
     "output_type": "execute_result"
    }
   ],
   "source": [
    "sorted(['1002340016134246400', '1000450019865120768', '1000890079244619776'], key=lambda tid: tid_date_all[tid])"
   ]
  },
  {
   "cell_type": "markdown",
   "metadata": {},
   "source": [
    "Count num of tweets for the final set of papers"
   ]
  },
  {
   "cell_type": "code",
   "execution_count": 14,
   "metadata": {},
   "outputs": [
    {
     "data": {
      "text/plain": [
       "2380098"
      ]
     },
     "execution_count": 14,
     "metadata": {},
     "output_type": "execute_result"
    }
   ],
   "source": [
    "# focus on Male and Female\n",
    "len(reg_data.loc[reg_data['gender'].isin(['Female', 'Male'])])"
   ]
  },
  {
   "cell_type": "code",
   "execution_count": 16,
   "metadata": {},
   "outputs": [],
   "source": [
    "cn = 0\n",
    "for doi in set(reg_data.loc[reg_data['gender'].isin(['Female', 'Male'])]['doi']):\n",
    "    cn += len(doi_tids[doi])"
   ]
  },
  {
   "cell_type": "code",
   "execution_count": 17,
   "metadata": {
    "scrolled": true
   },
   "outputs": [
    {
     "data": {
      "text/plain": [
       "7228416"
      ]
     },
     "execution_count": 17,
     "metadata": {},
     "output_type": "execute_result"
    }
   ],
   "source": [
    "cn"
   ]
  },
  {
   "cell_type": "code",
   "execution_count": 42,
   "metadata": {},
   "outputs": [],
   "source": [
    "def check_early_self_promo(row):\n",
    "    doi, p_0, mat_tid = row['doi'], row['self_promotion'], row['matched_tid']\n",
    "    valid_tids = [tid for tid in doi_tids[doi] if tid in tid_date_all]\n",
    "    total = len(valid_tids)\n",
    "    if p_0:\n",
    "        sort_tids = sorted(valid_tids, key=lambda tid: tid_date_all[tid])\n",
    "        # valid_users = [tid_name_all[tid] for tid in sort_tids]\n",
    "        # ix = valid_users.index(t_user)\n",
    "        ix = sort_tids.index(mat_tid) + 1\n",
    "        return (total, ix, ix/total)\n",
    "    else:\n",
    "        return (total, -1, -1)"
   ]
  },
  {
   "cell_type": "code",
   "execution_count": 43,
   "metadata": {
    "scrolled": true
   },
   "outputs": [],
   "source": [
    "reg_data['Tem'] = reg_data.apply(lambda row: check_early_self_promo(row), axis = 1)\n",
    "reg_data[['total_num_tweets', 'self_promo_position', 'self_promo_position_frac']] = pd.DataFrame(reg_data.Tem.values.tolist(), index = reg_data.index)\n",
    "reg_data = reg_data.drop(columns=['Tem'])\n"
   ]
  },
  {
   "cell_type": "code",
   "execution_count": 65,
   "metadata": {
    "scrolled": true
   },
   "outputs": [
    {
     "data": {
      "text/plain": [
       "191637"
      ]
     },
     "execution_count": 65,
     "metadata": {},
     "output_type": "execute_result"
    }
   ],
   "source": [
    "np.sum(reg_data['self_promotion'] == True)"
   ]
  },
  {
   "cell_type": "code",
   "execution_count": 73,
   "metadata": {
    "scrolled": false
   },
   "outputs": [
    {
     "data": {
      "text/plain": [
       "2881364"
      ]
     },
     "execution_count": 73,
     "metadata": {},
     "output_type": "execute_result"
    }
   ],
   "source": [
    "np.sum(reg_data['self_promotion'] == False)"
   ]
  },
  {
   "cell_type": "code",
   "execution_count": 44,
   "metadata": {},
   "outputs": [
    {
     "data": {
      "text/plain": [
       "55185"
      ]
     },
     "execution_count": 44,
     "metadata": {},
     "output_type": "execute_result"
    }
   ],
   "source": [
    "np.sum(reg_data['self_promo_position'] == 1)"
   ]
  },
  {
   "cell_type": "code",
   "execution_count": 107,
   "metadata": {
    "scrolled": true
   },
   "outputs": [
    {
     "data": {
      "text/plain": [
       "0.28796631130731537"
      ]
     },
     "execution_count": 107,
     "metadata": {},
     "output_type": "execute_result"
    }
   ],
   "source": [
    "np.sum(reg_data['self_promo_position'] == 1) / 191637"
   ]
  },
  {
   "cell_type": "code",
   "execution_count": 104,
   "metadata": {},
   "outputs": [
    {
     "data": {
      "image/png": "[encoded data removed]",
      "text/plain": [
       "<Figure size 216x180 with 1 Axes>"
      ]
     },
     "metadata": {
      "needs_background": "light"
     },
     "output_type": "display_data"
    }
   ],
   "source": [
    "fig, ax = plt.subplots(figsize = (3, 2.5))\n",
    "\n",
    "lli = np.array(reg_data.loc[reg_data['self_promotion'] == True]['self_promo_position'].tolist())\n",
    "n = len(lli)\n",
    "ax.hist(lli, bins = 1000, color='k', alpha=1, linewidth=1.5, histtype='step', weights=np.ones(n)/n)\n",
    "ax.set_ylabel('Percentage of obs.')\n",
    "ax.set_xlabel('Self-promotion position')\n",
    "ax.set_yscale('log')\n",
    "ax.set_xscale('log')\n",
    "# ax.set_xlim(right=1e4)\n",
    "# legend = ax.legend(loc=[0.55, 0.7], numpoints=2, labelspacing = 0.15, shadow=False, frameon = False)\n",
    "plt.show()\n",
    "fig.savefig('pos_hist.pdf', bbox_inches='tight', pad_inches=0.02)"
   ]
  },
  {
   "cell_type": "code",
   "execution_count": 103,
   "metadata": {
    "scrolled": true
   },
   "outputs": [
    {
     "data": {
      "text/plain": [
       "0.7080052390717868"
      ]
     },
     "execution_count": 103,
     "metadata": {},
     "output_type": "execute_result"
    }
   ],
   "source": [
    "np.sum(lli <= 10)/len(lli)"
   ]
  },
  {
   "cell_type": "markdown",
   "metadata": {},
   "source": [
    "### Add num. of followers control"
   ]
  },
  {
   "cell_type": "code",
   "execution_count": 67,
   "metadata": {},
   "outputs": [],
   "source": [
    "def get_tid_follower_cn(row):\n",
    "    doi, p_0, mat_tid = row['doi'], row['self_promotion'], row['matched_tid']\n",
    "    if p_0:\n",
    "        return tid_follow_cn_all[mat_tid]\n",
    "    else:\n",
    "        return -1"
   ]
  },
  {
   "cell_type": "code",
   "execution_count": 68,
   "metadata": {},
   "outputs": [],
   "source": [
    "reg_data['matched_tid_follower_cn'] = reg_data.apply(get_tid_follower_cn, axis=1)"
   ]
  },
  {
   "cell_type": "code",
   "execution_count": 69,
   "metadata": {
    "scrolled": false
   },
   "outputs": [
    {
     "data": {
      "text/html": [
       "<div>\n",
       "<style scoped>\n",
       "    .dataframe tbody tr th:only-of-type {\n",
       "        vertical-align: middle;\n",
       "    }\n",
       "\n",
       "    .dataframe tbody tr th {\n",
       "        vertical-align: top;\n",
       "    }\n",
       "\n",
       "    .dataframe thead th {\n",
       "        text-align: right;\n",
       "    }\n",
       "</style>\n",
       "<table border=\"1\" class=\"dataframe\">\n",
       "  <thead>\n",
       "    <tr style=\"text-align: right;\">\n",
       "      <th></th>\n",
       "      <th>doi</th>\n",
       "      <th>author_name</th>\n",
       "      <th>authorship_seq</th>\n",
       "      <th>authorship_pos</th>\n",
       "      <th>author_id</th>\n",
       "      <th>affiliation_ids</th>\n",
       "      <th>self_promotion_original</th>\n",
       "      <th>gender</th>\n",
       "      <th>num_authors</th>\n",
       "      <th>author_rank</th>\n",
       "      <th>...</th>\n",
       "      <th>Physical_Sciences</th>\n",
       "      <th>author_num_papers_in_data</th>\n",
       "      <th>author_self_promotion_rate</th>\n",
       "      <th>matched_tid_original</th>\n",
       "      <th>matched_tid_retweet</th>\n",
       "      <th>matched_tid</th>\n",
       "      <th>total_num_tweets</th>\n",
       "      <th>self_promo_position</th>\n",
       "      <th>self_promo_position_frac</th>\n",
       "      <th>matched_tid_follower_cn</th>\n",
       "    </tr>\n",
       "  </thead>\n",
       "  <tbody>\n",
       "    <tr>\n",
       "      <th>0</th>\n",
       "      <td>10.1109/tmag.2017.2750019</td>\n",
       "      <td>Daniel S. Gazzana</td>\n",
       "      <td>1</td>\n",
       "      <td>first_position</td>\n",
       "      <td>2040190777</td>\n",
       "      <td>130442723</td>\n",
       "      <td>False</td>\n",
       "      <td>Male</td>\n",
       "      <td>6</td>\n",
       "      <td>16859</td>\n",
       "      <td>...</td>\n",
       "      <td>1</td>\n",
       "      <td>1</td>\n",
       "      <td>0.0</td>\n",
       "      <td>NaN</td>\n",
       "      <td>NaN</td>\n",
       "      <td>NaN</td>\n",
       "      <td>0</td>\n",
       "      <td>-1</td>\n",
       "      <td>-1.0</td>\n",
       "      <td>-1</td>\n",
       "    </tr>\n",
       "    <tr>\n",
       "      <th>1</th>\n",
       "      <td>10.1109/tmag.2017.2750019</td>\n",
       "      <td>Arturo S. Bretas</td>\n",
       "      <td>4</td>\n",
       "      <td>middle_position</td>\n",
       "      <td>2115308334</td>\n",
       "      <td>130442723</td>\n",
       "      <td>False</td>\n",
       "      <td>Male</td>\n",
       "      <td>6</td>\n",
       "      <td>15192</td>\n",
       "      <td>...</td>\n",
       "      <td>1</td>\n",
       "      <td>2</td>\n",
       "      <td>0.0</td>\n",
       "      <td>NaN</td>\n",
       "      <td>NaN</td>\n",
       "      <td>NaN</td>\n",
       "      <td>0</td>\n",
       "      <td>-1</td>\n",
       "      <td>-1.0</td>\n",
       "      <td>-1</td>\n",
       "    </tr>\n",
       "    <tr>\n",
       "      <th>2</th>\n",
       "      <td>10.1109/tmag.2017.2750019</td>\n",
       "      <td>Roberto C. Leborgne</td>\n",
       "      <td>3</td>\n",
       "      <td>middle_position</td>\n",
       "      <td>2145772920</td>\n",
       "      <td>130442723</td>\n",
       "      <td>False</td>\n",
       "      <td>Male</td>\n",
       "      <td>6</td>\n",
       "      <td>16228</td>\n",
       "      <td>...</td>\n",
       "      <td>1</td>\n",
       "      <td>2</td>\n",
       "      <td>0.5</td>\n",
       "      <td>NaN</td>\n",
       "      <td>NaN</td>\n",
       "      <td>NaN</td>\n",
       "      <td>0</td>\n",
       "      <td>-1</td>\n",
       "      <td>-1.0</td>\n",
       "      <td>-1</td>\n",
       "    </tr>\n",
       "    <tr>\n",
       "      <th>3</th>\n",
       "      <td>10.1109/tmag.2017.2750019</td>\n",
       "      <td>Christos Christopoulos</td>\n",
       "      <td>6</td>\n",
       "      <td>last_position</td>\n",
       "      <td>2162061708</td>\n",
       "      <td>142263535</td>\n",
       "      <td>False</td>\n",
       "      <td>Male</td>\n",
       "      <td>6</td>\n",
       "      <td>14318</td>\n",
       "      <td>...</td>\n",
       "      <td>1</td>\n",
       "      <td>1</td>\n",
       "      <td>0.0</td>\n",
       "      <td>NaN</td>\n",
       "      <td>NaN</td>\n",
       "      <td>NaN</td>\n",
       "      <td>0</td>\n",
       "      <td>-1</td>\n",
       "      <td>-1.0</td>\n",
       "      <td>-1</td>\n",
       "    </tr>\n",
       "    <tr>\n",
       "      <th>4</th>\n",
       "      <td>10.1109/tmag.2017.2750019</td>\n",
       "      <td>Dave W. P. Thomas</td>\n",
       "      <td>5</td>\n",
       "      <td>middle_position</td>\n",
       "      <td>2186954650</td>\n",
       "      <td>142263535</td>\n",
       "      <td>False</td>\n",
       "      <td>Male</td>\n",
       "      <td>6</td>\n",
       "      <td>16333</td>\n",
       "      <td>...</td>\n",
       "      <td>1</td>\n",
       "      <td>2</td>\n",
       "      <td>0.0</td>\n",
       "      <td>NaN</td>\n",
       "      <td>NaN</td>\n",
       "      <td>NaN</td>\n",
       "      <td>0</td>\n",
       "      <td>-1</td>\n",
       "      <td>-1.0</td>\n",
       "      <td>-1</td>\n",
       "    </tr>\n",
       "  </tbody>\n",
       "</table>\n",
       "<p>5 rows × 61 columns</p>\n",
       "</div>"
      ],
      "text/plain": [
       "                         doi             author_name  authorship_seq  \\\n",
       "0  10.1109/tmag.2017.2750019       Daniel S. Gazzana               1   \n",
       "1  10.1109/tmag.2017.2750019        Arturo S. Bretas               4   \n",
       "2  10.1109/tmag.2017.2750019     Roberto C. Leborgne               3   \n",
       "3  10.1109/tmag.2017.2750019  Christos Christopoulos               6   \n",
       "4  10.1109/tmag.2017.2750019       Dave W. P. Thomas               5   \n",
       "\n",
       "    authorship_pos   author_id affiliation_ids  self_promotion_original  \\\n",
       "0   first_position  2040190777       130442723                    False   \n",
       "1  middle_position  2115308334       130442723                    False   \n",
       "2  middle_position  2145772920       130442723                    False   \n",
       "3    last_position  2162061708       142263535                    False   \n",
       "4  middle_position  2186954650       142263535                    False   \n",
       "\n",
       "  gender  num_authors  author_rank  ... Physical_Sciences  \\\n",
       "0   Male            6        16859  ...                 1   \n",
       "1   Male            6        15192  ...                 1   \n",
       "2   Male            6        16228  ...                 1   \n",
       "3   Male            6        14318  ...                 1   \n",
       "4   Male            6        16333  ...                 1   \n",
       "\n",
       "  author_num_papers_in_data  author_self_promotion_rate matched_tid_original  \\\n",
       "0                         1                         0.0                  NaN   \n",
       "1                         2                         0.0                  NaN   \n",
       "2                         2                         0.5                  NaN   \n",
       "3                         1                         0.0                  NaN   \n",
       "4                         2                         0.0                  NaN   \n",
       "\n",
       "   matched_tid_retweet matched_tid  total_num_tweets  self_promo_position  \\\n",
       "0                  NaN         NaN                 0                   -1   \n",
       "1                  NaN         NaN                 0                   -1   \n",
       "2                  NaN         NaN                 0                   -1   \n",
       "3                  NaN         NaN                 0                   -1   \n",
       "4                  NaN         NaN                 0                   -1   \n",
       "\n",
       "   self_promo_position_frac  matched_tid_follower_cn  \n",
       "0                      -1.0                       -1  \n",
       "1                      -1.0                       -1  \n",
       "2                      -1.0                       -1  \n",
       "3                      -1.0                       -1  \n",
       "4                      -1.0                       -1  \n",
       "\n",
       "[5 rows x 61 columns]"
      ]
     },
     "execution_count": 69,
     "metadata": {},
     "output_type": "execute_result"
    }
   ],
   "source": [
    "reg_data.head()"
   ]
  },
  {
   "cell_type": "markdown",
   "metadata": {},
   "source": [
    "### Outdated below >>>"
   ]
  },
  {
   "cell_type": "markdown",
   "metadata": {},
   "source": [
    "The fig below is misleading because the def of timing (fractional) is correlated with total # mentions."
   ]
  },
  {
   "cell_type": "code",
   "execution_count": 46,
   "metadata": {
    "scrolled": true
   },
   "outputs": [
    {
     "data": {
      "text/plain": [
       "402661"
      ]
     },
     "execution_count": 46,
     "metadata": {},
     "output_type": "execute_result"
    }
   ],
   "source": [
    "len(reg_data.loc[reg_data.total_num_tweets >= 20])"
   ]
  },
  {
   "cell_type": "code",
   "execution_count": 87,
   "metadata": {
    "scrolled": true
   },
   "outputs": [
    {
     "data": {
      "image/png": "[encoded data removed]",
      "text/plain": [
       "<Figure size 216x180 with 1 Axes>"
      ]
     },
     "metadata": {
      "needs_background": "light"
     },
     "output_type": "display_data"
    }
   ],
   "source": [
    "nrows = 1\n",
    "ncols = 1\n",
    "fig, ax = plt.subplots(nrows=nrows, ncols=ncols, figsize=(3, 2.5))\n",
    "xs = [0, 1, 2, 3, 4, 5, 6]\n",
    "ys = [[], []]\n",
    "confs = [[], []]\n",
    "\n",
    "for ix, gen, col in zip([0, 1], labels, colors):\n",
    "    li_0 = reg_data.loc[(reg_data['gender'] == gen) & (reg_data['self_promo_position'] == 1)]['total_num_tweets'].tolist()\n",
    "    cut = 0.05\n",
    "    li_1 = reg_data.loc[(reg_data['gender'] == gen) & (reg_data['self_promo_position_frac'].apply(lambda x: x > 0 and x < cut))]['total_num_tweets'].tolist()\n",
    "    cut = 0.1\n",
    "    li_2 = reg_data.loc[(reg_data['gender'] == gen) & (reg_data['self_promo_position_frac'].apply(lambda x: x > 0 and x < cut))]['total_num_tweets'].tolist()\n",
    "    cut = 0.15\n",
    "    li_3 = reg_data.loc[(reg_data['gender'] == gen) & (reg_data['self_promo_position_frac'].apply(lambda x: x > 0 and x < cut))]['total_num_tweets'].tolist()\n",
    "    li_no = reg_data.loc[(reg_data['gender'] == gen) & (reg_data['self_promotion'] == False)]['total_num_tweets'].tolist()\n",
    "    li_yes = reg_data.loc[(reg_data['gender'] == gen) & (reg_data['self_promotion'] == True)]['total_num_tweets'].tolist()\n",
    "    li_all = reg_data.loc[reg_data['gender'] == gen]['total_num_tweets'].tolist()\n",
    "    for li_ in [li_0, li_1, li_2, li_3, li_no, li_yes, li_all]:\n",
    "        ys[ix].append(np.mean(li_))\n",
    "        confs[ix].append(CIs['95'] * np.std(li_) / np.sqrt(len(li_)))\n",
    "    ax.errorbar(xs, ys[ix], yerr=confs[ix], fmt='-o', markersize=2, linewidth=1.5, label=gen, color=col)\n",
    "    \n",
    "legend = ax.legend(bbox_to_anchor=(0.5, 0.7), loc='lower left', numpoints=2, labelspacing = 0.15, shadow=False, frameon = True, markerscale = 1)\n",
    "\n",
    "# ax.set_yticks([0.01, 0.03, 0.05, 0.07, 0.09])\n",
    "ax.set_xticks(xs)\n",
    "xticklabs = ['1st', '5%', '10%', '15%', 'no', 'yes', 'all']\n",
    "ax.set_xticklabels(xticklabs)\n",
    "# for tick in ax.get_xticklabels():\n",
    "#     tick.set_ha('right')\n",
    "#     tick.set_fontsize(8)\n",
    "#     tick.set_rotation(30)\n",
    "ax.set_xlabel('Timing of self-promotion')\n",
    "ax.set_ylabel('Avg. total num. of tweets')\n",
    "\n",
    "# plt.tight_layout()\n",
    "plt.show()\n",
    "fig.savefig('./avg_total_mentions.pdf', bbox_inches='tight', pad_inches=0.01)\n"
   ]
  },
  {
   "cell_type": "code",
   "execution_count": 88,
   "metadata": {},
   "outputs": [
    {
     "data": {
      "text/plain": [
       "[24.786151295099778,\n",
       " 155.73289610970338,\n",
       " 118.43404937981767,\n",
       " 103.77764595519258,\n",
       " 12.683786965688245,\n",
       " 82.91078635813265,\n",
       " 18.179995854131228]"
      ]
     },
     "execution_count": 88,
     "metadata": {},
     "output_type": "execute_result"
    }
   ],
   "source": [
    "ys[0]"
   ]
  },
  {
   "cell_type": "code",
   "execution_count": 89,
   "metadata": {},
   "outputs": [
    {
     "data": {
      "text/plain": [
       "[21.599015317286653,\n",
       " 124.08859416445624,\n",
       " 96.44756290691537,\n",
       " 84.27445103676065,\n",
       " 12.972780392249357,\n",
       " 73.56687411289442,\n",
       " 16.84243468721565]"
      ]
     },
     "execution_count": 89,
     "metadata": {},
     "output_type": "execute_result"
    }
   ],
   "source": [
    "ys[1]"
   ]
  },
  {
   "cell_type": "code",
   "execution_count": 90,
   "metadata": {},
   "outputs": [
    {
     "name": "stdout",
     "output_type": "stream",
     "text": [
      "1st \t 0.14755931837607048\n",
      "5% \t 0.2550137839688032\n",
      "10% \t 0.22796311083694423\n",
      "15% \t 0.23142476371545398\n",
      "no \t -0.02227690732618674\n",
      "yes \t 0.12701249520129435\n",
      "all \t 0.07941614094136051\n"
     ]
    }
   ],
   "source": [
    "for ix, ym, yf in zip(xticklabs, ys[0], ys[1]):\n",
    "    print(ix, '\\t', (ym-yf)/yf)"
   ]
  },
  {
   "cell_type": "code",
   "execution_count": 47,
   "metadata": {},
   "outputs": [
    {
     "data": {
      "text/plain": [
       "14624"
      ]
     },
     "execution_count": 47,
     "metadata": {},
     "output_type": "execute_result"
    }
   ],
   "source": [
    "len(li_0)"
   ]
  },
  {
   "cell_type": "code",
   "execution_count": 48,
   "metadata": {},
   "outputs": [
    {
     "data": {
      "text/plain": [
       "5655"
      ]
     },
     "execution_count": 48,
     "metadata": {},
     "output_type": "execute_result"
    }
   ],
   "source": [
    "len(li_1)"
   ]
  },
  {
   "cell_type": "code",
   "execution_count": 51,
   "metadata": {},
   "outputs": [
    {
     "data": {
      "text/plain": [
       "11366"
      ]
     },
     "execution_count": 51,
     "metadata": {},
     "output_type": "execute_result"
    }
   ],
   "source": [
    "len(li_2)"
   ]
  },
  {
   "cell_type": "code",
   "execution_count": 52,
   "metadata": {},
   "outputs": [
    {
     "data": {
      "text/plain": [
       "16349"
      ]
     },
     "execution_count": 52,
     "metadata": {},
     "output_type": "execute_result"
    }
   ],
   "source": [
    "len(li_3)"
   ]
  },
  {
   "cell_type": "code",
   "execution_count": 49,
   "metadata": {},
   "outputs": [
    {
     "data": {
      "text/plain": [
       "805559"
      ]
     },
     "execution_count": 49,
     "metadata": {},
     "output_type": "execute_result"
    }
   ],
   "source": [
    "len(li_no)"
   ]
  },
  {
   "cell_type": "code",
   "execution_count": 91,
   "metadata": {},
   "outputs": [
    {
     "data": {
      "text/plain": [
       "54954"
      ]
     },
     "execution_count": 91,
     "metadata": {},
     "output_type": "execute_result"
    }
   ],
   "source": [
    "len(li_yes)"
   ]
  },
  {
   "cell_type": "code",
   "execution_count": 77,
   "metadata": {},
   "outputs": [
    {
     "data": {
      "text/plain": [
       "805559"
      ]
     },
     "execution_count": 77,
     "metadata": {},
     "output_type": "execute_result"
    }
   ],
   "source": [
    "len(reg_data.loc[(reg_data['self_promotion'] == False) & (reg_data['gender'] == 'Female')])"
   ]
  },
  {
   "cell_type": "code",
   "execution_count": 78,
   "metadata": {},
   "outputs": [
    {
     "data": {
      "text/plain": [
       "1400657"
      ]
     },
     "execution_count": 78,
     "metadata": {},
     "output_type": "execute_result"
    }
   ],
   "source": [
    "len(reg_data.loc[(reg_data['self_promotion'] == False) & (reg_data['gender'] == 'Male')])"
   ]
  },
  {
   "cell_type": "code",
   "execution_count": 50,
   "metadata": {
    "scrolled": false
   },
   "outputs": [
    {
     "data": {
      "text/plain": [
       "860513"
      ]
     },
     "execution_count": 50,
     "metadata": {},
     "output_type": "execute_result"
    }
   ],
   "source": [
    "len(li_all)"
   ]
  },
  {
   "cell_type": "markdown",
   "metadata": {},
   "source": [
    "### <<< Outdated above"
   ]
  },
  {
   "cell_type": "markdown",
   "metadata": {},
   "source": [
    "### Different definition of self-promotion"
   ]
  },
  {
   "cell_type": "markdown",
   "metadata": {},
   "source": [
    "Define self-promotion timing as the actual time difference between promotion time and publication date"
   ]
  },
  {
   "cell_type": "code",
   "execution_count": 115,
   "metadata": {},
   "outputs": [
    {
     "name": "stdout",
     "output_type": "stream",
     "text": [
      "processed 1000000 lines...\n",
      "processed 2000000 lines...\n",
      "processed 3000000 lines...\n",
      "processed 4000000 lines...\n",
      "processed 5000000 lines...\n",
      "processed 6000000 lines...\n",
      "processed 7000000 lines...\n",
      "processed 8000000 lines...\n",
      "processed 9000000 lines...\n",
      "processed 10000000 lines...\n",
      "processed 11000000 lines...\n",
      "processed 12000000 lines...\n",
      "processed 13000000 lines...\n",
      "processed 14000000 lines...\n",
      "processed 15000000 lines...\n",
      "processed 16000000 lines...\n",
      "processed 17000000 lines...\n",
      "processed 18000000 lines...\n",
      "processed 19000000 lines...\n",
      "processed 20000000 lines...\n",
      "processed 21000000 lines...\n",
      "processed 22000000 lines...\n",
      "processed 23000000 lines...\n",
      "processed 24000000 lines...\n",
      "processed 25000000 lines...\n"
     ]
    }
   ],
   "source": [
    "doi_pub_date = {}\n",
    "\n",
    "cn_lines = 0\n",
    "with open('/home/haopeng/Data/Retraction/merged.txt', 'r') as ofile:\n",
    "    for row in ofile:\n",
    "        cn_lines += 1\n",
    "        if cn_lines % 1000000 == 0:\n",
    "            print('processed %d lines...'%cn_lines)\n",
    "        if '}{\"altmetric_id\"' in row:\n",
    "            row = row.replace('}{\"altmetric_id\"', '}\\n{\"altmetric_id\"')\n",
    "        # this way works for both good and bad lines.\n",
    "        records = row.split('\\n')\n",
    "        for record in records:\n",
    "            if record != '':\n",
    "                paper = json.loads(record)\n",
    "                citation = paper['citation']\n",
    "                pubdate = ''\n",
    "                if 'pubdate' in citation:\n",
    "                    pubdate = citation['pubdate']\n",
    "                elif 'epubdate' in citation:\n",
    "                    pubdate = citation['epubdate']\n",
    "                doi = ''\n",
    "                if 'doi' in citation:\n",
    "                    doi = citation['doi']\n",
    "                if doi in dois:\n",
    "                    doi_pub_date[doi] = pubdate"
   ]
  },
  {
   "cell_type": "code",
   "execution_count": 116,
   "metadata": {},
   "outputs": [],
   "source": [
    "def cal_self_promo_time(row):\n",
    "    doi, p_0, mat_tid = row['doi'], row['self_promotion'], row['matched_tid']\n",
    "    if p_0:\n",
    "        promo_time = tid_date_all[mat_tid]\n",
    "        pub_time = doi_pub_date[doi]\n",
    "        pub_time = datetime.strptime(pub_time, '%Y-%m-%dT%H:%M:%S+00:00')\n",
    "        delta = (promo_time - pub_time).total_seconds()\n",
    "        if delta <= 0:\n",
    "            return 0\n",
    "        else:\n",
    "            return delta\n",
    "    else:\n",
    "        return -1"
   ]
  },
  {
   "cell_type": "code",
   "execution_count": 117,
   "metadata": {},
   "outputs": [],
   "source": [
    "reg_data['self_promo_time'] = reg_data.apply(lambda row: cal_self_promo_time(row), axis = 1)"
   ]
  },
  {
   "cell_type": "code",
   "execution_count": 119,
   "metadata": {
    "scrolled": true
   },
   "outputs": [
    {
     "data": {
      "text/html": [
       "<div>\n",
       "<style scoped>\n",
       "    .dataframe tbody tr th:only-of-type {\n",
       "        vertical-align: middle;\n",
       "    }\n",
       "\n",
       "    .dataframe tbody tr th {\n",
       "        vertical-align: top;\n",
       "    }\n",
       "\n",
       "    .dataframe thead th {\n",
       "        text-align: right;\n",
       "    }\n",
       "</style>\n",
       "<table border=\"1\" class=\"dataframe\">\n",
       "  <thead>\n",
       "    <tr style=\"text-align: right;\">\n",
       "      <th></th>\n",
       "      <th>doi</th>\n",
       "      <th>author_name</th>\n",
       "      <th>authorship_seq</th>\n",
       "      <th>authorship_pos</th>\n",
       "      <th>author_id</th>\n",
       "      <th>affiliation_ids</th>\n",
       "      <th>self_promotion_original</th>\n",
       "      <th>gender</th>\n",
       "      <th>num_authors</th>\n",
       "      <th>author_rank</th>\n",
       "      <th>...</th>\n",
       "      <th>author_num_papers_in_data</th>\n",
       "      <th>author_self_promotion_rate</th>\n",
       "      <th>matched_tid_original</th>\n",
       "      <th>matched_tid_retweet</th>\n",
       "      <th>matched_tid</th>\n",
       "      <th>total_num_tweets</th>\n",
       "      <th>self_promo_position</th>\n",
       "      <th>self_promo_position_frac</th>\n",
       "      <th>matched_tid_follower_cn</th>\n",
       "      <th>self_promo_time</th>\n",
       "    </tr>\n",
       "  </thead>\n",
       "  <tbody>\n",
       "    <tr>\n",
       "      <th>7</th>\n",
       "      <td>10.1111/jofo.12266</td>\n",
       "      <td>David Canal</td>\n",
       "      <td>3</td>\n",
       "      <td>middle_position</td>\n",
       "      <td>2168392039</td>\n",
       "      <td>134820265|151201029</td>\n",
       "      <td>False</td>\n",
       "      <td>Male</td>\n",
       "      <td>4</td>\n",
       "      <td>17023</td>\n",
       "      <td>...</td>\n",
       "      <td>5</td>\n",
       "      <td>0.400000</td>\n",
       "      <td>NaN</td>\n",
       "      <td>1074690500261830656</td>\n",
       "      <td>1074690500261830656</td>\n",
       "      <td>13</td>\n",
       "      <td>13</td>\n",
       "      <td>1.000000</td>\n",
       "      <td>588</td>\n",
       "      <td>1438756.0</td>\n",
       "    </tr>\n",
       "    <tr>\n",
       "      <th>12</th>\n",
       "      <td>10.1111/ejn.13879</td>\n",
       "      <td>Abigail M. Polter</td>\n",
       "      <td>1</td>\n",
       "      <td>first_position</td>\n",
       "      <td>1994828131</td>\n",
       "      <td>27804330</td>\n",
       "      <td>True</td>\n",
       "      <td>Female</td>\n",
       "      <td>4</td>\n",
       "      <td>18498</td>\n",
       "      <td>...</td>\n",
       "      <td>1</td>\n",
       "      <td>1.000000</td>\n",
       "      <td>973983994038628352</td>\n",
       "      <td>NaN</td>\n",
       "      <td>973983994038628352</td>\n",
       "      <td>10</td>\n",
       "      <td>1</td>\n",
       "      <td>0.100000</td>\n",
       "      <td>1362</td>\n",
       "      <td>0.0</td>\n",
       "    </tr>\n",
       "    <tr>\n",
       "      <th>31</th>\n",
       "      <td>10.1108/jhom-10-2017-0266</td>\n",
       "      <td>Yvonne Sawbridge</td>\n",
       "      <td>2</td>\n",
       "      <td>middle_position</td>\n",
       "      <td>108076037</td>\n",
       "      <td>79619799</td>\n",
       "      <td>True</td>\n",
       "      <td>Female</td>\n",
       "      <td>6</td>\n",
       "      <td>17955</td>\n",
       "      <td>...</td>\n",
       "      <td>1</td>\n",
       "      <td>1.000000</td>\n",
       "      <td>979347729687220224</td>\n",
       "      <td>NaN</td>\n",
       "      <td>979347729687220224</td>\n",
       "      <td>20</td>\n",
       "      <td>1</td>\n",
       "      <td>0.050000</td>\n",
       "      <td>1691</td>\n",
       "      <td>0.0</td>\n",
       "    </tr>\n",
       "    <tr>\n",
       "      <th>47</th>\n",
       "      <td>10.1080/17461391.2018.1439535</td>\n",
       "      <td>Matthew Driller</td>\n",
       "      <td>4</td>\n",
       "      <td>last_position</td>\n",
       "      <td>2915820210</td>\n",
       "      <td>52179390</td>\n",
       "      <td>True</td>\n",
       "      <td>Male</td>\n",
       "      <td>4</td>\n",
       "      <td>17976</td>\n",
       "      <td>...</td>\n",
       "      <td>6</td>\n",
       "      <td>1.000000</td>\n",
       "      <td>968344007108636673</td>\n",
       "      <td>990685286920208384</td>\n",
       "      <td>968344007108636673</td>\n",
       "      <td>49</td>\n",
       "      <td>1</td>\n",
       "      <td>0.020408</td>\n",
       "      <td>2663</td>\n",
       "      <td>0.0</td>\n",
       "    </tr>\n",
       "    <tr>\n",
       "      <th>48</th>\n",
       "      <td>10.1080/17461391.2018.1439535</td>\n",
       "      <td>Steve Bird</td>\n",
       "      <td>2</td>\n",
       "      <td>middle_position</td>\n",
       "      <td>2916899503</td>\n",
       "      <td>52179390</td>\n",
       "      <td>False</td>\n",
       "      <td>Male</td>\n",
       "      <td>4</td>\n",
       "      <td>17805</td>\n",
       "      <td>...</td>\n",
       "      <td>3</td>\n",
       "      <td>0.333333</td>\n",
       "      <td>NaN</td>\n",
       "      <td>969291756935307265</td>\n",
       "      <td>969291756935307265</td>\n",
       "      <td>49</td>\n",
       "      <td>25</td>\n",
       "      <td>0.510204</td>\n",
       "      <td>310</td>\n",
       "      <td>0.0</td>\n",
       "    </tr>\n",
       "    <tr>\n",
       "      <th>...</th>\n",
       "      <td>...</td>\n",
       "      <td>...</td>\n",
       "      <td>...</td>\n",
       "      <td>...</td>\n",
       "      <td>...</td>\n",
       "      <td>...</td>\n",
       "      <td>...</td>\n",
       "      <td>...</td>\n",
       "      <td>...</td>\n",
       "      <td>...</td>\n",
       "      <td>...</td>\n",
       "      <td>...</td>\n",
       "      <td>...</td>\n",
       "      <td>...</td>\n",
       "      <td>...</td>\n",
       "      <td>...</td>\n",
       "      <td>...</td>\n",
       "      <td>...</td>\n",
       "      <td>...</td>\n",
       "      <td>...</td>\n",
       "      <td>...</td>\n",
       "    </tr>\n",
       "    <tr>\n",
       "      <th>3072942</th>\n",
       "      <td>10.1002/ejoc.201800424</td>\n",
       "      <td>Toshiaki Shimasaki</td>\n",
       "      <td>8</td>\n",
       "      <td>middle_position</td>\n",
       "      <td>2073876528</td>\n",
       "      <td>8488066</td>\n",
       "      <td>True</td>\n",
       "      <td>Male</td>\n",
       "      <td>9</td>\n",
       "      <td>17281</td>\n",
       "      <td>...</td>\n",
       "      <td>2</td>\n",
       "      <td>0.500000</td>\n",
       "      <td>1017578726748377089</td>\n",
       "      <td>NaN</td>\n",
       "      <td>1017578726748377089</td>\n",
       "      <td>3</td>\n",
       "      <td>2</td>\n",
       "      <td>0.666667</td>\n",
       "      <td>298</td>\n",
       "      <td>4648.0</td>\n",
       "    </tr>\n",
       "    <tr>\n",
       "      <th>3072951</th>\n",
       "      <td>10.1016/j.neuroimage.2017.05.050</td>\n",
       "      <td>Vince Daniel Calhoun</td>\n",
       "      <td>2</td>\n",
       "      <td>middle_position</td>\n",
       "      <td>47842845</td>\n",
       "      <td>169521973|1334567473</td>\n",
       "      <td>True</td>\n",
       "      <td>Male</td>\n",
       "      <td>7</td>\n",
       "      <td>12627</td>\n",
       "      <td>...</td>\n",
       "      <td>75</td>\n",
       "      <td>0.546667</td>\n",
       "      <td>987014794006806528</td>\n",
       "      <td>NaN</td>\n",
       "      <td>987014794006806528</td>\n",
       "      <td>39</td>\n",
       "      <td>39</td>\n",
       "      <td>1.000000</td>\n",
       "      <td>4458</td>\n",
       "      <td>0.0</td>\n",
       "    </tr>\n",
       "    <tr>\n",
       "      <th>3072960</th>\n",
       "      <td>10.1016/j.jebo.2018.02.018</td>\n",
       "      <td>Cecilia Hermansson</td>\n",
       "      <td>1</td>\n",
       "      <td>solo_author</td>\n",
       "      <td>2081555386</td>\n",
       "      <td>86987016</td>\n",
       "      <td>True</td>\n",
       "      <td>Female</td>\n",
       "      <td>1</td>\n",
       "      <td>18241</td>\n",
       "      <td>...</td>\n",
       "      <td>1</td>\n",
       "      <td>1.000000</td>\n",
       "      <td>970973316512088064</td>\n",
       "      <td>NaN</td>\n",
       "      <td>970973316512088064</td>\n",
       "      <td>5</td>\n",
       "      <td>1</td>\n",
       "      <td>0.200000</td>\n",
       "      <td>2796</td>\n",
       "      <td>0.0</td>\n",
       "    </tr>\n",
       "    <tr>\n",
       "      <th>3072986</th>\n",
       "      <td>10.1016/j.amjsurg.2018.07.064</td>\n",
       "      <td>Arghavan Salles</td>\n",
       "      <td>4</td>\n",
       "      <td>last_position</td>\n",
       "      <td>2115201536</td>\n",
       "      <td>97018004</td>\n",
       "      <td>True</td>\n",
       "      <td>Female</td>\n",
       "      <td>4</td>\n",
       "      <td>17007</td>\n",
       "      <td>...</td>\n",
       "      <td>4</td>\n",
       "      <td>0.750000</td>\n",
       "      <td>1147915473536737280</td>\n",
       "      <td>1045789314880233472</td>\n",
       "      <td>1147915473536737280</td>\n",
       "      <td>18</td>\n",
       "      <td>18</td>\n",
       "      <td>1.000000</td>\n",
       "      <td>43622</td>\n",
       "      <td>24167350.0</td>\n",
       "    </tr>\n",
       "    <tr>\n",
       "      <th>3072995</th>\n",
       "      <td>10.1007/s10657-018-9586-7</td>\n",
       "      <td>Enrico Colombatto</td>\n",
       "      <td>1</td>\n",
       "      <td>first_position</td>\n",
       "      <td>2483218279</td>\n",
       "      <td>55143463</td>\n",
       "      <td>True</td>\n",
       "      <td>Male</td>\n",
       "      <td>2</td>\n",
       "      <td>16469</td>\n",
       "      <td>...</td>\n",
       "      <td>1</td>\n",
       "      <td>1.000000</td>\n",
       "      <td>1029027406793895936</td>\n",
       "      <td>NaN</td>\n",
       "      <td>1029027406793895936</td>\n",
       "      <td>2</td>\n",
       "      <td>1</td>\n",
       "      <td>0.500000</td>\n",
       "      <td>2332</td>\n",
       "      <td>0.0</td>\n",
       "    </tr>\n",
       "  </tbody>\n",
       "</table>\n",
       "<p>191637 rows × 62 columns</p>\n",
       "</div>"
      ],
      "text/plain": [
       "                                      doi           author_name  \\\n",
       "7                      10.1111/jofo.12266           David Canal   \n",
       "12                      10.1111/ejn.13879     Abigail M. Polter   \n",
       "31              10.1108/jhom-10-2017-0266      Yvonne Sawbridge   \n",
       "47          10.1080/17461391.2018.1439535       Matthew Driller   \n",
       "48          10.1080/17461391.2018.1439535            Steve Bird   \n",
       "...                                   ...                   ...   \n",
       "3072942            10.1002/ejoc.201800424    Toshiaki Shimasaki   \n",
       "3072951  10.1016/j.neuroimage.2017.05.050  Vince Daniel Calhoun   \n",
       "3072960        10.1016/j.jebo.2018.02.018    Cecilia Hermansson   \n",
       "3072986     10.1016/j.amjsurg.2018.07.064       Arghavan Salles   \n",
       "3072995         10.1007/s10657-018-9586-7     Enrico Colombatto   \n",
       "\n",
       "         authorship_seq   authorship_pos   author_id       affiliation_ids  \\\n",
       "7                     3  middle_position  2168392039   134820265|151201029   \n",
       "12                    1   first_position  1994828131              27804330   \n",
       "31                    2  middle_position   108076037              79619799   \n",
       "47                    4    last_position  2915820210              52179390   \n",
       "48                    2  middle_position  2916899503              52179390   \n",
       "...                 ...              ...         ...                   ...   \n",
       "3072942               8  middle_position  2073876528               8488066   \n",
       "3072951               2  middle_position    47842845  169521973|1334567473   \n",
       "3072960               1      solo_author  2081555386              86987016   \n",
       "3072986               4    last_position  2115201536              97018004   \n",
       "3072995               1   first_position  2483218279              55143463   \n",
       "\n",
       "         self_promotion_original  gender  num_authors  author_rank  ...  \\\n",
       "7                          False    Male            4        17023  ...   \n",
       "12                          True  Female            4        18498  ...   \n",
       "31                          True  Female            6        17955  ...   \n",
       "47                          True    Male            4        17976  ...   \n",
       "48                         False    Male            4        17805  ...   \n",
       "...                          ...     ...          ...          ...  ...   \n",
       "3072942                     True    Male            9        17281  ...   \n",
       "3072951                     True    Male            7        12627  ...   \n",
       "3072960                     True  Female            1        18241  ...   \n",
       "3072986                     True  Female            4        17007  ...   \n",
       "3072995                     True    Male            2        16469  ...   \n",
       "\n",
       "        author_num_papers_in_data author_self_promotion_rate  \\\n",
       "7                               5                   0.400000   \n",
       "12                              1                   1.000000   \n",
       "31                              1                   1.000000   \n",
       "47                              6                   1.000000   \n",
       "48                              3                   0.333333   \n",
       "...                           ...                        ...   \n",
       "3072942                         2                   0.500000   \n",
       "3072951                        75                   0.546667   \n",
       "3072960                         1                   1.000000   \n",
       "3072986                         4                   0.750000   \n",
       "3072995                         1                   1.000000   \n",
       "\n",
       "         matched_tid_original  matched_tid_retweet          matched_tid  \\\n",
       "7                         NaN  1074690500261830656  1074690500261830656   \n",
       "12         973983994038628352                  NaN   973983994038628352   \n",
       "31         979347729687220224                  NaN   979347729687220224   \n",
       "47         968344007108636673   990685286920208384   968344007108636673   \n",
       "48                        NaN   969291756935307265   969291756935307265   \n",
       "...                       ...                  ...                  ...   \n",
       "3072942   1017578726748377089                  NaN  1017578726748377089   \n",
       "3072951    987014794006806528                  NaN   987014794006806528   \n",
       "3072960    970973316512088064                  NaN   970973316512088064   \n",
       "3072986   1147915473536737280  1045789314880233472  1147915473536737280   \n",
       "3072995   1029027406793895936                  NaN  1029027406793895936   \n",
       "\n",
       "        total_num_tweets  self_promo_position  self_promo_position_frac  \\\n",
       "7                     13                   13                  1.000000   \n",
       "12                    10                    1                  0.100000   \n",
       "31                    20                    1                  0.050000   \n",
       "47                    49                    1                  0.020408   \n",
       "48                    49                   25                  0.510204   \n",
       "...                  ...                  ...                       ...   \n",
       "3072942                3                    2                  0.666667   \n",
       "3072951               39                   39                  1.000000   \n",
       "3072960                5                    1                  0.200000   \n",
       "3072986               18                   18                  1.000000   \n",
       "3072995                2                    1                  0.500000   \n",
       "\n",
       "         matched_tid_follower_cn  self_promo_time  \n",
       "7                            588        1438756.0  \n",
       "12                          1362              0.0  \n",
       "31                          1691              0.0  \n",
       "47                          2663              0.0  \n",
       "48                           310              0.0  \n",
       "...                          ...              ...  \n",
       "3072942                      298           4648.0  \n",
       "3072951                     4458              0.0  \n",
       "3072960                     2796              0.0  \n",
       "3072986                    43622       24167350.0  \n",
       "3072995                     2332              0.0  \n",
       "\n",
       "[191637 rows x 62 columns]"
      ]
     },
     "execution_count": 119,
     "metadata": {},
     "output_type": "execute_result"
    }
   ],
   "source": [
    "reg_data.loc[reg_data['self_promo_time'] != -1]"
   ]
  },
  {
   "cell_type": "code",
   "execution_count": 123,
   "metadata": {
    "scrolled": false
   },
   "outputs": [
    {
     "data": {
      "text/plain": [
       "0.0"
      ]
     },
     "execution_count": 123,
     "metadata": {},
     "output_type": "execute_result"
    }
   ],
   "source": [
    "np.median(reg_data[reg_data.self_promotion == True]['self_promo_time'])"
   ]
  },
  {
   "cell_type": "code",
   "execution_count": 124,
   "metadata": {
    "scrolled": true
   },
   "outputs": [
    {
     "data": {
      "text/plain": [
       "1959353.9666139628"
      ]
     },
     "execution_count": 124,
     "metadata": {},
     "output_type": "execute_result"
    }
   ],
   "source": [
    "np.mean(reg_data[reg_data.self_promotion == True]['self_promo_time'])"
   ]
  },
  {
   "cell_type": "code",
   "execution_count": 121,
   "metadata": {
    "scrolled": true
   },
   "outputs": [
    {
     "data": {
      "text/plain": [
       "15.885128250853157"
      ]
     },
     "execution_count": 121,
     "metadata": {},
     "output_type": "execute_result"
    }
   ],
   "source": [
    "np.mean(reg_data.total_num_tweets)"
   ]
  },
  {
   "cell_type": "markdown",
   "metadata": {},
   "source": [
    "Consider promotion within one day after publication as self-promotion"
   ]
  },
  {
   "cell_type": "code",
   "execution_count": 125,
   "metadata": {},
   "outputs": [],
   "source": [
    "day_sec = 3600*24\n",
    "thsh = 1\n",
    "\n",
    "def promo_fun(delta):\n",
    "    if delta == -1:\n",
    "        return False\n",
    "    else:\n",
    "        if delta <= day_sec * thsh:\n",
    "            return True\n",
    "        else:\n",
    "            return False"
   ]
  },
  {
   "cell_type": "code",
   "execution_count": 126,
   "metadata": {},
   "outputs": [],
   "source": [
    "reg_data['self_promotion_def'] = reg_data['self_promo_time'].apply(promo_fun)"
   ]
  },
  {
   "cell_type": "code",
   "execution_count": 132,
   "metadata": {},
   "outputs": [
    {
     "data": {
      "text/html": [
       "<div>\n",
       "<style scoped>\n",
       "    .dataframe tbody tr th:only-of-type {\n",
       "        vertical-align: middle;\n",
       "    }\n",
       "\n",
       "    .dataframe tbody tr th {\n",
       "        vertical-align: top;\n",
       "    }\n",
       "\n",
       "    .dataframe thead th {\n",
       "        text-align: right;\n",
       "    }\n",
       "</style>\n",
       "<table border=\"1\" class=\"dataframe\">\n",
       "  <thead>\n",
       "    <tr style=\"text-align: right;\">\n",
       "      <th></th>\n",
       "      <th>self_promo_time</th>\n",
       "      <th>self_promotion_def</th>\n",
       "    </tr>\n",
       "  </thead>\n",
       "  <tbody>\n",
       "    <tr>\n",
       "      <th>12</th>\n",
       "      <td>0.0</td>\n",
       "      <td>True</td>\n",
       "    </tr>\n",
       "    <tr>\n",
       "      <th>31</th>\n",
       "      <td>0.0</td>\n",
       "      <td>True</td>\n",
       "    </tr>\n",
       "    <tr>\n",
       "      <th>47</th>\n",
       "      <td>0.0</td>\n",
       "      <td>True</td>\n",
       "    </tr>\n",
       "    <tr>\n",
       "      <th>48</th>\n",
       "      <td>0.0</td>\n",
       "      <td>True</td>\n",
       "    </tr>\n",
       "    <tr>\n",
       "      <th>197</th>\n",
       "      <td>0.0</td>\n",
       "      <td>True</td>\n",
       "    </tr>\n",
       "    <tr>\n",
       "      <th>...</th>\n",
       "      <td>...</td>\n",
       "      <td>...</td>\n",
       "    </tr>\n",
       "    <tr>\n",
       "      <th>3072912</th>\n",
       "      <td>0.0</td>\n",
       "      <td>True</td>\n",
       "    </tr>\n",
       "    <tr>\n",
       "      <th>3072942</th>\n",
       "      <td>4648.0</td>\n",
       "      <td>True</td>\n",
       "    </tr>\n",
       "    <tr>\n",
       "      <th>3072951</th>\n",
       "      <td>0.0</td>\n",
       "      <td>True</td>\n",
       "    </tr>\n",
       "    <tr>\n",
       "      <th>3072960</th>\n",
       "      <td>0.0</td>\n",
       "      <td>True</td>\n",
       "    </tr>\n",
       "    <tr>\n",
       "      <th>3072995</th>\n",
       "      <td>0.0</td>\n",
       "      <td>True</td>\n",
       "    </tr>\n",
       "  </tbody>\n",
       "</table>\n",
       "<p>129500 rows × 2 columns</p>\n",
       "</div>"
      ],
      "text/plain": [
       "         self_promo_time  self_promotion_def\n",
       "12                   0.0                True\n",
       "31                   0.0                True\n",
       "47                   0.0                True\n",
       "48                   0.0                True\n",
       "197                  0.0                True\n",
       "...                  ...                 ...\n",
       "3072912              0.0                True\n",
       "3072942           4648.0                True\n",
       "3072951              0.0                True\n",
       "3072960              0.0                True\n",
       "3072995              0.0                True\n",
       "\n",
       "[129500 rows x 2 columns]"
      ]
     },
     "execution_count": 132,
     "metadata": {},
     "output_type": "execute_result"
    }
   ],
   "source": [
    "reg_data.loc[reg_data['self_promotion_def'] == True, ['self_promo_time', 'self_promotion_def']]"
   ]
  },
  {
   "cell_type": "markdown",
   "metadata": {},
   "source": [
    "### Add audiences (DV)"
   ]
  },
  {
   "cell_type": "code",
   "execution_count": 24,
   "metadata": {},
   "outputs": [
    {
     "data": {
      "text/plain": [
       "564748"
      ]
     },
     "execution_count": 24,
     "metadata": {},
     "output_type": "execute_result"
    }
   ],
   "source": [
    "len(dois)"
   ]
  },
  {
   "cell_type": "code",
   "execution_count": 28,
   "metadata": {
    "scrolled": false
   },
   "outputs": [
    {
     "name": "stdout",
     "output_type": "stream",
     "text": [
      "processed 1000000 lines...\n",
      "processed 2000000 lines...\n",
      "processed 3000000 lines...\n",
      "processed 4000000 lines...\n",
      "processed 5000000 lines...\n",
      "processed 6000000 lines...\n",
      "processed 7000000 lines...\n",
      "processed 8000000 lines...\n",
      "processed 9000000 lines...\n",
      "processed 10000000 lines...\n",
      "processed 11000000 lines...\n",
      "processed 12000000 lines...\n",
      "processed 13000000 lines...\n",
      "processed 14000000 lines...\n",
      "processed 15000000 lines...\n",
      "processed 16000000 lines...\n",
      "processed 17000000 lines...\n",
      "processed 18000000 lines...\n",
      "processed 19000000 lines...\n",
      "processed 20000000 lines...\n",
      "processed 21000000 lines...\n",
      "processed 22000000 lines...\n",
      "processed 23000000 lines...\n",
      "processed 24000000 lines...\n",
      "processed 25000000 lines...\n"
     ]
    }
   ],
   "source": [
    "doi_tw_aud = {}\n",
    "cn_lines = 0\n",
    "\n",
    "with open('/home/haopeng/Data/Retraction/merged.txt', 'r') as ofile:\n",
    "    for row in ofile:\n",
    "        cn_lines += 1\n",
    "        if cn_lines % 1000000 == 0:\n",
    "            print('processed %d lines...'%cn_lines)\n",
    "        if '}{\"altmetric_id\"' in row:\n",
    "            row = row.replace('}{\"altmetric_id\"', '}\\n{\"altmetric_id\"')\n",
    "        # this way works for both good and bad lines.\n",
    "        records = row.split('\\n')\n",
    "        for record in records:\n",
    "            if record != '':\n",
    "                paper = json.loads(record)\n",
    "                citation = paper['citation']\n",
    "                doi = ''\n",
    "                if 'doi' in citation:\n",
    "                    doi = citation['doi']\n",
    "                if doi in dois and 'poster_types' in paper['demographics']:\n",
    "                    doi_tw_aud[doi] = paper['demographics']['poster_types']"
   ]
  },
  {
   "cell_type": "code",
   "execution_count": 29,
   "metadata": {
    "scrolled": true
   },
   "outputs": [
    {
     "data": {
      "text/plain": [
       "472831"
      ]
     },
     "execution_count": 29,
     "metadata": {},
     "output_type": "execute_result"
    }
   ],
   "source": [
    "len(doi_tw_aud)"
   ]
  },
  {
   "cell_type": "code",
   "execution_count": 32,
   "metadata": {},
   "outputs": [
    {
     "data": {
      "text/plain": [
       "{'member_of_the_public': 47,\n",
       " 'researcher': 11,\n",
       " 'practitioner': 21,\n",
       " 'science_communicator': 4}"
      ]
     },
     "execution_count": 32,
     "metadata": {},
     "output_type": "execute_result"
    }
   ],
   "source": [
    "doi_tw_aud['10.1001/jama.2018.17121']"
   ]
  },
  {
   "cell_type": "code",
   "execution_count": 33,
   "metadata": {},
   "outputs": [],
   "source": [
    "def get_num_audiences(doi, kind = 'member_of_the_public'):\n",
    "    if doi in doi_tw_aud and kind in doi_tw_aud[doi]:\n",
    "        return doi_tw_aud[doi][kind]\n",
    "    else:\n",
    "        return 0"
   ]
  },
  {
   "cell_type": "code",
   "execution_count": 34,
   "metadata": {},
   "outputs": [],
   "source": [
    "reg_data['member_of_the_public'] = reg_data['doi'].apply(lambda doi: get_num_audiences(doi, 'member_of_the_public'))\n",
    "reg_data['researcher'] = reg_data['doi'].apply(lambda doi: get_num_audiences(doi, 'researcher'))\n",
    "reg_data['practitioner'] = reg_data['doi'].apply(lambda doi: get_num_audiences(doi, 'practitioner'))\n",
    "reg_data['science_communicator'] = reg_data['doi'].apply(lambda doi: get_num_audiences(doi, 'science_communicator'))"
   ]
  },
  {
   "cell_type": "code",
   "execution_count": 75,
   "metadata": {},
   "outputs": [],
   "source": [
    "reg_data['num_non_scientists'] = reg_data[['member_of_the_public', 'practitioner', 'science_communicator']].sum(axis=1)\n"
   ]
  },
  {
   "cell_type": "code",
   "execution_count": 38,
   "metadata": {},
   "outputs": [
    {
     "data": {
      "text/plain": [
       "10833556"
      ]
     },
     "execution_count": 38,
     "metadata": {},
     "output_type": "execute_result"
    }
   ],
   "source": [
    "np.sum(reg_data['researcher'])"
   ]
  },
  {
   "cell_type": "code",
   "execution_count": 76,
   "metadata": {},
   "outputs": [
    {
     "data": {
      "text/plain": [
       "34055900"
      ]
     },
     "execution_count": 76,
     "metadata": {},
     "output_type": "execute_result"
    }
   ],
   "source": [
    "np.sum(reg_data['num_non_scientists'])"
   ]
  },
  {
   "cell_type": "markdown",
   "metadata": {},
   "source": [
    "### Add author ethnicity (focus on male and female to reduce the number of authors queried)"
   ]
  },
  {
   "cell_type": "code",
   "execution_count": 77,
   "metadata": {},
   "outputs": [
    {
     "data": {
      "text/plain": [
       "2380098"
      ]
     },
     "execution_count": 77,
     "metadata": {},
     "output_type": "execute_result"
    }
   ],
   "source": [
    "# focus on Male and Female\n",
    "len(reg_data.loc[reg_data['gender'].isin(['Female', 'Male'])])"
   ]
  },
  {
   "cell_type": "code",
   "execution_count": 13,
   "metadata": {},
   "outputs": [],
   "source": [
    "eth_url = 'http://abel.lis.illinois.edu/cgi-bin/ethnea/search.py?format=json'"
   ]
  },
  {
   "cell_type": "code",
   "execution_count": null,
   "metadata": {
    "scrolled": true
   },
   "outputs": [],
   "source": [
    "name_eth_gen = {}\n",
    "\n",
    "# focus on Male and Female\n",
    "# 2.38M rows\n",
    "for ix, name in enumerate(set(reg_data.loc[reg_data['gender'].isin(['Female', 'Male'])]['author_name'])):\n",
    "    if name not in name_eth_gen:\n",
    "        payload = parse_author_name(name)\n",
    "        if payload != 'invalid':\n",
    "            if ix%1000 == 0:\n",
    "                time.sleep(5)\n",
    "            response = requests.get(eth_url, params=payload)\n",
    "            try:\n",
    "                j = eval(response.text)\n",
    "                genni = j['Genni']\n",
    "                ethnea = j['Ethnea']\n",
    "                name_eth_gen[name] = {'Ethnea': ethnea, 'Genni': genni}\n",
    "            except:\n",
    "                continue\n",
    "            if ix%1000000 == 0:\n",
    "                print(\"%d/%d\" %(ix, len(author_names)))"
   ]
  },
  {
   "cell_type": "code",
   "execution_count": 18,
   "metadata": {},
   "outputs": [],
   "source": [
    "with open(Data_Root+'name_eth_gen.json', 'w') as ofile:\n",
    "    for name, info in name_eth_gen.items():\n",
    "        row = {'name': name, 'info': info}\n",
    "        ofile.write(json.dumps(row) + '\\n')"
   ]
  },
  {
   "cell_type": "code",
   "execution_count": 78,
   "metadata": {
    "scrolled": true
   },
   "outputs": [],
   "source": [
    "name_eth_gen = {}\n",
    "\n",
    "with open(Data_Root+'name_eth_gen.json', 'r') as ofile:\n",
    "    for row in ofile:\n",
    "        row = json.loads(row)\n",
    "        name, info = row['name'], row['info']\n",
    "        name_eth_gen[name] = info"
   ]
  },
  {
   "cell_type": "code",
   "execution_count": 79,
   "metadata": {
    "scrolled": false
   },
   "outputs": [
    {
     "data": {
      "text/plain": [
       "1309714"
      ]
     },
     "execution_count": 79,
     "metadata": {},
     "output_type": "execute_result"
    }
   ],
   "source": [
    "len(name_eth_gen)"
   ]
  },
  {
   "cell_type": "markdown",
   "metadata": {},
   "source": [
    "Add inferred ethnicity (based on Ethnea)"
   ]
  },
  {
   "cell_type": "code",
   "execution_count": 80,
   "metadata": {},
   "outputs": [],
   "source": [
    "eth_cat_map = {\n",
    " 'ISRAELI': 'MiddleEastern',\n",
    " 'ARAB': 'MiddleEastern',\n",
    " 'TURKISH': 'MiddleEastern',\n",
    " 'ENGLISH': 'English',\n",
    " 'HISPANIC': 'SouthernEuropean',\n",
    " 'ITALIAN': 'SouthernEuropean',    \n",
    " 'GREEK': 'SouthernEuropean',\n",
    " 'GERMAN': 'WesternNorthernEuropean',\n",
    " 'NORDIC': 'WesternNorthernEuropean',\n",
    " 'DUTCH': 'WesternNorthernEuropean',\n",
    " 'FRENCH': 'WesternNorthernEuropean',\n",
    " 'BALTIC': 'WesternNorthernEuropean',\n",
    " 'HUNGARIAN': 'EasternEuropean',\n",
    " 'ROMANIAN': 'EasternEuropean',\n",
    " 'SLAV': 'EasternEuropean',\n",
    " 'CHINESE': 'Chinese',\n",
    " 'INDIAN': 'Indian',\n",
    " 'AFRICAN': 'African',\n",
    " 'KOREAN': 'EastAsian',\n",
    " 'JAPANESE': 'EastAsian',\n",
    " 'THAI': 'EastAsian',\n",
    " 'VIETNAMESE': 'EastAsian',\n",
    " 'INDONESIAN': 'EastAsian',\n",
    " 'MONGOLIAN': 'EastAsian',\n",
    " 'CARIBBEAN': 'CARIBBEAN',\n",
    " 'POLYNESIAN': 'POLYNESIAN',\n",
    " 'org': 'org',\n",
    " 'unknown': 'unknown'}"
   ]
  },
  {
   "cell_type": "code",
   "execution_count": 82,
   "metadata": {},
   "outputs": [],
   "source": [
    "def parse_author_name(name):\n",
    "    words = name.split()\n",
    "    # must has first and last name to query the API\n",
    "    if len(words) <= 1:\n",
    "        payload = 'invalid'\n",
    "    else:\n",
    "        payload = {'Fname': words[0], 'Lname': words[-1]}\n",
    "        # C. Kirabo Jackson\n",
    "        if len(words) >= 3:\n",
    "            # C or C.\n",
    "            if len(words[0]) == 1 or (len(words[0]) == 2 and words[0][1] == '.'):\n",
    "                # not C. J. Jackson; but C. Del Jackson\n",
    "                if len(words[1]) > 2 or (len(words[1]) == 2 and words[1][1] != '.'):\n",
    "                    given = words[1]\n",
    "                    family = words[-1]\n",
    "                    payload = {'Fname': given, 'Lname': family}\n",
    "    return payload\n",
    "\n",
    "name_filter = set(['consortium', 'collaboration', 'collaboration*', 'editor', 'bank'])\n",
    "\n",
    "def get_author_eth_gen(name):\n",
    "    # invalid: single-word-name\n",
    "    feats = ['unknown', 'unknown']\n",
    "    name_tupe = parse_author_name(name)\n",
    "    if type(name_tupe) == dict:\n",
    "        family = name_tupe['Lname']\n",
    "        # The XXX Collaboration would go to API as well since the Lname is Collaboration.\n",
    "        if family.lower() in name_filter:\n",
    "            feats = ['org', 'org']\n",
    "        else:\n",
    "            if name in name_eth_gen:\n",
    "                # ethnicity\n",
    "                major = name_eth_gen[name]['Ethnea'].split('-')[0]\n",
    "                if major != \"ERROR\" and major != 'UNKNOWN' and major != 'TOOSHORT':\n",
    "                    feats[0] = major\n",
    "                # gender\n",
    "                gender = name_eth_gen[name]['Genni']\n",
    "                if gender != '-':\n",
    "                    feats[1] = gender\n",
    "    return feats"
   ]
  },
  {
   "cell_type": "code",
   "execution_count": 83,
   "metadata": {},
   "outputs": [],
   "source": [
    "reg_data['author_eth_gen'] = reg_data['author_name'].apply(lambda name: get_author_eth_gen(name))\n",
    "reg_data[['author_eth_ethnea', 'author_gender_ethnea']] = pd.DataFrame(reg_data['author_eth_gen'].values.tolist(), index = reg_data.index)\n",
    "reg_data = reg_data.drop(columns = ['author_eth_gen'])\n",
    "reg_data['author_eth_ethnea_broad'] = reg_data['author_eth_ethnea'].map(eth_cat_map)\n"
   ]
  },
  {
   "cell_type": "code",
   "execution_count": 84,
   "metadata": {
    "scrolled": true
   },
   "outputs": [
    {
     "data": {
      "text/plain": [
       "3073001"
      ]
     },
     "execution_count": 84,
     "metadata": {},
     "output_type": "execute_result"
    }
   ],
   "source": [
    "len(reg_data)"
   ]
  },
  {
   "cell_type": "code",
   "execution_count": 102,
   "metadata": {},
   "outputs": [
    {
     "data": {
      "text/html": [
       "<div>\n",
       "<style scoped>\n",
       "    .dataframe tbody tr th:only-of-type {\n",
       "        vertical-align: middle;\n",
       "    }\n",
       "\n",
       "    .dataframe tbody tr th {\n",
       "        vertical-align: top;\n",
       "    }\n",
       "\n",
       "    .dataframe thead th {\n",
       "        text-align: right;\n",
       "    }\n",
       "</style>\n",
       "<table border=\"1\" class=\"dataframe\">\n",
       "  <thead>\n",
       "    <tr style=\"text-align: right;\">\n",
       "      <th></th>\n",
       "      <th>doi</th>\n",
       "      <th>author_name</th>\n",
       "      <th>authorship_seq</th>\n",
       "      <th>authorship_pos</th>\n",
       "      <th>author_id</th>\n",
       "      <th>affiliation_ids</th>\n",
       "      <th>self_promotion_original</th>\n",
       "      <th>gender</th>\n",
       "      <th>num_authors</th>\n",
       "      <th>author_rank</th>\n",
       "      <th>...</th>\n",
       "      <th>self_promotion_def</th>\n",
       "      <th>member_of_the_public</th>\n",
       "      <th>researcher</th>\n",
       "      <th>practitioner</th>\n",
       "      <th>science_communicator</th>\n",
       "      <th>author_citation</th>\n",
       "      <th>num_non_scientists</th>\n",
       "      <th>author_eth_ethnea</th>\n",
       "      <th>author_gender_ethnea</th>\n",
       "      <th>author_eth_ethnea_broad</th>\n",
       "    </tr>\n",
       "  </thead>\n",
       "  <tbody>\n",
       "    <tr>\n",
       "      <th>0</th>\n",
       "      <td>10.1109/tmag.2017.2750019</td>\n",
       "      <td>Daniel S. Gazzana</td>\n",
       "      <td>1</td>\n",
       "      <td>first_position</td>\n",
       "      <td>2040190777</td>\n",
       "      <td>130442723</td>\n",
       "      <td>False</td>\n",
       "      <td>Male</td>\n",
       "      <td>6</td>\n",
       "      <td>16859</td>\n",
       "      <td>...</td>\n",
       "      <td>False</td>\n",
       "      <td>0</td>\n",
       "      <td>0</td>\n",
       "      <td>0</td>\n",
       "      <td>0</td>\n",
       "      <td>101</td>\n",
       "      <td>0</td>\n",
       "      <td>FRENCH</td>\n",
       "      <td>M</td>\n",
       "      <td>WesternNorthernEuropean</td>\n",
       "    </tr>\n",
       "    <tr>\n",
       "      <th>1</th>\n",
       "      <td>10.1109/tmag.2017.2750019</td>\n",
       "      <td>Arturo S. Bretas</td>\n",
       "      <td>4</td>\n",
       "      <td>middle_position</td>\n",
       "      <td>2115308334</td>\n",
       "      <td>130442723</td>\n",
       "      <td>False</td>\n",
       "      <td>Male</td>\n",
       "      <td>6</td>\n",
       "      <td>15192</td>\n",
       "      <td>...</td>\n",
       "      <td>False</td>\n",
       "      <td>0</td>\n",
       "      <td>0</td>\n",
       "      <td>0</td>\n",
       "      <td>0</td>\n",
       "      <td>855</td>\n",
       "      <td>0</td>\n",
       "      <td>HISPANIC</td>\n",
       "      <td>M</td>\n",
       "      <td>SouthernEuropean</td>\n",
       "    </tr>\n",
       "    <tr>\n",
       "      <th>2</th>\n",
       "      <td>10.1109/tmag.2017.2750019</td>\n",
       "      <td>Roberto C. Leborgne</td>\n",
       "      <td>3</td>\n",
       "      <td>middle_position</td>\n",
       "      <td>2145772920</td>\n",
       "      <td>130442723</td>\n",
       "      <td>False</td>\n",
       "      <td>Male</td>\n",
       "      <td>6</td>\n",
       "      <td>16228</td>\n",
       "      <td>...</td>\n",
       "      <td>False</td>\n",
       "      <td>0</td>\n",
       "      <td>0</td>\n",
       "      <td>0</td>\n",
       "      <td>0</td>\n",
       "      <td>256</td>\n",
       "      <td>0</td>\n",
       "      <td>ITALIAN</td>\n",
       "      <td>M</td>\n",
       "      <td>SouthernEuropean</td>\n",
       "    </tr>\n",
       "  </tbody>\n",
       "</table>\n",
       "<p>3 rows × 72 columns</p>\n",
       "</div>"
      ],
      "text/plain": [
       "                         doi          author_name  authorship_seq  \\\n",
       "0  10.1109/tmag.2017.2750019    Daniel S. Gazzana               1   \n",
       "1  10.1109/tmag.2017.2750019     Arturo S. Bretas               4   \n",
       "2  10.1109/tmag.2017.2750019  Roberto C. Leborgne               3   \n",
       "\n",
       "    authorship_pos   author_id affiliation_ids  self_promotion_original  \\\n",
       "0   first_position  2040190777       130442723                    False   \n",
       "1  middle_position  2115308334       130442723                    False   \n",
       "2  middle_position  2145772920       130442723                    False   \n",
       "\n",
       "  gender  num_authors  author_rank  ... self_promotion_def  \\\n",
       "0   Male            6        16859  ...              False   \n",
       "1   Male            6        15192  ...              False   \n",
       "2   Male            6        16228  ...              False   \n",
       "\n",
       "  member_of_the_public  researcher practitioner  science_communicator  \\\n",
       "0                    0           0            0                     0   \n",
       "1                    0           0            0                     0   \n",
       "2                    0           0            0                     0   \n",
       "\n",
       "  author_citation  num_non_scientists  author_eth_ethnea  \\\n",
       "0             101                   0             FRENCH   \n",
       "1             855                   0           HISPANIC   \n",
       "2             256                   0            ITALIAN   \n",
       "\n",
       "   author_gender_ethnea  author_eth_ethnea_broad  \n",
       "0                     M  WesternNorthernEuropean  \n",
       "1                     M         SouthernEuropean  \n",
       "2                     M         SouthernEuropean  \n",
       "\n",
       "[3 rows x 72 columns]"
      ]
     },
     "execution_count": 102,
     "metadata": {},
     "output_type": "execute_result"
    }
   ],
   "source": [
    "reg_data.head(3)"
   ]
  },
  {
   "cell_type": "code",
   "execution_count": 103,
   "metadata": {},
   "outputs": [],
   "source": [
    "reg_data.to_csv(Data_Root+\"reg_data_drop_missing.csv\", index=False, header=True, encoding='utf-8')"
   ]
  },
  {
   "cell_type": "code",
   "execution_count": 98,
   "metadata": {},
   "outputs": [],
   "source": [
    "utype = {'author_id': str, 'matched_tid': 'str', 'matched_tid_original': 'str', 'matched_tid_retweet': 'str'}\n",
    "reg_data = pd.read_csv(Data_Root+\"reg_data_drop_missing.csv\", header=0, dtype=utype)"
   ]
  },
  {
   "cell_type": "markdown",
   "metadata": {},
   "source": [
    "Explore"
   ]
  },
  {
   "cell_type": "code",
   "execution_count": 122,
   "metadata": {},
   "outputs": [],
   "source": [
    "def yield_one_line(filename, delimiter = '\\t', quote = csv.QUOTE_NONE):\n",
    "    '''a generator which produce one line of a given file'''\n",
    "    with open(filename, 'r') as file:\n",
    "        print('processing %s...' %(filename))\n",
    "        reader = csv.reader(file, delimiter=delimiter, quoting=quote)\n",
    "        for row in reader:\n",
    "            yield row"
   ]
  },
  {
   "cell_type": "code",
   "execution_count": 123,
   "metadata": {},
   "outputs": [
    {
     "name": "stdout",
     "output_type": "stream",
     "text": [
      "processing /home/haopeng/Data/Promotion/Affiliations.txt...\n"
     ]
    }
   ],
   "source": [
    "affi_name = {}\n",
    "for line in yield_one_line(Data_Root+'Affiliations.txt'):\n",
    "    affi_id, rank, dname, lat, lon = line[0], line[1], line[3], line[9], line[10]\n",
    "    affi_name[affi_id] = dname"
   ]
  },
  {
   "cell_type": "code",
   "execution_count": 115,
   "metadata": {},
   "outputs": [
    {
     "data": {
      "text/html": [
       "<div>\n",
       "<style scoped>\n",
       "    .dataframe tbody tr th:only-of-type {\n",
       "        vertical-align: middle;\n",
       "    }\n",
       "\n",
       "    .dataframe tbody tr th {\n",
       "        vertical-align: top;\n",
       "    }\n",
       "\n",
       "    .dataframe thead th {\n",
       "        text-align: right;\n",
       "    }\n",
       "</style>\n",
       "<table border=\"1\" class=\"dataframe\">\n",
       "  <thead>\n",
       "    <tr style=\"text-align: right;\">\n",
       "      <th></th>\n",
       "      <th>doi</th>\n",
       "      <th>author_name</th>\n",
       "      <th>authorship_seq</th>\n",
       "      <th>authorship_pos</th>\n",
       "      <th>author_id</th>\n",
       "      <th>affiliation_ids</th>\n",
       "      <th>self_promotion_original</th>\n",
       "      <th>gender</th>\n",
       "      <th>num_authors</th>\n",
       "      <th>author_rank</th>\n",
       "      <th>...</th>\n",
       "      <th>self_promotion_def</th>\n",
       "      <th>member_of_the_public</th>\n",
       "      <th>researcher</th>\n",
       "      <th>practitioner</th>\n",
       "      <th>science_communicator</th>\n",
       "      <th>author_citation</th>\n",
       "      <th>num_non_scientists</th>\n",
       "      <th>author_eth_ethnea</th>\n",
       "      <th>author_gender_ethnea</th>\n",
       "      <th>author_eth_ethnea_broad</th>\n",
       "    </tr>\n",
       "  </thead>\n",
       "  <tbody>\n",
       "    <tr>\n",
       "      <th>34</th>\n",
       "      <td>10.1108/jhom-10-2017-0266</td>\n",
       "      <td>Sarah Lehmann</td>\n",
       "      <td>5</td>\n",
       "      <td>middle_position</td>\n",
       "      <td>2794836768</td>\n",
       "      <td>2800115762</td>\n",
       "      <td>False</td>\n",
       "      <td>Female</td>\n",
       "      <td>6</td>\n",
       "      <td>20976</td>\n",
       "      <td>...</td>\n",
       "      <td>False</td>\n",
       "      <td>12</td>\n",
       "      <td>3</td>\n",
       "      <td>4</td>\n",
       "      <td>0</td>\n",
       "      <td>0</td>\n",
       "      <td>16</td>\n",
       "      <td>GERMAN</td>\n",
       "      <td>F</td>\n",
       "      <td>WesternNorthernEuropean</td>\n",
       "    </tr>\n",
       "    <tr>\n",
       "      <th>37</th>\n",
       "      <td>10.1194/jlr.m082495</td>\n",
       "      <td>Dana K. Merriman</td>\n",
       "      <td>2</td>\n",
       "      <td>middle_position</td>\n",
       "      <td>2036828638</td>\n",
       "      <td>64185308</td>\n",
       "      <td>False</td>\n",
       "      <td>Female</td>\n",
       "      <td>11</td>\n",
       "      <td>17651</td>\n",
       "      <td>...</td>\n",
       "      <td>False</td>\n",
       "      <td>6</td>\n",
       "      <td>2</td>\n",
       "      <td>0</td>\n",
       "      <td>1</td>\n",
       "      <td>123</td>\n",
       "      <td>7</td>\n",
       "      <td>ENGLISH</td>\n",
       "      <td>unknown</td>\n",
       "      <td>English</td>\n",
       "    </tr>\n",
       "    <tr>\n",
       "      <th>53</th>\n",
       "      <td>10.1016/j.chb.2018.05.010</td>\n",
       "      <td>Paul van Schaik</td>\n",
       "      <td>2</td>\n",
       "      <td>last_position</td>\n",
       "      <td>2141674712</td>\n",
       "      <td>874055015</td>\n",
       "      <td>False</td>\n",
       "      <td>Male</td>\n",
       "      <td>2</td>\n",
       "      <td>15208</td>\n",
       "      <td>...</td>\n",
       "      <td>False</td>\n",
       "      <td>1</td>\n",
       "      <td>0</td>\n",
       "      <td>0</td>\n",
       "      <td>1</td>\n",
       "      <td>1875</td>\n",
       "      <td>2</td>\n",
       "      <td>DUTCH</td>\n",
       "      <td>M</td>\n",
       "      <td>WesternNorthernEuropean</td>\n",
       "    </tr>\n",
       "    <tr>\n",
       "      <th>76</th>\n",
       "      <td>10.1016/j.mattod.2017.11.005</td>\n",
       "      <td>Xianlong Cao</td>\n",
       "      <td>4</td>\n",
       "      <td>middle_position</td>\n",
       "      <td>2772128816</td>\n",
       "      <td>168337820</td>\n",
       "      <td>False</td>\n",
       "      <td>Unknown</td>\n",
       "      <td>11</td>\n",
       "      <td>19933</td>\n",
       "      <td>...</td>\n",
       "      <td>False</td>\n",
       "      <td>0</td>\n",
       "      <td>0</td>\n",
       "      <td>0</td>\n",
       "      <td>0</td>\n",
       "      <td>0</td>\n",
       "      <td>0</td>\n",
       "      <td>unknown</td>\n",
       "      <td>unknown</td>\n",
       "      <td>unknown</td>\n",
       "    </tr>\n",
       "    <tr>\n",
       "      <th>84</th>\n",
       "      <td>10.1016/j.rinp.2018.08.039</td>\n",
       "      <td>G. Ramos-Ortiz</td>\n",
       "      <td>2</td>\n",
       "      <td>middle_position</td>\n",
       "      <td>669765303</td>\n",
       "      <td>2799391333</td>\n",
       "      <td>False</td>\n",
       "      <td>Male</td>\n",
       "      <td>6</td>\n",
       "      <td>15628</td>\n",
       "      <td>...</td>\n",
       "      <td>False</td>\n",
       "      <td>1</td>\n",
       "      <td>0</td>\n",
       "      <td>0</td>\n",
       "      <td>0</td>\n",
       "      <td>1035</td>\n",
       "      <td>1</td>\n",
       "      <td>HISPANIC</td>\n",
       "      <td>unknown</td>\n",
       "      <td>SouthernEuropean</td>\n",
       "    </tr>\n",
       "    <tr>\n",
       "      <th>...</th>\n",
       "      <td>...</td>\n",
       "      <td>...</td>\n",
       "      <td>...</td>\n",
       "      <td>...</td>\n",
       "      <td>...</td>\n",
       "      <td>...</td>\n",
       "      <td>...</td>\n",
       "      <td>...</td>\n",
       "      <td>...</td>\n",
       "      <td>...</td>\n",
       "      <td>...</td>\n",
       "      <td>...</td>\n",
       "      <td>...</td>\n",
       "      <td>...</td>\n",
       "      <td>...</td>\n",
       "      <td>...</td>\n",
       "      <td>...</td>\n",
       "      <td>...</td>\n",
       "      <td>...</td>\n",
       "      <td>...</td>\n",
       "      <td>...</td>\n",
       "    </tr>\n",
       "    <tr>\n",
       "      <th>3072956</th>\n",
       "      <td>10.1016/j.neuroimage.2017.05.050</td>\n",
       "      <td>Robyn Miller</td>\n",
       "      <td>5</td>\n",
       "      <td>middle_position</td>\n",
       "      <td>2945190397</td>\n",
       "      <td>1334567473</td>\n",
       "      <td>False</td>\n",
       "      <td>Female</td>\n",
       "      <td>7</td>\n",
       "      <td>17676</td>\n",
       "      <td>...</td>\n",
       "      <td>False</td>\n",
       "      <td>23</td>\n",
       "      <td>11</td>\n",
       "      <td>1</td>\n",
       "      <td>0</td>\n",
       "      <td>252</td>\n",
       "      <td>24</td>\n",
       "      <td>ENGLISH</td>\n",
       "      <td>F</td>\n",
       "      <td>English</td>\n",
       "    </tr>\n",
       "    <tr>\n",
       "      <th>3072961</th>\n",
       "      <td>10.1039/c8md00114f</td>\n",
       "      <td>Karsten Juhl</td>\n",
       "      <td>6</td>\n",
       "      <td>last_position</td>\n",
       "      <td>1776708227</td>\n",
       "      <td>133593841</td>\n",
       "      <td>False</td>\n",
       "      <td>Male</td>\n",
       "      <td>6</td>\n",
       "      <td>16473</td>\n",
       "      <td>...</td>\n",
       "      <td>False</td>\n",
       "      <td>3</td>\n",
       "      <td>3</td>\n",
       "      <td>0</td>\n",
       "      <td>0</td>\n",
       "      <td>134</td>\n",
       "      <td>3</td>\n",
       "      <td>NORDIC</td>\n",
       "      <td>M</td>\n",
       "      <td>WesternNorthernEuropean</td>\n",
       "    </tr>\n",
       "    <tr>\n",
       "      <th>3072962</th>\n",
       "      <td>10.1039/c8md00114f</td>\n",
       "      <td>Erling B. Jorgensen</td>\n",
       "      <td>4</td>\n",
       "      <td>middle_position</td>\n",
       "      <td>2105238312</td>\n",
       "      <td>133593841</td>\n",
       "      <td>False</td>\n",
       "      <td>Male</td>\n",
       "      <td>6</td>\n",
       "      <td>18089</td>\n",
       "      <td>...</td>\n",
       "      <td>False</td>\n",
       "      <td>3</td>\n",
       "      <td>3</td>\n",
       "      <td>0</td>\n",
       "      <td>0</td>\n",
       "      <td>100</td>\n",
       "      <td>3</td>\n",
       "      <td>NORDIC</td>\n",
       "      <td>M</td>\n",
       "      <td>WesternNorthernEuropean</td>\n",
       "    </tr>\n",
       "    <tr>\n",
       "      <th>3072964</th>\n",
       "      <td>10.1039/c8md00114f</td>\n",
       "      <td>Claus T. Christoffersen</td>\n",
       "      <td>5</td>\n",
       "      <td>middle_position</td>\n",
       "      <td>2166360461</td>\n",
       "      <td>133593841</td>\n",
       "      <td>False</td>\n",
       "      <td>Male</td>\n",
       "      <td>6</td>\n",
       "      <td>17018</td>\n",
       "      <td>...</td>\n",
       "      <td>False</td>\n",
       "      <td>3</td>\n",
       "      <td>3</td>\n",
       "      <td>0</td>\n",
       "      <td>0</td>\n",
       "      <td>250</td>\n",
       "      <td>3</td>\n",
       "      <td>NORDIC</td>\n",
       "      <td>M</td>\n",
       "      <td>WesternNorthernEuropean</td>\n",
       "    </tr>\n",
       "    <tr>\n",
       "      <th>3072966</th>\n",
       "      <td>10.1039/c8md00114f</td>\n",
       "      <td>Mauro Marigo</td>\n",
       "      <td>2</td>\n",
       "      <td>middle_position</td>\n",
       "      <td>2949695789</td>\n",
       "      <td>133593841</td>\n",
       "      <td>False</td>\n",
       "      <td>Male</td>\n",
       "      <td>6</td>\n",
       "      <td>17411</td>\n",
       "      <td>...</td>\n",
       "      <td>False</td>\n",
       "      <td>3</td>\n",
       "      <td>3</td>\n",
       "      <td>0</td>\n",
       "      <td>0</td>\n",
       "      <td>61</td>\n",
       "      <td>3</td>\n",
       "      <td>ITALIAN</td>\n",
       "      <td>M</td>\n",
       "      <td>SouthernEuropean</td>\n",
       "    </tr>\n",
       "  </tbody>\n",
       "</table>\n",
       "<p>289947 rows × 72 columns</p>\n",
       "</div>"
      ],
      "text/plain": [
       "                                      doi              author_name  \\\n",
       "34              10.1108/jhom-10-2017-0266            Sarah Lehmann   \n",
       "37                    10.1194/jlr.m082495         Dana K. Merriman   \n",
       "53              10.1016/j.chb.2018.05.010          Paul van Schaik   \n",
       "76           10.1016/j.mattod.2017.11.005             Xianlong Cao   \n",
       "84             10.1016/j.rinp.2018.08.039           G. Ramos-Ortiz   \n",
       "...                                   ...                      ...   \n",
       "3072956  10.1016/j.neuroimage.2017.05.050             Robyn Miller   \n",
       "3072961                10.1039/c8md00114f             Karsten Juhl   \n",
       "3072962                10.1039/c8md00114f      Erling B. Jorgensen   \n",
       "3072964                10.1039/c8md00114f  Claus T. Christoffersen   \n",
       "3072966                10.1039/c8md00114f             Mauro Marigo   \n",
       "\n",
       "         authorship_seq   authorship_pos   author_id affiliation_ids  \\\n",
       "34                    5  middle_position  2794836768      2800115762   \n",
       "37                    2  middle_position  2036828638        64185308   \n",
       "53                    2    last_position  2141674712       874055015   \n",
       "76                    4  middle_position  2772128816       168337820   \n",
       "84                    2  middle_position   669765303      2799391333   \n",
       "...                 ...              ...         ...             ...   \n",
       "3072956               5  middle_position  2945190397      1334567473   \n",
       "3072961               6    last_position  1776708227       133593841   \n",
       "3072962               4  middle_position  2105238312       133593841   \n",
       "3072964               5  middle_position  2166360461       133593841   \n",
       "3072966               2  middle_position  2949695789       133593841   \n",
       "\n",
       "         self_promotion_original   gender  num_authors  author_rank  ...  \\\n",
       "34                         False   Female            6        20976  ...   \n",
       "37                         False   Female           11        17651  ...   \n",
       "53                         False     Male            2        15208  ...   \n",
       "76                         False  Unknown           11        19933  ...   \n",
       "84                         False     Male            6        15628  ...   \n",
       "...                          ...      ...          ...          ...  ...   \n",
       "3072956                    False   Female            7        17676  ...   \n",
       "3072961                    False     Male            6        16473  ...   \n",
       "3072962                    False     Male            6        18089  ...   \n",
       "3072964                    False     Male            6        17018  ...   \n",
       "3072966                    False     Male            6        17411  ...   \n",
       "\n",
       "        self_promotion_def member_of_the_public  researcher practitioner  \\\n",
       "34                   False                   12           3            4   \n",
       "37                   False                    6           2            0   \n",
       "53                   False                    1           0            0   \n",
       "76                   False                    0           0            0   \n",
       "84                   False                    1           0            0   \n",
       "...                    ...                  ...         ...          ...   \n",
       "3072956              False                   23          11            1   \n",
       "3072961              False                    3           3            0   \n",
       "3072962              False                    3           3            0   \n",
       "3072964              False                    3           3            0   \n",
       "3072966              False                    3           3            0   \n",
       "\n",
       "         science_communicator author_citation  num_non_scientists  \\\n",
       "34                          0               0                  16   \n",
       "37                          1             123                   7   \n",
       "53                          1            1875                   2   \n",
       "76                          0               0                   0   \n",
       "84                          0            1035                   1   \n",
       "...                       ...             ...                 ...   \n",
       "3072956                     0             252                  24   \n",
       "3072961                     0             134                   3   \n",
       "3072962                     0             100                   3   \n",
       "3072964                     0             250                   3   \n",
       "3072966                     0              61                   3   \n",
       "\n",
       "         author_eth_ethnea  author_gender_ethnea  author_eth_ethnea_broad  \n",
       "34                  GERMAN                     F  WesternNorthernEuropean  \n",
       "37                 ENGLISH               unknown                  English  \n",
       "53                   DUTCH                     M  WesternNorthernEuropean  \n",
       "76                 unknown               unknown                  unknown  \n",
       "84                HISPANIC               unknown         SouthernEuropean  \n",
       "...                    ...                   ...                      ...  \n",
       "3072956            ENGLISH                     F                  English  \n",
       "3072961             NORDIC                     M  WesternNorthernEuropean  \n",
       "3072962             NORDIC                     M  WesternNorthernEuropean  \n",
       "3072964             NORDIC                     M  WesternNorthernEuropean  \n",
       "3072966            ITALIAN                     M         SouthernEuropean  \n",
       "\n",
       "[289947 rows x 72 columns]"
      ]
     },
     "execution_count": 115,
     "metadata": {},
     "output_type": "execute_result"
    }
   ],
   "source": [
    "reg_data.loc[reg_data.affiliation_rank_cate == 9]#['affiliation_ids']"
   ]
  },
  {
   "cell_type": "code",
   "execution_count": 128,
   "metadata": {
    "scrolled": true
   },
   "outputs": [
    {
     "name": "stdout",
     "output_type": "stream",
     "text": [
      "Minnesota Department of Natural Resources\n",
      "The Seoul Institute\n",
      "Jumonji University\n",
      "Western Connecticut State University\n",
      "David Grant USAF Medical Center\n",
      "Rivers State University of Science and Technology\n",
      "White & Case\n",
      "Eurotransplant\n",
      "Middle East Institute\n",
      "South Shields\n",
      "Edward Hines, Jr. VA Hospital\n",
      "HIV/AIDS Bureau\n",
      "International Seabed Authority\n",
      "University of Mary Hardin–Baylor\n",
      "Sabah Wildlife Department\n",
      "P.G. College\n",
      "Unimontes\n",
      "Yukon Kuskokwim Health Corporation\n",
      "Duke Energy\n",
      "Central Rice Research Institute\n",
      "Romanian Space Agency\n",
      "University System of Georgia\n",
      "Wittenberg University\n",
      "Universiti Brunei Darussalam\n",
      "Catholic University of Pusan\n",
      "St Woolos Hospital\n",
      "WellStar Health System\n",
      "Carestream Health\n",
      "Karpagam University\n",
      "Defence Research and Development Organisation\n",
      "University of the Thai Chamber of Commerce\n",
      "South Korean Ministry for Health, Welfare and Family Affairs\n",
      "Sonora Institute of Technology\n",
      "AOAC International\n",
      "University of Talca\n",
      "University of the Arts Helsinki\n",
      "Lynchburg College\n",
      "Federal Institute for Occupational Safety and Health\n",
      "Turkish Airlines\n",
      "Zhangzhou Normal University\n",
      "Koszalin University of Technology\n",
      "London Clinic\n",
      "Ovidius University\n",
      "Gandhi Medical College\n",
      "Dudley Group NHS Foundation Trust\n",
      "Home Office\n",
      "Stella Maris College\n",
      "Surrey Satellite Technology\n",
      "Cone Health\n",
      "Technical University of Varna\n",
      "Wake Forest Institute for Regenerative Medicine\n",
      "Rollins College\n",
      "Odense Municipality\n",
      "Federal Neuro Psychiatric Hospital\n",
      "National Institute of Metrology Standardization and Industrial Quality\n",
      "T.M.C. Asser Instituut\n",
      "National Museum of Ireland\n",
      "Nassau Community College\n",
      "Virbac\n",
      "Marriott International\n",
      "Intercultural Center for the Study of Deserts and Oceans\n",
      "Swami Rama Himalayan University\n",
      "Royal Tropical Institute\n",
      "Tenri University\n",
      "Ocean Conservancy\n",
      "Polytechnic Institute of Cávado and Ave\n",
      "St. Cloud State University\n",
      "China Executive Leadership Academy Pudong\n",
      "Micro Electronics, Inc.\n",
      "Periyar University\n",
      "Agricultural University of Kraków\n",
      "The Linde Group\n",
      "Clatterbridge Cancer Centre NHS Foundation Trust\n",
      "MiraCosta College\n",
      "AL Buraimi University College\n",
      "Naval Academy Research Institute\n",
      "University of La Frontera\n",
      "Presbyterian University College\n",
      "International Practical Shooting Confederation\n",
      "Atomic Energy Council\n",
      "New England College of Optometry\n",
      "Gibraltar Museum\n",
      "Siberian Federal University\n",
      "National Brain Research Centre\n",
      "Future of Privacy Forum\n",
      "National Council of Resistance of Iran\n"
     ]
    }
   ],
   "source": [
    "for affi_id in random.sample(set(reg_data.loc[reg_data.affiliation_rank_cate == 9]['affiliation_ids']), 100):\n",
    "    if '|' not in affi_id:\n",
    "        print(affi_name[affi_id])"
   ]
  },
  {
   "cell_type": "code",
   "execution_count": null,
   "metadata": {},
   "outputs": [],
   "source": []
  },
  {
   "cell_type": "code",
   "execution_count": null,
   "metadata": {},
   "outputs": [],
   "source": []
  },
  {
   "cell_type": "code",
   "execution_count": null,
   "metadata": {},
   "outputs": [],
   "source": []
  },
  {
   "cell_type": "markdown",
   "metadata": {},
   "source": [
    "### (outdated) Author-level analysis (the same setup as in Agnes's PNAS paper)"
   ]
  },
  {
   "cell_type": "code",
   "execution_count": 133,
   "metadata": {},
   "outputs": [
    {
     "data": {
      "text/plain": [
       "3073001"
      ]
     },
     "execution_count": 133,
     "metadata": {},
     "output_type": "execute_result"
    }
   ],
   "source": [
    "len(reg_data)"
   ]
  },
  {
   "cell_type": "code",
   "execution_count": 142,
   "metadata": {},
   "outputs": [],
   "source": [
    "tem = []\n",
    "for aid, gp in reg_data.groupby('author_id'):\n",
    "    gender = gp['gender'].values[0]\n",
    "    author_rank = gp['author_rank'].values[0]\n",
    "    pub_cn_cate = gp['author_pub_count_cate'].values[0]\n",
    "    fcn = gp['matched_tid_follower_cn'].values[0]\n",
    "    jif_sum = sum(gp['journal_impact'])\n",
    "    tcn = sum(gp['total_num_tweets'])\n",
    "    tem.append([aid, gender, author_rank, pub_cn_cate, fcn, jif_sum, tcn])"
   ]
  },
  {
   "cell_type": "code",
   "execution_count": 143,
   "metadata": {},
   "outputs": [],
   "source": [
    "tem = pd.DataFrame(tem, columns=['author_id', 'gender', 'author_rank', 'author_pub_count_cate', 'matched_tid_follower_cn', 'journal_impact', 'total_num_tweets'])\n"
   ]
  },
  {
   "cell_type": "code",
   "execution_count": 144,
   "metadata": {},
   "outputs": [],
   "source": [
    "tem.to_csv(Data_Root+\"reg_data_per_author_tem.csv\", index=False, header=True, encoding='utf-8')"
   ]
  },
  {
   "cell_type": "code",
   "execution_count": 145,
   "metadata": {},
   "outputs": [
    {
     "data": {
      "text/plain": [
       "1762018"
      ]
     },
     "execution_count": 145,
     "metadata": {},
     "output_type": "execute_result"
    }
   ],
   "source": [
    "len(tem)"
   ]
  },
  {
   "cell_type": "code",
   "execution_count": 146,
   "metadata": {},
   "outputs": [],
   "source": [
    "del tem"
   ]
  },
  {
   "cell_type": "code",
   "execution_count": null,
   "metadata": {},
   "outputs": [],
   "source": []
  }
 ],
 "metadata": {
  "kernelspec": {
   "display_name": "Python 3 (ipykernel)",
   "language": "python",
   "name": "python3"
  },
  "language_info": {
   "codemirror_mode": {
    "name": "ipython",
    "version": 3
   },
   "file_extension": ".py",
   "mimetype": "text/x-python",
   "name": "python",
   "nbconvert_exporter": "python",
   "pygments_lexer": "ipython3",
   "version": "3.7.10"
  }
 },
 "nbformat": 4,
 "nbformat_minor": 4
}
