{
 "cells": [
  {
   "cell_type": "code",
   "execution_count": 1,
   "id": "d9e3275e",
   "metadata": {},
   "outputs": [],
   "source": [
    "data_root <- \"~/Data/Promotion/reg_results_F_M/\""
   ]
  },
  {
   "cell_type": "code",
   "execution_count": 2,
   "id": "85ed870b",
   "metadata": {},
   "outputs": [],
   "source": [
    "# install.packages(\"lme4\")\n",
    "# install.packages(\"margins\")\n",
    "# install.packages(\"stargazer\")\n",
    "# install.packages(\"emmeans\")\n",
    "# install.packages(\"ggeffects\")\n",
    "# install.packages(\"broom\")\n",
    "# install.packages(\"sjmisc\")\n",
    "# install.packages(\"broom.mixed\")"
   ]
  },
  {
   "cell_type": "code",
   "execution_count": 3,
   "id": "20faa31c",
   "metadata": {},
   "outputs": [
    {
     "name": "stderr",
     "output_type": "stream",
     "text": [
      "Loading required package: Matrix\n",
      "\n",
      "Please cite as: \n",
      "\n",
      " Hlavac, Marek (2018). stargazer: Well-Formatted Regression and Summary Statistics Tables.\n",
      " R package version 5.2.2. https://CRAN.R-project.org/package=stargazer \n",
      "\n"
     ]
    }
   ],
   "source": [
    "library(\"lme4\")\n",
    "library(\"margins\")\n",
    "library(\"stargazer\")\n",
    "library(\"emmeans\")\n",
    "library(\"ggeffects\")\n",
    "library(\"broom\")\n",
    "library(\"broom.mixed\")"
   ]
  },
  {
   "cell_type": "code",
   "execution_count": 4,
   "id": "2d20e9e3",
   "metadata": {},
   "outputs": [
    {
     "data": {
      "text/plain": [
       "[1] ‘1.1.1’"
      ]
     },
     "metadata": {},
     "output_type": "display_data"
    }
   ],
   "source": [
    "# https://www.rdocumentation.org/packages/ggeffects/versions/1.1.1\n",
    "# https://www.rdocumentation.org/packages/ggeffects/versions/1.1.1/topics/ggeffect\n",
    "packageVersion(\"ggeffects\")"
   ]
  },
  {
   "cell_type": "code",
   "execution_count": 7,
   "id": "e3e60154",
   "metadata": {},
   "outputs": [],
   "source": [
    "# library(\"sjmisc\")\n",
    "# ?sjmisc::typical_value"
   ]
  },
  {
   "cell_type": "code",
   "execution_count": 5,
   "id": "2145d0a3",
   "metadata": {},
   "outputs": [],
   "source": [
    "options(repr.matrix.max.rows=500, repr.matrix.max.cols=200)"
   ]
  },
  {
   "cell_type": "code",
   "execution_count": 6,
   "id": "b0c845a6",
   "metadata": {},
   "outputs": [],
   "source": [
    "mydata <- read.csv(paste(\"~/Data/Promotion/reg_data_drop_missing.csv\", sep = ''), header = TRUE)"
   ]
  },
  {
   "cell_type": "code",
   "execution_count": 7,
   "id": "6db62bb4",
   "metadata": {
    "scrolled": true
   },
   "outputs": [
    {
     "data": {
      "text/html": [
       "3073001"
      ],
      "text/latex": [
       "3073001"
      ],
      "text/markdown": [
       "3073001"
      ],
      "text/plain": [
       "[1] 3073001"
      ]
     },
     "metadata": {},
     "output_type": "display_data"
    }
   ],
   "source": [
    "# this is after dropping missing data\n",
    "# before dropping obs with missing values: 6363409\n",
    "nrow(mydata)"
   ]
  },
  {
   "cell_type": "code",
   "execution_count": 8,
   "id": "32c6826c",
   "metadata": {
    "scrolled": true
   },
   "outputs": [
    {
     "data": {
      "text/html": [
       "72"
      ],
      "text/latex": [
       "72"
      ],
      "text/markdown": [
       "72"
      ],
      "text/plain": [
       "[1] 72"
      ]
     },
     "metadata": {},
     "output_type": "display_data"
    }
   ],
   "source": [
    "ncol(mydata)"
   ]
  },
  {
   "cell_type": "code",
   "execution_count": 9,
   "id": "7e269249",
   "metadata": {},
   "outputs": [],
   "source": [
    "mydata = mydata[mydata$gender %in% c(\"Male\", \"Female\"), ]"
   ]
  },
  {
   "cell_type": "code",
   "execution_count": 10,
   "id": "26190c2c",
   "metadata": {},
   "outputs": [
    {
     "data": {
      "text/html": [
       "2380098"
      ],
      "text/latex": [
       "2380098"
      ],
      "text/markdown": [
       "2380098"
      ],
      "text/plain": [
       "[1] 2380098"
      ]
     },
     "metadata": {},
     "output_type": "display_data"
    }
   ],
   "source": [
    "nrow(mydata)"
   ]
  },
  {
   "cell_type": "code",
   "execution_count": 11,
   "id": "30e42c81",
   "metadata": {},
   "outputs": [],
   "source": [
    "mydata = mydata[mydata$affiliation_cate != 'unknown', ]"
   ]
  },
  {
   "cell_type": "code",
   "execution_count": 12,
   "id": "12f96427",
   "metadata": {
    "scrolled": false
   },
   "outputs": [
    {
     "data": {
      "text/html": [
       "2375419"
      ],
      "text/latex": [
       "2375419"
      ],
      "text/markdown": [
       "2375419"
      ],
      "text/plain": [
       "[1] 2375419"
      ]
     },
     "metadata": {},
     "output_type": "display_data"
    }
   ],
   "source": [
    "nrow(mydata)"
   ]
  },
  {
   "cell_type": "code",
   "execution_count": 13,
   "id": "ea404342",
   "metadata": {},
   "outputs": [],
   "source": [
    "mydata <- within(mydata, gender <- relevel(gender, ref = 'Male'))\n",
    "mydata <- within(mydata, authorship_pos <- relevel(authorship_pos, ref = 'last_position'))\n",
    "mydata <- within(mydata, affiliation_cate <- relevel(affiliation_cate, ref = 'domestic'))"
   ]
  },
  {
   "cell_type": "code",
   "execution_count": 14,
   "id": "22406164",
   "metadata": {},
   "outputs": [],
   "source": [
    "keywords <- \" + Social_Sciences + Materials_Science + Engineering + Chemistry + \\\n",
    "        Biochemistry__Genetics_and_Molecular_Biology + Medicine + Nursing + Agricultural_and_Biological_Sciences + \\\n",
    "        Pharmacology__Toxicology_and_Pharmaceutics + Neuroscience + Business__Management_and_Accounting + \\\n",
    "        Economics__Econometrics_and_Finance + Chemical_Engineering + Physics_and_Astronomy + Computer_Science + \\\n",
    "        Decision_Sciences + Health_Professions + Psychology + Immunology_and_Microbiology + Dentistry + \\\n",
    "        Earth_and_Planetary_Sciences + Environmental_Science + Mathematics + Arts_and_Humanities + Energy + \\\n",
    "        Veterinary + General\""
   ]
  },
  {
   "cell_type": "code",
   "execution_count": 15,
   "id": "d976ef4f",
   "metadata": {},
   "outputs": [],
   "source": [
    "mydata$author_citation_log <- log2(1 + mydata$author_citation)"
   ]
  },
  {
   "cell_type": "markdown",
   "id": "86d17fd3",
   "metadata": {},
   "source": [
    "### Original tweets"
   ]
  },
  {
   "cell_type": "code",
   "execution_count": 17,
   "id": "6dd6f698",
   "metadata": {},
   "outputs": [],
   "source": [
    "base_str <- \"self_promotion_original ~ 1 + gender + authorship_pos + author_pub_count_cate + I(author_pub_count_cate^2) + \\\n",
    "            affiliation_rank_cate + affiliation_cate + num_authors + journal_impact + author_citation_log\"\n",
    "equation <- as.formula(paste(base_str, \" + (1|doi)\", keywords, sep = \" \"))\n",
    "m_org <- glmer(formula = equation, data = mydata, family = \"binomial\", control = glmerControl(optimizer = \"nloptwrap\"), nAGQ = 0)\n"
   ]
  },
  {
   "cell_type": "code",
   "execution_count": 18,
   "id": "a004b252",
   "metadata": {},
   "outputs": [],
   "source": [
    "# summary(m_org)"
   ]
  },
  {
   "cell_type": "code",
   "execution_count": 18,
   "id": "60cbe1ff",
   "metadata": {
    "scrolled": true
   },
   "outputs": [
    {
     "data": {
      "text/html": [
       "<table>\n",
       "<thead><tr><th scope=col>effect</th><th scope=col>group</th><th scope=col>term</th><th scope=col>estimate</th><th scope=col>std.error</th><th scope=col>statistic</th><th scope=col>p.value</th></tr></thead>\n",
       "<tbody>\n",
       "\t<tr><td>fixed                                       </td><td>NA                                          </td><td>(Intercept)                                 </td><td>-2.879199754                                </td><td>1.436067e-02                                </td><td>-200.492028                                 </td><td> 0.000000e+00                               </td></tr>\n",
       "\t<tr><td>fixed                                       </td><td>NA                                          </td><td>genderFemale                                </td><td>-0.278467340                                </td><td>7.164600e-03                                </td><td> -38.867118                                 </td><td> 0.000000e+00                               </td></tr>\n",
       "\t<tr><td>fixed                                       </td><td>NA                                          </td><td>authorship_posfirst_position                </td><td> 0.356724229                                </td><td>9.279095e-03                                </td><td>  38.443859                                 </td><td> 0.000000e+00                               </td></tr>\n",
       "\t<tr><td>fixed                                       </td><td>NA                                          </td><td>authorship_posmiddle_position               </td><td>-0.879134042                                </td><td>8.393956e-03                                </td><td>-104.734175                                 </td><td> 0.000000e+00                               </td></tr>\n",
       "\t<tr><td>fixed                                       </td><td>NA                                          </td><td>authorship_possolo_author                   </td><td> 0.789776601                                </td><td>1.870395e-02                                </td><td>  42.225126                                 </td><td> 0.000000e+00                               </td></tr>\n",
       "\t<tr><td>fixed                                       </td><td>NA                                          </td><td>author_pub_count_cate                       </td><td> 0.280368278                                </td><td>4.581549e-03                                </td><td>  61.195084                                 </td><td> 0.000000e+00                               </td></tr>\n",
       "\t<tr><td>fixed                                       </td><td>NA                                          </td><td>I(author_pub_count_cate^2)                  </td><td>-0.030458369                                </td><td>5.681461e-04                                </td><td> -53.610099                                 </td><td> 0.000000e+00                               </td></tr>\n",
       "\t<tr><td>fixed                                       </td><td>NA                                          </td><td>affiliation_rank_cate                       </td><td>-0.053139440                                </td><td>1.281000e-03                                </td><td> -41.482771                                 </td><td> 0.000000e+00                               </td></tr>\n",
       "\t<tr><td>fixed                                       </td><td>NA                                          </td><td>affiliation_cateinternational               </td><td> 0.061704091                                </td><td>7.745272e-03                                </td><td>   7.966678                                 </td><td> 1.629962e-15                               </td></tr>\n",
       "\t<tr><td>fixed                                       </td><td>NA                                          </td><td>num_authors                                 </td><td>-0.001512682                                </td><td>7.530442e-05                                </td><td> -20.087563                                 </td><td> 9.480228e-90                               </td></tr>\n",
       "\t<tr><td>fixed                                       </td><td>NA                                          </td><td>journal_impact                              </td><td> 0.026899394                                </td><td>4.848758e-04                                </td><td>  55.476881                                 </td><td> 0.000000e+00                               </td></tr>\n",
       "\t<tr><td>fixed                                       </td><td>NA                                          </td><td>Social_Sciences                             </td><td> 0.886049085                                </td><td>1.558362e-02                                </td><td>  56.857704                                 </td><td> 0.000000e+00                               </td></tr>\n",
       "\t<tr><td>fixed                                       </td><td>NA                                          </td><td>Materials_Science                           </td><td>-0.102709770                                </td><td>2.406086e-02                                </td><td>  -4.268749                                 </td><td> 1.965725e-05                               </td></tr>\n",
       "\t<tr><td>fixed                                       </td><td>NA                                          </td><td>Engineering                                 </td><td>-0.306537011                                </td><td>2.140839e-02                                </td><td> -14.318549                                 </td><td> 1.675862e-46                               </td></tr>\n",
       "\t<tr><td>fixed                                       </td><td>NA                                          </td><td>Chemistry                                   </td><td>-0.303982307                                </td><td>1.799062e-02                                </td><td> -16.896707                                 </td><td> 4.757412e-64                               </td></tr>\n",
       "\t<tr><td>fixed                                       </td><td>NA                                          </td><td>Biochemistry__Genetics_and_Molecular_Biology</td><td>-0.142092587                                </td><td>1.061299e-02                                </td><td> -13.388549                                 </td><td> 7.054573e-41                               </td></tr>\n",
       "\t<tr><td>fixed                                       </td><td>NA                                          </td><td>Medicine                                    </td><td>-0.343476657                                </td><td>8.700612e-03                                </td><td> -39.477299                                 </td><td> 0.000000e+00                               </td></tr>\n",
       "\t<tr><td>fixed                                       </td><td>NA                                          </td><td>Nursing                                     </td><td> 0.206036820                                </td><td>2.581513e-02                                </td><td>   7.981243                                 </td><td> 1.448667e-15                               </td></tr>\n",
       "\t<tr><td>fixed                                       </td><td>NA                                          </td><td>Agricultural_and_Biological_Sciences        </td><td> 0.408712459                                </td><td>1.248092e-02                                </td><td>  32.746978                                 </td><td>3.352444e-235                               </td></tr>\n",
       "\t<tr><td>fixed                                       </td><td>NA                                          </td><td>Pharmacology__Toxicology_and_Pharmaceutics  </td><td>-0.459882626                                </td><td>2.503809e-02                                </td><td> -18.367320                                 </td><td> 2.399727e-75                               </td></tr>\n",
       "\t<tr><td>fixed                                       </td><td>NA                                          </td><td>Neuroscience                                </td><td> 0.047025626                                </td><td>1.753219e-02                                </td><td>   2.682245                                 </td><td> 7.312986e-03                               </td></tr>\n",
       "\t<tr><td>fixed                                       </td><td>NA                                          </td><td>Business__Management_and_Accounting         </td><td>-0.209521538                                </td><td>2.948113e-02                                </td><td>  -7.106971                                 </td><td> 1.186177e-12                               </td></tr>\n",
       "\t<tr><td>fixed                                       </td><td>NA                                          </td><td>Economics__Econometrics_and_Finance         </td><td>-0.406455818                                </td><td>3.187138e-02                                </td><td> -12.753002                                 </td><td> 2.999692e-37                               </td></tr>\n",
       "\t<tr><td>fixed                                       </td><td>NA                                          </td><td>Chemical_Engineering                        </td><td> 0.193372174                                </td><td>2.704608e-02                                </td><td>   7.149731                                 </td><td> 8.694841e-13                               </td></tr>\n",
       "\t<tr><td>fixed                                       </td><td>NA                                          </td><td>Physics_and_Astronomy                       </td><td>-0.660897759                                </td><td>2.199353e-02                                </td><td> -30.049638                                 </td><td>2.207222e-198                               </td></tr>\n",
       "\t<tr><td>fixed                                       </td><td>NA                                          </td><td>Computer_Science                            </td><td> 0.066070729                                </td><td>2.417867e-02                                </td><td>   2.732604                                 </td><td> 6.283584e-03                               </td></tr>\n",
       "\t<tr><td>fixed                                       </td><td>NA                                          </td><td>Decision_Sciences                           </td><td>-0.506656624                                </td><td>4.978548e-02                                </td><td> -10.176796                                 </td><td> 2.517130e-24                               </td></tr>\n",
       "\t<tr><td>fixed                                       </td><td>NA                                          </td><td>Health_Professions                          </td><td> 0.791064251                                </td><td>2.852805e-02                                </td><td>  27.729344                                 </td><td>3.092659e-169                               </td></tr>\n",
       "\t<tr><td>fixed                                       </td><td>NA                                          </td><td>Psychology                                  </td><td>-0.557495315                                </td><td>2.322153e-02                                </td><td> -24.007693                                 </td><td>2.311191e-127                               </td></tr>\n",
       "\t<tr><td>fixed                                       </td><td>NA                                          </td><td>Immunology_and_Microbiology                 </td><td>-0.087817679                                </td><td>2.003245e-02                                </td><td>  -4.383771                                 </td><td> 1.166423e-05                               </td></tr>\n",
       "\t<tr><td>fixed                                       </td><td>NA                                          </td><td>Dentistry                                   </td><td>-0.960743139                                </td><td>9.030725e-02                                </td><td> -10.638604                                 </td><td> 1.970592e-26                               </td></tr>\n",
       "\t<tr><td>fixed                                       </td><td>NA                                          </td><td>Earth_and_Planetary_Sciences                </td><td>-0.040696408                                </td><td>1.994193e-02                                </td><td>  -2.040745                                 </td><td> 4.127614e-02                               </td></tr>\n",
       "\t<tr><td>fixed                                       </td><td>NA                                          </td><td>Environmental_Science                       </td><td> 0.162251558                                </td><td>1.492444e-02                                </td><td>  10.871534                                 </td><td> 1.575302e-27                               </td></tr>\n",
       "\t<tr><td>fixed                                       </td><td>NA                                          </td><td>Mathematics                                 </td><td>-0.345975096                                </td><td>3.213674e-02                                </td><td> -10.765720                                 </td><td> 4.996933e-27                               </td></tr>\n",
       "\t<tr><td>fixed                                       </td><td>NA                                          </td><td>Arts_and_Humanities                         </td><td>-0.197814004                                </td><td>3.852989e-02                                </td><td>  -5.134040                                 </td><td> 2.835882e-07                               </td></tr>\n",
       "\t<tr><td>fixed                                       </td><td>NA                                          </td><td>Energy                                      </td><td>-0.254612921                                </td><td>3.754670e-02                                </td><td>  -6.781232                                 </td><td> 1.191550e-11                               </td></tr>\n",
       "\t<tr><td>fixed                                       </td><td>NA                                          </td><td>Veterinary                                  </td><td>-0.797160859                                </td><td>5.538068e-02                                </td><td> -14.394204                                 </td><td> 5.626921e-47                               </td></tr>\n",
       "\t<tr><td>fixed                                       </td><td>NA                                          </td><td>General                                     </td><td> 0.354008126                                </td><td>2.635225e-02                                </td><td>  13.433695                                 </td><td> 3.837730e-41                               </td></tr>\n",
       "\t<tr><td>ran_pars                                    </td><td>doi                                         </td><td>sd__(Intercept)                             </td><td> 1.014308356                                </td><td>          NA                                </td><td>         NA                                 </td><td>           NA                               </td></tr>\n",
       "</tbody>\n",
       "</table>\n"
      ],
      "text/latex": [
       "\\begin{tabular}{r|lllllll}\n",
       " effect & group & term & estimate & std.error & statistic & p.value\\\\\n",
       "\\hline\n",
       "\t fixed                                        & NA                                           & (Intercept)                                  & -2.879199754                                 & 1.436067e-02                                 & -200.492028                                  &  0.000000e+00                               \\\\\n",
       "\t fixed                                        & NA                                           & genderFemale                                 & -0.278467340                                 & 7.164600e-03                                 &  -38.867118                                  &  0.000000e+00                               \\\\\n",
       "\t fixed                                            & NA                                               & authorship\\_posfirst\\_position                 &  0.356724229                                     & 9.279095e-03                                     &   38.443859                                      &  0.000000e+00                                   \\\\\n",
       "\t fixed                                            & NA                                               & authorship\\_posmiddle\\_position                & -0.879134042                                     & 8.393956e-03                                     & -104.734175                                      &  0.000000e+00                                   \\\\\n",
       "\t fixed                                            & NA                                               & authorship\\_possolo\\_author                    &  0.789776601                                     & 1.870395e-02                                     &   42.225126                                      &  0.000000e+00                                   \\\\\n",
       "\t fixed                                              & NA                                                 & author\\_pub\\_count\\_cate                        &  0.280368278                                       & 4.581549e-03                                       &   61.195084                                        &  0.000000e+00                                     \\\\\n",
       "\t fixed                                                                & NA                                                                   & I(author\\_pub\\_count\\_cate\\textasciicircum{}2)                   & -0.030458369                                                         & 5.681461e-04                                                         &  -53.610099                                                          &  0.000000e+00                                                       \\\\\n",
       "\t fixed                                            & NA                                               & affiliation\\_rank\\_cate                        & -0.053139440                                     & 1.281000e-03                                     &  -41.482771                                      &  0.000000e+00                                   \\\\\n",
       "\t fixed                                          & NA                                             & affiliation\\_cateinternational                &  0.061704091                                   & 7.745272e-03                                   &    7.966678                                    &  1.629962e-15                                 \\\\\n",
       "\t fixed                                          & NA                                             & num\\_authors                                  & -0.001512682                                   & 7.530442e-05                                   &  -20.087563                                    &  9.480228e-90                                 \\\\\n",
       "\t fixed                                          & NA                                             & journal\\_impact                               &  0.026899394                                   & 4.848758e-04                                   &   55.476881                                    &  0.000000e+00                                 \\\\\n",
       "\t fixed                                          & NA                                             & Social\\_Sciences                              &  0.886049085                                   & 1.558362e-02                                   &   56.857704                                    &  0.000000e+00                                 \\\\\n",
       "\t fixed                                          & NA                                             & Materials\\_Science                            & -0.102709770                                   & 2.406086e-02                                   &   -4.268749                                    &  1.965725e-05                                 \\\\\n",
       "\t fixed                                        & NA                                           & Engineering                                  & -0.306537011                                 & 2.140839e-02                                 &  -14.318549                                  &  1.675862e-46                               \\\\\n",
       "\t fixed                                        & NA                                           & Chemistry                                    & -0.303982307                                 & 1.799062e-02                                 &  -16.896707                                  &  4.757412e-64                               \\\\\n",
       "\t fixed                                                  & NA                                                     & Biochemistry\\_\\_Genetics\\_and\\_Molecular\\_Biology & -0.142092587                                           & 1.061299e-02                                           &  -13.388549                                            &  7.054573e-41                                         \\\\\n",
       "\t fixed                                        & NA                                           & Medicine                                     & -0.343476657                                 & 8.700612e-03                                 &  -39.477299                                  &  0.000000e+00                               \\\\\n",
       "\t fixed                                        & NA                                           & Nursing                                      &  0.206036820                                 & 2.581513e-02                                 &    7.981243                                  &  1.448667e-15                               \\\\\n",
       "\t fixed                                              & NA                                                 & Agricultural\\_and\\_Biological\\_Sciences         &  0.408712459                                       & 1.248092e-02                                       &   32.746978                                        & 3.352444e-235                                     \\\\\n",
       "\t fixed                                                & NA                                                   & Pharmacology\\_\\_Toxicology\\_and\\_Pharmaceutics   & -0.459882626                                         & 2.503809e-02                                         &  -18.367320                                          &  2.399727e-75                                       \\\\\n",
       "\t fixed                                        & NA                                           & Neuroscience                                 &  0.047025626                                 & 1.753219e-02                                 &    2.682245                                  &  7.312986e-03                               \\\\\n",
       "\t fixed                                                & NA                                                   & Business\\_\\_Management\\_and\\_Accounting          & -0.209521538                                         & 2.948113e-02                                         &   -7.106971                                          &  1.186177e-12                                       \\\\\n",
       "\t fixed                                                & NA                                                   & Economics\\_\\_Econometrics\\_and\\_Finance          & -0.406455818                                         & 3.187138e-02                                         &  -12.753002                                          &  2.999692e-37                                       \\\\\n",
       "\t fixed                                          & NA                                             & Chemical\\_Engineering                         &  0.193372174                                   & 2.704608e-02                                   &    7.149731                                    &  8.694841e-13                                 \\\\\n",
       "\t fixed                                            & NA                                               & Physics\\_and\\_Astronomy                        & -0.660897759                                     & 2.199353e-02                                     &  -30.049638                                      & 2.207222e-198                                   \\\\\n",
       "\t fixed                                          & NA                                             & Computer\\_Science                             &  0.066070729                                   & 2.417867e-02                                   &    2.732604                                    &  6.283584e-03                                 \\\\\n",
       "\t fixed                                          & NA                                             & Decision\\_Sciences                            & -0.506656624                                   & 4.978548e-02                                   &  -10.176796                                    &  2.517130e-24                                 \\\\\n",
       "\t fixed                                          & NA                                             & Health\\_Professions                           &  0.791064251                                   & 2.852805e-02                                   &   27.729344                                    & 3.092659e-169                                 \\\\\n",
       "\t fixed                                        & NA                                           & Psychology                                   & -0.557495315                                 & 2.322153e-02                                 &  -24.007693                                  & 2.311191e-127                               \\\\\n",
       "\t fixed                                            & NA                                               & Immunology\\_and\\_Microbiology                  & -0.087817679                                     & 2.003245e-02                                     &   -4.383771                                      &  1.166423e-05                                   \\\\\n",
       "\t fixed                                        & NA                                           & Dentistry                                    & -0.960743139                                 & 9.030725e-02                                 &  -10.638604                                  &  1.970592e-26                               \\\\\n",
       "\t fixed                                              & NA                                                 & Earth\\_and\\_Planetary\\_Sciences                 & -0.040696408                                       & 1.994193e-02                                       &   -2.040745                                        &  4.127614e-02                                     \\\\\n",
       "\t fixed                                          & NA                                             & Environmental\\_Science                        &  0.162251558                                   & 1.492444e-02                                   &   10.871534                                    &  1.575302e-27                                 \\\\\n",
       "\t fixed                                        & NA                                           & Mathematics                                  & -0.345975096                                 & 3.213674e-02                                 &  -10.765720                                  &  4.996933e-27                               \\\\\n",
       "\t fixed                                            & NA                                               & Arts\\_and\\_Humanities                          & -0.197814004                                     & 3.852989e-02                                     &   -5.134040                                      &  2.835882e-07                                   \\\\\n",
       "\t fixed                                        & NA                                           & Energy                                       & -0.254612921                                 & 3.754670e-02                                 &   -6.781232                                  &  1.191550e-11                               \\\\\n",
       "\t fixed                                        & NA                                           & Veterinary                                   & -0.797160859                                 & 5.538068e-02                                 &  -14.394204                                  &  5.626921e-47                               \\\\\n",
       "\t fixed                                        & NA                                           & General                                      &  0.354008126                                 & 2.635225e-02                                 &   13.433695                                  &  3.837730e-41                               \\\\\n",
       "\t ran\\_pars                                       & doi                                              & sd\\_\\_(Intercept)                              &  1.014308356                                     &           NA                                     &          NA                                      &            NA                                   \\\\\n",
       "\\end{tabular}\n"
      ],
      "text/markdown": [
       "\n",
       "| effect | group | term | estimate | std.error | statistic | p.value |\n",
       "|---|---|---|---|---|---|---|\n",
       "| fixed                                        | NA                                           | (Intercept)                                  | -2.879199754                                 | 1.436067e-02                                 | -200.492028                                  |  0.000000e+00                                |\n",
       "| fixed                                        | NA                                           | genderFemale                                 | -0.278467340                                 | 7.164600e-03                                 |  -38.867118                                  |  0.000000e+00                                |\n",
       "| fixed                                        | NA                                           | authorship_posfirst_position                 |  0.356724229                                 | 9.279095e-03                                 |   38.443859                                  |  0.000000e+00                                |\n",
       "| fixed                                        | NA                                           | authorship_posmiddle_position                | -0.879134042                                 | 8.393956e-03                                 | -104.734175                                  |  0.000000e+00                                |\n",
       "| fixed                                        | NA                                           | authorship_possolo_author                    |  0.789776601                                 | 1.870395e-02                                 |   42.225126                                  |  0.000000e+00                                |\n",
       "| fixed                                        | NA                                           | author_pub_count_cate                        |  0.280368278                                 | 4.581549e-03                                 |   61.195084                                  |  0.000000e+00                                |\n",
       "| fixed                                        | NA                                           | I(author_pub_count_cate^2)                   | -0.030458369                                 | 5.681461e-04                                 |  -53.610099                                  |  0.000000e+00                                |\n",
       "| fixed                                        | NA                                           | affiliation_rank_cate                        | -0.053139440                                 | 1.281000e-03                                 |  -41.482771                                  |  0.000000e+00                                |\n",
       "| fixed                                        | NA                                           | affiliation_cateinternational                |  0.061704091                                 | 7.745272e-03                                 |    7.966678                                  |  1.629962e-15                                |\n",
       "| fixed                                        | NA                                           | num_authors                                  | -0.001512682                                 | 7.530442e-05                                 |  -20.087563                                  |  9.480228e-90                                |\n",
       "| fixed                                        | NA                                           | journal_impact                               |  0.026899394                                 | 4.848758e-04                                 |   55.476881                                  |  0.000000e+00                                |\n",
       "| fixed                                        | NA                                           | Social_Sciences                              |  0.886049085                                 | 1.558362e-02                                 |   56.857704                                  |  0.000000e+00                                |\n",
       "| fixed                                        | NA                                           | Materials_Science                            | -0.102709770                                 | 2.406086e-02                                 |   -4.268749                                  |  1.965725e-05                                |\n",
       "| fixed                                        | NA                                           | Engineering                                  | -0.306537011                                 | 2.140839e-02                                 |  -14.318549                                  |  1.675862e-46                                |\n",
       "| fixed                                        | NA                                           | Chemistry                                    | -0.303982307                                 | 1.799062e-02                                 |  -16.896707                                  |  4.757412e-64                                |\n",
       "| fixed                                        | NA                                           | Biochemistry__Genetics_and_Molecular_Biology | -0.142092587                                 | 1.061299e-02                                 |  -13.388549                                  |  7.054573e-41                                |\n",
       "| fixed                                        | NA                                           | Medicine                                     | -0.343476657                                 | 8.700612e-03                                 |  -39.477299                                  |  0.000000e+00                                |\n",
       "| fixed                                        | NA                                           | Nursing                                      |  0.206036820                                 | 2.581513e-02                                 |    7.981243                                  |  1.448667e-15                                |\n",
       "| fixed                                        | NA                                           | Agricultural_and_Biological_Sciences         |  0.408712459                                 | 1.248092e-02                                 |   32.746978                                  | 3.352444e-235                                |\n",
       "| fixed                                        | NA                                           | Pharmacology__Toxicology_and_Pharmaceutics   | -0.459882626                                 | 2.503809e-02                                 |  -18.367320                                  |  2.399727e-75                                |\n",
       "| fixed                                        | NA                                           | Neuroscience                                 |  0.047025626                                 | 1.753219e-02                                 |    2.682245                                  |  7.312986e-03                                |\n",
       "| fixed                                        | NA                                           | Business__Management_and_Accounting          | -0.209521538                                 | 2.948113e-02                                 |   -7.106971                                  |  1.186177e-12                                |\n",
       "| fixed                                        | NA                                           | Economics__Econometrics_and_Finance          | -0.406455818                                 | 3.187138e-02                                 |  -12.753002                                  |  2.999692e-37                                |\n",
       "| fixed                                        | NA                                           | Chemical_Engineering                         |  0.193372174                                 | 2.704608e-02                                 |    7.149731                                  |  8.694841e-13                                |\n",
       "| fixed                                        | NA                                           | Physics_and_Astronomy                        | -0.660897759                                 | 2.199353e-02                                 |  -30.049638                                  | 2.207222e-198                                |\n",
       "| fixed                                        | NA                                           | Computer_Science                             |  0.066070729                                 | 2.417867e-02                                 |    2.732604                                  |  6.283584e-03                                |\n",
       "| fixed                                        | NA                                           | Decision_Sciences                            | -0.506656624                                 | 4.978548e-02                                 |  -10.176796                                  |  2.517130e-24                                |\n",
       "| fixed                                        | NA                                           | Health_Professions                           |  0.791064251                                 | 2.852805e-02                                 |   27.729344                                  | 3.092659e-169                                |\n",
       "| fixed                                        | NA                                           | Psychology                                   | -0.557495315                                 | 2.322153e-02                                 |  -24.007693                                  | 2.311191e-127                                |\n",
       "| fixed                                        | NA                                           | Immunology_and_Microbiology                  | -0.087817679                                 | 2.003245e-02                                 |   -4.383771                                  |  1.166423e-05                                |\n",
       "| fixed                                        | NA                                           | Dentistry                                    | -0.960743139                                 | 9.030725e-02                                 |  -10.638604                                  |  1.970592e-26                                |\n",
       "| fixed                                        | NA                                           | Earth_and_Planetary_Sciences                 | -0.040696408                                 | 1.994193e-02                                 |   -2.040745                                  |  4.127614e-02                                |\n",
       "| fixed                                        | NA                                           | Environmental_Science                        |  0.162251558                                 | 1.492444e-02                                 |   10.871534                                  |  1.575302e-27                                |\n",
       "| fixed                                        | NA                                           | Mathematics                                  | -0.345975096                                 | 3.213674e-02                                 |  -10.765720                                  |  4.996933e-27                                |\n",
       "| fixed                                        | NA                                           | Arts_and_Humanities                          | -0.197814004                                 | 3.852989e-02                                 |   -5.134040                                  |  2.835882e-07                                |\n",
       "| fixed                                        | NA                                           | Energy                                       | -0.254612921                                 | 3.754670e-02                                 |   -6.781232                                  |  1.191550e-11                                |\n",
       "| fixed                                        | NA                                           | Veterinary                                   | -0.797160859                                 | 5.538068e-02                                 |  -14.394204                                  |  5.626921e-47                                |\n",
       "| fixed                                        | NA                                           | General                                      |  0.354008126                                 | 2.635225e-02                                 |   13.433695                                  |  3.837730e-41                                |\n",
       "| ran_pars                                     | doi                                          | sd__(Intercept)                              |  1.014308356                                 |           NA                                 |          NA                                  |            NA                                |\n",
       "\n"
      ],
      "text/plain": [
       "   effect   group term                                         estimate    \n",
       "1  fixed    NA    (Intercept)                                  -2.879199754\n",
       "2  fixed    NA    genderFemale                                 -0.278467340\n",
       "3  fixed    NA    authorship_posfirst_position                  0.356724229\n",
       "4  fixed    NA    authorship_posmiddle_position                -0.879134042\n",
       "5  fixed    NA    authorship_possolo_author                     0.789776601\n",
       "6  fixed    NA    author_pub_count_cate                         0.280368278\n",
       "7  fixed    NA    I(author_pub_count_cate^2)                   -0.030458369\n",
       "8  fixed    NA    affiliation_rank_cate                        -0.053139440\n",
       "9  fixed    NA    affiliation_cateinternational                 0.061704091\n",
       "10 fixed    NA    num_authors                                  -0.001512682\n",
       "11 fixed    NA    journal_impact                                0.026899394\n",
       "12 fixed    NA    Social_Sciences                               0.886049085\n",
       "13 fixed    NA    Materials_Science                            -0.102709770\n",
       "14 fixed    NA    Engineering                                  -0.306537011\n",
       "15 fixed    NA    Chemistry                                    -0.303982307\n",
       "16 fixed    NA    Biochemistry__Genetics_and_Molecular_Biology -0.142092587\n",
       "17 fixed    NA    Medicine                                     -0.343476657\n",
       "18 fixed    NA    Nursing                                       0.206036820\n",
       "19 fixed    NA    Agricultural_and_Biological_Sciences          0.408712459\n",
       "20 fixed    NA    Pharmacology__Toxicology_and_Pharmaceutics   -0.459882626\n",
       "21 fixed    NA    Neuroscience                                  0.047025626\n",
       "22 fixed    NA    Business__Management_and_Accounting          -0.209521538\n",
       "23 fixed    NA    Economics__Econometrics_and_Finance          -0.406455818\n",
       "24 fixed    NA    Chemical_Engineering                          0.193372174\n",
       "25 fixed    NA    Physics_and_Astronomy                        -0.660897759\n",
       "26 fixed    NA    Computer_Science                              0.066070729\n",
       "27 fixed    NA    Decision_Sciences                            -0.506656624\n",
       "28 fixed    NA    Health_Professions                            0.791064251\n",
       "29 fixed    NA    Psychology                                   -0.557495315\n",
       "30 fixed    NA    Immunology_and_Microbiology                  -0.087817679\n",
       "31 fixed    NA    Dentistry                                    -0.960743139\n",
       "32 fixed    NA    Earth_and_Planetary_Sciences                 -0.040696408\n",
       "33 fixed    NA    Environmental_Science                         0.162251558\n",
       "34 fixed    NA    Mathematics                                  -0.345975096\n",
       "35 fixed    NA    Arts_and_Humanities                          -0.197814004\n",
       "36 fixed    NA    Energy                                       -0.254612921\n",
       "37 fixed    NA    Veterinary                                   -0.797160859\n",
       "38 fixed    NA    General                                       0.354008126\n",
       "39 ran_pars doi   sd__(Intercept)                               1.014308356\n",
       "   std.error    statistic   p.value      \n",
       "1  1.436067e-02 -200.492028  0.000000e+00\n",
       "2  7.164600e-03  -38.867118  0.000000e+00\n",
       "3  9.279095e-03   38.443859  0.000000e+00\n",
       "4  8.393956e-03 -104.734175  0.000000e+00\n",
       "5  1.870395e-02   42.225126  0.000000e+00\n",
       "6  4.581549e-03   61.195084  0.000000e+00\n",
       "7  5.681461e-04  -53.610099  0.000000e+00\n",
       "8  1.281000e-03  -41.482771  0.000000e+00\n",
       "9  7.745272e-03    7.966678  1.629962e-15\n",
       "10 7.530442e-05  -20.087563  9.480228e-90\n",
       "11 4.848758e-04   55.476881  0.000000e+00\n",
       "12 1.558362e-02   56.857704  0.000000e+00\n",
       "13 2.406086e-02   -4.268749  1.965725e-05\n",
       "14 2.140839e-02  -14.318549  1.675862e-46\n",
       "15 1.799062e-02  -16.896707  4.757412e-64\n",
       "16 1.061299e-02  -13.388549  7.054573e-41\n",
       "17 8.700612e-03  -39.477299  0.000000e+00\n",
       "18 2.581513e-02    7.981243  1.448667e-15\n",
       "19 1.248092e-02   32.746978 3.352444e-235\n",
       "20 2.503809e-02  -18.367320  2.399727e-75\n",
       "21 1.753219e-02    2.682245  7.312986e-03\n",
       "22 2.948113e-02   -7.106971  1.186177e-12\n",
       "23 3.187138e-02  -12.753002  2.999692e-37\n",
       "24 2.704608e-02    7.149731  8.694841e-13\n",
       "25 2.199353e-02  -30.049638 2.207222e-198\n",
       "26 2.417867e-02    2.732604  6.283584e-03\n",
       "27 4.978548e-02  -10.176796  2.517130e-24\n",
       "28 2.852805e-02   27.729344 3.092659e-169\n",
       "29 2.322153e-02  -24.007693 2.311191e-127\n",
       "30 2.003245e-02   -4.383771  1.166423e-05\n",
       "31 9.030725e-02  -10.638604  1.970592e-26\n",
       "32 1.994193e-02   -2.040745  4.127614e-02\n",
       "33 1.492444e-02   10.871534  1.575302e-27\n",
       "34 3.213674e-02  -10.765720  4.996933e-27\n",
       "35 3.852989e-02   -5.134040  2.835882e-07\n",
       "36 3.754670e-02   -6.781232  1.191550e-11\n",
       "37 5.538068e-02  -14.394204  5.626921e-47\n",
       "38 2.635225e-02   13.433695  3.837730e-41\n",
       "39           NA          NA            NA"
      ]
     },
     "metadata": {},
     "output_type": "display_data"
    }
   ],
   "source": [
    "# without author citation control\n",
    "tidy(m_org)"
   ]
  },
  {
   "cell_type": "code",
   "execution_count": 19,
   "id": "5a1c0b4d",
   "metadata": {
    "scrolled": true
   },
   "outputs": [
    {
     "data": {
      "text/html": [
       "<table>\n",
       "<thead><tr><th scope=col>effect</th><th scope=col>group</th><th scope=col>term</th><th scope=col>estimate</th><th scope=col>std.error</th><th scope=col>statistic</th><th scope=col>p.value</th></tr></thead>\n",
       "<tbody>\n",
       "\t<tr><td>fixed                                       </td><td>NA                                          </td><td>(Intercept)                                 </td><td>-2.851691705                                </td><td>1.443349e-02                                </td><td>-197.574639                                 </td><td> 0.000000e+00                               </td></tr>\n",
       "\t<tr><td>fixed                                       </td><td>NA                                          </td><td>genderFemale                                </td><td>-0.277060990                                </td><td>7.166555e-03                                </td><td> -38.660278                                 </td><td> 0.000000e+00                               </td></tr>\n",
       "\t<tr><td>fixed                                       </td><td>NA                                          </td><td>authorship_posfirst_position                </td><td> 0.343344667                                </td><td>9.311306e-03                                </td><td>  36.873954                                 </td><td>1.208646e-297                               </td></tr>\n",
       "\t<tr><td>fixed                                       </td><td>NA                                          </td><td>authorship_posmiddle_position               </td><td>-0.883427253                                </td><td>8.400939e-03                                </td><td>-105.158159                                 </td><td> 0.000000e+00                               </td></tr>\n",
       "\t<tr><td>fixed                                       </td><td>NA                                          </td><td>authorship_possolo_author                   </td><td> 0.780133868                                </td><td>1.873507e-02                                </td><td>  41.640307                                 </td><td> 0.000000e+00                               </td></tr>\n",
       "\t<tr><td>fixed                                       </td><td>NA                                          </td><td>author_pub_count_cate                       </td><td> 0.353075940                                </td><td>6.097561e-03                                </td><td>  57.904457                                 </td><td> 0.000000e+00                               </td></tr>\n",
       "\t<tr><td>fixed                                       </td><td>NA                                          </td><td>I(author_pub_count_cate^2)                  </td><td>-0.032447389                                </td><td>5.793496e-04                                </td><td> -56.006577                                 </td><td> 0.000000e+00                               </td></tr>\n",
       "\t<tr><td>fixed                                       </td><td>NA                                          </td><td>affiliation_rank_cate                       </td><td>-0.054494684                                </td><td>1.284198e-03                                </td><td> -42.434806                                 </td><td> 0.000000e+00                               </td></tr>\n",
       "\t<tr><td>fixed                                       </td><td>NA                                          </td><td>affiliation_cateinternational               </td><td> 0.051878119                                </td><td>7.770933e-03                                </td><td>   6.675919                                 </td><td> 2.456883e-11                               </td></tr>\n",
       "\t<tr><td>fixed                                       </td><td>NA                                          </td><td>num_authors                                 </td><td>-0.001519923                                </td><td>7.537603e-05                                </td><td> -20.164536                                 </td><td> 2.006190e-90                               </td></tr>\n",
       "\t<tr><td>fixed                                       </td><td>NA                                          </td><td>journal_impact                              </td><td> 0.027556604                                </td><td>4.864354e-04                                </td><td>  56.650082                                 </td><td> 0.000000e+00                               </td></tr>\n",
       "\t<tr><td>fixed                                       </td><td>NA                                          </td><td>author_citation_log                         </td><td>-0.035527798                                </td><td>1.969090e-03                                </td><td> -18.042746                                 </td><td> 8.996124e-73                               </td></tr>\n",
       "\t<tr><td>fixed                                       </td><td>NA                                          </td><td>Social_Sciences                             </td><td> 0.874363366                                </td><td>1.561268e-02                                </td><td>  56.003409                                 </td><td> 0.000000e+00                               </td></tr>\n",
       "\t<tr><td>fixed                                       </td><td>NA                                          </td><td>Materials_Science                           </td><td>-0.103703373                                </td><td>2.405199e-02                                </td><td>  -4.311634                                 </td><td> 1.620526e-05                               </td></tr>\n",
       "\t<tr><td>fixed                                       </td><td>NA                                          </td><td>Engineering                                 </td><td>-0.319322196                                </td><td>2.141519e-02                                </td><td> -14.911017                                 </td><td> 2.794630e-50                               </td></tr>\n",
       "\t<tr><td>fixed                                       </td><td>NA                                          </td><td>Chemistry                                   </td><td>-0.303546970                                </td><td>1.799524e-02                                </td><td> -16.868180                                 </td><td> 7.713602e-64                               </td></tr>\n",
       "\t<tr><td>fixed                                       </td><td>NA                                          </td><td>Biochemistry__Genetics_and_Molecular_Biology</td><td>-0.129905336                                </td><td>1.063988e-02                                </td><td> -12.209285                                 </td><td> 2.773170e-34                               </td></tr>\n",
       "\t<tr><td>fixed                                       </td><td>NA                                          </td><td>Medicine                                    </td><td>-0.356119029                                </td><td>8.736426e-03                                </td><td> -40.762555                                 </td><td> 0.000000e+00                               </td></tr>\n",
       "\t<tr><td>fixed                                       </td><td>NA                                          </td><td>Nursing                                     </td><td> 0.202606051                                </td><td>2.583836e-02                                </td><td>   7.841288                                 </td><td> 4.459475e-15                               </td></tr>\n",
       "\t<tr><td>fixed                                       </td><td>NA                                          </td><td>Agricultural_and_Biological_Sciences        </td><td> 0.412526868                                </td><td>1.248896e-02                                </td><td>  33.031311                                 </td><td>2.886138e-239                               </td></tr>\n",
       "\t<tr><td>fixed                                       </td><td>NA                                          </td><td>Pharmacology__Toxicology_and_Pharmaceutics  </td><td>-0.457714328                                </td><td>2.504829e-02                                </td><td> -18.273278                                 </td><td> 1.350861e-74                               </td></tr>\n",
       "\t<tr><td>fixed                                       </td><td>NA                                          </td><td>Neuroscience                                </td><td> 0.057997274                                </td><td>1.755076e-02                                </td><td>   3.304546                                 </td><td> 9.513051e-04                               </td></tr>\n",
       "\t<tr><td>fixed                                       </td><td>NA                                          </td><td>Business__Management_and_Accounting         </td><td>-0.203678710                                </td><td>2.950424e-02                                </td><td>  -6.903371                                 </td><td> 5.078292e-12                               </td></tr>\n",
       "\t<tr><td>fixed                                       </td><td>NA                                          </td><td>Economics__Econometrics_and_Finance         </td><td>-0.398173406                                </td><td>3.189764e-02                                </td><td> -12.482848                                 </td><td> 9.261346e-36                               </td></tr>\n",
       "\t<tr><td>fixed                                       </td><td>NA                                          </td><td>Chemical_Engineering                        </td><td> 0.192305423                                </td><td>2.705141e-02                                </td><td>   7.108887                                 </td><td> 1.169824e-12                               </td></tr>\n",
       "\t<tr><td>fixed                                       </td><td>NA                                          </td><td>Physics_and_Astronomy                       </td><td>-0.674305140                                </td><td>2.200554e-02                                </td><td> -30.642513                                 </td><td>3.325101e-206                               </td></tr>\n",
       "\t<tr><td>fixed                                       </td><td>NA                                          </td><td>Computer_Science                            </td><td> 0.057283960                                </td><td>2.419075e-02                                </td><td>   2.368011                                 </td><td> 1.788398e-02                               </td></tr>\n",
       "\t<tr><td>fixed                                       </td><td>NA                                          </td><td>Decision_Sciences                           </td><td>-0.496997992                                </td><td>4.981701e-02                                </td><td>  -9.976472                                 </td><td> 1.932152e-23                               </td></tr>\n",
       "\t<tr><td>fixed                                       </td><td>NA                                          </td><td>Health_Professions                          </td><td> 0.783231140                                </td><td>2.856417e-02                                </td><td>  27.420056                                 </td><td>1.581556e-165                               </td></tr>\n",
       "\t<tr><td>fixed                                       </td><td>NA                                          </td><td>Psychology                                  </td><td>-0.545446860                                </td><td>2.325199e-02                                </td><td> -23.458069                                 </td><td>1.093612e-121                               </td></tr>\n",
       "\t<tr><td>fixed                                       </td><td>NA                                          </td><td>Immunology_and_Microbiology                 </td><td>-0.075486575                                </td><td>2.005348e-02                                </td><td>  -3.764263                                 </td><td> 1.670407e-04                               </td></tr>\n",
       "\t<tr><td>fixed                                       </td><td>NA                                          </td><td>Dentistry                                   </td><td>-0.968993732                                </td><td>9.034412e-02                                </td><td> -10.725587                                 </td><td> 7.719543e-27                               </td></tr>\n",
       "\t<tr><td>fixed                                       </td><td>NA                                          </td><td>Earth_and_Planetary_Sciences                </td><td>-0.040088538                                </td><td>1.995162e-02                                </td><td>  -2.009287                                 </td><td> 4.450668e-02                               </td></tr>\n",
       "\t<tr><td>fixed                                       </td><td>NA                                          </td><td>Environmental_Science                       </td><td> 0.162726613                                </td><td>1.493058e-02                                </td><td>  10.898883                                 </td><td> 1.166803e-27                               </td></tr>\n",
       "\t<tr><td>fixed                                       </td><td>NA                                          </td><td>Mathematics                                 </td><td>-0.352595168                                </td><td>3.213406e-02                                </td><td> -10.972630                                 </td><td> 5.174489e-28                               </td></tr>\n",
       "\t<tr><td>fixed                                       </td><td>NA                                          </td><td>Arts_and_Humanities                         </td><td>-0.204185850                                </td><td>3.857179e-02                                </td><td>  -5.293658                                 </td><td> 1.198935e-07                               </td></tr>\n",
       "\t<tr><td>fixed                                       </td><td>NA                                          </td><td>Energy                                      </td><td>-0.262680854                                </td><td>3.755327e-02                                </td><td>  -6.994887                                 </td><td> 2.654728e-12                               </td></tr>\n",
       "\t<tr><td>fixed                                       </td><td>NA                                          </td><td>Veterinary                                  </td><td>-0.812038562                                </td><td>5.541837e-02                                </td><td> -14.652878                                 </td><td> 1.291282e-48                               </td></tr>\n",
       "\t<tr><td>fixed                                       </td><td>NA                                          </td><td>General                                     </td><td> 0.365650500                                </td><td>2.639766e-02                                </td><td>  13.851626                                 </td><td> 1.243639e-43                               </td></tr>\n",
       "\t<tr><td>ran_pars                                    </td><td>doi                                         </td><td>sd__(Intercept)                             </td><td> 1.016351612                                </td><td>          NA                                </td><td>         NA                                 </td><td>           NA                               </td></tr>\n",
       "</tbody>\n",
       "</table>\n"
      ],
      "text/latex": [
       "\\begin{tabular}{r|lllllll}\n",
       " effect & group & term & estimate & std.error & statistic & p.value\\\\\n",
       "\\hline\n",
       "\t fixed                                        & NA                                           & (Intercept)                                  & -2.851691705                                 & 1.443349e-02                                 & -197.574639                                  &  0.000000e+00                               \\\\\n",
       "\t fixed                                        & NA                                           & genderFemale                                 & -0.277060990                                 & 7.166555e-03                                 &  -38.660278                                  &  0.000000e+00                               \\\\\n",
       "\t fixed                                            & NA                                               & authorship\\_posfirst\\_position                 &  0.343344667                                     & 9.311306e-03                                     &   36.873954                                      & 1.208646e-297                                   \\\\\n",
       "\t fixed                                            & NA                                               & authorship\\_posmiddle\\_position                & -0.883427253                                     & 8.400939e-03                                     & -105.158159                                      &  0.000000e+00                                   \\\\\n",
       "\t fixed                                            & NA                                               & authorship\\_possolo\\_author                    &  0.780133868                                     & 1.873507e-02                                     &   41.640307                                      &  0.000000e+00                                   \\\\\n",
       "\t fixed                                              & NA                                                 & author\\_pub\\_count\\_cate                        &  0.353075940                                       & 6.097561e-03                                       &   57.904457                                        &  0.000000e+00                                     \\\\\n",
       "\t fixed                                                                & NA                                                                   & I(author\\_pub\\_count\\_cate\\textasciicircum{}2)                   & -0.032447389                                                         & 5.793496e-04                                                         &  -56.006577                                                          &  0.000000e+00                                                       \\\\\n",
       "\t fixed                                            & NA                                               & affiliation\\_rank\\_cate                        & -0.054494684                                     & 1.284198e-03                                     &  -42.434806                                      &  0.000000e+00                                   \\\\\n",
       "\t fixed                                          & NA                                             & affiliation\\_cateinternational                &  0.051878119                                   & 7.770933e-03                                   &    6.675919                                    &  2.456883e-11                                 \\\\\n",
       "\t fixed                                          & NA                                             & num\\_authors                                  & -0.001519923                                   & 7.537603e-05                                   &  -20.164536                                    &  2.006190e-90                                 \\\\\n",
       "\t fixed                                          & NA                                             & journal\\_impact                               &  0.027556604                                   & 4.864354e-04                                   &   56.650082                                    &  0.000000e+00                                 \\\\\n",
       "\t fixed                                            & NA                                               & author\\_citation\\_log                          & -0.035527798                                     & 1.969090e-03                                     &  -18.042746                                      &  8.996124e-73                                   \\\\\n",
       "\t fixed                                          & NA                                             & Social\\_Sciences                              &  0.874363366                                   & 1.561268e-02                                   &   56.003409                                    &  0.000000e+00                                 \\\\\n",
       "\t fixed                                          & NA                                             & Materials\\_Science                            & -0.103703373                                   & 2.405199e-02                                   &   -4.311634                                    &  1.620526e-05                                 \\\\\n",
       "\t fixed                                        & NA                                           & Engineering                                  & -0.319322196                                 & 2.141519e-02                                 &  -14.911017                                  &  2.794630e-50                               \\\\\n",
       "\t fixed                                        & NA                                           & Chemistry                                    & -0.303546970                                 & 1.799524e-02                                 &  -16.868180                                  &  7.713602e-64                               \\\\\n",
       "\t fixed                                                  & NA                                                     & Biochemistry\\_\\_Genetics\\_and\\_Molecular\\_Biology & -0.129905336                                           & 1.063988e-02                                           &  -12.209285                                            &  2.773170e-34                                         \\\\\n",
       "\t fixed                                        & NA                                           & Medicine                                     & -0.356119029                                 & 8.736426e-03                                 &  -40.762555                                  &  0.000000e+00                               \\\\\n",
       "\t fixed                                        & NA                                           & Nursing                                      &  0.202606051                                 & 2.583836e-02                                 &    7.841288                                  &  4.459475e-15                               \\\\\n",
       "\t fixed                                              & NA                                                 & Agricultural\\_and\\_Biological\\_Sciences         &  0.412526868                                       & 1.248896e-02                                       &   33.031311                                        & 2.886138e-239                                     \\\\\n",
       "\t fixed                                                & NA                                                   & Pharmacology\\_\\_Toxicology\\_and\\_Pharmaceutics   & -0.457714328                                         & 2.504829e-02                                         &  -18.273278                                          &  1.350861e-74                                       \\\\\n",
       "\t fixed                                        & NA                                           & Neuroscience                                 &  0.057997274                                 & 1.755076e-02                                 &    3.304546                                  &  9.513051e-04                               \\\\\n",
       "\t fixed                                                & NA                                                   & Business\\_\\_Management\\_and\\_Accounting          & -0.203678710                                         & 2.950424e-02                                         &   -6.903371                                          &  5.078292e-12                                       \\\\\n",
       "\t fixed                                                & NA                                                   & Economics\\_\\_Econometrics\\_and\\_Finance          & -0.398173406                                         & 3.189764e-02                                         &  -12.482848                                          &  9.261346e-36                                       \\\\\n",
       "\t fixed                                          & NA                                             & Chemical\\_Engineering                         &  0.192305423                                   & 2.705141e-02                                   &    7.108887                                    &  1.169824e-12                                 \\\\\n",
       "\t fixed                                            & NA                                               & Physics\\_and\\_Astronomy                        & -0.674305140                                     & 2.200554e-02                                     &  -30.642513                                      & 3.325101e-206                                   \\\\\n",
       "\t fixed                                          & NA                                             & Computer\\_Science                             &  0.057283960                                   & 2.419075e-02                                   &    2.368011                                    &  1.788398e-02                                 \\\\\n",
       "\t fixed                                          & NA                                             & Decision\\_Sciences                            & -0.496997992                                   & 4.981701e-02                                   &   -9.976472                                    &  1.932152e-23                                 \\\\\n",
       "\t fixed                                          & NA                                             & Health\\_Professions                           &  0.783231140                                   & 2.856417e-02                                   &   27.420056                                    & 1.581556e-165                                 \\\\\n",
       "\t fixed                                        & NA                                           & Psychology                                   & -0.545446860                                 & 2.325199e-02                                 &  -23.458069                                  & 1.093612e-121                               \\\\\n",
       "\t fixed                                            & NA                                               & Immunology\\_and\\_Microbiology                  & -0.075486575                                     & 2.005348e-02                                     &   -3.764263                                      &  1.670407e-04                                   \\\\\n",
       "\t fixed                                        & NA                                           & Dentistry                                    & -0.968993732                                 & 9.034412e-02                                 &  -10.725587                                  &  7.719543e-27                               \\\\\n",
       "\t fixed                                              & NA                                                 & Earth\\_and\\_Planetary\\_Sciences                 & -0.040088538                                       & 1.995162e-02                                       &   -2.009287                                        &  4.450668e-02                                     \\\\\n",
       "\t fixed                                          & NA                                             & Environmental\\_Science                        &  0.162726613                                   & 1.493058e-02                                   &   10.898883                                    &  1.166803e-27                                 \\\\\n",
       "\t fixed                                        & NA                                           & Mathematics                                  & -0.352595168                                 & 3.213406e-02                                 &  -10.972630                                  &  5.174489e-28                               \\\\\n",
       "\t fixed                                            & NA                                               & Arts\\_and\\_Humanities                          & -0.204185850                                     & 3.857179e-02                                     &   -5.293658                                      &  1.198935e-07                                   \\\\\n",
       "\t fixed                                        & NA                                           & Energy                                       & -0.262680854                                 & 3.755327e-02                                 &   -6.994887                                  &  2.654728e-12                               \\\\\n",
       "\t fixed                                        & NA                                           & Veterinary                                   & -0.812038562                                 & 5.541837e-02                                 &  -14.652878                                  &  1.291282e-48                               \\\\\n",
       "\t fixed                                        & NA                                           & General                                      &  0.365650500                                 & 2.639766e-02                                 &   13.851626                                  &  1.243639e-43                               \\\\\n",
       "\t ran\\_pars                                       & doi                                              & sd\\_\\_(Intercept)                              &  1.016351612                                     &           NA                                     &          NA                                      &            NA                                   \\\\\n",
       "\\end{tabular}\n"
      ],
      "text/markdown": [
       "\n",
       "| effect | group | term | estimate | std.error | statistic | p.value |\n",
       "|---|---|---|---|---|---|---|\n",
       "| fixed                                        | NA                                           | (Intercept)                                  | -2.851691705                                 | 1.443349e-02                                 | -197.574639                                  |  0.000000e+00                                |\n",
       "| fixed                                        | NA                                           | genderFemale                                 | -0.277060990                                 | 7.166555e-03                                 |  -38.660278                                  |  0.000000e+00                                |\n",
       "| fixed                                        | NA                                           | authorship_posfirst_position                 |  0.343344667                                 | 9.311306e-03                                 |   36.873954                                  | 1.208646e-297                                |\n",
       "| fixed                                        | NA                                           | authorship_posmiddle_position                | -0.883427253                                 | 8.400939e-03                                 | -105.158159                                  |  0.000000e+00                                |\n",
       "| fixed                                        | NA                                           | authorship_possolo_author                    |  0.780133868                                 | 1.873507e-02                                 |   41.640307                                  |  0.000000e+00                                |\n",
       "| fixed                                        | NA                                           | author_pub_count_cate                        |  0.353075940                                 | 6.097561e-03                                 |   57.904457                                  |  0.000000e+00                                |\n",
       "| fixed                                        | NA                                           | I(author_pub_count_cate^2)                   | -0.032447389                                 | 5.793496e-04                                 |  -56.006577                                  |  0.000000e+00                                |\n",
       "| fixed                                        | NA                                           | affiliation_rank_cate                        | -0.054494684                                 | 1.284198e-03                                 |  -42.434806                                  |  0.000000e+00                                |\n",
       "| fixed                                        | NA                                           | affiliation_cateinternational                |  0.051878119                                 | 7.770933e-03                                 |    6.675919                                  |  2.456883e-11                                |\n",
       "| fixed                                        | NA                                           | num_authors                                  | -0.001519923                                 | 7.537603e-05                                 |  -20.164536                                  |  2.006190e-90                                |\n",
       "| fixed                                        | NA                                           | journal_impact                               |  0.027556604                                 | 4.864354e-04                                 |   56.650082                                  |  0.000000e+00                                |\n",
       "| fixed                                        | NA                                           | author_citation_log                          | -0.035527798                                 | 1.969090e-03                                 |  -18.042746                                  |  8.996124e-73                                |\n",
       "| fixed                                        | NA                                           | Social_Sciences                              |  0.874363366                                 | 1.561268e-02                                 |   56.003409                                  |  0.000000e+00                                |\n",
       "| fixed                                        | NA                                           | Materials_Science                            | -0.103703373                                 | 2.405199e-02                                 |   -4.311634                                  |  1.620526e-05                                |\n",
       "| fixed                                        | NA                                           | Engineering                                  | -0.319322196                                 | 2.141519e-02                                 |  -14.911017                                  |  2.794630e-50                                |\n",
       "| fixed                                        | NA                                           | Chemistry                                    | -0.303546970                                 | 1.799524e-02                                 |  -16.868180                                  |  7.713602e-64                                |\n",
       "| fixed                                        | NA                                           | Biochemistry__Genetics_and_Molecular_Biology | -0.129905336                                 | 1.063988e-02                                 |  -12.209285                                  |  2.773170e-34                                |\n",
       "| fixed                                        | NA                                           | Medicine                                     | -0.356119029                                 | 8.736426e-03                                 |  -40.762555                                  |  0.000000e+00                                |\n",
       "| fixed                                        | NA                                           | Nursing                                      |  0.202606051                                 | 2.583836e-02                                 |    7.841288                                  |  4.459475e-15                                |\n",
       "| fixed                                        | NA                                           | Agricultural_and_Biological_Sciences         |  0.412526868                                 | 1.248896e-02                                 |   33.031311                                  | 2.886138e-239                                |\n",
       "| fixed                                        | NA                                           | Pharmacology__Toxicology_and_Pharmaceutics   | -0.457714328                                 | 2.504829e-02                                 |  -18.273278                                  |  1.350861e-74                                |\n",
       "| fixed                                        | NA                                           | Neuroscience                                 |  0.057997274                                 | 1.755076e-02                                 |    3.304546                                  |  9.513051e-04                                |\n",
       "| fixed                                        | NA                                           | Business__Management_and_Accounting          | -0.203678710                                 | 2.950424e-02                                 |   -6.903371                                  |  5.078292e-12                                |\n",
       "| fixed                                        | NA                                           | Economics__Econometrics_and_Finance          | -0.398173406                                 | 3.189764e-02                                 |  -12.482848                                  |  9.261346e-36                                |\n",
       "| fixed                                        | NA                                           | Chemical_Engineering                         |  0.192305423                                 | 2.705141e-02                                 |    7.108887                                  |  1.169824e-12                                |\n",
       "| fixed                                        | NA                                           | Physics_and_Astronomy                        | -0.674305140                                 | 2.200554e-02                                 |  -30.642513                                  | 3.325101e-206                                |\n",
       "| fixed                                        | NA                                           | Computer_Science                             |  0.057283960                                 | 2.419075e-02                                 |    2.368011                                  |  1.788398e-02                                |\n",
       "| fixed                                        | NA                                           | Decision_Sciences                            | -0.496997992                                 | 4.981701e-02                                 |   -9.976472                                  |  1.932152e-23                                |\n",
       "| fixed                                        | NA                                           | Health_Professions                           |  0.783231140                                 | 2.856417e-02                                 |   27.420056                                  | 1.581556e-165                                |\n",
       "| fixed                                        | NA                                           | Psychology                                   | -0.545446860                                 | 2.325199e-02                                 |  -23.458069                                  | 1.093612e-121                                |\n",
       "| fixed                                        | NA                                           | Immunology_and_Microbiology                  | -0.075486575                                 | 2.005348e-02                                 |   -3.764263                                  |  1.670407e-04                                |\n",
       "| fixed                                        | NA                                           | Dentistry                                    | -0.968993732                                 | 9.034412e-02                                 |  -10.725587                                  |  7.719543e-27                                |\n",
       "| fixed                                        | NA                                           | Earth_and_Planetary_Sciences                 | -0.040088538                                 | 1.995162e-02                                 |   -2.009287                                  |  4.450668e-02                                |\n",
       "| fixed                                        | NA                                           | Environmental_Science                        |  0.162726613                                 | 1.493058e-02                                 |   10.898883                                  |  1.166803e-27                                |\n",
       "| fixed                                        | NA                                           | Mathematics                                  | -0.352595168                                 | 3.213406e-02                                 |  -10.972630                                  |  5.174489e-28                                |\n",
       "| fixed                                        | NA                                           | Arts_and_Humanities                          | -0.204185850                                 | 3.857179e-02                                 |   -5.293658                                  |  1.198935e-07                                |\n",
       "| fixed                                        | NA                                           | Energy                                       | -0.262680854                                 | 3.755327e-02                                 |   -6.994887                                  |  2.654728e-12                                |\n",
       "| fixed                                        | NA                                           | Veterinary                                   | -0.812038562                                 | 5.541837e-02                                 |  -14.652878                                  |  1.291282e-48                                |\n",
       "| fixed                                        | NA                                           | General                                      |  0.365650500                                 | 2.639766e-02                                 |   13.851626                                  |  1.243639e-43                                |\n",
       "| ran_pars                                     | doi                                          | sd__(Intercept)                              |  1.016351612                                 |           NA                                 |          NA                                  |            NA                                |\n",
       "\n"
      ],
      "text/plain": [
       "   effect   group term                                         estimate    \n",
       "1  fixed    NA    (Intercept)                                  -2.851691705\n",
       "2  fixed    NA    genderFemale                                 -0.277060990\n",
       "3  fixed    NA    authorship_posfirst_position                  0.343344667\n",
       "4  fixed    NA    authorship_posmiddle_position                -0.883427253\n",
       "5  fixed    NA    authorship_possolo_author                     0.780133868\n",
       "6  fixed    NA    author_pub_count_cate                         0.353075940\n",
       "7  fixed    NA    I(author_pub_count_cate^2)                   -0.032447389\n",
       "8  fixed    NA    affiliation_rank_cate                        -0.054494684\n",
       "9  fixed    NA    affiliation_cateinternational                 0.051878119\n",
       "10 fixed    NA    num_authors                                  -0.001519923\n",
       "11 fixed    NA    journal_impact                                0.027556604\n",
       "12 fixed    NA    author_citation_log                          -0.035527798\n",
       "13 fixed    NA    Social_Sciences                               0.874363366\n",
       "14 fixed    NA    Materials_Science                            -0.103703373\n",
       "15 fixed    NA    Engineering                                  -0.319322196\n",
       "16 fixed    NA    Chemistry                                    -0.303546970\n",
       "17 fixed    NA    Biochemistry__Genetics_and_Molecular_Biology -0.129905336\n",
       "18 fixed    NA    Medicine                                     -0.356119029\n",
       "19 fixed    NA    Nursing                                       0.202606051\n",
       "20 fixed    NA    Agricultural_and_Biological_Sciences          0.412526868\n",
       "21 fixed    NA    Pharmacology__Toxicology_and_Pharmaceutics   -0.457714328\n",
       "22 fixed    NA    Neuroscience                                  0.057997274\n",
       "23 fixed    NA    Business__Management_and_Accounting          -0.203678710\n",
       "24 fixed    NA    Economics__Econometrics_and_Finance          -0.398173406\n",
       "25 fixed    NA    Chemical_Engineering                          0.192305423\n",
       "26 fixed    NA    Physics_and_Astronomy                        -0.674305140\n",
       "27 fixed    NA    Computer_Science                              0.057283960\n",
       "28 fixed    NA    Decision_Sciences                            -0.496997992\n",
       "29 fixed    NA    Health_Professions                            0.783231140\n",
       "30 fixed    NA    Psychology                                   -0.545446860\n",
       "31 fixed    NA    Immunology_and_Microbiology                  -0.075486575\n",
       "32 fixed    NA    Dentistry                                    -0.968993732\n",
       "33 fixed    NA    Earth_and_Planetary_Sciences                 -0.040088538\n",
       "34 fixed    NA    Environmental_Science                         0.162726613\n",
       "35 fixed    NA    Mathematics                                  -0.352595168\n",
       "36 fixed    NA    Arts_and_Humanities                          -0.204185850\n",
       "37 fixed    NA    Energy                                       -0.262680854\n",
       "38 fixed    NA    Veterinary                                   -0.812038562\n",
       "39 fixed    NA    General                                       0.365650500\n",
       "40 ran_pars doi   sd__(Intercept)                               1.016351612\n",
       "   std.error    statistic   p.value      \n",
       "1  1.443349e-02 -197.574639  0.000000e+00\n",
       "2  7.166555e-03  -38.660278  0.000000e+00\n",
       "3  9.311306e-03   36.873954 1.208646e-297\n",
       "4  8.400939e-03 -105.158159  0.000000e+00\n",
       "5  1.873507e-02   41.640307  0.000000e+00\n",
       "6  6.097561e-03   57.904457  0.000000e+00\n",
       "7  5.793496e-04  -56.006577  0.000000e+00\n",
       "8  1.284198e-03  -42.434806  0.000000e+00\n",
       "9  7.770933e-03    6.675919  2.456883e-11\n",
       "10 7.537603e-05  -20.164536  2.006190e-90\n",
       "11 4.864354e-04   56.650082  0.000000e+00\n",
       "12 1.969090e-03  -18.042746  8.996124e-73\n",
       "13 1.561268e-02   56.003409  0.000000e+00\n",
       "14 2.405199e-02   -4.311634  1.620526e-05\n",
       "15 2.141519e-02  -14.911017  2.794630e-50\n",
       "16 1.799524e-02  -16.868180  7.713602e-64\n",
       "17 1.063988e-02  -12.209285  2.773170e-34\n",
       "18 8.736426e-03  -40.762555  0.000000e+00\n",
       "19 2.583836e-02    7.841288  4.459475e-15\n",
       "20 1.248896e-02   33.031311 2.886138e-239\n",
       "21 2.504829e-02  -18.273278  1.350861e-74\n",
       "22 1.755076e-02    3.304546  9.513051e-04\n",
       "23 2.950424e-02   -6.903371  5.078292e-12\n",
       "24 3.189764e-02  -12.482848  9.261346e-36\n",
       "25 2.705141e-02    7.108887  1.169824e-12\n",
       "26 2.200554e-02  -30.642513 3.325101e-206\n",
       "27 2.419075e-02    2.368011  1.788398e-02\n",
       "28 4.981701e-02   -9.976472  1.932152e-23\n",
       "29 2.856417e-02   27.420056 1.581556e-165\n",
       "30 2.325199e-02  -23.458069 1.093612e-121\n",
       "31 2.005348e-02   -3.764263  1.670407e-04\n",
       "32 9.034412e-02  -10.725587  7.719543e-27\n",
       "33 1.995162e-02   -2.009287  4.450668e-02\n",
       "34 1.493058e-02   10.898883  1.166803e-27\n",
       "35 3.213406e-02  -10.972630  5.174489e-28\n",
       "36 3.857179e-02   -5.293658  1.198935e-07\n",
       "37 3.755327e-02   -6.994887  2.654728e-12\n",
       "38 5.541837e-02  -14.652878  1.291282e-48\n",
       "39 2.639766e-02   13.851626  1.243639e-43\n",
       "40           NA          NA            NA"
      ]
     },
     "metadata": {},
     "output_type": "display_data"
    }
   ],
   "source": [
    "tidy(m_org)"
   ]
  },
  {
   "cell_type": "code",
   "execution_count": 20,
   "id": "33aec064",
   "metadata": {
    "scrolled": false
   },
   "outputs": [
    {
     "name": "stderr",
     "output_type": "stream",
     "text": [
      "Model contains polynomial or cubic / quadratic terms. Consider using `terms=\"gender [all]\"` to get smooth plots. See also package-vignette 'Marginal Effects at Specific Values'.\n"
     ]
    }
   ],
   "source": [
    "# weighted average for factor variable, median for non-factor variables\n",
    "MEs = ggemmeans(m_org, terms=c('gender'), typical='median')"
   ]
  },
  {
   "cell_type": "code",
   "execution_count": 21,
   "id": "fc50dc19",
   "metadata": {
    "scrolled": true
   },
   "outputs": [
    {
     "data": {
      "text/html": [
       "<table>\n",
       "<thead><tr><th scope=col>x</th><th scope=col>predicted</th><th scope=col>std.error</th><th scope=col>conf.low</th><th scope=col>conf.high</th><th scope=col>group</th></tr></thead>\n",
       "<tbody>\n",
       "\t<tr><td>Male       </td><td>0.09318671 </td><td>0.008416714</td><td>0.09180203 </td><td>0.09459009 </td><td>1          </td></tr>\n",
       "\t<tr><td>Female     </td><td>0.07226592 </td><td>0.009460752</td><td>0.07103257 </td><td>0.07351899 </td><td>1          </td></tr>\n",
       "</tbody>\n",
       "</table>\n"
      ],
      "text/latex": [
       "\\begin{tabular}{r|llllll}\n",
       " x & predicted & std.error & conf.low & conf.high & group\\\\\n",
       "\\hline\n",
       "\t Male        & 0.09318671  & 0.008416714 & 0.09180203  & 0.09459009  & 1          \\\\\n",
       "\t Female      & 0.07226592  & 0.009460752 & 0.07103257  & 0.07351899  & 1          \\\\\n",
       "\\end{tabular}\n"
      ],
      "text/markdown": [
       "\n",
       "| x | predicted | std.error | conf.low | conf.high | group |\n",
       "|---|---|---|---|---|---|\n",
       "| Male        | 0.09318671  | 0.008416714 | 0.09180203  | 0.09459009  | 1           |\n",
       "| Female      | 0.07226592  | 0.009460752 | 0.07103257  | 0.07351899  | 1           |\n",
       "\n"
      ],
      "text/plain": [
       "  x      predicted  std.error   conf.low   conf.high  group\n",
       "1 Male   0.09318671 0.008416714 0.09180203 0.09459009 1    \n",
       "2 Female 0.07226592 0.009460752 0.07103257 0.07351899 1    "
      ]
     },
     "metadata": {},
     "output_type": "display_data"
    }
   ],
   "source": [
    "MEs"
   ]
  },
  {
   "cell_type": "code",
   "execution_count": 22,
   "id": "0475b4c7",
   "metadata": {},
   "outputs": [],
   "source": [
    "fname = paste(data_root, 'pred_original.csv', sep = '')\n",
    "write.csv(MEs, fname, row.names = FALSE)"
   ]
  },
  {
   "cell_type": "markdown",
   "id": "943a6deb",
   "metadata": {},
   "source": [
    "### Retweets"
   ]
  },
  {
   "cell_type": "code",
   "execution_count": 23,
   "id": "0e7d1347",
   "metadata": {},
   "outputs": [],
   "source": [
    "base_str <- \"self_promotion_retweet ~ 1 + gender + authorship_pos + author_pub_count_cate + I(author_pub_count_cate^2) + \\\n",
    "            affiliation_rank_cate + affiliation_cate + num_authors + journal_impact + author_citation_log\"\n"
   ]
  },
  {
   "cell_type": "code",
   "execution_count": 24,
   "id": "fcf8aef8",
   "metadata": {},
   "outputs": [],
   "source": [
    "equation <- as.formula(paste(base_str, \" + (1|doi) + \", keywords, sep = \" \"))\n",
    "m_retweet <- glmer(formula = equation, data = mydata, family = \"binomial\", control = glmerControl(optimizer = \"nloptwrap\"), nAGQ = 0)\n"
   ]
  },
  {
   "cell_type": "code",
   "execution_count": 25,
   "id": "f452da6a",
   "metadata": {
    "scrolled": true
   },
   "outputs": [
    {
     "data": {
      "text/html": [
       "<table>\n",
       "<thead><tr><th scope=col>effect</th><th scope=col>group</th><th scope=col>term</th><th scope=col>estimate</th><th scope=col>std.error</th><th scope=col>statistic</th><th scope=col>p.value</th></tr></thead>\n",
       "<tbody>\n",
       "\t<tr><td>fixed                                       </td><td>NA                                          </td><td>(Intercept)                                 </td><td>-3.632307796                                </td><td>0.0186314479                                </td><td>-194.9557440                                </td><td> 0.000000e+00                               </td></tr>\n",
       "\t<tr><td>fixed                                       </td><td>NA                                          </td><td>genderFemale                                </td><td>-0.250228543                                </td><td>0.0085830867                                </td><td> -29.1536775                                </td><td>7.503807e-187                               </td></tr>\n",
       "\t<tr><td>fixed                                       </td><td>NA                                          </td><td>authorship_posfirst_position                </td><td> 0.287997610                                </td><td>0.0121866082                                </td><td>  23.6323023                                </td><td>1.794850e-123                               </td></tr>\n",
       "\t<tr><td>fixed                                       </td><td>NA                                          </td><td>authorship_posmiddle_position               </td><td>-0.459530546                                </td><td>0.0104171289                                </td><td> -44.1129750                                </td><td> 0.000000e+00                               </td></tr>\n",
       "\t<tr><td>fixed                                       </td><td>NA                                          </td><td>authorship_possolo_author                   </td><td> 0.509622221                                </td><td>0.0283022279                                </td><td>  18.0064348                                </td><td> 1.734464e-72                               </td></tr>\n",
       "\t<tr><td>fixed                                       </td><td>NA                                          </td><td>author_pub_count_cate                       </td><td> 0.272779332                                </td><td>0.0073240789                                </td><td>  37.2441827                                </td><td>1.316141e-303                               </td></tr>\n",
       "\t<tr><td>fixed                                       </td><td>NA                                          </td><td>I(author_pub_count_cate^2)                  </td><td>-0.021798120                                </td><td>0.0006797217                                </td><td> -32.0691847                                </td><td>1.186118e-225                               </td></tr>\n",
       "\t<tr><td>fixed                                       </td><td>NA                                          </td><td>affiliation_rank_cate                       </td><td>-0.055432671                                </td><td>0.0016196035                                </td><td> -34.2260744                                </td><td>9.901163e-257                               </td></tr>\n",
       "\t<tr><td>fixed                                       </td><td>NA                                          </td><td>affiliation_cateinternational               </td><td> 0.044470960                                </td><td>0.0102902347                                </td><td>   4.3216663                                </td><td> 1.548553e-05                               </td></tr>\n",
       "\t<tr><td>fixed                                       </td><td>NA                                          </td><td>num_authors                                 </td><td>-0.001679848                                </td><td>0.0001311825                                </td><td> -12.8054242                                </td><td> 1.528880e-37                               </td></tr>\n",
       "\t<tr><td>fixed                                       </td><td>NA                                          </td><td>journal_impact                              </td><td> 0.043475351                                </td><td>0.0006769818                                </td><td>  64.2193832                                </td><td> 0.000000e+00                               </td></tr>\n",
       "\t<tr><td>fixed                                       </td><td>NA                                          </td><td>author_citation_log                         </td><td>-0.039551132                                </td><td>0.0023912671                                </td><td> -16.5398216                                </td><td> 1.895828e-61                               </td></tr>\n",
       "\t<tr><td>fixed                                       </td><td>NA                                          </td><td>Social_Sciences                             </td><td> 0.911356922                                </td><td>0.0230358456                                </td><td>  39.5625557                                </td><td> 0.000000e+00                               </td></tr>\n",
       "\t<tr><td>fixed                                       </td><td>NA                                          </td><td>Materials_Science                           </td><td>-0.302346095                                </td><td>0.0387481232                                </td><td>  -7.8028578                                </td><td> 6.052074e-15                               </td></tr>\n",
       "\t<tr><td>fixed                                       </td><td>NA                                          </td><td>Engineering                                 </td><td>-0.596932126                                </td><td>0.0352116241                                </td><td> -16.9527007                                </td><td> 1.838126e-64                               </td></tr>\n",
       "\t<tr><td>fixed                                       </td><td>NA                                          </td><td>Chemistry                                   </td><td>-0.478194295                                </td><td>0.0277488781                                </td><td> -17.2329236                                </td><td> 1.503560e-66                               </td></tr>\n",
       "\t<tr><td>fixed                                       </td><td>NA                                          </td><td>Biochemistry__Genetics_and_Molecular_Biology</td><td>-0.173569021                                </td><td>0.0152707479                                </td><td> -11.3661114                                </td><td> 6.167445e-30                               </td></tr>\n",
       "\t<tr><td>fixed                                       </td><td>NA                                          </td><td>Medicine                                    </td><td>-0.221871360                                </td><td>0.0122653983                                </td><td> -18.0892095                                </td><td> 3.876070e-73                               </td></tr>\n",
       "\t<tr><td>fixed                                       </td><td>NA                                          </td><td>Nursing                                     </td><td> 0.198751179                                </td><td>0.0365454820                                </td><td>   5.4384610                                </td><td> 5.374277e-08                               </td></tr>\n",
       "\t<tr><td>fixed                                       </td><td>NA                                          </td><td>Agricultural_and_Biological_Sciences        </td><td> 0.446066773                                </td><td>0.0182888140                                </td><td>  24.3901421                                </td><td>2.175995e-131                               </td></tr>\n",
       "\t<tr><td>fixed                                       </td><td>NA                                          </td><td>Pharmacology__Toxicology_and_Pharmaceutics  </td><td>-0.647296459                                </td><td>0.0377212545                                </td><td> -17.1599929                                </td><td> 5.292009e-66                               </td></tr>\n",
       "\t<tr><td>fixed                                       </td><td>NA                                          </td><td>Neuroscience                                </td><td>-0.030287278                                </td><td>0.0256745020                                </td><td>  -1.1796637                                </td><td> 2.381340e-01                               </td></tr>\n",
       "\t<tr><td>fixed                                       </td><td>NA                                          </td><td>Business__Management_and_Accounting         </td><td>-0.381868339                                </td><td>0.0467104198                                </td><td>  -8.1752282                                </td><td> 2.953065e-16                               </td></tr>\n",
       "\t<tr><td>fixed                                       </td><td>NA                                          </td><td>Economics__Econometrics_and_Finance         </td><td>-0.436373126                                </td><td>0.0486883423                                </td><td>  -8.9625792                                </td><td> 3.171709e-19                               </td></tr>\n",
       "\t<tr><td>fixed                                       </td><td>NA                                          </td><td>Chemical_Engineering                        </td><td> 0.207626680                                </td><td>0.0418084349                                </td><td>   4.9661433                                </td><td> 6.829748e-07                               </td></tr>\n",
       "\t<tr><td>fixed                                       </td><td>NA                                          </td><td>Physics_and_Astronomy                       </td><td>-0.914609504                                </td><td>0.0357300097                                </td><td> -25.5977961                                </td><td>1.614220e-144                               </td></tr>\n",
       "\t<tr><td>fixed                                       </td><td>NA                                          </td><td>Computer_Science                            </td><td>-0.027762791                                </td><td>0.0375641803                                </td><td>  -0.7390762                                </td><td> 4.598607e-01                               </td></tr>\n",
       "\t<tr><td>fixed                                       </td><td>NA                                          </td><td>Decision_Sciences                           </td><td>-0.733139052                                </td><td>0.0813479011                                </td><td>  -9.0123905                                </td><td> 2.016130e-19                               </td></tr>\n",
       "\t<tr><td>fixed                                       </td><td>NA                                          </td><td>Health_Professions                          </td><td> 1.075189373                                </td><td>0.0387517522                                </td><td>  27.7455680                                </td><td>1.970816e-169                               </td></tr>\n",
       "\t<tr><td>fixed                                       </td><td>NA                                          </td><td>Psychology                                  </td><td>-0.704383550                                </td><td>0.0349428778                                </td><td> -20.1581436                                </td><td> 2.282876e-90                               </td></tr>\n",
       "\t<tr><td>fixed                                       </td><td>NA                                          </td><td>Immunology_and_Microbiology                 </td><td>-0.076306906                                </td><td>0.0283506437                                </td><td>  -2.6915405                                </td><td> 7.112286e-03                               </td></tr>\n",
       "\t<tr><td>fixed                                       </td><td>NA                                          </td><td>Dentistry                                   </td><td>-1.461888963                                </td><td>0.1556177311                                </td><td>  -9.3941028                                </td><td> 5.770753e-21                               </td></tr>\n",
       "\t<tr><td>fixed                                       </td><td>NA                                          </td><td>Earth_and_Planetary_Sciences                </td><td>-0.204480836                                </td><td>0.0308437489                                </td><td>  -6.6295714                                </td><td> 3.366630e-11                               </td></tr>\n",
       "\t<tr><td>fixed                                       </td><td>NA                                          </td><td>Environmental_Science                       </td><td> 0.128946612                                </td><td>0.0223121370                                </td><td>   5.7792139                                </td><td> 7.505046e-09                               </td></tr>\n",
       "\t<tr><td>fixed                                       </td><td>NA                                          </td><td>Mathematics                                 </td><td>-0.381525806                                </td><td>0.0503140109                                </td><td>  -7.5828939                                </td><td> 3.379312e-14                               </td></tr>\n",
       "\t<tr><td>fixed                                       </td><td>NA                                          </td><td>Arts_and_Humanities                         </td><td>-0.278104412                                </td><td>0.0587773443                                </td><td>  -4.7314899                                </td><td> 2.228779e-06                               </td></tr>\n",
       "\t<tr><td>fixed                                       </td><td>NA                                          </td><td>Energy                                      </td><td>-0.656262402                                </td><td>0.0644022604                                </td><td> -10.1900523                                </td><td> 2.196460e-24                               </td></tr>\n",
       "\t<tr><td>fixed                                       </td><td>NA                                          </td><td>Veterinary                                  </td><td>-0.979025566                                </td><td>0.0826871268                                </td><td> -11.8401208                                </td><td> 2.421041e-32                               </td></tr>\n",
       "\t<tr><td>fixed                                       </td><td>NA                                          </td><td>General                                     </td><td> 0.289816863                                </td><td>0.0383835080                                </td><td>   7.5505569                                </td><td> 4.334009e-14                               </td></tr>\n",
       "\t<tr><td>ran_pars                                    </td><td>doi                                         </td><td>sd__(Intercept)                             </td><td> 1.789971316                                </td><td>          NA                                </td><td>          NA                                </td><td>           NA                               </td></tr>\n",
       "</tbody>\n",
       "</table>\n"
      ],
      "text/latex": [
       "\\begin{tabular}{r|lllllll}\n",
       " effect & group & term & estimate & std.error & statistic & p.value\\\\\n",
       "\\hline\n",
       "\t fixed                                        & NA                                           & (Intercept)                                  & -3.632307796                                 & 0.0186314479                                 & -194.9557440                                 &  0.000000e+00                               \\\\\n",
       "\t fixed                                        & NA                                           & genderFemale                                 & -0.250228543                                 & 0.0085830867                                 &  -29.1536775                                 & 7.503807e-187                               \\\\\n",
       "\t fixed                                            & NA                                               & authorship\\_posfirst\\_position                 &  0.287997610                                     & 0.0121866082                                     &   23.6323023                                     & 1.794850e-123                                   \\\\\n",
       "\t fixed                                            & NA                                               & authorship\\_posmiddle\\_position                & -0.459530546                                     & 0.0104171289                                     &  -44.1129750                                     &  0.000000e+00                                   \\\\\n",
       "\t fixed                                            & NA                                               & authorship\\_possolo\\_author                    &  0.509622221                                     & 0.0283022279                                     &   18.0064348                                     &  1.734464e-72                                   \\\\\n",
       "\t fixed                                              & NA                                                 & author\\_pub\\_count\\_cate                        &  0.272779332                                       & 0.0073240789                                       &   37.2441827                                       & 1.316141e-303                                     \\\\\n",
       "\t fixed                                                                & NA                                                                   & I(author\\_pub\\_count\\_cate\\textasciicircum{}2)                   & -0.021798120                                                         & 0.0006797217                                                         &  -32.0691847                                                         & 1.186118e-225                                                       \\\\\n",
       "\t fixed                                            & NA                                               & affiliation\\_rank\\_cate                        & -0.055432671                                     & 0.0016196035                                     &  -34.2260744                                     & 9.901163e-257                                   \\\\\n",
       "\t fixed                                          & NA                                             & affiliation\\_cateinternational                &  0.044470960                                   & 0.0102902347                                   &    4.3216663                                   &  1.548553e-05                                 \\\\\n",
       "\t fixed                                          & NA                                             & num\\_authors                                  & -0.001679848                                   & 0.0001311825                                   &  -12.8054242                                   &  1.528880e-37                                 \\\\\n",
       "\t fixed                                          & NA                                             & journal\\_impact                               &  0.043475351                                   & 0.0006769818                                   &   64.2193832                                   &  0.000000e+00                                 \\\\\n",
       "\t fixed                                            & NA                                               & author\\_citation\\_log                          & -0.039551132                                     & 0.0023912671                                     &  -16.5398216                                     &  1.895828e-61                                   \\\\\n",
       "\t fixed                                          & NA                                             & Social\\_Sciences                              &  0.911356922                                   & 0.0230358456                                   &   39.5625557                                   &  0.000000e+00                                 \\\\\n",
       "\t fixed                                          & NA                                             & Materials\\_Science                            & -0.302346095                                   & 0.0387481232                                   &   -7.8028578                                   &  6.052074e-15                                 \\\\\n",
       "\t fixed                                        & NA                                           & Engineering                                  & -0.596932126                                 & 0.0352116241                                 &  -16.9527007                                 &  1.838126e-64                               \\\\\n",
       "\t fixed                                        & NA                                           & Chemistry                                    & -0.478194295                                 & 0.0277488781                                 &  -17.2329236                                 &  1.503560e-66                               \\\\\n",
       "\t fixed                                                  & NA                                                     & Biochemistry\\_\\_Genetics\\_and\\_Molecular\\_Biology & -0.173569021                                           & 0.0152707479                                           &  -11.3661114                                           &  6.167445e-30                                         \\\\\n",
       "\t fixed                                        & NA                                           & Medicine                                     & -0.221871360                                 & 0.0122653983                                 &  -18.0892095                                 &  3.876070e-73                               \\\\\n",
       "\t fixed                                        & NA                                           & Nursing                                      &  0.198751179                                 & 0.0365454820                                 &    5.4384610                                 &  5.374277e-08                               \\\\\n",
       "\t fixed                                              & NA                                                 & Agricultural\\_and\\_Biological\\_Sciences         &  0.446066773                                       & 0.0182888140                                       &   24.3901421                                       & 2.175995e-131                                     \\\\\n",
       "\t fixed                                                & NA                                                   & Pharmacology\\_\\_Toxicology\\_and\\_Pharmaceutics   & -0.647296459                                         & 0.0377212545                                         &  -17.1599929                                         &  5.292009e-66                                       \\\\\n",
       "\t fixed                                        & NA                                           & Neuroscience                                 & -0.030287278                                 & 0.0256745020                                 &   -1.1796637                                 &  2.381340e-01                               \\\\\n",
       "\t fixed                                                & NA                                                   & Business\\_\\_Management\\_and\\_Accounting          & -0.381868339                                         & 0.0467104198                                         &   -8.1752282                                         &  2.953065e-16                                       \\\\\n",
       "\t fixed                                                & NA                                                   & Economics\\_\\_Econometrics\\_and\\_Finance          & -0.436373126                                         & 0.0486883423                                         &   -8.9625792                                         &  3.171709e-19                                       \\\\\n",
       "\t fixed                                          & NA                                             & Chemical\\_Engineering                         &  0.207626680                                   & 0.0418084349                                   &    4.9661433                                   &  6.829748e-07                                 \\\\\n",
       "\t fixed                                            & NA                                               & Physics\\_and\\_Astronomy                        & -0.914609504                                     & 0.0357300097                                     &  -25.5977961                                     & 1.614220e-144                                   \\\\\n",
       "\t fixed                                          & NA                                             & Computer\\_Science                             & -0.027762791                                   & 0.0375641803                                   &   -0.7390762                                   &  4.598607e-01                                 \\\\\n",
       "\t fixed                                          & NA                                             & Decision\\_Sciences                            & -0.733139052                                   & 0.0813479011                                   &   -9.0123905                                   &  2.016130e-19                                 \\\\\n",
       "\t fixed                                          & NA                                             & Health\\_Professions                           &  1.075189373                                   & 0.0387517522                                   &   27.7455680                                   & 1.970816e-169                                 \\\\\n",
       "\t fixed                                        & NA                                           & Psychology                                   & -0.704383550                                 & 0.0349428778                                 &  -20.1581436                                 &  2.282876e-90                               \\\\\n",
       "\t fixed                                            & NA                                               & Immunology\\_and\\_Microbiology                  & -0.076306906                                     & 0.0283506437                                     &   -2.6915405                                     &  7.112286e-03                                   \\\\\n",
       "\t fixed                                        & NA                                           & Dentistry                                    & -1.461888963                                 & 0.1556177311                                 &   -9.3941028                                 &  5.770753e-21                               \\\\\n",
       "\t fixed                                              & NA                                                 & Earth\\_and\\_Planetary\\_Sciences                 & -0.204480836                                       & 0.0308437489                                       &   -6.6295714                                       &  3.366630e-11                                     \\\\\n",
       "\t fixed                                          & NA                                             & Environmental\\_Science                        &  0.128946612                                   & 0.0223121370                                   &    5.7792139                                   &  7.505046e-09                                 \\\\\n",
       "\t fixed                                        & NA                                           & Mathematics                                  & -0.381525806                                 & 0.0503140109                                 &   -7.5828939                                 &  3.379312e-14                               \\\\\n",
       "\t fixed                                            & NA                                               & Arts\\_and\\_Humanities                          & -0.278104412                                     & 0.0587773443                                     &   -4.7314899                                     &  2.228779e-06                                   \\\\\n",
       "\t fixed                                        & NA                                           & Energy                                       & -0.656262402                                 & 0.0644022604                                 &  -10.1900523                                 &  2.196460e-24                               \\\\\n",
       "\t fixed                                        & NA                                           & Veterinary                                   & -0.979025566                                 & 0.0826871268                                 &  -11.8401208                                 &  2.421041e-32                               \\\\\n",
       "\t fixed                                        & NA                                           & General                                      &  0.289816863                                 & 0.0383835080                                 &    7.5505569                                 &  4.334009e-14                               \\\\\n",
       "\t ran\\_pars                                       & doi                                              & sd\\_\\_(Intercept)                              &  1.789971316                                     &           NA                                     &           NA                                     &            NA                                   \\\\\n",
       "\\end{tabular}\n"
      ],
      "text/markdown": [
       "\n",
       "| effect | group | term | estimate | std.error | statistic | p.value |\n",
       "|---|---|---|---|---|---|---|\n",
       "| fixed                                        | NA                                           | (Intercept)                                  | -3.632307796                                 | 0.0186314479                                 | -194.9557440                                 |  0.000000e+00                                |\n",
       "| fixed                                        | NA                                           | genderFemale                                 | -0.250228543                                 | 0.0085830867                                 |  -29.1536775                                 | 7.503807e-187                                |\n",
       "| fixed                                        | NA                                           | authorship_posfirst_position                 |  0.287997610                                 | 0.0121866082                                 |   23.6323023                                 | 1.794850e-123                                |\n",
       "| fixed                                        | NA                                           | authorship_posmiddle_position                | -0.459530546                                 | 0.0104171289                                 |  -44.1129750                                 |  0.000000e+00                                |\n",
       "| fixed                                        | NA                                           | authorship_possolo_author                    |  0.509622221                                 | 0.0283022279                                 |   18.0064348                                 |  1.734464e-72                                |\n",
       "| fixed                                        | NA                                           | author_pub_count_cate                        |  0.272779332                                 | 0.0073240789                                 |   37.2441827                                 | 1.316141e-303                                |\n",
       "| fixed                                        | NA                                           | I(author_pub_count_cate^2)                   | -0.021798120                                 | 0.0006797217                                 |  -32.0691847                                 | 1.186118e-225                                |\n",
       "| fixed                                        | NA                                           | affiliation_rank_cate                        | -0.055432671                                 | 0.0016196035                                 |  -34.2260744                                 | 9.901163e-257                                |\n",
       "| fixed                                        | NA                                           | affiliation_cateinternational                |  0.044470960                                 | 0.0102902347                                 |    4.3216663                                 |  1.548553e-05                                |\n",
       "| fixed                                        | NA                                           | num_authors                                  | -0.001679848                                 | 0.0001311825                                 |  -12.8054242                                 |  1.528880e-37                                |\n",
       "| fixed                                        | NA                                           | journal_impact                               |  0.043475351                                 | 0.0006769818                                 |   64.2193832                                 |  0.000000e+00                                |\n",
       "| fixed                                        | NA                                           | author_citation_log                          | -0.039551132                                 | 0.0023912671                                 |  -16.5398216                                 |  1.895828e-61                                |\n",
       "| fixed                                        | NA                                           | Social_Sciences                              |  0.911356922                                 | 0.0230358456                                 |   39.5625557                                 |  0.000000e+00                                |\n",
       "| fixed                                        | NA                                           | Materials_Science                            | -0.302346095                                 | 0.0387481232                                 |   -7.8028578                                 |  6.052074e-15                                |\n",
       "| fixed                                        | NA                                           | Engineering                                  | -0.596932126                                 | 0.0352116241                                 |  -16.9527007                                 |  1.838126e-64                                |\n",
       "| fixed                                        | NA                                           | Chemistry                                    | -0.478194295                                 | 0.0277488781                                 |  -17.2329236                                 |  1.503560e-66                                |\n",
       "| fixed                                        | NA                                           | Biochemistry__Genetics_and_Molecular_Biology | -0.173569021                                 | 0.0152707479                                 |  -11.3661114                                 |  6.167445e-30                                |\n",
       "| fixed                                        | NA                                           | Medicine                                     | -0.221871360                                 | 0.0122653983                                 |  -18.0892095                                 |  3.876070e-73                                |\n",
       "| fixed                                        | NA                                           | Nursing                                      |  0.198751179                                 | 0.0365454820                                 |    5.4384610                                 |  5.374277e-08                                |\n",
       "| fixed                                        | NA                                           | Agricultural_and_Biological_Sciences         |  0.446066773                                 | 0.0182888140                                 |   24.3901421                                 | 2.175995e-131                                |\n",
       "| fixed                                        | NA                                           | Pharmacology__Toxicology_and_Pharmaceutics   | -0.647296459                                 | 0.0377212545                                 |  -17.1599929                                 |  5.292009e-66                                |\n",
       "| fixed                                        | NA                                           | Neuroscience                                 | -0.030287278                                 | 0.0256745020                                 |   -1.1796637                                 |  2.381340e-01                                |\n",
       "| fixed                                        | NA                                           | Business__Management_and_Accounting          | -0.381868339                                 | 0.0467104198                                 |   -8.1752282                                 |  2.953065e-16                                |\n",
       "| fixed                                        | NA                                           | Economics__Econometrics_and_Finance          | -0.436373126                                 | 0.0486883423                                 |   -8.9625792                                 |  3.171709e-19                                |\n",
       "| fixed                                        | NA                                           | Chemical_Engineering                         |  0.207626680                                 | 0.0418084349                                 |    4.9661433                                 |  6.829748e-07                                |\n",
       "| fixed                                        | NA                                           | Physics_and_Astronomy                        | -0.914609504                                 | 0.0357300097                                 |  -25.5977961                                 | 1.614220e-144                                |\n",
       "| fixed                                        | NA                                           | Computer_Science                             | -0.027762791                                 | 0.0375641803                                 |   -0.7390762                                 |  4.598607e-01                                |\n",
       "| fixed                                        | NA                                           | Decision_Sciences                            | -0.733139052                                 | 0.0813479011                                 |   -9.0123905                                 |  2.016130e-19                                |\n",
       "| fixed                                        | NA                                           | Health_Professions                           |  1.075189373                                 | 0.0387517522                                 |   27.7455680                                 | 1.970816e-169                                |\n",
       "| fixed                                        | NA                                           | Psychology                                   | -0.704383550                                 | 0.0349428778                                 |  -20.1581436                                 |  2.282876e-90                                |\n",
       "| fixed                                        | NA                                           | Immunology_and_Microbiology                  | -0.076306906                                 | 0.0283506437                                 |   -2.6915405                                 |  7.112286e-03                                |\n",
       "| fixed                                        | NA                                           | Dentistry                                    | -1.461888963                                 | 0.1556177311                                 |   -9.3941028                                 |  5.770753e-21                                |\n",
       "| fixed                                        | NA                                           | Earth_and_Planetary_Sciences                 | -0.204480836                                 | 0.0308437489                                 |   -6.6295714                                 |  3.366630e-11                                |\n",
       "| fixed                                        | NA                                           | Environmental_Science                        |  0.128946612                                 | 0.0223121370                                 |    5.7792139                                 |  7.505046e-09                                |\n",
       "| fixed                                        | NA                                           | Mathematics                                  | -0.381525806                                 | 0.0503140109                                 |   -7.5828939                                 |  3.379312e-14                                |\n",
       "| fixed                                        | NA                                           | Arts_and_Humanities                          | -0.278104412                                 | 0.0587773443                                 |   -4.7314899                                 |  2.228779e-06                                |\n",
       "| fixed                                        | NA                                           | Energy                                       | -0.656262402                                 | 0.0644022604                                 |  -10.1900523                                 |  2.196460e-24                                |\n",
       "| fixed                                        | NA                                           | Veterinary                                   | -0.979025566                                 | 0.0826871268                                 |  -11.8401208                                 |  2.421041e-32                                |\n",
       "| fixed                                        | NA                                           | General                                      |  0.289816863                                 | 0.0383835080                                 |    7.5505569                                 |  4.334009e-14                                |\n",
       "| ran_pars                                     | doi                                          | sd__(Intercept)                              |  1.789971316                                 |           NA                                 |           NA                                 |            NA                                |\n",
       "\n"
      ],
      "text/plain": [
       "   effect   group term                                         estimate    \n",
       "1  fixed    NA    (Intercept)                                  -3.632307796\n",
       "2  fixed    NA    genderFemale                                 -0.250228543\n",
       "3  fixed    NA    authorship_posfirst_position                  0.287997610\n",
       "4  fixed    NA    authorship_posmiddle_position                -0.459530546\n",
       "5  fixed    NA    authorship_possolo_author                     0.509622221\n",
       "6  fixed    NA    author_pub_count_cate                         0.272779332\n",
       "7  fixed    NA    I(author_pub_count_cate^2)                   -0.021798120\n",
       "8  fixed    NA    affiliation_rank_cate                        -0.055432671\n",
       "9  fixed    NA    affiliation_cateinternational                 0.044470960\n",
       "10 fixed    NA    num_authors                                  -0.001679848\n",
       "11 fixed    NA    journal_impact                                0.043475351\n",
       "12 fixed    NA    author_citation_log                          -0.039551132\n",
       "13 fixed    NA    Social_Sciences                               0.911356922\n",
       "14 fixed    NA    Materials_Science                            -0.302346095\n",
       "15 fixed    NA    Engineering                                  -0.596932126\n",
       "16 fixed    NA    Chemistry                                    -0.478194295\n",
       "17 fixed    NA    Biochemistry__Genetics_and_Molecular_Biology -0.173569021\n",
       "18 fixed    NA    Medicine                                     -0.221871360\n",
       "19 fixed    NA    Nursing                                       0.198751179\n",
       "20 fixed    NA    Agricultural_and_Biological_Sciences          0.446066773\n",
       "21 fixed    NA    Pharmacology__Toxicology_and_Pharmaceutics   -0.647296459\n",
       "22 fixed    NA    Neuroscience                                 -0.030287278\n",
       "23 fixed    NA    Business__Management_and_Accounting          -0.381868339\n",
       "24 fixed    NA    Economics__Econometrics_and_Finance          -0.436373126\n",
       "25 fixed    NA    Chemical_Engineering                          0.207626680\n",
       "26 fixed    NA    Physics_and_Astronomy                        -0.914609504\n",
       "27 fixed    NA    Computer_Science                             -0.027762791\n",
       "28 fixed    NA    Decision_Sciences                            -0.733139052\n",
       "29 fixed    NA    Health_Professions                            1.075189373\n",
       "30 fixed    NA    Psychology                                   -0.704383550\n",
       "31 fixed    NA    Immunology_and_Microbiology                  -0.076306906\n",
       "32 fixed    NA    Dentistry                                    -1.461888963\n",
       "33 fixed    NA    Earth_and_Planetary_Sciences                 -0.204480836\n",
       "34 fixed    NA    Environmental_Science                         0.128946612\n",
       "35 fixed    NA    Mathematics                                  -0.381525806\n",
       "36 fixed    NA    Arts_and_Humanities                          -0.278104412\n",
       "37 fixed    NA    Energy                                       -0.656262402\n",
       "38 fixed    NA    Veterinary                                   -0.979025566\n",
       "39 fixed    NA    General                                       0.289816863\n",
       "40 ran_pars doi   sd__(Intercept)                               1.789971316\n",
       "   std.error    statistic    p.value      \n",
       "1  0.0186314479 -194.9557440  0.000000e+00\n",
       "2  0.0085830867  -29.1536775 7.503807e-187\n",
       "3  0.0121866082   23.6323023 1.794850e-123\n",
       "4  0.0104171289  -44.1129750  0.000000e+00\n",
       "5  0.0283022279   18.0064348  1.734464e-72\n",
       "6  0.0073240789   37.2441827 1.316141e-303\n",
       "7  0.0006797217  -32.0691847 1.186118e-225\n",
       "8  0.0016196035  -34.2260744 9.901163e-257\n",
       "9  0.0102902347    4.3216663  1.548553e-05\n",
       "10 0.0001311825  -12.8054242  1.528880e-37\n",
       "11 0.0006769818   64.2193832  0.000000e+00\n",
       "12 0.0023912671  -16.5398216  1.895828e-61\n",
       "13 0.0230358456   39.5625557  0.000000e+00\n",
       "14 0.0387481232   -7.8028578  6.052074e-15\n",
       "15 0.0352116241  -16.9527007  1.838126e-64\n",
       "16 0.0277488781  -17.2329236  1.503560e-66\n",
       "17 0.0152707479  -11.3661114  6.167445e-30\n",
       "18 0.0122653983  -18.0892095  3.876070e-73\n",
       "19 0.0365454820    5.4384610  5.374277e-08\n",
       "20 0.0182888140   24.3901421 2.175995e-131\n",
       "21 0.0377212545  -17.1599929  5.292009e-66\n",
       "22 0.0256745020   -1.1796637  2.381340e-01\n",
       "23 0.0467104198   -8.1752282  2.953065e-16\n",
       "24 0.0486883423   -8.9625792  3.171709e-19\n",
       "25 0.0418084349    4.9661433  6.829748e-07\n",
       "26 0.0357300097  -25.5977961 1.614220e-144\n",
       "27 0.0375641803   -0.7390762  4.598607e-01\n",
       "28 0.0813479011   -9.0123905  2.016130e-19\n",
       "29 0.0387517522   27.7455680 1.970816e-169\n",
       "30 0.0349428778  -20.1581436  2.282876e-90\n",
       "31 0.0283506437   -2.6915405  7.112286e-03\n",
       "32 0.1556177311   -9.3941028  5.770753e-21\n",
       "33 0.0308437489   -6.6295714  3.366630e-11\n",
       "34 0.0223121370    5.7792139  7.505046e-09\n",
       "35 0.0503140109   -7.5828939  3.379312e-14\n",
       "36 0.0587773443   -4.7314899  2.228779e-06\n",
       "37 0.0644022604  -10.1900523  2.196460e-24\n",
       "38 0.0826871268  -11.8401208  2.421041e-32\n",
       "39 0.0383835080    7.5505569  4.334009e-14\n",
       "40           NA           NA            NA"
      ]
     },
     "metadata": {},
     "output_type": "display_data"
    }
   ],
   "source": [
    "tidy(m_retweet)"
   ]
  },
  {
   "cell_type": "code",
   "execution_count": 26,
   "id": "d88149ac",
   "metadata": {},
   "outputs": [
    {
     "name": "stderr",
     "output_type": "stream",
     "text": [
      "Model contains polynomial or cubic / quadratic terms. Consider using `terms=\"gender [all]\"` to get smooth plots. See also package-vignette 'Marginal Effects at Specific Values'.\n"
     ]
    }
   ],
   "source": [
    "# weighted average for factor variable, median for non-factor variables\n",
    "MEs = ggemmeans(m_retweet, terms=c('gender'), typical='median')"
   ]
  },
  {
   "cell_type": "code",
   "execution_count": 27,
   "id": "a790d53d",
   "metadata": {},
   "outputs": [
    {
     "data": {
      "text/html": [
       "<table>\n",
       "<thead><tr><th scope=col>x</th><th scope=col>predicted</th><th scope=col>std.error</th><th scope=col>conf.low</th><th scope=col>conf.high</th><th scope=col>group</th></tr></thead>\n",
       "<tbody>\n",
       "\t<tr><td>Male      </td><td>0.04070993</td><td>0.01199497</td><td>0.03980167</td><td>0.04163803</td><td>1         </td></tr>\n",
       "\t<tr><td>Female    </td><td>0.03198595</td><td>0.01302369</td><td>0.03120496</td><td>0.03278582</td><td>1         </td></tr>\n",
       "</tbody>\n",
       "</table>\n"
      ],
      "text/latex": [
       "\\begin{tabular}{r|llllll}\n",
       " x & predicted & std.error & conf.low & conf.high & group\\\\\n",
       "\\hline\n",
       "\t Male       & 0.04070993 & 0.01199497 & 0.03980167 & 0.04163803 & 1         \\\\\n",
       "\t Female     & 0.03198595 & 0.01302369 & 0.03120496 & 0.03278582 & 1         \\\\\n",
       "\\end{tabular}\n"
      ],
      "text/markdown": [
       "\n",
       "| x | predicted | std.error | conf.low | conf.high | group |\n",
       "|---|---|---|---|---|---|\n",
       "| Male       | 0.04070993 | 0.01199497 | 0.03980167 | 0.04163803 | 1          |\n",
       "| Female     | 0.03198595 | 0.01302369 | 0.03120496 | 0.03278582 | 1          |\n",
       "\n"
      ],
      "text/plain": [
       "  x      predicted  std.error  conf.low   conf.high  group\n",
       "1 Male   0.04070993 0.01199497 0.03980167 0.04163803 1    \n",
       "2 Female 0.03198595 0.01302369 0.03120496 0.03278582 1    "
      ]
     },
     "metadata": {},
     "output_type": "display_data"
    }
   ],
   "source": [
    "MEs"
   ]
  },
  {
   "cell_type": "code",
   "execution_count": 28,
   "id": "346fe93b",
   "metadata": {},
   "outputs": [],
   "source": [
    "fname = paste(data_root, 'pred_retweet.csv', sep = '')\n",
    "write.csv(MEs, fname, row.names = FALSE)"
   ]
  },
  {
   "cell_type": "markdown",
   "id": "fe06d264",
   "metadata": {},
   "source": [
    "### All tweets"
   ]
  },
  {
   "cell_type": "code",
   "execution_count": 29,
   "id": "bd028eb8",
   "metadata": {},
   "outputs": [],
   "source": [
    "base_str <- \"self_promotion ~ 1 + gender + authorship_pos + author_pub_count_cate + I(author_pub_count_cate^2) + \\\n",
    "            affiliation_rank_cate + affiliation_cate + num_authors + journal_impact + author_citation_log\""
   ]
  },
  {
   "cell_type": "code",
   "execution_count": 30,
   "id": "33a7cef5",
   "metadata": {},
   "outputs": [],
   "source": [
    "equation <- as.formula(paste(base_str, \" + (1|doi) + \", keywords, sep = \" \"))\n",
    "m_all_tw <- glmer(formula = equation, data = mydata, family = \"binomial\", control = glmerControl(optimizer = \"nloptwrap\"), nAGQ = 0)\n"
   ]
  },
  {
   "cell_type": "code",
   "execution_count": 31,
   "id": "3898a233",
   "metadata": {
    "scrolled": true
   },
   "outputs": [
    {
     "data": {
      "text/html": [
       "<table>\n",
       "<thead><tr><th scope=col>effect</th><th scope=col>group</th><th scope=col>term</th><th scope=col>estimate</th><th scope=col>std.error</th><th scope=col>statistic</th><th scope=col>p.value</th></tr></thead>\n",
       "<tbody>\n",
       "\t<tr><td>fixed                                       </td><td>NA                                          </td><td>(Intercept)                                 </td><td>-2.723197676                                </td><td>1.384108e-02                                </td><td>-196.747464                                 </td><td> 0.000000e+00                               </td></tr>\n",
       "\t<tr><td>fixed                                       </td><td>NA                                          </td><td>genderFemale                                </td><td>-0.275823356                                </td><td>6.462962e-03                                </td><td> -42.677546                                 </td><td> 0.000000e+00                               </td></tr>\n",
       "\t<tr><td>fixed                                       </td><td>NA                                          </td><td>authorship_posfirst_position                </td><td> 0.319948786                                </td><td>8.771290e-03                                </td><td>  36.476820                                 </td><td>2.585283e-291                               </td></tr>\n",
       "\t<tr><td>fixed                                       </td><td>NA                                          </td><td>authorship_posmiddle_position               </td><td>-0.679409761                                </td><td>7.624535e-03                                </td><td> -89.108353                                 </td><td> 0.000000e+00                               </td></tr>\n",
       "\t<tr><td>fixed                                       </td><td>NA                                          </td><td>authorship_possolo_author                   </td><td> 0.752657111                                </td><td>1.972544e-02                                </td><td>  38.156679                                 </td><td> 0.000000e+00                               </td></tr>\n",
       "\t<tr><td>fixed                                       </td><td>NA                                          </td><td>author_pub_count_cate                       </td><td> 0.336465524                                </td><td>5.518380e-03                                </td><td>  60.971795                                 </td><td> 0.000000e+00                               </td></tr>\n",
       "\t<tr><td>fixed                                       </td><td>NA                                          </td><td>I(author_pub_count_cate^2)                  </td><td>-0.028507249                                </td><td>5.144134e-04                                </td><td> -55.417000                                 </td><td> 0.000000e+00                               </td></tr>\n",
       "\t<tr><td>fixed                                       </td><td>NA                                          </td><td>affiliation_rank_cate                       </td><td>-0.053857091                                </td><td>1.218774e-03                                </td><td> -44.189547                                 </td><td> 0.000000e+00                               </td></tr>\n",
       "\t<tr><td>fixed                                       </td><td>NA                                          </td><td>affiliation_cateinternational               </td><td> 0.022644346                                </td><td>7.701103e-03                                </td><td>   2.940403                                 </td><td> 3.277857e-03                               </td></tr>\n",
       "\t<tr><td>fixed                                       </td><td>NA                                          </td><td>num_authors                                 </td><td>-0.001670857                                </td><td>9.619019e-05                                </td><td> -17.370350                                 </td><td> 1.383788e-67                               </td></tr>\n",
       "\t<tr><td>fixed                                       </td><td>NA                                          </td><td>journal_impact                              </td><td> 0.035813800                                </td><td>5.485582e-04                                </td><td>  65.287149                                 </td><td> 0.000000e+00                               </td></tr>\n",
       "\t<tr><td>fixed                                       </td><td>NA                                          </td><td>author_citation_log                         </td><td>-0.043224062                                </td><td>1.806919e-03                                </td><td> -23.921423                                 </td><td>1.833428e-126                               </td></tr>\n",
       "\t<tr><td>fixed                                       </td><td>NA                                          </td><td>Social_Sciences                             </td><td> 0.946427549                                </td><td>1.708157e-02                                </td><td>  55.406345                                 </td><td> 0.000000e+00                               </td></tr>\n",
       "\t<tr><td>fixed                                       </td><td>NA                                          </td><td>Materials_Science                           </td><td>-0.157756222                                </td><td>2.522952e-02                                </td><td>  -6.252842                                 </td><td> 4.030491e-10                               </td></tr>\n",
       "\t<tr><td>fixed                                       </td><td>NA                                          </td><td>Engineering                                 </td><td>-0.396211235                                </td><td>2.254781e-02                                </td><td> -17.572053                                 </td><td> 4.033105e-69                               </td></tr>\n",
       "\t<tr><td>fixed                                       </td><td>NA                                          </td><td>Chemistry                                   </td><td>-0.342175350                                </td><td>1.875184e-02                                </td><td> -18.247563                                 </td><td> 2.163465e-74                               </td></tr>\n",
       "\t<tr><td>fixed                                       </td><td>NA                                          </td><td>Biochemistry__Genetics_and_Molecular_Biology</td><td>-0.147277292                                </td><td>1.120899e-02                                </td><td> -13.139208                                 </td><td> 1.962694e-39                               </td></tr>\n",
       "\t<tr><td>fixed                                       </td><td>NA                                          </td><td>Medicine                                    </td><td>-0.302821431                                </td><td>9.104096e-03                                </td><td> -33.262107                                 </td><td>1.364237e-242                               </td></tr>\n",
       "\t<tr><td>fixed                                       </td><td>NA                                          </td><td>Nursing                                     </td><td> 0.203958615                                </td><td>2.730464e-02                                </td><td>   7.469742                                 </td><td> 8.035223e-14                               </td></tr>\n",
       "\t<tr><td>fixed                                       </td><td>NA                                          </td><td>Agricultural_and_Biological_Sciences        </td><td> 0.442629036                                </td><td>1.347954e-02                                </td><td>  32.837094                                 </td><td>1.740961e-236                               </td></tr>\n",
       "\t<tr><td>fixed                                       </td><td>NA                                          </td><td>Pharmacology__Toxicology_and_Pharmaceutics  </td><td>-0.510519587                                </td><td>2.555622e-02                                </td><td> -19.976332                                 </td><td> 8.849125e-89                               </td></tr>\n",
       "\t<tr><td>fixed                                       </td><td>NA                                          </td><td>Neuroscience                                </td><td> 0.039672171                                </td><td>1.866544e-02                                </td><td>   2.125434                                 </td><td> 3.355040e-02                               </td></tr>\n",
       "\t<tr><td>fixed                                       </td><td>NA                                          </td><td>Business__Management_and_Accounting         </td><td>-0.247530530                                </td><td>3.215857e-02                                </td><td>  -7.697188                                 </td><td> 1.390929e-14                               </td></tr>\n",
       "\t<tr><td>fixed                                       </td><td>NA                                          </td><td>Economics__Econometrics_and_Finance         </td><td>-0.422078714                                </td><td>3.458099e-02                                </td><td> -12.205512                                 </td><td> 2.904765e-34                               </td></tr>\n",
       "\t<tr><td>fixed                                       </td><td>NA                                          </td><td>Chemical_Engineering                        </td><td> 0.184139014                                </td><td>2.860162e-02                                </td><td>   6.438061                                 </td><td> 1.210090e-10                               </td></tr>\n",
       "\t<tr><td>fixed                                       </td><td>NA                                          </td><td>Physics_and_Astronomy                       </td><td>-0.735570437                                </td><td>2.272935e-02                                </td><td> -32.362148                                 </td><td>9.360668e-230                               </td></tr>\n",
       "\t<tr><td>fixed                                       </td><td>NA                                          </td><td>Computer_Science                            </td><td> 0.062965067                                </td><td>2.576094e-02                                </td><td>   2.444207                                 </td><td> 1.451709e-02                               </td></tr>\n",
       "\t<tr><td>fixed                                       </td><td>NA                                          </td><td>Decision_Sciences                           </td><td>-0.569489916                                </td><td>5.380370e-02                                </td><td> -10.584586                                 </td><td> 3.513321e-26                               </td></tr>\n",
       "\t<tr><td>fixed                                       </td><td>NA                                          </td><td>Health_Professions                          </td><td> 0.912642015                                </td><td>3.085437e-02                                </td><td>  29.579022                                 </td><td>2.781753e-192                               </td></tr>\n",
       "\t<tr><td>fixed                                       </td><td>NA                                          </td><td>Psychology                                  </td><td>-0.624453710                                </td><td>2.515573e-02                                </td><td> -24.823518                                 </td><td>4.997060e-136                               </td></tr>\n",
       "\t<tr><td>fixed                                       </td><td>NA                                          </td><td>Immunology_and_Microbiology                 </td><td>-0.092194367                                </td><td>2.099889e-02                                </td><td>  -4.390440                                 </td><td> 1.131213e-05                               </td></tr>\n",
       "\t<tr><td>fixed                                       </td><td>NA                                          </td><td>Dentistry                                   </td><td>-1.126862897                                </td><td>9.284881e-02                                </td><td> -12.136536                                 </td><td> 6.762870e-34                               </td></tr>\n",
       "\t<tr><td>fixed                                       </td><td>NA                                          </td><td>Earth_and_Planetary_Sciences                </td><td>-0.076042817                                </td><td>2.144116e-02                                </td><td>  -3.546581                                 </td><td> 3.902652e-04                               </td></tr>\n",
       "\t<tr><td>fixed                                       </td><td>NA                                          </td><td>Environmental_Science                       </td><td> 0.154683676                                </td><td>1.619044e-02                                </td><td>   9.554011                                 </td><td> 1.247700e-21                               </td></tr>\n",
       "\t<tr><td>fixed                                       </td><td>NA                                          </td><td>Mathematics                                 </td><td>-0.379834166                                </td><td>3.373065e-02                                </td><td> -11.260803                                 </td><td> 2.048830e-29                               </td></tr>\n",
       "\t<tr><td>fixed                                       </td><td>NA                                          </td><td>Arts_and_Humanities                         </td><td>-0.219475099                                </td><td>4.183736e-02                                </td><td>  -5.245911                                 </td><td> 1.555117e-07                               </td></tr>\n",
       "\t<tr><td>fixed                                       </td><td>NA                                          </td><td>Energy                                      </td><td>-0.362834304                                </td><td>4.029211e-02                                </td><td>  -9.005095                                 </td><td> 2.154783e-19                               </td></tr>\n",
       "\t<tr><td>fixed                                       </td><td>NA                                          </td><td>Veterinary                                  </td><td>-0.863319921                                </td><td>5.550352e-02                                </td><td> -15.554328                                 </td><td> 1.487085e-54                               </td></tr>\n",
       "\t<tr><td>fixed                                       </td><td>NA                                          </td><td>General                                     </td><td> 0.348237700                                </td><td>3.032181e-02                                </td><td>  11.484726                                 </td><td> 1.574336e-30                               </td></tr>\n",
       "\t<tr><td>ran_pars                                    </td><td>doi                                         </td><td>sd__(Intercept)                             </td><td> 1.494138601                                </td><td>          NA                                </td><td>         NA                                 </td><td>           NA                               </td></tr>\n",
       "</tbody>\n",
       "</table>\n"
      ],
      "text/latex": [
       "\\begin{tabular}{r|lllllll}\n",
       " effect & group & term & estimate & std.error & statistic & p.value\\\\\n",
       "\\hline\n",
       "\t fixed                                        & NA                                           & (Intercept)                                  & -2.723197676                                 & 1.384108e-02                                 & -196.747464                                  &  0.000000e+00                               \\\\\n",
       "\t fixed                                        & NA                                           & genderFemale                                 & -0.275823356                                 & 6.462962e-03                                 &  -42.677546                                  &  0.000000e+00                               \\\\\n",
       "\t fixed                                            & NA                                               & authorship\\_posfirst\\_position                 &  0.319948786                                     & 8.771290e-03                                     &   36.476820                                      & 2.585283e-291                                   \\\\\n",
       "\t fixed                                            & NA                                               & authorship\\_posmiddle\\_position                & -0.679409761                                     & 7.624535e-03                                     &  -89.108353                                      &  0.000000e+00                                   \\\\\n",
       "\t fixed                                            & NA                                               & authorship\\_possolo\\_author                    &  0.752657111                                     & 1.972544e-02                                     &   38.156679                                      &  0.000000e+00                                   \\\\\n",
       "\t fixed                                              & NA                                                 & author\\_pub\\_count\\_cate                        &  0.336465524                                       & 5.518380e-03                                       &   60.971795                                        &  0.000000e+00                                     \\\\\n",
       "\t fixed                                                                & NA                                                                   & I(author\\_pub\\_count\\_cate\\textasciicircum{}2)                   & -0.028507249                                                         & 5.144134e-04                                                         &  -55.417000                                                          &  0.000000e+00                                                       \\\\\n",
       "\t fixed                                            & NA                                               & affiliation\\_rank\\_cate                        & -0.053857091                                     & 1.218774e-03                                     &  -44.189547                                      &  0.000000e+00                                   \\\\\n",
       "\t fixed                                          & NA                                             & affiliation\\_cateinternational                &  0.022644346                                   & 7.701103e-03                                   &    2.940403                                    &  3.277857e-03                                 \\\\\n",
       "\t fixed                                          & NA                                             & num\\_authors                                  & -0.001670857                                   & 9.619019e-05                                   &  -17.370350                                    &  1.383788e-67                                 \\\\\n",
       "\t fixed                                          & NA                                             & journal\\_impact                               &  0.035813800                                   & 5.485582e-04                                   &   65.287149                                    &  0.000000e+00                                 \\\\\n",
       "\t fixed                                            & NA                                               & author\\_citation\\_log                          & -0.043224062                                     & 1.806919e-03                                     &  -23.921423                                      & 1.833428e-126                                   \\\\\n",
       "\t fixed                                          & NA                                             & Social\\_Sciences                              &  0.946427549                                   & 1.708157e-02                                   &   55.406345                                    &  0.000000e+00                                 \\\\\n",
       "\t fixed                                          & NA                                             & Materials\\_Science                            & -0.157756222                                   & 2.522952e-02                                   &   -6.252842                                    &  4.030491e-10                                 \\\\\n",
       "\t fixed                                        & NA                                           & Engineering                                  & -0.396211235                                 & 2.254781e-02                                 &  -17.572053                                  &  4.033105e-69                               \\\\\n",
       "\t fixed                                        & NA                                           & Chemistry                                    & -0.342175350                                 & 1.875184e-02                                 &  -18.247563                                  &  2.163465e-74                               \\\\\n",
       "\t fixed                                                  & NA                                                     & Biochemistry\\_\\_Genetics\\_and\\_Molecular\\_Biology & -0.147277292                                           & 1.120899e-02                                           &  -13.139208                                            &  1.962694e-39                                         \\\\\n",
       "\t fixed                                        & NA                                           & Medicine                                     & -0.302821431                                 & 9.104096e-03                                 &  -33.262107                                  & 1.364237e-242                               \\\\\n",
       "\t fixed                                        & NA                                           & Nursing                                      &  0.203958615                                 & 2.730464e-02                                 &    7.469742                                  &  8.035223e-14                               \\\\\n",
       "\t fixed                                              & NA                                                 & Agricultural\\_and\\_Biological\\_Sciences         &  0.442629036                                       & 1.347954e-02                                       &   32.837094                                        & 1.740961e-236                                     \\\\\n",
       "\t fixed                                                & NA                                                   & Pharmacology\\_\\_Toxicology\\_and\\_Pharmaceutics   & -0.510519587                                         & 2.555622e-02                                         &  -19.976332                                          &  8.849125e-89                                       \\\\\n",
       "\t fixed                                        & NA                                           & Neuroscience                                 &  0.039672171                                 & 1.866544e-02                                 &    2.125434                                  &  3.355040e-02                               \\\\\n",
       "\t fixed                                                & NA                                                   & Business\\_\\_Management\\_and\\_Accounting          & -0.247530530                                         & 3.215857e-02                                         &   -7.697188                                          &  1.390929e-14                                       \\\\\n",
       "\t fixed                                                & NA                                                   & Economics\\_\\_Econometrics\\_and\\_Finance          & -0.422078714                                         & 3.458099e-02                                         &  -12.205512                                          &  2.904765e-34                                       \\\\\n",
       "\t fixed                                          & NA                                             & Chemical\\_Engineering                         &  0.184139014                                   & 2.860162e-02                                   &    6.438061                                    &  1.210090e-10                                 \\\\\n",
       "\t fixed                                            & NA                                               & Physics\\_and\\_Astronomy                        & -0.735570437                                     & 2.272935e-02                                     &  -32.362148                                      & 9.360668e-230                                   \\\\\n",
       "\t fixed                                          & NA                                             & Computer\\_Science                             &  0.062965067                                   & 2.576094e-02                                   &    2.444207                                    &  1.451709e-02                                 \\\\\n",
       "\t fixed                                          & NA                                             & Decision\\_Sciences                            & -0.569489916                                   & 5.380370e-02                                   &  -10.584586                                    &  3.513321e-26                                 \\\\\n",
       "\t fixed                                          & NA                                             & Health\\_Professions                           &  0.912642015                                   & 3.085437e-02                                   &   29.579022                                    & 2.781753e-192                                 \\\\\n",
       "\t fixed                                        & NA                                           & Psychology                                   & -0.624453710                                 & 2.515573e-02                                 &  -24.823518                                  & 4.997060e-136                               \\\\\n",
       "\t fixed                                            & NA                                               & Immunology\\_and\\_Microbiology                  & -0.092194367                                     & 2.099889e-02                                     &   -4.390440                                      &  1.131213e-05                                   \\\\\n",
       "\t fixed                                        & NA                                           & Dentistry                                    & -1.126862897                                 & 9.284881e-02                                 &  -12.136536                                  &  6.762870e-34                               \\\\\n",
       "\t fixed                                              & NA                                                 & Earth\\_and\\_Planetary\\_Sciences                 & -0.076042817                                       & 2.144116e-02                                       &   -3.546581                                        &  3.902652e-04                                     \\\\\n",
       "\t fixed                                          & NA                                             & Environmental\\_Science                        &  0.154683676                                   & 1.619044e-02                                   &    9.554011                                    &  1.247700e-21                                 \\\\\n",
       "\t fixed                                        & NA                                           & Mathematics                                  & -0.379834166                                 & 3.373065e-02                                 &  -11.260803                                  &  2.048830e-29                               \\\\\n",
       "\t fixed                                            & NA                                               & Arts\\_and\\_Humanities                          & -0.219475099                                     & 4.183736e-02                                     &   -5.245911                                      &  1.555117e-07                                   \\\\\n",
       "\t fixed                                        & NA                                           & Energy                                       & -0.362834304                                 & 4.029211e-02                                 &   -9.005095                                  &  2.154783e-19                               \\\\\n",
       "\t fixed                                        & NA                                           & Veterinary                                   & -0.863319921                                 & 5.550352e-02                                 &  -15.554328                                  &  1.487085e-54                               \\\\\n",
       "\t fixed                                        & NA                                           & General                                      &  0.348237700                                 & 3.032181e-02                                 &   11.484726                                  &  1.574336e-30                               \\\\\n",
       "\t ran\\_pars                                       & doi                                              & sd\\_\\_(Intercept)                              &  1.494138601                                     &           NA                                     &          NA                                      &            NA                                   \\\\\n",
       "\\end{tabular}\n"
      ],
      "text/markdown": [
       "\n",
       "| effect | group | term | estimate | std.error | statistic | p.value |\n",
       "|---|---|---|---|---|---|---|\n",
       "| fixed                                        | NA                                           | (Intercept)                                  | -2.723197676                                 | 1.384108e-02                                 | -196.747464                                  |  0.000000e+00                                |\n",
       "| fixed                                        | NA                                           | genderFemale                                 | -0.275823356                                 | 6.462962e-03                                 |  -42.677546                                  |  0.000000e+00                                |\n",
       "| fixed                                        | NA                                           | authorship_posfirst_position                 |  0.319948786                                 | 8.771290e-03                                 |   36.476820                                  | 2.585283e-291                                |\n",
       "| fixed                                        | NA                                           | authorship_posmiddle_position                | -0.679409761                                 | 7.624535e-03                                 |  -89.108353                                  |  0.000000e+00                                |\n",
       "| fixed                                        | NA                                           | authorship_possolo_author                    |  0.752657111                                 | 1.972544e-02                                 |   38.156679                                  |  0.000000e+00                                |\n",
       "| fixed                                        | NA                                           | author_pub_count_cate                        |  0.336465524                                 | 5.518380e-03                                 |   60.971795                                  |  0.000000e+00                                |\n",
       "| fixed                                        | NA                                           | I(author_pub_count_cate^2)                   | -0.028507249                                 | 5.144134e-04                                 |  -55.417000                                  |  0.000000e+00                                |\n",
       "| fixed                                        | NA                                           | affiliation_rank_cate                        | -0.053857091                                 | 1.218774e-03                                 |  -44.189547                                  |  0.000000e+00                                |\n",
       "| fixed                                        | NA                                           | affiliation_cateinternational                |  0.022644346                                 | 7.701103e-03                                 |    2.940403                                  |  3.277857e-03                                |\n",
       "| fixed                                        | NA                                           | num_authors                                  | -0.001670857                                 | 9.619019e-05                                 |  -17.370350                                  |  1.383788e-67                                |\n",
       "| fixed                                        | NA                                           | journal_impact                               |  0.035813800                                 | 5.485582e-04                                 |   65.287149                                  |  0.000000e+00                                |\n",
       "| fixed                                        | NA                                           | author_citation_log                          | -0.043224062                                 | 1.806919e-03                                 |  -23.921423                                  | 1.833428e-126                                |\n",
       "| fixed                                        | NA                                           | Social_Sciences                              |  0.946427549                                 | 1.708157e-02                                 |   55.406345                                  |  0.000000e+00                                |\n",
       "| fixed                                        | NA                                           | Materials_Science                            | -0.157756222                                 | 2.522952e-02                                 |   -6.252842                                  |  4.030491e-10                                |\n",
       "| fixed                                        | NA                                           | Engineering                                  | -0.396211235                                 | 2.254781e-02                                 |  -17.572053                                  |  4.033105e-69                                |\n",
       "| fixed                                        | NA                                           | Chemistry                                    | -0.342175350                                 | 1.875184e-02                                 |  -18.247563                                  |  2.163465e-74                                |\n",
       "| fixed                                        | NA                                           | Biochemistry__Genetics_and_Molecular_Biology | -0.147277292                                 | 1.120899e-02                                 |  -13.139208                                  |  1.962694e-39                                |\n",
       "| fixed                                        | NA                                           | Medicine                                     | -0.302821431                                 | 9.104096e-03                                 |  -33.262107                                  | 1.364237e-242                                |\n",
       "| fixed                                        | NA                                           | Nursing                                      |  0.203958615                                 | 2.730464e-02                                 |    7.469742                                  |  8.035223e-14                                |\n",
       "| fixed                                        | NA                                           | Agricultural_and_Biological_Sciences         |  0.442629036                                 | 1.347954e-02                                 |   32.837094                                  | 1.740961e-236                                |\n",
       "| fixed                                        | NA                                           | Pharmacology__Toxicology_and_Pharmaceutics   | -0.510519587                                 | 2.555622e-02                                 |  -19.976332                                  |  8.849125e-89                                |\n",
       "| fixed                                        | NA                                           | Neuroscience                                 |  0.039672171                                 | 1.866544e-02                                 |    2.125434                                  |  3.355040e-02                                |\n",
       "| fixed                                        | NA                                           | Business__Management_and_Accounting          | -0.247530530                                 | 3.215857e-02                                 |   -7.697188                                  |  1.390929e-14                                |\n",
       "| fixed                                        | NA                                           | Economics__Econometrics_and_Finance          | -0.422078714                                 | 3.458099e-02                                 |  -12.205512                                  |  2.904765e-34                                |\n",
       "| fixed                                        | NA                                           | Chemical_Engineering                         |  0.184139014                                 | 2.860162e-02                                 |    6.438061                                  |  1.210090e-10                                |\n",
       "| fixed                                        | NA                                           | Physics_and_Astronomy                        | -0.735570437                                 | 2.272935e-02                                 |  -32.362148                                  | 9.360668e-230                                |\n",
       "| fixed                                        | NA                                           | Computer_Science                             |  0.062965067                                 | 2.576094e-02                                 |    2.444207                                  |  1.451709e-02                                |\n",
       "| fixed                                        | NA                                           | Decision_Sciences                            | -0.569489916                                 | 5.380370e-02                                 |  -10.584586                                  |  3.513321e-26                                |\n",
       "| fixed                                        | NA                                           | Health_Professions                           |  0.912642015                                 | 3.085437e-02                                 |   29.579022                                  | 2.781753e-192                                |\n",
       "| fixed                                        | NA                                           | Psychology                                   | -0.624453710                                 | 2.515573e-02                                 |  -24.823518                                  | 4.997060e-136                                |\n",
       "| fixed                                        | NA                                           | Immunology_and_Microbiology                  | -0.092194367                                 | 2.099889e-02                                 |   -4.390440                                  |  1.131213e-05                                |\n",
       "| fixed                                        | NA                                           | Dentistry                                    | -1.126862897                                 | 9.284881e-02                                 |  -12.136536                                  |  6.762870e-34                                |\n",
       "| fixed                                        | NA                                           | Earth_and_Planetary_Sciences                 | -0.076042817                                 | 2.144116e-02                                 |   -3.546581                                  |  3.902652e-04                                |\n",
       "| fixed                                        | NA                                           | Environmental_Science                        |  0.154683676                                 | 1.619044e-02                                 |    9.554011                                  |  1.247700e-21                                |\n",
       "| fixed                                        | NA                                           | Mathematics                                  | -0.379834166                                 | 3.373065e-02                                 |  -11.260803                                  |  2.048830e-29                                |\n",
       "| fixed                                        | NA                                           | Arts_and_Humanities                          | -0.219475099                                 | 4.183736e-02                                 |   -5.245911                                  |  1.555117e-07                                |\n",
       "| fixed                                        | NA                                           | Energy                                       | -0.362834304                                 | 4.029211e-02                                 |   -9.005095                                  |  2.154783e-19                                |\n",
       "| fixed                                        | NA                                           | Veterinary                                   | -0.863319921                                 | 5.550352e-02                                 |  -15.554328                                  |  1.487085e-54                                |\n",
       "| fixed                                        | NA                                           | General                                      |  0.348237700                                 | 3.032181e-02                                 |   11.484726                                  |  1.574336e-30                                |\n",
       "| ran_pars                                     | doi                                          | sd__(Intercept)                              |  1.494138601                                 |           NA                                 |          NA                                  |            NA                                |\n",
       "\n"
      ],
      "text/plain": [
       "   effect   group term                                         estimate    \n",
       "1  fixed    NA    (Intercept)                                  -2.723197676\n",
       "2  fixed    NA    genderFemale                                 -0.275823356\n",
       "3  fixed    NA    authorship_posfirst_position                  0.319948786\n",
       "4  fixed    NA    authorship_posmiddle_position                -0.679409761\n",
       "5  fixed    NA    authorship_possolo_author                     0.752657111\n",
       "6  fixed    NA    author_pub_count_cate                         0.336465524\n",
       "7  fixed    NA    I(author_pub_count_cate^2)                   -0.028507249\n",
       "8  fixed    NA    affiliation_rank_cate                        -0.053857091\n",
       "9  fixed    NA    affiliation_cateinternational                 0.022644346\n",
       "10 fixed    NA    num_authors                                  -0.001670857\n",
       "11 fixed    NA    journal_impact                                0.035813800\n",
       "12 fixed    NA    author_citation_log                          -0.043224062\n",
       "13 fixed    NA    Social_Sciences                               0.946427549\n",
       "14 fixed    NA    Materials_Science                            -0.157756222\n",
       "15 fixed    NA    Engineering                                  -0.396211235\n",
       "16 fixed    NA    Chemistry                                    -0.342175350\n",
       "17 fixed    NA    Biochemistry__Genetics_and_Molecular_Biology -0.147277292\n",
       "18 fixed    NA    Medicine                                     -0.302821431\n",
       "19 fixed    NA    Nursing                                       0.203958615\n",
       "20 fixed    NA    Agricultural_and_Biological_Sciences          0.442629036\n",
       "21 fixed    NA    Pharmacology__Toxicology_and_Pharmaceutics   -0.510519587\n",
       "22 fixed    NA    Neuroscience                                  0.039672171\n",
       "23 fixed    NA    Business__Management_and_Accounting          -0.247530530\n",
       "24 fixed    NA    Economics__Econometrics_and_Finance          -0.422078714\n",
       "25 fixed    NA    Chemical_Engineering                          0.184139014\n",
       "26 fixed    NA    Physics_and_Astronomy                        -0.735570437\n",
       "27 fixed    NA    Computer_Science                              0.062965067\n",
       "28 fixed    NA    Decision_Sciences                            -0.569489916\n",
       "29 fixed    NA    Health_Professions                            0.912642015\n",
       "30 fixed    NA    Psychology                                   -0.624453710\n",
       "31 fixed    NA    Immunology_and_Microbiology                  -0.092194367\n",
       "32 fixed    NA    Dentistry                                    -1.126862897\n",
       "33 fixed    NA    Earth_and_Planetary_Sciences                 -0.076042817\n",
       "34 fixed    NA    Environmental_Science                         0.154683676\n",
       "35 fixed    NA    Mathematics                                  -0.379834166\n",
       "36 fixed    NA    Arts_and_Humanities                          -0.219475099\n",
       "37 fixed    NA    Energy                                       -0.362834304\n",
       "38 fixed    NA    Veterinary                                   -0.863319921\n",
       "39 fixed    NA    General                                       0.348237700\n",
       "40 ran_pars doi   sd__(Intercept)                               1.494138601\n",
       "   std.error    statistic   p.value      \n",
       "1  1.384108e-02 -196.747464  0.000000e+00\n",
       "2  6.462962e-03  -42.677546  0.000000e+00\n",
       "3  8.771290e-03   36.476820 2.585283e-291\n",
       "4  7.624535e-03  -89.108353  0.000000e+00\n",
       "5  1.972544e-02   38.156679  0.000000e+00\n",
       "6  5.518380e-03   60.971795  0.000000e+00\n",
       "7  5.144134e-04  -55.417000  0.000000e+00\n",
       "8  1.218774e-03  -44.189547  0.000000e+00\n",
       "9  7.701103e-03    2.940403  3.277857e-03\n",
       "10 9.619019e-05  -17.370350  1.383788e-67\n",
       "11 5.485582e-04   65.287149  0.000000e+00\n",
       "12 1.806919e-03  -23.921423 1.833428e-126\n",
       "13 1.708157e-02   55.406345  0.000000e+00\n",
       "14 2.522952e-02   -6.252842  4.030491e-10\n",
       "15 2.254781e-02  -17.572053  4.033105e-69\n",
       "16 1.875184e-02  -18.247563  2.163465e-74\n",
       "17 1.120899e-02  -13.139208  1.962694e-39\n",
       "18 9.104096e-03  -33.262107 1.364237e-242\n",
       "19 2.730464e-02    7.469742  8.035223e-14\n",
       "20 1.347954e-02   32.837094 1.740961e-236\n",
       "21 2.555622e-02  -19.976332  8.849125e-89\n",
       "22 1.866544e-02    2.125434  3.355040e-02\n",
       "23 3.215857e-02   -7.697188  1.390929e-14\n",
       "24 3.458099e-02  -12.205512  2.904765e-34\n",
       "25 2.860162e-02    6.438061  1.210090e-10\n",
       "26 2.272935e-02  -32.362148 9.360668e-230\n",
       "27 2.576094e-02    2.444207  1.451709e-02\n",
       "28 5.380370e-02  -10.584586  3.513321e-26\n",
       "29 3.085437e-02   29.579022 2.781753e-192\n",
       "30 2.515573e-02  -24.823518 4.997060e-136\n",
       "31 2.099889e-02   -4.390440  1.131213e-05\n",
       "32 9.284881e-02  -12.136536  6.762870e-34\n",
       "33 2.144116e-02   -3.546581  3.902652e-04\n",
       "34 1.619044e-02    9.554011  1.247700e-21\n",
       "35 3.373065e-02  -11.260803  2.048830e-29\n",
       "36 4.183736e-02   -5.245911  1.555117e-07\n",
       "37 4.029211e-02   -9.005095  2.154783e-19\n",
       "38 5.550352e-02  -15.554328  1.487085e-54\n",
       "39 3.032181e-02   11.484726  1.574336e-30\n",
       "40           NA          NA            NA"
      ]
     },
     "metadata": {},
     "output_type": "display_data"
    }
   ],
   "source": [
    "tidy(m_all_tw)"
   ]
  },
  {
   "cell_type": "code",
   "execution_count": 32,
   "id": "f537e00a",
   "metadata": {
    "scrolled": true
   },
   "outputs": [
    {
     "name": "stdout",
     "output_type": "stream",
     "text": [
      "\n",
      "% Table created by stargazer v.5.2.2 by Marek Hlavac, Harvard University. E-mail: hlavac at fas.harvard.edu\n",
      "% Date and time: Tue, May 10, 2022 - 04:00:36 PM\n",
      "\\begin{table}[!htbp] \\centering \n",
      "  \\caption{} \n",
      "  \\label{} \n",
      "\\begin{tabular}{@{\\extracolsep{5pt}}lc} \n",
      "\\\\[-1.8ex]\\hline \n",
      "\\hline \\\\[-1.8ex] \n",
      " & \\multicolumn{1}{c}{\\textit{Dependent variable:}} \\\\ \n",
      "\\cline{2-2} \n",
      "\\\\[-1.8ex] & self\\_promotion \\\\ \n",
      "\\hline \\\\[-1.8ex] \n",
      " genderFemale & $-$0.276$^{***}$ \\\\ \n",
      "  & p = 0.000 \\\\ \n",
      "  authorship\\_posfirst\\_position & 0.320$^{***}$ \\\\ \n",
      "  & p = 0.000 \\\\ \n",
      "  authorship\\_posmiddle\\_position & $-$0.679$^{***}$ \\\\ \n",
      "  & p = 0.000 \\\\ \n",
      "  authorship\\_possolo\\_author & 0.753$^{***}$ \\\\ \n",
      "  & p = 0.000 \\\\ \n",
      "  author\\_pub\\_count\\_cate & 0.336$^{***}$ \\\\ \n",
      "  & p = 0.000 \\\\ \n",
      "  I(author\\_pub\\_count\\_cate$\\hat{\\mkern6mu}$2) & $-$0.029$^{***}$ \\\\ \n",
      "  & p = 0.000 \\\\ \n",
      "  affiliation\\_rank\\_cate & $-$0.054$^{***}$ \\\\ \n",
      "  & p = 0.000 \\\\ \n",
      "  affiliation\\_cateinternational & 0.023$^{**}$ \\\\ \n",
      "  & p = 0.004 \\\\ \n",
      "  num\\_authors & $-$0.002$^{***}$ \\\\ \n",
      "  & p = 0.000 \\\\ \n",
      "  journal\\_impact & 0.036$^{***}$ \\\\ \n",
      "  & p = 0.000 \\\\ \n",
      "  author\\_citation\\_log & $-$0.043$^{***}$ \\\\ \n",
      "  & p = 0.000 \\\\ \n",
      "  Social\\_Sciences & 0.946$^{***}$ \\\\ \n",
      "  & p = 0.000 \\\\ \n",
      "  Materials\\_Science & $-$0.158$^{***}$ \\\\ \n",
      "  & p = 0.000 \\\\ \n",
      "  Engineering & $-$0.396$^{***}$ \\\\ \n",
      "  & p = 0.000 \\\\ \n",
      "  Chemistry & $-$0.342$^{***}$ \\\\ \n",
      "  & p = 0.000 \\\\ \n",
      "  Biochemistry\\_\\_Genetics\\_and\\_Molecular\\_Biology & $-$0.147$^{***}$ \\\\ \n",
      "  & p = 0.000 \\\\ \n",
      "  Medicine & $-$0.303$^{***}$ \\\\ \n",
      "  & p = 0.000 \\\\ \n",
      "  Nursing & 0.204$^{***}$ \\\\ \n",
      "  & p = 0.000 \\\\ \n",
      "  Agricultural\\_and\\_Biological\\_Sciences & 0.443$^{***}$ \\\\ \n",
      "  & p = 0.000 \\\\ \n",
      "  Pharmacology\\_\\_Toxicology\\_and\\_Pharmaceutics & $-$0.511$^{***}$ \\\\ \n",
      "  & p = 0.000 \\\\ \n",
      "  Neuroscience & 0.040$^{*}$ \\\\ \n",
      "  & p = 0.034 \\\\ \n",
      "  Business\\_\\_Management\\_and\\_Accounting & $-$0.248$^{***}$ \\\\ \n",
      "  & p = 0.000 \\\\ \n",
      "  Economics\\_\\_Econometrics\\_and\\_Finance & $-$0.422$^{***}$ \\\\ \n",
      "  & p = 0.000 \\\\ \n",
      "  Chemical\\_Engineering & 0.184$^{***}$ \\\\ \n",
      "  & p = 0.000 \\\\ \n",
      "  Physics\\_and\\_Astronomy & $-$0.736$^{***}$ \\\\ \n",
      "  & p = 0.000 \\\\ \n",
      "  Computer\\_Science & 0.063$^{*}$ \\\\ \n",
      "  & p = 0.015 \\\\ \n",
      "  Decision\\_Sciences & $-$0.569$^{***}$ \\\\ \n",
      "  & p = 0.000 \\\\ \n",
      "  Health\\_Professions & 0.913$^{***}$ \\\\ \n",
      "  & p = 0.000 \\\\ \n",
      "  Psychology & $-$0.624$^{***}$ \\\\ \n",
      "  & p = 0.000 \\\\ \n",
      "  Immunology\\_and\\_Microbiology & $-$0.092$^{***}$ \\\\ \n",
      "  & p = 0.00002 \\\\ \n",
      "  Dentistry & $-$1.127$^{***}$ \\\\ \n",
      "  & p = 0.000 \\\\ \n",
      "  Earth\\_and\\_Planetary\\_Sciences & $-$0.076$^{***}$ \\\\ \n",
      "  & p = 0.0004 \\\\ \n",
      "  Environmental\\_Science & 0.155$^{***}$ \\\\ \n",
      "  & p = 0.000 \\\\ \n",
      "  Mathematics & $-$0.380$^{***}$ \\\\ \n",
      "  & p = 0.000 \\\\ \n",
      "  Arts\\_and\\_Humanities & $-$0.219$^{***}$ \\\\ \n",
      "  & p = 0.00000 \\\\ \n",
      "  Energy & $-$0.363$^{***}$ \\\\ \n",
      "  & p = 0.000 \\\\ \n",
      "  Veterinary & $-$0.863$^{***}$ \\\\ \n",
      "  & p = 0.000 \\\\ \n",
      "  General & 0.348$^{***}$ \\\\ \n",
      "  & p = 0.000 \\\\ \n",
      "  Constant & $-$2.723$^{***}$ \\\\ \n",
      "  & p = 0.000 \\\\ \n",
      " \\hline \\\\[-1.8ex] \n",
      "Observations & 2,375,419 \\\\ \n",
      "Log Likelihood & $-$537,289.200 \\\\ \n",
      "Akaike Inf. Crit. & 1,074,658.000 \\\\ \n",
      "Bayesian Inf. Crit. & 1,075,166.000 \\\\ \n",
      "\\hline \n",
      "\\hline \\\\[-1.8ex] \n",
      "\\textit{Note:}  & \\multicolumn{1}{r}{$^{*}$p$<$0.05; $^{**}$p$<$0.01; $^{***}$p$<$0.001} \\\\ \n",
      "\\end{tabular} \n",
      "\\end{table} \n"
     ]
    }
   ],
   "source": [
    "# use this search string in Sublime: \" \\\\\\\\ \\n  &\" with \" &\"\n",
    "stargazer(m_all_tw, type = \"latex\", single.row=TRUE, ci = FALSE, report = ('vc*p'), star.cutoffs = c(0.05, 0.01, 0.001))"
   ]
  },
  {
   "cell_type": "code",
   "execution_count": 33,
   "id": "bd01f178",
   "metadata": {
    "scrolled": true
   },
   "outputs": [
    {
     "name": "stderr",
     "output_type": "stream",
     "text": [
      "Model contains polynomial or cubic / quadratic terms. Consider using `terms=\"gender [all]\"` to get smooth plots. See also package-vignette 'Marginal Effects at Specific Values'.\n"
     ]
    }
   ],
   "source": [
    "# weighted average for factor variable, median for non-factor variables\n",
    "MEs = ggemmeans(m_all_tw, terms=c('gender'), typical='median')"
   ]
  },
  {
   "cell_type": "code",
   "execution_count": 34,
   "id": "f602b4e0",
   "metadata": {},
   "outputs": [
    {
     "data": {
      "text/html": [
       "<table>\n",
       "<thead><tr><th scope=col>x</th><th scope=col>predicted</th><th scope=col>std.error</th><th scope=col>conf.low</th><th scope=col>conf.high</th><th scope=col>group</th></tr></thead>\n",
       "<tbody>\n",
       "\t<tr><td>Male       </td><td>0.10400141 </td><td>0.008660582</td><td>0.10243025 </td><td>0.10559384 </td><td>1          </td></tr>\n",
       "\t<tr><td>Female     </td><td>0.08096125 </td><td>0.009461269</td><td>0.07959215 </td><td>0.08235179 </td><td>1          </td></tr>\n",
       "</tbody>\n",
       "</table>\n"
      ],
      "text/latex": [
       "\\begin{tabular}{r|llllll}\n",
       " x & predicted & std.error & conf.low & conf.high & group\\\\\n",
       "\\hline\n",
       "\t Male        & 0.10400141  & 0.008660582 & 0.10243025  & 0.10559384  & 1          \\\\\n",
       "\t Female      & 0.08096125  & 0.009461269 & 0.07959215  & 0.08235179  & 1          \\\\\n",
       "\\end{tabular}\n"
      ],
      "text/markdown": [
       "\n",
       "| x | predicted | std.error | conf.low | conf.high | group |\n",
       "|---|---|---|---|---|---|\n",
       "| Male        | 0.10400141  | 0.008660582 | 0.10243025  | 0.10559384  | 1           |\n",
       "| Female      | 0.08096125  | 0.009461269 | 0.07959215  | 0.08235179  | 1           |\n",
       "\n"
      ],
      "text/plain": [
       "  x      predicted  std.error   conf.low   conf.high  group\n",
       "1 Male   0.10400141 0.008660582 0.10243025 0.10559384 1    \n",
       "2 Female 0.08096125 0.009461269 0.07959215 0.08235179 1    "
      ]
     },
     "metadata": {},
     "output_type": "display_data"
    }
   ],
   "source": [
    "MEs"
   ]
  },
  {
   "cell_type": "code",
   "execution_count": 35,
   "id": "d27c2bcb",
   "metadata": {},
   "outputs": [],
   "source": [
    "fname = paste(data_root, 'pred_all_tweet.csv', sep = '')\n",
    "write.csv(MEs, fname, row.names = FALSE)"
   ]
  },
  {
   "cell_type": "markdown",
   "id": "0e87ec8a",
   "metadata": {},
   "source": [
    "### Subset of authors of non East Asian ethnicity"
   ]
  },
  {
   "cell_type": "code",
   "execution_count": 36,
   "id": "cd687993",
   "metadata": {},
   "outputs": [
    {
     "data": {
      "text/plain": [
       "\n",
       "                African               CARIBBEAN                 Chinese \n",
       "                  15364                     129                  232407 \n",
       "              EastAsian         EasternEuropean                 English \n",
       "                 118827                  124549                  679328 \n",
       "                 Indian           MiddleEastern                     org \n",
       "                  96652                  150079                      22 \n",
       "             POLYNESIAN        SouthernEuropean                 unknown \n",
       "                      1                  396913                    8300 \n",
       "WesternNorthernEuropean \n",
       "                 552848 "
      ]
     },
     "metadata": {},
     "output_type": "display_data"
    }
   ],
   "source": [
    "table(mydata$author_eth_ethnea_broad)"
   ]
  },
  {
   "cell_type": "code",
   "execution_count": 37,
   "id": "c27ebb3f",
   "metadata": {
    "scrolled": true
   },
   "outputs": [
    {
     "data": {
      "text/html": [
       "359534"
      ],
      "text/latex": [
       "359534"
      ],
      "text/markdown": [
       "359534"
      ],
      "text/plain": [
       "[1] 359534"
      ]
     },
     "metadata": {},
     "output_type": "display_data"
    }
   ],
   "source": [
    "# num of observations with East Asian names (Chinese + non-Chinese East Asian).\n",
    "nrow(mydata[mydata$author_eth_ethnea_broad %in% c('Chinese', 'EastAsian', 'unknown'), ])"
   ]
  },
  {
   "cell_type": "code",
   "execution_count": 38,
   "id": "87dbb427",
   "metadata": {
    "scrolled": true
   },
   "outputs": [
    {
     "data": {
      "text/html": [
       "2015885"
      ],
      "text/latex": [
       "2015885"
      ],
      "text/markdown": [
       "2015885"
      ],
      "text/plain": [
       "[1] 2015885"
      ]
     },
     "metadata": {},
     "output_type": "display_data"
    }
   ],
   "source": [
    "nrow(mydata[!mydata$author_eth_ethnea_broad %in% c('Chinese', 'EastAsian', 'unknown'), ])"
   ]
  },
  {
   "cell_type": "code",
   "execution_count": 39,
   "id": "8575a900",
   "metadata": {},
   "outputs": [],
   "source": [
    "base_str <- \"self_promotion ~ 1 + gender + authorship_pos + author_pub_count_cate + I(author_pub_count_cate^2) + \\\n",
    "            affiliation_rank_cate + affiliation_cate + num_authors + journal_impact + author_citation_log\""
   ]
  },
  {
   "cell_type": "code",
   "execution_count": 40,
   "id": "ebe33606",
   "metadata": {},
   "outputs": [],
   "source": [
    "equation <- as.formula(paste(base_str, \" + (1|doi) + \", keywords, sep = \" \"))\n",
    "m_all_exc <- glmer(formula = equation, data = mydata[!mydata$author_eth_ethnea_broad %in% c('Chinese', 'EastAsian', 'unknown'), ], family = \"binomial\", control = glmerControl(optimizer = \"nloptwrap\"), nAGQ = 0)\n"
   ]
  },
  {
   "cell_type": "code",
   "execution_count": 41,
   "id": "2be3c6c2",
   "metadata": {
    "scrolled": true
   },
   "outputs": [
    {
     "data": {
      "text/html": [
       "<table>\n",
       "<thead><tr><th scope=col>effect</th><th scope=col>group</th><th scope=col>term</th><th scope=col>estimate</th><th scope=col>std.error</th><th scope=col>statistic</th><th scope=col>p.value</th></tr></thead>\n",
       "<tbody>\n",
       "\t<tr><td>fixed                                       </td><td>NA                                          </td><td>(Intercept)                                 </td><td>-2.548255794                                </td><td>1.418281e-02                                </td><td>-179.672143                                 </td><td> 0.000000e+00                               </td></tr>\n",
       "\t<tr><td>fixed                                       </td><td>NA                                          </td><td>genderFemale                                </td><td>-0.252683539                                </td><td>6.658680e-03                                </td><td> -37.947990                                 </td><td> 0.000000e+00                               </td></tr>\n",
       "\t<tr><td>fixed                                       </td><td>NA                                          </td><td>authorship_posfirst_position                </td><td> 0.316888932                                </td><td>8.978428e-03                                </td><td>  35.294479                                 </td><td>7.137045e-273                               </td></tr>\n",
       "\t<tr><td>fixed                                       </td><td>NA                                          </td><td>authorship_posmiddle_position               </td><td>-0.662388911                                </td><td>7.775703e-03                                </td><td> -85.187014                                 </td><td> 0.000000e+00                               </td></tr>\n",
       "\t<tr><td>fixed                                       </td><td>NA                                          </td><td>authorship_possolo_author                   </td><td> 0.671769855                                </td><td>1.984849e-02                                </td><td>  33.844881                                 </td><td>4.316335e-251                               </td></tr>\n",
       "\t<tr><td>fixed                                       </td><td>NA                                          </td><td>author_pub_count_cate                       </td><td> 0.326350539                                </td><td>5.665899e-03                                </td><td>  57.599073                                 </td><td> 0.000000e+00                               </td></tr>\n",
       "\t<tr><td>fixed                                       </td><td>NA                                          </td><td>I(author_pub_count_cate^2)                  </td><td>-0.027289899                                </td><td>5.279468e-04                                </td><td> -51.690627                                 </td><td> 0.000000e+00                               </td></tr>\n",
       "\t<tr><td>fixed                                       </td><td>NA                                          </td><td>affiliation_rank_cate                       </td><td>-0.048866781                                </td><td>1.240734e-03                                </td><td> -39.385377                                 </td><td> 0.000000e+00                               </td></tr>\n",
       "\t<tr><td>fixed                                       </td><td>NA                                          </td><td>affiliation_cateinternational               </td><td> 0.081037421                                </td><td>7.804019e-03                                </td><td>  10.384062                                 </td><td> 2.930353e-25                               </td></tr>\n",
       "\t<tr><td>fixed                                       </td><td>NA                                          </td><td>num_authors                                 </td><td>-0.001620936                                </td><td>9.280024e-05                                </td><td> -17.466936                                 </td><td> 2.558713e-68                               </td></tr>\n",
       "\t<tr><td>fixed                                       </td><td>NA                                          </td><td>journal_impact                              </td><td> 0.035339962                                </td><td>5.541472e-04                                </td><td>  63.773602                                 </td><td> 0.000000e+00                               </td></tr>\n",
       "\t<tr><td>fixed                                       </td><td>NA                                          </td><td>author_citation_log                         </td><td>-0.049385585                                </td><td>1.848563e-03                                </td><td> -26.715662                                 </td><td>3.096064e-157                               </td></tr>\n",
       "\t<tr><td>fixed                                       </td><td>NA                                          </td><td>Social_Sciences                             </td><td> 0.831596390                                </td><td>1.710829e-02                                </td><td>  48.607807                                 </td><td> 0.000000e+00                               </td></tr>\n",
       "\t<tr><td>fixed                                       </td><td>NA                                          </td><td>Materials_Science                           </td><td>-0.065506054                                </td><td>2.657275e-02                                </td><td>  -2.465159                                 </td><td> 1.369525e-02                               </td></tr>\n",
       "\t<tr><td>fixed                                       </td><td>NA                                          </td><td>Engineering                                 </td><td>-0.375134157                                </td><td>2.340326e-02                                </td><td> -16.029144                                 </td><td> 7.997731e-58                               </td></tr>\n",
       "\t<tr><td>fixed                                       </td><td>NA                                          </td><td>Chemistry                                   </td><td>-0.326559182                                </td><td>1.959444e-02                                </td><td> -16.665909                                 </td><td> 2.319368e-62                               </td></tr>\n",
       "\t<tr><td>fixed                                       </td><td>NA                                          </td><td>Biochemistry__Genetics_and_Molecular_Biology</td><td>-0.123219229                                </td><td>1.150519e-02                                </td><td> -10.709878                                 </td><td> 9.148223e-27                               </td></tr>\n",
       "\t<tr><td>fixed                                       </td><td>NA                                          </td><td>Medicine                                    </td><td>-0.347651394                                </td><td>9.254097e-03                                </td><td> -37.567296                                 </td><td> 0.000000e+00                               </td></tr>\n",
       "\t<tr><td>fixed                                       </td><td>NA                                          </td><td>Nursing                                     </td><td> 0.170134780                                </td><td>2.737499e-02                                </td><td>   6.214970                                 </td><td> 5.133432e-10                               </td></tr>\n",
       "\t<tr><td>fixed                                       </td><td>NA                                          </td><td>Agricultural_and_Biological_Sciences        </td><td> 0.392013594                                </td><td>1.369474e-02                                </td><td>  28.625121                                 </td><td>3.271487e-180                               </td></tr>\n",
       "\t<tr><td>fixed                                       </td><td>NA                                          </td><td>Pharmacology__Toxicology_and_Pharmaceutics  </td><td>-0.501489281                                </td><td>2.614748e-02                                </td><td> -19.179258                                 </td><td> 5.516202e-82                               </td></tr>\n",
       "\t<tr><td>fixed                                       </td><td>NA                                          </td><td>Neuroscience                                </td><td> 0.024154113                                </td><td>1.890924e-02                                </td><td>   1.277371                                 </td><td> 2.014714e-01                               </td></tr>\n",
       "\t<tr><td>fixed                                       </td><td>NA                                          </td><td>Business__Management_and_Accounting         </td><td>-0.254675199                                </td><td>3.237395e-02                                </td><td>  -7.866672                                 </td><td> 3.642006e-15                               </td></tr>\n",
       "\t<tr><td>fixed                                       </td><td>NA                                          </td><td>Economics__Econometrics_and_Finance         </td><td>-0.405674123                                </td><td>3.473316e-02                                </td><td> -11.679736                                 </td><td> 1.617979e-31                               </td></tr>\n",
       "\t<tr><td>fixed                                       </td><td>NA                                          </td><td>Chemical_Engineering                        </td><td> 0.184389173                                </td><td>3.011717e-02                                </td><td>   6.122393                                 </td><td> 9.218021e-10                               </td></tr>\n",
       "\t<tr><td>fixed                                       </td><td>NA                                          </td><td>Physics_and_Astronomy                       </td><td>-0.786065807                                </td><td>2.353891e-02                                </td><td> -33.394317                                 </td><td>1.657807e-244                               </td></tr>\n",
       "\t<tr><td>fixed                                       </td><td>NA                                          </td><td>Computer_Science                            </td><td> 0.062207565                                </td><td>2.644765e-02                                </td><td>   2.352102                                 </td><td> 1.866767e-02                               </td></tr>\n",
       "\t<tr><td>fixed                                       </td><td>NA                                          </td><td>Decision_Sciences                           </td><td>-0.476707187                                </td><td>5.460449e-02                                </td><td>  -8.730184                                 </td><td> 2.542597e-18                               </td></tr>\n",
       "\t<tr><td>fixed                                       </td><td>NA                                          </td><td>Health_Professions                          </td><td> 0.875720368                                </td><td>3.087104e-02                                </td><td>  28.367051                                 </td><td>5.157735e-177                               </td></tr>\n",
       "\t<tr><td>fixed                                       </td><td>NA                                          </td><td>Psychology                                  </td><td>-0.612815513                                </td><td>2.511250e-02                                </td><td> -24.402810                                 </td><td>1.596678e-131                               </td></tr>\n",
       "\t<tr><td>fixed                                       </td><td>NA                                          </td><td>Immunology_and_Microbiology                 </td><td>-0.093847577                                </td><td>2.139134e-02                                </td><td>  -4.387176                                 </td><td> 1.148319e-05                               </td></tr>\n",
       "\t<tr><td>fixed                                       </td><td>NA                                          </td><td>Dentistry                                   </td><td>-1.195175018                                </td><td>9.440470e-02                                </td><td> -12.660122                                 </td><td> 9.834628e-37                               </td></tr>\n",
       "\t<tr><td>fixed                                       </td><td>NA                                          </td><td>Earth_and_Planetary_Sciences                </td><td>-0.118035225                                </td><td>2.174312e-02                                </td><td>  -5.428624                                 </td><td> 5.679004e-08                               </td></tr>\n",
       "\t<tr><td>fixed                                       </td><td>NA                                          </td><td>Environmental_Science                       </td><td> 0.158054473                                </td><td>1.649127e-02                                </td><td>   9.584128                                 </td><td> 9.324180e-22                               </td></tr>\n",
       "\t<tr><td>fixed                                       </td><td>NA                                          </td><td>Mathematics                                 </td><td>-0.437984236                                </td><td>3.445422e-02                                </td><td> -12.712063                                 </td><td> 5.067945e-37                               </td></tr>\n",
       "\t<tr><td>fixed                                       </td><td>NA                                          </td><td>Arts_and_Humanities                         </td><td>-0.232288551                                </td><td>4.185634e-02                                </td><td>  -5.549662                                 </td><td> 2.862230e-08                               </td></tr>\n",
       "\t<tr><td>fixed                                       </td><td>NA                                          </td><td>Energy                                      </td><td>-0.346584358                                </td><td>4.135554e-02                                </td><td>  -8.380603                                 </td><td> 5.265732e-17                               </td></tr>\n",
       "\t<tr><td>fixed                                       </td><td>NA                                          </td><td>Veterinary                                  </td><td>-0.917010802                                </td><td>5.608924e-02                                </td><td> -16.349140                                 </td><td> 4.411621e-60                               </td></tr>\n",
       "\t<tr><td>fixed                                       </td><td>NA                                          </td><td>General                                     </td><td> 0.310973635                                </td><td>3.082875e-02                                </td><td>  10.087132                                 </td><td> 6.298270e-24                               </td></tr>\n",
       "\t<tr><td>ran_pars                                    </td><td>doi                                         </td><td>sd__(Intercept)                             </td><td> 1.441741365                                </td><td>          NA                                </td><td>         NA                                 </td><td>           NA                               </td></tr>\n",
       "</tbody>\n",
       "</table>\n"
      ],
      "text/latex": [
       "\\begin{tabular}{r|lllllll}\n",
       " effect & group & term & estimate & std.error & statistic & p.value\\\\\n",
       "\\hline\n",
       "\t fixed                                        & NA                                           & (Intercept)                                  & -2.548255794                                 & 1.418281e-02                                 & -179.672143                                  &  0.000000e+00                               \\\\\n",
       "\t fixed                                        & NA                                           & genderFemale                                 & -0.252683539                                 & 6.658680e-03                                 &  -37.947990                                  &  0.000000e+00                               \\\\\n",
       "\t fixed                                            & NA                                               & authorship\\_posfirst\\_position                 &  0.316888932                                     & 8.978428e-03                                     &   35.294479                                      & 7.137045e-273                                   \\\\\n",
       "\t fixed                                            & NA                                               & authorship\\_posmiddle\\_position                & -0.662388911                                     & 7.775703e-03                                     &  -85.187014                                      &  0.000000e+00                                   \\\\\n",
       "\t fixed                                            & NA                                               & authorship\\_possolo\\_author                    &  0.671769855                                     & 1.984849e-02                                     &   33.844881                                      & 4.316335e-251                                   \\\\\n",
       "\t fixed                                              & NA                                                 & author\\_pub\\_count\\_cate                        &  0.326350539                                       & 5.665899e-03                                       &   57.599073                                        &  0.000000e+00                                     \\\\\n",
       "\t fixed                                                                & NA                                                                   & I(author\\_pub\\_count\\_cate\\textasciicircum{}2)                   & -0.027289899                                                         & 5.279468e-04                                                         &  -51.690627                                                          &  0.000000e+00                                                       \\\\\n",
       "\t fixed                                            & NA                                               & affiliation\\_rank\\_cate                        & -0.048866781                                     & 1.240734e-03                                     &  -39.385377                                      &  0.000000e+00                                   \\\\\n",
       "\t fixed                                          & NA                                             & affiliation\\_cateinternational                &  0.081037421                                   & 7.804019e-03                                   &   10.384062                                    &  2.930353e-25                                 \\\\\n",
       "\t fixed                                          & NA                                             & num\\_authors                                  & -0.001620936                                   & 9.280024e-05                                   &  -17.466936                                    &  2.558713e-68                                 \\\\\n",
       "\t fixed                                          & NA                                             & journal\\_impact                               &  0.035339962                                   & 5.541472e-04                                   &   63.773602                                    &  0.000000e+00                                 \\\\\n",
       "\t fixed                                            & NA                                               & author\\_citation\\_log                          & -0.049385585                                     & 1.848563e-03                                     &  -26.715662                                      & 3.096064e-157                                   \\\\\n",
       "\t fixed                                          & NA                                             & Social\\_Sciences                              &  0.831596390                                   & 1.710829e-02                                   &   48.607807                                    &  0.000000e+00                                 \\\\\n",
       "\t fixed                                          & NA                                             & Materials\\_Science                            & -0.065506054                                   & 2.657275e-02                                   &   -2.465159                                    &  1.369525e-02                                 \\\\\n",
       "\t fixed                                        & NA                                           & Engineering                                  & -0.375134157                                 & 2.340326e-02                                 &  -16.029144                                  &  7.997731e-58                               \\\\\n",
       "\t fixed                                        & NA                                           & Chemistry                                    & -0.326559182                                 & 1.959444e-02                                 &  -16.665909                                  &  2.319368e-62                               \\\\\n",
       "\t fixed                                                  & NA                                                     & Biochemistry\\_\\_Genetics\\_and\\_Molecular\\_Biology & -0.123219229                                           & 1.150519e-02                                           &  -10.709878                                            &  9.148223e-27                                         \\\\\n",
       "\t fixed                                        & NA                                           & Medicine                                     & -0.347651394                                 & 9.254097e-03                                 &  -37.567296                                  &  0.000000e+00                               \\\\\n",
       "\t fixed                                        & NA                                           & Nursing                                      &  0.170134780                                 & 2.737499e-02                                 &    6.214970                                  &  5.133432e-10                               \\\\\n",
       "\t fixed                                              & NA                                                 & Agricultural\\_and\\_Biological\\_Sciences         &  0.392013594                                       & 1.369474e-02                                       &   28.625121                                        & 3.271487e-180                                     \\\\\n",
       "\t fixed                                                & NA                                                   & Pharmacology\\_\\_Toxicology\\_and\\_Pharmaceutics   & -0.501489281                                         & 2.614748e-02                                         &  -19.179258                                          &  5.516202e-82                                       \\\\\n",
       "\t fixed                                        & NA                                           & Neuroscience                                 &  0.024154113                                 & 1.890924e-02                                 &    1.277371                                  &  2.014714e-01                               \\\\\n",
       "\t fixed                                                & NA                                                   & Business\\_\\_Management\\_and\\_Accounting          & -0.254675199                                         & 3.237395e-02                                         &   -7.866672                                          &  3.642006e-15                                       \\\\\n",
       "\t fixed                                                & NA                                                   & Economics\\_\\_Econometrics\\_and\\_Finance          & -0.405674123                                         & 3.473316e-02                                         &  -11.679736                                          &  1.617979e-31                                       \\\\\n",
       "\t fixed                                          & NA                                             & Chemical\\_Engineering                         &  0.184389173                                   & 3.011717e-02                                   &    6.122393                                    &  9.218021e-10                                 \\\\\n",
       "\t fixed                                            & NA                                               & Physics\\_and\\_Astronomy                        & -0.786065807                                     & 2.353891e-02                                     &  -33.394317                                      & 1.657807e-244                                   \\\\\n",
       "\t fixed                                          & NA                                             & Computer\\_Science                             &  0.062207565                                   & 2.644765e-02                                   &    2.352102                                    &  1.866767e-02                                 \\\\\n",
       "\t fixed                                          & NA                                             & Decision\\_Sciences                            & -0.476707187                                   & 5.460449e-02                                   &   -8.730184                                    &  2.542597e-18                                 \\\\\n",
       "\t fixed                                          & NA                                             & Health\\_Professions                           &  0.875720368                                   & 3.087104e-02                                   &   28.367051                                    & 5.157735e-177                                 \\\\\n",
       "\t fixed                                        & NA                                           & Psychology                                   & -0.612815513                                 & 2.511250e-02                                 &  -24.402810                                  & 1.596678e-131                               \\\\\n",
       "\t fixed                                            & NA                                               & Immunology\\_and\\_Microbiology                  & -0.093847577                                     & 2.139134e-02                                     &   -4.387176                                      &  1.148319e-05                                   \\\\\n",
       "\t fixed                                        & NA                                           & Dentistry                                    & -1.195175018                                 & 9.440470e-02                                 &  -12.660122                                  &  9.834628e-37                               \\\\\n",
       "\t fixed                                              & NA                                                 & Earth\\_and\\_Planetary\\_Sciences                 & -0.118035225                                       & 2.174312e-02                                       &   -5.428624                                        &  5.679004e-08                                     \\\\\n",
       "\t fixed                                          & NA                                             & Environmental\\_Science                        &  0.158054473                                   & 1.649127e-02                                   &    9.584128                                    &  9.324180e-22                                 \\\\\n",
       "\t fixed                                        & NA                                           & Mathematics                                  & -0.437984236                                 & 3.445422e-02                                 &  -12.712063                                  &  5.067945e-37                               \\\\\n",
       "\t fixed                                            & NA                                               & Arts\\_and\\_Humanities                          & -0.232288551                                     & 4.185634e-02                                     &   -5.549662                                      &  2.862230e-08                                   \\\\\n",
       "\t fixed                                        & NA                                           & Energy                                       & -0.346584358                                 & 4.135554e-02                                 &   -8.380603                                  &  5.265732e-17                               \\\\\n",
       "\t fixed                                        & NA                                           & Veterinary                                   & -0.917010802                                 & 5.608924e-02                                 &  -16.349140                                  &  4.411621e-60                               \\\\\n",
       "\t fixed                                        & NA                                           & General                                      &  0.310973635                                 & 3.082875e-02                                 &   10.087132                                  &  6.298270e-24                               \\\\\n",
       "\t ran\\_pars                                       & doi                                              & sd\\_\\_(Intercept)                              &  1.441741365                                     &           NA                                     &          NA                                      &            NA                                   \\\\\n",
       "\\end{tabular}\n"
      ],
      "text/markdown": [
       "\n",
       "| effect | group | term | estimate | std.error | statistic | p.value |\n",
       "|---|---|---|---|---|---|---|\n",
       "| fixed                                        | NA                                           | (Intercept)                                  | -2.548255794                                 | 1.418281e-02                                 | -179.672143                                  |  0.000000e+00                                |\n",
       "| fixed                                        | NA                                           | genderFemale                                 | -0.252683539                                 | 6.658680e-03                                 |  -37.947990                                  |  0.000000e+00                                |\n",
       "| fixed                                        | NA                                           | authorship_posfirst_position                 |  0.316888932                                 | 8.978428e-03                                 |   35.294479                                  | 7.137045e-273                                |\n",
       "| fixed                                        | NA                                           | authorship_posmiddle_position                | -0.662388911                                 | 7.775703e-03                                 |  -85.187014                                  |  0.000000e+00                                |\n",
       "| fixed                                        | NA                                           | authorship_possolo_author                    |  0.671769855                                 | 1.984849e-02                                 |   33.844881                                  | 4.316335e-251                                |\n",
       "| fixed                                        | NA                                           | author_pub_count_cate                        |  0.326350539                                 | 5.665899e-03                                 |   57.599073                                  |  0.000000e+00                                |\n",
       "| fixed                                        | NA                                           | I(author_pub_count_cate^2)                   | -0.027289899                                 | 5.279468e-04                                 |  -51.690627                                  |  0.000000e+00                                |\n",
       "| fixed                                        | NA                                           | affiliation_rank_cate                        | -0.048866781                                 | 1.240734e-03                                 |  -39.385377                                  |  0.000000e+00                                |\n",
       "| fixed                                        | NA                                           | affiliation_cateinternational                |  0.081037421                                 | 7.804019e-03                                 |   10.384062                                  |  2.930353e-25                                |\n",
       "| fixed                                        | NA                                           | num_authors                                  | -0.001620936                                 | 9.280024e-05                                 |  -17.466936                                  |  2.558713e-68                                |\n",
       "| fixed                                        | NA                                           | journal_impact                               |  0.035339962                                 | 5.541472e-04                                 |   63.773602                                  |  0.000000e+00                                |\n",
       "| fixed                                        | NA                                           | author_citation_log                          | -0.049385585                                 | 1.848563e-03                                 |  -26.715662                                  | 3.096064e-157                                |\n",
       "| fixed                                        | NA                                           | Social_Sciences                              |  0.831596390                                 | 1.710829e-02                                 |   48.607807                                  |  0.000000e+00                                |\n",
       "| fixed                                        | NA                                           | Materials_Science                            | -0.065506054                                 | 2.657275e-02                                 |   -2.465159                                  |  1.369525e-02                                |\n",
       "| fixed                                        | NA                                           | Engineering                                  | -0.375134157                                 | 2.340326e-02                                 |  -16.029144                                  |  7.997731e-58                                |\n",
       "| fixed                                        | NA                                           | Chemistry                                    | -0.326559182                                 | 1.959444e-02                                 |  -16.665909                                  |  2.319368e-62                                |\n",
       "| fixed                                        | NA                                           | Biochemistry__Genetics_and_Molecular_Biology | -0.123219229                                 | 1.150519e-02                                 |  -10.709878                                  |  9.148223e-27                                |\n",
       "| fixed                                        | NA                                           | Medicine                                     | -0.347651394                                 | 9.254097e-03                                 |  -37.567296                                  |  0.000000e+00                                |\n",
       "| fixed                                        | NA                                           | Nursing                                      |  0.170134780                                 | 2.737499e-02                                 |    6.214970                                  |  5.133432e-10                                |\n",
       "| fixed                                        | NA                                           | Agricultural_and_Biological_Sciences         |  0.392013594                                 | 1.369474e-02                                 |   28.625121                                  | 3.271487e-180                                |\n",
       "| fixed                                        | NA                                           | Pharmacology__Toxicology_and_Pharmaceutics   | -0.501489281                                 | 2.614748e-02                                 |  -19.179258                                  |  5.516202e-82                                |\n",
       "| fixed                                        | NA                                           | Neuroscience                                 |  0.024154113                                 | 1.890924e-02                                 |    1.277371                                  |  2.014714e-01                                |\n",
       "| fixed                                        | NA                                           | Business__Management_and_Accounting          | -0.254675199                                 | 3.237395e-02                                 |   -7.866672                                  |  3.642006e-15                                |\n",
       "| fixed                                        | NA                                           | Economics__Econometrics_and_Finance          | -0.405674123                                 | 3.473316e-02                                 |  -11.679736                                  |  1.617979e-31                                |\n",
       "| fixed                                        | NA                                           | Chemical_Engineering                         |  0.184389173                                 | 3.011717e-02                                 |    6.122393                                  |  9.218021e-10                                |\n",
       "| fixed                                        | NA                                           | Physics_and_Astronomy                        | -0.786065807                                 | 2.353891e-02                                 |  -33.394317                                  | 1.657807e-244                                |\n",
       "| fixed                                        | NA                                           | Computer_Science                             |  0.062207565                                 | 2.644765e-02                                 |    2.352102                                  |  1.866767e-02                                |\n",
       "| fixed                                        | NA                                           | Decision_Sciences                            | -0.476707187                                 | 5.460449e-02                                 |   -8.730184                                  |  2.542597e-18                                |\n",
       "| fixed                                        | NA                                           | Health_Professions                           |  0.875720368                                 | 3.087104e-02                                 |   28.367051                                  | 5.157735e-177                                |\n",
       "| fixed                                        | NA                                           | Psychology                                   | -0.612815513                                 | 2.511250e-02                                 |  -24.402810                                  | 1.596678e-131                                |\n",
       "| fixed                                        | NA                                           | Immunology_and_Microbiology                  | -0.093847577                                 | 2.139134e-02                                 |   -4.387176                                  |  1.148319e-05                                |\n",
       "| fixed                                        | NA                                           | Dentistry                                    | -1.195175018                                 | 9.440470e-02                                 |  -12.660122                                  |  9.834628e-37                                |\n",
       "| fixed                                        | NA                                           | Earth_and_Planetary_Sciences                 | -0.118035225                                 | 2.174312e-02                                 |   -5.428624                                  |  5.679004e-08                                |\n",
       "| fixed                                        | NA                                           | Environmental_Science                        |  0.158054473                                 | 1.649127e-02                                 |    9.584128                                  |  9.324180e-22                                |\n",
       "| fixed                                        | NA                                           | Mathematics                                  | -0.437984236                                 | 3.445422e-02                                 |  -12.712063                                  |  5.067945e-37                                |\n",
       "| fixed                                        | NA                                           | Arts_and_Humanities                          | -0.232288551                                 | 4.185634e-02                                 |   -5.549662                                  |  2.862230e-08                                |\n",
       "| fixed                                        | NA                                           | Energy                                       | -0.346584358                                 | 4.135554e-02                                 |   -8.380603                                  |  5.265732e-17                                |\n",
       "| fixed                                        | NA                                           | Veterinary                                   | -0.917010802                                 | 5.608924e-02                                 |  -16.349140                                  |  4.411621e-60                                |\n",
       "| fixed                                        | NA                                           | General                                      |  0.310973635                                 | 3.082875e-02                                 |   10.087132                                  |  6.298270e-24                                |\n",
       "| ran_pars                                     | doi                                          | sd__(Intercept)                              |  1.441741365                                 |           NA                                 |          NA                                  |            NA                                |\n",
       "\n"
      ],
      "text/plain": [
       "   effect   group term                                         estimate    \n",
       "1  fixed    NA    (Intercept)                                  -2.548255794\n",
       "2  fixed    NA    genderFemale                                 -0.252683539\n",
       "3  fixed    NA    authorship_posfirst_position                  0.316888932\n",
       "4  fixed    NA    authorship_posmiddle_position                -0.662388911\n",
       "5  fixed    NA    authorship_possolo_author                     0.671769855\n",
       "6  fixed    NA    author_pub_count_cate                         0.326350539\n",
       "7  fixed    NA    I(author_pub_count_cate^2)                   -0.027289899\n",
       "8  fixed    NA    affiliation_rank_cate                        -0.048866781\n",
       "9  fixed    NA    affiliation_cateinternational                 0.081037421\n",
       "10 fixed    NA    num_authors                                  -0.001620936\n",
       "11 fixed    NA    journal_impact                                0.035339962\n",
       "12 fixed    NA    author_citation_log                          -0.049385585\n",
       "13 fixed    NA    Social_Sciences                               0.831596390\n",
       "14 fixed    NA    Materials_Science                            -0.065506054\n",
       "15 fixed    NA    Engineering                                  -0.375134157\n",
       "16 fixed    NA    Chemistry                                    -0.326559182\n",
       "17 fixed    NA    Biochemistry__Genetics_and_Molecular_Biology -0.123219229\n",
       "18 fixed    NA    Medicine                                     -0.347651394\n",
       "19 fixed    NA    Nursing                                       0.170134780\n",
       "20 fixed    NA    Agricultural_and_Biological_Sciences          0.392013594\n",
       "21 fixed    NA    Pharmacology__Toxicology_and_Pharmaceutics   -0.501489281\n",
       "22 fixed    NA    Neuroscience                                  0.024154113\n",
       "23 fixed    NA    Business__Management_and_Accounting          -0.254675199\n",
       "24 fixed    NA    Economics__Econometrics_and_Finance          -0.405674123\n",
       "25 fixed    NA    Chemical_Engineering                          0.184389173\n",
       "26 fixed    NA    Physics_and_Astronomy                        -0.786065807\n",
       "27 fixed    NA    Computer_Science                              0.062207565\n",
       "28 fixed    NA    Decision_Sciences                            -0.476707187\n",
       "29 fixed    NA    Health_Professions                            0.875720368\n",
       "30 fixed    NA    Psychology                                   -0.612815513\n",
       "31 fixed    NA    Immunology_and_Microbiology                  -0.093847577\n",
       "32 fixed    NA    Dentistry                                    -1.195175018\n",
       "33 fixed    NA    Earth_and_Planetary_Sciences                 -0.118035225\n",
       "34 fixed    NA    Environmental_Science                         0.158054473\n",
       "35 fixed    NA    Mathematics                                  -0.437984236\n",
       "36 fixed    NA    Arts_and_Humanities                          -0.232288551\n",
       "37 fixed    NA    Energy                                       -0.346584358\n",
       "38 fixed    NA    Veterinary                                   -0.917010802\n",
       "39 fixed    NA    General                                       0.310973635\n",
       "40 ran_pars doi   sd__(Intercept)                               1.441741365\n",
       "   std.error    statistic   p.value      \n",
       "1  1.418281e-02 -179.672143  0.000000e+00\n",
       "2  6.658680e-03  -37.947990  0.000000e+00\n",
       "3  8.978428e-03   35.294479 7.137045e-273\n",
       "4  7.775703e-03  -85.187014  0.000000e+00\n",
       "5  1.984849e-02   33.844881 4.316335e-251\n",
       "6  5.665899e-03   57.599073  0.000000e+00\n",
       "7  5.279468e-04  -51.690627  0.000000e+00\n",
       "8  1.240734e-03  -39.385377  0.000000e+00\n",
       "9  7.804019e-03   10.384062  2.930353e-25\n",
       "10 9.280024e-05  -17.466936  2.558713e-68\n",
       "11 5.541472e-04   63.773602  0.000000e+00\n",
       "12 1.848563e-03  -26.715662 3.096064e-157\n",
       "13 1.710829e-02   48.607807  0.000000e+00\n",
       "14 2.657275e-02   -2.465159  1.369525e-02\n",
       "15 2.340326e-02  -16.029144  7.997731e-58\n",
       "16 1.959444e-02  -16.665909  2.319368e-62\n",
       "17 1.150519e-02  -10.709878  9.148223e-27\n",
       "18 9.254097e-03  -37.567296  0.000000e+00\n",
       "19 2.737499e-02    6.214970  5.133432e-10\n",
       "20 1.369474e-02   28.625121 3.271487e-180\n",
       "21 2.614748e-02  -19.179258  5.516202e-82\n",
       "22 1.890924e-02    1.277371  2.014714e-01\n",
       "23 3.237395e-02   -7.866672  3.642006e-15\n",
       "24 3.473316e-02  -11.679736  1.617979e-31\n",
       "25 3.011717e-02    6.122393  9.218021e-10\n",
       "26 2.353891e-02  -33.394317 1.657807e-244\n",
       "27 2.644765e-02    2.352102  1.866767e-02\n",
       "28 5.460449e-02   -8.730184  2.542597e-18\n",
       "29 3.087104e-02   28.367051 5.157735e-177\n",
       "30 2.511250e-02  -24.402810 1.596678e-131\n",
       "31 2.139134e-02   -4.387176  1.148319e-05\n",
       "32 9.440470e-02  -12.660122  9.834628e-37\n",
       "33 2.174312e-02   -5.428624  5.679004e-08\n",
       "34 1.649127e-02    9.584128  9.324180e-22\n",
       "35 3.445422e-02  -12.712063  5.067945e-37\n",
       "36 4.185634e-02   -5.549662  2.862230e-08\n",
       "37 4.135554e-02   -8.380603  5.265732e-17\n",
       "38 5.608924e-02  -16.349140  4.411621e-60\n",
       "39 3.082875e-02   10.087132  6.298270e-24\n",
       "40           NA          NA            NA"
      ]
     },
     "metadata": {},
     "output_type": "display_data"
    }
   ],
   "source": [
    "tidy(m_all_exc)"
   ]
  },
  {
   "cell_type": "code",
   "execution_count": 42,
   "id": "348048c7",
   "metadata": {
    "scrolled": true
   },
   "outputs": [
    {
     "name": "stdout",
     "output_type": "stream",
     "text": [
      "\n",
      "% Table created by stargazer v.5.2.2 by Marek Hlavac, Harvard University. E-mail: hlavac at fas.harvard.edu\n",
      "% Date and time: Tue, May 10, 2022 - 04:12:28 PM\n",
      "\\begin{table}[!htbp] \\centering \n",
      "  \\caption{} \n",
      "  \\label{} \n",
      "\\begin{tabular}{@{\\extracolsep{5pt}}lc} \n",
      "\\\\[-1.8ex]\\hline \n",
      "\\hline \\\\[-1.8ex] \n",
      " & \\multicolumn{1}{c}{\\textit{Dependent variable:}} \\\\ \n",
      "\\cline{2-2} \n",
      "\\\\[-1.8ex] & self\\_promotion \\\\ \n",
      "\\hline \\\\[-1.8ex] \n",
      " genderFemale & $-$0.253$^{***}$ \\\\ \n",
      "  & p = 0.000 \\\\ \n",
      "  authorship\\_posfirst\\_position & 0.317$^{***}$ \\\\ \n",
      "  & p = 0.000 \\\\ \n",
      "  authorship\\_posmiddle\\_position & $-$0.662$^{***}$ \\\\ \n",
      "  & p = 0.000 \\\\ \n",
      "  authorship\\_possolo\\_author & 0.672$^{***}$ \\\\ \n",
      "  & p = 0.000 \\\\ \n",
      "  author\\_pub\\_count\\_cate & 0.326$^{***}$ \\\\ \n",
      "  & p = 0.000 \\\\ \n",
      "  I(author\\_pub\\_count\\_cate$\\hat{\\mkern6mu}$2) & $-$0.027$^{***}$ \\\\ \n",
      "  & p = 0.000 \\\\ \n",
      "  affiliation\\_rank\\_cate & $-$0.049$^{***}$ \\\\ \n",
      "  & p = 0.000 \\\\ \n",
      "  affiliation\\_cateinternational & 0.081$^{***}$ \\\\ \n",
      "  & p = 0.000 \\\\ \n",
      "  num\\_authors & $-$0.002$^{***}$ \\\\ \n",
      "  & p = 0.000 \\\\ \n",
      "  journal\\_impact & 0.035$^{***}$ \\\\ \n",
      "  & p = 0.000 \\\\ \n",
      "  author\\_citation\\_log & $-$0.049$^{***}$ \\\\ \n",
      "  & p = 0.000 \\\\ \n",
      "  Social\\_Sciences & 0.832$^{***}$ \\\\ \n",
      "  & p = 0.000 \\\\ \n",
      "  Materials\\_Science & $-$0.066$^{*}$ \\\\ \n",
      "  & p = 0.014 \\\\ \n",
      "  Engineering & $-$0.375$^{***}$ \\\\ \n",
      "  & p = 0.000 \\\\ \n",
      "  Chemistry & $-$0.327$^{***}$ \\\\ \n",
      "  & p = 0.000 \\\\ \n",
      "  Biochemistry\\_\\_Genetics\\_and\\_Molecular\\_Biology & $-$0.123$^{***}$ \\\\ \n",
      "  & p = 0.000 \\\\ \n",
      "  Medicine & $-$0.348$^{***}$ \\\\ \n",
      "  & p = 0.000 \\\\ \n",
      "  Nursing & 0.170$^{***}$ \\\\ \n",
      "  & p = 0.000 \\\\ \n",
      "  Agricultural\\_and\\_Biological\\_Sciences & 0.392$^{***}$ \\\\ \n",
      "  & p = 0.000 \\\\ \n",
      "  Pharmacology\\_\\_Toxicology\\_and\\_Pharmaceutics & $-$0.501$^{***}$ \\\\ \n",
      "  & p = 0.000 \\\\ \n",
      "  Neuroscience & 0.024 \\\\ \n",
      "  & p = 0.202 \\\\ \n",
      "  Business\\_\\_Management\\_and\\_Accounting & $-$0.255$^{***}$ \\\\ \n",
      "  & p = 0.000 \\\\ \n",
      "  Economics\\_\\_Econometrics\\_and\\_Finance & $-$0.406$^{***}$ \\\\ \n",
      "  & p = 0.000 \\\\ \n",
      "  Chemical\\_Engineering & 0.184$^{***}$ \\\\ \n",
      "  & p = 0.000 \\\\ \n",
      "  Physics\\_and\\_Astronomy & $-$0.786$^{***}$ \\\\ \n",
      "  & p = 0.000 \\\\ \n",
      "  Computer\\_Science & 0.062$^{*}$ \\\\ \n",
      "  & p = 0.019 \\\\ \n",
      "  Decision\\_Sciences & $-$0.477$^{***}$ \\\\ \n",
      "  & p = 0.000 \\\\ \n",
      "  Health\\_Professions & 0.876$^{***}$ \\\\ \n",
      "  & p = 0.000 \\\\ \n",
      "  Psychology & $-$0.613$^{***}$ \\\\ \n",
      "  & p = 0.000 \\\\ \n",
      "  Immunology\\_and\\_Microbiology & $-$0.094$^{***}$ \\\\ \n",
      "  & p = 0.00002 \\\\ \n",
      "  Dentistry & $-$1.195$^{***}$ \\\\ \n",
      "  & p = 0.000 \\\\ \n",
      "  Earth\\_and\\_Planetary\\_Sciences & $-$0.118$^{***}$ \\\\ \n",
      "  & p = 0.00000 \\\\ \n",
      "  Environmental\\_Science & 0.158$^{***}$ \\\\ \n",
      "  & p = 0.000 \\\\ \n",
      "  Mathematics & $-$0.438$^{***}$ \\\\ \n",
      "  & p = 0.000 \\\\ \n",
      "  Arts\\_and\\_Humanities & $-$0.232$^{***}$ \\\\ \n",
      "  & p = 0.00000 \\\\ \n",
      "  Energy & $-$0.347$^{***}$ \\\\ \n",
      "  & p = 0.000 \\\\ \n",
      "  Veterinary & $-$0.917$^{***}$ \\\\ \n",
      "  & p = 0.000 \\\\ \n",
      "  General & 0.311$^{***}$ \\\\ \n",
      "  & p = 0.000 \\\\ \n",
      "  Constant & $-$2.548$^{***}$ \\\\ \n",
      "  & p = 0.000 \\\\ \n",
      " \\hline \\\\[-1.8ex] \n",
      "Observations & 2,015,885 \\\\ \n",
      "Log Likelihood & $-$500,315.600 \\\\ \n",
      "Akaike Inf. Crit. & 1,000,711.000 \\\\ \n",
      "Bayesian Inf. Crit. & 1,001,212.000 \\\\ \n",
      "\\hline \n",
      "\\hline \\\\[-1.8ex] \n",
      "\\textit{Note:}  & \\multicolumn{1}{r}{$^{*}$p$<$0.05; $^{**}$p$<$0.01; $^{***}$p$<$0.001} \\\\ \n",
      "\\end{tabular} \n",
      "\\end{table} \n"
     ]
    }
   ],
   "source": [
    "# use this search string in Sublime: \" \\\\\\\\ \\n  &\" with \" &\"\n",
    "stargazer(m_all_exc, type = \"latex\", single.row=TRUE, ci = FALSE, report = ('vc*p'), star.cutoffs = c(0.05, 0.01, 0.001))\n"
   ]
  },
  {
   "cell_type": "markdown",
   "id": "2d31eb13",
   "metadata": {},
   "source": [
    "### Subset of authors on Twitter"
   ]
  },
  {
   "cell_type": "code",
   "execution_count": 43,
   "id": "e80ee431",
   "metadata": {
    "scrolled": false
   },
   "outputs": [
    {
     "data": {
      "text/html": [
       "374320"
      ],
      "text/latex": [
       "374320"
      ],
      "text/markdown": [
       "374320"
      ],
      "text/plain": [
       "[1] 374320"
      ]
     },
     "metadata": {},
     "output_type": "display_data"
    }
   ],
   "source": [
    "nrow(mydata[mydata$author_self_promotion_rate > 0, ])"
   ]
  },
  {
   "cell_type": "code",
   "execution_count": 44,
   "id": "a2167dda",
   "metadata": {},
   "outputs": [
    {
     "data": {
      "text/html": [
       "0.157580620513686"
      ],
      "text/latex": [
       "0.157580620513686"
      ],
      "text/markdown": [
       "0.157580620513686"
      ],
      "text/plain": [
       "[1] 0.1575806"
      ]
     },
     "metadata": {},
     "output_type": "display_data"
    }
   ],
   "source": [
    "nrow(mydata[mydata$author_self_promotion_rate > 0, ]) / nrow(mydata)"
   ]
  },
  {
   "cell_type": "code",
   "execution_count": 45,
   "id": "6a2e54de",
   "metadata": {},
   "outputs": [],
   "source": [
    "base_str <- \"self_promotion ~ 1 + gender + authorship_pos + author_pub_count_cate + I(author_pub_count_cate^2) + \\\n",
    "            affiliation_rank_cate + affiliation_cate + num_authors + journal_impact + author_citation_log\"\n",
    "equation <- as.formula(paste(base_str, \" + (1|doi)\", keywords, sep = \" \"))\n",
    "m_on_tw <- glmer(formula = equation, data = mydata[mydata$author_self_promotion_rate > 0, ], \n",
    "                     family = \"binomial\", control = glmerControl(optimizer = \"nloptwrap\"), nAGQ = 0)\n"
   ]
  },
  {
   "cell_type": "code",
   "execution_count": 46,
   "id": "76f64e6f",
   "metadata": {
    "scrolled": true
   },
   "outputs": [
    {
     "data": {
      "text/html": [
       "<table>\n",
       "<thead><tr><th scope=col>effect</th><th scope=col>group</th><th scope=col>term</th><th scope=col>estimate</th><th scope=col>std.error</th><th scope=col>statistic</th><th scope=col>p.value</th></tr></thead>\n",
       "<tbody>\n",
       "\t<tr><td>fixed                                       </td><td>NA                                          </td><td>(Intercept)                                 </td><td> 1.770110506                                </td><td>2.333376e-02                                </td><td> 75.8604937                                 </td><td> 0.000000e+00                               </td></tr>\n",
       "\t<tr><td>fixed                                       </td><td>NA                                          </td><td>genderFemale                                </td><td>-0.069871660                                </td><td>9.990694e-03                                </td><td> -6.9936741                                 </td><td> 2.677792e-12                               </td></tr>\n",
       "\t<tr><td>fixed                                       </td><td>NA                                          </td><td>authorship_posfirst_position                </td><td> 0.260435484                                </td><td>1.455079e-02                                </td><td> 17.8983682                                 </td><td> 1.214279e-71                               </td></tr>\n",
       "\t<tr><td>fixed                                       </td><td>NA                                          </td><td>authorship_posmiddle_position               </td><td>-0.740984512                                </td><td>1.070766e-02                                </td><td>-69.2013562                                 </td><td> 0.000000e+00                               </td></tr>\n",
       "\t<tr><td>fixed                                       </td><td>NA                                          </td><td>authorship_possolo_author                   </td><td> 0.359248584                                </td><td>3.243531e-02                                </td><td> 11.0758493                                 </td><td> 1.643148e-28                               </td></tr>\n",
       "\t<tr><td>fixed                                       </td><td>NA                                          </td><td>author_pub_count_cate                       </td><td>-0.401610731                                </td><td>9.562722e-03                                </td><td>-41.9975322                                 </td><td> 0.000000e+00                               </td></tr>\n",
       "\t<tr><td>fixed                                       </td><td>NA                                          </td><td>I(author_pub_count_cate^2)                  </td><td> 0.007624041                                </td><td>8.468138e-04                                </td><td>  9.0032083                                 </td><td> 2.192160e-19                               </td></tr>\n",
       "\t<tr><td>fixed                                       </td><td>NA                                          </td><td>affiliation_rank_cate                       </td><td> 0.014829163                                </td><td>1.725573e-03                                </td><td>  8.5937610                                 </td><td> 8.416803e-18                               </td></tr>\n",
       "\t<tr><td>fixed                                       </td><td>NA                                          </td><td>affiliation_cateinternational               </td><td> 0.247634111                                </td><td>1.024264e-02                                </td><td> 24.1767773                                 </td><td>3.905197e-129                               </td></tr>\n",
       "\t<tr><td>fixed                                       </td><td>NA                                          </td><td>num_authors                                 </td><td>-0.001415606                                </td><td>7.723111e-05                                </td><td>-18.3294802                                 </td><td> 4.814843e-75                               </td></tr>\n",
       "\t<tr><td>fixed                                       </td><td>NA                                          </td><td>journal_impact                              </td><td> 0.023950911                                </td><td>6.658222e-04                                </td><td> 35.9719302                                 </td><td>2.298823e-283                               </td></tr>\n",
       "\t<tr><td>fixed                                       </td><td>NA                                          </td><td>author_citation_log                         </td><td> 0.002392659                                </td><td>2.738555e-03                                </td><td>  0.8736940                                 </td><td> 3.822849e-01                               </td></tr>\n",
       "\t<tr><td>fixed                                       </td><td>NA                                          </td><td>Social_Sciences                             </td><td> 0.562044481                                </td><td>2.507020e-02                                </td><td> 22.4188272                                 </td><td>2.578907e-111                               </td></tr>\n",
       "\t<tr><td>fixed                                       </td><td>NA                                          </td><td>Materials_Science                           </td><td>-0.050294692                                </td><td>3.863036e-02                                </td><td> -1.3019473                                 </td><td> 1.929344e-01                               </td></tr>\n",
       "\t<tr><td>fixed                                       </td><td>NA                                          </td><td>Engineering                                 </td><td> 0.031235626                                </td><td>3.477614e-02                                </td><td>  0.8981914                                 </td><td> 3.690835e-01                               </td></tr>\n",
       "\t<tr><td>fixed                                       </td><td>NA                                          </td><td>Chemistry                                   </td><td> 0.046535400                                </td><td>2.762970e-02                                </td><td>  1.6842530                                 </td><td> 9.213278e-02                               </td></tr>\n",
       "\t<tr><td>fixed                                       </td><td>NA                                          </td><td>Biochemistry__Genetics_and_Molecular_Biology</td><td>-0.186203394                                </td><td>1.439412e-02                                </td><td>-12.9360724                                 </td><td> 2.816651e-38                               </td></tr>\n",
       "\t<tr><td>fixed                                       </td><td>NA                                          </td><td>Medicine                                    </td><td>-0.490145267                                </td><td>1.147426e-02                                </td><td>-42.7169256                                 </td><td> 0.000000e+00                               </td></tr>\n",
       "\t<tr><td>fixed                                       </td><td>NA                                          </td><td>Nursing                                     </td><td>-0.021770992                                </td><td>3.395144e-02                                </td><td> -0.6412392                                 </td><td> 5.213673e-01                               </td></tr>\n",
       "\t<tr><td>fixed                                       </td><td>NA                                          </td><td>Agricultural_and_Biological_Sciences        </td><td> 0.259811809                                </td><td>1.812747e-02                                </td><td> 14.3324878                                 </td><td> 1.371192e-46                               </td></tr>\n",
       "\t<tr><td>fixed                                       </td><td>NA                                          </td><td>Pharmacology__Toxicology_and_Pharmaceutics  </td><td>-0.241088050                                </td><td>3.374051e-02                                </td><td> -7.1453593                                 </td><td> 8.976081e-13                               </td></tr>\n",
       "\t<tr><td>fixed                                       </td><td>NA                                          </td><td>Neuroscience                                </td><td>-0.007148470                                </td><td>2.383760e-02                                </td><td> -0.2998822                                 </td><td> 7.642670e-01                               </td></tr>\n",
       "\t<tr><td>fixed                                       </td><td>NA                                          </td><td>Business__Management_and_Accounting         </td><td> 0.050693904                                </td><td>5.180841e-02                                </td><td>  0.9784880                                 </td><td> 3.278330e-01                               </td></tr>\n",
       "\t<tr><td>fixed                                       </td><td>NA                                          </td><td>Economics__Econometrics_and_Finance         </td><td> 0.067479388                                </td><td>5.675158e-02                                </td><td>  1.1890309                                 </td><td> 2.344275e-01                               </td></tr>\n",
       "\t<tr><td>fixed                                       </td><td>NA                                          </td><td>Chemical_Engineering                        </td><td> 0.308612145                                </td><td>4.243558e-02                                </td><td>  7.2724854                                 </td><td> 3.529327e-13                               </td></tr>\n",
       "\t<tr><td>fixed                                       </td><td>NA                                          </td><td>Physics_and_Astronomy                       </td><td>-0.095101225                                </td><td>3.420108e-02                                </td><td> -2.7806500                                 </td><td> 5.425018e-03                               </td></tr>\n",
       "\t<tr><td>fixed                                       </td><td>NA                                          </td><td>Computer_Science                            </td><td> 0.261910877                                </td><td>3.965050e-02                                </td><td>  6.6054882                                 </td><td> 3.962095e-11                               </td></tr>\n",
       "\t<tr><td>fixed                                       </td><td>NA                                          </td><td>Decision_Sciences                           </td><td>-0.248765310                                </td><td>8.343282e-02                                </td><td> -2.9816242                                 </td><td> 2.867237e-03                               </td></tr>\n",
       "\t<tr><td>fixed                                       </td><td>NA                                          </td><td>Health_Professions                          </td><td> 0.583061539                                </td><td>3.906909e-02                                </td><td> 14.9238595                                 </td><td> 2.305437e-50                               </td></tr>\n",
       "\t<tr><td>fixed                                       </td><td>NA                                          </td><td>Psychology                                  </td><td>-0.593183682                                </td><td>3.463971e-02                                </td><td>-17.1243835                                 </td><td> 9.763824e-66                               </td></tr>\n",
       "\t<tr><td>fixed                                       </td><td>NA                                          </td><td>Immunology_and_Microbiology                 </td><td> 0.067517789                                </td><td>2.755152e-02                                </td><td>  2.4506014                                 </td><td> 1.426178e-02                               </td></tr>\n",
       "\t<tr><td>fixed                                       </td><td>NA                                          </td><td>Dentistry                                   </td><td>-0.392782616                                </td><td>1.284391e-01                                </td><td> -3.0581239                                 </td><td> 2.227275e-03                               </td></tr>\n",
       "\t<tr><td>fixed                                       </td><td>NA                                          </td><td>Earth_and_Planetary_Sciences                </td><td>-0.156361690                                </td><td>2.858776e-02                                </td><td> -5.4695330                                 </td><td> 4.512229e-08                               </td></tr>\n",
       "\t<tr><td>fixed                                       </td><td>NA                                          </td><td>Environmental_Science                       </td><td> 0.011543461                                </td><td>2.194222e-02                                </td><td>  0.5260845                                 </td><td> 5.988295e-01                               </td></tr>\n",
       "\t<tr><td>fixed                                       </td><td>NA                                          </td><td>Mathematics                                 </td><td> 0.037089703                                </td><td>5.297426e-02                                </td><td>  0.7001457                                 </td><td> 4.838363e-01                               </td></tr>\n",
       "\t<tr><td>fixed                                       </td><td>NA                                          </td><td>Arts_and_Humanities                         </td><td> 0.069500066                                </td><td>7.173342e-02                                </td><td>  0.9688659                                 </td><td> 3.326121e-01                               </td></tr>\n",
       "\t<tr><td>fixed                                       </td><td>NA                                          </td><td>Energy                                      </td><td> 0.062155148                                </td><td>6.360654e-02                                </td><td>  0.9771817                                 </td><td> 3.284792e-01                               </td></tr>\n",
       "\t<tr><td>fixed                                       </td><td>NA                                          </td><td>Veterinary                                  </td><td>-0.409414714                                </td><td>7.671160e-02                                </td><td> -5.3370638                                 </td><td> 9.446379e-08                               </td></tr>\n",
       "\t<tr><td>fixed                                       </td><td>NA                                          </td><td>General                                     </td><td> 0.400979543                                </td><td>3.697197e-02                                </td><td> 10.8455008                                 </td><td> 2.094853e-27                               </td></tr>\n",
       "\t<tr><td>ran_pars                                    </td><td>doi                                         </td><td>sd__(Intercept)                             </td><td> 1.169773800                                </td><td>          NA                                </td><td>         NA                                 </td><td>           NA                               </td></tr>\n",
       "</tbody>\n",
       "</table>\n"
      ],
      "text/latex": [
       "\\begin{tabular}{r|lllllll}\n",
       " effect & group & term & estimate & std.error & statistic & p.value\\\\\n",
       "\\hline\n",
       "\t fixed                                        & NA                                           & (Intercept)                                  &  1.770110506                                 & 2.333376e-02                                 &  75.8604937                                  &  0.000000e+00                               \\\\\n",
       "\t fixed                                        & NA                                           & genderFemale                                 & -0.069871660                                 & 9.990694e-03                                 &  -6.9936741                                  &  2.677792e-12                               \\\\\n",
       "\t fixed                                            & NA                                               & authorship\\_posfirst\\_position                 &  0.260435484                                     & 1.455079e-02                                     &  17.8983682                                      &  1.214279e-71                                   \\\\\n",
       "\t fixed                                            & NA                                               & authorship\\_posmiddle\\_position                & -0.740984512                                     & 1.070766e-02                                     & -69.2013562                                      &  0.000000e+00                                   \\\\\n",
       "\t fixed                                            & NA                                               & authorship\\_possolo\\_author                    &  0.359248584                                     & 3.243531e-02                                     &  11.0758493                                      &  1.643148e-28                                   \\\\\n",
       "\t fixed                                              & NA                                                 & author\\_pub\\_count\\_cate                        & -0.401610731                                       & 9.562722e-03                                       & -41.9975322                                        &  0.000000e+00                                     \\\\\n",
       "\t fixed                                                                & NA                                                                   & I(author\\_pub\\_count\\_cate\\textasciicircum{}2)                   &  0.007624041                                                         & 8.468138e-04                                                         &   9.0032083                                                          &  2.192160e-19                                                       \\\\\n",
       "\t fixed                                            & NA                                               & affiliation\\_rank\\_cate                        &  0.014829163                                     & 1.725573e-03                                     &   8.5937610                                      &  8.416803e-18                                   \\\\\n",
       "\t fixed                                          & NA                                             & affiliation\\_cateinternational                &  0.247634111                                   & 1.024264e-02                                   &  24.1767773                                    & 3.905197e-129                                 \\\\\n",
       "\t fixed                                          & NA                                             & num\\_authors                                  & -0.001415606                                   & 7.723111e-05                                   & -18.3294802                                    &  4.814843e-75                                 \\\\\n",
       "\t fixed                                          & NA                                             & journal\\_impact                               &  0.023950911                                   & 6.658222e-04                                   &  35.9719302                                    & 2.298823e-283                                 \\\\\n",
       "\t fixed                                            & NA                                               & author\\_citation\\_log                          &  0.002392659                                     & 2.738555e-03                                     &   0.8736940                                      &  3.822849e-01                                   \\\\\n",
       "\t fixed                                          & NA                                             & Social\\_Sciences                              &  0.562044481                                   & 2.507020e-02                                   &  22.4188272                                    & 2.578907e-111                                 \\\\\n",
       "\t fixed                                          & NA                                             & Materials\\_Science                            & -0.050294692                                   & 3.863036e-02                                   &  -1.3019473                                    &  1.929344e-01                                 \\\\\n",
       "\t fixed                                        & NA                                           & Engineering                                  &  0.031235626                                 & 3.477614e-02                                 &   0.8981914                                  &  3.690835e-01                               \\\\\n",
       "\t fixed                                        & NA                                           & Chemistry                                    &  0.046535400                                 & 2.762970e-02                                 &   1.6842530                                  &  9.213278e-02                               \\\\\n",
       "\t fixed                                                  & NA                                                     & Biochemistry\\_\\_Genetics\\_and\\_Molecular\\_Biology & -0.186203394                                           & 1.439412e-02                                           & -12.9360724                                            &  2.816651e-38                                         \\\\\n",
       "\t fixed                                        & NA                                           & Medicine                                     & -0.490145267                                 & 1.147426e-02                                 & -42.7169256                                  &  0.000000e+00                               \\\\\n",
       "\t fixed                                        & NA                                           & Nursing                                      & -0.021770992                                 & 3.395144e-02                                 &  -0.6412392                                  &  5.213673e-01                               \\\\\n",
       "\t fixed                                              & NA                                                 & Agricultural\\_and\\_Biological\\_Sciences         &  0.259811809                                       & 1.812747e-02                                       &  14.3324878                                        &  1.371192e-46                                     \\\\\n",
       "\t fixed                                                & NA                                                   & Pharmacology\\_\\_Toxicology\\_and\\_Pharmaceutics   & -0.241088050                                         & 3.374051e-02                                         &  -7.1453593                                          &  8.976081e-13                                       \\\\\n",
       "\t fixed                                        & NA                                           & Neuroscience                                 & -0.007148470                                 & 2.383760e-02                                 &  -0.2998822                                  &  7.642670e-01                               \\\\\n",
       "\t fixed                                                & NA                                                   & Business\\_\\_Management\\_and\\_Accounting          &  0.050693904                                         & 5.180841e-02                                         &   0.9784880                                          &  3.278330e-01                                       \\\\\n",
       "\t fixed                                                & NA                                                   & Economics\\_\\_Econometrics\\_and\\_Finance          &  0.067479388                                         & 5.675158e-02                                         &   1.1890309                                          &  2.344275e-01                                       \\\\\n",
       "\t fixed                                          & NA                                             & Chemical\\_Engineering                         &  0.308612145                                   & 4.243558e-02                                   &   7.2724854                                    &  3.529327e-13                                 \\\\\n",
       "\t fixed                                            & NA                                               & Physics\\_and\\_Astronomy                        & -0.095101225                                     & 3.420108e-02                                     &  -2.7806500                                      &  5.425018e-03                                   \\\\\n",
       "\t fixed                                          & NA                                             & Computer\\_Science                             &  0.261910877                                   & 3.965050e-02                                   &   6.6054882                                    &  3.962095e-11                                 \\\\\n",
       "\t fixed                                          & NA                                             & Decision\\_Sciences                            & -0.248765310                                   & 8.343282e-02                                   &  -2.9816242                                    &  2.867237e-03                                 \\\\\n",
       "\t fixed                                          & NA                                             & Health\\_Professions                           &  0.583061539                                   & 3.906909e-02                                   &  14.9238595                                    &  2.305437e-50                                 \\\\\n",
       "\t fixed                                        & NA                                           & Psychology                                   & -0.593183682                                 & 3.463971e-02                                 & -17.1243835                                  &  9.763824e-66                               \\\\\n",
       "\t fixed                                            & NA                                               & Immunology\\_and\\_Microbiology                  &  0.067517789                                     & 2.755152e-02                                     &   2.4506014                                      &  1.426178e-02                                   \\\\\n",
       "\t fixed                                        & NA                                           & Dentistry                                    & -0.392782616                                 & 1.284391e-01                                 &  -3.0581239                                  &  2.227275e-03                               \\\\\n",
       "\t fixed                                              & NA                                                 & Earth\\_and\\_Planetary\\_Sciences                 & -0.156361690                                       & 2.858776e-02                                       &  -5.4695330                                        &  4.512229e-08                                     \\\\\n",
       "\t fixed                                          & NA                                             & Environmental\\_Science                        &  0.011543461                                   & 2.194222e-02                                   &   0.5260845                                    &  5.988295e-01                                 \\\\\n",
       "\t fixed                                        & NA                                           & Mathematics                                  &  0.037089703                                 & 5.297426e-02                                 &   0.7001457                                  &  4.838363e-01                               \\\\\n",
       "\t fixed                                            & NA                                               & Arts\\_and\\_Humanities                          &  0.069500066                                     & 7.173342e-02                                     &   0.9688659                                      &  3.326121e-01                                   \\\\\n",
       "\t fixed                                        & NA                                           & Energy                                       &  0.062155148                                 & 6.360654e-02                                 &   0.9771817                                  &  3.284792e-01                               \\\\\n",
       "\t fixed                                        & NA                                           & Veterinary                                   & -0.409414714                                 & 7.671160e-02                                 &  -5.3370638                                  &  9.446379e-08                               \\\\\n",
       "\t fixed                                        & NA                                           & General                                      &  0.400979543                                 & 3.697197e-02                                 &  10.8455008                                  &  2.094853e-27                               \\\\\n",
       "\t ran\\_pars                                       & doi                                              & sd\\_\\_(Intercept)                              &  1.169773800                                     &           NA                                     &          NA                                      &            NA                                   \\\\\n",
       "\\end{tabular}\n"
      ],
      "text/markdown": [
       "\n",
       "| effect | group | term | estimate | std.error | statistic | p.value |\n",
       "|---|---|---|---|---|---|---|\n",
       "| fixed                                        | NA                                           | (Intercept)                                  |  1.770110506                                 | 2.333376e-02                                 |  75.8604937                                  |  0.000000e+00                                |\n",
       "| fixed                                        | NA                                           | genderFemale                                 | -0.069871660                                 | 9.990694e-03                                 |  -6.9936741                                  |  2.677792e-12                                |\n",
       "| fixed                                        | NA                                           | authorship_posfirst_position                 |  0.260435484                                 | 1.455079e-02                                 |  17.8983682                                  |  1.214279e-71                                |\n",
       "| fixed                                        | NA                                           | authorship_posmiddle_position                | -0.740984512                                 | 1.070766e-02                                 | -69.2013562                                  |  0.000000e+00                                |\n",
       "| fixed                                        | NA                                           | authorship_possolo_author                    |  0.359248584                                 | 3.243531e-02                                 |  11.0758493                                  |  1.643148e-28                                |\n",
       "| fixed                                        | NA                                           | author_pub_count_cate                        | -0.401610731                                 | 9.562722e-03                                 | -41.9975322                                  |  0.000000e+00                                |\n",
       "| fixed                                        | NA                                           | I(author_pub_count_cate^2)                   |  0.007624041                                 | 8.468138e-04                                 |   9.0032083                                  |  2.192160e-19                                |\n",
       "| fixed                                        | NA                                           | affiliation_rank_cate                        |  0.014829163                                 | 1.725573e-03                                 |   8.5937610                                  |  8.416803e-18                                |\n",
       "| fixed                                        | NA                                           | affiliation_cateinternational                |  0.247634111                                 | 1.024264e-02                                 |  24.1767773                                  | 3.905197e-129                                |\n",
       "| fixed                                        | NA                                           | num_authors                                  | -0.001415606                                 | 7.723111e-05                                 | -18.3294802                                  |  4.814843e-75                                |\n",
       "| fixed                                        | NA                                           | journal_impact                               |  0.023950911                                 | 6.658222e-04                                 |  35.9719302                                  | 2.298823e-283                                |\n",
       "| fixed                                        | NA                                           | author_citation_log                          |  0.002392659                                 | 2.738555e-03                                 |   0.8736940                                  |  3.822849e-01                                |\n",
       "| fixed                                        | NA                                           | Social_Sciences                              |  0.562044481                                 | 2.507020e-02                                 |  22.4188272                                  | 2.578907e-111                                |\n",
       "| fixed                                        | NA                                           | Materials_Science                            | -0.050294692                                 | 3.863036e-02                                 |  -1.3019473                                  |  1.929344e-01                                |\n",
       "| fixed                                        | NA                                           | Engineering                                  |  0.031235626                                 | 3.477614e-02                                 |   0.8981914                                  |  3.690835e-01                                |\n",
       "| fixed                                        | NA                                           | Chemistry                                    |  0.046535400                                 | 2.762970e-02                                 |   1.6842530                                  |  9.213278e-02                                |\n",
       "| fixed                                        | NA                                           | Biochemistry__Genetics_and_Molecular_Biology | -0.186203394                                 | 1.439412e-02                                 | -12.9360724                                  |  2.816651e-38                                |\n",
       "| fixed                                        | NA                                           | Medicine                                     | -0.490145267                                 | 1.147426e-02                                 | -42.7169256                                  |  0.000000e+00                                |\n",
       "| fixed                                        | NA                                           | Nursing                                      | -0.021770992                                 | 3.395144e-02                                 |  -0.6412392                                  |  5.213673e-01                                |\n",
       "| fixed                                        | NA                                           | Agricultural_and_Biological_Sciences         |  0.259811809                                 | 1.812747e-02                                 |  14.3324878                                  |  1.371192e-46                                |\n",
       "| fixed                                        | NA                                           | Pharmacology__Toxicology_and_Pharmaceutics   | -0.241088050                                 | 3.374051e-02                                 |  -7.1453593                                  |  8.976081e-13                                |\n",
       "| fixed                                        | NA                                           | Neuroscience                                 | -0.007148470                                 | 2.383760e-02                                 |  -0.2998822                                  |  7.642670e-01                                |\n",
       "| fixed                                        | NA                                           | Business__Management_and_Accounting          |  0.050693904                                 | 5.180841e-02                                 |   0.9784880                                  |  3.278330e-01                                |\n",
       "| fixed                                        | NA                                           | Economics__Econometrics_and_Finance          |  0.067479388                                 | 5.675158e-02                                 |   1.1890309                                  |  2.344275e-01                                |\n",
       "| fixed                                        | NA                                           | Chemical_Engineering                         |  0.308612145                                 | 4.243558e-02                                 |   7.2724854                                  |  3.529327e-13                                |\n",
       "| fixed                                        | NA                                           | Physics_and_Astronomy                        | -0.095101225                                 | 3.420108e-02                                 |  -2.7806500                                  |  5.425018e-03                                |\n",
       "| fixed                                        | NA                                           | Computer_Science                             |  0.261910877                                 | 3.965050e-02                                 |   6.6054882                                  |  3.962095e-11                                |\n",
       "| fixed                                        | NA                                           | Decision_Sciences                            | -0.248765310                                 | 8.343282e-02                                 |  -2.9816242                                  |  2.867237e-03                                |\n",
       "| fixed                                        | NA                                           | Health_Professions                           |  0.583061539                                 | 3.906909e-02                                 |  14.9238595                                  |  2.305437e-50                                |\n",
       "| fixed                                        | NA                                           | Psychology                                   | -0.593183682                                 | 3.463971e-02                                 | -17.1243835                                  |  9.763824e-66                                |\n",
       "| fixed                                        | NA                                           | Immunology_and_Microbiology                  |  0.067517789                                 | 2.755152e-02                                 |   2.4506014                                  |  1.426178e-02                                |\n",
       "| fixed                                        | NA                                           | Dentistry                                    | -0.392782616                                 | 1.284391e-01                                 |  -3.0581239                                  |  2.227275e-03                                |\n",
       "| fixed                                        | NA                                           | Earth_and_Planetary_Sciences                 | -0.156361690                                 | 2.858776e-02                                 |  -5.4695330                                  |  4.512229e-08                                |\n",
       "| fixed                                        | NA                                           | Environmental_Science                        |  0.011543461                                 | 2.194222e-02                                 |   0.5260845                                  |  5.988295e-01                                |\n",
       "| fixed                                        | NA                                           | Mathematics                                  |  0.037089703                                 | 5.297426e-02                                 |   0.7001457                                  |  4.838363e-01                                |\n",
       "| fixed                                        | NA                                           | Arts_and_Humanities                          |  0.069500066                                 | 7.173342e-02                                 |   0.9688659                                  |  3.326121e-01                                |\n",
       "| fixed                                        | NA                                           | Energy                                       |  0.062155148                                 | 6.360654e-02                                 |   0.9771817                                  |  3.284792e-01                                |\n",
       "| fixed                                        | NA                                           | Veterinary                                   | -0.409414714                                 | 7.671160e-02                                 |  -5.3370638                                  |  9.446379e-08                                |\n",
       "| fixed                                        | NA                                           | General                                      |  0.400979543                                 | 3.697197e-02                                 |  10.8455008                                  |  2.094853e-27                                |\n",
       "| ran_pars                                     | doi                                          | sd__(Intercept)                              |  1.169773800                                 |           NA                                 |          NA                                  |            NA                                |\n",
       "\n"
      ],
      "text/plain": [
       "   effect   group term                                         estimate    \n",
       "1  fixed    NA    (Intercept)                                   1.770110506\n",
       "2  fixed    NA    genderFemale                                 -0.069871660\n",
       "3  fixed    NA    authorship_posfirst_position                  0.260435484\n",
       "4  fixed    NA    authorship_posmiddle_position                -0.740984512\n",
       "5  fixed    NA    authorship_possolo_author                     0.359248584\n",
       "6  fixed    NA    author_pub_count_cate                        -0.401610731\n",
       "7  fixed    NA    I(author_pub_count_cate^2)                    0.007624041\n",
       "8  fixed    NA    affiliation_rank_cate                         0.014829163\n",
       "9  fixed    NA    affiliation_cateinternational                 0.247634111\n",
       "10 fixed    NA    num_authors                                  -0.001415606\n",
       "11 fixed    NA    journal_impact                                0.023950911\n",
       "12 fixed    NA    author_citation_log                           0.002392659\n",
       "13 fixed    NA    Social_Sciences                               0.562044481\n",
       "14 fixed    NA    Materials_Science                            -0.050294692\n",
       "15 fixed    NA    Engineering                                   0.031235626\n",
       "16 fixed    NA    Chemistry                                     0.046535400\n",
       "17 fixed    NA    Biochemistry__Genetics_and_Molecular_Biology -0.186203394\n",
       "18 fixed    NA    Medicine                                     -0.490145267\n",
       "19 fixed    NA    Nursing                                      -0.021770992\n",
       "20 fixed    NA    Agricultural_and_Biological_Sciences          0.259811809\n",
       "21 fixed    NA    Pharmacology__Toxicology_and_Pharmaceutics   -0.241088050\n",
       "22 fixed    NA    Neuroscience                                 -0.007148470\n",
       "23 fixed    NA    Business__Management_and_Accounting           0.050693904\n",
       "24 fixed    NA    Economics__Econometrics_and_Finance           0.067479388\n",
       "25 fixed    NA    Chemical_Engineering                          0.308612145\n",
       "26 fixed    NA    Physics_and_Astronomy                        -0.095101225\n",
       "27 fixed    NA    Computer_Science                              0.261910877\n",
       "28 fixed    NA    Decision_Sciences                            -0.248765310\n",
       "29 fixed    NA    Health_Professions                            0.583061539\n",
       "30 fixed    NA    Psychology                                   -0.593183682\n",
       "31 fixed    NA    Immunology_and_Microbiology                   0.067517789\n",
       "32 fixed    NA    Dentistry                                    -0.392782616\n",
       "33 fixed    NA    Earth_and_Planetary_Sciences                 -0.156361690\n",
       "34 fixed    NA    Environmental_Science                         0.011543461\n",
       "35 fixed    NA    Mathematics                                   0.037089703\n",
       "36 fixed    NA    Arts_and_Humanities                           0.069500066\n",
       "37 fixed    NA    Energy                                        0.062155148\n",
       "38 fixed    NA    Veterinary                                   -0.409414714\n",
       "39 fixed    NA    General                                       0.400979543\n",
       "40 ran_pars doi   sd__(Intercept)                               1.169773800\n",
       "   std.error    statistic   p.value      \n",
       "1  2.333376e-02  75.8604937  0.000000e+00\n",
       "2  9.990694e-03  -6.9936741  2.677792e-12\n",
       "3  1.455079e-02  17.8983682  1.214279e-71\n",
       "4  1.070766e-02 -69.2013562  0.000000e+00\n",
       "5  3.243531e-02  11.0758493  1.643148e-28\n",
       "6  9.562722e-03 -41.9975322  0.000000e+00\n",
       "7  8.468138e-04   9.0032083  2.192160e-19\n",
       "8  1.725573e-03   8.5937610  8.416803e-18\n",
       "9  1.024264e-02  24.1767773 3.905197e-129\n",
       "10 7.723111e-05 -18.3294802  4.814843e-75\n",
       "11 6.658222e-04  35.9719302 2.298823e-283\n",
       "12 2.738555e-03   0.8736940  3.822849e-01\n",
       "13 2.507020e-02  22.4188272 2.578907e-111\n",
       "14 3.863036e-02  -1.3019473  1.929344e-01\n",
       "15 3.477614e-02   0.8981914  3.690835e-01\n",
       "16 2.762970e-02   1.6842530  9.213278e-02\n",
       "17 1.439412e-02 -12.9360724  2.816651e-38\n",
       "18 1.147426e-02 -42.7169256  0.000000e+00\n",
       "19 3.395144e-02  -0.6412392  5.213673e-01\n",
       "20 1.812747e-02  14.3324878  1.371192e-46\n",
       "21 3.374051e-02  -7.1453593  8.976081e-13\n",
       "22 2.383760e-02  -0.2998822  7.642670e-01\n",
       "23 5.180841e-02   0.9784880  3.278330e-01\n",
       "24 5.675158e-02   1.1890309  2.344275e-01\n",
       "25 4.243558e-02   7.2724854  3.529327e-13\n",
       "26 3.420108e-02  -2.7806500  5.425018e-03\n",
       "27 3.965050e-02   6.6054882  3.962095e-11\n",
       "28 8.343282e-02  -2.9816242  2.867237e-03\n",
       "29 3.906909e-02  14.9238595  2.305437e-50\n",
       "30 3.463971e-02 -17.1243835  9.763824e-66\n",
       "31 2.755152e-02   2.4506014  1.426178e-02\n",
       "32 1.284391e-01  -3.0581239  2.227275e-03\n",
       "33 2.858776e-02  -5.4695330  4.512229e-08\n",
       "34 2.194222e-02   0.5260845  5.988295e-01\n",
       "35 5.297426e-02   0.7001457  4.838363e-01\n",
       "36 7.173342e-02   0.9688659  3.326121e-01\n",
       "37 6.360654e-02   0.9771817  3.284792e-01\n",
       "38 7.671160e-02  -5.3370638  9.446379e-08\n",
       "39 3.697197e-02  10.8455008  2.094853e-27\n",
       "40           NA          NA            NA"
      ]
     },
     "metadata": {},
     "output_type": "display_data"
    }
   ],
   "source": [
    "tidy(m_on_tw)"
   ]
  },
  {
   "cell_type": "code",
   "execution_count": 47,
   "id": "ea4dcb02",
   "metadata": {
    "scrolled": true
   },
   "outputs": [
    {
     "name": "stdout",
     "output_type": "stream",
     "text": [
      "\n",
      "% Table created by stargazer v.5.2.2 by Marek Hlavac, Harvard University. E-mail: hlavac at fas.harvard.edu\n",
      "% Date and time: Tue, May 10, 2022 - 04:13:23 PM\n",
      "\\begin{table}[!htbp] \\centering \n",
      "  \\caption{} \n",
      "  \\label{} \n",
      "\\begin{tabular}{@{\\extracolsep{5pt}}lc} \n",
      "\\\\[-1.8ex]\\hline \n",
      "\\hline \\\\[-1.8ex] \n",
      " & \\multicolumn{1}{c}{\\textit{Dependent variable:}} \\\\ \n",
      "\\cline{2-2} \n",
      "\\\\[-1.8ex] & self\\_promotion \\\\ \n",
      "\\hline \\\\[-1.8ex] \n",
      " genderFemale & $-$0.070$^{***}$ \\\\ \n",
      "  & p = 0.000 \\\\ \n",
      "  authorship\\_posfirst\\_position & 0.260$^{***}$ \\\\ \n",
      "  & p = 0.000 \\\\ \n",
      "  authorship\\_posmiddle\\_position & $-$0.741$^{***}$ \\\\ \n",
      "  & p = 0.000 \\\\ \n",
      "  authorship\\_possolo\\_author & 0.359$^{***}$ \\\\ \n",
      "  & p = 0.000 \\\\ \n",
      "  author\\_pub\\_count\\_cate & $-$0.402$^{***}$ \\\\ \n",
      "  & p = 0.000 \\\\ \n",
      "  I(author\\_pub\\_count\\_cate$\\hat{\\mkern6mu}$2) & 0.008$^{***}$ \\\\ \n",
      "  & p = 0.000 \\\\ \n",
      "  affiliation\\_rank\\_cate & 0.015$^{***}$ \\\\ \n",
      "  & p = 0.000 \\\\ \n",
      "  affiliation\\_cateinternational & 0.248$^{***}$ \\\\ \n",
      "  & p = 0.000 \\\\ \n",
      "  num\\_authors & $-$0.001$^{***}$ \\\\ \n",
      "  & p = 0.000 \\\\ \n",
      "  journal\\_impact & 0.024$^{***}$ \\\\ \n",
      "  & p = 0.000 \\\\ \n",
      "  author\\_citation\\_log & 0.002 \\\\ \n",
      "  & p = 0.383 \\\\ \n",
      "  Social\\_Sciences & 0.562$^{***}$ \\\\ \n",
      "  & p = 0.000 \\\\ \n",
      "  Materials\\_Science & $-$0.050 \\\\ \n",
      "  & p = 0.193 \\\\ \n",
      "  Engineering & 0.031 \\\\ \n",
      "  & p = 0.370 \\\\ \n",
      "  Chemistry & 0.047 \\\\ \n",
      "  & p = 0.093 \\\\ \n",
      "  Biochemistry\\_\\_Genetics\\_and\\_Molecular\\_Biology & $-$0.186$^{***}$ \\\\ \n",
      "  & p = 0.000 \\\\ \n",
      "  Medicine & $-$0.490$^{***}$ \\\\ \n",
      "  & p = 0.000 \\\\ \n",
      "  Nursing & $-$0.022 \\\\ \n",
      "  & p = 0.522 \\\\ \n",
      "  Agricultural\\_and\\_Biological\\_Sciences & 0.260$^{***}$ \\\\ \n",
      "  & p = 0.000 \\\\ \n",
      "  Pharmacology\\_\\_Toxicology\\_and\\_Pharmaceutics & $-$0.241$^{***}$ \\\\ \n",
      "  & p = 0.000 \\\\ \n",
      "  Neuroscience & $-$0.007 \\\\ \n",
      "  & p = 0.765 \\\\ \n",
      "  Business\\_\\_Management\\_and\\_Accounting & 0.051 \\\\ \n",
      "  & p = 0.328 \\\\ \n",
      "  Economics\\_\\_Econometrics\\_and\\_Finance & 0.067 \\\\ \n",
      "  & p = 0.235 \\\\ \n",
      "  Chemical\\_Engineering & 0.309$^{***}$ \\\\ \n",
      "  & p = 0.000 \\\\ \n",
      "  Physics\\_and\\_Astronomy & $-$0.095$^{**}$ \\\\ \n",
      "  & p = 0.006 \\\\ \n",
      "  Computer\\_Science & 0.262$^{***}$ \\\\ \n",
      "  & p = 0.000 \\\\ \n",
      "  Decision\\_Sciences & $-$0.249$^{**}$ \\\\ \n",
      "  & p = 0.003 \\\\ \n",
      "  Health\\_Professions & 0.583$^{***}$ \\\\ \n",
      "  & p = 0.000 \\\\ \n",
      "  Psychology & $-$0.593$^{***}$ \\\\ \n",
      "  & p = 0.000 \\\\ \n",
      "  Immunology\\_and\\_Microbiology & 0.068$^{*}$ \\\\ \n",
      "  & p = 0.015 \\\\ \n",
      "  Dentistry & $-$0.393$^{**}$ \\\\ \n",
      "  & p = 0.003 \\\\ \n",
      "  Earth\\_and\\_Planetary\\_Sciences & $-$0.156$^{***}$ \\\\ \n",
      "  & p = 0.00000 \\\\ \n",
      "  Environmental\\_Science & 0.012 \\\\ \n",
      "  & p = 0.599 \\\\ \n",
      "  Mathematics & 0.037 \\\\ \n",
      "  & p = 0.484 \\\\ \n",
      "  Arts\\_and\\_Humanities & 0.070 \\\\ \n",
      "  & p = 0.333 \\\\ \n",
      "  Energy & 0.062 \\\\ \n",
      "  & p = 0.329 \\\\ \n",
      "  Veterinary & $-$0.409$^{***}$ \\\\ \n",
      "  & p = 0.00000 \\\\ \n",
      "  General & 0.401$^{***}$ \\\\ \n",
      "  & p = 0.000 \\\\ \n",
      "  Constant & 1.770$^{***}$ \\\\ \n",
      "  & p = 0.000 \\\\ \n",
      " \\hline \\\\[-1.8ex] \n",
      "Observations & 374,320 \\\\ \n",
      "Log Likelihood & $-$205,313.400 \\\\ \n",
      "Akaike Inf. Crit. & 410,706.800 \\\\ \n",
      "Bayesian Inf. Crit. & 411,140.100 \\\\ \n",
      "\\hline \n",
      "\\hline \\\\[-1.8ex] \n",
      "\\textit{Note:}  & \\multicolumn{1}{r}{$^{*}$p$<$0.05; $^{**}$p$<$0.01; $^{***}$p$<$0.001} \\\\ \n",
      "\\end{tabular} \n",
      "\\end{table} \n"
     ]
    }
   ],
   "source": [
    "# use this search string in Sublime: \" \\\\\\\\ \\n  &\" with \" &\"\n",
    "stargazer(m_on_tw, type = \"latex\", single.row=TRUE, ci = FALSE, report = ('vc*p'), star.cutoffs = c(0.05, 0.01, 0.001))"
   ]
  },
  {
   "cell_type": "code",
   "execution_count": 48,
   "id": "e041eccf",
   "metadata": {
    "scrolled": true
   },
   "outputs": [
    {
     "name": "stderr",
     "output_type": "stream",
     "text": [
      "Model contains polynomial or cubic / quadratic terms. Consider using `terms=\"gender [all]\"` to get smooth plots. See also package-vignette 'Marginal Effects at Specific Values'.\n"
     ]
    }
   ],
   "source": [
    "# weighted average for factor variable, median for non-factor variables\n",
    "MEs = ggemmeans(m_on_tw, terms=c('gender'), typical='median')"
   ]
  },
  {
   "cell_type": "code",
   "execution_count": 49,
   "id": "2875b97c",
   "metadata": {},
   "outputs": [
    {
     "data": {
      "text/html": [
       "<table>\n",
       "<thead><tr><th scope=col>x</th><th scope=col>predicted</th><th scope=col>std.error</th><th scope=col>conf.low</th><th scope=col>conf.high</th><th scope=col>group</th></tr></thead>\n",
       "<tbody>\n",
       "\t<tr><td>Male      </td><td>0.4722573 </td><td>0.01231103</td><td>0.4662479 </td><td>0.4782748 </td><td>1         </td></tr>\n",
       "\t<tr><td>Female    </td><td>0.4548840 </td><td>0.01423529</td><td>0.4479747 </td><td>0.4618106 </td><td>1         </td></tr>\n",
       "</tbody>\n",
       "</table>\n"
      ],
      "text/latex": [
       "\\begin{tabular}{r|llllll}\n",
       " x & predicted & std.error & conf.low & conf.high & group\\\\\n",
       "\\hline\n",
       "\t Male       & 0.4722573  & 0.01231103 & 0.4662479  & 0.4782748  & 1         \\\\\n",
       "\t Female     & 0.4548840  & 0.01423529 & 0.4479747  & 0.4618106  & 1         \\\\\n",
       "\\end{tabular}\n"
      ],
      "text/markdown": [
       "\n",
       "| x | predicted | std.error | conf.low | conf.high | group |\n",
       "|---|---|---|---|---|---|\n",
       "| Male       | 0.4722573  | 0.01231103 | 0.4662479  | 0.4782748  | 1          |\n",
       "| Female     | 0.4548840  | 0.01423529 | 0.4479747  | 0.4618106  | 1          |\n",
       "\n"
      ],
      "text/plain": [
       "  x      predicted std.error  conf.low  conf.high group\n",
       "1 Male   0.4722573 0.01231103 0.4662479 0.4782748 1    \n",
       "2 Female 0.4548840 0.01423529 0.4479747 0.4618106 1    "
      ]
     },
     "metadata": {},
     "output_type": "display_data"
    }
   ],
   "source": [
    "MEs"
   ]
  },
  {
   "cell_type": "code",
   "execution_count": 50,
   "id": "53b6d338",
   "metadata": {},
   "outputs": [],
   "source": [
    "write.csv(MEs, paste(data_root, \"pred_on_twitter.csv\", sep = ''), row.names=FALSE)"
   ]
  },
  {
   "cell_type": "markdown",
   "id": "7d8dc226",
   "metadata": {},
   "source": [
    "### Gender x Journal Impact (all tweets)"
   ]
  },
  {
   "cell_type": "code",
   "execution_count": 51,
   "id": "6036d4d5",
   "metadata": {},
   "outputs": [],
   "source": [
    "base_str <- \"self_promotion ~ 1 + gender * journal_impact + authorship_pos + author_pub_count_cate + \\\n",
    "            I(author_pub_count_cate^2) + affiliation_rank_cate + affiliation_cate + num_authors + author_citation_log\""
   ]
  },
  {
   "cell_type": "code",
   "execution_count": 52,
   "id": "16c1acbb",
   "metadata": {},
   "outputs": [],
   "source": [
    "equation <- as.formula(paste(base_str, \" + (1|doi) + \", keywords, sep = \" \"))\n",
    "m_x_jif <- glmer(formula = equation, data = mydata, family = \"binomial\", control = glmerControl(optimizer = \"nloptwrap\"), nAGQ = 0)\n"
   ]
  },
  {
   "cell_type": "code",
   "execution_count": 53,
   "id": "5d578b51",
   "metadata": {
    "scrolled": true
   },
   "outputs": [
    {
     "data": {
      "text/html": [
       "<table>\n",
       "<thead><tr><th scope=col>effect</th><th scope=col>group</th><th scope=col>term</th><th scope=col>estimate</th><th scope=col>std.error</th><th scope=col>statistic</th><th scope=col>p.value</th></tr></thead>\n",
       "<tbody>\n",
       "\t<tr><td>fixed                                       </td><td>NA                                          </td><td>(Intercept)                                 </td><td>-2.74646292                                 </td><td>1.392736e-02                                </td><td>-197.199088                                 </td><td> 0.000000e+00                               </td></tr>\n",
       "\t<tr><td>fixed                                       </td><td>NA                                          </td><td>genderFemale                                </td><td>-0.20128656                                 </td><td>8.010770e-03                                </td><td> -25.126992                                 </td><td>2.522242e-139                               </td></tr>\n",
       "\t<tr><td>fixed                                       </td><td>NA                                          </td><td>journal_impact                              </td><td> 0.03889219                                 </td><td>5.820612e-04                                </td><td>  66.818055                                 </td><td> 0.000000e+00                               </td></tr>\n",
       "\t<tr><td>fixed                                       </td><td>NA                                          </td><td>authorship_posfirst_position                </td><td> 0.31766707                                 </td><td>8.773794e-03                                </td><td>  36.206351                                 </td><td>4.836533e-287                               </td></tr>\n",
       "\t<tr><td>fixed                                       </td><td>NA                                          </td><td>authorship_posmiddle_position               </td><td>-0.67966259                                 </td><td>7.626157e-03                                </td><td> -89.122560                                 </td><td> 0.000000e+00                               </td></tr>\n",
       "\t<tr><td>fixed                                       </td><td>NA                                          </td><td>authorship_possolo_author                   </td><td> 0.75246464                                 </td><td>1.973059e-02                                </td><td>  38.136964                                 </td><td> 0.000000e+00                               </td></tr>\n",
       "\t<tr><td>fixed                                       </td><td>NA                                          </td><td>author_pub_count_cate                       </td><td> 0.33815889                                 </td><td>5.520662e-03                                </td><td>  61.253327                                 </td><td> 0.000000e+00                               </td></tr>\n",
       "\t<tr><td>fixed                                       </td><td>NA                                          </td><td>I(author_pub_count_cate^2)                  </td><td>-0.02870487                                 </td><td>5.147563e-04                                </td><td> -55.764004                                 </td><td> 0.000000e+00                               </td></tr>\n",
       "\t<tr><td>fixed                                       </td><td>NA                                          </td><td>affiliation_rank_cate                       </td><td>-0.05387860                                 </td><td>1.219117e-03                                </td><td> -44.194763                                 </td><td> 0.000000e+00                               </td></tr>\n",
       "\t<tr><td>fixed                                       </td><td>NA                                          </td><td>affiliation_cateinternational               </td><td> 0.02208866                                 </td><td>7.703461e-03                                </td><td>   2.867368                                 </td><td> 4.139010e-03                               </td></tr>\n",
       "\t<tr><td>fixed                                       </td><td>NA                                          </td><td>num_authors                                 </td><td>-0.00166991                                 </td><td>9.623496e-05                                </td><td> -17.352428                                 </td><td> 1.890795e-67                               </td></tr>\n",
       "\t<tr><td>fixed                                       </td><td>NA                                          </td><td>author_citation_log                         </td><td>-0.04347237                                 </td><td>1.807774e-03                                </td><td> -24.047460                                 </td><td>8.874487e-128                               </td></tr>\n",
       "\t<tr><td>fixed                                       </td><td>NA                                          </td><td>Social_Sciences                             </td><td> 0.94074862                                 </td><td>1.708624e-02                                </td><td>  55.058859                                 </td><td> 0.000000e+00                               </td></tr>\n",
       "\t<tr><td>fixed                                       </td><td>NA                                          </td><td>Materials_Science                           </td><td>-0.15883769                                 </td><td>2.524676e-02                                </td><td>  -6.291409                                 </td><td> 3.145967e-10                               </td></tr>\n",
       "\t<tr><td>fixed                                       </td><td>NA                                          </td><td>Engineering                                 </td><td>-0.39472625                                 </td><td>2.256041e-02                                </td><td> -17.496417                                 </td><td> 1.525715e-68                               </td></tr>\n",
       "\t<tr><td>fixed                                       </td><td>NA                                          </td><td>Chemistry                                   </td><td>-0.34164111                                 </td><td>1.875907e-02                                </td><td> -18.212046                                 </td><td> 4.141739e-74                               </td></tr>\n",
       "\t<tr><td>fixed                                       </td><td>NA                                          </td><td>Biochemistry__Genetics_and_Molecular_Biology</td><td>-0.14679415                                 </td><td>1.121185e-02                                </td><td> -13.092773                                 </td><td> 3.621407e-39                               </td></tr>\n",
       "\t<tr><td>fixed                                       </td><td>NA                                          </td><td>Medicine                                    </td><td>-0.30307566                                 </td><td>9.105171e-03                                </td><td> -33.286104                                 </td><td>6.134943e-243                               </td></tr>\n",
       "\t<tr><td>fixed                                       </td><td>NA                                          </td><td>Nursing                                     </td><td> 0.19557218                                 </td><td>2.731240e-02                                </td><td>   7.160563                                 </td><td> 8.034662e-13                               </td></tr>\n",
       "\t<tr><td>fixed                                       </td><td>NA                                          </td><td>Agricultural_and_Biological_Sciences        </td><td> 0.44296206                                 </td><td>1.348216e-02                                </td><td>  32.855419                                 </td><td>9.531020e-237                               </td></tr>\n",
       "\t<tr><td>fixed                                       </td><td>NA                                          </td><td>Pharmacology__Toxicology_and_Pharmaceutics  </td><td>-0.51106790                                 </td><td>2.555858e-02                                </td><td> -19.995940                                 </td><td> 5.974215e-89                               </td></tr>\n",
       "\t<tr><td>fixed                                       </td><td>NA                                          </td><td>Neuroscience                                </td><td> 0.03994629                                 </td><td>1.866795e-02                                </td><td>   2.139832                                 </td><td> 3.236832e-02                               </td></tr>\n",
       "\t<tr><td>fixed                                       </td><td>NA                                          </td><td>Business__Management_and_Accounting         </td><td>-0.24394078                                 </td><td>3.216377e-02                                </td><td>  -7.584335                                 </td><td> 3.341959e-14                               </td></tr>\n",
       "\t<tr><td>fixed                                       </td><td>NA                                          </td><td>Economics__Econometrics_and_Finance         </td><td>-0.41432431                                 </td><td>3.458705e-02                                </td><td> -11.979173                                 </td><td> 4.568592e-33                               </td></tr>\n",
       "\t<tr><td>fixed                                       </td><td>NA                                          </td><td>Chemical_Engineering                        </td><td> 0.18293086                                 </td><td>2.861374e-02                                </td><td>   6.393114                                 </td><td> 1.625414e-10                               </td></tr>\n",
       "\t<tr><td>fixed                                       </td><td>NA                                          </td><td>Physics_and_Astronomy                       </td><td>-0.73290109                                 </td><td>2.274394e-02                                </td><td> -32.224015                                 </td><td>8.136589e-228                               </td></tr>\n",
       "\t<tr><td>fixed                                       </td><td>NA                                          </td><td>Computer_Science                            </td><td> 0.06655537                                 </td><td>2.576963e-02                                </td><td>   2.582706                                 </td><td> 9.802885e-03                               </td></tr>\n",
       "\t<tr><td>fixed                                       </td><td>NA                                          </td><td>Decision_Sciences                           </td><td>-0.56430746                                 </td><td>5.381151e-02                                </td><td> -10.486743                                 </td><td> 9.939581e-26                               </td></tr>\n",
       "\t<tr><td>fixed                                       </td><td>NA                                          </td><td>Health_Professions                          </td><td> 0.91143606                                 </td><td>3.085590e-02                                </td><td>  29.538472                                 </td><td>9.235479e-192                               </td></tr>\n",
       "\t<tr><td>fixed                                       </td><td>NA                                          </td><td>Psychology                                  </td><td>-0.62551778                                 </td><td>2.515648e-02                                </td><td> -24.865078                                 </td><td>1.776516e-136                               </td></tr>\n",
       "\t<tr><td>fixed                                       </td><td>NA                                          </td><td>Immunology_and_Microbiology                 </td><td>-0.09240622                                 </td><td>2.100147e-02                                </td><td>  -4.399988                                 </td><td> 1.082570e-05                               </td></tr>\n",
       "\t<tr><td>fixed                                       </td><td>NA                                          </td><td>Dentistry                                   </td><td>-1.12542049                                 </td><td>9.286290e-02                                </td><td> -12.119162                                 </td><td> 8.360991e-34                               </td></tr>\n",
       "\t<tr><td>fixed                                       </td><td>NA                                          </td><td>Earth_and_Planetary_Sciences                </td><td>-0.07339324                                 </td><td>2.144760e-02                                </td><td>  -3.421980                                 </td><td> 6.216699e-04                               </td></tr>\n",
       "\t<tr><td>fixed                                       </td><td>NA                                          </td><td>Environmental_Science                       </td><td> 0.15541839                                 </td><td>1.619399e-02                                </td><td>   9.597288                                 </td><td> 8.207585e-22                               </td></tr>\n",
       "\t<tr><td>fixed                                       </td><td>NA                                          </td><td>Mathematics                                 </td><td>-0.37503422                                 </td><td>3.374731e-02                                </td><td> -11.113011                                 </td><td> 1.084404e-28                               </td></tr>\n",
       "\t<tr><td>fixed                                       </td><td>NA                                          </td><td>Arts_and_Humanities                         </td><td>-0.21650871                                 </td><td>4.184098e-02                                </td><td>  -5.174561                                 </td><td> 2.284471e-07                               </td></tr>\n",
       "\t<tr><td>fixed                                       </td><td>NA                                          </td><td>Energy                                      </td><td>-0.36192269                                 </td><td>4.030999e-02                                </td><td>  -8.978486                                 </td><td> 2.745184e-19                               </td></tr>\n",
       "\t<tr><td>fixed                                       </td><td>NA                                          </td><td>Veterinary                                  </td><td>-0.86665907                                 </td><td>5.551634e-02                                </td><td> -15.610883                                 </td><td> 6.138131e-55                               </td></tr>\n",
       "\t<tr><td>fixed                                       </td><td>NA                                          </td><td>General                                     </td><td> 0.34237374                                 </td><td>3.035733e-02                                </td><td>  11.278124                                 </td><td> 1.682962e-29                               </td></tr>\n",
       "\t<tr><td>fixed                                       </td><td>NA                                          </td><td>genderFemale:journal_impact                 </td><td>-0.01038821                                 </td><td>6.681620e-04                                </td><td> -15.547445                                 </td><td> 1.655798e-54                               </td></tr>\n",
       "\t<tr><td>ran_pars                                    </td><td>doi                                         </td><td>sd__(Intercept)                             </td><td> 1.49476541                                 </td><td>          NA                                </td><td>         NA                                 </td><td>           NA                               </td></tr>\n",
       "</tbody>\n",
       "</table>\n"
      ],
      "text/latex": [
       "\\begin{tabular}{r|lllllll}\n",
       " effect & group & term & estimate & std.error & statistic & p.value\\\\\n",
       "\\hline\n",
       "\t fixed                                        & NA                                           & (Intercept)                                  & -2.74646292                                  & 1.392736e-02                                 & -197.199088                                  &  0.000000e+00                               \\\\\n",
       "\t fixed                                        & NA                                           & genderFemale                                 & -0.20128656                                  & 8.010770e-03                                 &  -25.126992                                  & 2.522242e-139                               \\\\\n",
       "\t fixed                                          & NA                                             & journal\\_impact                               &  0.03889219                                    & 5.820612e-04                                   &   66.818055                                    &  0.000000e+00                                 \\\\\n",
       "\t fixed                                            & NA                                               & authorship\\_posfirst\\_position                 &  0.31766707                                      & 8.773794e-03                                     &   36.206351                                      & 4.836533e-287                                   \\\\\n",
       "\t fixed                                            & NA                                               & authorship\\_posmiddle\\_position                & -0.67966259                                      & 7.626157e-03                                     &  -89.122560                                      &  0.000000e+00                                   \\\\\n",
       "\t fixed                                            & NA                                               & authorship\\_possolo\\_author                    &  0.75246464                                      & 1.973059e-02                                     &   38.136964                                      &  0.000000e+00                                   \\\\\n",
       "\t fixed                                              & NA                                                 & author\\_pub\\_count\\_cate                        &  0.33815889                                        & 5.520662e-03                                       &   61.253327                                        &  0.000000e+00                                     \\\\\n",
       "\t fixed                                                                & NA                                                                   & I(author\\_pub\\_count\\_cate\\textasciicircum{}2)                   & -0.02870487                                                          & 5.147563e-04                                                         &  -55.764004                                                          &  0.000000e+00                                                       \\\\\n",
       "\t fixed                                            & NA                                               & affiliation\\_rank\\_cate                        & -0.05387860                                      & 1.219117e-03                                     &  -44.194763                                      &  0.000000e+00                                   \\\\\n",
       "\t fixed                                          & NA                                             & affiliation\\_cateinternational                &  0.02208866                                    & 7.703461e-03                                   &    2.867368                                    &  4.139010e-03                                 \\\\\n",
       "\t fixed                                          & NA                                             & num\\_authors                                  & -0.00166991                                    & 9.623496e-05                                   &  -17.352428                                    &  1.890795e-67                                 \\\\\n",
       "\t fixed                                            & NA                                               & author\\_citation\\_log                          & -0.04347237                                      & 1.807774e-03                                     &  -24.047460                                      & 8.874487e-128                                   \\\\\n",
       "\t fixed                                          & NA                                             & Social\\_Sciences                              &  0.94074862                                    & 1.708624e-02                                   &   55.058859                                    &  0.000000e+00                                 \\\\\n",
       "\t fixed                                          & NA                                             & Materials\\_Science                            & -0.15883769                                    & 2.524676e-02                                   &   -6.291409                                    &  3.145967e-10                                 \\\\\n",
       "\t fixed                                        & NA                                           & Engineering                                  & -0.39472625                                  & 2.256041e-02                                 &  -17.496417                                  &  1.525715e-68                               \\\\\n",
       "\t fixed                                        & NA                                           & Chemistry                                    & -0.34164111                                  & 1.875907e-02                                 &  -18.212046                                  &  4.141739e-74                               \\\\\n",
       "\t fixed                                                  & NA                                                     & Biochemistry\\_\\_Genetics\\_and\\_Molecular\\_Biology & -0.14679415                                            & 1.121185e-02                                           &  -13.092773                                            &  3.621407e-39                                         \\\\\n",
       "\t fixed                                        & NA                                           & Medicine                                     & -0.30307566                                  & 9.105171e-03                                 &  -33.286104                                  & 6.134943e-243                               \\\\\n",
       "\t fixed                                        & NA                                           & Nursing                                      &  0.19557218                                  & 2.731240e-02                                 &    7.160563                                  &  8.034662e-13                               \\\\\n",
       "\t fixed                                              & NA                                                 & Agricultural\\_and\\_Biological\\_Sciences         &  0.44296206                                        & 1.348216e-02                                       &   32.855419                                        & 9.531020e-237                                     \\\\\n",
       "\t fixed                                                & NA                                                   & Pharmacology\\_\\_Toxicology\\_and\\_Pharmaceutics   & -0.51106790                                          & 2.555858e-02                                         &  -19.995940                                          &  5.974215e-89                                       \\\\\n",
       "\t fixed                                        & NA                                           & Neuroscience                                 &  0.03994629                                  & 1.866795e-02                                 &    2.139832                                  &  3.236832e-02                               \\\\\n",
       "\t fixed                                                & NA                                                   & Business\\_\\_Management\\_and\\_Accounting          & -0.24394078                                          & 3.216377e-02                                         &   -7.584335                                          &  3.341959e-14                                       \\\\\n",
       "\t fixed                                                & NA                                                   & Economics\\_\\_Econometrics\\_and\\_Finance          & -0.41432431                                          & 3.458705e-02                                         &  -11.979173                                          &  4.568592e-33                                       \\\\\n",
       "\t fixed                                          & NA                                             & Chemical\\_Engineering                         &  0.18293086                                    & 2.861374e-02                                   &    6.393114                                    &  1.625414e-10                                 \\\\\n",
       "\t fixed                                            & NA                                               & Physics\\_and\\_Astronomy                        & -0.73290109                                      & 2.274394e-02                                     &  -32.224015                                      & 8.136589e-228                                   \\\\\n",
       "\t fixed                                          & NA                                             & Computer\\_Science                             &  0.06655537                                    & 2.576963e-02                                   &    2.582706                                    &  9.802885e-03                                 \\\\\n",
       "\t fixed                                          & NA                                             & Decision\\_Sciences                            & -0.56430746                                    & 5.381151e-02                                   &  -10.486743                                    &  9.939581e-26                                 \\\\\n",
       "\t fixed                                          & NA                                             & Health\\_Professions                           &  0.91143606                                    & 3.085590e-02                                   &   29.538472                                    & 9.235479e-192                                 \\\\\n",
       "\t fixed                                        & NA                                           & Psychology                                   & -0.62551778                                  & 2.515648e-02                                 &  -24.865078                                  & 1.776516e-136                               \\\\\n",
       "\t fixed                                            & NA                                               & Immunology\\_and\\_Microbiology                  & -0.09240622                                      & 2.100147e-02                                     &   -4.399988                                      &  1.082570e-05                                   \\\\\n",
       "\t fixed                                        & NA                                           & Dentistry                                    & -1.12542049                                  & 9.286290e-02                                 &  -12.119162                                  &  8.360991e-34                               \\\\\n",
       "\t fixed                                              & NA                                                 & Earth\\_and\\_Planetary\\_Sciences                 & -0.07339324                                        & 2.144760e-02                                       &   -3.421980                                        &  6.216699e-04                                     \\\\\n",
       "\t fixed                                          & NA                                             & Environmental\\_Science                        &  0.15541839                                    & 1.619399e-02                                   &    9.597288                                    &  8.207585e-22                                 \\\\\n",
       "\t fixed                                        & NA                                           & Mathematics                                  & -0.37503422                                  & 3.374731e-02                                 &  -11.113011                                  &  1.084404e-28                               \\\\\n",
       "\t fixed                                            & NA                                               & Arts\\_and\\_Humanities                          & -0.21650871                                      & 4.184098e-02                                     &   -5.174561                                      &  2.284471e-07                                   \\\\\n",
       "\t fixed                                        & NA                                           & Energy                                       & -0.36192269                                  & 4.030999e-02                                 &   -8.978486                                  &  2.745184e-19                               \\\\\n",
       "\t fixed                                        & NA                                           & Veterinary                                   & -0.86665907                                  & 5.551634e-02                                 &  -15.610883                                  &  6.138131e-55                               \\\\\n",
       "\t fixed                                        & NA                                           & General                                      &  0.34237374                                  & 3.035733e-02                                 &   11.278124                                  &  1.682962e-29                               \\\\\n",
       "\t fixed                                          & NA                                             & genderFemale:journal\\_impact                  & -0.01038821                                    & 6.681620e-04                                   &  -15.547445                                    &  1.655798e-54                                 \\\\\n",
       "\t ran\\_pars                                       & doi                                              & sd\\_\\_(Intercept)                              &  1.49476541                                      &           NA                                     &          NA                                      &            NA                                   \\\\\n",
       "\\end{tabular}\n"
      ],
      "text/markdown": [
       "\n",
       "| effect | group | term | estimate | std.error | statistic | p.value |\n",
       "|---|---|---|---|---|---|---|\n",
       "| fixed                                        | NA                                           | (Intercept)                                  | -2.74646292                                  | 1.392736e-02                                 | -197.199088                                  |  0.000000e+00                                |\n",
       "| fixed                                        | NA                                           | genderFemale                                 | -0.20128656                                  | 8.010770e-03                                 |  -25.126992                                  | 2.522242e-139                                |\n",
       "| fixed                                        | NA                                           | journal_impact                               |  0.03889219                                  | 5.820612e-04                                 |   66.818055                                  |  0.000000e+00                                |\n",
       "| fixed                                        | NA                                           | authorship_posfirst_position                 |  0.31766707                                  | 8.773794e-03                                 |   36.206351                                  | 4.836533e-287                                |\n",
       "| fixed                                        | NA                                           | authorship_posmiddle_position                | -0.67966259                                  | 7.626157e-03                                 |  -89.122560                                  |  0.000000e+00                                |\n",
       "| fixed                                        | NA                                           | authorship_possolo_author                    |  0.75246464                                  | 1.973059e-02                                 |   38.136964                                  |  0.000000e+00                                |\n",
       "| fixed                                        | NA                                           | author_pub_count_cate                        |  0.33815889                                  | 5.520662e-03                                 |   61.253327                                  |  0.000000e+00                                |\n",
       "| fixed                                        | NA                                           | I(author_pub_count_cate^2)                   | -0.02870487                                  | 5.147563e-04                                 |  -55.764004                                  |  0.000000e+00                                |\n",
       "| fixed                                        | NA                                           | affiliation_rank_cate                        | -0.05387860                                  | 1.219117e-03                                 |  -44.194763                                  |  0.000000e+00                                |\n",
       "| fixed                                        | NA                                           | affiliation_cateinternational                |  0.02208866                                  | 7.703461e-03                                 |    2.867368                                  |  4.139010e-03                                |\n",
       "| fixed                                        | NA                                           | num_authors                                  | -0.00166991                                  | 9.623496e-05                                 |  -17.352428                                  |  1.890795e-67                                |\n",
       "| fixed                                        | NA                                           | author_citation_log                          | -0.04347237                                  | 1.807774e-03                                 |  -24.047460                                  | 8.874487e-128                                |\n",
       "| fixed                                        | NA                                           | Social_Sciences                              |  0.94074862                                  | 1.708624e-02                                 |   55.058859                                  |  0.000000e+00                                |\n",
       "| fixed                                        | NA                                           | Materials_Science                            | -0.15883769                                  | 2.524676e-02                                 |   -6.291409                                  |  3.145967e-10                                |\n",
       "| fixed                                        | NA                                           | Engineering                                  | -0.39472625                                  | 2.256041e-02                                 |  -17.496417                                  |  1.525715e-68                                |\n",
       "| fixed                                        | NA                                           | Chemistry                                    | -0.34164111                                  | 1.875907e-02                                 |  -18.212046                                  |  4.141739e-74                                |\n",
       "| fixed                                        | NA                                           | Biochemistry__Genetics_and_Molecular_Biology | -0.14679415                                  | 1.121185e-02                                 |  -13.092773                                  |  3.621407e-39                                |\n",
       "| fixed                                        | NA                                           | Medicine                                     | -0.30307566                                  | 9.105171e-03                                 |  -33.286104                                  | 6.134943e-243                                |\n",
       "| fixed                                        | NA                                           | Nursing                                      |  0.19557218                                  | 2.731240e-02                                 |    7.160563                                  |  8.034662e-13                                |\n",
       "| fixed                                        | NA                                           | Agricultural_and_Biological_Sciences         |  0.44296206                                  | 1.348216e-02                                 |   32.855419                                  | 9.531020e-237                                |\n",
       "| fixed                                        | NA                                           | Pharmacology__Toxicology_and_Pharmaceutics   | -0.51106790                                  | 2.555858e-02                                 |  -19.995940                                  |  5.974215e-89                                |\n",
       "| fixed                                        | NA                                           | Neuroscience                                 |  0.03994629                                  | 1.866795e-02                                 |    2.139832                                  |  3.236832e-02                                |\n",
       "| fixed                                        | NA                                           | Business__Management_and_Accounting          | -0.24394078                                  | 3.216377e-02                                 |   -7.584335                                  |  3.341959e-14                                |\n",
       "| fixed                                        | NA                                           | Economics__Econometrics_and_Finance          | -0.41432431                                  | 3.458705e-02                                 |  -11.979173                                  |  4.568592e-33                                |\n",
       "| fixed                                        | NA                                           | Chemical_Engineering                         |  0.18293086                                  | 2.861374e-02                                 |    6.393114                                  |  1.625414e-10                                |\n",
       "| fixed                                        | NA                                           | Physics_and_Astronomy                        | -0.73290109                                  | 2.274394e-02                                 |  -32.224015                                  | 8.136589e-228                                |\n",
       "| fixed                                        | NA                                           | Computer_Science                             |  0.06655537                                  | 2.576963e-02                                 |    2.582706                                  |  9.802885e-03                                |\n",
       "| fixed                                        | NA                                           | Decision_Sciences                            | -0.56430746                                  | 5.381151e-02                                 |  -10.486743                                  |  9.939581e-26                                |\n",
       "| fixed                                        | NA                                           | Health_Professions                           |  0.91143606                                  | 3.085590e-02                                 |   29.538472                                  | 9.235479e-192                                |\n",
       "| fixed                                        | NA                                           | Psychology                                   | -0.62551778                                  | 2.515648e-02                                 |  -24.865078                                  | 1.776516e-136                                |\n",
       "| fixed                                        | NA                                           | Immunology_and_Microbiology                  | -0.09240622                                  | 2.100147e-02                                 |   -4.399988                                  |  1.082570e-05                                |\n",
       "| fixed                                        | NA                                           | Dentistry                                    | -1.12542049                                  | 9.286290e-02                                 |  -12.119162                                  |  8.360991e-34                                |\n",
       "| fixed                                        | NA                                           | Earth_and_Planetary_Sciences                 | -0.07339324                                  | 2.144760e-02                                 |   -3.421980                                  |  6.216699e-04                                |\n",
       "| fixed                                        | NA                                           | Environmental_Science                        |  0.15541839                                  | 1.619399e-02                                 |    9.597288                                  |  8.207585e-22                                |\n",
       "| fixed                                        | NA                                           | Mathematics                                  | -0.37503422                                  | 3.374731e-02                                 |  -11.113011                                  |  1.084404e-28                                |\n",
       "| fixed                                        | NA                                           | Arts_and_Humanities                          | -0.21650871                                  | 4.184098e-02                                 |   -5.174561                                  |  2.284471e-07                                |\n",
       "| fixed                                        | NA                                           | Energy                                       | -0.36192269                                  | 4.030999e-02                                 |   -8.978486                                  |  2.745184e-19                                |\n",
       "| fixed                                        | NA                                           | Veterinary                                   | -0.86665907                                  | 5.551634e-02                                 |  -15.610883                                  |  6.138131e-55                                |\n",
       "| fixed                                        | NA                                           | General                                      |  0.34237374                                  | 3.035733e-02                                 |   11.278124                                  |  1.682962e-29                                |\n",
       "| fixed                                        | NA                                           | genderFemale:journal_impact                  | -0.01038821                                  | 6.681620e-04                                 |  -15.547445                                  |  1.655798e-54                                |\n",
       "| ran_pars                                     | doi                                          | sd__(Intercept)                              |  1.49476541                                  |           NA                                 |          NA                                  |            NA                                |\n",
       "\n"
      ],
      "text/plain": [
       "   effect   group term                                         estimate   \n",
       "1  fixed    NA    (Intercept)                                  -2.74646292\n",
       "2  fixed    NA    genderFemale                                 -0.20128656\n",
       "3  fixed    NA    journal_impact                                0.03889219\n",
       "4  fixed    NA    authorship_posfirst_position                  0.31766707\n",
       "5  fixed    NA    authorship_posmiddle_position                -0.67966259\n",
       "6  fixed    NA    authorship_possolo_author                     0.75246464\n",
       "7  fixed    NA    author_pub_count_cate                         0.33815889\n",
       "8  fixed    NA    I(author_pub_count_cate^2)                   -0.02870487\n",
       "9  fixed    NA    affiliation_rank_cate                        -0.05387860\n",
       "10 fixed    NA    affiliation_cateinternational                 0.02208866\n",
       "11 fixed    NA    num_authors                                  -0.00166991\n",
       "12 fixed    NA    author_citation_log                          -0.04347237\n",
       "13 fixed    NA    Social_Sciences                               0.94074862\n",
       "14 fixed    NA    Materials_Science                            -0.15883769\n",
       "15 fixed    NA    Engineering                                  -0.39472625\n",
       "16 fixed    NA    Chemistry                                    -0.34164111\n",
       "17 fixed    NA    Biochemistry__Genetics_and_Molecular_Biology -0.14679415\n",
       "18 fixed    NA    Medicine                                     -0.30307566\n",
       "19 fixed    NA    Nursing                                       0.19557218\n",
       "20 fixed    NA    Agricultural_and_Biological_Sciences          0.44296206\n",
       "21 fixed    NA    Pharmacology__Toxicology_and_Pharmaceutics   -0.51106790\n",
       "22 fixed    NA    Neuroscience                                  0.03994629\n",
       "23 fixed    NA    Business__Management_and_Accounting          -0.24394078\n",
       "24 fixed    NA    Economics__Econometrics_and_Finance          -0.41432431\n",
       "25 fixed    NA    Chemical_Engineering                          0.18293086\n",
       "26 fixed    NA    Physics_and_Astronomy                        -0.73290109\n",
       "27 fixed    NA    Computer_Science                              0.06655537\n",
       "28 fixed    NA    Decision_Sciences                            -0.56430746\n",
       "29 fixed    NA    Health_Professions                            0.91143606\n",
       "30 fixed    NA    Psychology                                   -0.62551778\n",
       "31 fixed    NA    Immunology_and_Microbiology                  -0.09240622\n",
       "32 fixed    NA    Dentistry                                    -1.12542049\n",
       "33 fixed    NA    Earth_and_Planetary_Sciences                 -0.07339324\n",
       "34 fixed    NA    Environmental_Science                         0.15541839\n",
       "35 fixed    NA    Mathematics                                  -0.37503422\n",
       "36 fixed    NA    Arts_and_Humanities                          -0.21650871\n",
       "37 fixed    NA    Energy                                       -0.36192269\n",
       "38 fixed    NA    Veterinary                                   -0.86665907\n",
       "39 fixed    NA    General                                       0.34237374\n",
       "40 fixed    NA    genderFemale:journal_impact                  -0.01038821\n",
       "41 ran_pars doi   sd__(Intercept)                               1.49476541\n",
       "   std.error    statistic   p.value      \n",
       "1  1.392736e-02 -197.199088  0.000000e+00\n",
       "2  8.010770e-03  -25.126992 2.522242e-139\n",
       "3  5.820612e-04   66.818055  0.000000e+00\n",
       "4  8.773794e-03   36.206351 4.836533e-287\n",
       "5  7.626157e-03  -89.122560  0.000000e+00\n",
       "6  1.973059e-02   38.136964  0.000000e+00\n",
       "7  5.520662e-03   61.253327  0.000000e+00\n",
       "8  5.147563e-04  -55.764004  0.000000e+00\n",
       "9  1.219117e-03  -44.194763  0.000000e+00\n",
       "10 7.703461e-03    2.867368  4.139010e-03\n",
       "11 9.623496e-05  -17.352428  1.890795e-67\n",
       "12 1.807774e-03  -24.047460 8.874487e-128\n",
       "13 1.708624e-02   55.058859  0.000000e+00\n",
       "14 2.524676e-02   -6.291409  3.145967e-10\n",
       "15 2.256041e-02  -17.496417  1.525715e-68\n",
       "16 1.875907e-02  -18.212046  4.141739e-74\n",
       "17 1.121185e-02  -13.092773  3.621407e-39\n",
       "18 9.105171e-03  -33.286104 6.134943e-243\n",
       "19 2.731240e-02    7.160563  8.034662e-13\n",
       "20 1.348216e-02   32.855419 9.531020e-237\n",
       "21 2.555858e-02  -19.995940  5.974215e-89\n",
       "22 1.866795e-02    2.139832  3.236832e-02\n",
       "23 3.216377e-02   -7.584335  3.341959e-14\n",
       "24 3.458705e-02  -11.979173  4.568592e-33\n",
       "25 2.861374e-02    6.393114  1.625414e-10\n",
       "26 2.274394e-02  -32.224015 8.136589e-228\n",
       "27 2.576963e-02    2.582706  9.802885e-03\n",
       "28 5.381151e-02  -10.486743  9.939581e-26\n",
       "29 3.085590e-02   29.538472 9.235479e-192\n",
       "30 2.515648e-02  -24.865078 1.776516e-136\n",
       "31 2.100147e-02   -4.399988  1.082570e-05\n",
       "32 9.286290e-02  -12.119162  8.360991e-34\n",
       "33 2.144760e-02   -3.421980  6.216699e-04\n",
       "34 1.619399e-02    9.597288  8.207585e-22\n",
       "35 3.374731e-02  -11.113011  1.084404e-28\n",
       "36 4.184098e-02   -5.174561  2.284471e-07\n",
       "37 4.030999e-02   -8.978486  2.745184e-19\n",
       "38 5.551634e-02  -15.610883  6.138131e-55\n",
       "39 3.035733e-02   11.278124  1.682962e-29\n",
       "40 6.681620e-04  -15.547445  1.655798e-54\n",
       "41           NA          NA            NA"
      ]
     },
     "metadata": {},
     "output_type": "display_data"
    }
   ],
   "source": [
    "tidy(m_x_jif)"
   ]
  },
  {
   "cell_type": "code",
   "execution_count": 54,
   "id": "76542d88",
   "metadata": {
    "scrolled": false
   },
   "outputs": [
    {
     "name": "stderr",
     "output_type": "stream",
     "text": [
      "Model contains polynomial or cubic / quadratic terms. Consider using `terms=\"journal_impact [all]\"` to get smooth plots. See also package-vignette 'Marginal Effects at Specific Values'.\n"
     ]
    }
   ],
   "source": [
    "MEs = ggemmeans(m_x_jif, terms=c('journal_impact [0:40 by=5]', 'gender'), typical='median')"
   ]
  },
  {
   "cell_type": "code",
   "execution_count": 55,
   "id": "3b6650f3",
   "metadata": {
    "scrolled": true
   },
   "outputs": [
    {
     "data": {
      "text/html": [
       "<table>\n",
       "<thead><tr><th scope=col>x</th><th scope=col>predicted</th><th scope=col>std.error</th><th scope=col>conf.low</th><th scope=col>conf.high</th><th scope=col>group</th></tr></thead>\n",
       "<tbody>\n",
       "\t<tr><td> 0         </td><td>0.08961525 </td><td>0.009311993</td><td>0.08813735 </td><td>0.09111545 </td><td>Male       </td></tr>\n",
       "\t<tr><td> 0         </td><td>0.07449356 </td><td>0.010470531</td><td>0.07309099 </td><td>0.07592084 </td><td>Female     </td></tr>\n",
       "\t<tr><td> 5         </td><td>0.10679730 </td><td>0.008624728</td><td>0.10519547 </td><td>0.10842057 </td><td>Male       </td></tr>\n",
       "\t<tr><td> 5         </td><td>0.08493503 </td><td>0.009455952</td><td>0.08350563 </td><td>0.08638658 </td><td>Female     </td></tr>\n",
       "\t<tr><td>10         </td><td>0.12681480 </td><td>0.008888105</td><td>0.12489830 </td><td>0.12875638 </td><td>Male       </td></tr>\n",
       "\t<tr><td>10         </td><td>0.09668714 </td><td>0.009784282</td><td>0.09502516 </td><td>0.09837502 </td><td>Female     </td></tr>\n",
       "\t<tr><td>15         </td><td>0.14995438 </td><td>0.010027494</td><td>0.14746637 </td><td>0.15247684 </td><td>Male       </td></tr>\n",
       "\t<tr><td>15         </td><td>0.10987010 </td><td>0.011339465</td><td>0.10771530 </td><td>0.11206259 </td><td>Female     </td></tr>\n",
       "\t<tr><td>20         </td><td>0.17646290 </td><td>0.011791634</td><td>0.17312937 </td><td>0.17984665 </td><td>Male       </td></tr>\n",
       "\t<tr><td>20         </td><td>0.12460257 </td><td>0.013710176</td><td>0.12170096 </td><td>0.12756331 </td><td>Female     </td></tr>\n",
       "\t<tr><td>25         </td><td>0.20651903 </td><td>0.013945407</td><td>0.20207600 </td><td>0.21103391 </td><td>Male       </td></tr>\n",
       "\t<tr><td>25         </td><td>0.14099760 </td><td>0.016549578</td><td>0.13711453 </td><td>0.14497216 </td><td>Female     </td></tr>\n",
       "\t<tr><td>30         </td><td>0.24020133 </td><td>0.016335419</td><td>0.23440681 </td><td>0.24609306 </td><td>Male       </td></tr>\n",
       "\t<tr><td>30         </td><td>0.15915765 </td><td>0.019655591</td><td>0.15406953 </td><td>0.16438116 </td><td>Female     </td></tr>\n",
       "\t<tr><td>35         </td><td>0.27745618 </td><td>0.018872127</td><td>0.27010227 </td><td>0.28493215 </td><td>Male       </td></tr>\n",
       "\t<tr><td>35         </td><td>0.17916881 </td><td>0.022920082</td><td>0.17265712 </td><td>0.18587092 </td><td>Female     </td></tr>\n",
       "\t<tr><td>40         </td><td>0.31807031 </td><td>0.021503679</td><td>0.30899958 </td><td>0.32728120 </td><td>Male       </td></tr>\n",
       "\t<tr><td>40         </td><td>0.20109428 </td><td>0.026284068</td><td>0.19294527 </td><td>0.20949812 </td><td>Female     </td></tr>\n",
       "</tbody>\n",
       "</table>\n"
      ],
      "text/latex": [
       "\\begin{tabular}{r|llllll}\n",
       " x & predicted & std.error & conf.low & conf.high & group\\\\\n",
       "\\hline\n",
       "\t  0          & 0.08961525  & 0.009311993 & 0.08813735  & 0.09111545  & Male       \\\\\n",
       "\t  0          & 0.07449356  & 0.010470531 & 0.07309099  & 0.07592084  & Female     \\\\\n",
       "\t  5          & 0.10679730  & 0.008624728 & 0.10519547  & 0.10842057  & Male       \\\\\n",
       "\t  5          & 0.08493503  & 0.009455952 & 0.08350563  & 0.08638658  & Female     \\\\\n",
       "\t 10          & 0.12681480  & 0.008888105 & 0.12489830  & 0.12875638  & Male       \\\\\n",
       "\t 10          & 0.09668714  & 0.009784282 & 0.09502516  & 0.09837502  & Female     \\\\\n",
       "\t 15          & 0.14995438  & 0.010027494 & 0.14746637  & 0.15247684  & Male       \\\\\n",
       "\t 15          & 0.10987010  & 0.011339465 & 0.10771530  & 0.11206259  & Female     \\\\\n",
       "\t 20          & 0.17646290  & 0.011791634 & 0.17312937  & 0.17984665  & Male       \\\\\n",
       "\t 20          & 0.12460257  & 0.013710176 & 0.12170096  & 0.12756331  & Female     \\\\\n",
       "\t 25          & 0.20651903  & 0.013945407 & 0.20207600  & 0.21103391  & Male       \\\\\n",
       "\t 25          & 0.14099760  & 0.016549578 & 0.13711453  & 0.14497216  & Female     \\\\\n",
       "\t 30          & 0.24020133  & 0.016335419 & 0.23440681  & 0.24609306  & Male       \\\\\n",
       "\t 30          & 0.15915765  & 0.019655591 & 0.15406953  & 0.16438116  & Female     \\\\\n",
       "\t 35          & 0.27745618  & 0.018872127 & 0.27010227  & 0.28493215  & Male       \\\\\n",
       "\t 35          & 0.17916881  & 0.022920082 & 0.17265712  & 0.18587092  & Female     \\\\\n",
       "\t 40          & 0.31807031  & 0.021503679 & 0.30899958  & 0.32728120  & Male       \\\\\n",
       "\t 40          & 0.20109428  & 0.026284068 & 0.19294527  & 0.20949812  & Female     \\\\\n",
       "\\end{tabular}\n"
      ],
      "text/markdown": [
       "\n",
       "| x | predicted | std.error | conf.low | conf.high | group |\n",
       "|---|---|---|---|---|---|\n",
       "|  0          | 0.08961525  | 0.009311993 | 0.08813735  | 0.09111545  | Male        |\n",
       "|  0          | 0.07449356  | 0.010470531 | 0.07309099  | 0.07592084  | Female      |\n",
       "|  5          | 0.10679730  | 0.008624728 | 0.10519547  | 0.10842057  | Male        |\n",
       "|  5          | 0.08493503  | 0.009455952 | 0.08350563  | 0.08638658  | Female      |\n",
       "| 10          | 0.12681480  | 0.008888105 | 0.12489830  | 0.12875638  | Male        |\n",
       "| 10          | 0.09668714  | 0.009784282 | 0.09502516  | 0.09837502  | Female      |\n",
       "| 15          | 0.14995438  | 0.010027494 | 0.14746637  | 0.15247684  | Male        |\n",
       "| 15          | 0.10987010  | 0.011339465 | 0.10771530  | 0.11206259  | Female      |\n",
       "| 20          | 0.17646290  | 0.011791634 | 0.17312937  | 0.17984665  | Male        |\n",
       "| 20          | 0.12460257  | 0.013710176 | 0.12170096  | 0.12756331  | Female      |\n",
       "| 25          | 0.20651903  | 0.013945407 | 0.20207600  | 0.21103391  | Male        |\n",
       "| 25          | 0.14099760  | 0.016549578 | 0.13711453  | 0.14497216  | Female      |\n",
       "| 30          | 0.24020133  | 0.016335419 | 0.23440681  | 0.24609306  | Male        |\n",
       "| 30          | 0.15915765  | 0.019655591 | 0.15406953  | 0.16438116  | Female      |\n",
       "| 35          | 0.27745618  | 0.018872127 | 0.27010227  | 0.28493215  | Male        |\n",
       "| 35          | 0.17916881  | 0.022920082 | 0.17265712  | 0.18587092  | Female      |\n",
       "| 40          | 0.31807031  | 0.021503679 | 0.30899958  | 0.32728120  | Male        |\n",
       "| 40          | 0.20109428  | 0.026284068 | 0.19294527  | 0.20949812  | Female      |\n",
       "\n"
      ],
      "text/plain": [
       "   x  predicted  std.error   conf.low   conf.high  group \n",
       "1   0 0.08961525 0.009311993 0.08813735 0.09111545 Male  \n",
       "2   0 0.07449356 0.010470531 0.07309099 0.07592084 Female\n",
       "3   5 0.10679730 0.008624728 0.10519547 0.10842057 Male  \n",
       "4   5 0.08493503 0.009455952 0.08350563 0.08638658 Female\n",
       "5  10 0.12681480 0.008888105 0.12489830 0.12875638 Male  \n",
       "6  10 0.09668714 0.009784282 0.09502516 0.09837502 Female\n",
       "7  15 0.14995438 0.010027494 0.14746637 0.15247684 Male  \n",
       "8  15 0.10987010 0.011339465 0.10771530 0.11206259 Female\n",
       "9  20 0.17646290 0.011791634 0.17312937 0.17984665 Male  \n",
       "10 20 0.12460257 0.013710176 0.12170096 0.12756331 Female\n",
       "11 25 0.20651903 0.013945407 0.20207600 0.21103391 Male  \n",
       "12 25 0.14099760 0.016549578 0.13711453 0.14497216 Female\n",
       "13 30 0.24020133 0.016335419 0.23440681 0.24609306 Male  \n",
       "14 30 0.15915765 0.019655591 0.15406953 0.16438116 Female\n",
       "15 35 0.27745618 0.018872127 0.27010227 0.28493215 Male  \n",
       "16 35 0.17916881 0.022920082 0.17265712 0.18587092 Female\n",
       "17 40 0.31807031 0.021503679 0.30899958 0.32728120 Male  \n",
       "18 40 0.20109428 0.026284068 0.19294527 0.20949812 Female"
      ]
     },
     "metadata": {},
     "output_type": "display_data"
    }
   ],
   "source": [
    "MEs"
   ]
  },
  {
   "cell_type": "code",
   "execution_count": 56,
   "id": "4b9207cb",
   "metadata": {},
   "outputs": [],
   "source": [
    "write.csv(MEs, paste(data_root, \"gender_jif.csv\", sep = ''), row.names=FALSE)"
   ]
  },
  {
   "cell_type": "markdown",
   "id": "8c552c43",
   "metadata": {},
   "source": [
    "### Gender x Affiliation rank (all tweets)"
   ]
  },
  {
   "cell_type": "code",
   "execution_count": 57,
   "id": "a6b4d62c",
   "metadata": {},
   "outputs": [],
   "source": [
    "base_str <- \"self_promotion ~ 1 + gender * affiliation_rank_cate + authorship_pos + author_pub_count_cate + \\\n",
    "            I(author_pub_count_cate^2) + affiliation_cate + num_authors + journal_impact + author_citation_log\""
   ]
  },
  {
   "cell_type": "code",
   "execution_count": 58,
   "id": "ee9d98b5",
   "metadata": {},
   "outputs": [],
   "source": [
    "equation <- as.formula(paste(base_str, \" + (1|doi) + \", keywords, sep = \" \"))\n",
    "m_x_affi <- glmer(formula = equation, data = mydata, family = \"binomial\", control = glmerControl(optimizer = \"nloptwrap\"), nAGQ = 0)"
   ]
  },
  {
   "cell_type": "code",
   "execution_count": 59,
   "id": "e5233fa4",
   "metadata": {
    "scrolled": true
   },
   "outputs": [
    {
     "data": {
      "text/html": [
       "<table>\n",
       "<thead><tr><th scope=col>effect</th><th scope=col>group</th><th scope=col>term</th><th scope=col>estimate</th><th scope=col>std.error</th><th scope=col>statistic</th><th scope=col>p.value</th></tr></thead>\n",
       "<tbody>\n",
       "\t<tr><td>fixed                                       </td><td>NA                                          </td><td>(Intercept)                                 </td><td>-2.732105660                                </td><td>1.410275e-02                                </td><td>-193.728626                                 </td><td> 0.000000e+00                               </td></tr>\n",
       "\t<tr><td>fixed                                       </td><td>NA                                          </td><td>genderFemale                                </td><td>-0.247166140                                </td><td>1.077569e-02                                </td><td> -22.937386                                 </td><td>1.969087e-116                               </td></tr>\n",
       "\t<tr><td>fixed                                       </td><td>NA                                          </td><td>affiliation_rank_cate                       </td><td>-0.051523253                                </td><td>1.406560e-03                                </td><td> -36.630673                                 </td><td>9.295324e-294                               </td></tr>\n",
       "\t<tr><td>fixed                                       </td><td>NA                                          </td><td>authorship_posfirst_position                </td><td> 0.320028889                                </td><td>8.771305e-03                                </td><td>  36.485891                                 </td><td>1.856459e-291                               </td></tr>\n",
       "\t<tr><td>fixed                                       </td><td>NA                                          </td><td>authorship_posmiddle_position               </td><td>-0.679350049                                </td><td>7.624405e-03                                </td><td> -89.102040                                 </td><td> 0.000000e+00                               </td></tr>\n",
       "\t<tr><td>fixed                                       </td><td>NA                                          </td><td>authorship_possolo_author                   </td><td> 0.752661036                                </td><td>1.972538e-02                                </td><td>  38.156993                                 </td><td> 0.000000e+00                               </td></tr>\n",
       "\t<tr><td>fixed                                       </td><td>NA                                          </td><td>author_pub_count_cate                       </td><td> 0.335828471                                </td><td>5.521884e-03                                </td><td>  60.817736                                 </td><td> 0.000000e+00                               </td></tr>\n",
       "\t<tr><td>fixed                                       </td><td>NA                                          </td><td>I(author_pub_count_cate^2)                  </td><td>-0.028435103                                </td><td>5.148863e-04                                </td><td> -55.225986                                 </td><td> 0.000000e+00                               </td></tr>\n",
       "\t<tr><td>fixed                                       </td><td>NA                                          </td><td>affiliation_cateinternational               </td><td> 0.022795560                                </td><td>7.701345e-03                                </td><td>   2.959945                                 </td><td> 3.076938e-03                               </td></tr>\n",
       "\t<tr><td>fixed                                       </td><td>NA                                          </td><td>num_authors                                 </td><td>-0.001670908                                </td><td>9.618875e-05                                </td><td> -17.371136                                 </td><td> 1.364974e-67                               </td></tr>\n",
       "\t<tr><td>fixed                                       </td><td>NA                                          </td><td>journal_impact                              </td><td> 0.035817513                                </td><td>5.485447e-04                                </td><td>  65.295527                                 </td><td> 0.000000e+00                               </td></tr>\n",
       "\t<tr><td>fixed                                       </td><td>NA                                          </td><td>author_citation_log                         </td><td>-0.043154559                                </td><td>1.807032e-03                                </td><td> -23.881458                                 </td><td>4.773423e-126                               </td></tr>\n",
       "\t<tr><td>fixed                                       </td><td>NA                                          </td><td>Social_Sciences                             </td><td> 0.946784102                                </td><td>1.708232e-02                                </td><td>  55.424792                                 </td><td> 0.000000e+00                               </td></tr>\n",
       "\t<tr><td>fixed                                       </td><td>NA                                          </td><td>Materials_Science                           </td><td>-0.157889711                                </td><td>2.522904e-02                                </td><td>  -6.258253                                 </td><td> 3.893132e-10                               </td></tr>\n",
       "\t<tr><td>fixed                                       </td><td>NA                                          </td><td>Engineering                                 </td><td>-0.396410842                                </td><td>2.254733e-02                                </td><td> -17.581276                                 </td><td> 3.427746e-69                               </td></tr>\n",
       "\t<tr><td>fixed                                       </td><td>NA                                          </td><td>Chemistry                                   </td><td>-0.342136693                                </td><td>1.875206e-02                                </td><td> -18.245289                                 </td><td> 2.255430e-74                               </td></tr>\n",
       "\t<tr><td>fixed                                       </td><td>NA                                          </td><td>Biochemistry__Genetics_and_Molecular_Biology</td><td>-0.147105633                                </td><td>1.120926e-02                                </td><td> -13.123579                                 </td><td> 2.412659e-39                               </td></tr>\n",
       "\t<tr><td>fixed                                       </td><td>NA                                          </td><td>Medicine                                    </td><td>-0.303081090                                </td><td>9.104553e-03                                </td><td> -33.288959                                 </td><td>5.578278e-243                               </td></tr>\n",
       "\t<tr><td>fixed                                       </td><td>NA                                          </td><td>Nursing                                     </td><td> 0.204791053                                </td><td>2.730689e-02                                </td><td>   7.499612                                 </td><td> 6.400702e-14                               </td></tr>\n",
       "\t<tr><td>fixed                                       </td><td>NA                                          </td><td>Agricultural_and_Biological_Sciences        </td><td> 0.442488480                                </td><td>1.347971e-02                                </td><td>  32.826257                                 </td><td>2.485693e-236                               </td></tr>\n",
       "\t<tr><td>fixed                                       </td><td>NA                                          </td><td>Pharmacology__Toxicology_and_Pharmaceutics  </td><td>-0.510290594                                </td><td>2.555727e-02                                </td><td> -19.966552                                 </td><td> 1.076321e-88                               </td></tr>\n",
       "\t<tr><td>fixed                                       </td><td>NA                                          </td><td>Neuroscience                                </td><td> 0.039800291                                </td><td>1.866553e-02                                </td><td>   2.132289                                 </td><td> 3.298314e-02                               </td></tr>\n",
       "\t<tr><td>fixed                                       </td><td>NA                                          </td><td>Business__Management_and_Accounting         </td><td>-0.247566294                                </td><td>3.215925e-02                                </td><td>  -7.698136                                 </td><td> 1.380653e-14                               </td></tr>\n",
       "\t<tr><td>fixed                                       </td><td>NA                                          </td><td>Economics__Econometrics_and_Finance         </td><td>-0.422800590                                </td><td>3.458196e-02                                </td><td> -12.226046                                 </td><td> 2.256583e-34                               </td></tr>\n",
       "\t<tr><td>fixed                                       </td><td>NA                                          </td><td>Chemical_Engineering                        </td><td> 0.184350952                                </td><td>2.860118e-02                                </td><td>   6.445571                                 </td><td> 1.151662e-10                               </td></tr>\n",
       "\t<tr><td>fixed                                       </td><td>NA                                          </td><td>Physics_and_Astronomy                       </td><td>-0.735157707                                </td><td>2.272841e-02                                </td><td> -32.345327                                 </td><td>1.613924e-229                               </td></tr>\n",
       "\t<tr><td>fixed                                       </td><td>NA                                          </td><td>Computer_Science                            </td><td> 0.062677788                                </td><td>2.576043e-02                                </td><td>   2.433104                                 </td><td> 1.497002e-02                               </td></tr>\n",
       "\t<tr><td>fixed                                       </td><td>NA                                          </td><td>Decision_Sciences                           </td><td>-0.569767783                                </td><td>5.380314e-02                                </td><td> -10.589862                                 </td><td> 3.320822e-26                               </td></tr>\n",
       "\t<tr><td>fixed                                       </td><td>NA                                          </td><td>Health_Professions                          </td><td> 0.912374961                                </td><td>3.085613e-02                                </td><td>  29.568680                                 </td><td>3.778336e-192                               </td></tr>\n",
       "\t<tr><td>fixed                                       </td><td>NA                                          </td><td>Psychology                                  </td><td>-0.624790477                                </td><td>2.515697e-02                                </td><td> -24.835677                                 </td><td>3.693066e-136                               </td></tr>\n",
       "\t<tr><td>fixed                                       </td><td>NA                                          </td><td>Immunology_and_Microbiology                 </td><td>-0.092085648                                </td><td>2.099958e-02                                </td><td>  -4.385119                                 </td><td> 1.159226e-05                               </td></tr>\n",
       "\t<tr><td>fixed                                       </td><td>NA                                          </td><td>Dentistry                                   </td><td>-1.126747696                                </td><td>9.285037e-02                                </td><td> -12.135091                                 </td><td> 6.883335e-34                               </td></tr>\n",
       "\t<tr><td>fixed                                       </td><td>NA                                          </td><td>Earth_and_Planetary_Sciences                </td><td>-0.076263981                                </td><td>2.144058e-02                                </td><td>  -3.556992                                 </td><td> 3.751258e-04                               </td></tr>\n",
       "\t<tr><td>fixed                                       </td><td>NA                                          </td><td>Environmental_Science                       </td><td> 0.154543911                                </td><td>1.619055e-02                                </td><td>   9.545316                                 </td><td> 1.356938e-21                               </td></tr>\n",
       "\t<tr><td>fixed                                       </td><td>NA                                          </td><td>Mathematics                                 </td><td>-0.379692256                                </td><td>3.372894e-02                                </td><td> -11.257164                                 </td><td> 2.135204e-29                               </td></tr>\n",
       "\t<tr><td>fixed                                       </td><td>NA                                          </td><td>Arts_and_Humanities                         </td><td>-0.219595547                                </td><td>4.183801e-02                                </td><td>  -5.248709                                 </td><td> 1.531690e-07                               </td></tr>\n",
       "\t<tr><td>fixed                                       </td><td>NA                                          </td><td>Energy                                      </td><td>-0.363321046                                </td><td>4.029201e-02                                </td><td>  -9.017198                                 </td><td> 1.929611e-19                               </td></tr>\n",
       "\t<tr><td>fixed                                       </td><td>NA                                          </td><td>Veterinary                                  </td><td>-0.863390531                                </td><td>5.550450e-02                                </td><td> -15.555325                                 </td><td> 1.464103e-54                               </td></tr>\n",
       "\t<tr><td>fixed                                       </td><td>NA                                          </td><td>General                                     </td><td> 0.348642276                                </td><td>3.032127e-02                                </td><td>  11.498274                                 </td><td> 1.345799e-30                               </td></tr>\n",
       "\t<tr><td>fixed                                       </td><td>NA                                          </td><td>genderFemale:affiliation_rank_cate          </td><td>-0.007245047                                </td><td>2.183299e-03                                </td><td>  -3.318395                                 </td><td> 9.053637e-04                               </td></tr>\n",
       "\t<tr><td>ran_pars                                    </td><td>doi                                         </td><td>sd__(Intercept)                             </td><td> 1.494111694                                </td><td>          NA                                </td><td>         NA                                 </td><td>           NA                               </td></tr>\n",
       "</tbody>\n",
       "</table>\n"
      ],
      "text/latex": [
       "\\begin{tabular}{r|lllllll}\n",
       " effect & group & term & estimate & std.error & statistic & p.value\\\\\n",
       "\\hline\n",
       "\t fixed                                        & NA                                           & (Intercept)                                  & -2.732105660                                 & 1.410275e-02                                 & -193.728626                                  &  0.000000e+00                               \\\\\n",
       "\t fixed                                        & NA                                           & genderFemale                                 & -0.247166140                                 & 1.077569e-02                                 &  -22.937386                                  & 1.969087e-116                               \\\\\n",
       "\t fixed                                            & NA                                               & affiliation\\_rank\\_cate                        & -0.051523253                                     & 1.406560e-03                                     &  -36.630673                                      & 9.295324e-294                                   \\\\\n",
       "\t fixed                                            & NA                                               & authorship\\_posfirst\\_position                 &  0.320028889                                     & 8.771305e-03                                     &   36.485891                                      & 1.856459e-291                                   \\\\\n",
       "\t fixed                                            & NA                                               & authorship\\_posmiddle\\_position                & -0.679350049                                     & 7.624405e-03                                     &  -89.102040                                      &  0.000000e+00                                   \\\\\n",
       "\t fixed                                            & NA                                               & authorship\\_possolo\\_author                    &  0.752661036                                     & 1.972538e-02                                     &   38.156993                                      &  0.000000e+00                                   \\\\\n",
       "\t fixed                                              & NA                                                 & author\\_pub\\_count\\_cate                        &  0.335828471                                       & 5.521884e-03                                       &   60.817736                                        &  0.000000e+00                                     \\\\\n",
       "\t fixed                                                                & NA                                                                   & I(author\\_pub\\_count\\_cate\\textasciicircum{}2)                   & -0.028435103                                                         & 5.148863e-04                                                         &  -55.225986                                                          &  0.000000e+00                                                       \\\\\n",
       "\t fixed                                          & NA                                             & affiliation\\_cateinternational                &  0.022795560                                   & 7.701345e-03                                   &    2.959945                                    &  3.076938e-03                                 \\\\\n",
       "\t fixed                                          & NA                                             & num\\_authors                                  & -0.001670908                                   & 9.618875e-05                                   &  -17.371136                                    &  1.364974e-67                                 \\\\\n",
       "\t fixed                                          & NA                                             & journal\\_impact                               &  0.035817513                                   & 5.485447e-04                                   &   65.295527                                    &  0.000000e+00                                 \\\\\n",
       "\t fixed                                            & NA                                               & author\\_citation\\_log                          & -0.043154559                                     & 1.807032e-03                                     &  -23.881458                                      & 4.773423e-126                                   \\\\\n",
       "\t fixed                                          & NA                                             & Social\\_Sciences                              &  0.946784102                                   & 1.708232e-02                                   &   55.424792                                    &  0.000000e+00                                 \\\\\n",
       "\t fixed                                          & NA                                             & Materials\\_Science                            & -0.157889711                                   & 2.522904e-02                                   &   -6.258253                                    &  3.893132e-10                                 \\\\\n",
       "\t fixed                                        & NA                                           & Engineering                                  & -0.396410842                                 & 2.254733e-02                                 &  -17.581276                                  &  3.427746e-69                               \\\\\n",
       "\t fixed                                        & NA                                           & Chemistry                                    & -0.342136693                                 & 1.875206e-02                                 &  -18.245289                                  &  2.255430e-74                               \\\\\n",
       "\t fixed                                                  & NA                                                     & Biochemistry\\_\\_Genetics\\_and\\_Molecular\\_Biology & -0.147105633                                           & 1.120926e-02                                           &  -13.123579                                            &  2.412659e-39                                         \\\\\n",
       "\t fixed                                        & NA                                           & Medicine                                     & -0.303081090                                 & 9.104553e-03                                 &  -33.288959                                  & 5.578278e-243                               \\\\\n",
       "\t fixed                                        & NA                                           & Nursing                                      &  0.204791053                                 & 2.730689e-02                                 &    7.499612                                  &  6.400702e-14                               \\\\\n",
       "\t fixed                                              & NA                                                 & Agricultural\\_and\\_Biological\\_Sciences         &  0.442488480                                       & 1.347971e-02                                       &   32.826257                                        & 2.485693e-236                                     \\\\\n",
       "\t fixed                                                & NA                                                   & Pharmacology\\_\\_Toxicology\\_and\\_Pharmaceutics   & -0.510290594                                         & 2.555727e-02                                         &  -19.966552                                          &  1.076321e-88                                       \\\\\n",
       "\t fixed                                        & NA                                           & Neuroscience                                 &  0.039800291                                 & 1.866553e-02                                 &    2.132289                                  &  3.298314e-02                               \\\\\n",
       "\t fixed                                                & NA                                                   & Business\\_\\_Management\\_and\\_Accounting          & -0.247566294                                         & 3.215925e-02                                         &   -7.698136                                          &  1.380653e-14                                       \\\\\n",
       "\t fixed                                                & NA                                                   & Economics\\_\\_Econometrics\\_and\\_Finance          & -0.422800590                                         & 3.458196e-02                                         &  -12.226046                                          &  2.256583e-34                                       \\\\\n",
       "\t fixed                                          & NA                                             & Chemical\\_Engineering                         &  0.184350952                                   & 2.860118e-02                                   &    6.445571                                    &  1.151662e-10                                 \\\\\n",
       "\t fixed                                            & NA                                               & Physics\\_and\\_Astronomy                        & -0.735157707                                     & 2.272841e-02                                     &  -32.345327                                      & 1.613924e-229                                   \\\\\n",
       "\t fixed                                          & NA                                             & Computer\\_Science                             &  0.062677788                                   & 2.576043e-02                                   &    2.433104                                    &  1.497002e-02                                 \\\\\n",
       "\t fixed                                          & NA                                             & Decision\\_Sciences                            & -0.569767783                                   & 5.380314e-02                                   &  -10.589862                                    &  3.320822e-26                                 \\\\\n",
       "\t fixed                                          & NA                                             & Health\\_Professions                           &  0.912374961                                   & 3.085613e-02                                   &   29.568680                                    & 3.778336e-192                                 \\\\\n",
       "\t fixed                                        & NA                                           & Psychology                                   & -0.624790477                                 & 2.515697e-02                                 &  -24.835677                                  & 3.693066e-136                               \\\\\n",
       "\t fixed                                            & NA                                               & Immunology\\_and\\_Microbiology                  & -0.092085648                                     & 2.099958e-02                                     &   -4.385119                                      &  1.159226e-05                                   \\\\\n",
       "\t fixed                                        & NA                                           & Dentistry                                    & -1.126747696                                 & 9.285037e-02                                 &  -12.135091                                  &  6.883335e-34                               \\\\\n",
       "\t fixed                                              & NA                                                 & Earth\\_and\\_Planetary\\_Sciences                 & -0.076263981                                       & 2.144058e-02                                       &   -3.556992                                        &  3.751258e-04                                     \\\\\n",
       "\t fixed                                          & NA                                             & Environmental\\_Science                        &  0.154543911                                   & 1.619055e-02                                   &    9.545316                                    &  1.356938e-21                                 \\\\\n",
       "\t fixed                                        & NA                                           & Mathematics                                  & -0.379692256                                 & 3.372894e-02                                 &  -11.257164                                  &  2.135204e-29                               \\\\\n",
       "\t fixed                                            & NA                                               & Arts\\_and\\_Humanities                          & -0.219595547                                     & 4.183801e-02                                     &   -5.248709                                      &  1.531690e-07                                   \\\\\n",
       "\t fixed                                        & NA                                           & Energy                                       & -0.363321046                                 & 4.029201e-02                                 &   -9.017198                                  &  1.929611e-19                               \\\\\n",
       "\t fixed                                        & NA                                           & Veterinary                                   & -0.863390531                                 & 5.550450e-02                                 &  -15.555325                                  &  1.464103e-54                               \\\\\n",
       "\t fixed                                        & NA                                           & General                                      &  0.348642276                                 & 3.032127e-02                                 &   11.498274                                  &  1.345799e-30                               \\\\\n",
       "\t fixed                                            & NA                                               & genderFemale:affiliation\\_rank\\_cate           & -0.007245047                                     & 2.183299e-03                                     &   -3.318395                                      &  9.053637e-04                                   \\\\\n",
       "\t ran\\_pars                                       & doi                                              & sd\\_\\_(Intercept)                              &  1.494111694                                     &           NA                                     &          NA                                      &            NA                                   \\\\\n",
       "\\end{tabular}\n"
      ],
      "text/markdown": [
       "\n",
       "| effect | group | term | estimate | std.error | statistic | p.value |\n",
       "|---|---|---|---|---|---|---|\n",
       "| fixed                                        | NA                                           | (Intercept)                                  | -2.732105660                                 | 1.410275e-02                                 | -193.728626                                  |  0.000000e+00                                |\n",
       "| fixed                                        | NA                                           | genderFemale                                 | -0.247166140                                 | 1.077569e-02                                 |  -22.937386                                  | 1.969087e-116                                |\n",
       "| fixed                                        | NA                                           | affiliation_rank_cate                        | -0.051523253                                 | 1.406560e-03                                 |  -36.630673                                  | 9.295324e-294                                |\n",
       "| fixed                                        | NA                                           | authorship_posfirst_position                 |  0.320028889                                 | 8.771305e-03                                 |   36.485891                                  | 1.856459e-291                                |\n",
       "| fixed                                        | NA                                           | authorship_posmiddle_position                | -0.679350049                                 | 7.624405e-03                                 |  -89.102040                                  |  0.000000e+00                                |\n",
       "| fixed                                        | NA                                           | authorship_possolo_author                    |  0.752661036                                 | 1.972538e-02                                 |   38.156993                                  |  0.000000e+00                                |\n",
       "| fixed                                        | NA                                           | author_pub_count_cate                        |  0.335828471                                 | 5.521884e-03                                 |   60.817736                                  |  0.000000e+00                                |\n",
       "| fixed                                        | NA                                           | I(author_pub_count_cate^2)                   | -0.028435103                                 | 5.148863e-04                                 |  -55.225986                                  |  0.000000e+00                                |\n",
       "| fixed                                        | NA                                           | affiliation_cateinternational                |  0.022795560                                 | 7.701345e-03                                 |    2.959945                                  |  3.076938e-03                                |\n",
       "| fixed                                        | NA                                           | num_authors                                  | -0.001670908                                 | 9.618875e-05                                 |  -17.371136                                  |  1.364974e-67                                |\n",
       "| fixed                                        | NA                                           | journal_impact                               |  0.035817513                                 | 5.485447e-04                                 |   65.295527                                  |  0.000000e+00                                |\n",
       "| fixed                                        | NA                                           | author_citation_log                          | -0.043154559                                 | 1.807032e-03                                 |  -23.881458                                  | 4.773423e-126                                |\n",
       "| fixed                                        | NA                                           | Social_Sciences                              |  0.946784102                                 | 1.708232e-02                                 |   55.424792                                  |  0.000000e+00                                |\n",
       "| fixed                                        | NA                                           | Materials_Science                            | -0.157889711                                 | 2.522904e-02                                 |   -6.258253                                  |  3.893132e-10                                |\n",
       "| fixed                                        | NA                                           | Engineering                                  | -0.396410842                                 | 2.254733e-02                                 |  -17.581276                                  |  3.427746e-69                                |\n",
       "| fixed                                        | NA                                           | Chemistry                                    | -0.342136693                                 | 1.875206e-02                                 |  -18.245289                                  |  2.255430e-74                                |\n",
       "| fixed                                        | NA                                           | Biochemistry__Genetics_and_Molecular_Biology | -0.147105633                                 | 1.120926e-02                                 |  -13.123579                                  |  2.412659e-39                                |\n",
       "| fixed                                        | NA                                           | Medicine                                     | -0.303081090                                 | 9.104553e-03                                 |  -33.288959                                  | 5.578278e-243                                |\n",
       "| fixed                                        | NA                                           | Nursing                                      |  0.204791053                                 | 2.730689e-02                                 |    7.499612                                  |  6.400702e-14                                |\n",
       "| fixed                                        | NA                                           | Agricultural_and_Biological_Sciences         |  0.442488480                                 | 1.347971e-02                                 |   32.826257                                  | 2.485693e-236                                |\n",
       "| fixed                                        | NA                                           | Pharmacology__Toxicology_and_Pharmaceutics   | -0.510290594                                 | 2.555727e-02                                 |  -19.966552                                  |  1.076321e-88                                |\n",
       "| fixed                                        | NA                                           | Neuroscience                                 |  0.039800291                                 | 1.866553e-02                                 |    2.132289                                  |  3.298314e-02                                |\n",
       "| fixed                                        | NA                                           | Business__Management_and_Accounting          | -0.247566294                                 | 3.215925e-02                                 |   -7.698136                                  |  1.380653e-14                                |\n",
       "| fixed                                        | NA                                           | Economics__Econometrics_and_Finance          | -0.422800590                                 | 3.458196e-02                                 |  -12.226046                                  |  2.256583e-34                                |\n",
       "| fixed                                        | NA                                           | Chemical_Engineering                         |  0.184350952                                 | 2.860118e-02                                 |    6.445571                                  |  1.151662e-10                                |\n",
       "| fixed                                        | NA                                           | Physics_and_Astronomy                        | -0.735157707                                 | 2.272841e-02                                 |  -32.345327                                  | 1.613924e-229                                |\n",
       "| fixed                                        | NA                                           | Computer_Science                             |  0.062677788                                 | 2.576043e-02                                 |    2.433104                                  |  1.497002e-02                                |\n",
       "| fixed                                        | NA                                           | Decision_Sciences                            | -0.569767783                                 | 5.380314e-02                                 |  -10.589862                                  |  3.320822e-26                                |\n",
       "| fixed                                        | NA                                           | Health_Professions                           |  0.912374961                                 | 3.085613e-02                                 |   29.568680                                  | 3.778336e-192                                |\n",
       "| fixed                                        | NA                                           | Psychology                                   | -0.624790477                                 | 2.515697e-02                                 |  -24.835677                                  | 3.693066e-136                                |\n",
       "| fixed                                        | NA                                           | Immunology_and_Microbiology                  | -0.092085648                                 | 2.099958e-02                                 |   -4.385119                                  |  1.159226e-05                                |\n",
       "| fixed                                        | NA                                           | Dentistry                                    | -1.126747696                                 | 9.285037e-02                                 |  -12.135091                                  |  6.883335e-34                                |\n",
       "| fixed                                        | NA                                           | Earth_and_Planetary_Sciences                 | -0.076263981                                 | 2.144058e-02                                 |   -3.556992                                  |  3.751258e-04                                |\n",
       "| fixed                                        | NA                                           | Environmental_Science                        |  0.154543911                                 | 1.619055e-02                                 |    9.545316                                  |  1.356938e-21                                |\n",
       "| fixed                                        | NA                                           | Mathematics                                  | -0.379692256                                 | 3.372894e-02                                 |  -11.257164                                  |  2.135204e-29                                |\n",
       "| fixed                                        | NA                                           | Arts_and_Humanities                          | -0.219595547                                 | 4.183801e-02                                 |   -5.248709                                  |  1.531690e-07                                |\n",
       "| fixed                                        | NA                                           | Energy                                       | -0.363321046                                 | 4.029201e-02                                 |   -9.017198                                  |  1.929611e-19                                |\n",
       "| fixed                                        | NA                                           | Veterinary                                   | -0.863390531                                 | 5.550450e-02                                 |  -15.555325                                  |  1.464103e-54                                |\n",
       "| fixed                                        | NA                                           | General                                      |  0.348642276                                 | 3.032127e-02                                 |   11.498274                                  |  1.345799e-30                                |\n",
       "| fixed                                        | NA                                           | genderFemale:affiliation_rank_cate           | -0.007245047                                 | 2.183299e-03                                 |   -3.318395                                  |  9.053637e-04                                |\n",
       "| ran_pars                                     | doi                                          | sd__(Intercept)                              |  1.494111694                                 |           NA                                 |          NA                                  |            NA                                |\n",
       "\n"
      ],
      "text/plain": [
       "   effect   group term                                         estimate    \n",
       "1  fixed    NA    (Intercept)                                  -2.732105660\n",
       "2  fixed    NA    genderFemale                                 -0.247166140\n",
       "3  fixed    NA    affiliation_rank_cate                        -0.051523253\n",
       "4  fixed    NA    authorship_posfirst_position                  0.320028889\n",
       "5  fixed    NA    authorship_posmiddle_position                -0.679350049\n",
       "6  fixed    NA    authorship_possolo_author                     0.752661036\n",
       "7  fixed    NA    author_pub_count_cate                         0.335828471\n",
       "8  fixed    NA    I(author_pub_count_cate^2)                   -0.028435103\n",
       "9  fixed    NA    affiliation_cateinternational                 0.022795560\n",
       "10 fixed    NA    num_authors                                  -0.001670908\n",
       "11 fixed    NA    journal_impact                                0.035817513\n",
       "12 fixed    NA    author_citation_log                          -0.043154559\n",
       "13 fixed    NA    Social_Sciences                               0.946784102\n",
       "14 fixed    NA    Materials_Science                            -0.157889711\n",
       "15 fixed    NA    Engineering                                  -0.396410842\n",
       "16 fixed    NA    Chemistry                                    -0.342136693\n",
       "17 fixed    NA    Biochemistry__Genetics_and_Molecular_Biology -0.147105633\n",
       "18 fixed    NA    Medicine                                     -0.303081090\n",
       "19 fixed    NA    Nursing                                       0.204791053\n",
       "20 fixed    NA    Agricultural_and_Biological_Sciences          0.442488480\n",
       "21 fixed    NA    Pharmacology__Toxicology_and_Pharmaceutics   -0.510290594\n",
       "22 fixed    NA    Neuroscience                                  0.039800291\n",
       "23 fixed    NA    Business__Management_and_Accounting          -0.247566294\n",
       "24 fixed    NA    Economics__Econometrics_and_Finance          -0.422800590\n",
       "25 fixed    NA    Chemical_Engineering                          0.184350952\n",
       "26 fixed    NA    Physics_and_Astronomy                        -0.735157707\n",
       "27 fixed    NA    Computer_Science                              0.062677788\n",
       "28 fixed    NA    Decision_Sciences                            -0.569767783\n",
       "29 fixed    NA    Health_Professions                            0.912374961\n",
       "30 fixed    NA    Psychology                                   -0.624790477\n",
       "31 fixed    NA    Immunology_and_Microbiology                  -0.092085648\n",
       "32 fixed    NA    Dentistry                                    -1.126747696\n",
       "33 fixed    NA    Earth_and_Planetary_Sciences                 -0.076263981\n",
       "34 fixed    NA    Environmental_Science                         0.154543911\n",
       "35 fixed    NA    Mathematics                                  -0.379692256\n",
       "36 fixed    NA    Arts_and_Humanities                          -0.219595547\n",
       "37 fixed    NA    Energy                                       -0.363321046\n",
       "38 fixed    NA    Veterinary                                   -0.863390531\n",
       "39 fixed    NA    General                                       0.348642276\n",
       "40 fixed    NA    genderFemale:affiliation_rank_cate           -0.007245047\n",
       "41 ran_pars doi   sd__(Intercept)                               1.494111694\n",
       "   std.error    statistic   p.value      \n",
       "1  1.410275e-02 -193.728626  0.000000e+00\n",
       "2  1.077569e-02  -22.937386 1.969087e-116\n",
       "3  1.406560e-03  -36.630673 9.295324e-294\n",
       "4  8.771305e-03   36.485891 1.856459e-291\n",
       "5  7.624405e-03  -89.102040  0.000000e+00\n",
       "6  1.972538e-02   38.156993  0.000000e+00\n",
       "7  5.521884e-03   60.817736  0.000000e+00\n",
       "8  5.148863e-04  -55.225986  0.000000e+00\n",
       "9  7.701345e-03    2.959945  3.076938e-03\n",
       "10 9.618875e-05  -17.371136  1.364974e-67\n",
       "11 5.485447e-04   65.295527  0.000000e+00\n",
       "12 1.807032e-03  -23.881458 4.773423e-126\n",
       "13 1.708232e-02   55.424792  0.000000e+00\n",
       "14 2.522904e-02   -6.258253  3.893132e-10\n",
       "15 2.254733e-02  -17.581276  3.427746e-69\n",
       "16 1.875206e-02  -18.245289  2.255430e-74\n",
       "17 1.120926e-02  -13.123579  2.412659e-39\n",
       "18 9.104553e-03  -33.288959 5.578278e-243\n",
       "19 2.730689e-02    7.499612  6.400702e-14\n",
       "20 1.347971e-02   32.826257 2.485693e-236\n",
       "21 2.555727e-02  -19.966552  1.076321e-88\n",
       "22 1.866553e-02    2.132289  3.298314e-02\n",
       "23 3.215925e-02   -7.698136  1.380653e-14\n",
       "24 3.458196e-02  -12.226046  2.256583e-34\n",
       "25 2.860118e-02    6.445571  1.151662e-10\n",
       "26 2.272841e-02  -32.345327 1.613924e-229\n",
       "27 2.576043e-02    2.433104  1.497002e-02\n",
       "28 5.380314e-02  -10.589862  3.320822e-26\n",
       "29 3.085613e-02   29.568680 3.778336e-192\n",
       "30 2.515697e-02  -24.835677 3.693066e-136\n",
       "31 2.099958e-02   -4.385119  1.159226e-05\n",
       "32 9.285037e-02  -12.135091  6.883335e-34\n",
       "33 2.144058e-02   -3.556992  3.751258e-04\n",
       "34 1.619055e-02    9.545316  1.356938e-21\n",
       "35 3.372894e-02  -11.257164  2.135204e-29\n",
       "36 4.183801e-02   -5.248709  1.531690e-07\n",
       "37 4.029201e-02   -9.017198  1.929611e-19\n",
       "38 5.550450e-02  -15.555325  1.464103e-54\n",
       "39 3.032127e-02   11.498274  1.345799e-30\n",
       "40 2.183299e-03   -3.318395  9.053637e-04\n",
       "41           NA          NA            NA"
      ]
     },
     "metadata": {},
     "output_type": "display_data"
    }
   ],
   "source": [
    "tidy(m_x_affi)"
   ]
  },
  {
   "cell_type": "code",
   "execution_count": 60,
   "id": "8f3cb6c9",
   "metadata": {
    "scrolled": true
   },
   "outputs": [
    {
     "name": "stderr",
     "output_type": "stream",
     "text": [
      "Model contains polynomial or cubic / quadratic terms. Consider using `terms=\"affiliation_rank_cate [all]\"` to get smooth plots. See also package-vignette 'Marginal Effects at Specific Values'.\n"
     ]
    }
   ],
   "source": [
    "MEs = ggemmeans(m_x_affi, terms=c('affiliation_rank_cate', 'gender'), typical='median')"
   ]
  },
  {
   "cell_type": "code",
   "execution_count": 61,
   "id": "dc9b829a",
   "metadata": {
    "scrolled": true
   },
   "outputs": [
    {
     "data": {
      "text/html": [
       "<table>\n",
       "<thead><tr><th scope=col>x</th><th scope=col>predicted</th><th scope=col>std.error</th><th scope=col>conf.low</th><th scope=col>conf.high</th><th scope=col>group</th></tr></thead>\n",
       "<tbody>\n",
       "\t<tr><td>0          </td><td>0.12480105 </td><td>0.010332842</td><td>0.12260577 </td><td>0.12702995 </td><td>Male       </td></tr>\n",
       "\t<tr><td>0          </td><td>0.10020972 </td><td>0.011986122</td><td>0.09811128 </td><td>0.10234796 </td><td>Female     </td></tr>\n",
       "\t<tr><td>1          </td><td>0.11928131 </td><td>0.009638121</td><td>0.11731105 </td><td>0.12128012 </td><td>Male       </td></tr>\n",
       "\t<tr><td>1          </td><td>0.09503382 </td><td>0.010913430</td><td>0.09321010 </td><td>0.09688940 </td><td>Female     </td></tr>\n",
       "\t<tr><td>2          </td><td>0.11397391 </td><td>0.009109112</td><td>0.11218338 </td><td>0.11578929 </td><td>Male       </td></tr>\n",
       "\t<tr><td>2          </td><td>0.09009848 </td><td>0.010094469</td><td>0.08848961 </td><td>0.09173366 </td><td>Female     </td></tr>\n",
       "\t<tr><td>3          </td><td>0.10887346 </td><td>0.008775837</td><td>0.10721588 </td><td>0.11055350 </td><td>Male       </td></tr>\n",
       "\t<tr><td>3          </td><td>0.08539526 </td><td>0.009594436</td><td>0.08393796 </td><td>0.08687546 </td><td>Female     </td></tr>\n",
       "\t<tr><td>4          </td><td>0.10397449 </td><td>0.008660919</td><td>0.10240362 </td><td>0.10556661 </td><td>Male       </td></tr>\n",
       "\t<tr><td>4          </td><td>0.08091572 </td><td>0.009464018</td><td>0.07954693 </td><td>0.08230596 </td><td>Female     </td></tr>\n",
       "\t<tr><td>5          </td><td>0.09927139 </td><td>0.008772945</td><td>0.09774446 </td><td>0.10081950 </td><td>Male       </td></tr>\n",
       "\t<tr><td>5          </td><td>0.07665147 </td><td>0.009718108</td><td>0.07531421 </td><td>0.07801047 </td><td>Female     </td></tr>\n",
       "\t<tr><td>6          </td><td>0.09475853 </td><td>0.009103539</td><td>0.09323903 </td><td>0.09630016 </td><td>Male       </td></tr>\n",
       "\t<tr><td>6          </td><td>0.07259419 </td><td>0.010328366</td><td>0.07124307 </td><td>0.07396890 </td><td>Female     </td></tr>\n",
       "\t<tr><td>7          </td><td>0.09043023 </td><td>0.009630218</td><td>0.08888968 </td><td>0.09199478 </td><td>Male       </td></tr>\n",
       "\t<tr><td>7          </td><td>0.06873569 </td><td>0.011236912</td><td>0.06733923 </td><td>0.07015893 </td><td>Female     </td></tr>\n",
       "\t<tr><td>8          </td><td>0.08628079 </td><td>0.010323014</td><td>0.08469901 </td><td>0.08788927 </td><td>Male       </td></tr>\n",
       "\t<tr><td>8          </td><td>0.06506788 </td><td>0.012378238</td><td>0.06360747 </td><td>0.06655944 </td><td>Female     </td></tr>\n",
       "\t<tr><td>9          </td><td>0.08230452 </td><td>0.011151006</td><td>0.08066875 </td><td>0.08397042 </td><td>Male       </td></tr>\n",
       "\t<tr><td>9          </td><td>0.06158285 </td><td>0.013694266</td><td>0.06004987 </td><td>0.06315233 </td><td>Female     </td></tr>\n",
       "</tbody>\n",
       "</table>\n"
      ],
      "text/latex": [
       "\\begin{tabular}{r|llllll}\n",
       " x & predicted & std.error & conf.low & conf.high & group\\\\\n",
       "\\hline\n",
       "\t 0           & 0.12480105  & 0.010332842 & 0.12260577  & 0.12702995  & Male       \\\\\n",
       "\t 0           & 0.10020972  & 0.011986122 & 0.09811128  & 0.10234796  & Female     \\\\\n",
       "\t 1           & 0.11928131  & 0.009638121 & 0.11731105  & 0.12128012  & Male       \\\\\n",
       "\t 1           & 0.09503382  & 0.010913430 & 0.09321010  & 0.09688940  & Female     \\\\\n",
       "\t 2           & 0.11397391  & 0.009109112 & 0.11218338  & 0.11578929  & Male       \\\\\n",
       "\t 2           & 0.09009848  & 0.010094469 & 0.08848961  & 0.09173366  & Female     \\\\\n",
       "\t 3           & 0.10887346  & 0.008775837 & 0.10721588  & 0.11055350  & Male       \\\\\n",
       "\t 3           & 0.08539526  & 0.009594436 & 0.08393796  & 0.08687546  & Female     \\\\\n",
       "\t 4           & 0.10397449  & 0.008660919 & 0.10240362  & 0.10556661  & Male       \\\\\n",
       "\t 4           & 0.08091572  & 0.009464018 & 0.07954693  & 0.08230596  & Female     \\\\\n",
       "\t 5           & 0.09927139  & 0.008772945 & 0.09774446  & 0.10081950  & Male       \\\\\n",
       "\t 5           & 0.07665147  & 0.009718108 & 0.07531421  & 0.07801047  & Female     \\\\\n",
       "\t 6           & 0.09475853  & 0.009103539 & 0.09323903  & 0.09630016  & Male       \\\\\n",
       "\t 6           & 0.07259419  & 0.010328366 & 0.07124307  & 0.07396890  & Female     \\\\\n",
       "\t 7           & 0.09043023  & 0.009630218 & 0.08888968  & 0.09199478  & Male       \\\\\n",
       "\t 7           & 0.06873569  & 0.011236912 & 0.06733923  & 0.07015893  & Female     \\\\\n",
       "\t 8           & 0.08628079  & 0.010323014 & 0.08469901  & 0.08788927  & Male       \\\\\n",
       "\t 8           & 0.06506788  & 0.012378238 & 0.06360747  & 0.06655944  & Female     \\\\\n",
       "\t 9           & 0.08230452  & 0.011151006 & 0.08066875  & 0.08397042  & Male       \\\\\n",
       "\t 9           & 0.06158285  & 0.013694266 & 0.06004987  & 0.06315233  & Female     \\\\\n",
       "\\end{tabular}\n"
      ],
      "text/markdown": [
       "\n",
       "| x | predicted | std.error | conf.low | conf.high | group |\n",
       "|---|---|---|---|---|---|\n",
       "| 0           | 0.12480105  | 0.010332842 | 0.12260577  | 0.12702995  | Male        |\n",
       "| 0           | 0.10020972  | 0.011986122 | 0.09811128  | 0.10234796  | Female      |\n",
       "| 1           | 0.11928131  | 0.009638121 | 0.11731105  | 0.12128012  | Male        |\n",
       "| 1           | 0.09503382  | 0.010913430 | 0.09321010  | 0.09688940  | Female      |\n",
       "| 2           | 0.11397391  | 0.009109112 | 0.11218338  | 0.11578929  | Male        |\n",
       "| 2           | 0.09009848  | 0.010094469 | 0.08848961  | 0.09173366  | Female      |\n",
       "| 3           | 0.10887346  | 0.008775837 | 0.10721588  | 0.11055350  | Male        |\n",
       "| 3           | 0.08539526  | 0.009594436 | 0.08393796  | 0.08687546  | Female      |\n",
       "| 4           | 0.10397449  | 0.008660919 | 0.10240362  | 0.10556661  | Male        |\n",
       "| 4           | 0.08091572  | 0.009464018 | 0.07954693  | 0.08230596  | Female      |\n",
       "| 5           | 0.09927139  | 0.008772945 | 0.09774446  | 0.10081950  | Male        |\n",
       "| 5           | 0.07665147  | 0.009718108 | 0.07531421  | 0.07801047  | Female      |\n",
       "| 6           | 0.09475853  | 0.009103539 | 0.09323903  | 0.09630016  | Male        |\n",
       "| 6           | 0.07259419  | 0.010328366 | 0.07124307  | 0.07396890  | Female      |\n",
       "| 7           | 0.09043023  | 0.009630218 | 0.08888968  | 0.09199478  | Male        |\n",
       "| 7           | 0.06873569  | 0.011236912 | 0.06733923  | 0.07015893  | Female      |\n",
       "| 8           | 0.08628079  | 0.010323014 | 0.08469901  | 0.08788927  | Male        |\n",
       "| 8           | 0.06506788  | 0.012378238 | 0.06360747  | 0.06655944  | Female      |\n",
       "| 9           | 0.08230452  | 0.011151006 | 0.08066875  | 0.08397042  | Male        |\n",
       "| 9           | 0.06158285  | 0.013694266 | 0.06004987  | 0.06315233  | Female      |\n",
       "\n"
      ],
      "text/plain": [
       "   x predicted  std.error   conf.low   conf.high  group \n",
       "1  0 0.12480105 0.010332842 0.12260577 0.12702995 Male  \n",
       "2  0 0.10020972 0.011986122 0.09811128 0.10234796 Female\n",
       "3  1 0.11928131 0.009638121 0.11731105 0.12128012 Male  \n",
       "4  1 0.09503382 0.010913430 0.09321010 0.09688940 Female\n",
       "5  2 0.11397391 0.009109112 0.11218338 0.11578929 Male  \n",
       "6  2 0.09009848 0.010094469 0.08848961 0.09173366 Female\n",
       "7  3 0.10887346 0.008775837 0.10721588 0.11055350 Male  \n",
       "8  3 0.08539526 0.009594436 0.08393796 0.08687546 Female\n",
       "9  4 0.10397449 0.008660919 0.10240362 0.10556661 Male  \n",
       "10 4 0.08091572 0.009464018 0.07954693 0.08230596 Female\n",
       "11 5 0.09927139 0.008772945 0.09774446 0.10081950 Male  \n",
       "12 5 0.07665147 0.009718108 0.07531421 0.07801047 Female\n",
       "13 6 0.09475853 0.009103539 0.09323903 0.09630016 Male  \n",
       "14 6 0.07259419 0.010328366 0.07124307 0.07396890 Female\n",
       "15 7 0.09043023 0.009630218 0.08888968 0.09199478 Male  \n",
       "16 7 0.06873569 0.011236912 0.06733923 0.07015893 Female\n",
       "17 8 0.08628079 0.010323014 0.08469901 0.08788927 Male  \n",
       "18 8 0.06506788 0.012378238 0.06360747 0.06655944 Female\n",
       "19 9 0.08230452 0.011151006 0.08066875 0.08397042 Male  \n",
       "20 9 0.06158285 0.013694266 0.06004987 0.06315233 Female"
      ]
     },
     "metadata": {},
     "output_type": "display_data"
    }
   ],
   "source": [
    "MEs"
   ]
  },
  {
   "cell_type": "code",
   "execution_count": 62,
   "id": "01c2967b",
   "metadata": {},
   "outputs": [],
   "source": [
    "write.csv(MEs, paste(data_root, \"gender_affi.csv\", sep = ''), row.names=FALSE)"
   ]
  },
  {
   "cell_type": "markdown",
   "id": "37041653",
   "metadata": {},
   "source": [
    "### Gender x Prior pubs (all tweets)"
   ]
  },
  {
   "cell_type": "code",
   "execution_count": 63,
   "id": "804247f0",
   "metadata": {},
   "outputs": [],
   "source": [
    "base_str <- \"self_promotion ~ 1 + gender * author_pub_count_cate + gender * I(author_pub_count_cate^2) + \\\n",
    "            authorship_pos + affiliation_rank_cate + affiliation_cate + num_authors + journal_impact + author_citation_log\""
   ]
  },
  {
   "cell_type": "code",
   "execution_count": 91,
   "id": "f52c7013",
   "metadata": {},
   "outputs": [],
   "source": [
    "equation <- as.formula(paste(base_str, \" + (1|doi) + \", keywords, sep = \" \"))\n",
    "m_x_pub <- glmer(formula = equation, data = mydata, family = \"binomial\", control = glmerControl(optimizer = \"nloptwrap\"), nAGQ = 0)"
   ]
  },
  {
   "cell_type": "code",
   "execution_count": 65,
   "id": "f7c2ceed",
   "metadata": {
    "scrolled": true
   },
   "outputs": [
    {
     "data": {
      "text/html": [
       "<table>\n",
       "<thead><tr><th scope=col>effect</th><th scope=col>group</th><th scope=col>term</th><th scope=col>estimate</th><th scope=col>std.error</th><th scope=col>statistic</th><th scope=col>p.value</th></tr></thead>\n",
       "<tbody>\n",
       "\t<tr><td>fixed                                       </td><td>NA                                          </td><td>(Intercept)                                 </td><td>-2.710463306                                </td><td>1.484662e-02                                </td><td>-182.564335                                 </td><td> 0.000000e+00                               </td></tr>\n",
       "\t<tr><td>fixed                                       </td><td>NA                                          </td><td>genderFemale                                </td><td>-0.306872737                                </td><td>1.426762e-02                                </td><td> -21.508331                                 </td><td>1.301021e-102                               </td></tr>\n",
       "\t<tr><td>fixed                                       </td><td>NA                                          </td><td>author_pub_count_cate                       </td><td> 0.328320184                                </td><td>6.294283e-03                                </td><td>  52.161649                                 </td><td> 0.000000e+00                               </td></tr>\n",
       "\t<tr><td>fixed                                       </td><td>NA                                          </td><td>I(author_pub_count_cate^2)                  </td><td>-0.027560125                                </td><td>6.180569e-04                                </td><td> -44.591569                                 </td><td> 0.000000e+00                               </td></tr>\n",
       "\t<tr><td>fixed                                       </td><td>NA                                          </td><td>authorship_posfirst_position                </td><td> 0.319629233                                </td><td>8.773804e-03                                </td><td>  36.429947                                 </td><td>1.429331e-290                               </td></tr>\n",
       "\t<tr><td>fixed                                       </td><td>NA                                          </td><td>authorship_posmiddle_position               </td><td>-0.679499336                                </td><td>7.625209e-03                                </td><td> -89.112220                                 </td><td> 0.000000e+00                               </td></tr>\n",
       "\t<tr><td>fixed                                       </td><td>NA                                          </td><td>authorship_possolo_author                   </td><td> 0.752411367                                </td><td>1.972608e-02                                </td><td>  38.142973                                 </td><td> 0.000000e+00                               </td></tr>\n",
       "\t<tr><td>fixed                                       </td><td>NA                                          </td><td>affiliation_rank_cate                       </td><td>-0.053821502                                </td><td>1.218853e-03                                </td><td> -44.157509                                 </td><td> 0.000000e+00                               </td></tr>\n",
       "\t<tr><td>fixed                                       </td><td>NA                                          </td><td>affiliation_cateinternational               </td><td> 0.022591957                                </td><td>7.701257e-03                                </td><td>   2.933542                                 </td><td> 3.351188e-03                               </td></tr>\n",
       "\t<tr><td>fixed                                       </td><td>NA                                          </td><td>num_authors                                 </td><td>-0.001672023                                </td><td>9.619259e-05                                </td><td> -17.382034                                 </td><td> 1.128778e-67                               </td></tr>\n",
       "\t<tr><td>fixed                                       </td><td>NA                                          </td><td>journal_impact                              </td><td> 0.035811297                                </td><td>5.485539e-04                                </td><td>  65.283101                                 </td><td> 0.000000e+00                               </td></tr>\n",
       "\t<tr><td>fixed                                       </td><td>NA                                          </td><td>author_citation_log                         </td><td>-0.043348349                                </td><td>1.807966e-03                                </td><td> -23.976302                                 </td><td>4.914440e-127                               </td></tr>\n",
       "\t<tr><td>fixed                                       </td><td>NA                                          </td><td>Social_Sciences                             </td><td> 0.946200453                                </td><td>1.708246e-02                                </td><td>  55.390186                                 </td><td> 0.000000e+00                               </td></tr>\n",
       "\t<tr><td>fixed                                       </td><td>NA                                          </td><td>Materials_Science                           </td><td>-0.157759204                                </td><td>2.522909e-02                                </td><td>  -6.253067                                 </td><td> 4.024704e-10                               </td></tr>\n",
       "\t<tr><td>fixed                                       </td><td>NA                                          </td><td>Engineering                                 </td><td>-0.396188660                                </td><td>2.254742e-02                                </td><td> -17.571356                                 </td><td> 4.082984e-69                               </td></tr>\n",
       "\t<tr><td>fixed                                       </td><td>NA                                          </td><td>Chemistry                                   </td><td>-0.342321650                                </td><td>1.875200e-02                                </td><td> -18.255203                                 </td><td> 1.881088e-74                               </td></tr>\n",
       "\t<tr><td>fixed                                       </td><td>NA                                          </td><td>Biochemistry__Genetics_and_Molecular_Biology</td><td>-0.147169398                                </td><td>1.120917e-02                                </td><td> -13.129380                                 </td><td> 2.234796e-39                               </td></tr>\n",
       "\t<tr><td>fixed                                       </td><td>NA                                          </td><td>Medicine                                    </td><td>-0.303097511                                </td><td>9.105002e-03                                </td><td> -33.289119                                 </td><td>5.548496e-243                               </td></tr>\n",
       "\t<tr><td>fixed                                       </td><td>NA                                          </td><td>Nursing                                     </td><td> 0.203842084                                </td><td>2.730622e-02                                </td><td>   7.465041                                 </td><td> 8.327361e-14                               </td></tr>\n",
       "\t<tr><td>fixed                                       </td><td>NA                                          </td><td>Agricultural_and_Biological_Sciences        </td><td> 0.442842940                                </td><td>1.347985e-02                                </td><td>  32.852215                                 </td><td>1.059008e-236                               </td></tr>\n",
       "\t<tr><td>fixed                                       </td><td>NA                                          </td><td>Pharmacology__Toxicology_and_Pharmaceutics  </td><td>-0.510647304                                </td><td>2.555668e-02                                </td><td> -19.980972                                 </td><td> 8.063931e-89                               </td></tr>\n",
       "\t<tr><td>fixed                                       </td><td>NA                                          </td><td>Neuroscience                                </td><td> 0.039766725                                </td><td>1.866574e-02                                </td><td>   2.130466                                 </td><td> 3.313312e-02                               </td></tr>\n",
       "\t<tr><td>fixed                                       </td><td>NA                                          </td><td>Business__Management_and_Accounting         </td><td>-0.247314807                                </td><td>3.215885e-02                                </td><td>  -7.690412                                 </td><td> 1.466617e-14                               </td></tr>\n",
       "\t<tr><td>fixed                                       </td><td>NA                                          </td><td>Economics__Econometrics_and_Finance         </td><td>-0.421689309                                </td><td>3.458131e-02                                </td><td> -12.194140                                 </td><td> 3.340103e-34                               </td></tr>\n",
       "\t<tr><td>fixed                                       </td><td>NA                                          </td><td>Chemical_Engineering                        </td><td> 0.184027123                                </td><td>2.860171e-02                                </td><td>   6.434130                                 </td><td> 1.241826e-10                               </td></tr>\n",
       "\t<tr><td>fixed                                       </td><td>NA                                          </td><td>Physics_and_Astronomy                       </td><td>-0.735516093                                </td><td>2.272878e-02                                </td><td> -32.360566                                 </td><td>9.852817e-230                               </td></tr>\n",
       "\t<tr><td>fixed                                       </td><td>NA                                          </td><td>Computer_Science                            </td><td> 0.062847388                                </td><td>2.576120e-02                                </td><td>   2.439614                                 </td><td> 1.470297e-02                               </td></tr>\n",
       "\t<tr><td>fixed                                       </td><td>NA                                          </td><td>Decision_Sciences                           </td><td>-0.569166151                                </td><td>5.380318e-02                                </td><td> -10.578672                                 </td><td> 3.742255e-26                               </td></tr>\n",
       "\t<tr><td>fixed                                       </td><td>NA                                          </td><td>Health_Professions                          </td><td> 0.912808072                                </td><td>3.085491e-02                                </td><td>  29.583882                                 </td><td>2.408832e-192                               </td></tr>\n",
       "\t<tr><td>fixed                                       </td><td>NA                                          </td><td>Psychology                                  </td><td>-0.624414653                                </td><td>2.515641e-02                                </td><td> -24.821299                                 </td><td>5.280490e-136                               </td></tr>\n",
       "\t<tr><td>fixed                                       </td><td>NA                                          </td><td>Immunology_and_Microbiology                 </td><td>-0.092130670                                </td><td>2.099913e-02                                </td><td>  -4.387356                                 </td><td> 1.147370e-05                               </td></tr>\n",
       "\t<tr><td>fixed                                       </td><td>NA                                          </td><td>Dentistry                                   </td><td>-1.126786129                                </td><td>9.284969e-02                                </td><td> -12.135594                                 </td><td> 6.841191e-34                               </td></tr>\n",
       "\t<tr><td>fixed                                       </td><td>NA                                          </td><td>Earth_and_Planetary_Sciences                </td><td>-0.075885123                                </td><td>2.144108e-02                                </td><td>  -3.539240                                 </td><td> 4.012815e-04                               </td></tr>\n",
       "\t<tr><td>fixed                                       </td><td>NA                                          </td><td>Environmental_Science                       </td><td> 0.154744795                                </td><td>1.619048e-02                                </td><td>   9.557766                                 </td><td> 1.203254e-21                               </td></tr>\n",
       "\t<tr><td>fixed                                       </td><td>NA                                          </td><td>Mathematics                                 </td><td>-0.379505561                                </td><td>3.373048e-02                                </td><td> -11.251117                                 </td><td> 2.286777e-29                               </td></tr>\n",
       "\t<tr><td>fixed                                       </td><td>NA                                          </td><td>Arts_and_Humanities                         </td><td>-0.219287004                                </td><td>4.183805e-02                                </td><td>  -5.241330                                 </td><td> 1.594236e-07                               </td></tr>\n",
       "\t<tr><td>fixed                                       </td><td>NA                                          </td><td>Energy                                      </td><td>-0.362853938                                </td><td>4.029147e-02                                </td><td>  -9.005727                                 </td><td> 2.142415e-19                               </td></tr>\n",
       "\t<tr><td>fixed                                       </td><td>NA                                          </td><td>Veterinary                                  </td><td>-0.863385676                                </td><td>5.550407e-02                                </td><td> -15.555357                                 </td><td> 1.463359e-54                               </td></tr>\n",
       "\t<tr><td>fixed                                       </td><td>NA                                          </td><td>General                                     </td><td> 0.348415853                                </td><td>3.032173e-02                                </td><td>  11.490631                                 </td><td> 1.470341e-30                               </td></tr>\n",
       "\t<tr><td>fixed                                       </td><td>NA                                          </td><td>genderFemale:author_pub_count_cate          </td><td> 0.023687998                                </td><td>8.595070e-03                                </td><td>   2.755998                                 </td><td> 5.851333e-03                               </td></tr>\n",
       "\t<tr><td>fixed                                       </td><td>NA                                          </td><td>genderFemale:I(author_pub_count_cate^2)     </td><td>-0.002898269                                </td><td>1.120505e-03                                </td><td>  -2.586575                                 </td><td> 9.693509e-03                               </td></tr>\n",
       "\t<tr><td>ran_pars                                    </td><td>doi                                         </td><td>sd__(Intercept)                             </td><td> 1.494158215                                </td><td>          NA                                </td><td>         NA                                 </td><td>           NA                               </td></tr>\n",
       "</tbody>\n",
       "</table>\n"
      ],
      "text/latex": [
       "\\begin{tabular}{r|lllllll}\n",
       " effect & group & term & estimate & std.error & statistic & p.value\\\\\n",
       "\\hline\n",
       "\t fixed                                        & NA                                           & (Intercept)                                  & -2.710463306                                 & 1.484662e-02                                 & -182.564335                                  &  0.000000e+00                               \\\\\n",
       "\t fixed                                        & NA                                           & genderFemale                                 & -0.306872737                                 & 1.426762e-02                                 &  -21.508331                                  & 1.301021e-102                               \\\\\n",
       "\t fixed                                              & NA                                                 & author\\_pub\\_count\\_cate                        &  0.328320184                                       & 6.294283e-03                                       &   52.161649                                        &  0.000000e+00                                     \\\\\n",
       "\t fixed                                                                & NA                                                                   & I(author\\_pub\\_count\\_cate\\textasciicircum{}2)                   & -0.027560125                                                         & 6.180569e-04                                                         &  -44.591569                                                          &  0.000000e+00                                                       \\\\\n",
       "\t fixed                                            & NA                                               & authorship\\_posfirst\\_position                 &  0.319629233                                     & 8.773804e-03                                     &   36.429947                                      & 1.429331e-290                                   \\\\\n",
       "\t fixed                                            & NA                                               & authorship\\_posmiddle\\_position                & -0.679499336                                     & 7.625209e-03                                     &  -89.112220                                      &  0.000000e+00                                   \\\\\n",
       "\t fixed                                            & NA                                               & authorship\\_possolo\\_author                    &  0.752411367                                     & 1.972608e-02                                     &   38.142973                                      &  0.000000e+00                                   \\\\\n",
       "\t fixed                                            & NA                                               & affiliation\\_rank\\_cate                        & -0.053821502                                     & 1.218853e-03                                     &  -44.157509                                      &  0.000000e+00                                   \\\\\n",
       "\t fixed                                          & NA                                             & affiliation\\_cateinternational                &  0.022591957                                   & 7.701257e-03                                   &    2.933542                                    &  3.351188e-03                                 \\\\\n",
       "\t fixed                                          & NA                                             & num\\_authors                                  & -0.001672023                                   & 9.619259e-05                                   &  -17.382034                                    &  1.128778e-67                                 \\\\\n",
       "\t fixed                                          & NA                                             & journal\\_impact                               &  0.035811297                                   & 5.485539e-04                                   &   65.283101                                    &  0.000000e+00                                 \\\\\n",
       "\t fixed                                            & NA                                               & author\\_citation\\_log                          & -0.043348349                                     & 1.807966e-03                                     &  -23.976302                                      & 4.914440e-127                                   \\\\\n",
       "\t fixed                                          & NA                                             & Social\\_Sciences                              &  0.946200453                                   & 1.708246e-02                                   &   55.390186                                    &  0.000000e+00                                 \\\\\n",
       "\t fixed                                          & NA                                             & Materials\\_Science                            & -0.157759204                                   & 2.522909e-02                                   &   -6.253067                                    &  4.024704e-10                                 \\\\\n",
       "\t fixed                                        & NA                                           & Engineering                                  & -0.396188660                                 & 2.254742e-02                                 &  -17.571356                                  &  4.082984e-69                               \\\\\n",
       "\t fixed                                        & NA                                           & Chemistry                                    & -0.342321650                                 & 1.875200e-02                                 &  -18.255203                                  &  1.881088e-74                               \\\\\n",
       "\t fixed                                                  & NA                                                     & Biochemistry\\_\\_Genetics\\_and\\_Molecular\\_Biology & -0.147169398                                           & 1.120917e-02                                           &  -13.129380                                            &  2.234796e-39                                         \\\\\n",
       "\t fixed                                        & NA                                           & Medicine                                     & -0.303097511                                 & 9.105002e-03                                 &  -33.289119                                  & 5.548496e-243                               \\\\\n",
       "\t fixed                                        & NA                                           & Nursing                                      &  0.203842084                                 & 2.730622e-02                                 &    7.465041                                  &  8.327361e-14                               \\\\\n",
       "\t fixed                                              & NA                                                 & Agricultural\\_and\\_Biological\\_Sciences         &  0.442842940                                       & 1.347985e-02                                       &   32.852215                                        & 1.059008e-236                                     \\\\\n",
       "\t fixed                                                & NA                                                   & Pharmacology\\_\\_Toxicology\\_and\\_Pharmaceutics   & -0.510647304                                         & 2.555668e-02                                         &  -19.980972                                          &  8.063931e-89                                       \\\\\n",
       "\t fixed                                        & NA                                           & Neuroscience                                 &  0.039766725                                 & 1.866574e-02                                 &    2.130466                                  &  3.313312e-02                               \\\\\n",
       "\t fixed                                                & NA                                                   & Business\\_\\_Management\\_and\\_Accounting          & -0.247314807                                         & 3.215885e-02                                         &   -7.690412                                          &  1.466617e-14                                       \\\\\n",
       "\t fixed                                                & NA                                                   & Economics\\_\\_Econometrics\\_and\\_Finance          & -0.421689309                                         & 3.458131e-02                                         &  -12.194140                                          &  3.340103e-34                                       \\\\\n",
       "\t fixed                                          & NA                                             & Chemical\\_Engineering                         &  0.184027123                                   & 2.860171e-02                                   &    6.434130                                    &  1.241826e-10                                 \\\\\n",
       "\t fixed                                            & NA                                               & Physics\\_and\\_Astronomy                        & -0.735516093                                     & 2.272878e-02                                     &  -32.360566                                      & 9.852817e-230                                   \\\\\n",
       "\t fixed                                          & NA                                             & Computer\\_Science                             &  0.062847388                                   & 2.576120e-02                                   &    2.439614                                    &  1.470297e-02                                 \\\\\n",
       "\t fixed                                          & NA                                             & Decision\\_Sciences                            & -0.569166151                                   & 5.380318e-02                                   &  -10.578672                                    &  3.742255e-26                                 \\\\\n",
       "\t fixed                                          & NA                                             & Health\\_Professions                           &  0.912808072                                   & 3.085491e-02                                   &   29.583882                                    & 2.408832e-192                                 \\\\\n",
       "\t fixed                                        & NA                                           & Psychology                                   & -0.624414653                                 & 2.515641e-02                                 &  -24.821299                                  & 5.280490e-136                               \\\\\n",
       "\t fixed                                            & NA                                               & Immunology\\_and\\_Microbiology                  & -0.092130670                                     & 2.099913e-02                                     &   -4.387356                                      &  1.147370e-05                                   \\\\\n",
       "\t fixed                                        & NA                                           & Dentistry                                    & -1.126786129                                 & 9.284969e-02                                 &  -12.135594                                  &  6.841191e-34                               \\\\\n",
       "\t fixed                                              & NA                                                 & Earth\\_and\\_Planetary\\_Sciences                 & -0.075885123                                       & 2.144108e-02                                       &   -3.539240                                        &  4.012815e-04                                     \\\\\n",
       "\t fixed                                          & NA                                             & Environmental\\_Science                        &  0.154744795                                   & 1.619048e-02                                   &    9.557766                                    &  1.203254e-21                                 \\\\\n",
       "\t fixed                                        & NA                                           & Mathematics                                  & -0.379505561                                 & 3.373048e-02                                 &  -11.251117                                  &  2.286777e-29                               \\\\\n",
       "\t fixed                                            & NA                                               & Arts\\_and\\_Humanities                          & -0.219287004                                     & 4.183805e-02                                     &   -5.241330                                      &  1.594236e-07                                   \\\\\n",
       "\t fixed                                        & NA                                           & Energy                                       & -0.362853938                                 & 4.029147e-02                                 &   -9.005727                                  &  2.142415e-19                               \\\\\n",
       "\t fixed                                        & NA                                           & Veterinary                                   & -0.863385676                                 & 5.550407e-02                                 &  -15.555357                                  &  1.463359e-54                               \\\\\n",
       "\t fixed                                        & NA                                           & General                                      &  0.348415853                                 & 3.032173e-02                                 &   11.490631                                  &  1.470341e-30                               \\\\\n",
       "\t fixed                                              & NA                                                 & genderFemale:author\\_pub\\_count\\_cate           &  0.023687998                                       & 8.595070e-03                                       &    2.755998                                        &  5.851333e-03                                     \\\\\n",
       "\t fixed                                                                & NA                                                                   & genderFemale:I(author\\_pub\\_count\\_cate\\textasciicircum{}2)      & -0.002898269                                                         & 1.120505e-03                                                         &   -2.586575                                                          &  9.693509e-03                                                       \\\\\n",
       "\t ran\\_pars                                       & doi                                              & sd\\_\\_(Intercept)                              &  1.494158215                                     &           NA                                     &          NA                                      &            NA                                   \\\\\n",
       "\\end{tabular}\n"
      ],
      "text/markdown": [
       "\n",
       "| effect | group | term | estimate | std.error | statistic | p.value |\n",
       "|---|---|---|---|---|---|---|\n",
       "| fixed                                        | NA                                           | (Intercept)                                  | -2.710463306                                 | 1.484662e-02                                 | -182.564335                                  |  0.000000e+00                                |\n",
       "| fixed                                        | NA                                           | genderFemale                                 | -0.306872737                                 | 1.426762e-02                                 |  -21.508331                                  | 1.301021e-102                                |\n",
       "| fixed                                        | NA                                           | author_pub_count_cate                        |  0.328320184                                 | 6.294283e-03                                 |   52.161649                                  |  0.000000e+00                                |\n",
       "| fixed                                        | NA                                           | I(author_pub_count_cate^2)                   | -0.027560125                                 | 6.180569e-04                                 |  -44.591569                                  |  0.000000e+00                                |\n",
       "| fixed                                        | NA                                           | authorship_posfirst_position                 |  0.319629233                                 | 8.773804e-03                                 |   36.429947                                  | 1.429331e-290                                |\n",
       "| fixed                                        | NA                                           | authorship_posmiddle_position                | -0.679499336                                 | 7.625209e-03                                 |  -89.112220                                  |  0.000000e+00                                |\n",
       "| fixed                                        | NA                                           | authorship_possolo_author                    |  0.752411367                                 | 1.972608e-02                                 |   38.142973                                  |  0.000000e+00                                |\n",
       "| fixed                                        | NA                                           | affiliation_rank_cate                        | -0.053821502                                 | 1.218853e-03                                 |  -44.157509                                  |  0.000000e+00                                |\n",
       "| fixed                                        | NA                                           | affiliation_cateinternational                |  0.022591957                                 | 7.701257e-03                                 |    2.933542                                  |  3.351188e-03                                |\n",
       "| fixed                                        | NA                                           | num_authors                                  | -0.001672023                                 | 9.619259e-05                                 |  -17.382034                                  |  1.128778e-67                                |\n",
       "| fixed                                        | NA                                           | journal_impact                               |  0.035811297                                 | 5.485539e-04                                 |   65.283101                                  |  0.000000e+00                                |\n",
       "| fixed                                        | NA                                           | author_citation_log                          | -0.043348349                                 | 1.807966e-03                                 |  -23.976302                                  | 4.914440e-127                                |\n",
       "| fixed                                        | NA                                           | Social_Sciences                              |  0.946200453                                 | 1.708246e-02                                 |   55.390186                                  |  0.000000e+00                                |\n",
       "| fixed                                        | NA                                           | Materials_Science                            | -0.157759204                                 | 2.522909e-02                                 |   -6.253067                                  |  4.024704e-10                                |\n",
       "| fixed                                        | NA                                           | Engineering                                  | -0.396188660                                 | 2.254742e-02                                 |  -17.571356                                  |  4.082984e-69                                |\n",
       "| fixed                                        | NA                                           | Chemistry                                    | -0.342321650                                 | 1.875200e-02                                 |  -18.255203                                  |  1.881088e-74                                |\n",
       "| fixed                                        | NA                                           | Biochemistry__Genetics_and_Molecular_Biology | -0.147169398                                 | 1.120917e-02                                 |  -13.129380                                  |  2.234796e-39                                |\n",
       "| fixed                                        | NA                                           | Medicine                                     | -0.303097511                                 | 9.105002e-03                                 |  -33.289119                                  | 5.548496e-243                                |\n",
       "| fixed                                        | NA                                           | Nursing                                      |  0.203842084                                 | 2.730622e-02                                 |    7.465041                                  |  8.327361e-14                                |\n",
       "| fixed                                        | NA                                           | Agricultural_and_Biological_Sciences         |  0.442842940                                 | 1.347985e-02                                 |   32.852215                                  | 1.059008e-236                                |\n",
       "| fixed                                        | NA                                           | Pharmacology__Toxicology_and_Pharmaceutics   | -0.510647304                                 | 2.555668e-02                                 |  -19.980972                                  |  8.063931e-89                                |\n",
       "| fixed                                        | NA                                           | Neuroscience                                 |  0.039766725                                 | 1.866574e-02                                 |    2.130466                                  |  3.313312e-02                                |\n",
       "| fixed                                        | NA                                           | Business__Management_and_Accounting          | -0.247314807                                 | 3.215885e-02                                 |   -7.690412                                  |  1.466617e-14                                |\n",
       "| fixed                                        | NA                                           | Economics__Econometrics_and_Finance          | -0.421689309                                 | 3.458131e-02                                 |  -12.194140                                  |  3.340103e-34                                |\n",
       "| fixed                                        | NA                                           | Chemical_Engineering                         |  0.184027123                                 | 2.860171e-02                                 |    6.434130                                  |  1.241826e-10                                |\n",
       "| fixed                                        | NA                                           | Physics_and_Astronomy                        | -0.735516093                                 | 2.272878e-02                                 |  -32.360566                                  | 9.852817e-230                                |\n",
       "| fixed                                        | NA                                           | Computer_Science                             |  0.062847388                                 | 2.576120e-02                                 |    2.439614                                  |  1.470297e-02                                |\n",
       "| fixed                                        | NA                                           | Decision_Sciences                            | -0.569166151                                 | 5.380318e-02                                 |  -10.578672                                  |  3.742255e-26                                |\n",
       "| fixed                                        | NA                                           | Health_Professions                           |  0.912808072                                 | 3.085491e-02                                 |   29.583882                                  | 2.408832e-192                                |\n",
       "| fixed                                        | NA                                           | Psychology                                   | -0.624414653                                 | 2.515641e-02                                 |  -24.821299                                  | 5.280490e-136                                |\n",
       "| fixed                                        | NA                                           | Immunology_and_Microbiology                  | -0.092130670                                 | 2.099913e-02                                 |   -4.387356                                  |  1.147370e-05                                |\n",
       "| fixed                                        | NA                                           | Dentistry                                    | -1.126786129                                 | 9.284969e-02                                 |  -12.135594                                  |  6.841191e-34                                |\n",
       "| fixed                                        | NA                                           | Earth_and_Planetary_Sciences                 | -0.075885123                                 | 2.144108e-02                                 |   -3.539240                                  |  4.012815e-04                                |\n",
       "| fixed                                        | NA                                           | Environmental_Science                        |  0.154744795                                 | 1.619048e-02                                 |    9.557766                                  |  1.203254e-21                                |\n",
       "| fixed                                        | NA                                           | Mathematics                                  | -0.379505561                                 | 3.373048e-02                                 |  -11.251117                                  |  2.286777e-29                                |\n",
       "| fixed                                        | NA                                           | Arts_and_Humanities                          | -0.219287004                                 | 4.183805e-02                                 |   -5.241330                                  |  1.594236e-07                                |\n",
       "| fixed                                        | NA                                           | Energy                                       | -0.362853938                                 | 4.029147e-02                                 |   -9.005727                                  |  2.142415e-19                                |\n",
       "| fixed                                        | NA                                           | Veterinary                                   | -0.863385676                                 | 5.550407e-02                                 |  -15.555357                                  |  1.463359e-54                                |\n",
       "| fixed                                        | NA                                           | General                                      |  0.348415853                                 | 3.032173e-02                                 |   11.490631                                  |  1.470341e-30                                |\n",
       "| fixed                                        | NA                                           | genderFemale:author_pub_count_cate           |  0.023687998                                 | 8.595070e-03                                 |    2.755998                                  |  5.851333e-03                                |\n",
       "| fixed                                        | NA                                           | genderFemale:I(author_pub_count_cate^2)      | -0.002898269                                 | 1.120505e-03                                 |   -2.586575                                  |  9.693509e-03                                |\n",
       "| ran_pars                                     | doi                                          | sd__(Intercept)                              |  1.494158215                                 |           NA                                 |          NA                                  |            NA                                |\n",
       "\n"
      ],
      "text/plain": [
       "   effect   group term                                         estimate    \n",
       "1  fixed    NA    (Intercept)                                  -2.710463306\n",
       "2  fixed    NA    genderFemale                                 -0.306872737\n",
       "3  fixed    NA    author_pub_count_cate                         0.328320184\n",
       "4  fixed    NA    I(author_pub_count_cate^2)                   -0.027560125\n",
       "5  fixed    NA    authorship_posfirst_position                  0.319629233\n",
       "6  fixed    NA    authorship_posmiddle_position                -0.679499336\n",
       "7  fixed    NA    authorship_possolo_author                     0.752411367\n",
       "8  fixed    NA    affiliation_rank_cate                        -0.053821502\n",
       "9  fixed    NA    affiliation_cateinternational                 0.022591957\n",
       "10 fixed    NA    num_authors                                  -0.001672023\n",
       "11 fixed    NA    journal_impact                                0.035811297\n",
       "12 fixed    NA    author_citation_log                          -0.043348349\n",
       "13 fixed    NA    Social_Sciences                               0.946200453\n",
       "14 fixed    NA    Materials_Science                            -0.157759204\n",
       "15 fixed    NA    Engineering                                  -0.396188660\n",
       "16 fixed    NA    Chemistry                                    -0.342321650\n",
       "17 fixed    NA    Biochemistry__Genetics_and_Molecular_Biology -0.147169398\n",
       "18 fixed    NA    Medicine                                     -0.303097511\n",
       "19 fixed    NA    Nursing                                       0.203842084\n",
       "20 fixed    NA    Agricultural_and_Biological_Sciences          0.442842940\n",
       "21 fixed    NA    Pharmacology__Toxicology_and_Pharmaceutics   -0.510647304\n",
       "22 fixed    NA    Neuroscience                                  0.039766725\n",
       "23 fixed    NA    Business__Management_and_Accounting          -0.247314807\n",
       "24 fixed    NA    Economics__Econometrics_and_Finance          -0.421689309\n",
       "25 fixed    NA    Chemical_Engineering                          0.184027123\n",
       "26 fixed    NA    Physics_and_Astronomy                        -0.735516093\n",
       "27 fixed    NA    Computer_Science                              0.062847388\n",
       "28 fixed    NA    Decision_Sciences                            -0.569166151\n",
       "29 fixed    NA    Health_Professions                            0.912808072\n",
       "30 fixed    NA    Psychology                                   -0.624414653\n",
       "31 fixed    NA    Immunology_and_Microbiology                  -0.092130670\n",
       "32 fixed    NA    Dentistry                                    -1.126786129\n",
       "33 fixed    NA    Earth_and_Planetary_Sciences                 -0.075885123\n",
       "34 fixed    NA    Environmental_Science                         0.154744795\n",
       "35 fixed    NA    Mathematics                                  -0.379505561\n",
       "36 fixed    NA    Arts_and_Humanities                          -0.219287004\n",
       "37 fixed    NA    Energy                                       -0.362853938\n",
       "38 fixed    NA    Veterinary                                   -0.863385676\n",
       "39 fixed    NA    General                                       0.348415853\n",
       "40 fixed    NA    genderFemale:author_pub_count_cate            0.023687998\n",
       "41 fixed    NA    genderFemale:I(author_pub_count_cate^2)      -0.002898269\n",
       "42 ran_pars doi   sd__(Intercept)                               1.494158215\n",
       "   std.error    statistic   p.value      \n",
       "1  1.484662e-02 -182.564335  0.000000e+00\n",
       "2  1.426762e-02  -21.508331 1.301021e-102\n",
       "3  6.294283e-03   52.161649  0.000000e+00\n",
       "4  6.180569e-04  -44.591569  0.000000e+00\n",
       "5  8.773804e-03   36.429947 1.429331e-290\n",
       "6  7.625209e-03  -89.112220  0.000000e+00\n",
       "7  1.972608e-02   38.142973  0.000000e+00\n",
       "8  1.218853e-03  -44.157509  0.000000e+00\n",
       "9  7.701257e-03    2.933542  3.351188e-03\n",
       "10 9.619259e-05  -17.382034  1.128778e-67\n",
       "11 5.485539e-04   65.283101  0.000000e+00\n",
       "12 1.807966e-03  -23.976302 4.914440e-127\n",
       "13 1.708246e-02   55.390186  0.000000e+00\n",
       "14 2.522909e-02   -6.253067  4.024704e-10\n",
       "15 2.254742e-02  -17.571356  4.082984e-69\n",
       "16 1.875200e-02  -18.255203  1.881088e-74\n",
       "17 1.120917e-02  -13.129380  2.234796e-39\n",
       "18 9.105002e-03  -33.289119 5.548496e-243\n",
       "19 2.730622e-02    7.465041  8.327361e-14\n",
       "20 1.347985e-02   32.852215 1.059008e-236\n",
       "21 2.555668e-02  -19.980972  8.063931e-89\n",
       "22 1.866574e-02    2.130466  3.313312e-02\n",
       "23 3.215885e-02   -7.690412  1.466617e-14\n",
       "24 3.458131e-02  -12.194140  3.340103e-34\n",
       "25 2.860171e-02    6.434130  1.241826e-10\n",
       "26 2.272878e-02  -32.360566 9.852817e-230\n",
       "27 2.576120e-02    2.439614  1.470297e-02\n",
       "28 5.380318e-02  -10.578672  3.742255e-26\n",
       "29 3.085491e-02   29.583882 2.408832e-192\n",
       "30 2.515641e-02  -24.821299 5.280490e-136\n",
       "31 2.099913e-02   -4.387356  1.147370e-05\n",
       "32 9.284969e-02  -12.135594  6.841191e-34\n",
       "33 2.144108e-02   -3.539240  4.012815e-04\n",
       "34 1.619048e-02    9.557766  1.203254e-21\n",
       "35 3.373048e-02  -11.251117  2.286777e-29\n",
       "36 4.183805e-02   -5.241330  1.594236e-07\n",
       "37 4.029147e-02   -9.005727  2.142415e-19\n",
       "38 5.550407e-02  -15.555357  1.463359e-54\n",
       "39 3.032173e-02   11.490631  1.470341e-30\n",
       "40 8.595070e-03    2.755998  5.851333e-03\n",
       "41 1.120505e-03   -2.586575  9.693509e-03\n",
       "42           NA          NA            NA"
      ]
     },
     "metadata": {},
     "output_type": "display_data"
    }
   ],
   "source": [
    "tidy(m_x_pub)"
   ]
  },
  {
   "cell_type": "code",
   "execution_count": 66,
   "id": "c86e3c39",
   "metadata": {
    "scrolled": true
   },
   "outputs": [
    {
     "name": "stderr",
     "output_type": "stream",
     "text": [
      "Model contains polynomial or cubic / quadratic terms. Consider using `terms=\"author_pub_count_cate [all]\"` to get smooth plots. See also package-vignette 'Marginal Effects at Specific Values'.\n"
     ]
    }
   ],
   "source": [
    "MEs = ggemmeans(m_x_pub, terms=c('author_pub_count_cate', 'gender'), typical='median')"
   ]
  },
  {
   "cell_type": "code",
   "execution_count": 67,
   "id": "2f17ff3a",
   "metadata": {
    "scrolled": true
   },
   "outputs": [
    {
     "data": {
      "text/html": [
       "<table>\n",
       "<thead><tr><th scope=col>x</th><th scope=col>predicted</th><th scope=col>std.error</th><th scope=col>conf.low</th><th scope=col>conf.high</th><th scope=col>group</th></tr></thead>\n",
       "<tbody>\n",
       "\t<tr><td>0          </td><td>0.04601856 </td><td>0.018173960</td><td>0.04447985 </td><td>0.04760786 </td><td>Male       </td></tr>\n",
       "\t<tr><td>0          </td><td>0.03427470 </td><td>0.019042079</td><td>0.03306059 </td><td>0.03553175 </td><td>Female     </td></tr>\n",
       "\t<tr><td>1          </td><td>0.06117794 </td><td>0.013968753</td><td>0.05962423 </td><td>0.06276944 </td><td>Male       </td></tr>\n",
       "\t<tr><td>1          </td><td>0.04666721 </td><td>0.014394975</td><td>0.04542794 </td><td>0.04793859 </td><td>Female     </td></tr>\n",
       "\t<tr><td>2          </td><td>0.07690229 </td><td>0.011142746</td><td>0.07536620 </td><td>0.07846703 </td><td>Male       </td></tr>\n",
       "\t<tr><td>2          </td><td>0.05973244 </td><td>0.011885767</td><td>0.05843739 </td><td>0.06105432 </td><td>Female     </td></tr>\n",
       "\t<tr><td>3          </td><td>0.09156453 </td><td>0.009553775</td><td>0.09001884 </td><td>0.09313405 </td><td>Male       </td></tr>\n",
       "\t<tr><td>3          </td><td>0.07198614 </td><td>0.010807133</td><td>0.07058389 </td><td>0.07341405 </td><td>Female     </td></tr>\n",
       "\t<tr><td>4          </td><td>0.10346717 </td><td>0.008917008</td><td>0.10185717 </td><td>0.10509964 </td><td>Male       </td></tr>\n",
       "\t<tr><td>4          </td><td>0.08182737 </td><td>0.010376747</td><td>0.08031228 </td><td>0.08336846 </td><td>Female     </td></tr>\n",
       "\t<tr><td>5          </td><td>0.11115458 </td><td>0.009004964</td><td>0.10942276 </td><td>0.11291033 </td><td>Male       </td></tr>\n",
       "\t<tr><td>5          </td><td>0.08787265 </td><td>0.010472926</td><td>0.08624128 </td><td>0.08953185 </td><td>Female     </td></tr>\n",
       "\t<tr><td>6          </td><td>0.11366467 </td><td>0.009868376</td><td>0.11173061 </td><td>0.11562786 </td><td>Male       </td></tr>\n",
       "\t<tr><td>6          </td><td>0.08924202 </td><td>0.011850788</td><td>0.08737210 </td><td>0.09114797 </td><td>Female     </td></tr>\n",
       "\t<tr><td>7          </td><td>0.11068097 </td><td>0.011787643</td><td>0.10842726 </td><td>0.11297558 </td><td>Male       </td></tr>\n",
       "\t<tr><td>7          </td><td>0.08573368 </td><td>0.015474297</td><td>0.08338606 </td><td>0.08814104 </td><td>Female     </td></tr>\n",
       "\t<tr><td>8          </td><td>0.10257955 </td><td>0.015016570</td><td>0.09990165 </td><td>0.10532083 </td><td>Male       </td></tr>\n",
       "\t<tr><td>8          </td><td>0.07786293 </td><td>0.021635365</td><td>0.07487226 </td><td>0.08096261 </td><td>Female     </td></tr>\n",
       "</tbody>\n",
       "</table>\n"
      ],
      "text/latex": [
       "\\begin{tabular}{r|llllll}\n",
       " x & predicted & std.error & conf.low & conf.high & group\\\\\n",
       "\\hline\n",
       "\t 0           & 0.04601856  & 0.018173960 & 0.04447985  & 0.04760786  & Male       \\\\\n",
       "\t 0           & 0.03427470  & 0.019042079 & 0.03306059  & 0.03553175  & Female     \\\\\n",
       "\t 1           & 0.06117794  & 0.013968753 & 0.05962423  & 0.06276944  & Male       \\\\\n",
       "\t 1           & 0.04666721  & 0.014394975 & 0.04542794  & 0.04793859  & Female     \\\\\n",
       "\t 2           & 0.07690229  & 0.011142746 & 0.07536620  & 0.07846703  & Male       \\\\\n",
       "\t 2           & 0.05973244  & 0.011885767 & 0.05843739  & 0.06105432  & Female     \\\\\n",
       "\t 3           & 0.09156453  & 0.009553775 & 0.09001884  & 0.09313405  & Male       \\\\\n",
       "\t 3           & 0.07198614  & 0.010807133 & 0.07058389  & 0.07341405  & Female     \\\\\n",
       "\t 4           & 0.10346717  & 0.008917008 & 0.10185717  & 0.10509964  & Male       \\\\\n",
       "\t 4           & 0.08182737  & 0.010376747 & 0.08031228  & 0.08336846  & Female     \\\\\n",
       "\t 5           & 0.11115458  & 0.009004964 & 0.10942276  & 0.11291033  & Male       \\\\\n",
       "\t 5           & 0.08787265  & 0.010472926 & 0.08624128  & 0.08953185  & Female     \\\\\n",
       "\t 6           & 0.11366467  & 0.009868376 & 0.11173061  & 0.11562786  & Male       \\\\\n",
       "\t 6           & 0.08924202  & 0.011850788 & 0.08737210  & 0.09114797  & Female     \\\\\n",
       "\t 7           & 0.11068097  & 0.011787643 & 0.10842726  & 0.11297558  & Male       \\\\\n",
       "\t 7           & 0.08573368  & 0.015474297 & 0.08338606  & 0.08814104  & Female     \\\\\n",
       "\t 8           & 0.10257955  & 0.015016570 & 0.09990165  & 0.10532083  & Male       \\\\\n",
       "\t 8           & 0.07786293  & 0.021635365 & 0.07487226  & 0.08096261  & Female     \\\\\n",
       "\\end{tabular}\n"
      ],
      "text/markdown": [
       "\n",
       "| x | predicted | std.error | conf.low | conf.high | group |\n",
       "|---|---|---|---|---|---|\n",
       "| 0           | 0.04601856  | 0.018173960 | 0.04447985  | 0.04760786  | Male        |\n",
       "| 0           | 0.03427470  | 0.019042079 | 0.03306059  | 0.03553175  | Female      |\n",
       "| 1           | 0.06117794  | 0.013968753 | 0.05962423  | 0.06276944  | Male        |\n",
       "| 1           | 0.04666721  | 0.014394975 | 0.04542794  | 0.04793859  | Female      |\n",
       "| 2           | 0.07690229  | 0.011142746 | 0.07536620  | 0.07846703  | Male        |\n",
       "| 2           | 0.05973244  | 0.011885767 | 0.05843739  | 0.06105432  | Female      |\n",
       "| 3           | 0.09156453  | 0.009553775 | 0.09001884  | 0.09313405  | Male        |\n",
       "| 3           | 0.07198614  | 0.010807133 | 0.07058389  | 0.07341405  | Female      |\n",
       "| 4           | 0.10346717  | 0.008917008 | 0.10185717  | 0.10509964  | Male        |\n",
       "| 4           | 0.08182737  | 0.010376747 | 0.08031228  | 0.08336846  | Female      |\n",
       "| 5           | 0.11115458  | 0.009004964 | 0.10942276  | 0.11291033  | Male        |\n",
       "| 5           | 0.08787265  | 0.010472926 | 0.08624128  | 0.08953185  | Female      |\n",
       "| 6           | 0.11366467  | 0.009868376 | 0.11173061  | 0.11562786  | Male        |\n",
       "| 6           | 0.08924202  | 0.011850788 | 0.08737210  | 0.09114797  | Female      |\n",
       "| 7           | 0.11068097  | 0.011787643 | 0.10842726  | 0.11297558  | Male        |\n",
       "| 7           | 0.08573368  | 0.015474297 | 0.08338606  | 0.08814104  | Female      |\n",
       "| 8           | 0.10257955  | 0.015016570 | 0.09990165  | 0.10532083  | Male        |\n",
       "| 8           | 0.07786293  | 0.021635365 | 0.07487226  | 0.08096261  | Female      |\n",
       "\n"
      ],
      "text/plain": [
       "   x predicted  std.error   conf.low   conf.high  group \n",
       "1  0 0.04601856 0.018173960 0.04447985 0.04760786 Male  \n",
       "2  0 0.03427470 0.019042079 0.03306059 0.03553175 Female\n",
       "3  1 0.06117794 0.013968753 0.05962423 0.06276944 Male  \n",
       "4  1 0.04666721 0.014394975 0.04542794 0.04793859 Female\n",
       "5  2 0.07690229 0.011142746 0.07536620 0.07846703 Male  \n",
       "6  2 0.05973244 0.011885767 0.05843739 0.06105432 Female\n",
       "7  3 0.09156453 0.009553775 0.09001884 0.09313405 Male  \n",
       "8  3 0.07198614 0.010807133 0.07058389 0.07341405 Female\n",
       "9  4 0.10346717 0.008917008 0.10185717 0.10509964 Male  \n",
       "10 4 0.08182737 0.010376747 0.08031228 0.08336846 Female\n",
       "11 5 0.11115458 0.009004964 0.10942276 0.11291033 Male  \n",
       "12 5 0.08787265 0.010472926 0.08624128 0.08953185 Female\n",
       "13 6 0.11366467 0.009868376 0.11173061 0.11562786 Male  \n",
       "14 6 0.08924202 0.011850788 0.08737210 0.09114797 Female\n",
       "15 7 0.11068097 0.011787643 0.10842726 0.11297558 Male  \n",
       "16 7 0.08573368 0.015474297 0.08338606 0.08814104 Female\n",
       "17 8 0.10257955 0.015016570 0.09990165 0.10532083 Male  \n",
       "18 8 0.07786293 0.021635365 0.07487226 0.08096261 Female"
      ]
     },
     "metadata": {},
     "output_type": "display_data"
    }
   ],
   "source": [
    "MEs"
   ]
  },
  {
   "cell_type": "code",
   "execution_count": 68,
   "id": "2b6ba571",
   "metadata": {},
   "outputs": [],
   "source": [
    "write.csv(MEs, paste(data_root, \"gender_pub.csv\", sep = ''), row.names=FALSE)"
   ]
  },
  {
   "cell_type": "markdown",
   "id": "8689ce3b",
   "metadata": {},
   "source": [
    "### Disciplines"
   ]
  },
  {
   "cell_type": "code",
   "execution_count": 69,
   "id": "2f520338",
   "metadata": {},
   "outputs": [
    {
     "data": {
      "text/html": [
       "36552"
      ],
      "text/latex": [
       "36552"
      ],
      "text/markdown": [
       "36552"
      ],
      "text/plain": [
       "[1] 36552"
      ]
     },
     "metadata": {},
     "output_type": "display_data"
    }
   ],
   "source": [
    "nrow(mydata[mydata$General == 1, ])"
   ]
  },
  {
   "cell_type": "markdown",
   "id": "584374fe",
   "metadata": {},
   "source": [
    "Life Sciences"
   ]
  },
  {
   "cell_type": "code",
   "execution_count": 70,
   "id": "1b78f905",
   "metadata": {},
   "outputs": [
    {
     "name": "stderr",
     "output_type": "stream",
     "text": [
      "fixed-effect model matrix is rank deficient so dropping 1 column / coefficient\n"
     ]
    }
   ],
   "source": [
    "base_str <- \"self_promotion ~ 1 + gender + authorship_pos + author_pub_count_cate + I(author_pub_count_cate^2) + \\\n",
    "            affiliation_rank_cate + affiliation_cate + num_authors + journal_impact + author_citation_log\"\n",
    "equation <- as.formula(paste(base_str, \" + (1|doi)\", keywords, sep = \" \"))\n",
    "m_life <- glmer(formula = equation, data = mydata[mydata$Life_Sciences == 1, ], \n",
    "                     family = \"binomial\", control = glmerControl(optimizer = \"nloptwrap\"), nAGQ = 0)\n"
   ]
  },
  {
   "cell_type": "code",
   "execution_count": 71,
   "id": "7bdfb8e6",
   "metadata": {
    "scrolled": true
   },
   "outputs": [
    {
     "data": {
      "text/html": [
       "<table>\n",
       "<thead><tr><th scope=col>effect</th><th scope=col>group</th><th scope=col>term</th><th scope=col>estimate</th><th scope=col>std.error</th><th scope=col>statistic</th><th scope=col>p.value</th></tr></thead>\n",
       "<tbody>\n",
       "\t<tr><td>fixed                                       </td><td>NA                                          </td><td>(Intercept)                                 </td><td>-2.965929154                                </td><td>0.0319628371                                </td><td>-92.79305042                                </td><td> 0.000000e+00                               </td></tr>\n",
       "\t<tr><td>fixed                                       </td><td>NA                                          </td><td>genderFemale                                </td><td>-0.362607128                                </td><td>0.0119986063                                </td><td>-30.22077053                                </td><td>1.263796e-200                               </td></tr>\n",
       "\t<tr><td>fixed                                       </td><td>NA                                          </td><td>authorship_posfirst_position                </td><td> 0.262813545                                </td><td>0.0167902539                                </td><td> 15.65274388                                </td><td> 3.181989e-55                               </td></tr>\n",
       "\t<tr><td>fixed                                       </td><td>NA                                          </td><td>authorship_posmiddle_position               </td><td>-0.762056902                                </td><td>0.0142562482                                </td><td>-53.45423937                                </td><td> 0.000000e+00                               </td></tr>\n",
       "\t<tr><td>fixed                                       </td><td>NA                                          </td><td>authorship_possolo_author                   </td><td> 0.552607476                                </td><td>0.0506939001                                </td><td> 10.90086725                                </td><td> 1.141639e-27                               </td></tr>\n",
       "\t<tr><td>fixed                                       </td><td>NA                                          </td><td>author_pub_count_cate                       </td><td> 0.304634925                                </td><td>0.0106852680                                </td><td> 28.50980661                                </td><td>8.854530e-179                               </td></tr>\n",
       "\t<tr><td>fixed                                       </td><td>NA                                          </td><td>I(author_pub_count_cate^2)                  </td><td>-0.030721006                                </td><td>0.0009843564                                </td><td>-31.20923209                                </td><td>7.985255e-214                               </td></tr>\n",
       "\t<tr><td>fixed                                       </td><td>NA                                          </td><td>affiliation_rank_cate                       </td><td>-0.077371888                                </td><td>0.0023134525                                </td><td>-33.44433829                                </td><td>3.110863e-245                               </td></tr>\n",
       "\t<tr><td>fixed                                       </td><td>NA                                          </td><td>affiliation_cateinternational               </td><td> 0.056780396                                </td><td>0.0143836621                                </td><td>  3.94756183                                </td><td> 7.895113e-05                               </td></tr>\n",
       "\t<tr><td>fixed                                       </td><td>NA                                          </td><td>num_authors                                 </td><td>-0.002853619                                </td><td>0.0005443413                                </td><td> -5.24233464                                </td><td> 1.585575e-07                               </td></tr>\n",
       "\t<tr><td>fixed                                       </td><td>NA                                          </td><td>journal_impact                              </td><td> 0.048926832                                </td><td>0.0012429525                                </td><td> 39.36339779                                </td><td> 0.000000e+00                               </td></tr>\n",
       "\t<tr><td>fixed                                       </td><td>NA                                          </td><td>author_citation_log                         </td><td>-0.022025291                                </td><td>0.0033886358                                </td><td> -6.49975177                                </td><td> 8.045265e-11                               </td></tr>\n",
       "\t<tr><td>fixed                                       </td><td>NA                                          </td><td>Social_Sciences                             </td><td> 0.402014828                                </td><td>0.0806047452                                </td><td>  4.98748339                                </td><td> 6.117088e-07                               </td></tr>\n",
       "\t<tr><td>fixed                                       </td><td>NA                                          </td><td>Materials_Science                           </td><td>-0.002514495                                </td><td>0.0799517662                                </td><td> -0.03145015                                </td><td> 9.749105e-01                               </td></tr>\n",
       "\t<tr><td>fixed                                       </td><td>NA                                          </td><td>Engineering                                 </td><td>-0.061438281                                </td><td>0.0584653856                                </td><td> -1.05084881                                </td><td> 2.933280e-01                               </td></tr>\n",
       "\t<tr><td>fixed                                       </td><td>NA                                          </td><td>Chemistry                                   </td><td>-0.317695880                                </td><td>0.0372200268                                </td><td> -8.53561664                                </td><td> 1.394099e-17                               </td></tr>\n",
       "\t<tr><td>fixed                                       </td><td>NA                                          </td><td>Biochemistry__Genetics_and_Molecular_Biology</td><td> 0.035040425                                </td><td>0.0183384165                                </td><td>  1.91076611                                </td><td> 5.603464e-02                               </td></tr>\n",
       "\t<tr><td>fixed                                       </td><td>NA                                          </td><td>Medicine                                    </td><td>-0.387789832                                </td><td>0.0170945665                                </td><td>-22.68497614                                </td><td>6.304107e-114                               </td></tr>\n",
       "\t<tr><td>fixed                                       </td><td>NA                                          </td><td>Nursing                                     </td><td> 0.193549070                                </td><td>0.0775376995                                </td><td>  2.49619309                                </td><td> 1.255342e-02                               </td></tr>\n",
       "\t<tr><td>fixed                                       </td><td>NA                                          </td><td>Agricultural_and_Biological_Sciences        </td><td> 0.724638644                                </td><td>0.0195482918                                </td><td> 37.06915423                                </td><td>8.826092e-301                               </td></tr>\n",
       "\t<tr><td>fixed                                       </td><td>NA                                          </td><td>Pharmacology__Toxicology_and_Pharmaceutics  </td><td>-0.213459214                                </td><td>0.0291912792                                </td><td> -7.31243097                                </td><td> 2.623521e-13                               </td></tr>\n",
       "\t<tr><td>fixed                                       </td><td>NA                                          </td><td>Neuroscience                                </td><td> 0.287765068                                </td><td>0.0242692979                                </td><td> 11.85716492                                </td><td> 1.975514e-32                               </td></tr>\n",
       "\t<tr><td>fixed                                       </td><td>NA                                          </td><td>Business__Management_and_Accounting         </td><td>-0.237532075                                </td><td>0.2495466806                                </td><td> -0.95185427                                </td><td> 3.411709e-01                               </td></tr>\n",
       "\t<tr><td>fixed                                       </td><td>NA                                          </td><td>Economics__Econometrics_and_Finance         </td><td> 0.241433569                                </td><td>0.1307662539                                </td><td>  1.84629873                                </td><td> 6.484884e-02                               </td></tr>\n",
       "\t<tr><td>fixed                                       </td><td>NA                                          </td><td>Chemical_Engineering                        </td><td> 0.391829180                                </td><td>0.0484219392                                </td><td>  8.09197620                                </td><td> 5.870438e-16                               </td></tr>\n",
       "\t<tr><td>fixed                                       </td><td>NA                                          </td><td>Physics_and_Astronomy                       </td><td>-0.088553339                                </td><td>0.0949040236                                </td><td> -0.93308308                                </td><td> 3.507771e-01                               </td></tr>\n",
       "\t<tr><td>fixed                                       </td><td>NA                                          </td><td>Computer_Science                            </td><td> 0.300072140                                </td><td>0.0658229142                                </td><td>  4.55877932                                </td><td> 5.145180e-06                               </td></tr>\n",
       "\t<tr><td>fixed                                       </td><td>NA                                          </td><td>Decision_Sciences                           </td><td>-0.535474688                                </td><td>0.1470214424                                </td><td> -3.64215369                                </td><td> 2.703666e-04                               </td></tr>\n",
       "\t<tr><td>fixed                                       </td><td>NA                                          </td><td>Health_Professions                          </td><td> 0.414199865                                </td><td>0.1005322232                                </td><td>  4.12007068                                </td><td> 3.787562e-05                               </td></tr>\n",
       "\t<tr><td>fixed                                       </td><td>NA                                          </td><td>Psychology                                  </td><td> 0.166964851                                </td><td>0.0934867616                                </td><td>  1.78597320                                </td><td> 7.410360e-02                               </td></tr>\n",
       "\t<tr><td>fixed                                       </td><td>NA                                          </td><td>Immunology_and_Microbiology                 </td><td> 0.077396925                                </td><td>0.0232748884                                </td><td>  3.32534033                                </td><td> 8.831067e-04                               </td></tr>\n",
       "\t<tr><td>fixed                                       </td><td>NA                                          </td><td>Dentistry                                   </td><td>-0.261609219                                </td><td>0.2044284711                                </td><td> -1.27971029                                </td><td> 2.006470e-01                               </td></tr>\n",
       "\t<tr><td>fixed                                       </td><td>NA                                          </td><td>Earth_and_Planetary_Sciences                </td><td>-0.239782195                                </td><td>0.0472217085                                </td><td> -5.07779583                                </td><td> 3.818387e-07                               </td></tr>\n",
       "\t<tr><td>fixed                                       </td><td>NA                                          </td><td>Environmental_Science                       </td><td> 0.216908495                                </td><td>0.0266189232                                </td><td>  8.14865778                                </td><td> 3.679857e-16                               </td></tr>\n",
       "\t<tr><td>fixed                                       </td><td>NA                                          </td><td>Mathematics                                 </td><td> 0.140714332                                </td><td>0.0737793075                                </td><td>  1.90723303                                </td><td> 5.649042e-02                               </td></tr>\n",
       "\t<tr><td>fixed                                       </td><td>NA                                          </td><td>Arts_and_Humanities                         </td><td> 0.104280991                                </td><td>0.1857164779                                </td><td>  0.56150640                                </td><td> 5.744524e-01                               </td></tr>\n",
       "\t<tr><td>fixed                                       </td><td>NA                                          </td><td>Energy                                      </td><td>-0.384279318                                </td><td>0.2257831387                                </td><td> -1.70198412                                </td><td> 8.875834e-02                               </td></tr>\n",
       "\t<tr><td>fixed                                       </td><td>NA                                          </td><td>Veterinary                                  </td><td>-0.439137544                                </td><td>0.0675018439                                </td><td> -6.50556367                                </td><td> 7.740259e-11                               </td></tr>\n",
       "\t<tr><td>ran_pars                                    </td><td>doi                                         </td><td>sd__(Intercept)                             </td><td> 1.481460104                                </td><td>          NA                                </td><td>          NA                                </td><td>           NA                               </td></tr>\n",
       "</tbody>\n",
       "</table>\n"
      ],
      "text/latex": [
       "\\begin{tabular}{r|lllllll}\n",
       " effect & group & term & estimate & std.error & statistic & p.value\\\\\n",
       "\\hline\n",
       "\t fixed                                        & NA                                           & (Intercept)                                  & -2.965929154                                 & 0.0319628371                                 & -92.79305042                                 &  0.000000e+00                               \\\\\n",
       "\t fixed                                        & NA                                           & genderFemale                                 & -0.362607128                                 & 0.0119986063                                 & -30.22077053                                 & 1.263796e-200                               \\\\\n",
       "\t fixed                                            & NA                                               & authorship\\_posfirst\\_position                 &  0.262813545                                     & 0.0167902539                                     &  15.65274388                                     &  3.181989e-55                                   \\\\\n",
       "\t fixed                                            & NA                                               & authorship\\_posmiddle\\_position                & -0.762056902                                     & 0.0142562482                                     & -53.45423937                                     &  0.000000e+00                                   \\\\\n",
       "\t fixed                                            & NA                                               & authorship\\_possolo\\_author                    &  0.552607476                                     & 0.0506939001                                     &  10.90086725                                     &  1.141639e-27                                   \\\\\n",
       "\t fixed                                              & NA                                                 & author\\_pub\\_count\\_cate                        &  0.304634925                                       & 0.0106852680                                       &  28.50980661                                       & 8.854530e-179                                     \\\\\n",
       "\t fixed                                                                & NA                                                                   & I(author\\_pub\\_count\\_cate\\textasciicircum{}2)                   & -0.030721006                                                         & 0.0009843564                                                         & -31.20923209                                                         & 7.985255e-214                                                       \\\\\n",
       "\t fixed                                            & NA                                               & affiliation\\_rank\\_cate                        & -0.077371888                                     & 0.0023134525                                     & -33.44433829                                     & 3.110863e-245                                   \\\\\n",
       "\t fixed                                          & NA                                             & affiliation\\_cateinternational                &  0.056780396                                   & 0.0143836621                                   &   3.94756183                                   &  7.895113e-05                                 \\\\\n",
       "\t fixed                                          & NA                                             & num\\_authors                                  & -0.002853619                                   & 0.0005443413                                   &  -5.24233464                                   &  1.585575e-07                                 \\\\\n",
       "\t fixed                                          & NA                                             & journal\\_impact                               &  0.048926832                                   & 0.0012429525                                   &  39.36339779                                   &  0.000000e+00                                 \\\\\n",
       "\t fixed                                            & NA                                               & author\\_citation\\_log                          & -0.022025291                                     & 0.0033886358                                     &  -6.49975177                                     &  8.045265e-11                                   \\\\\n",
       "\t fixed                                          & NA                                             & Social\\_Sciences                              &  0.402014828                                   & 0.0806047452                                   &   4.98748339                                   &  6.117088e-07                                 \\\\\n",
       "\t fixed                                          & NA                                             & Materials\\_Science                            & -0.002514495                                   & 0.0799517662                                   &  -0.03145015                                   &  9.749105e-01                                 \\\\\n",
       "\t fixed                                        & NA                                           & Engineering                                  & -0.061438281                                 & 0.0584653856                                 &  -1.05084881                                 &  2.933280e-01                               \\\\\n",
       "\t fixed                                        & NA                                           & Chemistry                                    & -0.317695880                                 & 0.0372200268                                 &  -8.53561664                                 &  1.394099e-17                               \\\\\n",
       "\t fixed                                                  & NA                                                     & Biochemistry\\_\\_Genetics\\_and\\_Molecular\\_Biology &  0.035040425                                           & 0.0183384165                                           &   1.91076611                                           &  5.603464e-02                                         \\\\\n",
       "\t fixed                                        & NA                                           & Medicine                                     & -0.387789832                                 & 0.0170945665                                 & -22.68497614                                 & 6.304107e-114                               \\\\\n",
       "\t fixed                                        & NA                                           & Nursing                                      &  0.193549070                                 & 0.0775376995                                 &   2.49619309                                 &  1.255342e-02                               \\\\\n",
       "\t fixed                                              & NA                                                 & Agricultural\\_and\\_Biological\\_Sciences         &  0.724638644                                       & 0.0195482918                                       &  37.06915423                                       & 8.826092e-301                                     \\\\\n",
       "\t fixed                                                & NA                                                   & Pharmacology\\_\\_Toxicology\\_and\\_Pharmaceutics   & -0.213459214                                         & 0.0291912792                                         &  -7.31243097                                         &  2.623521e-13                                       \\\\\n",
       "\t fixed                                        & NA                                           & Neuroscience                                 &  0.287765068                                 & 0.0242692979                                 &  11.85716492                                 &  1.975514e-32                               \\\\\n",
       "\t fixed                                                & NA                                                   & Business\\_\\_Management\\_and\\_Accounting          & -0.237532075                                         & 0.2495466806                                         &  -0.95185427                                         &  3.411709e-01                                       \\\\\n",
       "\t fixed                                                & NA                                                   & Economics\\_\\_Econometrics\\_and\\_Finance          &  0.241433569                                         & 0.1307662539                                         &   1.84629873                                         &  6.484884e-02                                       \\\\\n",
       "\t fixed                                          & NA                                             & Chemical\\_Engineering                         &  0.391829180                                   & 0.0484219392                                   &   8.09197620                                   &  5.870438e-16                                 \\\\\n",
       "\t fixed                                            & NA                                               & Physics\\_and\\_Astronomy                        & -0.088553339                                     & 0.0949040236                                     &  -0.93308308                                     &  3.507771e-01                                   \\\\\n",
       "\t fixed                                          & NA                                             & Computer\\_Science                             &  0.300072140                                   & 0.0658229142                                   &   4.55877932                                   &  5.145180e-06                                 \\\\\n",
       "\t fixed                                          & NA                                             & Decision\\_Sciences                            & -0.535474688                                   & 0.1470214424                                   &  -3.64215369                                   &  2.703666e-04                                 \\\\\n",
       "\t fixed                                          & NA                                             & Health\\_Professions                           &  0.414199865                                   & 0.1005322232                                   &   4.12007068                                   &  3.787562e-05                                 \\\\\n",
       "\t fixed                                        & NA                                           & Psychology                                   &  0.166964851                                 & 0.0934867616                                 &   1.78597320                                 &  7.410360e-02                               \\\\\n",
       "\t fixed                                            & NA                                               & Immunology\\_and\\_Microbiology                  &  0.077396925                                     & 0.0232748884                                     &   3.32534033                                     &  8.831067e-04                                   \\\\\n",
       "\t fixed                                        & NA                                           & Dentistry                                    & -0.261609219                                 & 0.2044284711                                 &  -1.27971029                                 &  2.006470e-01                               \\\\\n",
       "\t fixed                                              & NA                                                 & Earth\\_and\\_Planetary\\_Sciences                 & -0.239782195                                       & 0.0472217085                                       &  -5.07779583                                       &  3.818387e-07                                     \\\\\n",
       "\t fixed                                          & NA                                             & Environmental\\_Science                        &  0.216908495                                   & 0.0266189232                                   &   8.14865778                                   &  3.679857e-16                                 \\\\\n",
       "\t fixed                                        & NA                                           & Mathematics                                  &  0.140714332                                 & 0.0737793075                                 &   1.90723303                                 &  5.649042e-02                               \\\\\n",
       "\t fixed                                            & NA                                               & Arts\\_and\\_Humanities                          &  0.104280991                                     & 0.1857164779                                     &   0.56150640                                     &  5.744524e-01                                   \\\\\n",
       "\t fixed                                        & NA                                           & Energy                                       & -0.384279318                                 & 0.2257831387                                 &  -1.70198412                                 &  8.875834e-02                               \\\\\n",
       "\t fixed                                        & NA                                           & Veterinary                                   & -0.439137544                                 & 0.0675018439                                 &  -6.50556367                                 &  7.740259e-11                               \\\\\n",
       "\t ran\\_pars                                       & doi                                              & sd\\_\\_(Intercept)                              &  1.481460104                                     &           NA                                     &           NA                                     &            NA                                   \\\\\n",
       "\\end{tabular}\n"
      ],
      "text/markdown": [
       "\n",
       "| effect | group | term | estimate | std.error | statistic | p.value |\n",
       "|---|---|---|---|---|---|---|\n",
       "| fixed                                        | NA                                           | (Intercept)                                  | -2.965929154                                 | 0.0319628371                                 | -92.79305042                                 |  0.000000e+00                                |\n",
       "| fixed                                        | NA                                           | genderFemale                                 | -0.362607128                                 | 0.0119986063                                 | -30.22077053                                 | 1.263796e-200                                |\n",
       "| fixed                                        | NA                                           | authorship_posfirst_position                 |  0.262813545                                 | 0.0167902539                                 |  15.65274388                                 |  3.181989e-55                                |\n",
       "| fixed                                        | NA                                           | authorship_posmiddle_position                | -0.762056902                                 | 0.0142562482                                 | -53.45423937                                 |  0.000000e+00                                |\n",
       "| fixed                                        | NA                                           | authorship_possolo_author                    |  0.552607476                                 | 0.0506939001                                 |  10.90086725                                 |  1.141639e-27                                |\n",
       "| fixed                                        | NA                                           | author_pub_count_cate                        |  0.304634925                                 | 0.0106852680                                 |  28.50980661                                 | 8.854530e-179                                |\n",
       "| fixed                                        | NA                                           | I(author_pub_count_cate^2)                   | -0.030721006                                 | 0.0009843564                                 | -31.20923209                                 | 7.985255e-214                                |\n",
       "| fixed                                        | NA                                           | affiliation_rank_cate                        | -0.077371888                                 | 0.0023134525                                 | -33.44433829                                 | 3.110863e-245                                |\n",
       "| fixed                                        | NA                                           | affiliation_cateinternational                |  0.056780396                                 | 0.0143836621                                 |   3.94756183                                 |  7.895113e-05                                |\n",
       "| fixed                                        | NA                                           | num_authors                                  | -0.002853619                                 | 0.0005443413                                 |  -5.24233464                                 |  1.585575e-07                                |\n",
       "| fixed                                        | NA                                           | journal_impact                               |  0.048926832                                 | 0.0012429525                                 |  39.36339779                                 |  0.000000e+00                                |\n",
       "| fixed                                        | NA                                           | author_citation_log                          | -0.022025291                                 | 0.0033886358                                 |  -6.49975177                                 |  8.045265e-11                                |\n",
       "| fixed                                        | NA                                           | Social_Sciences                              |  0.402014828                                 | 0.0806047452                                 |   4.98748339                                 |  6.117088e-07                                |\n",
       "| fixed                                        | NA                                           | Materials_Science                            | -0.002514495                                 | 0.0799517662                                 |  -0.03145015                                 |  9.749105e-01                                |\n",
       "| fixed                                        | NA                                           | Engineering                                  | -0.061438281                                 | 0.0584653856                                 |  -1.05084881                                 |  2.933280e-01                                |\n",
       "| fixed                                        | NA                                           | Chemistry                                    | -0.317695880                                 | 0.0372200268                                 |  -8.53561664                                 |  1.394099e-17                                |\n",
       "| fixed                                        | NA                                           | Biochemistry__Genetics_and_Molecular_Biology |  0.035040425                                 | 0.0183384165                                 |   1.91076611                                 |  5.603464e-02                                |\n",
       "| fixed                                        | NA                                           | Medicine                                     | -0.387789832                                 | 0.0170945665                                 | -22.68497614                                 | 6.304107e-114                                |\n",
       "| fixed                                        | NA                                           | Nursing                                      |  0.193549070                                 | 0.0775376995                                 |   2.49619309                                 |  1.255342e-02                                |\n",
       "| fixed                                        | NA                                           | Agricultural_and_Biological_Sciences         |  0.724638644                                 | 0.0195482918                                 |  37.06915423                                 | 8.826092e-301                                |\n",
       "| fixed                                        | NA                                           | Pharmacology__Toxicology_and_Pharmaceutics   | -0.213459214                                 | 0.0291912792                                 |  -7.31243097                                 |  2.623521e-13                                |\n",
       "| fixed                                        | NA                                           | Neuroscience                                 |  0.287765068                                 | 0.0242692979                                 |  11.85716492                                 |  1.975514e-32                                |\n",
       "| fixed                                        | NA                                           | Business__Management_and_Accounting          | -0.237532075                                 | 0.2495466806                                 |  -0.95185427                                 |  3.411709e-01                                |\n",
       "| fixed                                        | NA                                           | Economics__Econometrics_and_Finance          |  0.241433569                                 | 0.1307662539                                 |   1.84629873                                 |  6.484884e-02                                |\n",
       "| fixed                                        | NA                                           | Chemical_Engineering                         |  0.391829180                                 | 0.0484219392                                 |   8.09197620                                 |  5.870438e-16                                |\n",
       "| fixed                                        | NA                                           | Physics_and_Astronomy                        | -0.088553339                                 | 0.0949040236                                 |  -0.93308308                                 |  3.507771e-01                                |\n",
       "| fixed                                        | NA                                           | Computer_Science                             |  0.300072140                                 | 0.0658229142                                 |   4.55877932                                 |  5.145180e-06                                |\n",
       "| fixed                                        | NA                                           | Decision_Sciences                            | -0.535474688                                 | 0.1470214424                                 |  -3.64215369                                 |  2.703666e-04                                |\n",
       "| fixed                                        | NA                                           | Health_Professions                           |  0.414199865                                 | 0.1005322232                                 |   4.12007068                                 |  3.787562e-05                                |\n",
       "| fixed                                        | NA                                           | Psychology                                   |  0.166964851                                 | 0.0934867616                                 |   1.78597320                                 |  7.410360e-02                                |\n",
       "| fixed                                        | NA                                           | Immunology_and_Microbiology                  |  0.077396925                                 | 0.0232748884                                 |   3.32534033                                 |  8.831067e-04                                |\n",
       "| fixed                                        | NA                                           | Dentistry                                    | -0.261609219                                 | 0.2044284711                                 |  -1.27971029                                 |  2.006470e-01                                |\n",
       "| fixed                                        | NA                                           | Earth_and_Planetary_Sciences                 | -0.239782195                                 | 0.0472217085                                 |  -5.07779583                                 |  3.818387e-07                                |\n",
       "| fixed                                        | NA                                           | Environmental_Science                        |  0.216908495                                 | 0.0266189232                                 |   8.14865778                                 |  3.679857e-16                                |\n",
       "| fixed                                        | NA                                           | Mathematics                                  |  0.140714332                                 | 0.0737793075                                 |   1.90723303                                 |  5.649042e-02                                |\n",
       "| fixed                                        | NA                                           | Arts_and_Humanities                          |  0.104280991                                 | 0.1857164779                                 |   0.56150640                                 |  5.744524e-01                                |\n",
       "| fixed                                        | NA                                           | Energy                                       | -0.384279318                                 | 0.2257831387                                 |  -1.70198412                                 |  8.875834e-02                                |\n",
       "| fixed                                        | NA                                           | Veterinary                                   | -0.439137544                                 | 0.0675018439                                 |  -6.50556367                                 |  7.740259e-11                                |\n",
       "| ran_pars                                     | doi                                          | sd__(Intercept)                              |  1.481460104                                 |           NA                                 |           NA                                 |            NA                                |\n",
       "\n"
      ],
      "text/plain": [
       "   effect   group term                                         estimate    \n",
       "1  fixed    NA    (Intercept)                                  -2.965929154\n",
       "2  fixed    NA    genderFemale                                 -0.362607128\n",
       "3  fixed    NA    authorship_posfirst_position                  0.262813545\n",
       "4  fixed    NA    authorship_posmiddle_position                -0.762056902\n",
       "5  fixed    NA    authorship_possolo_author                     0.552607476\n",
       "6  fixed    NA    author_pub_count_cate                         0.304634925\n",
       "7  fixed    NA    I(author_pub_count_cate^2)                   -0.030721006\n",
       "8  fixed    NA    affiliation_rank_cate                        -0.077371888\n",
       "9  fixed    NA    affiliation_cateinternational                 0.056780396\n",
       "10 fixed    NA    num_authors                                  -0.002853619\n",
       "11 fixed    NA    journal_impact                                0.048926832\n",
       "12 fixed    NA    author_citation_log                          -0.022025291\n",
       "13 fixed    NA    Social_Sciences                               0.402014828\n",
       "14 fixed    NA    Materials_Science                            -0.002514495\n",
       "15 fixed    NA    Engineering                                  -0.061438281\n",
       "16 fixed    NA    Chemistry                                    -0.317695880\n",
       "17 fixed    NA    Biochemistry__Genetics_and_Molecular_Biology  0.035040425\n",
       "18 fixed    NA    Medicine                                     -0.387789832\n",
       "19 fixed    NA    Nursing                                       0.193549070\n",
       "20 fixed    NA    Agricultural_and_Biological_Sciences          0.724638644\n",
       "21 fixed    NA    Pharmacology__Toxicology_and_Pharmaceutics   -0.213459214\n",
       "22 fixed    NA    Neuroscience                                  0.287765068\n",
       "23 fixed    NA    Business__Management_and_Accounting          -0.237532075\n",
       "24 fixed    NA    Economics__Econometrics_and_Finance           0.241433569\n",
       "25 fixed    NA    Chemical_Engineering                          0.391829180\n",
       "26 fixed    NA    Physics_and_Astronomy                        -0.088553339\n",
       "27 fixed    NA    Computer_Science                              0.300072140\n",
       "28 fixed    NA    Decision_Sciences                            -0.535474688\n",
       "29 fixed    NA    Health_Professions                            0.414199865\n",
       "30 fixed    NA    Psychology                                    0.166964851\n",
       "31 fixed    NA    Immunology_and_Microbiology                   0.077396925\n",
       "32 fixed    NA    Dentistry                                    -0.261609219\n",
       "33 fixed    NA    Earth_and_Planetary_Sciences                 -0.239782195\n",
       "34 fixed    NA    Environmental_Science                         0.216908495\n",
       "35 fixed    NA    Mathematics                                   0.140714332\n",
       "36 fixed    NA    Arts_and_Humanities                           0.104280991\n",
       "37 fixed    NA    Energy                                       -0.384279318\n",
       "38 fixed    NA    Veterinary                                   -0.439137544\n",
       "39 ran_pars doi   sd__(Intercept)                               1.481460104\n",
       "   std.error    statistic    p.value      \n",
       "1  0.0319628371 -92.79305042  0.000000e+00\n",
       "2  0.0119986063 -30.22077053 1.263796e-200\n",
       "3  0.0167902539  15.65274388  3.181989e-55\n",
       "4  0.0142562482 -53.45423937  0.000000e+00\n",
       "5  0.0506939001  10.90086725  1.141639e-27\n",
       "6  0.0106852680  28.50980661 8.854530e-179\n",
       "7  0.0009843564 -31.20923209 7.985255e-214\n",
       "8  0.0023134525 -33.44433829 3.110863e-245\n",
       "9  0.0143836621   3.94756183  7.895113e-05\n",
       "10 0.0005443413  -5.24233464  1.585575e-07\n",
       "11 0.0012429525  39.36339779  0.000000e+00\n",
       "12 0.0033886358  -6.49975177  8.045265e-11\n",
       "13 0.0806047452   4.98748339  6.117088e-07\n",
       "14 0.0799517662  -0.03145015  9.749105e-01\n",
       "15 0.0584653856  -1.05084881  2.933280e-01\n",
       "16 0.0372200268  -8.53561664  1.394099e-17\n",
       "17 0.0183384165   1.91076611  5.603464e-02\n",
       "18 0.0170945665 -22.68497614 6.304107e-114\n",
       "19 0.0775376995   2.49619309  1.255342e-02\n",
       "20 0.0195482918  37.06915423 8.826092e-301\n",
       "21 0.0291912792  -7.31243097  2.623521e-13\n",
       "22 0.0242692979  11.85716492  1.975514e-32\n",
       "23 0.2495466806  -0.95185427  3.411709e-01\n",
       "24 0.1307662539   1.84629873  6.484884e-02\n",
       "25 0.0484219392   8.09197620  5.870438e-16\n",
       "26 0.0949040236  -0.93308308  3.507771e-01\n",
       "27 0.0658229142   4.55877932  5.145180e-06\n",
       "28 0.1470214424  -3.64215369  2.703666e-04\n",
       "29 0.1005322232   4.12007068  3.787562e-05\n",
       "30 0.0934867616   1.78597320  7.410360e-02\n",
       "31 0.0232748884   3.32534033  8.831067e-04\n",
       "32 0.2044284711  -1.27971029  2.006470e-01\n",
       "33 0.0472217085  -5.07779583  3.818387e-07\n",
       "34 0.0266189232   8.14865778  3.679857e-16\n",
       "35 0.0737793075   1.90723303  5.649042e-02\n",
       "36 0.1857164779   0.56150640  5.744524e-01\n",
       "37 0.2257831387  -1.70198412  8.875834e-02\n",
       "38 0.0675018439  -6.50556367  7.740259e-11\n",
       "39           NA           NA            NA"
      ]
     },
     "metadata": {},
     "output_type": "display_data"
    }
   ],
   "source": [
    "tidy(m_life)"
   ]
  },
  {
   "cell_type": "code",
   "execution_count": 72,
   "id": "bf96832e",
   "metadata": {
    "scrolled": true
   },
   "outputs": [
    {
     "name": "stderr",
     "output_type": "stream",
     "text": [
      "Model contains polynomial or cubic / quadratic terms. Consider using `terms=\"gender [all]\"` to get smooth plots. See also package-vignette 'Marginal Effects at Specific Values'.\n"
     ]
    }
   ],
   "source": [
    "# weighted average for factor variable, median for non-factor variables\n",
    "MEs = ggemmeans(m_life, terms=c('gender'), typical='median')"
   ]
  },
  {
   "cell_type": "code",
   "execution_count": 73,
   "id": "dbe2edf4",
   "metadata": {},
   "outputs": [
    {
     "data": {
      "text/html": [
       "<table>\n",
       "<thead><tr><th scope=col>x</th><th scope=col>predicted</th><th scope=col>std.error</th><th scope=col>conf.low</th><th scope=col>conf.high</th><th scope=col>group</th></tr></thead>\n",
       "<tbody>\n",
       "\t<tr><td>Male      </td><td>0.07769801</td><td>0.02124144</td><td>0.07476655</td><td>0.08073438</td><td>1         </td></tr>\n",
       "\t<tr><td>Female    </td><td>0.05537550</td><td>0.02249357</td><td>0.05311407</td><td>0.05772735</td><td>1         </td></tr>\n",
       "</tbody>\n",
       "</table>\n"
      ],
      "text/latex": [
       "\\begin{tabular}{r|llllll}\n",
       " x & predicted & std.error & conf.low & conf.high & group\\\\\n",
       "\\hline\n",
       "\t Male       & 0.07769801 & 0.02124144 & 0.07476655 & 0.08073438 & 1         \\\\\n",
       "\t Female     & 0.05537550 & 0.02249357 & 0.05311407 & 0.05772735 & 1         \\\\\n",
       "\\end{tabular}\n"
      ],
      "text/markdown": [
       "\n",
       "| x | predicted | std.error | conf.low | conf.high | group |\n",
       "|---|---|---|---|---|---|\n",
       "| Male       | 0.07769801 | 0.02124144 | 0.07476655 | 0.08073438 | 1          |\n",
       "| Female     | 0.05537550 | 0.02249357 | 0.05311407 | 0.05772735 | 1          |\n",
       "\n"
      ],
      "text/plain": [
       "  x      predicted  std.error  conf.low   conf.high  group\n",
       "1 Male   0.07769801 0.02124144 0.07476655 0.08073438 1    \n",
       "2 Female 0.05537550 0.02249357 0.05311407 0.05772735 1    "
      ]
     },
     "metadata": {},
     "output_type": "display_data"
    }
   ],
   "source": [
    "MEs"
   ]
  },
  {
   "cell_type": "code",
   "execution_count": 74,
   "id": "7f238260",
   "metadata": {},
   "outputs": [],
   "source": [
    "write.csv(MEs, paste(data_root, \"pred_life.csv\", sep = ''), row.names=FALSE)"
   ]
  },
  {
   "cell_type": "markdown",
   "id": "058a4d3d",
   "metadata": {},
   "source": [
    "Social Sciences"
   ]
  },
  {
   "cell_type": "code",
   "execution_count": 75,
   "id": "09681969",
   "metadata": {},
   "outputs": [
    {
     "name": "stderr",
     "output_type": "stream",
     "text": [
      "fixed-effect model matrix is rank deficient so dropping 1 column / coefficient\n"
     ]
    }
   ],
   "source": [
    "base_str <- \"self_promotion ~ 1 + gender + authorship_pos + author_pub_count_cate + I(author_pub_count_cate^2) + \\\n",
    "            affiliation_rank_cate + affiliation_cate + num_authors + journal_impact + author_citation_log\"\n",
    "equation <- as.formula(paste(base_str, \" + (1|doi)\", keywords, sep = \" \"))\n",
    "m_social <- glmer(formula = equation, data = mydata[mydata$Social_Sciences == 1, ], \n",
    "                     family = \"binomial\", control = glmerControl(optimizer = \"nloptwrap\"), nAGQ = 0)\n"
   ]
  },
  {
   "cell_type": "code",
   "execution_count": 76,
   "id": "c8f6f1a0",
   "metadata": {
    "scrolled": true
   },
   "outputs": [
    {
     "data": {
      "text/html": [
       "<table>\n",
       "<thead><tr><th scope=col>effect</th><th scope=col>group</th><th scope=col>term</th><th scope=col>estimate</th><th scope=col>std.error</th><th scope=col>statistic</th><th scope=col>p.value</th></tr></thead>\n",
       "<tbody>\n",
       "\t<tr><td>fixed                                       </td><td>NA                                          </td><td>(Intercept)                                 </td><td>-1.808001e+00                               </td><td>4.077660e-02                                </td><td>-44.339186128                               </td><td> 0.000000e+00                               </td></tr>\n",
       "\t<tr><td>fixed                                       </td><td>NA                                          </td><td>genderFemale                                </td><td>-1.075062e-01                               </td><td>1.782025e-02                                </td><td> -6.032808536                               </td><td> 1.611343e-09                               </td></tr>\n",
       "\t<tr><td>fixed                                       </td><td>NA                                          </td><td>authorship_posfirst_position                </td><td> 4.146377e-01                               </td><td>2.162616e-02                                </td><td> 19.172967833                               </td><td> 6.225384e-82                               </td></tr>\n",
       "\t<tr><td>fixed                                       </td><td>NA                                          </td><td>authorship_posmiddle_position               </td><td>-2.604136e-01                               </td><td>2.294956e-02                                </td><td>-11.347216318                               </td><td> 7.656146e-30                               </td></tr>\n",
       "\t<tr><td>fixed                                       </td><td>NA                                          </td><td>authorship_possolo_author                   </td><td> 6.233673e-01                               </td><td>3.288786e-02                                </td><td> 18.954326284                               </td><td> 4.067291e-80                               </td></tr>\n",
       "\t<tr><td>fixed                                       </td><td>NA                                          </td><td>author_pub_count_cate                       </td><td> 4.000013e-01                               </td><td>1.549415e-02                                </td><td> 25.816274418                               </td><td>5.822356e-147                               </td></tr>\n",
       "\t<tr><td>fixed                                       </td><td>NA                                          </td><td>I(author_pub_count_cate^2)                  </td><td>-2.770151e-02                               </td><td>1.590493e-03                                </td><td>-17.416932869                               </td><td> 6.138049e-68                               </td></tr>\n",
       "\t<tr><td>fixed                                       </td><td>NA                                          </td><td>affiliation_rank_cate                       </td><td>-3.518698e-02                               </td><td>3.311631e-03                                </td><td>-10.625271836                               </td><td> 2.273488e-26                               </td></tr>\n",
       "\t<tr><td>fixed                                       </td><td>NA                                          </td><td>affiliation_cateinternational               </td><td> 2.479048e-01                               </td><td>2.086184e-02                                </td><td> 11.883170125                               </td><td> 1.447708e-32                               </td></tr>\n",
       "\t<tr><td>fixed                                       </td><td>NA                                          </td><td>num_authors                                 </td><td>-6.581681e-02                               </td><td>4.259731e-03                                </td><td>-15.450930326                               </td><td> 7.436235e-54                               </td></tr>\n",
       "\t<tr><td>fixed                                       </td><td>NA                                          </td><td>journal_impact                              </td><td> 9.070848e-02                               </td><td>6.232871e-03                                </td><td> 14.553242452                               </td><td> 5.569912e-48                               </td></tr>\n",
       "\t<tr><td>fixed                                       </td><td>NA                                          </td><td>author_citation_log                         </td><td>-1.041551e-01                               </td><td>5.330118e-03                                </td><td>-19.540854083                               </td><td> 4.934953e-85                               </td></tr>\n",
       "\t<tr><td>fixed                                       </td><td>NA                                          </td><td>Materials_Science                           </td><td>-1.052979e+01                               </td><td>8.815610e+01                                </td><td> -0.119444790                               </td><td> 9.049230e-01                               </td></tr>\n",
       "\t<tr><td>fixed                                       </td><td>NA                                          </td><td>Engineering                                 </td><td>-1.739105e-01                               </td><td>6.030772e-02                                </td><td> -2.883719290                               </td><td> 3.930089e-03                               </td></tr>\n",
       "\t<tr><td>fixed                                       </td><td>NA                                          </td><td>Chemistry                                   </td><td>-5.761212e-01                               </td><td>1.259406e-01                                </td><td> -4.574545967                               </td><td> 4.772538e-06                               </td></tr>\n",
       "\t<tr><td>fixed                                       </td><td>NA                                          </td><td>Biochemistry__Genetics_and_Molecular_Biology</td><td> 2.229356e-01                               </td><td>1.137935e-01                                </td><td>  1.959123118                               </td><td> 5.009837e-02                               </td></tr>\n",
       "\t<tr><td>fixed                                       </td><td>NA                                          </td><td>Medicine                                    </td><td>-4.322693e-01                               </td><td>2.870225e-02                                </td><td>-15.060468475                               </td><td> 2.946914e-51                               </td></tr>\n",
       "\t<tr><td>fixed                                       </td><td>NA                                          </td><td>Nursing                                     </td><td> 7.375351e-02                               </td><td>5.629085e-02                                </td><td>  1.310221971                               </td><td> 1.901208e-01                               </td></tr>\n",
       "\t<tr><td>fixed                                       </td><td>NA                                          </td><td>Agricultural_and_Biological_Sciences        </td><td> 6.836034e-02                               </td><td>6.005914e-02                                </td><td>  1.138217047                               </td><td> 2.550299e-01                               </td></tr>\n",
       "\t<tr><td>fixed                                       </td><td>NA                                          </td><td>Pharmacology__Toxicology_and_Pharmaceutics  </td><td>-3.432763e-01                               </td><td>1.138810e-01                                </td><td> -3.014342754                               </td><td> 2.575367e-03                               </td></tr>\n",
       "\t<tr><td>fixed                                       </td><td>NA                                          </td><td>Neuroscience                                </td><td> 7.148407e-02                               </td><td>5.156272e-02                                </td><td>  1.386352015                               </td><td> 1.656394e-01                               </td></tr>\n",
       "\t<tr><td>fixed                                       </td><td>NA                                          </td><td>Business__Management_and_Accounting         </td><td>-4.401780e-01                               </td><td>3.223315e-02                                </td><td>-13.656065738                               </td><td> 1.857517e-42                               </td></tr>\n",
       "\t<tr><td>fixed                                       </td><td>NA                                          </td><td>Economics__Econometrics_and_Finance         </td><td>-3.757696e-01                               </td><td>3.227174e-02                                </td><td>-11.643922498                               </td><td> 2.464163e-31                               </td></tr>\n",
       "\t<tr><td>fixed                                       </td><td>NA                                          </td><td>Chemical_Engineering                        </td><td>-2.634626e-01                               </td><td>2.442072e-01                                </td><td> -1.078848246                               </td><td> 2.806554e-01                               </td></tr>\n",
       "\t<tr><td>fixed                                       </td><td>NA                                          </td><td>Physics_and_Astronomy                       </td><td>-2.030709e+00                               </td><td>7.420315e-01                                </td><td> -2.736688570                               </td><td> 6.206101e-03                               </td></tr>\n",
       "\t<tr><td>fixed                                       </td><td>NA                                          </td><td>Computer_Science                            </td><td>-1.126796e-01                               </td><td>4.531644e-02                                </td><td> -2.486505483                               </td><td> 1.290046e-02                               </td></tr>\n",
       "\t<tr><td>fixed                                       </td><td>NA                                          </td><td>Decision_Sciences                           </td><td>-3.419058e-01                               </td><td>5.852394e-02                                </td><td> -5.842151750                               </td><td> 5.153083e-09                               </td></tr>\n",
       "\t<tr><td>fixed                                       </td><td>NA                                          </td><td>Health_Professions                          </td><td>-7.501029e-02                               </td><td>8.548797e-02                                </td><td> -0.877436804                               </td><td> 3.802494e-01                               </td></tr>\n",
       "\t<tr><td>fixed                                       </td><td>NA                                          </td><td>Psychology                                  </td><td>-6.085167e-01                               </td><td>2.536557e-02                                </td><td>-23.989873303                               </td><td>3.547145e-127                               </td></tr>\n",
       "\t<tr><td>fixed                                       </td><td>NA                                          </td><td>Immunology_and_Microbiology                 </td><td>-1.551424e+00                               </td><td>5.590318e-01                                </td><td> -2.775198570                               </td><td> 5.516801e-03                               </td></tr>\n",
       "\t<tr><td>fixed                                       </td><td>NA                                          </td><td>Dentistry                                   </td><td>-1.269135e+01                               </td><td>1.294349e+02                                </td><td> -0.098052007                               </td><td> 9.218910e-01                               </td></tr>\n",
       "\t<tr><td>fixed                                       </td><td>NA                                          </td><td>Earth_and_Planetary_Sciences                </td><td> 1.393227e-01                               </td><td>1.024225e-01                                </td><td>  1.360273475                               </td><td> 1.737434e-01                               </td></tr>\n",
       "\t<tr><td>fixed                                       </td><td>NA                                          </td><td>Environmental_Science                       </td><td>-1.128153e-01                               </td><td>4.237539e-02                                </td><td> -2.662284226                               </td><td> 7.761231e-03                               </td></tr>\n",
       "\t<tr><td>fixed                                       </td><td>NA                                          </td><td>Mathematics                                 </td><td>-7.855168e-01                               </td><td>7.982942e-02                                </td><td> -9.839940614                               </td><td> 7.575554e-23                               </td></tr>\n",
       "\t<tr><td>fixed                                       </td><td>NA                                          </td><td>Arts_and_Humanities                         </td><td>-2.364003e-01                               </td><td>3.905117e-02                                </td><td> -6.053604336                               </td><td> 1.416403e-09                               </td></tr>\n",
       "\t<tr><td>fixed                                       </td><td>NA                                          </td><td>Energy                                      </td><td>-4.365733e-01                               </td><td>8.579314e-02                                </td><td> -5.088673356                               </td><td> 3.605771e-07                               </td></tr>\n",
       "\t<tr><td>fixed                                       </td><td>NA                                          </td><td>Veterinary                                  </td><td> 3.928324e-04                               </td><td>2.802528e-01                                </td><td>  0.001401707                               </td><td> 9.988816e-01                               </td></tr>\n",
       "\t<tr><td>fixed                                       </td><td>NA                                          </td><td>General                                     </td><td> 3.243338e-01                               </td><td>5.551089e-01                                </td><td>  0.584270454                               </td><td> 5.590384e-01                               </td></tr>\n",
       "\t<tr><td>ran_pars                                    </td><td>doi                                         </td><td>sd__(Intercept)                             </td><td> 1.215196e+00                               </td><td>          NA                                </td><td>           NA                               </td><td>           NA                               </td></tr>\n",
       "</tbody>\n",
       "</table>\n"
      ],
      "text/latex": [
       "\\begin{tabular}{r|lllllll}\n",
       " effect & group & term & estimate & std.error & statistic & p.value\\\\\n",
       "\\hline\n",
       "\t fixed                                        & NA                                           & (Intercept)                                  & -1.808001e+00                                & 4.077660e-02                                 & -44.339186128                                &  0.000000e+00                               \\\\\n",
       "\t fixed                                        & NA                                           & genderFemale                                 & -1.075062e-01                                & 1.782025e-02                                 &  -6.032808536                                &  1.611343e-09                               \\\\\n",
       "\t fixed                                            & NA                                               & authorship\\_posfirst\\_position                 &  4.146377e-01                                    & 2.162616e-02                                     &  19.172967833                                    &  6.225384e-82                                   \\\\\n",
       "\t fixed                                            & NA                                               & authorship\\_posmiddle\\_position                & -2.604136e-01                                    & 2.294956e-02                                     & -11.347216318                                    &  7.656146e-30                                   \\\\\n",
       "\t fixed                                            & NA                                               & authorship\\_possolo\\_author                    &  6.233673e-01                                    & 3.288786e-02                                     &  18.954326284                                    &  4.067291e-80                                   \\\\\n",
       "\t fixed                                              & NA                                                 & author\\_pub\\_count\\_cate                        &  4.000013e-01                                      & 1.549415e-02                                       &  25.816274418                                      & 5.822356e-147                                     \\\\\n",
       "\t fixed                                                                & NA                                                                   & I(author\\_pub\\_count\\_cate\\textasciicircum{}2)                   & -2.770151e-02                                                        & 1.590493e-03                                                         & -17.416932869                                                        &  6.138049e-68                                                       \\\\\n",
       "\t fixed                                            & NA                                               & affiliation\\_rank\\_cate                        & -3.518698e-02                                    & 3.311631e-03                                     & -10.625271836                                    &  2.273488e-26                                   \\\\\n",
       "\t fixed                                          & NA                                             & affiliation\\_cateinternational                &  2.479048e-01                                  & 2.086184e-02                                   &  11.883170125                                  &  1.447708e-32                                 \\\\\n",
       "\t fixed                                          & NA                                             & num\\_authors                                  & -6.581681e-02                                  & 4.259731e-03                                   & -15.450930326                                  &  7.436235e-54                                 \\\\\n",
       "\t fixed                                          & NA                                             & journal\\_impact                               &  9.070848e-02                                  & 6.232871e-03                                   &  14.553242452                                  &  5.569912e-48                                 \\\\\n",
       "\t fixed                                            & NA                                               & author\\_citation\\_log                          & -1.041551e-01                                    & 5.330118e-03                                     & -19.540854083                                    &  4.934953e-85                                   \\\\\n",
       "\t fixed                                          & NA                                             & Materials\\_Science                            & -1.052979e+01                                  & 8.815610e+01                                   &  -0.119444790                                  &  9.049230e-01                                 \\\\\n",
       "\t fixed                                        & NA                                           & Engineering                                  & -1.739105e-01                                & 6.030772e-02                                 &  -2.883719290                                &  3.930089e-03                               \\\\\n",
       "\t fixed                                        & NA                                           & Chemistry                                    & -5.761212e-01                                & 1.259406e-01                                 &  -4.574545967                                &  4.772538e-06                               \\\\\n",
       "\t fixed                                                  & NA                                                     & Biochemistry\\_\\_Genetics\\_and\\_Molecular\\_Biology &  2.229356e-01                                          & 1.137935e-01                                           &   1.959123118                                          &  5.009837e-02                                         \\\\\n",
       "\t fixed                                        & NA                                           & Medicine                                     & -4.322693e-01                                & 2.870225e-02                                 & -15.060468475                                &  2.946914e-51                               \\\\\n",
       "\t fixed                                        & NA                                           & Nursing                                      &  7.375351e-02                                & 5.629085e-02                                 &   1.310221971                                &  1.901208e-01                               \\\\\n",
       "\t fixed                                              & NA                                                 & Agricultural\\_and\\_Biological\\_Sciences         &  6.836034e-02                                      & 6.005914e-02                                       &   1.138217047                                      &  2.550299e-01                                     \\\\\n",
       "\t fixed                                                & NA                                                   & Pharmacology\\_\\_Toxicology\\_and\\_Pharmaceutics   & -3.432763e-01                                        & 1.138810e-01                                         &  -3.014342754                                        &  2.575367e-03                                       \\\\\n",
       "\t fixed                                        & NA                                           & Neuroscience                                 &  7.148407e-02                                & 5.156272e-02                                 &   1.386352015                                &  1.656394e-01                               \\\\\n",
       "\t fixed                                                & NA                                                   & Business\\_\\_Management\\_and\\_Accounting          & -4.401780e-01                                        & 3.223315e-02                                         & -13.656065738                                        &  1.857517e-42                                       \\\\\n",
       "\t fixed                                                & NA                                                   & Economics\\_\\_Econometrics\\_and\\_Finance          & -3.757696e-01                                        & 3.227174e-02                                         & -11.643922498                                        &  2.464163e-31                                       \\\\\n",
       "\t fixed                                          & NA                                             & Chemical\\_Engineering                         & -2.634626e-01                                  & 2.442072e-01                                   &  -1.078848246                                  &  2.806554e-01                                 \\\\\n",
       "\t fixed                                            & NA                                               & Physics\\_and\\_Astronomy                        & -2.030709e+00                                    & 7.420315e-01                                     &  -2.736688570                                    &  6.206101e-03                                   \\\\\n",
       "\t fixed                                          & NA                                             & Computer\\_Science                             & -1.126796e-01                                  & 4.531644e-02                                   &  -2.486505483                                  &  1.290046e-02                                 \\\\\n",
       "\t fixed                                          & NA                                             & Decision\\_Sciences                            & -3.419058e-01                                  & 5.852394e-02                                   &  -5.842151750                                  &  5.153083e-09                                 \\\\\n",
       "\t fixed                                          & NA                                             & Health\\_Professions                           & -7.501029e-02                                  & 8.548797e-02                                   &  -0.877436804                                  &  3.802494e-01                                 \\\\\n",
       "\t fixed                                        & NA                                           & Psychology                                   & -6.085167e-01                                & 2.536557e-02                                 & -23.989873303                                & 3.547145e-127                               \\\\\n",
       "\t fixed                                            & NA                                               & Immunology\\_and\\_Microbiology                  & -1.551424e+00                                    & 5.590318e-01                                     &  -2.775198570                                    &  5.516801e-03                                   \\\\\n",
       "\t fixed                                        & NA                                           & Dentistry                                    & -1.269135e+01                                & 1.294349e+02                                 &  -0.098052007                                &  9.218910e-01                               \\\\\n",
       "\t fixed                                              & NA                                                 & Earth\\_and\\_Planetary\\_Sciences                 &  1.393227e-01                                      & 1.024225e-01                                       &   1.360273475                                      &  1.737434e-01                                     \\\\\n",
       "\t fixed                                          & NA                                             & Environmental\\_Science                        & -1.128153e-01                                  & 4.237539e-02                                   &  -2.662284226                                  &  7.761231e-03                                 \\\\\n",
       "\t fixed                                        & NA                                           & Mathematics                                  & -7.855168e-01                                & 7.982942e-02                                 &  -9.839940614                                &  7.575554e-23                               \\\\\n",
       "\t fixed                                            & NA                                               & Arts\\_and\\_Humanities                          & -2.364003e-01                                    & 3.905117e-02                                     &  -6.053604336                                    &  1.416403e-09                                   \\\\\n",
       "\t fixed                                        & NA                                           & Energy                                       & -4.365733e-01                                & 8.579314e-02                                 &  -5.088673356                                &  3.605771e-07                               \\\\\n",
       "\t fixed                                        & NA                                           & Veterinary                                   &  3.928324e-04                                & 2.802528e-01                                 &   0.001401707                                &  9.988816e-01                               \\\\\n",
       "\t fixed                                        & NA                                           & General                                      &  3.243338e-01                                & 5.551089e-01                                 &   0.584270454                                &  5.590384e-01                               \\\\\n",
       "\t ran\\_pars                                       & doi                                              & sd\\_\\_(Intercept)                              &  1.215196e+00                                    &           NA                                     &            NA                                    &            NA                                   \\\\\n",
       "\\end{tabular}\n"
      ],
      "text/markdown": [
       "\n",
       "| effect | group | term | estimate | std.error | statistic | p.value |\n",
       "|---|---|---|---|---|---|---|\n",
       "| fixed                                        | NA                                           | (Intercept)                                  | -1.808001e+00                                | 4.077660e-02                                 | -44.339186128                                |  0.000000e+00                                |\n",
       "| fixed                                        | NA                                           | genderFemale                                 | -1.075062e-01                                | 1.782025e-02                                 |  -6.032808536                                |  1.611343e-09                                |\n",
       "| fixed                                        | NA                                           | authorship_posfirst_position                 |  4.146377e-01                                | 2.162616e-02                                 |  19.172967833                                |  6.225384e-82                                |\n",
       "| fixed                                        | NA                                           | authorship_posmiddle_position                | -2.604136e-01                                | 2.294956e-02                                 | -11.347216318                                |  7.656146e-30                                |\n",
       "| fixed                                        | NA                                           | authorship_possolo_author                    |  6.233673e-01                                | 3.288786e-02                                 |  18.954326284                                |  4.067291e-80                                |\n",
       "| fixed                                        | NA                                           | author_pub_count_cate                        |  4.000013e-01                                | 1.549415e-02                                 |  25.816274418                                | 5.822356e-147                                |\n",
       "| fixed                                        | NA                                           | I(author_pub_count_cate^2)                   | -2.770151e-02                                | 1.590493e-03                                 | -17.416932869                                |  6.138049e-68                                |\n",
       "| fixed                                        | NA                                           | affiliation_rank_cate                        | -3.518698e-02                                | 3.311631e-03                                 | -10.625271836                                |  2.273488e-26                                |\n",
       "| fixed                                        | NA                                           | affiliation_cateinternational                |  2.479048e-01                                | 2.086184e-02                                 |  11.883170125                                |  1.447708e-32                                |\n",
       "| fixed                                        | NA                                           | num_authors                                  | -6.581681e-02                                | 4.259731e-03                                 | -15.450930326                                |  7.436235e-54                                |\n",
       "| fixed                                        | NA                                           | journal_impact                               |  9.070848e-02                                | 6.232871e-03                                 |  14.553242452                                |  5.569912e-48                                |\n",
       "| fixed                                        | NA                                           | author_citation_log                          | -1.041551e-01                                | 5.330118e-03                                 | -19.540854083                                |  4.934953e-85                                |\n",
       "| fixed                                        | NA                                           | Materials_Science                            | -1.052979e+01                                | 8.815610e+01                                 |  -0.119444790                                |  9.049230e-01                                |\n",
       "| fixed                                        | NA                                           | Engineering                                  | -1.739105e-01                                | 6.030772e-02                                 |  -2.883719290                                |  3.930089e-03                                |\n",
       "| fixed                                        | NA                                           | Chemistry                                    | -5.761212e-01                                | 1.259406e-01                                 |  -4.574545967                                |  4.772538e-06                                |\n",
       "| fixed                                        | NA                                           | Biochemistry__Genetics_and_Molecular_Biology |  2.229356e-01                                | 1.137935e-01                                 |   1.959123118                                |  5.009837e-02                                |\n",
       "| fixed                                        | NA                                           | Medicine                                     | -4.322693e-01                                | 2.870225e-02                                 | -15.060468475                                |  2.946914e-51                                |\n",
       "| fixed                                        | NA                                           | Nursing                                      |  7.375351e-02                                | 5.629085e-02                                 |   1.310221971                                |  1.901208e-01                                |\n",
       "| fixed                                        | NA                                           | Agricultural_and_Biological_Sciences         |  6.836034e-02                                | 6.005914e-02                                 |   1.138217047                                |  2.550299e-01                                |\n",
       "| fixed                                        | NA                                           | Pharmacology__Toxicology_and_Pharmaceutics   | -3.432763e-01                                | 1.138810e-01                                 |  -3.014342754                                |  2.575367e-03                                |\n",
       "| fixed                                        | NA                                           | Neuroscience                                 |  7.148407e-02                                | 5.156272e-02                                 |   1.386352015                                |  1.656394e-01                                |\n",
       "| fixed                                        | NA                                           | Business__Management_and_Accounting          | -4.401780e-01                                | 3.223315e-02                                 | -13.656065738                                |  1.857517e-42                                |\n",
       "| fixed                                        | NA                                           | Economics__Econometrics_and_Finance          | -3.757696e-01                                | 3.227174e-02                                 | -11.643922498                                |  2.464163e-31                                |\n",
       "| fixed                                        | NA                                           | Chemical_Engineering                         | -2.634626e-01                                | 2.442072e-01                                 |  -1.078848246                                |  2.806554e-01                                |\n",
       "| fixed                                        | NA                                           | Physics_and_Astronomy                        | -2.030709e+00                                | 7.420315e-01                                 |  -2.736688570                                |  6.206101e-03                                |\n",
       "| fixed                                        | NA                                           | Computer_Science                             | -1.126796e-01                                | 4.531644e-02                                 |  -2.486505483                                |  1.290046e-02                                |\n",
       "| fixed                                        | NA                                           | Decision_Sciences                            | -3.419058e-01                                | 5.852394e-02                                 |  -5.842151750                                |  5.153083e-09                                |\n",
       "| fixed                                        | NA                                           | Health_Professions                           | -7.501029e-02                                | 8.548797e-02                                 |  -0.877436804                                |  3.802494e-01                                |\n",
       "| fixed                                        | NA                                           | Psychology                                   | -6.085167e-01                                | 2.536557e-02                                 | -23.989873303                                | 3.547145e-127                                |\n",
       "| fixed                                        | NA                                           | Immunology_and_Microbiology                  | -1.551424e+00                                | 5.590318e-01                                 |  -2.775198570                                |  5.516801e-03                                |\n",
       "| fixed                                        | NA                                           | Dentistry                                    | -1.269135e+01                                | 1.294349e+02                                 |  -0.098052007                                |  9.218910e-01                                |\n",
       "| fixed                                        | NA                                           | Earth_and_Planetary_Sciences                 |  1.393227e-01                                | 1.024225e-01                                 |   1.360273475                                |  1.737434e-01                                |\n",
       "| fixed                                        | NA                                           | Environmental_Science                        | -1.128153e-01                                | 4.237539e-02                                 |  -2.662284226                                |  7.761231e-03                                |\n",
       "| fixed                                        | NA                                           | Mathematics                                  | -7.855168e-01                                | 7.982942e-02                                 |  -9.839940614                                |  7.575554e-23                                |\n",
       "| fixed                                        | NA                                           | Arts_and_Humanities                          | -2.364003e-01                                | 3.905117e-02                                 |  -6.053604336                                |  1.416403e-09                                |\n",
       "| fixed                                        | NA                                           | Energy                                       | -4.365733e-01                                | 8.579314e-02                                 |  -5.088673356                                |  3.605771e-07                                |\n",
       "| fixed                                        | NA                                           | Veterinary                                   |  3.928324e-04                                | 2.802528e-01                                 |   0.001401707                                |  9.988816e-01                                |\n",
       "| fixed                                        | NA                                           | General                                      |  3.243338e-01                                | 5.551089e-01                                 |   0.584270454                                |  5.590384e-01                                |\n",
       "| ran_pars                                     | doi                                          | sd__(Intercept)                              |  1.215196e+00                                |           NA                                 |            NA                                |            NA                                |\n",
       "\n"
      ],
      "text/plain": [
       "   effect   group term                                         estimate     \n",
       "1  fixed    NA    (Intercept)                                  -1.808001e+00\n",
       "2  fixed    NA    genderFemale                                 -1.075062e-01\n",
       "3  fixed    NA    authorship_posfirst_position                  4.146377e-01\n",
       "4  fixed    NA    authorship_posmiddle_position                -2.604136e-01\n",
       "5  fixed    NA    authorship_possolo_author                     6.233673e-01\n",
       "6  fixed    NA    author_pub_count_cate                         4.000013e-01\n",
       "7  fixed    NA    I(author_pub_count_cate^2)                   -2.770151e-02\n",
       "8  fixed    NA    affiliation_rank_cate                        -3.518698e-02\n",
       "9  fixed    NA    affiliation_cateinternational                 2.479048e-01\n",
       "10 fixed    NA    num_authors                                  -6.581681e-02\n",
       "11 fixed    NA    journal_impact                                9.070848e-02\n",
       "12 fixed    NA    author_citation_log                          -1.041551e-01\n",
       "13 fixed    NA    Materials_Science                            -1.052979e+01\n",
       "14 fixed    NA    Engineering                                  -1.739105e-01\n",
       "15 fixed    NA    Chemistry                                    -5.761212e-01\n",
       "16 fixed    NA    Biochemistry__Genetics_and_Molecular_Biology  2.229356e-01\n",
       "17 fixed    NA    Medicine                                     -4.322693e-01\n",
       "18 fixed    NA    Nursing                                       7.375351e-02\n",
       "19 fixed    NA    Agricultural_and_Biological_Sciences          6.836034e-02\n",
       "20 fixed    NA    Pharmacology__Toxicology_and_Pharmaceutics   -3.432763e-01\n",
       "21 fixed    NA    Neuroscience                                  7.148407e-02\n",
       "22 fixed    NA    Business__Management_and_Accounting          -4.401780e-01\n",
       "23 fixed    NA    Economics__Econometrics_and_Finance          -3.757696e-01\n",
       "24 fixed    NA    Chemical_Engineering                         -2.634626e-01\n",
       "25 fixed    NA    Physics_and_Astronomy                        -2.030709e+00\n",
       "26 fixed    NA    Computer_Science                             -1.126796e-01\n",
       "27 fixed    NA    Decision_Sciences                            -3.419058e-01\n",
       "28 fixed    NA    Health_Professions                           -7.501029e-02\n",
       "29 fixed    NA    Psychology                                   -6.085167e-01\n",
       "30 fixed    NA    Immunology_and_Microbiology                  -1.551424e+00\n",
       "31 fixed    NA    Dentistry                                    -1.269135e+01\n",
       "32 fixed    NA    Earth_and_Planetary_Sciences                  1.393227e-01\n",
       "33 fixed    NA    Environmental_Science                        -1.128153e-01\n",
       "34 fixed    NA    Mathematics                                  -7.855168e-01\n",
       "35 fixed    NA    Arts_and_Humanities                          -2.364003e-01\n",
       "36 fixed    NA    Energy                                       -4.365733e-01\n",
       "37 fixed    NA    Veterinary                                    3.928324e-04\n",
       "38 fixed    NA    General                                       3.243338e-01\n",
       "39 ran_pars doi   sd__(Intercept)                               1.215196e+00\n",
       "   std.error    statistic     p.value      \n",
       "1  4.077660e-02 -44.339186128  0.000000e+00\n",
       "2  1.782025e-02  -6.032808536  1.611343e-09\n",
       "3  2.162616e-02  19.172967833  6.225384e-82\n",
       "4  2.294956e-02 -11.347216318  7.656146e-30\n",
       "5  3.288786e-02  18.954326284  4.067291e-80\n",
       "6  1.549415e-02  25.816274418 5.822356e-147\n",
       "7  1.590493e-03 -17.416932869  6.138049e-68\n",
       "8  3.311631e-03 -10.625271836  2.273488e-26\n",
       "9  2.086184e-02  11.883170125  1.447708e-32\n",
       "10 4.259731e-03 -15.450930326  7.436235e-54\n",
       "11 6.232871e-03  14.553242452  5.569912e-48\n",
       "12 5.330118e-03 -19.540854083  4.934953e-85\n",
       "13 8.815610e+01  -0.119444790  9.049230e-01\n",
       "14 6.030772e-02  -2.883719290  3.930089e-03\n",
       "15 1.259406e-01  -4.574545967  4.772538e-06\n",
       "16 1.137935e-01   1.959123118  5.009837e-02\n",
       "17 2.870225e-02 -15.060468475  2.946914e-51\n",
       "18 5.629085e-02   1.310221971  1.901208e-01\n",
       "19 6.005914e-02   1.138217047  2.550299e-01\n",
       "20 1.138810e-01  -3.014342754  2.575367e-03\n",
       "21 5.156272e-02   1.386352015  1.656394e-01\n",
       "22 3.223315e-02 -13.656065738  1.857517e-42\n",
       "23 3.227174e-02 -11.643922498  2.464163e-31\n",
       "24 2.442072e-01  -1.078848246  2.806554e-01\n",
       "25 7.420315e-01  -2.736688570  6.206101e-03\n",
       "26 4.531644e-02  -2.486505483  1.290046e-02\n",
       "27 5.852394e-02  -5.842151750  5.153083e-09\n",
       "28 8.548797e-02  -0.877436804  3.802494e-01\n",
       "29 2.536557e-02 -23.989873303 3.547145e-127\n",
       "30 5.590318e-01  -2.775198570  5.516801e-03\n",
       "31 1.294349e+02  -0.098052007  9.218910e-01\n",
       "32 1.024225e-01   1.360273475  1.737434e-01\n",
       "33 4.237539e-02  -2.662284226  7.761231e-03\n",
       "34 7.982942e-02  -9.839940614  7.575554e-23\n",
       "35 3.905117e-02  -6.053604336  1.416403e-09\n",
       "36 8.579314e-02  -5.088673356  3.605771e-07\n",
       "37 2.802528e-01   0.001401707  9.988816e-01\n",
       "38 5.551089e-01   0.584270454  5.590384e-01\n",
       "39           NA            NA            NA"
      ]
     },
     "metadata": {},
     "output_type": "display_data"
    }
   ],
   "source": [
    "tidy(m_social)"
   ]
  },
  {
   "cell_type": "code",
   "execution_count": 77,
   "id": "f500f25b",
   "metadata": {
    "scrolled": false
   },
   "outputs": [
    {
     "name": "stderr",
     "output_type": "stream",
     "text": [
      "Model contains polynomial or cubic / quadratic terms. Consider using `terms=\"gender [all]\"` to get smooth plots. See also package-vignette 'Marginal Effects at Specific Values'.\n"
     ]
    }
   ],
   "source": [
    "# weighted average for factor variable, median for non-factor variables\n",
    "MEs = ggemmeans(m_social, terms=c('gender'), typical='median')"
   ]
  },
  {
   "cell_type": "code",
   "execution_count": 78,
   "id": "b067fd04",
   "metadata": {
    "scrolled": true
   },
   "outputs": [
    {
     "data": {
      "text/html": [
       "<table>\n",
       "<thead><tr><th scope=col>x</th><th scope=col>predicted</th><th scope=col>std.error</th><th scope=col>conf.low</th><th scope=col>conf.high</th><th scope=col>group</th></tr></thead>\n",
       "<tbody>\n",
       "\t<tr><td>Male      </td><td>0.2222351 </td><td>0.02164826</td><td>0.2149877 </td><td>0.2296553 </td><td>1         </td></tr>\n",
       "\t<tr><td>Female    </td><td>0.2042086 </td><td>0.02260249</td><td>0.1971038 </td><td>0.2115021 </td><td>1         </td></tr>\n",
       "</tbody>\n",
       "</table>\n"
      ],
      "text/latex": [
       "\\begin{tabular}{r|llllll}\n",
       " x & predicted & std.error & conf.low & conf.high & group\\\\\n",
       "\\hline\n",
       "\t Male       & 0.2222351  & 0.02164826 & 0.2149877  & 0.2296553  & 1         \\\\\n",
       "\t Female     & 0.2042086  & 0.02260249 & 0.1971038  & 0.2115021  & 1         \\\\\n",
       "\\end{tabular}\n"
      ],
      "text/markdown": [
       "\n",
       "| x | predicted | std.error | conf.low | conf.high | group |\n",
       "|---|---|---|---|---|---|\n",
       "| Male       | 0.2222351  | 0.02164826 | 0.2149877  | 0.2296553  | 1          |\n",
       "| Female     | 0.2042086  | 0.02260249 | 0.1971038  | 0.2115021  | 1          |\n",
       "\n"
      ],
      "text/plain": [
       "  x      predicted std.error  conf.low  conf.high group\n",
       "1 Male   0.2222351 0.02164826 0.2149877 0.2296553 1    \n",
       "2 Female 0.2042086 0.02260249 0.1971038 0.2115021 1    "
      ]
     },
     "metadata": {},
     "output_type": "display_data"
    }
   ],
   "source": [
    "MEs"
   ]
  },
  {
   "cell_type": "code",
   "execution_count": 79,
   "id": "f22a0953",
   "metadata": {},
   "outputs": [],
   "source": [
    "write.csv(MEs, paste(data_root, \"pred_social.csv\", sep = ''), row.names=FALSE)"
   ]
  },
  {
   "cell_type": "markdown",
   "id": "36cd3658",
   "metadata": {},
   "source": [
    "Physical Sciences"
   ]
  },
  {
   "cell_type": "code",
   "execution_count": 80,
   "id": "9ee55ff1",
   "metadata": {},
   "outputs": [
    {
     "name": "stderr",
     "output_type": "stream",
     "text": [
      "fixed-effect model matrix is rank deficient so dropping 1 column / coefficient\n"
     ]
    }
   ],
   "source": [
    "base_str <- \"self_promotion ~ 1 + gender + authorship_pos + author_pub_count_cate + I(author_pub_count_cate^2) + \\\n",
    "            affiliation_rank_cate + affiliation_cate + num_authors + journal_impact + author_citation_log\"\n",
    "equation <- as.formula(paste(base_str, \" + (1|doi)\", keywords, sep = \" \"))\n",
    "m_phy <- glmer(formula = equation, data = mydata[mydata$Physical_Sciences == 1, ], \n",
    "                     family = \"binomial\", control = glmerControl(optimizer = \"nloptwrap\"), nAGQ = 0)\n"
   ]
  },
  {
   "cell_type": "code",
   "execution_count": 81,
   "id": "8ae894cb",
   "metadata": {
    "scrolled": true
   },
   "outputs": [
    {
     "data": {
      "text/html": [
       "<table>\n",
       "<thead><tr><th scope=col>effect</th><th scope=col>group</th><th scope=col>term</th><th scope=col>estimate</th><th scope=col>std.error</th><th scope=col>statistic</th><th scope=col>p.value</th></tr></thead>\n",
       "<tbody>\n",
       "\t<tr><td>fixed                                       </td><td>NA                                          </td><td>(Intercept)                                 </td><td>-3.278788426                                </td><td>0.0356392347                                </td><td>-91.9994060                                 </td><td> 0.000000e+00                               </td></tr>\n",
       "\t<tr><td>fixed                                       </td><td>NA                                          </td><td>genderFemale                                </td><td>-0.242226328                                </td><td>0.0152004993                                </td><td>-15.9354192                                 </td><td> 3.597801e-57                               </td></tr>\n",
       "\t<tr><td>fixed                                       </td><td>NA                                          </td><td>authorship_posfirst_position                </td><td> 0.299173835                                </td><td>0.0191049109                                </td><td> 15.6595253                                 </td><td> 2.860242e-55                               </td></tr>\n",
       "\t<tr><td>fixed                                       </td><td>NA                                          </td><td>authorship_posmiddle_position               </td><td>-0.601386921                                </td><td>0.0164457483                                </td><td>-36.5679269                                 </td><td>9.254277e-293                               </td></tr>\n",
       "\t<tr><td>fixed                                       </td><td>NA                                          </td><td>authorship_possolo_author                   </td><td> 0.661960109                                </td><td>0.0487362596                                </td><td> 13.5824972                                 </td><td> 5.086230e-42                               </td></tr>\n",
       "\t<tr><td>fixed                                       </td><td>NA                                          </td><td>author_pub_count_cate                       </td><td> 0.307732192                                </td><td>0.0128131220                                </td><td> 24.0169564                                 </td><td>1.849530e-127                               </td></tr>\n",
       "\t<tr><td>fixed                                       </td><td>NA                                          </td><td>I(author_pub_count_cate^2)                  </td><td>-0.029785641                                </td><td>0.0011809363                                </td><td>-25.2220555                                 </td><td>2.295140e-140                               </td></tr>\n",
       "\t<tr><td>fixed                                       </td><td>NA                                          </td><td>affiliation_rank_cate                       </td><td>-0.045861103                                </td><td>0.0026770242                                </td><td>-17.1313736                                 </td><td> 8.658604e-66                               </td></tr>\n",
       "\t<tr><td>fixed                                       </td><td>NA                                          </td><td>affiliation_cateinternational               </td><td>-0.034047013                                </td><td>0.0168765965                                </td><td> -2.0174099                                 </td><td> 4.365275e-02                               </td></tr>\n",
       "\t<tr><td>fixed                                       </td><td>NA                                          </td><td>num_authors                                 </td><td>-0.001348467                                </td><td>0.0000895511                                </td><td>-15.0580753                                 </td><td> 3.055540e-51                               </td></tr>\n",
       "\t<tr><td>fixed                                       </td><td>NA                                          </td><td>journal_impact                              </td><td> 0.036660616                                </td><td>0.0015361719                                </td><td> 23.8649173                                 </td><td>7.089636e-126                               </td></tr>\n",
       "\t<tr><td>fixed                                       </td><td>NA                                          </td><td>author_citation_log                         </td><td>-0.012952790                                </td><td>0.0042804636                                </td><td> -3.0260249                                 </td><td> 2.477919e-03                               </td></tr>\n",
       "\t<tr><td>fixed                                       </td><td>NA                                          </td><td>Social_Sciences                             </td><td> 0.884961750                                </td><td>0.0351226590                                </td><td> 25.1963199                                 </td><td>4.395525e-140                               </td></tr>\n",
       "\t<tr><td>fixed                                       </td><td>NA                                          </td><td>Materials_Science                           </td><td> 0.028516091                                </td><td>0.0256535574                                </td><td>  1.1115843                                 </td><td> 2.663169e-01                               </td></tr>\n",
       "\t<tr><td>fixed                                       </td><td>NA                                          </td><td>Engineering                                 </td><td>-0.223752960                                </td><td>0.0241951309                                </td><td> -9.2478508                                 </td><td> 2.290518e-20                               </td></tr>\n",
       "\t<tr><td>fixed                                       </td><td>NA                                          </td><td>Chemistry                                   </td><td>-0.078125409                                </td><td>0.0232403398                                </td><td> -3.3616294                                 </td><td> 7.748405e-04                               </td></tr>\n",
       "\t<tr><td>fixed                                       </td><td>NA                                          </td><td>Biochemistry__Genetics_and_Molecular_Biology</td><td> 0.336993654                                </td><td>0.0269732342                                </td><td> 12.4936317                                 </td><td> 8.087582e-36                               </td></tr>\n",
       "\t<tr><td>fixed                                       </td><td>NA                                          </td><td>Medicine                                    </td><td> 0.240126238                                </td><td>0.0418705586                                </td><td>  5.7349662                                 </td><td> 9.753180e-09                               </td></tr>\n",
       "\t<tr><td>fixed                                       </td><td>NA                                          </td><td>Nursing                                     </td><td> 0.681578767                                </td><td>0.3249589361                                </td><td>  2.0974304                                 </td><td> 3.595549e-02                               </td></tr>\n",
       "\t<tr><td>fixed                                       </td><td>NA                                          </td><td>Agricultural_and_Biological_Sciences        </td><td> 0.293353833                                </td><td>0.0262201812                                </td><td> 11.1880933                                 </td><td> 4.663542e-29                               </td></tr>\n",
       "\t<tr><td>fixed                                       </td><td>NA                                          </td><td>Pharmacology__Toxicology_and_Pharmaceutics  </td><td>-0.594765371                                </td><td>0.0517892240                                </td><td>-11.4843461                                 </td><td> 1.581274e-30                               </td></tr>\n",
       "\t<tr><td>fixed                                       </td><td>NA                                          </td><td>Neuroscience                                </td><td> 0.223716713                                </td><td>0.0769621552                                </td><td>  2.9068405                                 </td><td> 3.650993e-03                               </td></tr>\n",
       "\t<tr><td>fixed                                       </td><td>NA                                          </td><td>Business__Management_and_Accounting         </td><td>-0.119163707                                </td><td>0.0631790556                                </td><td> -1.8861268                                 </td><td> 5.927788e-02                               </td></tr>\n",
       "\t<tr><td>fixed                                       </td><td>NA                                          </td><td>Economics__Econometrics_and_Finance         </td><td>-0.194427770                                </td><td>0.0676042078                                </td><td> -2.8759714                                 </td><td> 4.027862e-03                               </td></tr>\n",
       "\t<tr><td>fixed                                       </td><td>NA                                          </td><td>Chemical_Engineering                        </td><td> 0.090077394                                </td><td>0.0285035625                                </td><td>  3.1602153                                 </td><td> 1.576526e-03                               </td></tr>\n",
       "\t<tr><td>fixed                                       </td><td>NA                                          </td><td>Physics_and_Astronomy                       </td><td>-0.495498538                                </td><td>0.0245523210                                </td><td>-20.1813318                                 </td><td> 1.428452e-90                               </td></tr>\n",
       "\t<tr><td>fixed                                       </td><td>NA                                          </td><td>Computer_Science                            </td><td> 0.340173613                                </td><td>0.0299207763                                </td><td> 11.3691440                                 </td><td> 5.956892e-30                               </td></tr>\n",
       "\t<tr><td>fixed                                       </td><td>NA                                          </td><td>Decision_Sciences                           </td><td>-0.265801908                                </td><td>0.0632576830                                </td><td> -4.2018913                                 </td><td> 2.646942e-05                               </td></tr>\n",
       "\t<tr><td>fixed                                       </td><td>NA                                          </td><td>Health_Professions                          </td><td>-0.360257621                                </td><td>0.1272804811                                </td><td> -2.8304232                                 </td><td> 4.648648e-03                               </td></tr>\n",
       "\t<tr><td>fixed                                       </td><td>NA                                          </td><td>Psychology                                  </td><td> 0.023898150                                </td><td>0.1034253050                                </td><td>  0.2310668                                 </td><td> 8.172629e-01                               </td></tr>\n",
       "\t<tr><td>fixed                                       </td><td>NA                                          </td><td>Immunology_and_Microbiology                 </td><td> 0.161523168                                </td><td>0.0531358546                                </td><td>  3.0398150                                 </td><td> 2.367235e-03                               </td></tr>\n",
       "\t<tr><td>fixed                                       </td><td>NA                                          </td><td>Dentistry                                   </td><td>-2.486309286                                </td><td>1.0265095793                                </td><td> -2.4221004                                 </td><td> 1.543109e-02                               </td></tr>\n",
       "\t<tr><td>fixed                                       </td><td>NA                                          </td><td>Earth_and_Planetary_Sciences                </td><td> 0.335797553                                </td><td>0.0261508317                                </td><td> 12.8407982                                 </td><td> 9.687050e-38                               </td></tr>\n",
       "\t<tr><td>fixed                                       </td><td>NA                                          </td><td>Environmental_Science                       </td><td> 0.502018388                                </td><td>0.0234606349                                </td><td> 21.3983292                                 </td><td>1.384822e-101                               </td></tr>\n",
       "\t<tr><td>fixed                                       </td><td>NA                                          </td><td>Mathematics                                 </td><td>-0.313112607                                </td><td>0.0363039241                                </td><td> -8.6247593                                 </td><td> 6.422759e-18                               </td></tr>\n",
       "\t<tr><td>fixed                                       </td><td>NA                                          </td><td>Arts_and_Humanities                         </td><td>-0.196339241                                </td><td>0.1368197180                                </td><td> -1.4350215                                 </td><td> 1.512810e-01                               </td></tr>\n",
       "\t<tr><td>fixed                                       </td><td>NA                                          </td><td>Energy                                      </td><td>-0.167597663                                </td><td>0.0409568780                                </td><td> -4.0920517                                 </td><td> 4.275733e-05                               </td></tr>\n",
       "\t<tr><td>fixed                                       </td><td>NA                                          </td><td>General                                     </td><td> 2.399464552                                </td><td>0.7167595044                                </td><td>  3.3476564                                 </td><td> 8.149798e-04                               </td></tr>\n",
       "\t<tr><td>ran_pars                                    </td><td>doi                                         </td><td>sd__(Intercept)                             </td><td> 1.347880058                                </td><td>          NA                                </td><td>         NA                                 </td><td>           NA                               </td></tr>\n",
       "</tbody>\n",
       "</table>\n"
      ],
      "text/latex": [
       "\\begin{tabular}{r|lllllll}\n",
       " effect & group & term & estimate & std.error & statistic & p.value\\\\\n",
       "\\hline\n",
       "\t fixed                                        & NA                                           & (Intercept)                                  & -3.278788426                                 & 0.0356392347                                 & -91.9994060                                  &  0.000000e+00                               \\\\\n",
       "\t fixed                                        & NA                                           & genderFemale                                 & -0.242226328                                 & 0.0152004993                                 & -15.9354192                                  &  3.597801e-57                               \\\\\n",
       "\t fixed                                            & NA                                               & authorship\\_posfirst\\_position                 &  0.299173835                                     & 0.0191049109                                     &  15.6595253                                      &  2.860242e-55                                   \\\\\n",
       "\t fixed                                            & NA                                               & authorship\\_posmiddle\\_position                & -0.601386921                                     & 0.0164457483                                     & -36.5679269                                      & 9.254277e-293                                   \\\\\n",
       "\t fixed                                            & NA                                               & authorship\\_possolo\\_author                    &  0.661960109                                     & 0.0487362596                                     &  13.5824972                                      &  5.086230e-42                                   \\\\\n",
       "\t fixed                                              & NA                                                 & author\\_pub\\_count\\_cate                        &  0.307732192                                       & 0.0128131220                                       &  24.0169564                                        & 1.849530e-127                                     \\\\\n",
       "\t fixed                                                                & NA                                                                   & I(author\\_pub\\_count\\_cate\\textasciicircum{}2)                   & -0.029785641                                                         & 0.0011809363                                                         & -25.2220555                                                          & 2.295140e-140                                                       \\\\\n",
       "\t fixed                                            & NA                                               & affiliation\\_rank\\_cate                        & -0.045861103                                     & 0.0026770242                                     & -17.1313736                                      &  8.658604e-66                                   \\\\\n",
       "\t fixed                                          & NA                                             & affiliation\\_cateinternational                & -0.034047013                                   & 0.0168765965                                   &  -2.0174099                                    &  4.365275e-02                                 \\\\\n",
       "\t fixed                                          & NA                                             & num\\_authors                                  & -0.001348467                                   & 0.0000895511                                   & -15.0580753                                    &  3.055540e-51                                 \\\\\n",
       "\t fixed                                          & NA                                             & journal\\_impact                               &  0.036660616                                   & 0.0015361719                                   &  23.8649173                                    & 7.089636e-126                                 \\\\\n",
       "\t fixed                                            & NA                                               & author\\_citation\\_log                          & -0.012952790                                     & 0.0042804636                                     &  -3.0260249                                      &  2.477919e-03                                   \\\\\n",
       "\t fixed                                          & NA                                             & Social\\_Sciences                              &  0.884961750                                   & 0.0351226590                                   &  25.1963199                                    & 4.395525e-140                                 \\\\\n",
       "\t fixed                                          & NA                                             & Materials\\_Science                            &  0.028516091                                   & 0.0256535574                                   &   1.1115843                                    &  2.663169e-01                                 \\\\\n",
       "\t fixed                                        & NA                                           & Engineering                                  & -0.223752960                                 & 0.0241951309                                 &  -9.2478508                                  &  2.290518e-20                               \\\\\n",
       "\t fixed                                        & NA                                           & Chemistry                                    & -0.078125409                                 & 0.0232403398                                 &  -3.3616294                                  &  7.748405e-04                               \\\\\n",
       "\t fixed                                                  & NA                                                     & Biochemistry\\_\\_Genetics\\_and\\_Molecular\\_Biology &  0.336993654                                           & 0.0269732342                                           &  12.4936317                                            &  8.087582e-36                                         \\\\\n",
       "\t fixed                                        & NA                                           & Medicine                                     &  0.240126238                                 & 0.0418705586                                 &   5.7349662                                  &  9.753180e-09                               \\\\\n",
       "\t fixed                                        & NA                                           & Nursing                                      &  0.681578767                                 & 0.3249589361                                 &   2.0974304                                  &  3.595549e-02                               \\\\\n",
       "\t fixed                                              & NA                                                 & Agricultural\\_and\\_Biological\\_Sciences         &  0.293353833                                       & 0.0262201812                                       &  11.1880933                                        &  4.663542e-29                                     \\\\\n",
       "\t fixed                                                & NA                                                   & Pharmacology\\_\\_Toxicology\\_and\\_Pharmaceutics   & -0.594765371                                         & 0.0517892240                                         & -11.4843461                                          &  1.581274e-30                                       \\\\\n",
       "\t fixed                                        & NA                                           & Neuroscience                                 &  0.223716713                                 & 0.0769621552                                 &   2.9068405                                  &  3.650993e-03                               \\\\\n",
       "\t fixed                                                & NA                                                   & Business\\_\\_Management\\_and\\_Accounting          & -0.119163707                                         & 0.0631790556                                         &  -1.8861268                                          &  5.927788e-02                                       \\\\\n",
       "\t fixed                                                & NA                                                   & Economics\\_\\_Econometrics\\_and\\_Finance          & -0.194427770                                         & 0.0676042078                                         &  -2.8759714                                          &  4.027862e-03                                       \\\\\n",
       "\t fixed                                          & NA                                             & Chemical\\_Engineering                         &  0.090077394                                   & 0.0285035625                                   &   3.1602153                                    &  1.576526e-03                                 \\\\\n",
       "\t fixed                                            & NA                                               & Physics\\_and\\_Astronomy                        & -0.495498538                                     & 0.0245523210                                     & -20.1813318                                      &  1.428452e-90                                   \\\\\n",
       "\t fixed                                          & NA                                             & Computer\\_Science                             &  0.340173613                                   & 0.0299207763                                   &  11.3691440                                    &  5.956892e-30                                 \\\\\n",
       "\t fixed                                          & NA                                             & Decision\\_Sciences                            & -0.265801908                                   & 0.0632576830                                   &  -4.2018913                                    &  2.646942e-05                                 \\\\\n",
       "\t fixed                                          & NA                                             & Health\\_Professions                           & -0.360257621                                   & 0.1272804811                                   &  -2.8304232                                    &  4.648648e-03                                 \\\\\n",
       "\t fixed                                        & NA                                           & Psychology                                   &  0.023898150                                 & 0.1034253050                                 &   0.2310668                                  &  8.172629e-01                               \\\\\n",
       "\t fixed                                            & NA                                               & Immunology\\_and\\_Microbiology                  &  0.161523168                                     & 0.0531358546                                     &   3.0398150                                      &  2.367235e-03                                   \\\\\n",
       "\t fixed                                        & NA                                           & Dentistry                                    & -2.486309286                                 & 1.0265095793                                 &  -2.4221004                                  &  1.543109e-02                               \\\\\n",
       "\t fixed                                              & NA                                                 & Earth\\_and\\_Planetary\\_Sciences                 &  0.335797553                                       & 0.0261508317                                       &  12.8407982                                        &  9.687050e-38                                     \\\\\n",
       "\t fixed                                          & NA                                             & Environmental\\_Science                        &  0.502018388                                   & 0.0234606349                                   &  21.3983292                                    & 1.384822e-101                                 \\\\\n",
       "\t fixed                                        & NA                                           & Mathematics                                  & -0.313112607                                 & 0.0363039241                                 &  -8.6247593                                  &  6.422759e-18                               \\\\\n",
       "\t fixed                                            & NA                                               & Arts\\_and\\_Humanities                          & -0.196339241                                     & 0.1368197180                                     &  -1.4350215                                      &  1.512810e-01                                   \\\\\n",
       "\t fixed                                        & NA                                           & Energy                                       & -0.167597663                                 & 0.0409568780                                 &  -4.0920517                                  &  4.275733e-05                               \\\\\n",
       "\t fixed                                        & NA                                           & General                                      &  2.399464552                                 & 0.7167595044                                 &   3.3476564                                  &  8.149798e-04                               \\\\\n",
       "\t ran\\_pars                                       & doi                                              & sd\\_\\_(Intercept)                              &  1.347880058                                     &           NA                                     &          NA                                      &            NA                                   \\\\\n",
       "\\end{tabular}\n"
      ],
      "text/markdown": [
       "\n",
       "| effect | group | term | estimate | std.error | statistic | p.value |\n",
       "|---|---|---|---|---|---|---|\n",
       "| fixed                                        | NA                                           | (Intercept)                                  | -3.278788426                                 | 0.0356392347                                 | -91.9994060                                  |  0.000000e+00                                |\n",
       "| fixed                                        | NA                                           | genderFemale                                 | -0.242226328                                 | 0.0152004993                                 | -15.9354192                                  |  3.597801e-57                                |\n",
       "| fixed                                        | NA                                           | authorship_posfirst_position                 |  0.299173835                                 | 0.0191049109                                 |  15.6595253                                  |  2.860242e-55                                |\n",
       "| fixed                                        | NA                                           | authorship_posmiddle_position                | -0.601386921                                 | 0.0164457483                                 | -36.5679269                                  | 9.254277e-293                                |\n",
       "| fixed                                        | NA                                           | authorship_possolo_author                    |  0.661960109                                 | 0.0487362596                                 |  13.5824972                                  |  5.086230e-42                                |\n",
       "| fixed                                        | NA                                           | author_pub_count_cate                        |  0.307732192                                 | 0.0128131220                                 |  24.0169564                                  | 1.849530e-127                                |\n",
       "| fixed                                        | NA                                           | I(author_pub_count_cate^2)                   | -0.029785641                                 | 0.0011809363                                 | -25.2220555                                  | 2.295140e-140                                |\n",
       "| fixed                                        | NA                                           | affiliation_rank_cate                        | -0.045861103                                 | 0.0026770242                                 | -17.1313736                                  |  8.658604e-66                                |\n",
       "| fixed                                        | NA                                           | affiliation_cateinternational                | -0.034047013                                 | 0.0168765965                                 |  -2.0174099                                  |  4.365275e-02                                |\n",
       "| fixed                                        | NA                                           | num_authors                                  | -0.001348467                                 | 0.0000895511                                 | -15.0580753                                  |  3.055540e-51                                |\n",
       "| fixed                                        | NA                                           | journal_impact                               |  0.036660616                                 | 0.0015361719                                 |  23.8649173                                  | 7.089636e-126                                |\n",
       "| fixed                                        | NA                                           | author_citation_log                          | -0.012952790                                 | 0.0042804636                                 |  -3.0260249                                  |  2.477919e-03                                |\n",
       "| fixed                                        | NA                                           | Social_Sciences                              |  0.884961750                                 | 0.0351226590                                 |  25.1963199                                  | 4.395525e-140                                |\n",
       "| fixed                                        | NA                                           | Materials_Science                            |  0.028516091                                 | 0.0256535574                                 |   1.1115843                                  |  2.663169e-01                                |\n",
       "| fixed                                        | NA                                           | Engineering                                  | -0.223752960                                 | 0.0241951309                                 |  -9.2478508                                  |  2.290518e-20                                |\n",
       "| fixed                                        | NA                                           | Chemistry                                    | -0.078125409                                 | 0.0232403398                                 |  -3.3616294                                  |  7.748405e-04                                |\n",
       "| fixed                                        | NA                                           | Biochemistry__Genetics_and_Molecular_Biology |  0.336993654                                 | 0.0269732342                                 |  12.4936317                                  |  8.087582e-36                                |\n",
       "| fixed                                        | NA                                           | Medicine                                     |  0.240126238                                 | 0.0418705586                                 |   5.7349662                                  |  9.753180e-09                                |\n",
       "| fixed                                        | NA                                           | Nursing                                      |  0.681578767                                 | 0.3249589361                                 |   2.0974304                                  |  3.595549e-02                                |\n",
       "| fixed                                        | NA                                           | Agricultural_and_Biological_Sciences         |  0.293353833                                 | 0.0262201812                                 |  11.1880933                                  |  4.663542e-29                                |\n",
       "| fixed                                        | NA                                           | Pharmacology__Toxicology_and_Pharmaceutics   | -0.594765371                                 | 0.0517892240                                 | -11.4843461                                  |  1.581274e-30                                |\n",
       "| fixed                                        | NA                                           | Neuroscience                                 |  0.223716713                                 | 0.0769621552                                 |   2.9068405                                  |  3.650993e-03                                |\n",
       "| fixed                                        | NA                                           | Business__Management_and_Accounting          | -0.119163707                                 | 0.0631790556                                 |  -1.8861268                                  |  5.927788e-02                                |\n",
       "| fixed                                        | NA                                           | Economics__Econometrics_and_Finance          | -0.194427770                                 | 0.0676042078                                 |  -2.8759714                                  |  4.027862e-03                                |\n",
       "| fixed                                        | NA                                           | Chemical_Engineering                         |  0.090077394                                 | 0.0285035625                                 |   3.1602153                                  |  1.576526e-03                                |\n",
       "| fixed                                        | NA                                           | Physics_and_Astronomy                        | -0.495498538                                 | 0.0245523210                                 | -20.1813318                                  |  1.428452e-90                                |\n",
       "| fixed                                        | NA                                           | Computer_Science                             |  0.340173613                                 | 0.0299207763                                 |  11.3691440                                  |  5.956892e-30                                |\n",
       "| fixed                                        | NA                                           | Decision_Sciences                            | -0.265801908                                 | 0.0632576830                                 |  -4.2018913                                  |  2.646942e-05                                |\n",
       "| fixed                                        | NA                                           | Health_Professions                           | -0.360257621                                 | 0.1272804811                                 |  -2.8304232                                  |  4.648648e-03                                |\n",
       "| fixed                                        | NA                                           | Psychology                                   |  0.023898150                                 | 0.1034253050                                 |   0.2310668                                  |  8.172629e-01                                |\n",
       "| fixed                                        | NA                                           | Immunology_and_Microbiology                  |  0.161523168                                 | 0.0531358546                                 |   3.0398150                                  |  2.367235e-03                                |\n",
       "| fixed                                        | NA                                           | Dentistry                                    | -2.486309286                                 | 1.0265095793                                 |  -2.4221004                                  |  1.543109e-02                                |\n",
       "| fixed                                        | NA                                           | Earth_and_Planetary_Sciences                 |  0.335797553                                 | 0.0261508317                                 |  12.8407982                                  |  9.687050e-38                                |\n",
       "| fixed                                        | NA                                           | Environmental_Science                        |  0.502018388                                 | 0.0234606349                                 |  21.3983292                                  | 1.384822e-101                                |\n",
       "| fixed                                        | NA                                           | Mathematics                                  | -0.313112607                                 | 0.0363039241                                 |  -8.6247593                                  |  6.422759e-18                                |\n",
       "| fixed                                        | NA                                           | Arts_and_Humanities                          | -0.196339241                                 | 0.1368197180                                 |  -1.4350215                                  |  1.512810e-01                                |\n",
       "| fixed                                        | NA                                           | Energy                                       | -0.167597663                                 | 0.0409568780                                 |  -4.0920517                                  |  4.275733e-05                                |\n",
       "| fixed                                        | NA                                           | General                                      |  2.399464552                                 | 0.7167595044                                 |   3.3476564                                  |  8.149798e-04                                |\n",
       "| ran_pars                                     | doi                                          | sd__(Intercept)                              |  1.347880058                                 |           NA                                 |          NA                                  |            NA                                |\n",
       "\n"
      ],
      "text/plain": [
       "   effect   group term                                         estimate    \n",
       "1  fixed    NA    (Intercept)                                  -3.278788426\n",
       "2  fixed    NA    genderFemale                                 -0.242226328\n",
       "3  fixed    NA    authorship_posfirst_position                  0.299173835\n",
       "4  fixed    NA    authorship_posmiddle_position                -0.601386921\n",
       "5  fixed    NA    authorship_possolo_author                     0.661960109\n",
       "6  fixed    NA    author_pub_count_cate                         0.307732192\n",
       "7  fixed    NA    I(author_pub_count_cate^2)                   -0.029785641\n",
       "8  fixed    NA    affiliation_rank_cate                        -0.045861103\n",
       "9  fixed    NA    affiliation_cateinternational                -0.034047013\n",
       "10 fixed    NA    num_authors                                  -0.001348467\n",
       "11 fixed    NA    journal_impact                                0.036660616\n",
       "12 fixed    NA    author_citation_log                          -0.012952790\n",
       "13 fixed    NA    Social_Sciences                               0.884961750\n",
       "14 fixed    NA    Materials_Science                             0.028516091\n",
       "15 fixed    NA    Engineering                                  -0.223752960\n",
       "16 fixed    NA    Chemistry                                    -0.078125409\n",
       "17 fixed    NA    Biochemistry__Genetics_and_Molecular_Biology  0.336993654\n",
       "18 fixed    NA    Medicine                                      0.240126238\n",
       "19 fixed    NA    Nursing                                       0.681578767\n",
       "20 fixed    NA    Agricultural_and_Biological_Sciences          0.293353833\n",
       "21 fixed    NA    Pharmacology__Toxicology_and_Pharmaceutics   -0.594765371\n",
       "22 fixed    NA    Neuroscience                                  0.223716713\n",
       "23 fixed    NA    Business__Management_and_Accounting          -0.119163707\n",
       "24 fixed    NA    Economics__Econometrics_and_Finance          -0.194427770\n",
       "25 fixed    NA    Chemical_Engineering                          0.090077394\n",
       "26 fixed    NA    Physics_and_Astronomy                        -0.495498538\n",
       "27 fixed    NA    Computer_Science                              0.340173613\n",
       "28 fixed    NA    Decision_Sciences                            -0.265801908\n",
       "29 fixed    NA    Health_Professions                           -0.360257621\n",
       "30 fixed    NA    Psychology                                    0.023898150\n",
       "31 fixed    NA    Immunology_and_Microbiology                   0.161523168\n",
       "32 fixed    NA    Dentistry                                    -2.486309286\n",
       "33 fixed    NA    Earth_and_Planetary_Sciences                  0.335797553\n",
       "34 fixed    NA    Environmental_Science                         0.502018388\n",
       "35 fixed    NA    Mathematics                                  -0.313112607\n",
       "36 fixed    NA    Arts_and_Humanities                          -0.196339241\n",
       "37 fixed    NA    Energy                                       -0.167597663\n",
       "38 fixed    NA    General                                       2.399464552\n",
       "39 ran_pars doi   sd__(Intercept)                               1.347880058\n",
       "   std.error    statistic   p.value      \n",
       "1  0.0356392347 -91.9994060  0.000000e+00\n",
       "2  0.0152004993 -15.9354192  3.597801e-57\n",
       "3  0.0191049109  15.6595253  2.860242e-55\n",
       "4  0.0164457483 -36.5679269 9.254277e-293\n",
       "5  0.0487362596  13.5824972  5.086230e-42\n",
       "6  0.0128131220  24.0169564 1.849530e-127\n",
       "7  0.0011809363 -25.2220555 2.295140e-140\n",
       "8  0.0026770242 -17.1313736  8.658604e-66\n",
       "9  0.0168765965  -2.0174099  4.365275e-02\n",
       "10 0.0000895511 -15.0580753  3.055540e-51\n",
       "11 0.0015361719  23.8649173 7.089636e-126\n",
       "12 0.0042804636  -3.0260249  2.477919e-03\n",
       "13 0.0351226590  25.1963199 4.395525e-140\n",
       "14 0.0256535574   1.1115843  2.663169e-01\n",
       "15 0.0241951309  -9.2478508  2.290518e-20\n",
       "16 0.0232403398  -3.3616294  7.748405e-04\n",
       "17 0.0269732342  12.4936317  8.087582e-36\n",
       "18 0.0418705586   5.7349662  9.753180e-09\n",
       "19 0.3249589361   2.0974304  3.595549e-02\n",
       "20 0.0262201812  11.1880933  4.663542e-29\n",
       "21 0.0517892240 -11.4843461  1.581274e-30\n",
       "22 0.0769621552   2.9068405  3.650993e-03\n",
       "23 0.0631790556  -1.8861268  5.927788e-02\n",
       "24 0.0676042078  -2.8759714  4.027862e-03\n",
       "25 0.0285035625   3.1602153  1.576526e-03\n",
       "26 0.0245523210 -20.1813318  1.428452e-90\n",
       "27 0.0299207763  11.3691440  5.956892e-30\n",
       "28 0.0632576830  -4.2018913  2.646942e-05\n",
       "29 0.1272804811  -2.8304232  4.648648e-03\n",
       "30 0.1034253050   0.2310668  8.172629e-01\n",
       "31 0.0531358546   3.0398150  2.367235e-03\n",
       "32 1.0265095793  -2.4221004  1.543109e-02\n",
       "33 0.0261508317  12.8407982  9.687050e-38\n",
       "34 0.0234606349  21.3983292 1.384822e-101\n",
       "35 0.0363039241  -8.6247593  6.422759e-18\n",
       "36 0.1368197180  -1.4350215  1.512810e-01\n",
       "37 0.0409568780  -4.0920517  4.275733e-05\n",
       "38 0.7167595044   3.3476564  8.149798e-04\n",
       "39           NA          NA            NA"
      ]
     },
     "metadata": {},
     "output_type": "display_data"
    }
   ],
   "source": [
    "tidy(m_phy)"
   ]
  },
  {
   "cell_type": "code",
   "execution_count": 82,
   "id": "5ef55d28",
   "metadata": {
    "scrolled": true
   },
   "outputs": [
    {
     "name": "stderr",
     "output_type": "stream",
     "text": [
      "Model contains polynomial or cubic / quadratic terms. Consider using `terms=\"gender [all]\"` to get smooth plots. See also package-vignette 'Marginal Effects at Specific Values'.\n"
     ]
    }
   ],
   "source": [
    "# weighted average for factor variable, median for non-factor variables\n",
    "MEs = ggemmeans(m_phy, terms=c('gender'), typical='median')"
   ]
  },
  {
   "cell_type": "code",
   "execution_count": 83,
   "id": "c9ffbb0c",
   "metadata": {},
   "outputs": [
    {
     "data": {
      "text/html": [
       "<table>\n",
       "<thead><tr><th scope=col>x</th><th scope=col>predicted</th><th scope=col>std.error</th><th scope=col>conf.low</th><th scope=col>conf.high</th><th scope=col>group</th></tr></thead>\n",
       "<tbody>\n",
       "\t<tr><td>Male      </td><td>0.07186789</td><td>0.02591246</td><td>0.06855301</td><td>0.07533010</td><td>1         </td></tr>\n",
       "\t<tr><td>Female    </td><td>0.05729334</td><td>0.02856680</td><td>0.05434317</td><td>0.06039343</td><td>1         </td></tr>\n",
       "</tbody>\n",
       "</table>\n"
      ],
      "text/latex": [
       "\\begin{tabular}{r|llllll}\n",
       " x & predicted & std.error & conf.low & conf.high & group\\\\\n",
       "\\hline\n",
       "\t Male       & 0.07186789 & 0.02591246 & 0.06855301 & 0.07533010 & 1         \\\\\n",
       "\t Female     & 0.05729334 & 0.02856680 & 0.05434317 & 0.06039343 & 1         \\\\\n",
       "\\end{tabular}\n"
      ],
      "text/markdown": [
       "\n",
       "| x | predicted | std.error | conf.low | conf.high | group |\n",
       "|---|---|---|---|---|---|\n",
       "| Male       | 0.07186789 | 0.02591246 | 0.06855301 | 0.07533010 | 1          |\n",
       "| Female     | 0.05729334 | 0.02856680 | 0.05434317 | 0.06039343 | 1          |\n",
       "\n"
      ],
      "text/plain": [
       "  x      predicted  std.error  conf.low   conf.high  group\n",
       "1 Male   0.07186789 0.02591246 0.06855301 0.07533010 1    \n",
       "2 Female 0.05729334 0.02856680 0.05434317 0.06039343 1    "
      ]
     },
     "metadata": {},
     "output_type": "display_data"
    }
   ],
   "source": [
    "MEs"
   ]
  },
  {
   "cell_type": "code",
   "execution_count": 84,
   "id": "a89e019b",
   "metadata": {},
   "outputs": [],
   "source": [
    "write.csv(MEs, paste(data_root, \"pred_phy.csv\", sep = ''), row.names=FALSE)"
   ]
  },
  {
   "cell_type": "markdown",
   "id": "fa0c6268",
   "metadata": {},
   "source": [
    "Health Sciences"
   ]
  },
  {
   "cell_type": "code",
   "execution_count": 85,
   "id": "642f7d2a",
   "metadata": {},
   "outputs": [
    {
     "name": "stderr",
     "output_type": "stream",
     "text": [
      "fixed-effect model matrix is rank deficient so dropping 3 columns / coefficients\n"
     ]
    }
   ],
   "source": [
    "base_str <- \"self_promotion ~ 1 + gender + authorship_pos + author_pub_count_cate + I(author_pub_count_cate^2) + \\\n",
    "            affiliation_rank_cate + affiliation_cate + num_authors + journal_impact + author_citation_log\"\n",
    "equation <- as.formula(paste(base_str, \" + (1|doi)\", keywords, sep = \" \"))\n",
    "m_health <- glmer(formula = equation, data = mydata[mydata$Health_Sciences == 1, ], \n",
    "                     family = \"binomial\", control = glmerControl(optimizer = \"nloptwrap\"), nAGQ = 0)\n"
   ]
  },
  {
   "cell_type": "code",
   "execution_count": 86,
   "id": "753139c3",
   "metadata": {
    "scrolled": true
   },
   "outputs": [
    {
     "data": {
      "text/html": [
       "<table>\n",
       "<thead><tr><th scope=col>effect</th><th scope=col>group</th><th scope=col>term</th><th scope=col>estimate</th><th scope=col>std.error</th><th scope=col>statistic</th><th scope=col>p.value</th></tr></thead>\n",
       "<tbody>\n",
       "\t<tr><td>fixed                                       </td><td>NA                                          </td><td>(Intercept)                                 </td><td>-3.300210562                                </td><td>0.0514420771                                </td><td>-64.1539134                                 </td><td> 0.000000e+00                               </td></tr>\n",
       "\t<tr><td>fixed                                       </td><td>NA                                          </td><td>genderFemale                                </td><td>-0.239625755                                </td><td>0.0113357675                                </td><td>-21.1389088                                 </td><td> 3.490551e-99                               </td></tr>\n",
       "\t<tr><td>fixed                                       </td><td>NA                                          </td><td>authorship_posfirst_position                </td><td> 0.411643306                                </td><td>0.0158972523                                </td><td> 25.8939909                                 </td><td>7.782861e-148                               </td></tr>\n",
       "\t<tr><td>fixed                                       </td><td>NA                                          </td><td>authorship_posmiddle_position               </td><td>-0.657921207                                </td><td>0.0137467628                                </td><td>-47.8600828                                 </td><td> 0.000000e+00                               </td></tr>\n",
       "\t<tr><td>fixed                                       </td><td>NA                                          </td><td>authorship_possolo_author                   </td><td> 0.684666384                                </td><td>0.0447980556                                </td><td> 15.2833951                                 </td><td> 9.866373e-53                               </td></tr>\n",
       "\t<tr><td>fixed                                       </td><td>NA                                          </td><td>author_pub_count_cate                       </td><td> 0.383150418                                </td><td>0.0094654677                                </td><td> 40.4787623                                 </td><td> 0.000000e+00                               </td></tr>\n",
       "\t<tr><td>fixed                                       </td><td>NA                                          </td><td>I(author_pub_count_cate^2)                  </td><td>-0.025751318                                </td><td>0.0008892475                                </td><td>-28.9585491                                 </td><td>2.190276e-184                               </td></tr>\n",
       "\t<tr><td>fixed                                       </td><td>NA                                          </td><td>affiliation_rank_cate                       </td><td>-0.045559152                                </td><td>0.0021875384                                </td><td>-20.8266755                                 </td><td> 2.480958e-96                               </td></tr>\n",
       "\t<tr><td>fixed                                       </td><td>NA                                          </td><td>affiliation_cateinternational               </td><td> 0.116611872                                </td><td>0.0139577222                                </td><td>  8.3546492                                 </td><td> 6.562746e-17                               </td></tr>\n",
       "\t<tr><td>fixed                                       </td><td>NA                                          </td><td>num_authors                                 </td><td>-0.004713943                                </td><td>0.0005761530                                </td><td> -8.1817542                                 </td><td> 2.797411e-16                               </td></tr>\n",
       "\t<tr><td>fixed                                       </td><td>NA                                          </td><td>journal_impact                              </td><td> 0.029017494                                </td><td>0.0007880464                                </td><td> 36.8220644                                 </td><td>8.190174e-297                               </td></tr>\n",
       "\t<tr><td>fixed                                       </td><td>NA                                          </td><td>author_citation_log                         </td><td>-0.077694196                                </td><td>0.0031905226                                </td><td>-24.3515575                                 </td><td>5.581209e-131                               </td></tr>\n",
       "\t<tr><td>fixed                                       </td><td>NA                                          </td><td>Social_Sciences                             </td><td> 0.734717920                                </td><td>0.0378063892                                </td><td> 19.4336972                                 </td><td> 4.004522e-84                               </td></tr>\n",
       "\t<tr><td>fixed                                       </td><td>NA                                          </td><td>Materials_Science                           </td><td>-0.576545779                                </td><td>0.1936428341                                </td><td> -2.9773670                                 </td><td> 2.907358e-03                               </td></tr>\n",
       "\t<tr><td>fixed                                       </td><td>NA                                          </td><td>Engineering                                 </td><td>-0.017703873                                </td><td>0.0883842498                                </td><td> -0.2003057                                 </td><td> 8.412415e-01                               </td></tr>\n",
       "\t<tr><td>fixed                                       </td><td>NA                                          </td><td>Chemistry                                   </td><td>-0.162935600                                </td><td>0.1637582005                                </td><td> -0.9949767                                 </td><td> 3.197476e-01                               </td></tr>\n",
       "\t<tr><td>fixed                                       </td><td>NA                                          </td><td>Biochemistry__Genetics_and_Molecular_Biology</td><td>-0.460720142                                </td><td>0.0207859943                                </td><td>-22.1649316                                 </td><td>7.488366e-109                               </td></tr>\n",
       "\t<tr><td>fixed                                       </td><td>NA                                          </td><td>Medicine                                    </td><td> 0.191487649                                </td><td>0.0453844225                                </td><td>  4.2192373                                 </td><td> 2.451302e-05                               </td></tr>\n",
       "\t<tr><td>fixed                                       </td><td>NA                                          </td><td>Nursing                                     </td><td> 0.343469223                                </td><td>0.0326460729                                </td><td> 10.5209966                                 </td><td> 6.913836e-26                               </td></tr>\n",
       "\t<tr><td>fixed                                       </td><td>NA                                          </td><td>Agricultural_and_Biological_Sciences        </td><td> 0.903351696                                </td><td>0.0348268662                                </td><td> 25.9383572                                 </td><td>2.460613e-148                               </td></tr>\n",
       "\t<tr><td>fixed                                       </td><td>NA                                          </td><td>Pharmacology__Toxicology_and_Pharmaceutics  </td><td>-0.205198427                                </td><td>0.0458952290                                </td><td> -4.4710187                                 </td><td> 7.784789e-06                               </td></tr>\n",
       "\t<tr><td>fixed                                       </td><td>NA                                          </td><td>Neuroscience                                </td><td>-0.265073989                                </td><td>0.0322742591                                </td><td> -8.2131704                                 </td><td> 2.154235e-16                               </td></tr>\n",
       "\t<tr><td>fixed                                       </td><td>NA                                          </td><td>Business__Management_and_Accounting         </td><td>-0.262823773                                </td><td>0.4932243821                                </td><td> -0.5328686                                 </td><td> 5.941246e-01                               </td></tr>\n",
       "\t<tr><td>fixed                                       </td><td>NA                                          </td><td>Economics__Econometrics_and_Finance         </td><td>-0.324709423                                </td><td>0.3212415239                                </td><td> -1.0107953                                 </td><td> 3.121144e-01                               </td></tr>\n",
       "\t<tr><td>fixed                                       </td><td>NA                                          </td><td>Chemical_Engineering                        </td><td> 0.027361994                                </td><td>0.1887585469                                </td><td>  0.1449576                                 </td><td> 8.847443e-01                               </td></tr>\n",
       "\t<tr><td>fixed                                       </td><td>NA                                          </td><td>Physics_and_Astronomy                       </td><td>-0.478900532                                </td><td>0.1252302817                                </td><td> -3.8241592                                 </td><td> 1.312191e-04                               </td></tr>\n",
       "\t<tr><td>fixed                                       </td><td>NA                                          </td><td>Computer_Science                            </td><td>-0.193074043                                </td><td>0.1077365392                                </td><td> -1.7920944                                 </td><td> 7.311785e-02                               </td></tr>\n",
       "\t<tr><td>fixed                                       </td><td>NA                                          </td><td>Decision_Sciences                           </td><td>-0.415380355                                </td><td>0.2904132406                                </td><td> -1.4303079                                 </td><td> 1.526287e-01                               </td></tr>\n",
       "\t<tr><td>fixed                                       </td><td>NA                                          </td><td>Health_Professions                          </td><td> 0.974409284                                </td><td>0.0342185694                                </td><td> 28.4760381                                 </td><td>2.320287e-178                               </td></tr>\n",
       "\t<tr><td>fixed                                       </td><td>NA                                          </td><td>Psychology                                  </td><td>-0.556352215                                </td><td>0.0507058101                                </td><td>-10.9721591                                 </td><td> 5.201526e-28                               </td></tr>\n",
       "\t<tr><td>fixed                                       </td><td>NA                                          </td><td>Immunology_and_Microbiology                 </td><td>-0.087694163                                </td><td>0.0314966798                                </td><td> -2.7842351                                 </td><td> 5.365412e-03                               </td></tr>\n",
       "\t<tr><td>fixed                                       </td><td>NA                                          </td><td>Dentistry                                   </td><td>-0.816123874                                </td><td>0.1014435967                                </td><td> -8.0450999                                 </td><td> 8.617507e-16                               </td></tr>\n",
       "\t<tr><td>fixed                                       </td><td>NA                                          </td><td>Environmental_Science                       </td><td> 0.911109278                                </td><td>0.0730801595                                </td><td> 12.4672590                                 </td><td> 1.126341e-35                               </td></tr>\n",
       "\t<tr><td>fixed                                       </td><td>NA                                          </td><td>Mathematics                                 </td><td>-0.044395150                                </td><td>0.1009533576                                </td><td> -0.4397590                                 </td><td> 6.601116e-01                               </td></tr>\n",
       "\t<tr><td>fixed                                       </td><td>NA                                          </td><td>Arts_and_Humanities                         </td><td>-0.619253488                                </td><td>0.2120955437                                </td><td> -2.9196912                                 </td><td> 3.503784e-03                               </td></tr>\n",
       "\t<tr><td>fixed                                       </td><td>NA                                          </td><td>Veterinary                                  </td><td>-0.692517072                                </td><td>0.0688129973                                </td><td>-10.0637539                                 </td><td> 7.989259e-24                               </td></tr>\n",
       "\t<tr><td>ran_pars                                    </td><td>doi                                         </td><td>sd__(Intercept)                             </td><td> 1.618405778                                </td><td>          NA                                </td><td>         NA                                 </td><td>           NA                               </td></tr>\n",
       "</tbody>\n",
       "</table>\n"
      ],
      "text/latex": [
       "\\begin{tabular}{r|lllllll}\n",
       " effect & group & term & estimate & std.error & statistic & p.value\\\\\n",
       "\\hline\n",
       "\t fixed                                        & NA                                           & (Intercept)                                  & -3.300210562                                 & 0.0514420771                                 & -64.1539134                                  &  0.000000e+00                               \\\\\n",
       "\t fixed                                        & NA                                           & genderFemale                                 & -0.239625755                                 & 0.0113357675                                 & -21.1389088                                  &  3.490551e-99                               \\\\\n",
       "\t fixed                                            & NA                                               & authorship\\_posfirst\\_position                 &  0.411643306                                     & 0.0158972523                                     &  25.8939909                                      & 7.782861e-148                                   \\\\\n",
       "\t fixed                                            & NA                                               & authorship\\_posmiddle\\_position                & -0.657921207                                     & 0.0137467628                                     & -47.8600828                                      &  0.000000e+00                                   \\\\\n",
       "\t fixed                                            & NA                                               & authorship\\_possolo\\_author                    &  0.684666384                                     & 0.0447980556                                     &  15.2833951                                      &  9.866373e-53                                   \\\\\n",
       "\t fixed                                              & NA                                                 & author\\_pub\\_count\\_cate                        &  0.383150418                                       & 0.0094654677                                       &  40.4787623                                        &  0.000000e+00                                     \\\\\n",
       "\t fixed                                                                & NA                                                                   & I(author\\_pub\\_count\\_cate\\textasciicircum{}2)                   & -0.025751318                                                         & 0.0008892475                                                         & -28.9585491                                                          & 2.190276e-184                                                       \\\\\n",
       "\t fixed                                            & NA                                               & affiliation\\_rank\\_cate                        & -0.045559152                                     & 0.0021875384                                     & -20.8266755                                      &  2.480958e-96                                   \\\\\n",
       "\t fixed                                          & NA                                             & affiliation\\_cateinternational                &  0.116611872                                   & 0.0139577222                                   &   8.3546492                                    &  6.562746e-17                                 \\\\\n",
       "\t fixed                                          & NA                                             & num\\_authors                                  & -0.004713943                                   & 0.0005761530                                   &  -8.1817542                                    &  2.797411e-16                                 \\\\\n",
       "\t fixed                                          & NA                                             & journal\\_impact                               &  0.029017494                                   & 0.0007880464                                   &  36.8220644                                    & 8.190174e-297                                 \\\\\n",
       "\t fixed                                            & NA                                               & author\\_citation\\_log                          & -0.077694196                                     & 0.0031905226                                     & -24.3515575                                      & 5.581209e-131                                   \\\\\n",
       "\t fixed                                          & NA                                             & Social\\_Sciences                              &  0.734717920                                   & 0.0378063892                                   &  19.4336972                                    &  4.004522e-84                                 \\\\\n",
       "\t fixed                                          & NA                                             & Materials\\_Science                            & -0.576545779                                   & 0.1936428341                                   &  -2.9773670                                    &  2.907358e-03                                 \\\\\n",
       "\t fixed                                        & NA                                           & Engineering                                  & -0.017703873                                 & 0.0883842498                                 &  -0.2003057                                  &  8.412415e-01                               \\\\\n",
       "\t fixed                                        & NA                                           & Chemistry                                    & -0.162935600                                 & 0.1637582005                                 &  -0.9949767                                  &  3.197476e-01                               \\\\\n",
       "\t fixed                                                  & NA                                                     & Biochemistry\\_\\_Genetics\\_and\\_Molecular\\_Biology & -0.460720142                                           & 0.0207859943                                           & -22.1649316                                            & 7.488366e-109                                         \\\\\n",
       "\t fixed                                        & NA                                           & Medicine                                     &  0.191487649                                 & 0.0453844225                                 &   4.2192373                                  &  2.451302e-05                               \\\\\n",
       "\t fixed                                        & NA                                           & Nursing                                      &  0.343469223                                 & 0.0326460729                                 &  10.5209966                                  &  6.913836e-26                               \\\\\n",
       "\t fixed                                              & NA                                                 & Agricultural\\_and\\_Biological\\_Sciences         &  0.903351696                                       & 0.0348268662                                       &  25.9383572                                        & 2.460613e-148                                     \\\\\n",
       "\t fixed                                                & NA                                                   & Pharmacology\\_\\_Toxicology\\_and\\_Pharmaceutics   & -0.205198427                                         & 0.0458952290                                         &  -4.4710187                                          &  7.784789e-06                                       \\\\\n",
       "\t fixed                                        & NA                                           & Neuroscience                                 & -0.265073989                                 & 0.0322742591                                 &  -8.2131704                                  &  2.154235e-16                               \\\\\n",
       "\t fixed                                                & NA                                                   & Business\\_\\_Management\\_and\\_Accounting          & -0.262823773                                         & 0.4932243821                                         &  -0.5328686                                          &  5.941246e-01                                       \\\\\n",
       "\t fixed                                                & NA                                                   & Economics\\_\\_Econometrics\\_and\\_Finance          & -0.324709423                                         & 0.3212415239                                         &  -1.0107953                                          &  3.121144e-01                                       \\\\\n",
       "\t fixed                                          & NA                                             & Chemical\\_Engineering                         &  0.027361994                                   & 0.1887585469                                   &   0.1449576                                    &  8.847443e-01                                 \\\\\n",
       "\t fixed                                            & NA                                               & Physics\\_and\\_Astronomy                        & -0.478900532                                     & 0.1252302817                                     &  -3.8241592                                      &  1.312191e-04                                   \\\\\n",
       "\t fixed                                          & NA                                             & Computer\\_Science                             & -0.193074043                                   & 0.1077365392                                   &  -1.7920944                                    &  7.311785e-02                                 \\\\\n",
       "\t fixed                                          & NA                                             & Decision\\_Sciences                            & -0.415380355                                   & 0.2904132406                                   &  -1.4303079                                    &  1.526287e-01                                 \\\\\n",
       "\t fixed                                          & NA                                             & Health\\_Professions                           &  0.974409284                                   & 0.0342185694                                   &  28.4760381                                    & 2.320287e-178                                 \\\\\n",
       "\t fixed                                        & NA                                           & Psychology                                   & -0.556352215                                 & 0.0507058101                                 & -10.9721591                                  &  5.201526e-28                               \\\\\n",
       "\t fixed                                            & NA                                               & Immunology\\_and\\_Microbiology                  & -0.087694163                                     & 0.0314966798                                     &  -2.7842351                                      &  5.365412e-03                                   \\\\\n",
       "\t fixed                                        & NA                                           & Dentistry                                    & -0.816123874                                 & 0.1014435967                                 &  -8.0450999                                  &  8.617507e-16                               \\\\\n",
       "\t fixed                                          & NA                                             & Environmental\\_Science                        &  0.911109278                                   & 0.0730801595                                   &  12.4672590                                    &  1.126341e-35                                 \\\\\n",
       "\t fixed                                        & NA                                           & Mathematics                                  & -0.044395150                                 & 0.1009533576                                 &  -0.4397590                                  &  6.601116e-01                               \\\\\n",
       "\t fixed                                            & NA                                               & Arts\\_and\\_Humanities                          & -0.619253488                                     & 0.2120955437                                     &  -2.9196912                                      &  3.503784e-03                                   \\\\\n",
       "\t fixed                                        & NA                                           & Veterinary                                   & -0.692517072                                 & 0.0688129973                                 & -10.0637539                                  &  7.989259e-24                               \\\\\n",
       "\t ran\\_pars                                       & doi                                              & sd\\_\\_(Intercept)                              &  1.618405778                                     &           NA                                     &          NA                                      &            NA                                   \\\\\n",
       "\\end{tabular}\n"
      ],
      "text/markdown": [
       "\n",
       "| effect | group | term | estimate | std.error | statistic | p.value |\n",
       "|---|---|---|---|---|---|---|\n",
       "| fixed                                        | NA                                           | (Intercept)                                  | -3.300210562                                 | 0.0514420771                                 | -64.1539134                                  |  0.000000e+00                                |\n",
       "| fixed                                        | NA                                           | genderFemale                                 | -0.239625755                                 | 0.0113357675                                 | -21.1389088                                  |  3.490551e-99                                |\n",
       "| fixed                                        | NA                                           | authorship_posfirst_position                 |  0.411643306                                 | 0.0158972523                                 |  25.8939909                                  | 7.782861e-148                                |\n",
       "| fixed                                        | NA                                           | authorship_posmiddle_position                | -0.657921207                                 | 0.0137467628                                 | -47.8600828                                  |  0.000000e+00                                |\n",
       "| fixed                                        | NA                                           | authorship_possolo_author                    |  0.684666384                                 | 0.0447980556                                 |  15.2833951                                  |  9.866373e-53                                |\n",
       "| fixed                                        | NA                                           | author_pub_count_cate                        |  0.383150418                                 | 0.0094654677                                 |  40.4787623                                  |  0.000000e+00                                |\n",
       "| fixed                                        | NA                                           | I(author_pub_count_cate^2)                   | -0.025751318                                 | 0.0008892475                                 | -28.9585491                                  | 2.190276e-184                                |\n",
       "| fixed                                        | NA                                           | affiliation_rank_cate                        | -0.045559152                                 | 0.0021875384                                 | -20.8266755                                  |  2.480958e-96                                |\n",
       "| fixed                                        | NA                                           | affiliation_cateinternational                |  0.116611872                                 | 0.0139577222                                 |   8.3546492                                  |  6.562746e-17                                |\n",
       "| fixed                                        | NA                                           | num_authors                                  | -0.004713943                                 | 0.0005761530                                 |  -8.1817542                                  |  2.797411e-16                                |\n",
       "| fixed                                        | NA                                           | journal_impact                               |  0.029017494                                 | 0.0007880464                                 |  36.8220644                                  | 8.190174e-297                                |\n",
       "| fixed                                        | NA                                           | author_citation_log                          | -0.077694196                                 | 0.0031905226                                 | -24.3515575                                  | 5.581209e-131                                |\n",
       "| fixed                                        | NA                                           | Social_Sciences                              |  0.734717920                                 | 0.0378063892                                 |  19.4336972                                  |  4.004522e-84                                |\n",
       "| fixed                                        | NA                                           | Materials_Science                            | -0.576545779                                 | 0.1936428341                                 |  -2.9773670                                  |  2.907358e-03                                |\n",
       "| fixed                                        | NA                                           | Engineering                                  | -0.017703873                                 | 0.0883842498                                 |  -0.2003057                                  |  8.412415e-01                                |\n",
       "| fixed                                        | NA                                           | Chemistry                                    | -0.162935600                                 | 0.1637582005                                 |  -0.9949767                                  |  3.197476e-01                                |\n",
       "| fixed                                        | NA                                           | Biochemistry__Genetics_and_Molecular_Biology | -0.460720142                                 | 0.0207859943                                 | -22.1649316                                  | 7.488366e-109                                |\n",
       "| fixed                                        | NA                                           | Medicine                                     |  0.191487649                                 | 0.0453844225                                 |   4.2192373                                  |  2.451302e-05                                |\n",
       "| fixed                                        | NA                                           | Nursing                                      |  0.343469223                                 | 0.0326460729                                 |  10.5209966                                  |  6.913836e-26                                |\n",
       "| fixed                                        | NA                                           | Agricultural_and_Biological_Sciences         |  0.903351696                                 | 0.0348268662                                 |  25.9383572                                  | 2.460613e-148                                |\n",
       "| fixed                                        | NA                                           | Pharmacology__Toxicology_and_Pharmaceutics   | -0.205198427                                 | 0.0458952290                                 |  -4.4710187                                  |  7.784789e-06                                |\n",
       "| fixed                                        | NA                                           | Neuroscience                                 | -0.265073989                                 | 0.0322742591                                 |  -8.2131704                                  |  2.154235e-16                                |\n",
       "| fixed                                        | NA                                           | Business__Management_and_Accounting          | -0.262823773                                 | 0.4932243821                                 |  -0.5328686                                  |  5.941246e-01                                |\n",
       "| fixed                                        | NA                                           | Economics__Econometrics_and_Finance          | -0.324709423                                 | 0.3212415239                                 |  -1.0107953                                  |  3.121144e-01                                |\n",
       "| fixed                                        | NA                                           | Chemical_Engineering                         |  0.027361994                                 | 0.1887585469                                 |   0.1449576                                  |  8.847443e-01                                |\n",
       "| fixed                                        | NA                                           | Physics_and_Astronomy                        | -0.478900532                                 | 0.1252302817                                 |  -3.8241592                                  |  1.312191e-04                                |\n",
       "| fixed                                        | NA                                           | Computer_Science                             | -0.193074043                                 | 0.1077365392                                 |  -1.7920944                                  |  7.311785e-02                                |\n",
       "| fixed                                        | NA                                           | Decision_Sciences                            | -0.415380355                                 | 0.2904132406                                 |  -1.4303079                                  |  1.526287e-01                                |\n",
       "| fixed                                        | NA                                           | Health_Professions                           |  0.974409284                                 | 0.0342185694                                 |  28.4760381                                  | 2.320287e-178                                |\n",
       "| fixed                                        | NA                                           | Psychology                                   | -0.556352215                                 | 0.0507058101                                 | -10.9721591                                  |  5.201526e-28                                |\n",
       "| fixed                                        | NA                                           | Immunology_and_Microbiology                  | -0.087694163                                 | 0.0314966798                                 |  -2.7842351                                  |  5.365412e-03                                |\n",
       "| fixed                                        | NA                                           | Dentistry                                    | -0.816123874                                 | 0.1014435967                                 |  -8.0450999                                  |  8.617507e-16                                |\n",
       "| fixed                                        | NA                                           | Environmental_Science                        |  0.911109278                                 | 0.0730801595                                 |  12.4672590                                  |  1.126341e-35                                |\n",
       "| fixed                                        | NA                                           | Mathematics                                  | -0.044395150                                 | 0.1009533576                                 |  -0.4397590                                  |  6.601116e-01                                |\n",
       "| fixed                                        | NA                                           | Arts_and_Humanities                          | -0.619253488                                 | 0.2120955437                                 |  -2.9196912                                  |  3.503784e-03                                |\n",
       "| fixed                                        | NA                                           | Veterinary                                   | -0.692517072                                 | 0.0688129973                                 | -10.0637539                                  |  7.989259e-24                                |\n",
       "| ran_pars                                     | doi                                          | sd__(Intercept)                              |  1.618405778                                 |           NA                                 |          NA                                  |            NA                                |\n",
       "\n"
      ],
      "text/plain": [
       "   effect   group term                                         estimate    \n",
       "1  fixed    NA    (Intercept)                                  -3.300210562\n",
       "2  fixed    NA    genderFemale                                 -0.239625755\n",
       "3  fixed    NA    authorship_posfirst_position                  0.411643306\n",
       "4  fixed    NA    authorship_posmiddle_position                -0.657921207\n",
       "5  fixed    NA    authorship_possolo_author                     0.684666384\n",
       "6  fixed    NA    author_pub_count_cate                         0.383150418\n",
       "7  fixed    NA    I(author_pub_count_cate^2)                   -0.025751318\n",
       "8  fixed    NA    affiliation_rank_cate                        -0.045559152\n",
       "9  fixed    NA    affiliation_cateinternational                 0.116611872\n",
       "10 fixed    NA    num_authors                                  -0.004713943\n",
       "11 fixed    NA    journal_impact                                0.029017494\n",
       "12 fixed    NA    author_citation_log                          -0.077694196\n",
       "13 fixed    NA    Social_Sciences                               0.734717920\n",
       "14 fixed    NA    Materials_Science                            -0.576545779\n",
       "15 fixed    NA    Engineering                                  -0.017703873\n",
       "16 fixed    NA    Chemistry                                    -0.162935600\n",
       "17 fixed    NA    Biochemistry__Genetics_and_Molecular_Biology -0.460720142\n",
       "18 fixed    NA    Medicine                                      0.191487649\n",
       "19 fixed    NA    Nursing                                       0.343469223\n",
       "20 fixed    NA    Agricultural_and_Biological_Sciences          0.903351696\n",
       "21 fixed    NA    Pharmacology__Toxicology_and_Pharmaceutics   -0.205198427\n",
       "22 fixed    NA    Neuroscience                                 -0.265073989\n",
       "23 fixed    NA    Business__Management_and_Accounting          -0.262823773\n",
       "24 fixed    NA    Economics__Econometrics_and_Finance          -0.324709423\n",
       "25 fixed    NA    Chemical_Engineering                          0.027361994\n",
       "26 fixed    NA    Physics_and_Astronomy                        -0.478900532\n",
       "27 fixed    NA    Computer_Science                             -0.193074043\n",
       "28 fixed    NA    Decision_Sciences                            -0.415380355\n",
       "29 fixed    NA    Health_Professions                            0.974409284\n",
       "30 fixed    NA    Psychology                                   -0.556352215\n",
       "31 fixed    NA    Immunology_and_Microbiology                  -0.087694163\n",
       "32 fixed    NA    Dentistry                                    -0.816123874\n",
       "33 fixed    NA    Environmental_Science                         0.911109278\n",
       "34 fixed    NA    Mathematics                                  -0.044395150\n",
       "35 fixed    NA    Arts_and_Humanities                          -0.619253488\n",
       "36 fixed    NA    Veterinary                                   -0.692517072\n",
       "37 ran_pars doi   sd__(Intercept)                               1.618405778\n",
       "   std.error    statistic   p.value      \n",
       "1  0.0514420771 -64.1539134  0.000000e+00\n",
       "2  0.0113357675 -21.1389088  3.490551e-99\n",
       "3  0.0158972523  25.8939909 7.782861e-148\n",
       "4  0.0137467628 -47.8600828  0.000000e+00\n",
       "5  0.0447980556  15.2833951  9.866373e-53\n",
       "6  0.0094654677  40.4787623  0.000000e+00\n",
       "7  0.0008892475 -28.9585491 2.190276e-184\n",
       "8  0.0021875384 -20.8266755  2.480958e-96\n",
       "9  0.0139577222   8.3546492  6.562746e-17\n",
       "10 0.0005761530  -8.1817542  2.797411e-16\n",
       "11 0.0007880464  36.8220644 8.190174e-297\n",
       "12 0.0031905226 -24.3515575 5.581209e-131\n",
       "13 0.0378063892  19.4336972  4.004522e-84\n",
       "14 0.1936428341  -2.9773670  2.907358e-03\n",
       "15 0.0883842498  -0.2003057  8.412415e-01\n",
       "16 0.1637582005  -0.9949767  3.197476e-01\n",
       "17 0.0207859943 -22.1649316 7.488366e-109\n",
       "18 0.0453844225   4.2192373  2.451302e-05\n",
       "19 0.0326460729  10.5209966  6.913836e-26\n",
       "20 0.0348268662  25.9383572 2.460613e-148\n",
       "21 0.0458952290  -4.4710187  7.784789e-06\n",
       "22 0.0322742591  -8.2131704  2.154235e-16\n",
       "23 0.4932243821  -0.5328686  5.941246e-01\n",
       "24 0.3212415239  -1.0107953  3.121144e-01\n",
       "25 0.1887585469   0.1449576  8.847443e-01\n",
       "26 0.1252302817  -3.8241592  1.312191e-04\n",
       "27 0.1077365392  -1.7920944  7.311785e-02\n",
       "28 0.2904132406  -1.4303079  1.526287e-01\n",
       "29 0.0342185694  28.4760381 2.320287e-178\n",
       "30 0.0507058101 -10.9721591  5.201526e-28\n",
       "31 0.0314966798  -2.7842351  5.365412e-03\n",
       "32 0.1014435967  -8.0450999  8.617507e-16\n",
       "33 0.0730801595  12.4672590  1.126341e-35\n",
       "34 0.1009533576  -0.4397590  6.601116e-01\n",
       "35 0.2120955437  -2.9196912  3.503784e-03\n",
       "36 0.0688129973 -10.0637539  7.989259e-24\n",
       "37           NA          NA            NA"
      ]
     },
     "metadata": {},
     "output_type": "display_data"
    }
   ],
   "source": [
    "tidy(m_health)"
   ]
  },
  {
   "cell_type": "code",
   "execution_count": 87,
   "id": "fc57cdfd",
   "metadata": {
    "scrolled": true
   },
   "outputs": [
    {
     "name": "stderr",
     "output_type": "stream",
     "text": [
      "Model contains polynomial or cubic / quadratic terms. Consider using `terms=\"gender [all]\"` to get smooth plots. See also package-vignette 'Marginal Effects at Specific Values'.\n"
     ]
    }
   ],
   "source": [
    "# weighted average for factor variable, median for non-factor variables\n",
    "MEs = ggemmeans(m_health, terms=c('gender'), typical='median')"
   ]
  },
  {
   "cell_type": "code",
   "execution_count": 88,
   "id": "d6b5518f",
   "metadata": {},
   "outputs": [
    {
     "data": {
      "text/html": [
       "<table>\n",
       "<thead><tr><th scope=col>x</th><th scope=col>predicted</th><th scope=col>std.error</th><th scope=col>conf.low</th><th scope=col>conf.high</th><th scope=col>group</th></tr></thead>\n",
       "<tbody>\n",
       "\t<tr><td>Male      </td><td>0.07175774</td><td>0.01597062</td><td>0.06970051</td><td>0.07387086</td><td>1         </td></tr>\n",
       "\t<tr><td>Female    </td><td>0.05734456</td><td>0.01685765</td><td>0.05558443</td><td>0.05915694</td><td>1         </td></tr>\n",
       "</tbody>\n",
       "</table>\n"
      ],
      "text/latex": [
       "\\begin{tabular}{r|llllll}\n",
       " x & predicted & std.error & conf.low & conf.high & group\\\\\n",
       "\\hline\n",
       "\t Male       & 0.07175774 & 0.01597062 & 0.06970051 & 0.07387086 & 1         \\\\\n",
       "\t Female     & 0.05734456 & 0.01685765 & 0.05558443 & 0.05915694 & 1         \\\\\n",
       "\\end{tabular}\n"
      ],
      "text/markdown": [
       "\n",
       "| x | predicted | std.error | conf.low | conf.high | group |\n",
       "|---|---|---|---|---|---|\n",
       "| Male       | 0.07175774 | 0.01597062 | 0.06970051 | 0.07387086 | 1          |\n",
       "| Female     | 0.05734456 | 0.01685765 | 0.05558443 | 0.05915694 | 1          |\n",
       "\n"
      ],
      "text/plain": [
       "  x      predicted  std.error  conf.low   conf.high  group\n",
       "1 Male   0.07175774 0.01597062 0.06970051 0.07387086 1    \n",
       "2 Female 0.05734456 0.01685765 0.05558443 0.05915694 1    "
      ]
     },
     "metadata": {},
     "output_type": "display_data"
    }
   ],
   "source": [
    "MEs"
   ]
  },
  {
   "cell_type": "code",
   "execution_count": 89,
   "id": "b39efbe5",
   "metadata": {},
   "outputs": [],
   "source": [
    "write.csv(MEs, paste(data_root, \"pred_health.csv\", sep = ''), row.names=FALSE)"
   ]
  },
  {
   "cell_type": "code",
   "execution_count": null,
   "id": "87b3e742",
   "metadata": {},
   "outputs": [],
   "source": []
  }
 ],
 "metadata": {
  "kernelspec": {
   "display_name": "R",
   "language": "R",
   "name": "ir"
  },
  "language_info": {
   "codemirror_mode": "r",
   "file_extension": ".r",
   "mimetype": "text/x-r-source",
   "name": "R",
   "pygments_lexer": "r",
   "version": "3.6.1"
  }
 },
 "nbformat": 4,
 "nbformat_minor": 5
}
