{
 "cells": [
  {
   "cell_type": "markdown",
   "id": "3f46bac7",
   "metadata": {},
   "source": [
    "## Return on self-promotion"
   ]
  },
  {
   "cell_type": "code",
   "execution_count": 1,
   "id": "7d0dc406",
   "metadata": {},
   "outputs": [],
   "source": [
    "data_root <- \"~/Data/Promotion/\""
   ]
  },
  {
   "cell_type": "code",
   "execution_count": 2,
   "id": "20faa31c",
   "metadata": {},
   "outputs": [
    {
     "name": "stderr",
     "output_type": "stream",
     "text": [
      "Loading required package: Matrix\n",
      "\n",
      "Please cite as: \n",
      "\n",
      " Hlavac, Marek (2018). stargazer: Well-Formatted Regression and Summary Statistics Tables.\n",
      " R package version 5.2.2. https://CRAN.R-project.org/package=stargazer \n",
      "\n",
      "Classes and Methods for R developed in the\n",
      "Political Science Computational Laboratory\n",
      "Department of Political Science\n",
      "Stanford University\n",
      "Simon Jackman\n",
      "hurdle and zeroinfl functions by Achim Zeileis\n"
     ]
    }
   ],
   "source": [
    "library(\"lme4\")\n",
    "library(\"margins\")\n",
    "library(\"stargazer\")\n",
    "library(\"emmeans\")\n",
    "library(\"ggeffects\")\n",
    "library(\"broom\")\n",
    "library(\"broom.mixed\")\n",
    "library(\"MASS\")\n",
    "library(\"pscl\")"
   ]
  },
  {
   "cell_type": "code",
   "execution_count": 3,
   "id": "2145d0a3",
   "metadata": {},
   "outputs": [],
   "source": [
    "options(repr.matrix.max.rows=500, repr.matrix.max.cols=200)"
   ]
  },
  {
   "cell_type": "code",
   "execution_count": 4,
   "id": "b0c845a6",
   "metadata": {},
   "outputs": [],
   "source": [
    "mydata <- read.csv(paste(data_root, \"reg_data_drop_missing.csv\", sep = ''), header = TRUE)"
   ]
  },
  {
   "cell_type": "code",
   "execution_count": 5,
   "id": "9f6c2a04",
   "metadata": {
    "scrolled": false
   },
   "outputs": [
    {
     "data": {
      "text/html": [
       "3073001"
      ],
      "text/latex": [
       "3073001"
      ],
      "text/markdown": [
       "3073001"
      ],
      "text/plain": [
       "[1] 3073001"
      ]
     },
     "metadata": {},
     "output_type": "display_data"
    }
   ],
   "source": [
    "nrow(mydata)"
   ]
  },
  {
   "cell_type": "code",
   "execution_count": 6,
   "id": "85ff3ef1",
   "metadata": {
    "scrolled": true
   },
   "outputs": [
    {
     "data": {
      "text/html": [
       "72"
      ],
      "text/latex": [
       "72"
      ],
      "text/markdown": [
       "72"
      ],
      "text/plain": [
       "[1] 72"
      ]
     },
     "metadata": {},
     "output_type": "display_data"
    }
   ],
   "source": [
    "ncol(mydata)"
   ]
  },
  {
   "cell_type": "code",
   "execution_count": 8,
   "id": "30e42c81",
   "metadata": {},
   "outputs": [],
   "source": [
    "mydata = mydata[mydata$gender %in% c(\"Male\", \"Female\"), ]"
   ]
  },
  {
   "cell_type": "code",
   "execution_count": 9,
   "id": "15bfcec2",
   "metadata": {
    "scrolled": false
   },
   "outputs": [
    {
     "data": {
      "text/html": [
       "2380098"
      ],
      "text/latex": [
       "2380098"
      ],
      "text/markdown": [
       "2380098"
      ],
      "text/plain": [
       "[1] 2380098"
      ]
     },
     "metadata": {},
     "output_type": "display_data"
    }
   ],
   "source": [
    "nrow(mydata)"
   ]
  },
  {
   "cell_type": "code",
   "execution_count": 10,
   "id": "5be5b2b3",
   "metadata": {},
   "outputs": [],
   "source": [
    "mydata = mydata[mydata$affiliation_cate != 'unknown', ]"
   ]
  },
  {
   "cell_type": "code",
   "execution_count": 11,
   "id": "8520197d",
   "metadata": {
    "scrolled": false
   },
   "outputs": [
    {
     "data": {
      "text/html": [
       "2375419"
      ],
      "text/latex": [
       "2375419"
      ],
      "text/markdown": [
       "2375419"
      ],
      "text/plain": [
       "[1] 2375419"
      ]
     },
     "metadata": {},
     "output_type": "display_data"
    }
   ],
   "source": [
    "nrow(mydata)"
   ]
  },
  {
   "cell_type": "code",
   "execution_count": 12,
   "id": "ea404342",
   "metadata": {},
   "outputs": [],
   "source": [
    "mydata <- within(mydata, gender <- relevel(gender, ref = 'Male'))\n",
    "mydata <- within(mydata, authorship_pos <- relevel(authorship_pos, ref = 'last_position'))\n",
    "# mydata <- within(mydata, is_corresponding <- relevel(is_corresponding, ref = 'yes'))\n",
    "mydata <- within(mydata, affiliation_cate <- relevel(affiliation_cate, ref = 'domestic'))"
   ]
  },
  {
   "cell_type": "code",
   "execution_count": 13,
   "id": "22406164",
   "metadata": {},
   "outputs": [],
   "source": [
    "keywords <- \" + Social_Sciences + Materials_Science + Engineering + Chemistry + \\\n",
    "        Biochemistry__Genetics_and_Molecular_Biology + Medicine + Nursing + Agricultural_and_Biological_Sciences + \\\n",
    "        Pharmacology__Toxicology_and_Pharmaceutics + Neuroscience + Business__Management_and_Accounting + \\\n",
    "        Economics__Econometrics_and_Finance + Chemical_Engineering + Physics_and_Astronomy + Computer_Science + \\\n",
    "        Decision_Sciences + Health_Professions + Psychology + Immunology_and_Microbiology + Dentistry + \\\n",
    "        Earth_and_Planetary_Sciences + Environmental_Science + Mathematics + Arts_and_Humanities + Energy + \\\n",
    "        Veterinary + General\""
   ]
  },
  {
   "cell_type": "code",
   "execution_count": 14,
   "id": "8123bfc9",
   "metadata": {},
   "outputs": [],
   "source": [
    "mydata$author_citation_log <- log2(1 + mydata$author_citation)"
   ]
  },
  {
   "cell_type": "code",
   "execution_count": 15,
   "id": "b99b53e8",
   "metadata": {},
   "outputs": [],
   "source": [
    "mydata$matched_tid_follower_cn_log <- log2(1 + mydata$matched_tid_follower_cn)"
   ]
  },
  {
   "cell_type": "markdown",
   "id": "905776de",
   "metadata": {},
   "source": [
    "## Num of scientists"
   ]
  },
  {
   "cell_type": "markdown",
   "id": "9055bfba",
   "metadata": {},
   "source": [
    "### All observations"
   ]
  },
  {
   "cell_type": "code",
   "execution_count": 16,
   "id": "d765c779",
   "metadata": {},
   "outputs": [
    {
     "data": {
      "text/html": [
       "0"
      ],
      "text/latex": [
       "0"
      ],
      "text/markdown": [
       "0"
      ],
      "text/plain": [
       "[1] 0"
      ]
     },
     "metadata": {},
     "output_type": "display_data"
    }
   ],
   "source": [
    "min(mydata$researcher)"
   ]
  },
  {
   "cell_type": "code",
   "execution_count": 17,
   "id": "50ca1a46",
   "metadata": {
    "scrolled": true
   },
   "outputs": [
    {
     "data": {
      "text/html": [
       "3.70363254655521"
      ],
      "text/latex": [
       "3.70363254655521"
      ],
      "text/markdown": [
       "3.70363254655521"
      ],
      "text/plain": [
       "[1] 3.703633"
      ]
     },
     "metadata": {},
     "output_type": "display_data"
    }
   ],
   "source": [
    "mean(mydata[mydata$gender == \"Female\", 'researcher'])"
   ]
  },
  {
   "cell_type": "code",
   "execution_count": 18,
   "id": "4178d781",
   "metadata": {},
   "outputs": [
    {
     "data": {
      "text/html": [
       "4.04997164710537"
      ],
      "text/latex": [
       "4.04997164710537"
      ],
      "text/markdown": [
       "4.04997164710537"
      ],
      "text/plain": [
       "[1] 4.049972"
      ]
     },
     "metadata": {},
     "output_type": "display_data"
    }
   ],
   "source": [
    "mean(mydata[mydata$gender == \"Male\", 'researcher'])"
   ]
  },
  {
   "cell_type": "markdown",
   "id": "ec33dc1d",
   "metadata": {},
   "source": [
    "Negative Binomial Regression"
   ]
  },
  {
   "cell_type": "code",
   "execution_count": 19,
   "id": "d62db17f",
   "metadata": {},
   "outputs": [],
   "source": [
    "base_str <- \"researcher ~ 1 + gender\"\n",
    "m_binary_bar <- glm.nb(formula = base_str, data = mydata)"
   ]
  },
  {
   "cell_type": "code",
   "execution_count": 20,
   "id": "4436781c",
   "metadata": {
    "scrolled": true
   },
   "outputs": [
    {
     "data": {
      "text/html": [
       "<table>\n",
       "<thead><tr><th scope=col>term</th><th scope=col>estimate</th><th scope=col>std.error</th><th scope=col>statistic</th><th scope=col>p.value</th></tr></thead>\n",
       "<tbody>\n",
       "\t<tr><td>(Intercept)  </td><td> 1.39870988  </td><td>0.001806485  </td><td>774.27151    </td><td> 0.000000e+00</td></tr>\n",
       "\t<tr><td>genderFemale </td><td>-0.08939577  </td><td>0.003008843  </td><td>-29.71102    </td><td>5.533677e-194</td></tr>\n",
       "</tbody>\n",
       "</table>\n"
      ],
      "text/latex": [
       "\\begin{tabular}{r|lllll}\n",
       " term & estimate & std.error & statistic & p.value\\\\\n",
       "\\hline\n",
       "\t (Intercept)   &  1.39870988   & 0.001806485   & 774.27151     &  0.000000e+00\\\\\n",
       "\t genderFemale  & -0.08939577   & 0.003008843   & -29.71102     & 5.533677e-194\\\\\n",
       "\\end{tabular}\n"
      ],
      "text/markdown": [
       "\n",
       "| term | estimate | std.error | statistic | p.value |\n",
       "|---|---|---|---|---|\n",
       "| (Intercept)   |  1.39870988   | 0.001806485   | 774.27151     |  0.000000e+00 |\n",
       "| genderFemale  | -0.08939577   | 0.003008843   | -29.71102     | 5.533677e-194 |\n",
       "\n"
      ],
      "text/plain": [
       "  term         estimate    std.error   statistic p.value      \n",
       "1 (Intercept)   1.39870988 0.001806485 774.27151  0.000000e+00\n",
       "2 genderFemale -0.08939577 0.003008843 -29.71102 5.533677e-194"
      ]
     },
     "metadata": {},
     "output_type": "display_data"
    }
   ],
   "source": [
    "tidy(m_binary_bar)"
   ]
  },
  {
   "cell_type": "code",
   "execution_count": 21,
   "id": "778f8ccc",
   "metadata": {},
   "outputs": [],
   "source": [
    "base_str <- \"researcher ~ 1 + gender + journal_impact\"\n",
    "m_binary_bar <- glm.nb(formula = base_str, data = mydata)"
   ]
  },
  {
   "cell_type": "code",
   "execution_count": 22,
   "id": "627e1ca0",
   "metadata": {
    "scrolled": true
   },
   "outputs": [
    {
     "data": {
      "text/html": [
       "<table>\n",
       "<thead><tr><th scope=col>term</th><th scope=col>estimate</th><th scope=col>std.error</th><th scope=col>statistic</th><th scope=col>p.value</th></tr></thead>\n",
       "<tbody>\n",
       "\t<tr><td>(Intercept)   </td><td> 0.30161853   </td><td>0.0019578123  </td><td>154.058966    </td><td>0.000000e+00  </td></tr>\n",
       "\t<tr><td>genderFemale  </td><td>-0.01915782   </td><td>0.0026913464  </td><td> -7.118302    </td><td>1.092645e-12  </td></tr>\n",
       "\t<tr><td>journal_impact</td><td> 0.11681828   </td><td>0.0001763518  </td><td>662.416118    </td><td>0.000000e+00  </td></tr>\n",
       "</tbody>\n",
       "</table>\n"
      ],
      "text/latex": [
       "\\begin{tabular}{r|lllll}\n",
       " term & estimate & std.error & statistic & p.value\\\\\n",
       "\\hline\n",
       "\t (Intercept)    &  0.30161853    & 0.0019578123   & 154.058966     & 0.000000e+00  \\\\\n",
       "\t genderFemale   & -0.01915782    & 0.0026913464   &  -7.118302     & 1.092645e-12  \\\\\n",
       "\t journal\\_impact &  0.11681828      & 0.0001763518     & 662.416118       & 0.000000e+00    \\\\\n",
       "\\end{tabular}\n"
      ],
      "text/markdown": [
       "\n",
       "| term | estimate | std.error | statistic | p.value |\n",
       "|---|---|---|---|---|\n",
       "| (Intercept)    |  0.30161853    | 0.0019578123   | 154.058966     | 0.000000e+00   |\n",
       "| genderFemale   | -0.01915782    | 0.0026913464   |  -7.118302     | 1.092645e-12   |\n",
       "| journal_impact |  0.11681828    | 0.0001763518   | 662.416118     | 0.000000e+00   |\n",
       "\n"
      ],
      "text/plain": [
       "  term           estimate    std.error    statistic  p.value     \n",
       "1 (Intercept)     0.30161853 0.0019578123 154.058966 0.000000e+00\n",
       "2 genderFemale   -0.01915782 0.0026913464  -7.118302 1.092645e-12\n",
       "3 journal_impact  0.11681828 0.0001763518 662.416118 0.000000e+00"
      ]
     },
     "metadata": {},
     "output_type": "display_data"
    }
   ],
   "source": [
    "tidy(m_binary_bar)"
   ]
  },
  {
   "cell_type": "code",
   "execution_count": 19,
   "id": "f1b080de",
   "metadata": {},
   "outputs": [],
   "source": [
    "base_str <- \"researcher ~ 1 + gender * self_promotion + authorship_pos + \\\n",
    "        author_pub_count_cate + affiliation_rank_cate + affiliation_cate + num_authors + journal_impact + author_citation_log\"\n",
    "equation <- as.formula(paste(base_str, keywords, sep = \" \"))\n",
    "m_binary <- glm.nb(equation, data = mydata)"
   ]
  },
  {
   "cell_type": "code",
   "execution_count": 20,
   "id": "03f19b01",
   "metadata": {
    "scrolled": false
   },
   "outputs": [
    {
     "data": {
      "text/html": [
       "2375419"
      ],
      "text/latex": [
       "2375419"
      ],
      "text/markdown": [
       "2375419"
      ],
      "text/plain": [
       "[1] 2375419"
      ]
     },
     "metadata": {},
     "output_type": "display_data"
    }
   ],
   "source": [
    "nobs(m_binary)"
   ]
  },
  {
   "cell_type": "code",
   "execution_count": 21,
   "id": "c624dc5b",
   "metadata": {
    "scrolled": true
   },
   "outputs": [
    {
     "data": {
      "text/html": [
       "<table>\n",
       "<thead><tr><th scope=col>term</th><th scope=col>estimate</th><th scope=col>std.error</th><th scope=col>statistic</th><th scope=col>p.value</th></tr></thead>\n",
       "<tbody>\n",
       "\t<tr><td>(Intercept)                                 </td><td> 0.1953920879                               </td><td>5.250717e-03                                </td><td>  37.212458                                 </td><td>4.291401e-303                               </td></tr>\n",
       "\t<tr><td>genderFemale                                </td><td> 0.0173111281                               </td><td>2.665194e-03                                </td><td>   6.495261                                 </td><td> 8.288983e-11                               </td></tr>\n",
       "\t<tr><td>self_promotionTrue                          </td><td> 1.5947864710                               </td><td>5.204375e-03                                </td><td> 306.431879                                 </td><td> 0.000000e+00                               </td></tr>\n",
       "\t<tr><td>authorship_posfirst_position                </td><td> 0.0110787551                               </td><td>4.522136e-03                                </td><td>   2.449894                                 </td><td> 1.428981e-02                               </td></tr>\n",
       "\t<tr><td>authorship_posmiddle_position               </td><td> 0.3000863731                               </td><td>3.506016e-03                                </td><td>  85.591851                                 </td><td> 0.000000e+00                               </td></tr>\n",
       "\t<tr><td>authorship_possolo_author                   </td><td>-0.2065105354                               </td><td>1.129290e-02                                </td><td> -18.286752                                 </td><td> 1.055174e-74                               </td></tr>\n",
       "\t<tr><td>author_pub_count_cate                       </td><td>-0.1243237396                               </td><td>1.231410e-03                                </td><td>-100.960517                                 </td><td> 0.000000e+00                               </td></tr>\n",
       "\t<tr><td>affiliation_rank_cate                       </td><td>-0.0412932605                               </td><td>4.534460e-04                                </td><td> -91.065448                                 </td><td> 0.000000e+00                               </td></tr>\n",
       "\t<tr><td>affiliation_cateinternational               </td><td>-0.0974749361                               </td><td>2.665421e-03                                </td><td> -36.570185                                 </td><td>8.520293e-293                               </td></tr>\n",
       "\t<tr><td>num_authors                                 </td><td> 0.0001109678                               </td><td>3.812567e-06                                </td><td>  29.105793                                 </td><td>3.032279e-186                               </td></tr>\n",
       "\t<tr><td>journal_impact                              </td><td> 0.0957826897                               </td><td>1.742537e-04                                </td><td> 549.673627                                 </td><td> 0.000000e+00                               </td></tr>\n",
       "\t<tr><td>author_citation_log                         </td><td> 0.0817675413                               </td><td>6.918750e-04                                </td><td> 118.182529                                 </td><td> 0.000000e+00                               </td></tr>\n",
       "\t<tr><td>Social_Sciences                             </td><td> 0.3075276313                               </td><td>7.630066e-03                                </td><td>  40.304714                                 </td><td> 0.000000e+00                               </td></tr>\n",
       "\t<tr><td>Materials_Science                           </td><td>-0.7340164949                               </td><td>8.084974e-03                                </td><td> -90.787733                                 </td><td> 0.000000e+00                               </td></tr>\n",
       "\t<tr><td>Engineering                                 </td><td>-0.7063263527                               </td><td>7.740381e-03                                </td><td> -91.252146                                 </td><td> 0.000000e+00                               </td></tr>\n",
       "\t<tr><td>Chemistry                                   </td><td>-0.4065943629                               </td><td>5.819062e-03                                </td><td> -69.872836                                 </td><td> 0.000000e+00                               </td></tr>\n",
       "\t<tr><td>Biochemistry__Genetics_and_Molecular_Biology</td><td> 0.0747853485                               </td><td>3.301052e-03                                </td><td>  22.655007                                 </td><td>1.245242e-113                               </td></tr>\n",
       "\t<tr><td>Medicine                                    </td><td>-0.4772001401                               </td><td>2.818983e-03                                </td><td>-169.280972                                 </td><td> 0.000000e+00                               </td></tr>\n",
       "\t<tr><td>Nursing                                     </td><td> 0.3026781824                               </td><td>9.014159e-03                                </td><td>  33.578082                                 </td><td>3.504992e-247                               </td></tr>\n",
       "\t<tr><td>Agricultural_and_Biological_Sciences        </td><td> 0.4543548183                               </td><td>4.566028e-03                                </td><td>  99.507665                                 </td><td> 0.000000e+00                               </td></tr>\n",
       "\t<tr><td>Pharmacology__Toxicology_and_Pharmaceutics  </td><td>-0.7494902800                               </td><td>7.385658e-03                                </td><td>-101.479154                                 </td><td> 0.000000e+00                               </td></tr>\n",
       "\t<tr><td>Neuroscience                                </td><td>-0.0418015551                               </td><td>5.863768e-03                                </td><td>  -7.128788                                 </td><td> 1.012568e-12                               </td></tr>\n",
       "\t<tr><td>Business__Management_and_Accounting         </td><td>-0.4447876225                               </td><td>1.464856e-02                                </td><td> -30.363922                                 </td><td>1.645720e-202                               </td></tr>\n",
       "\t<tr><td>Economics__Econometrics_and_Finance         </td><td>-0.1790385156                               </td><td>1.574814e-02                                </td><td> -11.368871                                 </td><td> 5.975580e-30                               </td></tr>\n",
       "\t<tr><td>Chemical_Engineering                        </td><td> 0.0527797195                               </td><td>9.366750e-03                                </td><td>   5.634795                                 </td><td> 1.752665e-08                               </td></tr>\n",
       "\t<tr><td>Physics_and_Astronomy                       </td><td>-0.1498958161                               </td><td>6.280871e-03                                </td><td> -23.865450                                 </td><td>6.999935e-126                               </td></tr>\n",
       "\t<tr><td>Computer_Science                            </td><td>-0.3314698160                               </td><td>9.665836e-03                                </td><td> -34.292926                                 </td><td>1.000396e-257                               </td></tr>\n",
       "\t<tr><td>Decision_Sciences                           </td><td>-0.7347765307                               </td><td>2.262216e-02                                </td><td> -32.480386                                 </td><td>2.017876e-231                               </td></tr>\n",
       "\t<tr><td>Health_Professions                          </td><td> 0.9206289061                               </td><td>1.150896e-02                                </td><td>  79.992391                                 </td><td> 0.000000e+00                               </td></tr>\n",
       "\t<tr><td>Psychology                                  </td><td>-0.2197842778                               </td><td>1.025977e-02                                </td><td> -21.421959                                 </td><td>8.340635e-102                               </td></tr>\n",
       "\t<tr><td>Immunology_and_Microbiology                 </td><td> 0.1118769166                               </td><td>6.089435e-03                                </td><td>  18.372298                                 </td><td> 2.189442e-75                               </td></tr>\n",
       "\t<tr><td>Dentistry                                   </td><td>-1.7826735471                               </td><td>2.918984e-02                                </td><td> -61.071708                                 </td><td> 0.000000e+00                               </td></tr>\n",
       "\t<tr><td>Earth_and_Planetary_Sciences                </td><td>-0.1867564402                               </td><td>7.004752e-03                                </td><td> -26.661391                                 </td><td>1.320476e-156                               </td></tr>\n",
       "\t<tr><td>Environmental_Science                       </td><td>-0.0685036463                               </td><td>5.719824e-03                                </td><td> -11.976531                                 </td><td> 4.716475e-33                               </td></tr>\n",
       "\t<tr><td>Mathematics                                 </td><td> 0.4697197235                               </td><td>1.020367e-02                                </td><td>  46.034386                                 </td><td> 0.000000e+00                               </td></tr>\n",
       "\t<tr><td>Arts_and_Humanities                         </td><td>-0.1794075115                               </td><td>2.022419e-02                                </td><td>  -8.870935                                 </td><td> 7.253436e-19                               </td></tr>\n",
       "\t<tr><td>Energy                                      </td><td>-1.1448449375                               </td><td>1.582554e-02                                </td><td> -72.341593                                 </td><td> 0.000000e+00                               </td></tr>\n",
       "\t<tr><td>Veterinary                                  </td><td>-1.1066940119                               </td><td>1.603463e-02                                </td><td> -69.019002                                 </td><td> 0.000000e+00                               </td></tr>\n",
       "\t<tr><td>General                                     </td><td> 0.5295997229                               </td><td>9.537439e-03                                </td><td>  55.528502                                 </td><td> 0.000000e+00                               </td></tr>\n",
       "\t<tr><td>genderFemale:self_promotionTrue             </td><td> 0.0786352666                               </td><td>9.072450e-03                                </td><td>   8.667479                                 </td><td> 4.417946e-18                               </td></tr>\n",
       "</tbody>\n",
       "</table>\n"
      ],
      "text/latex": [
       "\\begin{tabular}{r|lllll}\n",
       " term & estimate & std.error & statistic & p.value\\\\\n",
       "\\hline\n",
       "\t (Intercept)                                  &  0.1953920879                                & 5.250717e-03                                 &   37.212458                                  & 4.291401e-303                               \\\\\n",
       "\t genderFemale                                 &  0.0173111281                                & 2.665194e-03                                 &    6.495261                                  &  8.288983e-11                               \\\\\n",
       "\t self\\_promotionTrue                           &  1.5947864710                                  & 5.204375e-03                                   &  306.431879                                    &  0.000000e+00                                 \\\\\n",
       "\t authorship\\_posfirst\\_position                 &  0.0110787551                                    & 4.522136e-03                                     &    2.449894                                      &  1.428981e-02                                   \\\\\n",
       "\t authorship\\_posmiddle\\_position                &  0.3000863731                                    & 3.506016e-03                                     &   85.591851                                      &  0.000000e+00                                   \\\\\n",
       "\t authorship\\_possolo\\_author                    & -0.2065105354                                    & 1.129290e-02                                     &  -18.286752                                      &  1.055174e-74                                   \\\\\n",
       "\t author\\_pub\\_count\\_cate                        & -0.1243237396                                      & 1.231410e-03                                       & -100.960517                                        &  0.000000e+00                                     \\\\\n",
       "\t affiliation\\_rank\\_cate                        & -0.0412932605                                    & 4.534460e-04                                     &  -91.065448                                      &  0.000000e+00                                   \\\\\n",
       "\t affiliation\\_cateinternational                & -0.0974749361                                  & 2.665421e-03                                   &  -36.570185                                    & 8.520293e-293                                 \\\\\n",
       "\t num\\_authors                                  &  0.0001109678                                  & 3.812567e-06                                   &   29.105793                                    & 3.032279e-186                                 \\\\\n",
       "\t journal\\_impact                               &  0.0957826897                                  & 1.742537e-04                                   &  549.673627                                    &  0.000000e+00                                 \\\\\n",
       "\t author\\_citation\\_log                          &  0.0817675413                                    & 6.918750e-04                                     &  118.182529                                      &  0.000000e+00                                   \\\\\n",
       "\t Social\\_Sciences                              &  0.3075276313                                  & 7.630066e-03                                   &   40.304714                                    &  0.000000e+00                                 \\\\\n",
       "\t Materials\\_Science                            & -0.7340164949                                  & 8.084974e-03                                   &  -90.787733                                    &  0.000000e+00                                 \\\\\n",
       "\t Engineering                                  & -0.7063263527                                & 7.740381e-03                                 &  -91.252146                                  &  0.000000e+00                               \\\\\n",
       "\t Chemistry                                    & -0.4065943629                                & 5.819062e-03                                 &  -69.872836                                  &  0.000000e+00                               \\\\\n",
       "\t Biochemistry\\_\\_Genetics\\_and\\_Molecular\\_Biology &  0.0747853485                                          & 3.301052e-03                                           &   22.655007                                            & 1.245242e-113                                         \\\\\n",
       "\t Medicine                                     & -0.4772001401                                & 2.818983e-03                                 & -169.280972                                  &  0.000000e+00                               \\\\\n",
       "\t Nursing                                      &  0.3026781824                                & 9.014159e-03                                 &   33.578082                                  & 3.504992e-247                               \\\\\n",
       "\t Agricultural\\_and\\_Biological\\_Sciences         &  0.4543548183                                      & 4.566028e-03                                       &   99.507665                                        &  0.000000e+00                                     \\\\\n",
       "\t Pharmacology\\_\\_Toxicology\\_and\\_Pharmaceutics   & -0.7494902800                                        & 7.385658e-03                                         & -101.479154                                          &  0.000000e+00                                       \\\\\n",
       "\t Neuroscience                                 & -0.0418015551                                & 5.863768e-03                                 &   -7.128788                                  &  1.012568e-12                               \\\\\n",
       "\t Business\\_\\_Management\\_and\\_Accounting          & -0.4447876225                                        & 1.464856e-02                                         &  -30.363922                                          & 1.645720e-202                                       \\\\\n",
       "\t Economics\\_\\_Econometrics\\_and\\_Finance          & -0.1790385156                                        & 1.574814e-02                                         &  -11.368871                                          &  5.975580e-30                                       \\\\\n",
       "\t Chemical\\_Engineering                         &  0.0527797195                                  & 9.366750e-03                                   &    5.634795                                    &  1.752665e-08                                 \\\\\n",
       "\t Physics\\_and\\_Astronomy                        & -0.1498958161                                    & 6.280871e-03                                     &  -23.865450                                      & 6.999935e-126                                   \\\\\n",
       "\t Computer\\_Science                             & -0.3314698160                                  & 9.665836e-03                                   &  -34.292926                                    & 1.000396e-257                                 \\\\\n",
       "\t Decision\\_Sciences                            & -0.7347765307                                  & 2.262216e-02                                   &  -32.480386                                    & 2.017876e-231                                 \\\\\n",
       "\t Health\\_Professions                           &  0.9206289061                                  & 1.150896e-02                                   &   79.992391                                    &  0.000000e+00                                 \\\\\n",
       "\t Psychology                                   & -0.2197842778                                & 1.025977e-02                                 &  -21.421959                                  & 8.340635e-102                               \\\\\n",
       "\t Immunology\\_and\\_Microbiology                  &  0.1118769166                                    & 6.089435e-03                                     &   18.372298                                      &  2.189442e-75                                   \\\\\n",
       "\t Dentistry                                    & -1.7826735471                                & 2.918984e-02                                 &  -61.071708                                  &  0.000000e+00                               \\\\\n",
       "\t Earth\\_and\\_Planetary\\_Sciences                 & -0.1867564402                                      & 7.004752e-03                                       &  -26.661391                                        & 1.320476e-156                                     \\\\\n",
       "\t Environmental\\_Science                        & -0.0685036463                                  & 5.719824e-03                                   &  -11.976531                                    &  4.716475e-33                                 \\\\\n",
       "\t Mathematics                                  &  0.4697197235                                & 1.020367e-02                                 &   46.034386                                  &  0.000000e+00                               \\\\\n",
       "\t Arts\\_and\\_Humanities                          & -0.1794075115                                    & 2.022419e-02                                     &   -8.870935                                      &  7.253436e-19                                   \\\\\n",
       "\t Energy                                       & -1.1448449375                                & 1.582554e-02                                 &  -72.341593                                  &  0.000000e+00                               \\\\\n",
       "\t Veterinary                                   & -1.1066940119                                & 1.603463e-02                                 &  -69.019002                                  &  0.000000e+00                               \\\\\n",
       "\t General                                      &  0.5295997229                                & 9.537439e-03                                 &   55.528502                                  &  0.000000e+00                               \\\\\n",
       "\t genderFemale:self\\_promotionTrue              &  0.0786352666                                  & 9.072450e-03                                   &    8.667479                                    &  4.417946e-18                                 \\\\\n",
       "\\end{tabular}\n"
      ],
      "text/markdown": [
       "\n",
       "| term | estimate | std.error | statistic | p.value |\n",
       "|---|---|---|---|---|\n",
       "| (Intercept)                                  |  0.1953920879                                | 5.250717e-03                                 |   37.212458                                  | 4.291401e-303                                |\n",
       "| genderFemale                                 |  0.0173111281                                | 2.665194e-03                                 |    6.495261                                  |  8.288983e-11                                |\n",
       "| self_promotionTrue                           |  1.5947864710                                | 5.204375e-03                                 |  306.431879                                  |  0.000000e+00                                |\n",
       "| authorship_posfirst_position                 |  0.0110787551                                | 4.522136e-03                                 |    2.449894                                  |  1.428981e-02                                |\n",
       "| authorship_posmiddle_position                |  0.3000863731                                | 3.506016e-03                                 |   85.591851                                  |  0.000000e+00                                |\n",
       "| authorship_possolo_author                    | -0.2065105354                                | 1.129290e-02                                 |  -18.286752                                  |  1.055174e-74                                |\n",
       "| author_pub_count_cate                        | -0.1243237396                                | 1.231410e-03                                 | -100.960517                                  |  0.000000e+00                                |\n",
       "| affiliation_rank_cate                        | -0.0412932605                                | 4.534460e-04                                 |  -91.065448                                  |  0.000000e+00                                |\n",
       "| affiliation_cateinternational                | -0.0974749361                                | 2.665421e-03                                 |  -36.570185                                  | 8.520293e-293                                |\n",
       "| num_authors                                  |  0.0001109678                                | 3.812567e-06                                 |   29.105793                                  | 3.032279e-186                                |\n",
       "| journal_impact                               |  0.0957826897                                | 1.742537e-04                                 |  549.673627                                  |  0.000000e+00                                |\n",
       "| author_citation_log                          |  0.0817675413                                | 6.918750e-04                                 |  118.182529                                  |  0.000000e+00                                |\n",
       "| Social_Sciences                              |  0.3075276313                                | 7.630066e-03                                 |   40.304714                                  |  0.000000e+00                                |\n",
       "| Materials_Science                            | -0.7340164949                                | 8.084974e-03                                 |  -90.787733                                  |  0.000000e+00                                |\n",
       "| Engineering                                  | -0.7063263527                                | 7.740381e-03                                 |  -91.252146                                  |  0.000000e+00                                |\n",
       "| Chemistry                                    | -0.4065943629                                | 5.819062e-03                                 |  -69.872836                                  |  0.000000e+00                                |\n",
       "| Biochemistry__Genetics_and_Molecular_Biology |  0.0747853485                                | 3.301052e-03                                 |   22.655007                                  | 1.245242e-113                                |\n",
       "| Medicine                                     | -0.4772001401                                | 2.818983e-03                                 | -169.280972                                  |  0.000000e+00                                |\n",
       "| Nursing                                      |  0.3026781824                                | 9.014159e-03                                 |   33.578082                                  | 3.504992e-247                                |\n",
       "| Agricultural_and_Biological_Sciences         |  0.4543548183                                | 4.566028e-03                                 |   99.507665                                  |  0.000000e+00                                |\n",
       "| Pharmacology__Toxicology_and_Pharmaceutics   | -0.7494902800                                | 7.385658e-03                                 | -101.479154                                  |  0.000000e+00                                |\n",
       "| Neuroscience                                 | -0.0418015551                                | 5.863768e-03                                 |   -7.128788                                  |  1.012568e-12                                |\n",
       "| Business__Management_and_Accounting          | -0.4447876225                                | 1.464856e-02                                 |  -30.363922                                  | 1.645720e-202                                |\n",
       "| Economics__Econometrics_and_Finance          | -0.1790385156                                | 1.574814e-02                                 |  -11.368871                                  |  5.975580e-30                                |\n",
       "| Chemical_Engineering                         |  0.0527797195                                | 9.366750e-03                                 |    5.634795                                  |  1.752665e-08                                |\n",
       "| Physics_and_Astronomy                        | -0.1498958161                                | 6.280871e-03                                 |  -23.865450                                  | 6.999935e-126                                |\n",
       "| Computer_Science                             | -0.3314698160                                | 9.665836e-03                                 |  -34.292926                                  | 1.000396e-257                                |\n",
       "| Decision_Sciences                            | -0.7347765307                                | 2.262216e-02                                 |  -32.480386                                  | 2.017876e-231                                |\n",
       "| Health_Professions                           |  0.9206289061                                | 1.150896e-02                                 |   79.992391                                  |  0.000000e+00                                |\n",
       "| Psychology                                   | -0.2197842778                                | 1.025977e-02                                 |  -21.421959                                  | 8.340635e-102                                |\n",
       "| Immunology_and_Microbiology                  |  0.1118769166                                | 6.089435e-03                                 |   18.372298                                  |  2.189442e-75                                |\n",
       "| Dentistry                                    | -1.7826735471                                | 2.918984e-02                                 |  -61.071708                                  |  0.000000e+00                                |\n",
       "| Earth_and_Planetary_Sciences                 | -0.1867564402                                | 7.004752e-03                                 |  -26.661391                                  | 1.320476e-156                                |\n",
       "| Environmental_Science                        | -0.0685036463                                | 5.719824e-03                                 |  -11.976531                                  |  4.716475e-33                                |\n",
       "| Mathematics                                  |  0.4697197235                                | 1.020367e-02                                 |   46.034386                                  |  0.000000e+00                                |\n",
       "| Arts_and_Humanities                          | -0.1794075115                                | 2.022419e-02                                 |   -8.870935                                  |  7.253436e-19                                |\n",
       "| Energy                                       | -1.1448449375                                | 1.582554e-02                                 |  -72.341593                                  |  0.000000e+00                                |\n",
       "| Veterinary                                   | -1.1066940119                                | 1.603463e-02                                 |  -69.019002                                  |  0.000000e+00                                |\n",
       "| General                                      |  0.5295997229                                | 9.537439e-03                                 |   55.528502                                  |  0.000000e+00                                |\n",
       "| genderFemale:self_promotionTrue              |  0.0786352666                                | 9.072450e-03                                 |    8.667479                                  |  4.417946e-18                                |\n",
       "\n"
      ],
      "text/plain": [
       "   term                                         estimate      std.error   \n",
       "1  (Intercept)                                   0.1953920879 5.250717e-03\n",
       "2  genderFemale                                  0.0173111281 2.665194e-03\n",
       "3  self_promotionTrue                            1.5947864710 5.204375e-03\n",
       "4  authorship_posfirst_position                  0.0110787551 4.522136e-03\n",
       "5  authorship_posmiddle_position                 0.3000863731 3.506016e-03\n",
       "6  authorship_possolo_author                    -0.2065105354 1.129290e-02\n",
       "7  author_pub_count_cate                        -0.1243237396 1.231410e-03\n",
       "8  affiliation_rank_cate                        -0.0412932605 4.534460e-04\n",
       "9  affiliation_cateinternational                -0.0974749361 2.665421e-03\n",
       "10 num_authors                                   0.0001109678 3.812567e-06\n",
       "11 journal_impact                                0.0957826897 1.742537e-04\n",
       "12 author_citation_log                           0.0817675413 6.918750e-04\n",
       "13 Social_Sciences                               0.3075276313 7.630066e-03\n",
       "14 Materials_Science                            -0.7340164949 8.084974e-03\n",
       "15 Engineering                                  -0.7063263527 7.740381e-03\n",
       "16 Chemistry                                    -0.4065943629 5.819062e-03\n",
       "17 Biochemistry__Genetics_and_Molecular_Biology  0.0747853485 3.301052e-03\n",
       "18 Medicine                                     -0.4772001401 2.818983e-03\n",
       "19 Nursing                                       0.3026781824 9.014159e-03\n",
       "20 Agricultural_and_Biological_Sciences          0.4543548183 4.566028e-03\n",
       "21 Pharmacology__Toxicology_and_Pharmaceutics   -0.7494902800 7.385658e-03\n",
       "22 Neuroscience                                 -0.0418015551 5.863768e-03\n",
       "23 Business__Management_and_Accounting          -0.4447876225 1.464856e-02\n",
       "24 Economics__Econometrics_and_Finance          -0.1790385156 1.574814e-02\n",
       "25 Chemical_Engineering                          0.0527797195 9.366750e-03\n",
       "26 Physics_and_Astronomy                        -0.1498958161 6.280871e-03\n",
       "27 Computer_Science                             -0.3314698160 9.665836e-03\n",
       "28 Decision_Sciences                            -0.7347765307 2.262216e-02\n",
       "29 Health_Professions                            0.9206289061 1.150896e-02\n",
       "30 Psychology                                   -0.2197842778 1.025977e-02\n",
       "31 Immunology_and_Microbiology                   0.1118769166 6.089435e-03\n",
       "32 Dentistry                                    -1.7826735471 2.918984e-02\n",
       "33 Earth_and_Planetary_Sciences                 -0.1867564402 7.004752e-03\n",
       "34 Environmental_Science                        -0.0685036463 5.719824e-03\n",
       "35 Mathematics                                   0.4697197235 1.020367e-02\n",
       "36 Arts_and_Humanities                          -0.1794075115 2.022419e-02\n",
       "37 Energy                                       -1.1448449375 1.582554e-02\n",
       "38 Veterinary                                   -1.1066940119 1.603463e-02\n",
       "39 General                                       0.5295997229 9.537439e-03\n",
       "40 genderFemale:self_promotionTrue               0.0786352666 9.072450e-03\n",
       "   statistic   p.value      \n",
       "1    37.212458 4.291401e-303\n",
       "2     6.495261  8.288983e-11\n",
       "3   306.431879  0.000000e+00\n",
       "4     2.449894  1.428981e-02\n",
       "5    85.591851  0.000000e+00\n",
       "6   -18.286752  1.055174e-74\n",
       "7  -100.960517  0.000000e+00\n",
       "8   -91.065448  0.000000e+00\n",
       "9   -36.570185 8.520293e-293\n",
       "10   29.105793 3.032279e-186\n",
       "11  549.673627  0.000000e+00\n",
       "12  118.182529  0.000000e+00\n",
       "13   40.304714  0.000000e+00\n",
       "14  -90.787733  0.000000e+00\n",
       "15  -91.252146  0.000000e+00\n",
       "16  -69.872836  0.000000e+00\n",
       "17   22.655007 1.245242e-113\n",
       "18 -169.280972  0.000000e+00\n",
       "19   33.578082 3.504992e-247\n",
       "20   99.507665  0.000000e+00\n",
       "21 -101.479154  0.000000e+00\n",
       "22   -7.128788  1.012568e-12\n",
       "23  -30.363922 1.645720e-202\n",
       "24  -11.368871  5.975580e-30\n",
       "25    5.634795  1.752665e-08\n",
       "26  -23.865450 6.999935e-126\n",
       "27  -34.292926 1.000396e-257\n",
       "28  -32.480386 2.017876e-231\n",
       "29   79.992391  0.000000e+00\n",
       "30  -21.421959 8.340635e-102\n",
       "31   18.372298  2.189442e-75\n",
       "32  -61.071708  0.000000e+00\n",
       "33  -26.661391 1.320476e-156\n",
       "34  -11.976531  4.716475e-33\n",
       "35   46.034386  0.000000e+00\n",
       "36   -8.870935  7.253436e-19\n",
       "37  -72.341593  0.000000e+00\n",
       "38  -69.019002  0.000000e+00\n",
       "39   55.528502  0.000000e+00\n",
       "40    8.667479  4.417946e-18"
      ]
     },
     "metadata": {},
     "output_type": "display_data"
    }
   ],
   "source": [
    "tidy(m_binary)"
   ]
  },
  {
   "cell_type": "code",
   "execution_count": 22,
   "id": "18f57127",
   "metadata": {},
   "outputs": [
    {
     "data": {
      "text/html": [
       "0.324088288274596"
      ],
      "text/latex": [
       "0.324088288274596"
      ],
      "text/markdown": [
       "0.324088288274596"
      ],
      "text/plain": [
       "[1] 0.3240883"
      ]
     },
     "metadata": {},
     "output_type": "display_data"
    }
   ],
   "source": [
    "# you're trying to measure the ratio of the deviance in your model to the null; how much better your model is (residual deviance) than just the intercept (null deviance). If that ratio is tiny, you're 'explaining' most of the deviance in the null; 1 minus that gets you your R-squared.\n",
    "with(summary(m_binary), 1 - deviance/null.deviance)\n"
   ]
  },
  {
   "cell_type": "code",
   "execution_count": 23,
   "id": "f60e47cd",
   "metadata": {
    "scrolled": true
   },
   "outputs": [
    {
     "name": "stdout",
     "output_type": "stream",
     "text": [
      "\n",
      "% Table created by stargazer v.5.2.2 by Marek Hlavac, Harvard University. E-mail: hlavac at fas.harvard.edu\n",
      "% Date and time: Tue, May 10, 2022 - 04:03:40 PM\n",
      "\\begin{table}[!htbp] \\centering \n",
      "  \\caption{} \n",
      "  \\label{} \n",
      "\\begin{tabular}{@{\\extracolsep{5pt}}lc} \n",
      "\\\\[-1.8ex]\\hline \n",
      "\\hline \\\\[-1.8ex] \n",
      " & \\multicolumn{1}{c}{\\textit{Dependent variable:}} \\\\ \n",
      "\\cline{2-2} \n",
      "\\\\[-1.8ex] & researcher \\\\ \n",
      "\\hline \\\\[-1.8ex] \n",
      " genderFemale & 0.017$^{***}$ \\\\ \n",
      "  & p = 0.000 \\\\ \n",
      "  self\\_promotionTrue & 1.595$^{***}$ \\\\ \n",
      "  & p = 0.000 \\\\ \n",
      "  authorship\\_posfirst\\_position & 0.011$^{*}$ \\\\ \n",
      "  & p = 0.015 \\\\ \n",
      "  authorship\\_posmiddle\\_position & 0.300$^{***}$ \\\\ \n",
      "  & p = 0.000 \\\\ \n",
      "  authorship\\_possolo\\_author & $-$0.207$^{***}$ \\\\ \n",
      "  & p = 0.000 \\\\ \n",
      "  author\\_pub\\_count\\_cate & $-$0.124$^{***}$ \\\\ \n",
      "  & p = 0.000 \\\\ \n",
      "  affiliation\\_rank\\_cate & $-$0.041$^{***}$ \\\\ \n",
      "  & p = 0.000 \\\\ \n",
      "  affiliation\\_cateinternational & $-$0.097$^{***}$ \\\\ \n",
      "  & p = 0.000 \\\\ \n",
      "  num\\_authors & 0.0001$^{***}$ \\\\ \n",
      "  & p = 0.000 \\\\ \n",
      "  journal\\_impact & 0.096$^{***}$ \\\\ \n",
      "  & p = 0.000 \\\\ \n",
      "  author\\_citation\\_log & 0.082$^{***}$ \\\\ \n",
      "  & p = 0.000 \\\\ \n",
      "  Social\\_Sciences & 0.308$^{***}$ \\\\ \n",
      "  & p = 0.000 \\\\ \n",
      "  Materials\\_Science & $-$0.734$^{***}$ \\\\ \n",
      "  & p = 0.000 \\\\ \n",
      "  Engineering & $-$0.706$^{***}$ \\\\ \n",
      "  & p = 0.000 \\\\ \n",
      "  Chemistry & $-$0.407$^{***}$ \\\\ \n",
      "  & p = 0.000 \\\\ \n",
      "  Biochemistry\\_\\_Genetics\\_and\\_Molecular\\_Biology & 0.075$^{***}$ \\\\ \n",
      "  & p = 0.000 \\\\ \n",
      "  Medicine & $-$0.477$^{***}$ \\\\ \n",
      "  & p = 0.000 \\\\ \n",
      "  Nursing & 0.303$^{***}$ \\\\ \n",
      "  & p = 0.000 \\\\ \n",
      "  Agricultural\\_and\\_Biological\\_Sciences & 0.454$^{***}$ \\\\ \n",
      "  & p = 0.000 \\\\ \n",
      "  Pharmacology\\_\\_Toxicology\\_and\\_Pharmaceutics & $-$0.749$^{***}$ \\\\ \n",
      "  & p = 0.000 \\\\ \n",
      "  Neuroscience & $-$0.042$^{***}$ \\\\ \n",
      "  & p = 0.000 \\\\ \n",
      "  Business\\_\\_Management\\_and\\_Accounting & $-$0.445$^{***}$ \\\\ \n",
      "  & p = 0.000 \\\\ \n",
      "  Economics\\_\\_Econometrics\\_and\\_Finance & $-$0.179$^{***}$ \\\\ \n",
      "  & p = 0.000 \\\\ \n",
      "  Chemical\\_Engineering & 0.053$^{***}$ \\\\ \n",
      "  & p = 0.00000 \\\\ \n",
      "  Physics\\_and\\_Astronomy & $-$0.150$^{***}$ \\\\ \n",
      "  & p = 0.000 \\\\ \n",
      "  Computer\\_Science & $-$0.331$^{***}$ \\\\ \n",
      "  & p = 0.000 \\\\ \n",
      "  Decision\\_Sciences & $-$0.735$^{***}$ \\\\ \n",
      "  & p = 0.000 \\\\ \n",
      "  Health\\_Professions & 0.921$^{***}$ \\\\ \n",
      "  & p = 0.000 \\\\ \n",
      "  Psychology & $-$0.220$^{***}$ \\\\ \n",
      "  & p = 0.000 \\\\ \n",
      "  Immunology\\_and\\_Microbiology & 0.112$^{***}$ \\\\ \n",
      "  & p = 0.000 \\\\ \n",
      "  Dentistry & $-$1.783$^{***}$ \\\\ \n",
      "  & p = 0.000 \\\\ \n",
      "  Earth\\_and\\_Planetary\\_Sciences & $-$0.187$^{***}$ \\\\ \n",
      "  & p = 0.000 \\\\ \n",
      "  Environmental\\_Science & $-$0.069$^{***}$ \\\\ \n",
      "  & p = 0.000 \\\\ \n",
      "  Mathematics & 0.470$^{***}$ \\\\ \n",
      "  & p = 0.000 \\\\ \n",
      "  Arts\\_and\\_Humanities & $-$0.179$^{***}$ \\\\ \n",
      "  & p = 0.000 \\\\ \n",
      "  Energy & $-$1.145$^{***}$ \\\\ \n",
      "  & p = 0.000 \\\\ \n",
      "  Veterinary & $-$1.107$^{***}$ \\\\ \n",
      "  & p = 0.000 \\\\ \n",
      "  General & 0.530$^{***}$ \\\\ \n",
      "  & p = 0.000 \\\\ \n",
      "  genderFemale:self\\_promotionTrue & 0.079$^{***}$ \\\\ \n",
      "  & p = 0.000 \\\\ \n",
      "  Constant & 0.195$^{***}$ \\\\ \n",
      "  & p = 0.000 \\\\ \n",
      " \\hline \\\\[-1.8ex] \n",
      "Observations & 2,375,419 \\\\ \n",
      "Log Likelihood & $-$4,414,067.000 \\\\ \n",
      "$\\theta$ & 0.369$^{***}$  (0.0005) \\\\ \n",
      "Akaike Inf. Crit. & 8,828,213.000 \\\\ \n",
      "\\hline \n",
      "\\hline \\\\[-1.8ex] \n",
      "\\textit{Note:}  & \\multicolumn{1}{r}{$^{*}$p$<$0.05; $^{**}$p$<$0.01; $^{***}$p$<$0.001} \\\\ \n",
      "\\end{tabular} \n",
      "\\end{table} \n"
     ]
    }
   ],
   "source": [
    "# use this search string in Sublime: \" \\\\\\\\ \\n  &\" with \" &\"\n",
    "stargazer(m_binary, type = \"latex\", single.row=TRUE, ci = FALSE, report = ('vc*p'), star.cutoffs = c(0.05, 0.01, 0.001))"
   ]
  },
  {
   "cell_type": "markdown",
   "id": "769b376e",
   "metadata": {},
   "source": [
    "### Self-promoted subset"
   ]
  },
  {
   "cell_type": "markdown",
   "id": "e952524d",
   "metadata": {},
   "source": [
    "Negative Binomial Regression"
   ]
  },
  {
   "cell_type": "code",
   "execution_count": 24,
   "id": "4113fa14",
   "metadata": {},
   "outputs": [],
   "source": [
    "base_str <- \"researcher ~ 1 + gender + authorship_pos + matched_tid_follower_cn_log + \\\n",
    "        author_pub_count_cate + affiliation_rank_cate + affiliation_cate + num_authors + journal_impact + author_citation_log\"\n",
    "equation <- as.formula(paste(base_str, keywords, sep = \" \"))\n",
    "m_yes <- glm.nb(equation, data = mydata[mydata$self_promotion == \"True\", ])"
   ]
  },
  {
   "cell_type": "code",
   "execution_count": 25,
   "id": "7eb6325c",
   "metadata": {},
   "outputs": [
    {
     "data": {
      "text/html": [
       "173594"
      ],
      "text/latex": [
       "173594"
      ],
      "text/markdown": [
       "173594"
      ],
      "text/plain": [
       "[1] 173594"
      ]
     },
     "metadata": {},
     "output_type": "display_data"
    }
   ],
   "source": [
    "nrow(mydata[mydata$self_promotion == \"True\", ])"
   ]
  },
  {
   "cell_type": "code",
   "execution_count": 26,
   "id": "50c5560a",
   "metadata": {
    "scrolled": true
   },
   "outputs": [
    {
     "data": {
      "text/html": [
       "<table>\n",
       "<thead><tr><th scope=col>term</th><th scope=col>estimate</th><th scope=col>std.error</th><th scope=col>statistic</th><th scope=col>p.value</th></tr></thead>\n",
       "<tbody>\n",
       "\t<tr><td>(Intercept)                                 </td><td> 0.9608714085                               </td><td>1.703314e-02                                </td><td> 56.4118928                                 </td><td> 0.000000e+00                               </td></tr>\n",
       "\t<tr><td>genderFemale                                </td><td> 0.0910016147                               </td><td>6.362132e-03                                </td><td> 14.3036355                                 </td><td> 2.076710e-46                               </td></tr>\n",
       "\t<tr><td>authorship_posfirst_position                </td><td> 0.0790049051                               </td><td>8.982112e-03                                </td><td>  8.7958046                                 </td><td> 1.420266e-18                               </td></tr>\n",
       "\t<tr><td>authorship_posmiddle_position               </td><td> 0.3653361067                               </td><td>7.591775e-03                                </td><td> 48.1226225                                 </td><td> 0.000000e+00                               </td></tr>\n",
       "\t<tr><td>authorship_possolo_author                   </td><td>-0.2962323933                               </td><td>1.742159e-02                                </td><td>-17.0037493                                 </td><td> 7.703169e-65                               </td></tr>\n",
       "\t<tr><td>matched_tid_follower_cn_log                 </td><td> 0.1170529651                               </td><td>1.404737e-03                                </td><td> 83.3272934                                 </td><td> 0.000000e+00                               </td></tr>\n",
       "\t<tr><td>author_pub_count_cate                       </td><td>-0.1342249890                               </td><td>3.077311e-03                                </td><td>-43.6176240                                 </td><td> 0.000000e+00                               </td></tr>\n",
       "\t<tr><td>affiliation_rank_cate                       </td><td>-0.0246866275                               </td><td>1.066255e-03                                </td><td>-23.1526453                                 </td><td>1.367238e-118                               </td></tr>\n",
       "\t<tr><td>affiliation_cateinternational               </td><td>-0.0821448799                               </td><td>6.280782e-03                                </td><td>-13.0787653                                 </td><td> 4.354561e-39                               </td></tr>\n",
       "\t<tr><td>num_authors                                 </td><td> 0.0007912782                               </td><td>2.771271e-05                                </td><td> 28.5528929                                 </td><td>2.586001e-179                               </td></tr>\n",
       "\t<tr><td>journal_impact                              </td><td> 0.0524228619                               </td><td>3.042411e-04                                </td><td>172.3069930                                 </td><td> 0.000000e+00                               </td></tr>\n",
       "\t<tr><td>author_citation_log                         </td><td> 0.0781290194                               </td><td>1.704081e-03                                </td><td> 45.8481942                                 </td><td> 0.000000e+00                               </td></tr>\n",
       "\t<tr><td>Social_Sciences                             </td><td>-0.1524076385                               </td><td>1.269320e-02                                </td><td>-12.0070288                                 </td><td> 3.263611e-33                               </td></tr>\n",
       "\t<tr><td>Materials_Science                           </td><td>-0.4949565541                               </td><td>2.438075e-02                                </td><td>-20.3011209                                 </td><td> 1.256852e-91                               </td></tr>\n",
       "\t<tr><td>Engineering                                 </td><td>-0.3148888001                               </td><td>2.107915e-02                                </td><td>-14.9383985                                 </td><td> 1.853769e-50                               </td></tr>\n",
       "\t<tr><td>Chemistry                                   </td><td>-0.7051835590                               </td><td>1.725551e-02                                </td><td>-40.8671548                                 </td><td> 0.000000e+00                               </td></tr>\n",
       "\t<tr><td>Biochemistry__Genetics_and_Molecular_Biology</td><td> 0.2496011395                               </td><td>8.567966e-03                                </td><td> 29.1319027                                 </td><td>1.416444e-186                               </td></tr>\n",
       "\t<tr><td>Medicine                                    </td><td>-0.4349629563                               </td><td>6.961615e-03                                </td><td>-62.4801840                                 </td><td> 0.000000e+00                               </td></tr>\n",
       "\t<tr><td>Nursing                                     </td><td> 0.0145280130                               </td><td>2.096144e-02                                </td><td>  0.6930827                                 </td><td> 4.882576e-01                               </td></tr>\n",
       "\t<tr><td>Agricultural_and_Biological_Sciences        </td><td> 0.1982459368                               </td><td>1.001563e-02                                </td><td> 19.7936542                                 </td><td> 3.376506e-87                               </td></tr>\n",
       "\t<tr><td>Pharmacology__Toxicology_and_Pharmaceutics  </td><td>-0.7063325100                               </td><td>2.356937e-02                                </td><td>-29.9682426                                 </td><td>2.545790e-197                               </td></tr>\n",
       "\t<tr><td>Neuroscience                                </td><td>-0.0487180398                               </td><td>1.420553e-02                                </td><td> -3.4295131                                 </td><td> 6.046654e-04                               </td></tr>\n",
       "\t<tr><td>Business__Management_and_Accounting         </td><td>-0.4315142832                               </td><td>2.676460e-02                                </td><td>-16.1225775                                 </td><td> 1.770673e-58                               </td></tr>\n",
       "\t<tr><td>Economics__Econometrics_and_Finance         </td><td>-0.0781795218                               </td><td>2.765020e-02                                </td><td> -2.8274485                                 </td><td> 4.692056e-03                               </td></tr>\n",
       "\t<tr><td>Chemical_Engineering                        </td><td> 0.1120130034                               </td><td>2.463809e-02                                </td><td>  4.5463356                                 </td><td> 5.458798e-06                               </td></tr>\n",
       "\t<tr><td>Physics_and_Astronomy                       </td><td>-0.4961783181                               </td><td>2.247875e-02                                </td><td>-22.0732178                                 </td><td>5.717432e-108                               </td></tr>\n",
       "\t<tr><td>Computer_Science                            </td><td>-0.3283792994                               </td><td>2.248467e-02                                </td><td>-14.6045884                                 </td><td> 2.625631e-48                               </td></tr>\n",
       "\t<tr><td>Decision_Sciences                           </td><td>-0.1500955095                               </td><td>4.483796e-02                                </td><td> -3.3475101                                 </td><td> 8.154101e-04                               </td></tr>\n",
       "\t<tr><td>Health_Professions                          </td><td> 0.7540316827                               </td><td>2.062472e-02                                </td><td> 36.5596102                                 </td><td>1.254599e-292                               </td></tr>\n",
       "\t<tr><td>Psychology                                  </td><td>-0.0420415939                               </td><td>1.959706e-02                                </td><td> -2.1453007                                 </td><td> 3.192882e-02                               </td></tr>\n",
       "\t<tr><td>Immunology_and_Microbiology                 </td><td> 0.1404084758                               </td><td>1.635807e-02                                </td><td>  8.5834355                                 </td><td> 9.208093e-18                               </td></tr>\n",
       "\t<tr><td>Dentistry                                   </td><td>-1.3999496933                               </td><td>1.035512e-01                                </td><td>-13.5193965                                 </td><td> 1.201575e-41                               </td></tr>\n",
       "\t<tr><td>Earth_and_Planetary_Sciences                </td><td>-0.4023975972                               </td><td>1.691009e-02                                </td><td>-23.7962978                                 </td><td>3.647943e-125                               </td></tr>\n",
       "\t<tr><td>Environmental_Science                       </td><td>-0.1651995518                               </td><td>1.220186e-02                                </td><td>-13.5388845                                 </td><td> 9.217808e-42                               </td></tr>\n",
       "\t<tr><td>Mathematics                                 </td><td> 0.3169954010                               </td><td>3.046764e-02                                </td><td> 10.4043318                                 </td><td> 2.369124e-25                               </td></tr>\n",
       "\t<tr><td>Arts_and_Humanities                         </td><td>-0.2477118616                               </td><td>3.388833e-02                                </td><td> -7.3096515                                 </td><td> 2.678361e-13                               </td></tr>\n",
       "\t<tr><td>Energy                                      </td><td>-0.9547387378                               </td><td>3.818983e-02                                </td><td>-24.9998155                                 </td><td>6.141702e-138                               </td></tr>\n",
       "\t<tr><td>Veterinary                                  </td><td>-1.0309357571                               </td><td>5.481978e-02                                </td><td>-18.8059092                                 </td><td> 6.755401e-79                               </td></tr>\n",
       "\t<tr><td>General                                     </td><td> 0.6010448671                               </td><td>1.591354e-02                                </td><td> 37.7693914                                 </td><td> 0.000000e+00                               </td></tr>\n",
       "</tbody>\n",
       "</table>\n"
      ],
      "text/latex": [
       "\\begin{tabular}{r|lllll}\n",
       " term & estimate & std.error & statistic & p.value\\\\\n",
       "\\hline\n",
       "\t (Intercept)                                  &  0.9608714085                                & 1.703314e-02                                 &  56.4118928                                  &  0.000000e+00                               \\\\\n",
       "\t genderFemale                                 &  0.0910016147                                & 6.362132e-03                                 &  14.3036355                                  &  2.076710e-46                               \\\\\n",
       "\t authorship\\_posfirst\\_position                 &  0.0790049051                                    & 8.982112e-03                                     &   8.7958046                                      &  1.420266e-18                                   \\\\\n",
       "\t authorship\\_posmiddle\\_position                &  0.3653361067                                    & 7.591775e-03                                     &  48.1226225                                      &  0.000000e+00                                   \\\\\n",
       "\t authorship\\_possolo\\_author                    & -0.2962323933                                    & 1.742159e-02                                     & -17.0037493                                      &  7.703169e-65                                   \\\\\n",
       "\t matched\\_tid\\_follower\\_cn\\_log                  &  0.1170529651                                        & 1.404737e-03                                         &  83.3272934                                          &  0.000000e+00                                       \\\\\n",
       "\t author\\_pub\\_count\\_cate                        & -0.1342249890                                      & 3.077311e-03                                       & -43.6176240                                        &  0.000000e+00                                     \\\\\n",
       "\t affiliation\\_rank\\_cate                        & -0.0246866275                                    & 1.066255e-03                                     & -23.1526453                                      & 1.367238e-118                                   \\\\\n",
       "\t affiliation\\_cateinternational                & -0.0821448799                                  & 6.280782e-03                                   & -13.0787653                                    &  4.354561e-39                                 \\\\\n",
       "\t num\\_authors                                  &  0.0007912782                                  & 2.771271e-05                                   &  28.5528929                                    & 2.586001e-179                                 \\\\\n",
       "\t journal\\_impact                               &  0.0524228619                                  & 3.042411e-04                                   & 172.3069930                                    &  0.000000e+00                                 \\\\\n",
       "\t author\\_citation\\_log                          &  0.0781290194                                    & 1.704081e-03                                     &  45.8481942                                      &  0.000000e+00                                   \\\\\n",
       "\t Social\\_Sciences                              & -0.1524076385                                  & 1.269320e-02                                   & -12.0070288                                    &  3.263611e-33                                 \\\\\n",
       "\t Materials\\_Science                            & -0.4949565541                                  & 2.438075e-02                                   & -20.3011209                                    &  1.256852e-91                                 \\\\\n",
       "\t Engineering                                  & -0.3148888001                                & 2.107915e-02                                 & -14.9383985                                  &  1.853769e-50                               \\\\\n",
       "\t Chemistry                                    & -0.7051835590                                & 1.725551e-02                                 & -40.8671548                                  &  0.000000e+00                               \\\\\n",
       "\t Biochemistry\\_\\_Genetics\\_and\\_Molecular\\_Biology &  0.2496011395                                          & 8.567966e-03                                           &  29.1319027                                            & 1.416444e-186                                         \\\\\n",
       "\t Medicine                                     & -0.4349629563                                & 6.961615e-03                                 & -62.4801840                                  &  0.000000e+00                               \\\\\n",
       "\t Nursing                                      &  0.0145280130                                & 2.096144e-02                                 &   0.6930827                                  &  4.882576e-01                               \\\\\n",
       "\t Agricultural\\_and\\_Biological\\_Sciences         &  0.1982459368                                      & 1.001563e-02                                       &  19.7936542                                        &  3.376506e-87                                     \\\\\n",
       "\t Pharmacology\\_\\_Toxicology\\_and\\_Pharmaceutics   & -0.7063325100                                        & 2.356937e-02                                         & -29.9682426                                          & 2.545790e-197                                       \\\\\n",
       "\t Neuroscience                                 & -0.0487180398                                & 1.420553e-02                                 &  -3.4295131                                  &  6.046654e-04                               \\\\\n",
       "\t Business\\_\\_Management\\_and\\_Accounting          & -0.4315142832                                        & 2.676460e-02                                         & -16.1225775                                          &  1.770673e-58                                       \\\\\n",
       "\t Economics\\_\\_Econometrics\\_and\\_Finance          & -0.0781795218                                        & 2.765020e-02                                         &  -2.8274485                                          &  4.692056e-03                                       \\\\\n",
       "\t Chemical\\_Engineering                         &  0.1120130034                                  & 2.463809e-02                                   &   4.5463356                                    &  5.458798e-06                                 \\\\\n",
       "\t Physics\\_and\\_Astronomy                        & -0.4961783181                                    & 2.247875e-02                                     & -22.0732178                                      & 5.717432e-108                                   \\\\\n",
       "\t Computer\\_Science                             & -0.3283792994                                  & 2.248467e-02                                   & -14.6045884                                    &  2.625631e-48                                 \\\\\n",
       "\t Decision\\_Sciences                            & -0.1500955095                                  & 4.483796e-02                                   &  -3.3475101                                    &  8.154101e-04                                 \\\\\n",
       "\t Health\\_Professions                           &  0.7540316827                                  & 2.062472e-02                                   &  36.5596102                                    & 1.254599e-292                                 \\\\\n",
       "\t Psychology                                   & -0.0420415939                                & 1.959706e-02                                 &  -2.1453007                                  &  3.192882e-02                               \\\\\n",
       "\t Immunology\\_and\\_Microbiology                  &  0.1404084758                                    & 1.635807e-02                                     &   8.5834355                                      &  9.208093e-18                                   \\\\\n",
       "\t Dentistry                                    & -1.3999496933                                & 1.035512e-01                                 & -13.5193965                                  &  1.201575e-41                               \\\\\n",
       "\t Earth\\_and\\_Planetary\\_Sciences                 & -0.4023975972                                      & 1.691009e-02                                       & -23.7962978                                        & 3.647943e-125                                     \\\\\n",
       "\t Environmental\\_Science                        & -0.1651995518                                  & 1.220186e-02                                   & -13.5388845                                    &  9.217808e-42                                 \\\\\n",
       "\t Mathematics                                  &  0.3169954010                                & 3.046764e-02                                 &  10.4043318                                  &  2.369124e-25                               \\\\\n",
       "\t Arts\\_and\\_Humanities                          & -0.2477118616                                    & 3.388833e-02                                     &  -7.3096515                                      &  2.678361e-13                                   \\\\\n",
       "\t Energy                                       & -0.9547387378                                & 3.818983e-02                                 & -24.9998155                                  & 6.141702e-138                               \\\\\n",
       "\t Veterinary                                   & -1.0309357571                                & 5.481978e-02                                 & -18.8059092                                  &  6.755401e-79                               \\\\\n",
       "\t General                                      &  0.6010448671                                & 1.591354e-02                                 &  37.7693914                                  &  0.000000e+00                               \\\\\n",
       "\\end{tabular}\n"
      ],
      "text/markdown": [
       "\n",
       "| term | estimate | std.error | statistic | p.value |\n",
       "|---|---|---|---|---|\n",
       "| (Intercept)                                  |  0.9608714085                                | 1.703314e-02                                 |  56.4118928                                  |  0.000000e+00                                |\n",
       "| genderFemale                                 |  0.0910016147                                | 6.362132e-03                                 |  14.3036355                                  |  2.076710e-46                                |\n",
       "| authorship_posfirst_position                 |  0.0790049051                                | 8.982112e-03                                 |   8.7958046                                  |  1.420266e-18                                |\n",
       "| authorship_posmiddle_position                |  0.3653361067                                | 7.591775e-03                                 |  48.1226225                                  |  0.000000e+00                                |\n",
       "| authorship_possolo_author                    | -0.2962323933                                | 1.742159e-02                                 | -17.0037493                                  |  7.703169e-65                                |\n",
       "| matched_tid_follower_cn_log                  |  0.1170529651                                | 1.404737e-03                                 |  83.3272934                                  |  0.000000e+00                                |\n",
       "| author_pub_count_cate                        | -0.1342249890                                | 3.077311e-03                                 | -43.6176240                                  |  0.000000e+00                                |\n",
       "| affiliation_rank_cate                        | -0.0246866275                                | 1.066255e-03                                 | -23.1526453                                  | 1.367238e-118                                |\n",
       "| affiliation_cateinternational                | -0.0821448799                                | 6.280782e-03                                 | -13.0787653                                  |  4.354561e-39                                |\n",
       "| num_authors                                  |  0.0007912782                                | 2.771271e-05                                 |  28.5528929                                  | 2.586001e-179                                |\n",
       "| journal_impact                               |  0.0524228619                                | 3.042411e-04                                 | 172.3069930                                  |  0.000000e+00                                |\n",
       "| author_citation_log                          |  0.0781290194                                | 1.704081e-03                                 |  45.8481942                                  |  0.000000e+00                                |\n",
       "| Social_Sciences                              | -0.1524076385                                | 1.269320e-02                                 | -12.0070288                                  |  3.263611e-33                                |\n",
       "| Materials_Science                            | -0.4949565541                                | 2.438075e-02                                 | -20.3011209                                  |  1.256852e-91                                |\n",
       "| Engineering                                  | -0.3148888001                                | 2.107915e-02                                 | -14.9383985                                  |  1.853769e-50                                |\n",
       "| Chemistry                                    | -0.7051835590                                | 1.725551e-02                                 | -40.8671548                                  |  0.000000e+00                                |\n",
       "| Biochemistry__Genetics_and_Molecular_Biology |  0.2496011395                                | 8.567966e-03                                 |  29.1319027                                  | 1.416444e-186                                |\n",
       "| Medicine                                     | -0.4349629563                                | 6.961615e-03                                 | -62.4801840                                  |  0.000000e+00                                |\n",
       "| Nursing                                      |  0.0145280130                                | 2.096144e-02                                 |   0.6930827                                  |  4.882576e-01                                |\n",
       "| Agricultural_and_Biological_Sciences         |  0.1982459368                                | 1.001563e-02                                 |  19.7936542                                  |  3.376506e-87                                |\n",
       "| Pharmacology__Toxicology_and_Pharmaceutics   | -0.7063325100                                | 2.356937e-02                                 | -29.9682426                                  | 2.545790e-197                                |\n",
       "| Neuroscience                                 | -0.0487180398                                | 1.420553e-02                                 |  -3.4295131                                  |  6.046654e-04                                |\n",
       "| Business__Management_and_Accounting          | -0.4315142832                                | 2.676460e-02                                 | -16.1225775                                  |  1.770673e-58                                |\n",
       "| Economics__Econometrics_and_Finance          | -0.0781795218                                | 2.765020e-02                                 |  -2.8274485                                  |  4.692056e-03                                |\n",
       "| Chemical_Engineering                         |  0.1120130034                                | 2.463809e-02                                 |   4.5463356                                  |  5.458798e-06                                |\n",
       "| Physics_and_Astronomy                        | -0.4961783181                                | 2.247875e-02                                 | -22.0732178                                  | 5.717432e-108                                |\n",
       "| Computer_Science                             | -0.3283792994                                | 2.248467e-02                                 | -14.6045884                                  |  2.625631e-48                                |\n",
       "| Decision_Sciences                            | -0.1500955095                                | 4.483796e-02                                 |  -3.3475101                                  |  8.154101e-04                                |\n",
       "| Health_Professions                           |  0.7540316827                                | 2.062472e-02                                 |  36.5596102                                  | 1.254599e-292                                |\n",
       "| Psychology                                   | -0.0420415939                                | 1.959706e-02                                 |  -2.1453007                                  |  3.192882e-02                                |\n",
       "| Immunology_and_Microbiology                  |  0.1404084758                                | 1.635807e-02                                 |   8.5834355                                  |  9.208093e-18                                |\n",
       "| Dentistry                                    | -1.3999496933                                | 1.035512e-01                                 | -13.5193965                                  |  1.201575e-41                                |\n",
       "| Earth_and_Planetary_Sciences                 | -0.4023975972                                | 1.691009e-02                                 | -23.7962978                                  | 3.647943e-125                                |\n",
       "| Environmental_Science                        | -0.1651995518                                | 1.220186e-02                                 | -13.5388845                                  |  9.217808e-42                                |\n",
       "| Mathematics                                  |  0.3169954010                                | 3.046764e-02                                 |  10.4043318                                  |  2.369124e-25                                |\n",
       "| Arts_and_Humanities                          | -0.2477118616                                | 3.388833e-02                                 |  -7.3096515                                  |  2.678361e-13                                |\n",
       "| Energy                                       | -0.9547387378                                | 3.818983e-02                                 | -24.9998155                                  | 6.141702e-138                                |\n",
       "| Veterinary                                   | -1.0309357571                                | 5.481978e-02                                 | -18.8059092                                  |  6.755401e-79                                |\n",
       "| General                                      |  0.6010448671                                | 1.591354e-02                                 |  37.7693914                                  |  0.000000e+00                                |\n",
       "\n"
      ],
      "text/plain": [
       "   term                                         estimate      std.error   \n",
       "1  (Intercept)                                   0.9608714085 1.703314e-02\n",
       "2  genderFemale                                  0.0910016147 6.362132e-03\n",
       "3  authorship_posfirst_position                  0.0790049051 8.982112e-03\n",
       "4  authorship_posmiddle_position                 0.3653361067 7.591775e-03\n",
       "5  authorship_possolo_author                    -0.2962323933 1.742159e-02\n",
       "6  matched_tid_follower_cn_log                   0.1170529651 1.404737e-03\n",
       "7  author_pub_count_cate                        -0.1342249890 3.077311e-03\n",
       "8  affiliation_rank_cate                        -0.0246866275 1.066255e-03\n",
       "9  affiliation_cateinternational                -0.0821448799 6.280782e-03\n",
       "10 num_authors                                   0.0007912782 2.771271e-05\n",
       "11 journal_impact                                0.0524228619 3.042411e-04\n",
       "12 author_citation_log                           0.0781290194 1.704081e-03\n",
       "13 Social_Sciences                              -0.1524076385 1.269320e-02\n",
       "14 Materials_Science                            -0.4949565541 2.438075e-02\n",
       "15 Engineering                                  -0.3148888001 2.107915e-02\n",
       "16 Chemistry                                    -0.7051835590 1.725551e-02\n",
       "17 Biochemistry__Genetics_and_Molecular_Biology  0.2496011395 8.567966e-03\n",
       "18 Medicine                                     -0.4349629563 6.961615e-03\n",
       "19 Nursing                                       0.0145280130 2.096144e-02\n",
       "20 Agricultural_and_Biological_Sciences          0.1982459368 1.001563e-02\n",
       "21 Pharmacology__Toxicology_and_Pharmaceutics   -0.7063325100 2.356937e-02\n",
       "22 Neuroscience                                 -0.0487180398 1.420553e-02\n",
       "23 Business__Management_and_Accounting          -0.4315142832 2.676460e-02\n",
       "24 Economics__Econometrics_and_Finance          -0.0781795218 2.765020e-02\n",
       "25 Chemical_Engineering                          0.1120130034 2.463809e-02\n",
       "26 Physics_and_Astronomy                        -0.4961783181 2.247875e-02\n",
       "27 Computer_Science                             -0.3283792994 2.248467e-02\n",
       "28 Decision_Sciences                            -0.1500955095 4.483796e-02\n",
       "29 Health_Professions                            0.7540316827 2.062472e-02\n",
       "30 Psychology                                   -0.0420415939 1.959706e-02\n",
       "31 Immunology_and_Microbiology                   0.1404084758 1.635807e-02\n",
       "32 Dentistry                                    -1.3999496933 1.035512e-01\n",
       "33 Earth_and_Planetary_Sciences                 -0.4023975972 1.691009e-02\n",
       "34 Environmental_Science                        -0.1651995518 1.220186e-02\n",
       "35 Mathematics                                   0.3169954010 3.046764e-02\n",
       "36 Arts_and_Humanities                          -0.2477118616 3.388833e-02\n",
       "37 Energy                                       -0.9547387378 3.818983e-02\n",
       "38 Veterinary                                   -1.0309357571 5.481978e-02\n",
       "39 General                                       0.6010448671 1.591354e-02\n",
       "   statistic   p.value      \n",
       "1   56.4118928  0.000000e+00\n",
       "2   14.3036355  2.076710e-46\n",
       "3    8.7958046  1.420266e-18\n",
       "4   48.1226225  0.000000e+00\n",
       "5  -17.0037493  7.703169e-65\n",
       "6   83.3272934  0.000000e+00\n",
       "7  -43.6176240  0.000000e+00\n",
       "8  -23.1526453 1.367238e-118\n",
       "9  -13.0787653  4.354561e-39\n",
       "10  28.5528929 2.586001e-179\n",
       "11 172.3069930  0.000000e+00\n",
       "12  45.8481942  0.000000e+00\n",
       "13 -12.0070288  3.263611e-33\n",
       "14 -20.3011209  1.256852e-91\n",
       "15 -14.9383985  1.853769e-50\n",
       "16 -40.8671548  0.000000e+00\n",
       "17  29.1319027 1.416444e-186\n",
       "18 -62.4801840  0.000000e+00\n",
       "19   0.6930827  4.882576e-01\n",
       "20  19.7936542  3.376506e-87\n",
       "21 -29.9682426 2.545790e-197\n",
       "22  -3.4295131  6.046654e-04\n",
       "23 -16.1225775  1.770673e-58\n",
       "24  -2.8274485  4.692056e-03\n",
       "25   4.5463356  5.458798e-06\n",
       "26 -22.0732178 5.717432e-108\n",
       "27 -14.6045884  2.625631e-48\n",
       "28  -3.3475101  8.154101e-04\n",
       "29  36.5596102 1.254599e-292\n",
       "30  -2.1453007  3.192882e-02\n",
       "31   8.5834355  9.208093e-18\n",
       "32 -13.5193965  1.201575e-41\n",
       "33 -23.7962978 3.647943e-125\n",
       "34 -13.5388845  9.217808e-42\n",
       "35  10.4043318  2.369124e-25\n",
       "36  -7.3096515  2.678361e-13\n",
       "37 -24.9998155 6.141702e-138\n",
       "38 -18.8059092  6.755401e-79\n",
       "39  37.7693914  0.000000e+00"
      ]
     },
     "metadata": {},
     "output_type": "display_data"
    }
   ],
   "source": [
    "tidy(m_yes)"
   ]
  },
  {
   "cell_type": "code",
   "execution_count": 27,
   "id": "74b7cb06",
   "metadata": {
    "scrolled": true
   },
   "outputs": [
    {
     "name": "stdout",
     "output_type": "stream",
     "text": [
      "\n",
      "% Table created by stargazer v.5.2.2 by Marek Hlavac, Harvard University. E-mail: hlavac at fas.harvard.edu\n",
      "% Date and time: Tue, May 10, 2022 - 04:03:58 PM\n",
      "\\begin{table}[!htbp] \\centering \n",
      "  \\caption{} \n",
      "  \\label{} \n",
      "\\begin{tabular}{@{\\extracolsep{5pt}}lc} \n",
      "\\\\[-1.8ex]\\hline \n",
      "\\hline \\\\[-1.8ex] \n",
      " & \\multicolumn{1}{c}{\\textit{Dependent variable:}} \\\\ \n",
      "\\cline{2-2} \n",
      "\\\\[-1.8ex] & researcher \\\\ \n",
      "\\hline \\\\[-1.8ex] \n",
      " genderFemale & 0.091$^{***}$ \\\\ \n",
      "  & p = 0.000 \\\\ \n",
      "  authorship\\_posfirst\\_position & 0.079$^{***}$ \\\\ \n",
      "  & p = 0.000 \\\\ \n",
      "  authorship\\_posmiddle\\_position & 0.365$^{***}$ \\\\ \n",
      "  & p = 0.000 \\\\ \n",
      "  authorship\\_possolo\\_author & $-$0.296$^{***}$ \\\\ \n",
      "  & p = 0.000 \\\\ \n",
      "  matched\\_tid\\_follower\\_cn\\_log & 0.117$^{***}$ \\\\ \n",
      "  & p = 0.000 \\\\ \n",
      "  author\\_pub\\_count\\_cate & $-$0.134$^{***}$ \\\\ \n",
      "  & p = 0.000 \\\\ \n",
      "  affiliation\\_rank\\_cate & $-$0.025$^{***}$ \\\\ \n",
      "  & p = 0.000 \\\\ \n",
      "  affiliation\\_cateinternational & $-$0.082$^{***}$ \\\\ \n",
      "  & p = 0.000 \\\\ \n",
      "  num\\_authors & 0.001$^{***}$ \\\\ \n",
      "  & p = 0.000 \\\\ \n",
      "  journal\\_impact & 0.052$^{***}$ \\\\ \n",
      "  & p = 0.000 \\\\ \n",
      "  author\\_citation\\_log & 0.078$^{***}$ \\\\ \n",
      "  & p = 0.000 \\\\ \n",
      "  Social\\_Sciences & $-$0.152$^{***}$ \\\\ \n",
      "  & p = 0.000 \\\\ \n",
      "  Materials\\_Science & $-$0.495$^{***}$ \\\\ \n",
      "  & p = 0.000 \\\\ \n",
      "  Engineering & $-$0.315$^{***}$ \\\\ \n",
      "  & p = 0.000 \\\\ \n",
      "  Chemistry & $-$0.705$^{***}$ \\\\ \n",
      "  & p = 0.000 \\\\ \n",
      "  Biochemistry\\_\\_Genetics\\_and\\_Molecular\\_Biology & 0.250$^{***}$ \\\\ \n",
      "  & p = 0.000 \\\\ \n",
      "  Medicine & $-$0.435$^{***}$ \\\\ \n",
      "  & p = 0.000 \\\\ \n",
      "  Nursing & 0.015 \\\\ \n",
      "  & p = 0.489 \\\\ \n",
      "  Agricultural\\_and\\_Biological\\_Sciences & 0.198$^{***}$ \\\\ \n",
      "  & p = 0.000 \\\\ \n",
      "  Pharmacology\\_\\_Toxicology\\_and\\_Pharmaceutics & $-$0.706$^{***}$ \\\\ \n",
      "  & p = 0.000 \\\\ \n",
      "  Neuroscience & $-$0.049$^{***}$ \\\\ \n",
      "  & p = 0.001 \\\\ \n",
      "  Business\\_\\_Management\\_and\\_Accounting & $-$0.432$^{***}$ \\\\ \n",
      "  & p = 0.000 \\\\ \n",
      "  Economics\\_\\_Econometrics\\_and\\_Finance & $-$0.078$^{**}$ \\\\ \n",
      "  & p = 0.005 \\\\ \n",
      "  Chemical\\_Engineering & 0.112$^{***}$ \\\\ \n",
      "  & p = 0.00001 \\\\ \n",
      "  Physics\\_and\\_Astronomy & $-$0.496$^{***}$ \\\\ \n",
      "  & p = 0.000 \\\\ \n",
      "  Computer\\_Science & $-$0.328$^{***}$ \\\\ \n",
      "  & p = 0.000 \\\\ \n",
      "  Decision\\_Sciences & $-$0.150$^{***}$ \\\\ \n",
      "  & p = 0.001 \\\\ \n",
      "  Health\\_Professions & 0.754$^{***}$ \\\\ \n",
      "  & p = 0.000 \\\\ \n",
      "  Psychology & $-$0.042$^{*}$ \\\\ \n",
      "  & p = 0.032 \\\\ \n",
      "  Immunology\\_and\\_Microbiology & 0.140$^{***}$ \\\\ \n",
      "  & p = 0.000 \\\\ \n",
      "  Dentistry & $-$1.400$^{***}$ \\\\ \n",
      "  & p = 0.000 \\\\ \n",
      "  Earth\\_and\\_Planetary\\_Sciences & $-$0.402$^{***}$ \\\\ \n",
      "  & p = 0.000 \\\\ \n",
      "  Environmental\\_Science & $-$0.165$^{***}$ \\\\ \n",
      "  & p = 0.000 \\\\ \n",
      "  Mathematics & 0.317$^{***}$ \\\\ \n",
      "  & p = 0.000 \\\\ \n",
      "  Arts\\_and\\_Humanities & $-$0.248$^{***}$ \\\\ \n",
      "  & p = 0.000 \\\\ \n",
      "  Energy & $-$0.955$^{***}$ \\\\ \n",
      "  & p = 0.000 \\\\ \n",
      "  Veterinary & $-$1.031$^{***}$ \\\\ \n",
      "  & p = 0.000 \\\\ \n",
      "  General & 0.601$^{***}$ \\\\ \n",
      "  & p = 0.000 \\\\ \n",
      "  Constant & 0.961$^{***}$ \\\\ \n",
      "  & p = 0.000 \\\\ \n",
      " \\hline \\\\[-1.8ex] \n",
      "Observations & 173,594 \\\\ \n",
      "Log Likelihood & $-$600,583.000 \\\\ \n",
      "$\\theta$ & 0.767$^{***}$  (0.003) \\\\ \n",
      "Akaike Inf. Crit. & 1,201,244.000 \\\\ \n",
      "\\hline \n",
      "\\hline \\\\[-1.8ex] \n",
      "\\textit{Note:}  & \\multicolumn{1}{r}{$^{*}$p$<$0.05; $^{**}$p$<$0.01; $^{***}$p$<$0.001} \\\\ \n",
      "\\end{tabular} \n",
      "\\end{table} \n"
     ]
    }
   ],
   "source": [
    "# use this search string in Sublime: \" \\\\\\\\ \\n  &\" with \" &\"\n",
    "stargazer(m_yes, type = \"latex\", single.row=TRUE, ci = FALSE, report = ('vc*p'), star.cutoffs = c(0.05, 0.01, 0.001))"
   ]
  },
  {
   "cell_type": "markdown",
   "id": "2186f96c",
   "metadata": {},
   "source": [
    "## Num of non-scientists"
   ]
  },
  {
   "cell_type": "markdown",
   "id": "907acb1f",
   "metadata": {},
   "source": [
    "### All observations"
   ]
  },
  {
   "cell_type": "code",
   "execution_count": 32,
   "id": "bcdda37b",
   "metadata": {
    "scrolled": true
   },
   "outputs": [
    {
     "data": {
      "text/html": [
       "0"
      ],
      "text/latex": [
       "0"
      ],
      "text/markdown": [
       "0"
      ],
      "text/plain": [
       "[1] 0"
      ]
     },
     "metadata": {},
     "output_type": "display_data"
    }
   ],
   "source": [
    "min(mydata$num_non_scientists)"
   ]
  },
  {
   "cell_type": "code",
   "execution_count": 33,
   "id": "3dad321f",
   "metadata": {
    "scrolled": true
   },
   "outputs": [
    {
     "data": {
      "text/html": [
       "11.7762601898654"
      ],
      "text/latex": [
       "11.7762601898654"
      ],
      "text/markdown": [
       "11.7762601898654"
      ],
      "text/plain": [
       "[1] 11.77626"
      ]
     },
     "metadata": {},
     "output_type": "display_data"
    }
   ],
   "source": [
    "mean(mydata[mydata$gender == \"Female\", 'num_non_scientists'])"
   ]
  },
  {
   "cell_type": "code",
   "execution_count": 34,
   "id": "ac602ae7",
   "metadata": {},
   "outputs": [
    {
     "data": {
      "text/html": [
       "12.6098925227483"
      ],
      "text/latex": [
       "12.6098925227483"
      ],
      "text/markdown": [
       "12.6098925227483"
      ],
      "text/plain": [
       "[1] 12.60989"
      ]
     },
     "metadata": {},
     "output_type": "display_data"
    }
   ],
   "source": [
    "mean(mydata[mydata$gender == \"Male\", 'num_non_scientists'])"
   ]
  },
  {
   "cell_type": "markdown",
   "id": "b1a51d3b",
   "metadata": {},
   "source": [
    "Negative Binomial Regression"
   ]
  },
  {
   "cell_type": "code",
   "execution_count": 35,
   "id": "e11b1260",
   "metadata": {},
   "outputs": [],
   "source": [
    "base_str <- \"num_non_scientists ~ 1 + gender\"\n",
    "m_binary_bar <- glm.nb(formula = base_str, data = mydata)"
   ]
  },
  {
   "cell_type": "code",
   "execution_count": 36,
   "id": "5b92715b",
   "metadata": {
    "scrolled": true
   },
   "outputs": [
    {
     "data": {
      "text/html": [
       "<table>\n",
       "<thead><tr><th scope=col>term</th><th scope=col>estimate</th><th scope=col>std.error</th><th scope=col>statistic</th><th scope=col>p.value</th></tr></thead>\n",
       "<tbody>\n",
       "\t<tr><td>(Intercept)  </td><td> 2.53448163  </td><td>0.001413511  </td><td>1793.03970   </td><td> 0.000000e+00</td></tr>\n",
       "\t<tr><td>genderFemale </td><td>-0.06839597  </td><td>0.002352205  </td><td> -29.07738   </td><td>6.936884e-186</td></tr>\n",
       "</tbody>\n",
       "</table>\n"
      ],
      "text/latex": [
       "\\begin{tabular}{r|lllll}\n",
       " term & estimate & std.error & statistic & p.value\\\\\n",
       "\\hline\n",
       "\t (Intercept)   &  2.53448163   & 0.001413511   & 1793.03970    &  0.000000e+00\\\\\n",
       "\t genderFemale  & -0.06839597   & 0.002352205   &  -29.07738    & 6.936884e-186\\\\\n",
       "\\end{tabular}\n"
      ],
      "text/markdown": [
       "\n",
       "| term | estimate | std.error | statistic | p.value |\n",
       "|---|---|---|---|---|\n",
       "| (Intercept)   |  2.53448163   | 0.001413511   | 1793.03970    |  0.000000e+00 |\n",
       "| genderFemale  | -0.06839597   | 0.002352205   |  -29.07738    | 6.936884e-186 |\n",
       "\n"
      ],
      "text/plain": [
       "  term         estimate    std.error   statistic  p.value      \n",
       "1 (Intercept)   2.53448163 0.001413511 1793.03970  0.000000e+00\n",
       "2 genderFemale -0.06839597 0.002352205  -29.07738 6.936884e-186"
      ]
     },
     "metadata": {},
     "output_type": "display_data"
    }
   ],
   "source": [
    "tidy(m_binary_bar)"
   ]
  },
  {
   "cell_type": "code",
   "execution_count": 37,
   "id": "0c6ca676",
   "metadata": {},
   "outputs": [],
   "source": [
    "base_str <- \"num_non_scientists ~ 1 + gender + journal_impact\"\n",
    "m_binary_bar <- glm.nb(formula = base_str, data = mydata)"
   ]
  },
  {
   "cell_type": "code",
   "execution_count": 38,
   "id": "9566c984",
   "metadata": {
    "scrolled": false
   },
   "outputs": [
    {
     "data": {
      "text/html": [
       "<table>\n",
       "<thead><tr><th scope=col>term</th><th scope=col>estimate</th><th scope=col>std.error</th><th scope=col>statistic</th><th scope=col>p.value</th></tr></thead>\n",
       "<tbody>\n",
       "\t<tr><td>(Intercept)   </td><td>1.5544031     </td><td>0.001542573   </td><td>1007.669318   </td><td>0.000000e+00  </td></tr>\n",
       "\t<tr><td>genderFemale  </td><td>0.0191186     </td><td>0.002116514   </td><td>   9.033057   </td><td>1.669423e-19  </td></tr>\n",
       "\t<tr><td>journal_impact</td><td>0.1028258     </td><td>0.000142137   </td><td> 723.426980   </td><td>0.000000e+00  </td></tr>\n",
       "</tbody>\n",
       "</table>\n"
      ],
      "text/latex": [
       "\\begin{tabular}{r|lllll}\n",
       " term & estimate & std.error & statistic & p.value\\\\\n",
       "\\hline\n",
       "\t (Intercept)    & 1.5544031      & 0.001542573    & 1007.669318    & 0.000000e+00  \\\\\n",
       "\t genderFemale   & 0.0191186      & 0.002116514    &    9.033057    & 1.669423e-19  \\\\\n",
       "\t journal\\_impact & 0.1028258        & 0.000142137      &  723.426980      & 0.000000e+00    \\\\\n",
       "\\end{tabular}\n"
      ],
      "text/markdown": [
       "\n",
       "| term | estimate | std.error | statistic | p.value |\n",
       "|---|---|---|---|---|\n",
       "| (Intercept)    | 1.5544031      | 0.001542573    | 1007.669318    | 0.000000e+00   |\n",
       "| genderFemale   | 0.0191186      | 0.002116514    |    9.033057    | 1.669423e-19   |\n",
       "| journal_impact | 0.1028258      | 0.000142137    |  723.426980    | 0.000000e+00   |\n",
       "\n"
      ],
      "text/plain": [
       "  term           estimate  std.error   statistic   p.value     \n",
       "1 (Intercept)    1.5544031 0.001542573 1007.669318 0.000000e+00\n",
       "2 genderFemale   0.0191186 0.002116514    9.033057 1.669423e-19\n",
       "3 journal_impact 0.1028258 0.000142137  723.426980 0.000000e+00"
      ]
     },
     "metadata": {},
     "output_type": "display_data"
    }
   ],
   "source": [
    "tidy(m_binary_bar)"
   ]
  },
  {
   "cell_type": "code",
   "execution_count": 28,
   "id": "ea5fd071",
   "metadata": {},
   "outputs": [],
   "source": [
    "base_str <- \"num_non_scientists ~ 1 + gender * self_promotion + authorship_pos + \\\n",
    "        author_pub_count_cate + affiliation_rank_cate + affiliation_cate + num_authors + journal_impact + author_citation_log\"\n",
    "equation <- as.formula(paste(base_str, keywords, sep = \" \"))\n",
    "m_binary <- glm.nb(equation, data = mydata)"
   ]
  },
  {
   "cell_type": "code",
   "execution_count": 29,
   "id": "b15fa92c",
   "metadata": {
    "scrolled": true
   },
   "outputs": [
    {
     "data": {
      "text/html": [
       "2375419"
      ],
      "text/latex": [
       "2375419"
      ],
      "text/markdown": [
       "2375419"
      ],
      "text/plain": [
       "[1] 2375419"
      ]
     },
     "metadata": {},
     "output_type": "display_data"
    }
   ],
   "source": [
    "nobs(m_binary)"
   ]
  },
  {
   "cell_type": "code",
   "execution_count": 30,
   "id": "4892e726",
   "metadata": {
    "scrolled": true
   },
   "outputs": [
    {
     "data": {
      "text/html": [
       "<table>\n",
       "<thead><tr><th scope=col>term</th><th scope=col>estimate</th><th scope=col>std.error</th><th scope=col>statistic</th><th scope=col>p.value</th></tr></thead>\n",
       "<tbody>\n",
       "\t<tr><td>(Intercept)                                 </td><td> 1.362463e+00                               </td><td>4.140654e-03                                </td><td> 329.0454007                                </td><td> 0.000000e+00                               </td></tr>\n",
       "\t<tr><td>genderFemale                                </td><td> 1.617873e-02                               </td><td>2.095327e-03                                </td><td>   7.7213374                                </td><td> 1.151154e-14                               </td></tr>\n",
       "\t<tr><td>self_promotionTrue                          </td><td> 1.501359e+00                               </td><td>4.276208e-03                                </td><td> 351.0959666                                </td><td> 0.000000e+00                               </td></tr>\n",
       "\t<tr><td>authorship_posfirst_position                </td><td> 1.035959e-02                               </td><td>3.531658e-03                                </td><td>   2.9333513                                </td><td> 3.353243e-03                               </td></tr>\n",
       "\t<tr><td>authorship_posmiddle_position               </td><td> 2.391506e-01                               </td><td>2.744304e-03                                </td><td>  87.1443497                                </td><td> 0.000000e+00                               </td></tr>\n",
       "\t<tr><td>authorship_possolo_author                   </td><td>-1.865916e-01                               </td><td>8.844143e-03                                </td><td> -21.0977593                                </td><td> 8.339538e-99                               </td></tr>\n",
       "\t<tr><td>author_pub_count_cate                       </td><td>-5.987906e-02                               </td><td>9.735538e-04                                </td><td> -61.5056525                                </td><td> 0.000000e+00                               </td></tr>\n",
       "\t<tr><td>affiliation_rank_cate                       </td><td>-2.045037e-02                               </td><td>3.576485e-04                                </td><td> -57.1800894                                </td><td> 0.000000e+00                               </td></tr>\n",
       "\t<tr><td>affiliation_cateinternational               </td><td>-1.092388e-01                               </td><td>2.112426e-03                                </td><td> -51.7125000                                </td><td> 0.000000e+00                               </td></tr>\n",
       "\t<tr><td>num_authors                                 </td><td> 8.395813e-05                               </td><td>3.066321e-06                                </td><td>  27.3807354                                </td><td>4.651749e-165                               </td></tr>\n",
       "\t<tr><td>journal_impact                              </td><td> 8.921664e-02                               </td><td>1.432942e-04                                </td><td> 622.6117665                                </td><td> 0.000000e+00                               </td></tr>\n",
       "\t<tr><td>author_citation_log                         </td><td> 4.533357e-02                               </td><td>5.473630e-04                                </td><td>  82.8217629                                </td><td> 0.000000e+00                               </td></tr>\n",
       "\t<tr><td>Social_Sciences                             </td><td> 1.933458e-01                               </td><td>6.031079e-03                                </td><td>  32.0582429                                </td><td>1.685162e-225                               </td></tr>\n",
       "\t<tr><td>Materials_Science                           </td><td>-6.727841e-01                               </td><td>6.284958e-03                                </td><td>-107.0467080                                </td><td> 0.000000e+00                               </td></tr>\n",
       "\t<tr><td>Engineering                                 </td><td>-5.683319e-01                               </td><td>5.880428e-03                                </td><td> -96.6480539                                </td><td> 0.000000e+00                               </td></tr>\n",
       "\t<tr><td>Chemistry                                   </td><td>-9.201276e-01                               </td><td>4.689913e-03                                </td><td>-196.1929017                                </td><td> 0.000000e+00                               </td></tr>\n",
       "\t<tr><td>Biochemistry__Genetics_and_Molecular_Biology</td><td>-2.639378e-01                               </td><td>2.633917e-03                                </td><td>-100.2073390                                </td><td> 0.000000e+00                               </td></tr>\n",
       "\t<tr><td>Medicine                                    </td><td> 9.063470e-02                               </td><td>2.202202e-03                                </td><td>  41.1563900                                </td><td> 0.000000e+00                               </td></tr>\n",
       "\t<tr><td>Nursing                                     </td><td> 4.044444e-01                               </td><td>7.076903e-03                                </td><td>  57.1499188                                </td><td> 0.000000e+00                               </td></tr>\n",
       "\t<tr><td>Agricultural_and_Biological_Sciences        </td><td> 3.210729e-01                               </td><td>3.680644e-03                                </td><td>  87.2328102                                </td><td> 0.000000e+00                               </td></tr>\n",
       "\t<tr><td>Pharmacology__Toxicology_and_Pharmaceutics  </td><td>-4.225975e-01                               </td><td>5.464627e-03                                </td><td> -77.3332660                                </td><td> 0.000000e+00                               </td></tr>\n",
       "\t<tr><td>Neuroscience                                </td><td> 6.202852e-02                               </td><td>4.583296e-03                                </td><td>  13.5336064                                </td><td> 9.904287e-42                               </td></tr>\n",
       "\t<tr><td>Business__Management_and_Accounting         </td><td>-4.213420e-01                               </td><td>1.133544e-02                                </td><td> -37.1703141                                </td><td>2.059675e-302                               </td></tr>\n",
       "\t<tr><td>Economics__Econometrics_and_Finance         </td><td> 4.251795e-03                               </td><td>1.235469e-02                                </td><td>   0.3441442                                </td><td> 7.307379e-01                               </td></tr>\n",
       "\t<tr><td>Chemical_Engineering                        </td><td> 3.737751e-02                               </td><td>7.462311e-03                                </td><td>   5.0088383                                </td><td> 5.475956e-07                               </td></tr>\n",
       "\t<tr><td>Physics_and_Astronomy                       </td><td>-4.185977e-01                               </td><td>5.007772e-03                                </td><td> -83.5896025                                </td><td> 0.000000e+00                               </td></tr>\n",
       "\t<tr><td>Computer_Science                            </td><td>-3.184076e-01                               </td><td>7.592003e-03                                </td><td> -41.9398657                                </td><td> 0.000000e+00                               </td></tr>\n",
       "\t<tr><td>Decision_Sciences                           </td><td>-6.489720e-01                               </td><td>1.765231e-02                                </td><td> -36.7641411                                </td><td>6.910901e-296                               </td></tr>\n",
       "\t<tr><td>Health_Professions                          </td><td> 6.097814e-01                               </td><td>9.278574e-03                                </td><td>  65.7192996                                </td><td> 0.000000e+00                               </td></tr>\n",
       "\t<tr><td>Psychology                                  </td><td>-1.249886e-01                               </td><td>8.058016e-03                                </td><td> -15.5110923                                </td><td> 2.918710e-54                               </td></tr>\n",
       "\t<tr><td>Immunology_and_Microbiology                 </td><td>-1.419377e-01                               </td><td>4.832971e-03                                </td><td> -29.3686235                                </td><td>1.382212e-189                               </td></tr>\n",
       "\t<tr><td>Dentistry                                   </td><td>-1.124743e+00                               </td><td>1.755307e-02                                </td><td> -64.0766897                                </td><td> 0.000000e+00                               </td></tr>\n",
       "\t<tr><td>Earth_and_Planetary_Sciences                </td><td>-2.655328e-01                               </td><td>5.579460e-03                                </td><td> -47.5911313                                </td><td> 0.000000e+00                               </td></tr>\n",
       "\t<tr><td>Environmental_Science                       </td><td>-7.576367e-02                               </td><td>4.563368e-03                                </td><td> -16.6025752                                </td><td> 6.676405e-62                               </td></tr>\n",
       "\t<tr><td>Mathematics                                 </td><td>-1.614545e-01                               </td><td>8.377534e-03                                </td><td> -19.2723195                                </td><td> 9.173121e-83                               </td></tr>\n",
       "\t<tr><td>Arts_and_Humanities                         </td><td> 1.091684e-02                               </td><td>1.585959e-02                                </td><td>   0.6883433                                </td><td> 4.912366e-01                               </td></tr>\n",
       "\t<tr><td>Energy                                      </td><td>-1.103990e+00                               </td><td>1.160236e-02                                </td><td> -95.1522192                                </td><td> 0.000000e+00                               </td></tr>\n",
       "\t<tr><td>Veterinary                                  </td><td>-4.028158e-01                               </td><td>1.111533e-02                                </td><td> -36.2396765                                </td><td>1.445045e-287                               </td></tr>\n",
       "\t<tr><td>General                                     </td><td> 4.314221e-01                               </td><td>7.887250e-03                                </td><td>  54.6986749                                </td><td> 0.000000e+00                               </td></tr>\n",
       "\t<tr><td>genderFemale:self_promotionTrue             </td><td> 2.336579e-02                               </td><td>7.460526e-03                                </td><td>   3.1319219                                </td><td> 1.736660e-03                               </td></tr>\n",
       "</tbody>\n",
       "</table>\n"
      ],
      "text/latex": [
       "\\begin{tabular}{r|lllll}\n",
       " term & estimate & std.error & statistic & p.value\\\\\n",
       "\\hline\n",
       "\t (Intercept)                                  &  1.362463e+00                                & 4.140654e-03                                 &  329.0454007                                 &  0.000000e+00                               \\\\\n",
       "\t genderFemale                                 &  1.617873e-02                                & 2.095327e-03                                 &    7.7213374                                 &  1.151154e-14                               \\\\\n",
       "\t self\\_promotionTrue                           &  1.501359e+00                                  & 4.276208e-03                                   &  351.0959666                                   &  0.000000e+00                                 \\\\\n",
       "\t authorship\\_posfirst\\_position                 &  1.035959e-02                                    & 3.531658e-03                                     &    2.9333513                                     &  3.353243e-03                                   \\\\\n",
       "\t authorship\\_posmiddle\\_position                &  2.391506e-01                                    & 2.744304e-03                                     &   87.1443497                                     &  0.000000e+00                                   \\\\\n",
       "\t authorship\\_possolo\\_author                    & -1.865916e-01                                    & 8.844143e-03                                     &  -21.0977593                                     &  8.339538e-99                                   \\\\\n",
       "\t author\\_pub\\_count\\_cate                        & -5.987906e-02                                      & 9.735538e-04                                       &  -61.5056525                                       &  0.000000e+00                                     \\\\\n",
       "\t affiliation\\_rank\\_cate                        & -2.045037e-02                                    & 3.576485e-04                                     &  -57.1800894                                     &  0.000000e+00                                   \\\\\n",
       "\t affiliation\\_cateinternational                & -1.092388e-01                                  & 2.112426e-03                                   &  -51.7125000                                   &  0.000000e+00                                 \\\\\n",
       "\t num\\_authors                                  &  8.395813e-05                                  & 3.066321e-06                                   &   27.3807354                                   & 4.651749e-165                                 \\\\\n",
       "\t journal\\_impact                               &  8.921664e-02                                  & 1.432942e-04                                   &  622.6117665                                   &  0.000000e+00                                 \\\\\n",
       "\t author\\_citation\\_log                          &  4.533357e-02                                    & 5.473630e-04                                     &   82.8217629                                     &  0.000000e+00                                   \\\\\n",
       "\t Social\\_Sciences                              &  1.933458e-01                                  & 6.031079e-03                                   &   32.0582429                                   & 1.685162e-225                                 \\\\\n",
       "\t Materials\\_Science                            & -6.727841e-01                                  & 6.284958e-03                                   & -107.0467080                                   &  0.000000e+00                                 \\\\\n",
       "\t Engineering                                  & -5.683319e-01                                & 5.880428e-03                                 &  -96.6480539                                 &  0.000000e+00                               \\\\\n",
       "\t Chemistry                                    & -9.201276e-01                                & 4.689913e-03                                 & -196.1929017                                 &  0.000000e+00                               \\\\\n",
       "\t Biochemistry\\_\\_Genetics\\_and\\_Molecular\\_Biology & -2.639378e-01                                          & 2.633917e-03                                           & -100.2073390                                           &  0.000000e+00                                         \\\\\n",
       "\t Medicine                                     &  9.063470e-02                                & 2.202202e-03                                 &   41.1563900                                 &  0.000000e+00                               \\\\\n",
       "\t Nursing                                      &  4.044444e-01                                & 7.076903e-03                                 &   57.1499188                                 &  0.000000e+00                               \\\\\n",
       "\t Agricultural\\_and\\_Biological\\_Sciences         &  3.210729e-01                                      & 3.680644e-03                                       &   87.2328102                                       &  0.000000e+00                                     \\\\\n",
       "\t Pharmacology\\_\\_Toxicology\\_and\\_Pharmaceutics   & -4.225975e-01                                        & 5.464627e-03                                         &  -77.3332660                                         &  0.000000e+00                                       \\\\\n",
       "\t Neuroscience                                 &  6.202852e-02                                & 4.583296e-03                                 &   13.5336064                                 &  9.904287e-42                               \\\\\n",
       "\t Business\\_\\_Management\\_and\\_Accounting          & -4.213420e-01                                        & 1.133544e-02                                         &  -37.1703141                                         & 2.059675e-302                                       \\\\\n",
       "\t Economics\\_\\_Econometrics\\_and\\_Finance          &  4.251795e-03                                        & 1.235469e-02                                         &    0.3441442                                         &  7.307379e-01                                       \\\\\n",
       "\t Chemical\\_Engineering                         &  3.737751e-02                                  & 7.462311e-03                                   &    5.0088383                                   &  5.475956e-07                                 \\\\\n",
       "\t Physics\\_and\\_Astronomy                        & -4.185977e-01                                    & 5.007772e-03                                     &  -83.5896025                                     &  0.000000e+00                                   \\\\\n",
       "\t Computer\\_Science                             & -3.184076e-01                                  & 7.592003e-03                                   &  -41.9398657                                   &  0.000000e+00                                 \\\\\n",
       "\t Decision\\_Sciences                            & -6.489720e-01                                  & 1.765231e-02                                   &  -36.7641411                                   & 6.910901e-296                                 \\\\\n",
       "\t Health\\_Professions                           &  6.097814e-01                                  & 9.278574e-03                                   &   65.7192996                                   &  0.000000e+00                                 \\\\\n",
       "\t Psychology                                   & -1.249886e-01                                & 8.058016e-03                                 &  -15.5110923                                 &  2.918710e-54                               \\\\\n",
       "\t Immunology\\_and\\_Microbiology                  & -1.419377e-01                                    & 4.832971e-03                                     &  -29.3686235                                     & 1.382212e-189                                   \\\\\n",
       "\t Dentistry                                    & -1.124743e+00                                & 1.755307e-02                                 &  -64.0766897                                 &  0.000000e+00                               \\\\\n",
       "\t Earth\\_and\\_Planetary\\_Sciences                 & -2.655328e-01                                      & 5.579460e-03                                       &  -47.5911313                                       &  0.000000e+00                                     \\\\\n",
       "\t Environmental\\_Science                        & -7.576367e-02                                  & 4.563368e-03                                   &  -16.6025752                                   &  6.676405e-62                                 \\\\\n",
       "\t Mathematics                                  & -1.614545e-01                                & 8.377534e-03                                 &  -19.2723195                                 &  9.173121e-83                               \\\\\n",
       "\t Arts\\_and\\_Humanities                          &  1.091684e-02                                    & 1.585959e-02                                     &    0.6883433                                     &  4.912366e-01                                   \\\\\n",
       "\t Energy                                       & -1.103990e+00                                & 1.160236e-02                                 &  -95.1522192                                 &  0.000000e+00                               \\\\\n",
       "\t Veterinary                                   & -4.028158e-01                                & 1.111533e-02                                 &  -36.2396765                                 & 1.445045e-287                               \\\\\n",
       "\t General                                      &  4.314221e-01                                & 7.887250e-03                                 &   54.6986749                                 &  0.000000e+00                               \\\\\n",
       "\t genderFemale:self\\_promotionTrue              &  2.336579e-02                                  & 7.460526e-03                                   &    3.1319219                                   &  1.736660e-03                                 \\\\\n",
       "\\end{tabular}\n"
      ],
      "text/markdown": [
       "\n",
       "| term | estimate | std.error | statistic | p.value |\n",
       "|---|---|---|---|---|\n",
       "| (Intercept)                                  |  1.362463e+00                                | 4.140654e-03                                 |  329.0454007                                 |  0.000000e+00                                |\n",
       "| genderFemale                                 |  1.617873e-02                                | 2.095327e-03                                 |    7.7213374                                 |  1.151154e-14                                |\n",
       "| self_promotionTrue                           |  1.501359e+00                                | 4.276208e-03                                 |  351.0959666                                 |  0.000000e+00                                |\n",
       "| authorship_posfirst_position                 |  1.035959e-02                                | 3.531658e-03                                 |    2.9333513                                 |  3.353243e-03                                |\n",
       "| authorship_posmiddle_position                |  2.391506e-01                                | 2.744304e-03                                 |   87.1443497                                 |  0.000000e+00                                |\n",
       "| authorship_possolo_author                    | -1.865916e-01                                | 8.844143e-03                                 |  -21.0977593                                 |  8.339538e-99                                |\n",
       "| author_pub_count_cate                        | -5.987906e-02                                | 9.735538e-04                                 |  -61.5056525                                 |  0.000000e+00                                |\n",
       "| affiliation_rank_cate                        | -2.045037e-02                                | 3.576485e-04                                 |  -57.1800894                                 |  0.000000e+00                                |\n",
       "| affiliation_cateinternational                | -1.092388e-01                                | 2.112426e-03                                 |  -51.7125000                                 |  0.000000e+00                                |\n",
       "| num_authors                                  |  8.395813e-05                                | 3.066321e-06                                 |   27.3807354                                 | 4.651749e-165                                |\n",
       "| journal_impact                               |  8.921664e-02                                | 1.432942e-04                                 |  622.6117665                                 |  0.000000e+00                                |\n",
       "| author_citation_log                          |  4.533357e-02                                | 5.473630e-04                                 |   82.8217629                                 |  0.000000e+00                                |\n",
       "| Social_Sciences                              |  1.933458e-01                                | 6.031079e-03                                 |   32.0582429                                 | 1.685162e-225                                |\n",
       "| Materials_Science                            | -6.727841e-01                                | 6.284958e-03                                 | -107.0467080                                 |  0.000000e+00                                |\n",
       "| Engineering                                  | -5.683319e-01                                | 5.880428e-03                                 |  -96.6480539                                 |  0.000000e+00                                |\n",
       "| Chemistry                                    | -9.201276e-01                                | 4.689913e-03                                 | -196.1929017                                 |  0.000000e+00                                |\n",
       "| Biochemistry__Genetics_and_Molecular_Biology | -2.639378e-01                                | 2.633917e-03                                 | -100.2073390                                 |  0.000000e+00                                |\n",
       "| Medicine                                     |  9.063470e-02                                | 2.202202e-03                                 |   41.1563900                                 |  0.000000e+00                                |\n",
       "| Nursing                                      |  4.044444e-01                                | 7.076903e-03                                 |   57.1499188                                 |  0.000000e+00                                |\n",
       "| Agricultural_and_Biological_Sciences         |  3.210729e-01                                | 3.680644e-03                                 |   87.2328102                                 |  0.000000e+00                                |\n",
       "| Pharmacology__Toxicology_and_Pharmaceutics   | -4.225975e-01                                | 5.464627e-03                                 |  -77.3332660                                 |  0.000000e+00                                |\n",
       "| Neuroscience                                 |  6.202852e-02                                | 4.583296e-03                                 |   13.5336064                                 |  9.904287e-42                                |\n",
       "| Business__Management_and_Accounting          | -4.213420e-01                                | 1.133544e-02                                 |  -37.1703141                                 | 2.059675e-302                                |\n",
       "| Economics__Econometrics_and_Finance          |  4.251795e-03                                | 1.235469e-02                                 |    0.3441442                                 |  7.307379e-01                                |\n",
       "| Chemical_Engineering                         |  3.737751e-02                                | 7.462311e-03                                 |    5.0088383                                 |  5.475956e-07                                |\n",
       "| Physics_and_Astronomy                        | -4.185977e-01                                | 5.007772e-03                                 |  -83.5896025                                 |  0.000000e+00                                |\n",
       "| Computer_Science                             | -3.184076e-01                                | 7.592003e-03                                 |  -41.9398657                                 |  0.000000e+00                                |\n",
       "| Decision_Sciences                            | -6.489720e-01                                | 1.765231e-02                                 |  -36.7641411                                 | 6.910901e-296                                |\n",
       "| Health_Professions                           |  6.097814e-01                                | 9.278574e-03                                 |   65.7192996                                 |  0.000000e+00                                |\n",
       "| Psychology                                   | -1.249886e-01                                | 8.058016e-03                                 |  -15.5110923                                 |  2.918710e-54                                |\n",
       "| Immunology_and_Microbiology                  | -1.419377e-01                                | 4.832971e-03                                 |  -29.3686235                                 | 1.382212e-189                                |\n",
       "| Dentistry                                    | -1.124743e+00                                | 1.755307e-02                                 |  -64.0766897                                 |  0.000000e+00                                |\n",
       "| Earth_and_Planetary_Sciences                 | -2.655328e-01                                | 5.579460e-03                                 |  -47.5911313                                 |  0.000000e+00                                |\n",
       "| Environmental_Science                        | -7.576367e-02                                | 4.563368e-03                                 |  -16.6025752                                 |  6.676405e-62                                |\n",
       "| Mathematics                                  | -1.614545e-01                                | 8.377534e-03                                 |  -19.2723195                                 |  9.173121e-83                                |\n",
       "| Arts_and_Humanities                          |  1.091684e-02                                | 1.585959e-02                                 |    0.6883433                                 |  4.912366e-01                                |\n",
       "| Energy                                       | -1.103990e+00                                | 1.160236e-02                                 |  -95.1522192                                 |  0.000000e+00                                |\n",
       "| Veterinary                                   | -4.028158e-01                                | 1.111533e-02                                 |  -36.2396765                                 | 1.445045e-287                                |\n",
       "| General                                      |  4.314221e-01                                | 7.887250e-03                                 |   54.6986749                                 |  0.000000e+00                                |\n",
       "| genderFemale:self_promotionTrue              |  2.336579e-02                                | 7.460526e-03                                 |    3.1319219                                 |  1.736660e-03                                |\n",
       "\n"
      ],
      "text/plain": [
       "   term                                         estimate      std.error   \n",
       "1  (Intercept)                                   1.362463e+00 4.140654e-03\n",
       "2  genderFemale                                  1.617873e-02 2.095327e-03\n",
       "3  self_promotionTrue                            1.501359e+00 4.276208e-03\n",
       "4  authorship_posfirst_position                  1.035959e-02 3.531658e-03\n",
       "5  authorship_posmiddle_position                 2.391506e-01 2.744304e-03\n",
       "6  authorship_possolo_author                    -1.865916e-01 8.844143e-03\n",
       "7  author_pub_count_cate                        -5.987906e-02 9.735538e-04\n",
       "8  affiliation_rank_cate                        -2.045037e-02 3.576485e-04\n",
       "9  affiliation_cateinternational                -1.092388e-01 2.112426e-03\n",
       "10 num_authors                                   8.395813e-05 3.066321e-06\n",
       "11 journal_impact                                8.921664e-02 1.432942e-04\n",
       "12 author_citation_log                           4.533357e-02 5.473630e-04\n",
       "13 Social_Sciences                               1.933458e-01 6.031079e-03\n",
       "14 Materials_Science                            -6.727841e-01 6.284958e-03\n",
       "15 Engineering                                  -5.683319e-01 5.880428e-03\n",
       "16 Chemistry                                    -9.201276e-01 4.689913e-03\n",
       "17 Biochemistry__Genetics_and_Molecular_Biology -2.639378e-01 2.633917e-03\n",
       "18 Medicine                                      9.063470e-02 2.202202e-03\n",
       "19 Nursing                                       4.044444e-01 7.076903e-03\n",
       "20 Agricultural_and_Biological_Sciences          3.210729e-01 3.680644e-03\n",
       "21 Pharmacology__Toxicology_and_Pharmaceutics   -4.225975e-01 5.464627e-03\n",
       "22 Neuroscience                                  6.202852e-02 4.583296e-03\n",
       "23 Business__Management_and_Accounting          -4.213420e-01 1.133544e-02\n",
       "24 Economics__Econometrics_and_Finance           4.251795e-03 1.235469e-02\n",
       "25 Chemical_Engineering                          3.737751e-02 7.462311e-03\n",
       "26 Physics_and_Astronomy                        -4.185977e-01 5.007772e-03\n",
       "27 Computer_Science                             -3.184076e-01 7.592003e-03\n",
       "28 Decision_Sciences                            -6.489720e-01 1.765231e-02\n",
       "29 Health_Professions                            6.097814e-01 9.278574e-03\n",
       "30 Psychology                                   -1.249886e-01 8.058016e-03\n",
       "31 Immunology_and_Microbiology                  -1.419377e-01 4.832971e-03\n",
       "32 Dentistry                                    -1.124743e+00 1.755307e-02\n",
       "33 Earth_and_Planetary_Sciences                 -2.655328e-01 5.579460e-03\n",
       "34 Environmental_Science                        -7.576367e-02 4.563368e-03\n",
       "35 Mathematics                                  -1.614545e-01 8.377534e-03\n",
       "36 Arts_and_Humanities                           1.091684e-02 1.585959e-02\n",
       "37 Energy                                       -1.103990e+00 1.160236e-02\n",
       "38 Veterinary                                   -4.028158e-01 1.111533e-02\n",
       "39 General                                       4.314221e-01 7.887250e-03\n",
       "40 genderFemale:self_promotionTrue               2.336579e-02 7.460526e-03\n",
       "   statistic    p.value      \n",
       "1   329.0454007  0.000000e+00\n",
       "2     7.7213374  1.151154e-14\n",
       "3   351.0959666  0.000000e+00\n",
       "4     2.9333513  3.353243e-03\n",
       "5    87.1443497  0.000000e+00\n",
       "6   -21.0977593  8.339538e-99\n",
       "7   -61.5056525  0.000000e+00\n",
       "8   -57.1800894  0.000000e+00\n",
       "9   -51.7125000  0.000000e+00\n",
       "10   27.3807354 4.651749e-165\n",
       "11  622.6117665  0.000000e+00\n",
       "12   82.8217629  0.000000e+00\n",
       "13   32.0582429 1.685162e-225\n",
       "14 -107.0467080  0.000000e+00\n",
       "15  -96.6480539  0.000000e+00\n",
       "16 -196.1929017  0.000000e+00\n",
       "17 -100.2073390  0.000000e+00\n",
       "18   41.1563900  0.000000e+00\n",
       "19   57.1499188  0.000000e+00\n",
       "20   87.2328102  0.000000e+00\n",
       "21  -77.3332660  0.000000e+00\n",
       "22   13.5336064  9.904287e-42\n",
       "23  -37.1703141 2.059675e-302\n",
       "24    0.3441442  7.307379e-01\n",
       "25    5.0088383  5.475956e-07\n",
       "26  -83.5896025  0.000000e+00\n",
       "27  -41.9398657  0.000000e+00\n",
       "28  -36.7641411 6.910901e-296\n",
       "29   65.7192996  0.000000e+00\n",
       "30  -15.5110923  2.918710e-54\n",
       "31  -29.3686235 1.382212e-189\n",
       "32  -64.0766897  0.000000e+00\n",
       "33  -47.5911313  0.000000e+00\n",
       "34  -16.6025752  6.676405e-62\n",
       "35  -19.2723195  9.173121e-83\n",
       "36    0.6883433  4.912366e-01\n",
       "37  -95.1522192  0.000000e+00\n",
       "38  -36.2396765 1.445045e-287\n",
       "39   54.6986749  0.000000e+00\n",
       "40    3.1319219  1.736660e-03"
      ]
     },
     "metadata": {},
     "output_type": "display_data"
    }
   ],
   "source": [
    "tidy(m_binary)"
   ]
  },
  {
   "cell_type": "code",
   "execution_count": 31,
   "id": "47daea28",
   "metadata": {},
   "outputs": [
    {
     "data": {
      "text/html": [
       "0.344436666208822"
      ],
      "text/latex": [
       "0.344436666208822"
      ],
      "text/markdown": [
       "0.344436666208822"
      ],
      "text/plain": [
       "[1] 0.3444367"
      ]
     },
     "metadata": {},
     "output_type": "display_data"
    }
   ],
   "source": [
    "# you're trying to measure the ratio of the deviance in your model to the null; how much better your model is (residual deviance) than just the intercept (null deviance). If that ratio is tiny, you're 'explaining' most of the deviance in the null; 1 minus that gets you your R-squared.\n",
    "with(summary(m_binary), 1 - deviance/null.deviance)\n"
   ]
  },
  {
   "cell_type": "code",
   "execution_count": 32,
   "id": "94ccdf36",
   "metadata": {
    "scrolled": true
   },
   "outputs": [
    {
     "name": "stdout",
     "output_type": "stream",
     "text": [
      "\n",
      "% Table created by stargazer v.5.2.2 by Marek Hlavac, Harvard University. E-mail: hlavac at fas.harvard.edu\n",
      "% Date and time: Tue, May 10, 2022 - 04:09:46 PM\n",
      "\\begin{table}[!htbp] \\centering \n",
      "  \\caption{} \n",
      "  \\label{} \n",
      "\\begin{tabular}{@{\\extracolsep{5pt}}lc} \n",
      "\\\\[-1.8ex]\\hline \n",
      "\\hline \\\\[-1.8ex] \n",
      " & \\multicolumn{1}{c}{\\textit{Dependent variable:}} \\\\ \n",
      "\\cline{2-2} \n",
      "\\\\[-1.8ex] & num\\_non\\_scientists \\\\ \n",
      "\\hline \\\\[-1.8ex] \n",
      " genderFemale & 0.016$^{***}$ \\\\ \n",
      "  & p = 0.000 \\\\ \n",
      "  self\\_promotionTrue & 1.501$^{***}$ \\\\ \n",
      "  & p = 0.000 \\\\ \n",
      "  authorship\\_posfirst\\_position & 0.010$^{**}$ \\\\ \n",
      "  & p = 0.004 \\\\ \n",
      "  authorship\\_posmiddle\\_position & 0.239$^{***}$ \\\\ \n",
      "  & p = 0.000 \\\\ \n",
      "  authorship\\_possolo\\_author & $-$0.187$^{***}$ \\\\ \n",
      "  & p = 0.000 \\\\ \n",
      "  author\\_pub\\_count\\_cate & $-$0.060$^{***}$ \\\\ \n",
      "  & p = 0.000 \\\\ \n",
      "  affiliation\\_rank\\_cate & $-$0.020$^{***}$ \\\\ \n",
      "  & p = 0.000 \\\\ \n",
      "  affiliation\\_cateinternational & $-$0.109$^{***}$ \\\\ \n",
      "  & p = 0.000 \\\\ \n",
      "  num\\_authors & 0.0001$^{***}$ \\\\ \n",
      "  & p = 0.000 \\\\ \n",
      "  journal\\_impact & 0.089$^{***}$ \\\\ \n",
      "  & p = 0.000 \\\\ \n",
      "  author\\_citation\\_log & 0.045$^{***}$ \\\\ \n",
      "  & p = 0.000 \\\\ \n",
      "  Social\\_Sciences & 0.193$^{***}$ \\\\ \n",
      "  & p = 0.000 \\\\ \n",
      "  Materials\\_Science & $-$0.673$^{***}$ \\\\ \n",
      "  & p = 0.000 \\\\ \n",
      "  Engineering & $-$0.568$^{***}$ \\\\ \n",
      "  & p = 0.000 \\\\ \n",
      "  Chemistry & $-$0.920$^{***}$ \\\\ \n",
      "  & p = 0.000 \\\\ \n",
      "  Biochemistry\\_\\_Genetics\\_and\\_Molecular\\_Biology & $-$0.264$^{***}$ \\\\ \n",
      "  & p = 0.000 \\\\ \n",
      "  Medicine & 0.091$^{***}$ \\\\ \n",
      "  & p = 0.000 \\\\ \n",
      "  Nursing & 0.404$^{***}$ \\\\ \n",
      "  & p = 0.000 \\\\ \n",
      "  Agricultural\\_and\\_Biological\\_Sciences & 0.321$^{***}$ \\\\ \n",
      "  & p = 0.000 \\\\ \n",
      "  Pharmacology\\_\\_Toxicology\\_and\\_Pharmaceutics & $-$0.423$^{***}$ \\\\ \n",
      "  & p = 0.000 \\\\ \n",
      "  Neuroscience & 0.062$^{***}$ \\\\ \n",
      "  & p = 0.000 \\\\ \n",
      "  Business\\_\\_Management\\_and\\_Accounting & $-$0.421$^{***}$ \\\\ \n",
      "  & p = 0.000 \\\\ \n",
      "  Economics\\_\\_Econometrics\\_and\\_Finance & 0.004 \\\\ \n",
      "  & p = 0.731 \\\\ \n",
      "  Chemical\\_Engineering & 0.037$^{***}$ \\\\ \n",
      "  & p = 0.00000 \\\\ \n",
      "  Physics\\_and\\_Astronomy & $-$0.419$^{***}$ \\\\ \n",
      "  & p = 0.000 \\\\ \n",
      "  Computer\\_Science & $-$0.318$^{***}$ \\\\ \n",
      "  & p = 0.000 \\\\ \n",
      "  Decision\\_Sciences & $-$0.649$^{***}$ \\\\ \n",
      "  & p = 0.000 \\\\ \n",
      "  Health\\_Professions & 0.610$^{***}$ \\\\ \n",
      "  & p = 0.000 \\\\ \n",
      "  Psychology & $-$0.125$^{***}$ \\\\ \n",
      "  & p = 0.000 \\\\ \n",
      "  Immunology\\_and\\_Microbiology & $-$0.142$^{***}$ \\\\ \n",
      "  & p = 0.000 \\\\ \n",
      "  Dentistry & $-$1.125$^{***}$ \\\\ \n",
      "  & p = 0.000 \\\\ \n",
      "  Earth\\_and\\_Planetary\\_Sciences & $-$0.266$^{***}$ \\\\ \n",
      "  & p = 0.000 \\\\ \n",
      "  Environmental\\_Science & $-$0.076$^{***}$ \\\\ \n",
      "  & p = 0.000 \\\\ \n",
      "  Mathematics & $-$0.161$^{***}$ \\\\ \n",
      "  & p = 0.000 \\\\ \n",
      "  Arts\\_and\\_Humanities & 0.011 \\\\ \n",
      "  & p = 0.492 \\\\ \n",
      "  Energy & $-$1.104$^{***}$ \\\\ \n",
      "  & p = 0.000 \\\\ \n",
      "  Veterinary & $-$0.403$^{***}$ \\\\ \n",
      "  & p = 0.000 \\\\ \n",
      "  General & 0.431$^{***}$ \\\\ \n",
      "  & p = 0.000 \\\\ \n",
      "  genderFemale:self\\_promotionTrue & 0.023$^{**}$ \\\\ \n",
      "  & p = 0.002 \\\\ \n",
      "  Constant & 1.362$^{***}$ \\\\ \n",
      "  & p = 0.000 \\\\ \n",
      " \\hline \\\\[-1.8ex] \n",
      "Observations & 2,375,419 \\\\ \n",
      "Log Likelihood & $-$6,946,017.000 \\\\ \n",
      "$\\theta$ & 0.529$^{***}$  (0.001) \\\\ \n",
      "Akaike Inf. Crit. & 13,892,114.000 \\\\ \n",
      "\\hline \n",
      "\\hline \\\\[-1.8ex] \n",
      "\\textit{Note:}  & \\multicolumn{1}{r}{$^{*}$p$<$0.05; $^{**}$p$<$0.01; $^{***}$p$<$0.001} \\\\ \n",
      "\\end{tabular} \n",
      "\\end{table} \n"
     ]
    }
   ],
   "source": [
    "# use this search string in Sublime: \" \\\\\\\\ \\n  &\" with \" &\"\n",
    "stargazer(m_binary, type = \"latex\", single.row=TRUE, ci = FALSE, report = ('vc*p'), star.cutoffs = c(0.05, 0.01, 0.001))"
   ]
  },
  {
   "cell_type": "markdown",
   "id": "45a6004f",
   "metadata": {},
   "source": [
    "### Self-promoted subset"
   ]
  },
  {
   "cell_type": "markdown",
   "id": "1f58de98",
   "metadata": {},
   "source": [
    "Negative Binomial Regression"
   ]
  },
  {
   "cell_type": "code",
   "execution_count": 33,
   "id": "503f3e6c",
   "metadata": {},
   "outputs": [],
   "source": [
    "base_str <- \"num_non_scientists ~ 1 + gender + authorship_pos + matched_tid_follower_cn_log + \\\n",
    "        author_pub_count_cate + affiliation_rank_cate + affiliation_cate + num_authors + journal_impact + author_citation_log\"\n",
    "equation <- as.formula(paste(base_str, keywords, sep = \" \"))\n",
    "m_yes <- glm.nb(equation, data = mydata[mydata$self_promotion == \"True\", ])"
   ]
  },
  {
   "cell_type": "code",
   "execution_count": 34,
   "id": "021ddfa0",
   "metadata": {
    "scrolled": true
   },
   "outputs": [
    {
     "data": {
      "text/html": [
       "173594"
      ],
      "text/latex": [
       "173594"
      ],
      "text/markdown": [
       "173594"
      ],
      "text/plain": [
       "[1] 173594"
      ]
     },
     "metadata": {},
     "output_type": "display_data"
    }
   ],
   "source": [
    "nrow(mydata[mydata$self_promotion == \"True\", ])"
   ]
  },
  {
   "cell_type": "code",
   "execution_count": 35,
   "id": "6a8fa280",
   "metadata": {
    "scrolled": true
   },
   "outputs": [
    {
     "data": {
      "text/html": [
       "<table>\n",
       "<thead><tr><th scope=col>term</th><th scope=col>estimate</th><th scope=col>std.error</th><th scope=col>statistic</th><th scope=col>p.value</th></tr></thead>\n",
       "<tbody>\n",
       "\t<tr><td>(Intercept)                                 </td><td> 2.208960469                                </td><td>1.845744e-02                                </td><td>119.6786105                                 </td><td> 0.000000e+00                               </td></tr>\n",
       "\t<tr><td>genderFemale                                </td><td> 0.057845611                                </td><td>6.923082e-03                                </td><td>  8.3554713                                 </td><td> 6.517196e-17                               </td></tr>\n",
       "\t<tr><td>authorship_posfirst_position                </td><td> 0.053602959                                </td><td>9.731413e-03                                </td><td>  5.5082399                                 </td><td> 3.624392e-08                               </td></tr>\n",
       "\t<tr><td>authorship_posmiddle_position               </td><td> 0.425991281                                </td><td>8.258613e-03                                </td><td> 51.5814563                                 </td><td> 0.000000e+00                               </td></tr>\n",
       "\t<tr><td>authorship_possolo_author                   </td><td>-0.212382646                                </td><td>1.864659e-02                                </td><td>-11.3898902                                 </td><td> 4.695812e-30                               </td></tr>\n",
       "\t<tr><td>matched_tid_follower_cn_log                 </td><td> 0.096266663                                </td><td>1.521672e-03                                </td><td> 63.2637252                                 </td><td> 0.000000e+00                               </td></tr>\n",
       "\t<tr><td>author_pub_count_cate                       </td><td>-0.046685868                                </td><td>3.347964e-03                                </td><td>-13.9445549                                 </td><td> 3.395596e-44                               </td></tr>\n",
       "\t<tr><td>affiliation_rank_cate                       </td><td>-0.005416488                                </td><td>1.159423e-03                                </td><td> -4.6717102                                 </td><td> 2.987021e-06                               </td></tr>\n",
       "\t<tr><td>affiliation_cateinternational               </td><td>-0.176312153                                </td><td>6.848992e-03                                </td><td>-25.7427885                                 </td><td>3.882167e-146                               </td></tr>\n",
       "\t<tr><td>num_authors                                 </td><td> 0.001157518                                </td><td>3.071838e-05                                </td><td> 37.6816095                                 </td><td> 0.000000e+00                               </td></tr>\n",
       "\t<tr><td>journal_impact                              </td><td> 0.053214689                                </td><td>3.381271e-04                                </td><td>157.3807082                                 </td><td> 0.000000e+00                               </td></tr>\n",
       "\t<tr><td>author_citation_log                         </td><td> 0.030398432                                </td><td>1.853848e-03                                </td><td> 16.3974776                                 </td><td> 1.993447e-60                               </td></tr>\n",
       "\t<tr><td>Social_Sciences                             </td><td>-0.264374237                                </td><td>1.365934e-02                                </td><td>-19.3548351                                 </td><td> 1.855876e-83                               </td></tr>\n",
       "\t<tr><td>Materials_Science                           </td><td>-0.725058916                                </td><td>2.613086e-02                                </td><td>-27.7472286                                 </td><td>1.881953e-169                               </td></tr>\n",
       "\t<tr><td>Engineering                                 </td><td>-0.207208606                                </td><td>2.235081e-02                                </td><td> -9.2707405                                 </td><td> 1.848580e-20                               </td></tr>\n",
       "\t<tr><td>Chemistry                                   </td><td>-1.215358577                                </td><td>1.860122e-02                                </td><td>-65.3375585                                 </td><td> 0.000000e+00                               </td></tr>\n",
       "\t<tr><td>Biochemistry__Genetics_and_Molecular_Biology</td><td>-0.112552855                                </td><td>9.405175e-03                                </td><td>-11.9671198                                 </td><td> 5.283086e-33                               </td></tr>\n",
       "\t<tr><td>Medicine                                    </td><td> 0.031429126                                </td><td>7.546648e-03                                </td><td>  4.1646471                                 </td><td> 3.118345e-05                               </td></tr>\n",
       "\t<tr><td>Nursing                                     </td><td> 0.145497088                                </td><td>2.257975e-02                                </td><td>  6.4436971                                 </td><td> 1.165976e-10                               </td></tr>\n",
       "\t<tr><td>Agricultural_and_Biological_Sciences        </td><td> 0.089159436                                </td><td>1.098244e-02                                </td><td>  8.1183640                                 </td><td> 4.725098e-16                               </td></tr>\n",
       "\t<tr><td>Pharmacology__Toxicology_and_Pharmaceutics  </td><td>-0.331278320                                </td><td>2.462823e-02                                </td><td>-13.4511643                                 </td><td> 3.030624e-41                               </td></tr>\n",
       "\t<tr><td>Neuroscience                                </td><td>-0.052112095                                </td><td>1.549325e-02                                </td><td> -3.3635357                                 </td><td> 7.695090e-04                               </td></tr>\n",
       "\t<tr><td>Business__Management_and_Accounting         </td><td>-0.539597496                                </td><td>2.827465e-02                                </td><td>-19.0841449                                 </td><td> 3.420284e-81                               </td></tr>\n",
       "\t<tr><td>Economics__Econometrics_and_Finance         </td><td> 0.083484704                                </td><td>2.960475e-02                                </td><td>  2.8199763                                 </td><td> 4.802719e-03                               </td></tr>\n",
       "\t<tr><td>Chemical_Engineering                        </td><td> 0.012316955                                </td><td>2.681662e-02                                </td><td>  0.4593031                                 </td><td> 6.460165e-01                               </td></tr>\n",
       "\t<tr><td>Physics_and_Astronomy                       </td><td>-0.687111088                                </td><td>2.403331e-02                                </td><td>-28.5899464                                 </td><td>8.959675e-180                               </td></tr>\n",
       "\t<tr><td>Computer_Science                            </td><td>-0.438820385                                </td><td>2.410084e-02                                </td><td>-18.2076787                                 </td><td> 4.485660e-74                               </td></tr>\n",
       "\t<tr><td>Decision_Sciences                           </td><td>-0.295396111                                </td><td>4.814281e-02                                </td><td> -6.1358305                                 </td><td> 8.471545e-10                               </td></tr>\n",
       "\t<tr><td>Health_Professions                          </td><td> 0.516879125                                </td><td>2.262368e-02                                </td><td> 22.8468169                                 </td><td>1.571854e-115                               </td></tr>\n",
       "\t<tr><td>Psychology                                  </td><td> 0.066940964                                </td><td>2.104869e-02                                </td><td>  3.1802911                                 </td><td> 1.471272e-03                               </td></tr>\n",
       "\t<tr><td>Immunology_and_Microbiology                 </td><td>-0.189880281                                </td><td>1.797775e-02                                </td><td>-10.5619626                                 </td><td> 4.472124e-26                               </td></tr>\n",
       "\t<tr><td>Dentistry                                   </td><td>-1.300954099                                </td><td>1.020311e-01                                </td><td>-12.7505666                                 </td><td> 3.094878e-37                               </td></tr>\n",
       "\t<tr><td>Earth_and_Planetary_Sciences                </td><td>-0.453356816                                </td><td>1.826647e-02                                </td><td>-24.8190646                                 </td><td>5.582121e-136                               </td></tr>\n",
       "\t<tr><td>Environmental_Science                       </td><td>-0.267411776                                </td><td>1.325927e-02                                </td><td>-20.1679095                                 </td><td> 1.873943e-90                               </td></tr>\n",
       "\t<tr><td>Mathematics                                 </td><td> 0.022233918                                </td><td>3.324092e-02                                </td><td>  0.6688719                                 </td><td> 5.035772e-01                               </td></tr>\n",
       "\t<tr><td>Arts_and_Humanities                         </td><td>-0.010854099                                </td><td>3.592383e-02                                </td><td> -0.3021421                                 </td><td> 7.625438e-01                               </td></tr>\n",
       "\t<tr><td>Energy                                      </td><td>-0.656152382                                </td><td>3.884100e-02                                </td><td>-16.8932906                                 </td><td> 5.041130e-64                               </td></tr>\n",
       "\t<tr><td>Veterinary                                  </td><td>-0.816432884                                </td><td>5.692339e-02                                </td><td>-14.3426606                                 </td><td> 1.184268e-46                               </td></tr>\n",
       "\t<tr><td>General                                     </td><td> 0.561725279                                </td><td>1.771687e-02                                </td><td> 31.7056706                                 </td><td>1.297797e-220                               </td></tr>\n",
       "</tbody>\n",
       "</table>\n"
      ],
      "text/latex": [
       "\\begin{tabular}{r|lllll}\n",
       " term & estimate & std.error & statistic & p.value\\\\\n",
       "\\hline\n",
       "\t (Intercept)                                  &  2.208960469                                 & 1.845744e-02                                 & 119.6786105                                  &  0.000000e+00                               \\\\\n",
       "\t genderFemale                                 &  0.057845611                                 & 6.923082e-03                                 &   8.3554713                                  &  6.517196e-17                               \\\\\n",
       "\t authorship\\_posfirst\\_position                 &  0.053602959                                     & 9.731413e-03                                     &   5.5082399                                      &  3.624392e-08                                   \\\\\n",
       "\t authorship\\_posmiddle\\_position                &  0.425991281                                     & 8.258613e-03                                     &  51.5814563                                      &  0.000000e+00                                   \\\\\n",
       "\t authorship\\_possolo\\_author                    & -0.212382646                                     & 1.864659e-02                                     & -11.3898902                                      &  4.695812e-30                                   \\\\\n",
       "\t matched\\_tid\\_follower\\_cn\\_log                  &  0.096266663                                         & 1.521672e-03                                         &  63.2637252                                          &  0.000000e+00                                       \\\\\n",
       "\t author\\_pub\\_count\\_cate                        & -0.046685868                                       & 3.347964e-03                                       & -13.9445549                                        &  3.395596e-44                                     \\\\\n",
       "\t affiliation\\_rank\\_cate                        & -0.005416488                                     & 1.159423e-03                                     &  -4.6717102                                      &  2.987021e-06                                   \\\\\n",
       "\t affiliation\\_cateinternational                & -0.176312153                                   & 6.848992e-03                                   & -25.7427885                                    & 3.882167e-146                                 \\\\\n",
       "\t num\\_authors                                  &  0.001157518                                   & 3.071838e-05                                   &  37.6816095                                    &  0.000000e+00                                 \\\\\n",
       "\t journal\\_impact                               &  0.053214689                                   & 3.381271e-04                                   & 157.3807082                                    &  0.000000e+00                                 \\\\\n",
       "\t author\\_citation\\_log                          &  0.030398432                                     & 1.853848e-03                                     &  16.3974776                                      &  1.993447e-60                                   \\\\\n",
       "\t Social\\_Sciences                              & -0.264374237                                   & 1.365934e-02                                   & -19.3548351                                    &  1.855876e-83                                 \\\\\n",
       "\t Materials\\_Science                            & -0.725058916                                   & 2.613086e-02                                   & -27.7472286                                    & 1.881953e-169                                 \\\\\n",
       "\t Engineering                                  & -0.207208606                                 & 2.235081e-02                                 &  -9.2707405                                  &  1.848580e-20                               \\\\\n",
       "\t Chemistry                                    & -1.215358577                                 & 1.860122e-02                                 & -65.3375585                                  &  0.000000e+00                               \\\\\n",
       "\t Biochemistry\\_\\_Genetics\\_and\\_Molecular\\_Biology & -0.112552855                                           & 9.405175e-03                                           & -11.9671198                                            &  5.283086e-33                                         \\\\\n",
       "\t Medicine                                     &  0.031429126                                 & 7.546648e-03                                 &   4.1646471                                  &  3.118345e-05                               \\\\\n",
       "\t Nursing                                      &  0.145497088                                 & 2.257975e-02                                 &   6.4436971                                  &  1.165976e-10                               \\\\\n",
       "\t Agricultural\\_and\\_Biological\\_Sciences         &  0.089159436                                       & 1.098244e-02                                       &   8.1183640                                        &  4.725098e-16                                     \\\\\n",
       "\t Pharmacology\\_\\_Toxicology\\_and\\_Pharmaceutics   & -0.331278320                                         & 2.462823e-02                                         & -13.4511643                                          &  3.030624e-41                                       \\\\\n",
       "\t Neuroscience                                 & -0.052112095                                 & 1.549325e-02                                 &  -3.3635357                                  &  7.695090e-04                               \\\\\n",
       "\t Business\\_\\_Management\\_and\\_Accounting          & -0.539597496                                         & 2.827465e-02                                         & -19.0841449                                          &  3.420284e-81                                       \\\\\n",
       "\t Economics\\_\\_Econometrics\\_and\\_Finance          &  0.083484704                                         & 2.960475e-02                                         &   2.8199763                                          &  4.802719e-03                                       \\\\\n",
       "\t Chemical\\_Engineering                         &  0.012316955                                   & 2.681662e-02                                   &   0.4593031                                    &  6.460165e-01                                 \\\\\n",
       "\t Physics\\_and\\_Astronomy                        & -0.687111088                                     & 2.403331e-02                                     & -28.5899464                                      & 8.959675e-180                                   \\\\\n",
       "\t Computer\\_Science                             & -0.438820385                                   & 2.410084e-02                                   & -18.2076787                                    &  4.485660e-74                                 \\\\\n",
       "\t Decision\\_Sciences                            & -0.295396111                                   & 4.814281e-02                                   &  -6.1358305                                    &  8.471545e-10                                 \\\\\n",
       "\t Health\\_Professions                           &  0.516879125                                   & 2.262368e-02                                   &  22.8468169                                    & 1.571854e-115                                 \\\\\n",
       "\t Psychology                                   &  0.066940964                                 & 2.104869e-02                                 &   3.1802911                                  &  1.471272e-03                               \\\\\n",
       "\t Immunology\\_and\\_Microbiology                  & -0.189880281                                     & 1.797775e-02                                     & -10.5619626                                      &  4.472124e-26                                   \\\\\n",
       "\t Dentistry                                    & -1.300954099                                 & 1.020311e-01                                 & -12.7505666                                  &  3.094878e-37                               \\\\\n",
       "\t Earth\\_and\\_Planetary\\_Sciences                 & -0.453356816                                       & 1.826647e-02                                       & -24.8190646                                        & 5.582121e-136                                     \\\\\n",
       "\t Environmental\\_Science                        & -0.267411776                                   & 1.325927e-02                                   & -20.1679095                                    &  1.873943e-90                                 \\\\\n",
       "\t Mathematics                                  &  0.022233918                                 & 3.324092e-02                                 &   0.6688719                                  &  5.035772e-01                               \\\\\n",
       "\t Arts\\_and\\_Humanities                          & -0.010854099                                     & 3.592383e-02                                     &  -0.3021421                                      &  7.625438e-01                                   \\\\\n",
       "\t Energy                                       & -0.656152382                                 & 3.884100e-02                                 & -16.8932906                                  &  5.041130e-64                               \\\\\n",
       "\t Veterinary                                   & -0.816432884                                 & 5.692339e-02                                 & -14.3426606                                  &  1.184268e-46                               \\\\\n",
       "\t General                                      &  0.561725279                                 & 1.771687e-02                                 &  31.7056706                                  & 1.297797e-220                               \\\\\n",
       "\\end{tabular}\n"
      ],
      "text/markdown": [
       "\n",
       "| term | estimate | std.error | statistic | p.value |\n",
       "|---|---|---|---|---|\n",
       "| (Intercept)                                  |  2.208960469                                 | 1.845744e-02                                 | 119.6786105                                  |  0.000000e+00                                |\n",
       "| genderFemale                                 |  0.057845611                                 | 6.923082e-03                                 |   8.3554713                                  |  6.517196e-17                                |\n",
       "| authorship_posfirst_position                 |  0.053602959                                 | 9.731413e-03                                 |   5.5082399                                  |  3.624392e-08                                |\n",
       "| authorship_posmiddle_position                |  0.425991281                                 | 8.258613e-03                                 |  51.5814563                                  |  0.000000e+00                                |\n",
       "| authorship_possolo_author                    | -0.212382646                                 | 1.864659e-02                                 | -11.3898902                                  |  4.695812e-30                                |\n",
       "| matched_tid_follower_cn_log                  |  0.096266663                                 | 1.521672e-03                                 |  63.2637252                                  |  0.000000e+00                                |\n",
       "| author_pub_count_cate                        | -0.046685868                                 | 3.347964e-03                                 | -13.9445549                                  |  3.395596e-44                                |\n",
       "| affiliation_rank_cate                        | -0.005416488                                 | 1.159423e-03                                 |  -4.6717102                                  |  2.987021e-06                                |\n",
       "| affiliation_cateinternational                | -0.176312153                                 | 6.848992e-03                                 | -25.7427885                                  | 3.882167e-146                                |\n",
       "| num_authors                                  |  0.001157518                                 | 3.071838e-05                                 |  37.6816095                                  |  0.000000e+00                                |\n",
       "| journal_impact                               |  0.053214689                                 | 3.381271e-04                                 | 157.3807082                                  |  0.000000e+00                                |\n",
       "| author_citation_log                          |  0.030398432                                 | 1.853848e-03                                 |  16.3974776                                  |  1.993447e-60                                |\n",
       "| Social_Sciences                              | -0.264374237                                 | 1.365934e-02                                 | -19.3548351                                  |  1.855876e-83                                |\n",
       "| Materials_Science                            | -0.725058916                                 | 2.613086e-02                                 | -27.7472286                                  | 1.881953e-169                                |\n",
       "| Engineering                                  | -0.207208606                                 | 2.235081e-02                                 |  -9.2707405                                  |  1.848580e-20                                |\n",
       "| Chemistry                                    | -1.215358577                                 | 1.860122e-02                                 | -65.3375585                                  |  0.000000e+00                                |\n",
       "| Biochemistry__Genetics_and_Molecular_Biology | -0.112552855                                 | 9.405175e-03                                 | -11.9671198                                  |  5.283086e-33                                |\n",
       "| Medicine                                     |  0.031429126                                 | 7.546648e-03                                 |   4.1646471                                  |  3.118345e-05                                |\n",
       "| Nursing                                      |  0.145497088                                 | 2.257975e-02                                 |   6.4436971                                  |  1.165976e-10                                |\n",
       "| Agricultural_and_Biological_Sciences         |  0.089159436                                 | 1.098244e-02                                 |   8.1183640                                  |  4.725098e-16                                |\n",
       "| Pharmacology__Toxicology_and_Pharmaceutics   | -0.331278320                                 | 2.462823e-02                                 | -13.4511643                                  |  3.030624e-41                                |\n",
       "| Neuroscience                                 | -0.052112095                                 | 1.549325e-02                                 |  -3.3635357                                  |  7.695090e-04                                |\n",
       "| Business__Management_and_Accounting          | -0.539597496                                 | 2.827465e-02                                 | -19.0841449                                  |  3.420284e-81                                |\n",
       "| Economics__Econometrics_and_Finance          |  0.083484704                                 | 2.960475e-02                                 |   2.8199763                                  |  4.802719e-03                                |\n",
       "| Chemical_Engineering                         |  0.012316955                                 | 2.681662e-02                                 |   0.4593031                                  |  6.460165e-01                                |\n",
       "| Physics_and_Astronomy                        | -0.687111088                                 | 2.403331e-02                                 | -28.5899464                                  | 8.959675e-180                                |\n",
       "| Computer_Science                             | -0.438820385                                 | 2.410084e-02                                 | -18.2076787                                  |  4.485660e-74                                |\n",
       "| Decision_Sciences                            | -0.295396111                                 | 4.814281e-02                                 |  -6.1358305                                  |  8.471545e-10                                |\n",
       "| Health_Professions                           |  0.516879125                                 | 2.262368e-02                                 |  22.8468169                                  | 1.571854e-115                                |\n",
       "| Psychology                                   |  0.066940964                                 | 2.104869e-02                                 |   3.1802911                                  |  1.471272e-03                                |\n",
       "| Immunology_and_Microbiology                  | -0.189880281                                 | 1.797775e-02                                 | -10.5619626                                  |  4.472124e-26                                |\n",
       "| Dentistry                                    | -1.300954099                                 | 1.020311e-01                                 | -12.7505666                                  |  3.094878e-37                                |\n",
       "| Earth_and_Planetary_Sciences                 | -0.453356816                                 | 1.826647e-02                                 | -24.8190646                                  | 5.582121e-136                                |\n",
       "| Environmental_Science                        | -0.267411776                                 | 1.325927e-02                                 | -20.1679095                                  |  1.873943e-90                                |\n",
       "| Mathematics                                  |  0.022233918                                 | 3.324092e-02                                 |   0.6688719                                  |  5.035772e-01                                |\n",
       "| Arts_and_Humanities                          | -0.010854099                                 | 3.592383e-02                                 |  -0.3021421                                  |  7.625438e-01                                |\n",
       "| Energy                                       | -0.656152382                                 | 3.884100e-02                                 | -16.8932906                                  |  5.041130e-64                                |\n",
       "| Veterinary                                   | -0.816432884                                 | 5.692339e-02                                 | -14.3426606                                  |  1.184268e-46                                |\n",
       "| General                                      |  0.561725279                                 | 1.771687e-02                                 |  31.7056706                                  | 1.297797e-220                                |\n",
       "\n"
      ],
      "text/plain": [
       "   term                                         estimate     std.error   \n",
       "1  (Intercept)                                   2.208960469 1.845744e-02\n",
       "2  genderFemale                                  0.057845611 6.923082e-03\n",
       "3  authorship_posfirst_position                  0.053602959 9.731413e-03\n",
       "4  authorship_posmiddle_position                 0.425991281 8.258613e-03\n",
       "5  authorship_possolo_author                    -0.212382646 1.864659e-02\n",
       "6  matched_tid_follower_cn_log                   0.096266663 1.521672e-03\n",
       "7  author_pub_count_cate                        -0.046685868 3.347964e-03\n",
       "8  affiliation_rank_cate                        -0.005416488 1.159423e-03\n",
       "9  affiliation_cateinternational                -0.176312153 6.848992e-03\n",
       "10 num_authors                                   0.001157518 3.071838e-05\n",
       "11 journal_impact                                0.053214689 3.381271e-04\n",
       "12 author_citation_log                           0.030398432 1.853848e-03\n",
       "13 Social_Sciences                              -0.264374237 1.365934e-02\n",
       "14 Materials_Science                            -0.725058916 2.613086e-02\n",
       "15 Engineering                                  -0.207208606 2.235081e-02\n",
       "16 Chemistry                                    -1.215358577 1.860122e-02\n",
       "17 Biochemistry__Genetics_and_Molecular_Biology -0.112552855 9.405175e-03\n",
       "18 Medicine                                      0.031429126 7.546648e-03\n",
       "19 Nursing                                       0.145497088 2.257975e-02\n",
       "20 Agricultural_and_Biological_Sciences          0.089159436 1.098244e-02\n",
       "21 Pharmacology__Toxicology_and_Pharmaceutics   -0.331278320 2.462823e-02\n",
       "22 Neuroscience                                 -0.052112095 1.549325e-02\n",
       "23 Business__Management_and_Accounting          -0.539597496 2.827465e-02\n",
       "24 Economics__Econometrics_and_Finance           0.083484704 2.960475e-02\n",
       "25 Chemical_Engineering                          0.012316955 2.681662e-02\n",
       "26 Physics_and_Astronomy                        -0.687111088 2.403331e-02\n",
       "27 Computer_Science                             -0.438820385 2.410084e-02\n",
       "28 Decision_Sciences                            -0.295396111 4.814281e-02\n",
       "29 Health_Professions                            0.516879125 2.262368e-02\n",
       "30 Psychology                                    0.066940964 2.104869e-02\n",
       "31 Immunology_and_Microbiology                  -0.189880281 1.797775e-02\n",
       "32 Dentistry                                    -1.300954099 1.020311e-01\n",
       "33 Earth_and_Planetary_Sciences                 -0.453356816 1.826647e-02\n",
       "34 Environmental_Science                        -0.267411776 1.325927e-02\n",
       "35 Mathematics                                   0.022233918 3.324092e-02\n",
       "36 Arts_and_Humanities                          -0.010854099 3.592383e-02\n",
       "37 Energy                                       -0.656152382 3.884100e-02\n",
       "38 Veterinary                                   -0.816432884 5.692339e-02\n",
       "39 General                                       0.561725279 1.771687e-02\n",
       "   statistic   p.value      \n",
       "1  119.6786105  0.000000e+00\n",
       "2    8.3554713  6.517196e-17\n",
       "3    5.5082399  3.624392e-08\n",
       "4   51.5814563  0.000000e+00\n",
       "5  -11.3898902  4.695812e-30\n",
       "6   63.2637252  0.000000e+00\n",
       "7  -13.9445549  3.395596e-44\n",
       "8   -4.6717102  2.987021e-06\n",
       "9  -25.7427885 3.882167e-146\n",
       "10  37.6816095  0.000000e+00\n",
       "11 157.3807082  0.000000e+00\n",
       "12  16.3974776  1.993447e-60\n",
       "13 -19.3548351  1.855876e-83\n",
       "14 -27.7472286 1.881953e-169\n",
       "15  -9.2707405  1.848580e-20\n",
       "16 -65.3375585  0.000000e+00\n",
       "17 -11.9671198  5.283086e-33\n",
       "18   4.1646471  3.118345e-05\n",
       "19   6.4436971  1.165976e-10\n",
       "20   8.1183640  4.725098e-16\n",
       "21 -13.4511643  3.030624e-41\n",
       "22  -3.3635357  7.695090e-04\n",
       "23 -19.0841449  3.420284e-81\n",
       "24   2.8199763  4.802719e-03\n",
       "25   0.4593031  6.460165e-01\n",
       "26 -28.5899464 8.959675e-180\n",
       "27 -18.2076787  4.485660e-74\n",
       "28  -6.1358305  8.471545e-10\n",
       "29  22.8468169 1.571854e-115\n",
       "30   3.1802911  1.471272e-03\n",
       "31 -10.5619626  4.472124e-26\n",
       "32 -12.7505666  3.094878e-37\n",
       "33 -24.8190646 5.582121e-136\n",
       "34 -20.1679095  1.873943e-90\n",
       "35   0.6688719  5.035772e-01\n",
       "36  -0.3021421  7.625438e-01\n",
       "37 -16.8932906  5.041130e-64\n",
       "38 -14.3426606  1.184268e-46\n",
       "39  31.7056706 1.297797e-220"
      ]
     },
     "metadata": {},
     "output_type": "display_data"
    }
   ],
   "source": [
    "tidy(m_yes)"
   ]
  },
  {
   "cell_type": "code",
   "execution_count": 36,
   "id": "fdbcc005",
   "metadata": {
    "scrolled": true
   },
   "outputs": [
    {
     "name": "stdout",
     "output_type": "stream",
     "text": [
      "\n",
      "% Table created by stargazer v.5.2.2 by Marek Hlavac, Harvard University. E-mail: hlavac at fas.harvard.edu\n",
      "% Date and time: Tue, May 10, 2022 - 04:10:07 PM\n",
      "\\begin{table}[!htbp] \\centering \n",
      "  \\caption{} \n",
      "  \\label{} \n",
      "\\begin{tabular}{@{\\extracolsep{5pt}}lc} \n",
      "\\\\[-1.8ex]\\hline \n",
      "\\hline \\\\[-1.8ex] \n",
      " & \\multicolumn{1}{c}{\\textit{Dependent variable:}} \\\\ \n",
      "\\cline{2-2} \n",
      "\\\\[-1.8ex] & num\\_non\\_scientists \\\\ \n",
      "\\hline \\\\[-1.8ex] \n",
      " genderFemale & 0.058$^{***}$ \\\\ \n",
      "  & p = 0.000 \\\\ \n",
      "  authorship\\_posfirst\\_position & 0.054$^{***}$ \\\\ \n",
      "  & p = 0.00000 \\\\ \n",
      "  authorship\\_posmiddle\\_position & 0.426$^{***}$ \\\\ \n",
      "  & p = 0.000 \\\\ \n",
      "  authorship\\_possolo\\_author & $-$0.212$^{***}$ \\\\ \n",
      "  & p = 0.000 \\\\ \n",
      "  matched\\_tid\\_follower\\_cn\\_log & 0.096$^{***}$ \\\\ \n",
      "  & p = 0.000 \\\\ \n",
      "  author\\_pub\\_count\\_cate & $-$0.047$^{***}$ \\\\ \n",
      "  & p = 0.000 \\\\ \n",
      "  affiliation\\_rank\\_cate & $-$0.005$^{***}$ \\\\ \n",
      "  & p = 0.00001 \\\\ \n",
      "  affiliation\\_cateinternational & $-$0.176$^{***}$ \\\\ \n",
      "  & p = 0.000 \\\\ \n",
      "  num\\_authors & 0.001$^{***}$ \\\\ \n",
      "  & p = 0.000 \\\\ \n",
      "  journal\\_impact & 0.053$^{***}$ \\\\ \n",
      "  & p = 0.000 \\\\ \n",
      "  author\\_citation\\_log & 0.030$^{***}$ \\\\ \n",
      "  & p = 0.000 \\\\ \n",
      "  Social\\_Sciences & $-$0.264$^{***}$ \\\\ \n",
      "  & p = 0.000 \\\\ \n",
      "  Materials\\_Science & $-$0.725$^{***}$ \\\\ \n",
      "  & p = 0.000 \\\\ \n",
      "  Engineering & $-$0.207$^{***}$ \\\\ \n",
      "  & p = 0.000 \\\\ \n",
      "  Chemistry & $-$1.215$^{***}$ \\\\ \n",
      "  & p = 0.000 \\\\ \n",
      "  Biochemistry\\_\\_Genetics\\_and\\_Molecular\\_Biology & $-$0.113$^{***}$ \\\\ \n",
      "  & p = 0.000 \\\\ \n",
      "  Medicine & 0.031$^{***}$ \\\\ \n",
      "  & p = 0.00004 \\\\ \n",
      "  Nursing & 0.145$^{***}$ \\\\ \n",
      "  & p = 0.000 \\\\ \n",
      "  Agricultural\\_and\\_Biological\\_Sciences & 0.089$^{***}$ \\\\ \n",
      "  & p = 0.000 \\\\ \n",
      "  Pharmacology\\_\\_Toxicology\\_and\\_Pharmaceutics & $-$0.331$^{***}$ \\\\ \n",
      "  & p = 0.000 \\\\ \n",
      "  Neuroscience & $-$0.052$^{***}$ \\\\ \n",
      "  & p = 0.001 \\\\ \n",
      "  Business\\_\\_Management\\_and\\_Accounting & $-$0.540$^{***}$ \\\\ \n",
      "  & p = 0.000 \\\\ \n",
      "  Economics\\_\\_Econometrics\\_and\\_Finance & 0.083$^{**}$ \\\\ \n",
      "  & p = 0.005 \\\\ \n",
      "  Chemical\\_Engineering & 0.012 \\\\ \n",
      "  & p = 0.647 \\\\ \n",
      "  Physics\\_and\\_Astronomy & $-$0.687$^{***}$ \\\\ \n",
      "  & p = 0.000 \\\\ \n",
      "  Computer\\_Science & $-$0.439$^{***}$ \\\\ \n",
      "  & p = 0.000 \\\\ \n",
      "  Decision\\_Sciences & $-$0.295$^{***}$ \\\\ \n",
      "  & p = 0.000 \\\\ \n",
      "  Health\\_Professions & 0.517$^{***}$ \\\\ \n",
      "  & p = 0.000 \\\\ \n",
      "  Psychology & 0.067$^{**}$ \\\\ \n",
      "  & p = 0.002 \\\\ \n",
      "  Immunology\\_and\\_Microbiology & $-$0.190$^{***}$ \\\\ \n",
      "  & p = 0.000 \\\\ \n",
      "  Dentistry & $-$1.301$^{***}$ \\\\ \n",
      "  & p = 0.000 \\\\ \n",
      "  Earth\\_and\\_Planetary\\_Sciences & $-$0.453$^{***}$ \\\\ \n",
      "  & p = 0.000 \\\\ \n",
      "  Environmental\\_Science & $-$0.267$^{***}$ \\\\ \n",
      "  & p = 0.000 \\\\ \n",
      "  Mathematics & 0.022 \\\\ \n",
      "  & p = 0.504 \\\\ \n",
      "  Arts\\_and\\_Humanities & $-$0.011 \\\\ \n",
      "  & p = 0.763 \\\\ \n",
      "  Energy & $-$0.656$^{***}$ \\\\ \n",
      "  & p = 0.000 \\\\ \n",
      "  Veterinary & $-$0.816$^{***}$ \\\\ \n",
      "  & p = 0.000 \\\\ \n",
      "  General & 0.562$^{***}$ \\\\ \n",
      "  & p = 0.000 \\\\ \n",
      "  Constant & 2.209$^{***}$ \\\\ \n",
      "  & p = 0.000 \\\\ \n",
      " \\hline \\\\[-1.8ex] \n",
      "Observations & 173,594 \\\\ \n",
      "Log Likelihood & $-$774,111.600 \\\\ \n",
      "$\\theta$ & 0.610$^{***}$  (0.002) \\\\ \n",
      "Akaike Inf. Crit. & 1,548,301.000 \\\\ \n",
      "\\hline \n",
      "\\hline \\\\[-1.8ex] \n",
      "\\textit{Note:}  & \\multicolumn{1}{r}{$^{*}$p$<$0.05; $^{**}$p$<$0.01; $^{***}$p$<$0.001} \\\\ \n",
      "\\end{tabular} \n",
      "\\end{table} \n"
     ]
    }
   ],
   "source": [
    "# use this search string in Sublime: \" \\\\\\\\ \\n  &\" with \" &\"\n",
    "stargazer(m_yes, type = \"latex\", single.row=TRUE, ci = FALSE, report = ('vc*p'), star.cutoffs = c(0.05, 0.01, 0.001))"
   ]
  },
  {
   "cell_type": "code",
   "execution_count": null,
   "id": "673b176a",
   "metadata": {},
   "outputs": [],
   "source": []
  }
 ],
 "metadata": {
  "kernelspec": {
   "display_name": "R",
   "language": "R",
   "name": "ir"
  },
  "language_info": {
   "codemirror_mode": "r",
   "file_extension": ".r",
   "mimetype": "text/x-r-source",
   "name": "R",
   "pygments_lexer": "r",
   "version": "3.6.1"
  }
 },
 "nbformat": 4,
 "nbformat_minor": 5
}
